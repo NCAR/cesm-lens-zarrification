{
 "cells": [
  {
   "cell_type": "code",
   "execution_count": 1,
   "metadata": {},
   "outputs": [],
   "source": [
    "import warnings\n",
    "warnings.filterwarnings(\"ignore\")\n",
    "import intake\n",
    "import shutil\n",
    "import os \n",
    "import xarray as xr"
   ]
  },
  {
   "cell_type": "code",
   "execution_count": 2,
   "metadata": {},
   "outputs": [
    {
     "name": "stdout",
     "output_type": "stream",
     "text": [
      "Getting file listing: CTRL:SAMPLE-DATA:posix:../sample-data/cesm-le-cdf\n"
     ]
    },
    {
     "data": {
      "application/vnd.jupyter.widget-view+json": {
       "model_id": "a940cdec577549e7a5093925ea8e4e6a",
       "version_major": 2,
       "version_minor": 0
      },
      "text/plain": [
       "HBox(children=(IntProgress(value=0, description='file listing', max=214, style=ProgressStyle(description_width…"
      ]
     },
     "metadata": {},
     "output_type": "display_data"
    },
    {
     "name": "stdout",
     "output_type": "stream",
     "text": [
      "\n",
      "Getting file listing: 20C:SAMPLE-DATA:posix:../sample-data/cesm-le-cdf\n"
     ]
    },
    {
     "data": {
      "application/vnd.jupyter.widget-view+json": {
       "model_id": "7fc379d1b1f245a69dd4c1bf285ee535",
       "version_major": 2,
       "version_minor": 0
      },
      "text/plain": [
       "HBox(children=(IntProgress(value=0, description='file listing', max=214, style=ProgressStyle(description_width…"
      ]
     },
     "metadata": {},
     "output_type": "display_data"
    },
    {
     "name": "stdout",
     "output_type": "stream",
     "text": [
      "\n",
      "Getting file listing: RCP85:SAMPLE-DATA:posix:../sample-data/cesm-le-cdf\n"
     ]
    },
    {
     "data": {
      "application/vnd.jupyter.widget-view+json": {
       "model_id": "fc85cb1e61a74e0cab0716cd967e8321",
       "version_major": 2,
       "version_minor": 0
      },
      "text/plain": [
       "HBox(children=(IntProgress(value=0, description='file listing', max=214, style=ProgressStyle(description_width…"
      ]
     },
     "metadata": {},
     "output_type": "display_data"
    },
    {
     "name": "stdout",
     "output_type": "stream",
     "text": [
      "\n",
      "<class 'pandas.core.frame.DataFrame'>\n",
      "RangeIndex: 214 entries, 0 to 213\n",
      "Data columns (total 18 columns):\n",
      "resource            214 non-null object\n",
      "resource_type       214 non-null object\n",
      "direct_access       214 non-null object\n",
      "experiment          214 non-null object\n",
      "case                214 non-null object\n",
      "component           214 non-null object\n",
      "stream              214 non-null object\n",
      "variable            214 non-null object\n",
      "date_range          214 non-null object\n",
      "member_id           214 non-null object\n",
      "file_fullpath       214 non-null object\n",
      "file_basename       214 non-null object\n",
      "file_dirname        214 non-null object\n",
      "ctrl_branch_year    0 non-null object\n",
      "year_offset         36 non-null object\n",
      "sequence_order      214 non-null object\n",
      "has_ocean_bgc       214 non-null object\n",
      "grid                214 non-null object\n",
      "dtypes: object(18)\n",
      "memory usage: 30.2+ KB\n",
      "None\n",
      "Persisting cesm1-le-sample-cdf at : /glade/u/home/abanihi/.intake_esm/collections/cesm/cesm1-le-sample-cdf.cesm.csv\n"
     ]
    }
   ],
   "source": [
    "col = intake.open_esm_metadatastore(collection_input_definition=\"cesm-le-sample.yml\", overwrite_existing=True)"
   ]
  },
  {
   "cell_type": "code",
   "execution_count": 3,
   "metadata": {},
   "outputs": [
    {
     "data": {
      "text/html": [
       "<div>\n",
       "<style scoped>\n",
       "    .dataframe tbody tr th:only-of-type {\n",
       "        vertical-align: middle;\n",
       "    }\n",
       "\n",
       "    .dataframe tbody tr th {\n",
       "        vertical-align: top;\n",
       "    }\n",
       "\n",
       "    .dataframe thead th {\n",
       "        text-align: right;\n",
       "    }\n",
       "</style>\n",
       "<table border=\"1\" class=\"dataframe\">\n",
       "  <thead>\n",
       "    <tr style=\"text-align: right;\">\n",
       "      <th></th>\n",
       "      <th>resource</th>\n",
       "      <th>resource_type</th>\n",
       "      <th>direct_access</th>\n",
       "      <th>experiment</th>\n",
       "      <th>case</th>\n",
       "      <th>component</th>\n",
       "      <th>stream</th>\n",
       "      <th>variable</th>\n",
       "      <th>date_range</th>\n",
       "      <th>member_id</th>\n",
       "      <th>file_fullpath</th>\n",
       "      <th>file_basename</th>\n",
       "      <th>file_dirname</th>\n",
       "      <th>ctrl_branch_year</th>\n",
       "      <th>year_offset</th>\n",
       "      <th>sequence_order</th>\n",
       "      <th>has_ocean_bgc</th>\n",
       "      <th>grid</th>\n",
       "    </tr>\n",
       "  </thead>\n",
       "  <tbody>\n",
       "    <tr>\n",
       "      <th>0</th>\n",
       "      <td>CTRL:SAMPLE-DATA:posix:../sample-data/cesm-le-cdf</td>\n",
       "      <td>posix</td>\n",
       "      <td>True</td>\n",
       "      <td>CTRL</td>\n",
       "      <td>b.e11.B1850C5CN.f09_g16.005</td>\n",
       "      <td>ocn</td>\n",
       "      <td>pop.h</td>\n",
       "      <td>SHF</td>\n",
       "      <td>080001-089912</td>\n",
       "      <td>0</td>\n",
       "      <td>/glade/work/abanihi/devel/ncar/lens-on-aws/sam...</td>\n",
       "      <td>b.e11.B1850C5CN.f09_g16.005.pop.h.SHF.080001-0...</td>\n",
       "      <td>/glade/work/abanihi/devel/ncar/lens-on-aws/sam...</td>\n",
       "      <td>NaN</td>\n",
       "      <td>1448.0</td>\n",
       "      <td>0</td>\n",
       "      <td>True</td>\n",
       "      <td>POP_gx1v6</td>\n",
       "    </tr>\n",
       "    <tr>\n",
       "      <th>1</th>\n",
       "      <td>CTRL:SAMPLE-DATA:posix:../sample-data/cesm-le-cdf</td>\n",
       "      <td>posix</td>\n",
       "      <td>True</td>\n",
       "      <td>CTRL</td>\n",
       "      <td>b.e11.B1850C5CN.f09_g16.005</td>\n",
       "      <td>ocn</td>\n",
       "      <td>pop.h</td>\n",
       "      <td>STF_O2</td>\n",
       "      <td>090001-099912</td>\n",
       "      <td>0</td>\n",
       "      <td>/glade/work/abanihi/devel/ncar/lens-on-aws/sam...</td>\n",
       "      <td>b.e11.B1850C5CN.f09_g16.005.pop.h.STF_O2.09000...</td>\n",
       "      <td>/glade/work/abanihi/devel/ncar/lens-on-aws/sam...</td>\n",
       "      <td>NaN</td>\n",
       "      <td>1448.0</td>\n",
       "      <td>0</td>\n",
       "      <td>True</td>\n",
       "      <td>POP_gx1v6</td>\n",
       "    </tr>\n",
       "    <tr>\n",
       "      <th>2</th>\n",
       "      <td>CTRL:SAMPLE-DATA:posix:../sample-data/cesm-le-cdf</td>\n",
       "      <td>posix</td>\n",
       "      <td>True</td>\n",
       "      <td>CTRL</td>\n",
       "      <td>b.e11.B1850C5CN.f09_g16.005</td>\n",
       "      <td>ocn</td>\n",
       "      <td>pop.h</td>\n",
       "      <td>SHF</td>\n",
       "      <td>180001-189912</td>\n",
       "      <td>0</td>\n",
       "      <td>/glade/work/abanihi/devel/ncar/lens-on-aws/sam...</td>\n",
       "      <td>b.e11.B1850C5CN.f09_g16.005.pop.h.SHF.180001-1...</td>\n",
       "      <td>/glade/work/abanihi/devel/ncar/lens-on-aws/sam...</td>\n",
       "      <td>NaN</td>\n",
       "      <td>1448.0</td>\n",
       "      <td>0</td>\n",
       "      <td>True</td>\n",
       "      <td>POP_gx1v6</td>\n",
       "    </tr>\n",
       "    <tr>\n",
       "      <th>3</th>\n",
       "      <td>CTRL:SAMPLE-DATA:posix:../sample-data/cesm-le-cdf</td>\n",
       "      <td>posix</td>\n",
       "      <td>True</td>\n",
       "      <td>CTRL</td>\n",
       "      <td>b.e11.B1850C5CN.f09_g16.005</td>\n",
       "      <td>ocn</td>\n",
       "      <td>pop.h</td>\n",
       "      <td>SHF</td>\n",
       "      <td>060001-069912</td>\n",
       "      <td>0</td>\n",
       "      <td>/glade/work/abanihi/devel/ncar/lens-on-aws/sam...</td>\n",
       "      <td>b.e11.B1850C5CN.f09_g16.005.pop.h.SHF.060001-0...</td>\n",
       "      <td>/glade/work/abanihi/devel/ncar/lens-on-aws/sam...</td>\n",
       "      <td>NaN</td>\n",
       "      <td>1448.0</td>\n",
       "      <td>0</td>\n",
       "      <td>True</td>\n",
       "      <td>POP_gx1v6</td>\n",
       "    </tr>\n",
       "    <tr>\n",
       "      <th>4</th>\n",
       "      <td>CTRL:SAMPLE-DATA:posix:../sample-data/cesm-le-cdf</td>\n",
       "      <td>posix</td>\n",
       "      <td>True</td>\n",
       "      <td>CTRL</td>\n",
       "      <td>b.e11.B1850C5CN.f09_g16.005</td>\n",
       "      <td>ocn</td>\n",
       "      <td>pop.h</td>\n",
       "      <td>STF_O2</td>\n",
       "      <td>040001-049912</td>\n",
       "      <td>0</td>\n",
       "      <td>/glade/work/abanihi/devel/ncar/lens-on-aws/sam...</td>\n",
       "      <td>b.e11.B1850C5CN.f09_g16.005.pop.h.STF_O2.04000...</td>\n",
       "      <td>/glade/work/abanihi/devel/ncar/lens-on-aws/sam...</td>\n",
       "      <td>NaN</td>\n",
       "      <td>1448.0</td>\n",
       "      <td>0</td>\n",
       "      <td>True</td>\n",
       "      <td>POP_gx1v6</td>\n",
       "    </tr>\n",
       "  </tbody>\n",
       "</table>\n",
       "</div>"
      ],
      "text/plain": [
       "                                            resource resource_type  \\\n",
       "0  CTRL:SAMPLE-DATA:posix:../sample-data/cesm-le-cdf         posix   \n",
       "1  CTRL:SAMPLE-DATA:posix:../sample-data/cesm-le-cdf         posix   \n",
       "2  CTRL:SAMPLE-DATA:posix:../sample-data/cesm-le-cdf         posix   \n",
       "3  CTRL:SAMPLE-DATA:posix:../sample-data/cesm-le-cdf         posix   \n",
       "4  CTRL:SAMPLE-DATA:posix:../sample-data/cesm-le-cdf         posix   \n",
       "\n",
       "   direct_access experiment                         case component stream  \\\n",
       "0           True       CTRL  b.e11.B1850C5CN.f09_g16.005       ocn  pop.h   \n",
       "1           True       CTRL  b.e11.B1850C5CN.f09_g16.005       ocn  pop.h   \n",
       "2           True       CTRL  b.e11.B1850C5CN.f09_g16.005       ocn  pop.h   \n",
       "3           True       CTRL  b.e11.B1850C5CN.f09_g16.005       ocn  pop.h   \n",
       "4           True       CTRL  b.e11.B1850C5CN.f09_g16.005       ocn  pop.h   \n",
       "\n",
       "  variable     date_range  member_id  \\\n",
       "0      SHF  080001-089912          0   \n",
       "1   STF_O2  090001-099912          0   \n",
       "2      SHF  180001-189912          0   \n",
       "3      SHF  060001-069912          0   \n",
       "4   STF_O2  040001-049912          0   \n",
       "\n",
       "                                       file_fullpath  \\\n",
       "0  /glade/work/abanihi/devel/ncar/lens-on-aws/sam...   \n",
       "1  /glade/work/abanihi/devel/ncar/lens-on-aws/sam...   \n",
       "2  /glade/work/abanihi/devel/ncar/lens-on-aws/sam...   \n",
       "3  /glade/work/abanihi/devel/ncar/lens-on-aws/sam...   \n",
       "4  /glade/work/abanihi/devel/ncar/lens-on-aws/sam...   \n",
       "\n",
       "                                       file_basename  \\\n",
       "0  b.e11.B1850C5CN.f09_g16.005.pop.h.SHF.080001-0...   \n",
       "1  b.e11.B1850C5CN.f09_g16.005.pop.h.STF_O2.09000...   \n",
       "2  b.e11.B1850C5CN.f09_g16.005.pop.h.SHF.180001-1...   \n",
       "3  b.e11.B1850C5CN.f09_g16.005.pop.h.SHF.060001-0...   \n",
       "4  b.e11.B1850C5CN.f09_g16.005.pop.h.STF_O2.04000...   \n",
       "\n",
       "                                        file_dirname  ctrl_branch_year  \\\n",
       "0  /glade/work/abanihi/devel/ncar/lens-on-aws/sam...               NaN   \n",
       "1  /glade/work/abanihi/devel/ncar/lens-on-aws/sam...               NaN   \n",
       "2  /glade/work/abanihi/devel/ncar/lens-on-aws/sam...               NaN   \n",
       "3  /glade/work/abanihi/devel/ncar/lens-on-aws/sam...               NaN   \n",
       "4  /glade/work/abanihi/devel/ncar/lens-on-aws/sam...               NaN   \n",
       "\n",
       "   year_offset  sequence_order  has_ocean_bgc       grid  \n",
       "0       1448.0               0           True  POP_gx1v6  \n",
       "1       1448.0               0           True  POP_gx1v6  \n",
       "2       1448.0               0           True  POP_gx1v6  \n",
       "3       1448.0               0           True  POP_gx1v6  \n",
       "4       1448.0               0           True  POP_gx1v6  "
      ]
     },
     "execution_count": 3,
     "metadata": {},
     "output_type": "execute_result"
    }
   ],
   "source": [
    "col.df.head()"
   ]
  },
  {
   "cell_type": "code",
   "execution_count": 4,
   "metadata": {},
   "outputs": [
    {
     "name": "stdout",
     "output_type": "stream",
     "text": [
      "There are:\n",
      "\n",
      "\t1) 3 experiments: \n",
      "\n",
      "\t\t['CTRL' '20C' 'RCP85']\n",
      "\n",
      "\t2) 65 cases: \n",
      "\n",
      "\t\t['b.e11.B1850C5CN.f09_g16.005' 'b.e11.B20TRC5CNBDRD.f09_g16.105'\n",
      " 'b.e11.B20TRC5CNBDRD.f09_g16.104' 'b.e11.B20TRC5CNBDRD.f09_g16.103'\n",
      " 'b.e11.B20TRC5CNBDRD.f09_g16.102'] etc...\n",
      "\n",
      "\t3) 1 components: \n",
      "\n",
      "\t\t['ocn']\n",
      "\n",
      "\t4) 1 streams: \n",
      "\n",
      "\t\t['pop.h']\n",
      "\n",
      "\t5) 2 variables: \n",
      "\n",
      "\t\t['SHF' 'STF_O2'] etc...\n",
      "\n"
     ]
    }
   ],
   "source": [
    "def collection_summary(col):\n",
    "    df = col.df\n",
    "    print(\"There are:\\n\")\n",
    "    print(f\"\\t1) {df.experiment.nunique()} experiments: \\n\\n\\t\\t{df.experiment.unique()}\\n\")\n",
    "    print(f\"\\t2) {df.case.nunique()} cases: \\n\\n\\t\\t{df.case.unique()[:5]} etc...\\n\")\n",
    "    print(f\"\\t3) {df.component.nunique()} components: \\n\\n\\t\\t{df.component.unique()}\\n\")\n",
    "    print(f\"\\t4) {df.stream.nunique()} streams: \\n\\n\\t\\t{df.stream.unique()}\\n\")\n",
    "    print(f\"\\t5) {df.variable.nunique()} variables: \\n\\n\\t\\t{df.variable.unique()[:10]} etc...\\n\")\n",
    "    \n",
    "collection_summary(col)"
   ]
  },
  {
   "cell_type": "code",
   "execution_count": 5,
   "metadata": {},
   "outputs": [],
   "source": [
    "zarr_root_dir = \"../sample-data/cesm-le-zarr\"\n",
    "\n",
    "def create_zarr_store(experiment, component, stream, variable, dirout=zarr_root_dir):\n",
    "    path = f'{dirout}/CESM-LE.{experiment}.{component}.{stream}.{variable}.zarr'\n",
    "    if os.path.exists(path):\n",
    "        shutil.rmtree(path)\n",
    "    print(path)\n",
    "    return path"
   ]
  },
  {
   "cell_type": "code",
   "execution_count": 6,
   "metadata": {},
   "outputs": [],
   "source": [
    "xr_open = dict(decode_times=False, decode_coords=False)\n",
    "def cdf_to_zarr(df):\n",
    "    exps = df.groupby('experiment')\n",
    "    for exp, exp_gps in exps:\n",
    "        comps = exp_gps.groupby('component')\n",
    "        for comp, comp_gps in comps:\n",
    "            streams = comp_gps.groupby('stream')\n",
    "            for stream, stream_gps in streams:\n",
    "                variables = stream_gps['variable'].unique()\n",
    "                for variable in variables:\n",
    "                    dd = col.search(experiment=exp, component=comp, stream=stream, variable=variable)\n",
    "                    \n",
    "                    try:\n",
    "                        dsets = dd.to_xarray(**xr_open)\n",
    "                        _, ds = dsets.popitem()\n",
    "                        path = create_zarr_store(exp, comp, stream, variable)\n",
    "                        ds.to_zarr(path)\n",
    "                    except Exception as e:\n",
    "                        print(dd.query)\n",
    "                        print(e)"
   ]
  },
  {
   "cell_type": "code",
   "execution_count": 7,
   "metadata": {},
   "outputs": [
    {
     "data": {
      "application/vnd.jupyter.widget-view+json": {
       "model_id": "adb1568d2d9a4de6b0969c110f9a08b7",
       "version_major": 2,
       "version_minor": 0
      },
      "text/plain": [
       "HBox(children=(IntProgress(value=0, description='dataset', max=1, style=ProgressStyle(description_width='initi…"
      ]
     },
     "metadata": {},
     "output_type": "display_data"
    },
    {
     "data": {
      "application/vnd.jupyter.widget-view+json": {
       "model_id": "804a59fd00bb4940a88de3ac1248582a",
       "version_major": 2,
       "version_minor": 0
      },
      "text/plain": [
       "HBox(children=(IntProgress(value=0, description='member', max=32, style=ProgressStyle(description_width='initi…"
      ]
     },
     "metadata": {},
     "output_type": "display_data"
    },
    {
     "name": "stdout",
     "output_type": "stream",
     "text": [
      "\n",
      "../sample-data/cesm-le-zarr/CESM-LE.20C.ocn.pop.h.STF_O2.zarr\n"
     ]
    },
    {
     "data": {
      "application/vnd.jupyter.widget-view+json": {
       "model_id": "8b715a5f19fd43e9907dae9702e2dcae",
       "version_major": 2,
       "version_minor": 0
      },
      "text/plain": [
       "HBox(children=(IntProgress(value=0, description='dataset', max=1, style=ProgressStyle(description_width='initi…"
      ]
     },
     "metadata": {},
     "output_type": "display_data"
    },
    {
     "data": {
      "application/vnd.jupyter.widget-view+json": {
       "model_id": "a3e51d98d497434a923973b46645ab43",
       "version_major": 2,
       "version_minor": 0
      },
      "text/plain": [
       "HBox(children=(IntProgress(value=0, description='member', max=32, style=ProgressStyle(description_width='initi…"
      ]
     },
     "metadata": {},
     "output_type": "display_data"
    },
    {
     "name": "stdout",
     "output_type": "stream",
     "text": [
      "\n",
      "../sample-data/cesm-le-zarr/CESM-LE.20C.ocn.pop.h.SHF.zarr\n"
     ]
    },
    {
     "data": {
      "application/vnd.jupyter.widget-view+json": {
       "model_id": "67310d97f0a748f6a941aa2d53cdfb39",
       "version_major": 2,
       "version_minor": 0
      },
      "text/plain": [
       "HBox(children=(IntProgress(value=0, description='dataset', max=1, style=ProgressStyle(description_width='initi…"
      ]
     },
     "metadata": {},
     "output_type": "display_data"
    },
    {
     "data": {
      "application/vnd.jupyter.widget-view+json": {
       "model_id": "04ddef81730e4715b46eaf43950a0bd2",
       "version_major": 2,
       "version_minor": 0
      },
      "text/plain": [
       "HBox(children=(IntProgress(value=0, description='member', max=1, style=ProgressStyle(description_width='initia…"
      ]
     },
     "metadata": {},
     "output_type": "display_data"
    },
    {
     "name": "stdout",
     "output_type": "stream",
     "text": [
      "\n",
      "../sample-data/cesm-le-zarr/CESM-LE.CTRL.ocn.pop.h.SHF.zarr\n",
      "{'experiment': 'CTRL', 'component': 'ocn', 'stream': 'pop.h', 'variable': 'SHF', 'resource': None, 'resource_type': None, 'direct_access': None, 'case': None, 'date_range': None, 'member_id': None, 'file_fullpath': None, 'file_basename': None, 'file_dirname': None, 'ctrl_branch_year': None, 'year_offset': None, 'sequence_order': None, 'has_ocean_bgc': None, 'grid': None}\n",
      "not all arguments converted during string formatting\n"
     ]
    },
    {
     "data": {
      "application/vnd.jupyter.widget-view+json": {
       "model_id": "30362eb4b32243a1b6f6fe782dd6e313",
       "version_major": 2,
       "version_minor": 0
      },
      "text/plain": [
       "HBox(children=(IntProgress(value=0, description='dataset', max=1, style=ProgressStyle(description_width='initi…"
      ]
     },
     "metadata": {},
     "output_type": "display_data"
    },
    {
     "data": {
      "application/vnd.jupyter.widget-view+json": {
       "model_id": "6485dfe8937143a1b0f4abf749eb9f30",
       "version_major": 2,
       "version_minor": 0
      },
      "text/plain": [
       "HBox(children=(IntProgress(value=0, description='member', max=1, style=ProgressStyle(description_width='initia…"
      ]
     },
     "metadata": {},
     "output_type": "display_data"
    },
    {
     "name": "stdout",
     "output_type": "stream",
     "text": [
      "\n",
      "../sample-data/cesm-le-zarr/CESM-LE.CTRL.ocn.pop.h.STF_O2.zarr\n",
      "{'experiment': 'CTRL', 'component': 'ocn', 'stream': 'pop.h', 'variable': 'STF_O2', 'resource': None, 'resource_type': None, 'direct_access': None, 'case': None, 'date_range': None, 'member_id': None, 'file_fullpath': None, 'file_basename': None, 'file_dirname': None, 'ctrl_branch_year': None, 'year_offset': None, 'sequence_order': None, 'has_ocean_bgc': None, 'grid': None}\n",
      "not all arguments converted during string formatting\n"
     ]
    },
    {
     "data": {
      "application/vnd.jupyter.widget-view+json": {
       "model_id": "7bd19ce16ff5405985f06bb5f5a7b04c",
       "version_major": 2,
       "version_minor": 0
      },
      "text/plain": [
       "HBox(children=(IntProgress(value=0, description='dataset', max=1, style=ProgressStyle(description_width='initi…"
      ]
     },
     "metadata": {},
     "output_type": "display_data"
    },
    {
     "data": {
      "application/vnd.jupyter.widget-view+json": {
       "model_id": "e2e1e64c5588490b98dd55fc84db298e",
       "version_major": 2,
       "version_minor": 0
      },
      "text/plain": [
       "HBox(children=(IntProgress(value=0, description='member', max=32, style=ProgressStyle(description_width='initi…"
      ]
     },
     "metadata": {},
     "output_type": "display_data"
    },
    {
     "name": "stdout",
     "output_type": "stream",
     "text": [
      "\n",
      "{'experiment': 'RCP85', 'component': 'ocn', 'stream': 'pop.h', 'variable': 'SHF', 'resource': None, 'resource_type': None, 'direct_access': None, 'case': None, 'date_range': None, 'member_id': None, 'file_fullpath': None, 'file_basename': None, 'file_dirname': None, 'ctrl_branch_year': None, 'year_offset': None, 'sequence_order': None, 'has_ocean_bgc': None, 'grid': None}\n",
      "'ANGLE'\n"
     ]
    },
    {
     "data": {
      "application/vnd.jupyter.widget-view+json": {
       "model_id": "e06b207be496423ca796c93e22b73764",
       "version_major": 2,
       "version_minor": 0
      },
      "text/plain": [
       "HBox(children=(IntProgress(value=0, description='dataset', max=1, style=ProgressStyle(description_width='initi…"
      ]
     },
     "metadata": {},
     "output_type": "display_data"
    },
    {
     "data": {
      "application/vnd.jupyter.widget-view+json": {
       "model_id": "251ce356ada842e99e3ea58fe1e28e9d",
       "version_major": 2,
       "version_minor": 0
      },
      "text/plain": [
       "HBox(children=(IntProgress(value=0, description='member', max=32, style=ProgressStyle(description_width='initi…"
      ]
     },
     "metadata": {},
     "output_type": "display_data"
    },
    {
     "name": "stdout",
     "output_type": "stream",
     "text": [
      "\n",
      "{'experiment': 'RCP85', 'component': 'ocn', 'stream': 'pop.h', 'variable': 'STF_O2', 'resource': None, 'resource_type': None, 'direct_access': None, 'case': None, 'date_range': None, 'member_id': None, 'file_fullpath': None, 'file_basename': None, 'file_dirname': None, 'ctrl_branch_year': None, 'year_offset': None, 'sequence_order': None, 'has_ocean_bgc': None, 'grid': None}\n",
      "'ANGLE'\n"
     ]
    }
   ],
   "source": [
    "cdf_to_zarr(col.df)"
   ]
  },
  {
   "cell_type": "code",
   "execution_count": null,
   "metadata": {},
   "outputs": [],
   "source": []
  }
 ],
 "metadata": {
  "kernelspec": {
   "display_name": "Python 3",
   "language": "python",
   "name": "python3"
  },
  "language_info": {
   "codemirror_mode": {
    "name": "ipython",
    "version": 3
   },
   "file_extension": ".py",
   "mimetype": "text/x-python",
   "name": "python",
   "nbconvert_exporter": "python",
   "pygments_lexer": "ipython3",
   "version": "3.7.3"
  }
 },
 "nbformat": 4,
 "nbformat_minor": 2
}
