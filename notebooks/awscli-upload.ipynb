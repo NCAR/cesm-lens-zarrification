{
 "cells": [
  {
   "cell_type": "code",
   "execution_count": 7,
   "metadata": {},
   "outputs": [],
   "source": [
    "cd / glade / scratch / abanihi / lens - aws"
   ]
  },
  {
   "cell_type": "code",
   "execution_count": 8,
   "metadata": {},
   "outputs": [
    {
     "name": "stdout",
     "output_type": "stream",
     "text": [
      "97G\t.\n",
      "33G\t./cesmLE-RCP85-lnd-monthly-SOILLIQ.zarr\n",
      "30G\t./cesmLE-20C-lnd-monthly-SOILLIQ.zarr\n",
      "4.0G\t./cesmLE-RCP85-lnd-monthly-QRUNOFF.zarr\n",
      "3.9G\t./cesmLE-RCP85-lnd-monthly-RAIN.zarr\n",
      "3.7G\t./cesmLE-RCP85-lnd-monthly-SNOW.zarr\n",
      "3.6G\t./cesmLE-20C-lnd-monthly-QRUNOFF.zarr\n",
      "3.5G\t./cesmLE-20C-lnd-monthly-RAIN.zarr\n",
      "3.4G\t./cesmLE-20C-lnd-monthly-SNOW.zarr\n",
      "2.7G\t./cesmLE-RCP85-lnd-monthly-SOILWATER_10CM.zarr\n",
      "2.5G\t./cesmLE-20C-lnd-monthly-SOILWATER_10CM.zarr\n",
      "2.4G\t./cesmLE-RCP85-lnd-monthly-H2OSNO.zarr\n",
      "2.3G\t./cesmLE-20C-lnd-monthly-H2OSNO.zarr\n",
      "1.9G\t./cesmLE-RCP85-lnd-monthly-FSNO.zarr\n",
      "1.8G\t./cesmLE-20C-lnd-monthly-FSNO.zarr\n"
     ]
    }
   ],
   "source": [
    "du - -max - depth = 1 - h | sort - rh"
   ]
  },
  {
   "cell_type": "code",
   "execution_count": 9,
   "metadata": {},
   "outputs": [
    {
     "name": "stdout",
     "output_type": "stream",
     "text": [
      "\n",
      "real\t0m30.228s\n",
      "user\t0m12.593s\n",
      "sys\t0m3.459s\n"
     ]
    }
   ],
   "source": [
    "time aws s3 cp --recursive cesmLE-20C-lnd-monthly-H2OSNO.zarr s3://ncar-cesm-lens/lnd/monthly/cesmLE-20C-lnd-monthly-H2OSNO.zarr --quiet --profile cesm-lens-uploader"
   ]
  },
  {
   "cell_type": "code",
   "execution_count": 10,
   "metadata": {},
   "outputs": [
    {
     "name": "stdout",
     "output_type": "stream",
     "text": [
      "\n",
      "real\t0m31.369s\n",
      "user\t0m13.166s\n",
      "sys\t0m3.545s\n"
     ]
    }
   ],
   "source": [
    "time aws s3 cp --recursive cesmLE-RCP85-lnd-monthly-H2OSNO.zarr s3://ncar-cesm-lens/lnd/monthly/cesmLE-RCP85-lnd-monthly-H2OSNO.zarr --quiet --profile cesm-lens-uploader"
   ]
  },
  {
   "cell_type": "code",
   "execution_count": 11,
   "metadata": {},
   "outputs": [
    {
     "name": "stdout",
     "output_type": "stream",
     "text": [
      "\n",
      "real\t0m38.176s\n",
      "user\t0m13.660s\n",
      "sys\t0m3.911s\n"
     ]
    }
   ],
   "source": [
    "time aws s3 cp --recursive cesmLE-20C-lnd-monthly-SOILWATER_10CM.zarr s3://ncar-cesm-lens/lnd/monthly/cesmLE-20C-lnd-monthly-SOILWATER_10CM.zarr --quiet --profile cesm-lens-uploader"
   ]
  },
  {
   "cell_type": "code",
   "execution_count": 12,
   "metadata": {},
   "outputs": [
    {
     "name": "stdout",
     "output_type": "stream",
     "text": [
      "\n",
      "real\t0m40.531s\n",
      "user\t0m14.677s\n",
      "sys\t0m4.047s\n"
     ]
    }
   ],
   "source": [
    "time aws s3 cp --recursive cesmLE-RCP85-lnd-monthly-SOILWATER_10CM.zarr s3://ncar-cesm-lens/lnd/monthly/cesmLE-RCP85-lnd-monthly-SOILWATER_10CM.zarr --quiet --profile cesm-lens-uploader"
   ]
  },
  {
   "cell_type": "code",
   "execution_count": 13,
   "metadata": {},
   "outputs": [
    {
     "name": "stdout",
     "output_type": "stream",
     "text": [
      "\n",
      "real\t0m33.225s\n",
      "user\t0m17.515s\n",
      "sys\t0m5.024s\n"
     ]
    }
   ],
   "source": [
    "time aws s3 cp --recursive cesmLE-20C-lnd-monthly-SNOW.zarr s3://ncar-cesm-lens/lnd/monthly/cesmLE-20C-lnd-monthly-SNOW.zarr --quiet --profile cesm-lens-uploader"
   ]
  },
  {
   "cell_type": "code",
   "execution_count": 14,
   "metadata": {},
   "outputs": [
    {
     "name": "stdout",
     "output_type": "stream",
     "text": [
      "\n",
      "real\t0m43.053s\n",
      "user\t0m18.720s\n",
      "sys\t0m5.148s\n"
     ]
    }
   ],
   "source": [
    "time aws s3 cp --recursive cesmLE-RCP85-lnd-monthly-SNOW.zarr s3://ncar-cesm-lens/lnd/monthly/cesmLE-RCP85-lnd-monthly-SNOW.zarr --quiet --profile cesm-lens-uploader"
   ]
  },
  {
   "cell_type": "code",
   "execution_count": 15,
   "metadata": {},
   "outputs": [
    {
     "name": "stdout",
     "output_type": "stream",
     "text": [
      "\n",
      "real\t0m40.387s\n",
      "user\t0m18.032s\n",
      "sys\t0m5.221s\n"
     ]
    }
   ],
   "source": [
    "time aws s3 cp --recursive cesmLE-20C-lnd-monthly-RAIN.zarr s3://ncar-cesm-lens/lnd/monthly/cesmLE-20C-lnd-monthly-RAIN.zarr --quiet --profile cesm-lens-uploader"
   ]
  },
  {
   "cell_type": "code",
   "execution_count": 16,
   "metadata": {},
   "outputs": [
    {
     "name": "stdout",
     "output_type": "stream",
     "text": [
      "\n",
      "real\t0m38.663s\n",
      "user\t0m20.341s\n",
      "sys\t0m6.074s\n"
     ]
    }
   ],
   "source": [
    "time aws s3 cp --recursive cesmLE-RCP85-lnd-monthly-RAIN.zarr s3://ncar-cesm-lens/lnd/monthly/cesmLE-RCP85-lnd-monthly-RAIN.zarr --quiet --profile cesm-lens-uploader"
   ]
  },
  {
   "cell_type": "code",
   "execution_count": 17,
   "metadata": {},
   "outputs": [
    {
     "name": "stdout",
     "output_type": "stream",
     "text": [
      "\n",
      "real\t0m42.541s\n",
      "user\t0m18.502s\n",
      "sys\t0m5.623s\n"
     ]
    }
   ],
   "source": [
    "time aws s3 cp --recursive cesmLE-20C-lnd-monthly-QRUNOFF.zarr s3://ncar-cesm-lens/lnd/monthly/cesmLE-20C-lnd-monthly-QRUNOFF.zarr --quiet --profile cesm-lens-uploader"
   ]
  },
  {
   "cell_type": "code",
   "execution_count": 18,
   "metadata": {},
   "outputs": [
    {
     "name": "stdout",
     "output_type": "stream",
     "text": [
      "\n",
      "real\t0m39.148s\n",
      "user\t0m21.129s\n",
      "sys\t0m6.644s\n"
     ]
    }
   ],
   "source": [
    "time aws s3 cp --recursive cesmLE-RCP85-lnd-monthly-QRUNOFF.zarr s3://ncar-cesm-lens/lnd/monthly/cesmLE-RCP85-lnd-monthly-QRUNOFF.zarr --quiet --profile cesm-lens-uploader"
   ]
  },
  {
   "cell_type": "code",
   "execution_count": 19,
   "metadata": {},
   "outputs": [
    {
     "name": "stdout",
     "output_type": "stream",
     "text": [
      "\n",
      "real\t4m16.306s\n",
      "user\t2m9.408s\n",
      "sys\t0m35.771s\n"
     ]
    }
   ],
   "source": [
    "time aws s3 cp --recursive cesmLE-20C-lnd-monthly-SOILLIQ.zarr s3://ncar-cesm-lens/lnd/monthly/cesmLE-20C-lnd-monthly-SOILLIQ.zarr --quiet --profile cesm-lens-uploader"
   ]
  },
  {
   "cell_type": "code",
   "execution_count": 20,
   "metadata": {},
   "outputs": [
    {
     "name": "stdout",
     "output_type": "stream",
     "text": [
      "\n",
      "real\t5m9.324s\n",
      "user\t2m21.923s\n",
      "sys\t0m38.524s\n"
     ]
    }
   ],
   "source": [
    "time aws s3 cp --recursive cesmLE-RCP85-lnd-monthly-SOILLIQ.zarr s3://ncar-cesm-lens/lnd/monthly/cesmLE-RCP85-lnd-monthly-SOILLIQ.zarr --quiet --profile cesm-lens-uploader"
   ]
  },
  {
   "cell_type": "code",
   "execution_count": null,
   "metadata": {},
   "outputs": [],
   "source": []
  }
 ],
 "metadata": {
  "kernelspec": {
   "display_name": "Bash",
   "language": "bash",
   "name": "bash"
  },
  "language_info": {
   "codemirror_mode": "shell",
   "file_extension": ".sh",
   "mimetype": "text/x-sh",
   "name": "bash"
  }
 },
 "nbformat": 4,
 "nbformat_minor": 2
}
