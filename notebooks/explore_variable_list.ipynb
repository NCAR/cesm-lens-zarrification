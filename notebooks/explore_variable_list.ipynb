{
 "cells": [
  {
   "cell_type": "code",
   "execution_count": 1,
   "metadata": {},
   "outputs": [],
   "source": [
    "import warnings\n",
    "warnings.filterwarnings(\"ignore\")\n",
    "import intake\n",
    "from ncar_jobqueue import NCARCluster\n",
    "import xarray as xr \n",
    "import dask\n",
    "import yaml \n",
    "from pathlib import Path\n",
    "import os"
   ]
  },
  {
   "cell_type": "markdown",
   "metadata": {},
   "source": [
    "## Spin up Cluster"
   ]
  },
  {
   "cell_type": "code",
   "execution_count": 2,
   "metadata": {},
   "outputs": [
    {
     "data": {
      "application/vnd.jupyter.widget-view+json": {
       "model_id": "b5b64ef5bf9d45f3b8c0555d0d9ac5b6",
       "version_major": 2,
       "version_minor": 0
      },
      "text/plain": [
       "VBox(children=(HTML(value='<h2>NCARCluster</h2>'), HBox(children=(HTML(value='\\n<div>\\n  <style scoped>\\n    .…"
      ]
     },
     "metadata": {},
     "output_type": "display_data"
    }
   ],
   "source": [
    "cluster = NCARCluster(memory=\"50GB\")\n",
    "cluster"
   ]
  },
  {
   "cell_type": "code",
   "execution_count": 5,
   "metadata": {},
   "outputs": [
    {
     "data": {
      "text/plain": [
       "<distributed.deploy.adaptive.Adaptive at 0x2aaadb454710>"
      ]
     },
     "execution_count": 5,
     "metadata": {},
     "output_type": "execute_result"
    }
   ],
   "source": [
    "cluster.adapt(minimum=0, maximum=36)"
   ]
  },
  {
   "cell_type": "markdown",
   "metadata": {},
   "source": [
    "## Connect to intake-esm-database"
   ]
  },
  {
   "cell_type": "code",
   "execution_count": 6,
   "metadata": {},
   "outputs": [],
   "source": [
    "#col = intake.open_esm_metadatastore(collection_input_definition=\"CESM1-LE\", overwrite_existing=True)\n",
    "col = intake.open_esm_metadatastore(collection_name=\"CESM1-LE\")"
   ]
  },
  {
   "cell_type": "code",
   "execution_count": 7,
   "metadata": {},
   "outputs": [
    {
     "data": {
      "text/html": [
       "<div>\n",
       "<style scoped>\n",
       "    .dataframe tbody tr th:only-of-type {\n",
       "        vertical-align: middle;\n",
       "    }\n",
       "\n",
       "    .dataframe tbody tr th {\n",
       "        vertical-align: top;\n",
       "    }\n",
       "\n",
       "    .dataframe thead th {\n",
       "        text-align: right;\n",
       "    }\n",
       "</style>\n",
       "<table border=\"1\" class=\"dataframe\">\n",
       "  <thead>\n",
       "    <tr style=\"text-align: right;\">\n",
       "      <th></th>\n",
       "      <th>resource</th>\n",
       "      <th>resource_type</th>\n",
       "      <th>direct_access</th>\n",
       "      <th>experiment</th>\n",
       "      <th>case</th>\n",
       "      <th>component</th>\n",
       "      <th>stream</th>\n",
       "      <th>variable</th>\n",
       "      <th>date_range</th>\n",
       "      <th>member_id</th>\n",
       "      <th>file_fullpath</th>\n",
       "      <th>file_basename</th>\n",
       "      <th>file_dirname</th>\n",
       "      <th>ctrl_branch_year</th>\n",
       "      <th>year_offset</th>\n",
       "      <th>sequence_order</th>\n",
       "      <th>has_ocean_bgc</th>\n",
       "      <th>grid</th>\n",
       "    </tr>\n",
       "  </thead>\n",
       "  <tbody>\n",
       "    <tr>\n",
       "      <th>0</th>\n",
       "      <td>CTRL:GLADE:posix:/glade/collections/cdg/data/c...</td>\n",
       "      <td>posix</td>\n",
       "      <td>True</td>\n",
       "      <td>CTRL</td>\n",
       "      <td>f.e11.F1850C5CN.f09_f09.001</td>\n",
       "      <td>atm</td>\n",
       "      <td>cam.h1</td>\n",
       "      <td>T200</td>\n",
       "      <td>16000101-16991231</td>\n",
       "      <td>0</td>\n",
       "      <td>/glade/collections/cdg/data/cesmLE/CESM-CAM5-B...</td>\n",
       "      <td>f.e11.F1850C5CN.f09_f09.001.cam.h1.T200.160001...</td>\n",
       "      <td>/glade/collections/cdg/data/cesmLE/CESM-CAM5-B...</td>\n",
       "      <td>NaN</td>\n",
       "      <td>NaN</td>\n",
       "      <td>0</td>\n",
       "      <td>False</td>\n",
       "      <td>NaN</td>\n",
       "    </tr>\n",
       "    <tr>\n",
       "      <th>1</th>\n",
       "      <td>CTRL:GLADE:posix:/glade/collections/cdg/data/c...</td>\n",
       "      <td>posix</td>\n",
       "      <td>True</td>\n",
       "      <td>CTRL</td>\n",
       "      <td>f.e11.F1850C5CN.f09_f09.001</td>\n",
       "      <td>atm</td>\n",
       "      <td>cam.h1</td>\n",
       "      <td>T200</td>\n",
       "      <td>24000101-24991231</td>\n",
       "      <td>0</td>\n",
       "      <td>/glade/collections/cdg/data/cesmLE/CESM-CAM5-B...</td>\n",
       "      <td>f.e11.F1850C5CN.f09_f09.001.cam.h1.T200.240001...</td>\n",
       "      <td>/glade/collections/cdg/data/cesmLE/CESM-CAM5-B...</td>\n",
       "      <td>NaN</td>\n",
       "      <td>NaN</td>\n",
       "      <td>0</td>\n",
       "      <td>False</td>\n",
       "      <td>NaN</td>\n",
       "    </tr>\n",
       "    <tr>\n",
       "      <th>2</th>\n",
       "      <td>CTRL:GLADE:posix:/glade/collections/cdg/data/c...</td>\n",
       "      <td>posix</td>\n",
       "      <td>True</td>\n",
       "      <td>CTRL</td>\n",
       "      <td>f.e11.F1850C5CN.f09_f09.001</td>\n",
       "      <td>atm</td>\n",
       "      <td>cam.h1</td>\n",
       "      <td>T200</td>\n",
       "      <td>11000101-11991231</td>\n",
       "      <td>0</td>\n",
       "      <td>/glade/collections/cdg/data/cesmLE/CESM-CAM5-B...</td>\n",
       "      <td>f.e11.F1850C5CN.f09_f09.001.cam.h1.T200.110001...</td>\n",
       "      <td>/glade/collections/cdg/data/cesmLE/CESM-CAM5-B...</td>\n",
       "      <td>NaN</td>\n",
       "      <td>NaN</td>\n",
       "      <td>0</td>\n",
       "      <td>False</td>\n",
       "      <td>NaN</td>\n",
       "    </tr>\n",
       "    <tr>\n",
       "      <th>3</th>\n",
       "      <td>CTRL:GLADE:posix:/glade/collections/cdg/data/c...</td>\n",
       "      <td>posix</td>\n",
       "      <td>True</td>\n",
       "      <td>CTRL</td>\n",
       "      <td>f.e11.F1850C5CN.f09_f09.001</td>\n",
       "      <td>atm</td>\n",
       "      <td>cam.h1</td>\n",
       "      <td>T200</td>\n",
       "      <td>22000101-22991231</td>\n",
       "      <td>0</td>\n",
       "      <td>/glade/collections/cdg/data/cesmLE/CESM-CAM5-B...</td>\n",
       "      <td>f.e11.F1850C5CN.f09_f09.001.cam.h1.T200.220001...</td>\n",
       "      <td>/glade/collections/cdg/data/cesmLE/CESM-CAM5-B...</td>\n",
       "      <td>NaN</td>\n",
       "      <td>NaN</td>\n",
       "      <td>0</td>\n",
       "      <td>False</td>\n",
       "      <td>NaN</td>\n",
       "    </tr>\n",
       "    <tr>\n",
       "      <th>4</th>\n",
       "      <td>CTRL:GLADE:posix:/glade/collections/cdg/data/c...</td>\n",
       "      <td>posix</td>\n",
       "      <td>True</td>\n",
       "      <td>CTRL</td>\n",
       "      <td>f.e11.F1850C5CN.f09_f09.001</td>\n",
       "      <td>atm</td>\n",
       "      <td>cam.h1</td>\n",
       "      <td>T200</td>\n",
       "      <td>25000101-26001231</td>\n",
       "      <td>0</td>\n",
       "      <td>/glade/collections/cdg/data/cesmLE/CESM-CAM5-B...</td>\n",
       "      <td>f.e11.F1850C5CN.f09_f09.001.cam.h1.T200.250001...</td>\n",
       "      <td>/glade/collections/cdg/data/cesmLE/CESM-CAM5-B...</td>\n",
       "      <td>NaN</td>\n",
       "      <td>NaN</td>\n",
       "      <td>0</td>\n",
       "      <td>False</td>\n",
       "      <td>NaN</td>\n",
       "    </tr>\n",
       "  </tbody>\n",
       "</table>\n",
       "</div>"
      ],
      "text/plain": [
       "                                            resource resource_type  \\\n",
       "0  CTRL:GLADE:posix:/glade/collections/cdg/data/c...         posix   \n",
       "1  CTRL:GLADE:posix:/glade/collections/cdg/data/c...         posix   \n",
       "2  CTRL:GLADE:posix:/glade/collections/cdg/data/c...         posix   \n",
       "3  CTRL:GLADE:posix:/glade/collections/cdg/data/c...         posix   \n",
       "4  CTRL:GLADE:posix:/glade/collections/cdg/data/c...         posix   \n",
       "\n",
       "   direct_access experiment                         case component  stream  \\\n",
       "0           True       CTRL  f.e11.F1850C5CN.f09_f09.001       atm  cam.h1   \n",
       "1           True       CTRL  f.e11.F1850C5CN.f09_f09.001       atm  cam.h1   \n",
       "2           True       CTRL  f.e11.F1850C5CN.f09_f09.001       atm  cam.h1   \n",
       "3           True       CTRL  f.e11.F1850C5CN.f09_f09.001       atm  cam.h1   \n",
       "4           True       CTRL  f.e11.F1850C5CN.f09_f09.001       atm  cam.h1   \n",
       "\n",
       "  variable         date_range  member_id  \\\n",
       "0     T200  16000101-16991231          0   \n",
       "1     T200  24000101-24991231          0   \n",
       "2     T200  11000101-11991231          0   \n",
       "3     T200  22000101-22991231          0   \n",
       "4     T200  25000101-26001231          0   \n",
       "\n",
       "                                       file_fullpath  \\\n",
       "0  /glade/collections/cdg/data/cesmLE/CESM-CAM5-B...   \n",
       "1  /glade/collections/cdg/data/cesmLE/CESM-CAM5-B...   \n",
       "2  /glade/collections/cdg/data/cesmLE/CESM-CAM5-B...   \n",
       "3  /glade/collections/cdg/data/cesmLE/CESM-CAM5-B...   \n",
       "4  /glade/collections/cdg/data/cesmLE/CESM-CAM5-B...   \n",
       "\n",
       "                                       file_basename  \\\n",
       "0  f.e11.F1850C5CN.f09_f09.001.cam.h1.T200.160001...   \n",
       "1  f.e11.F1850C5CN.f09_f09.001.cam.h1.T200.240001...   \n",
       "2  f.e11.F1850C5CN.f09_f09.001.cam.h1.T200.110001...   \n",
       "3  f.e11.F1850C5CN.f09_f09.001.cam.h1.T200.220001...   \n",
       "4  f.e11.F1850C5CN.f09_f09.001.cam.h1.T200.250001...   \n",
       "\n",
       "                                        file_dirname  ctrl_branch_year  \\\n",
       "0  /glade/collections/cdg/data/cesmLE/CESM-CAM5-B...               NaN   \n",
       "1  /glade/collections/cdg/data/cesmLE/CESM-CAM5-B...               NaN   \n",
       "2  /glade/collections/cdg/data/cesmLE/CESM-CAM5-B...               NaN   \n",
       "3  /glade/collections/cdg/data/cesmLE/CESM-CAM5-B...               NaN   \n",
       "4  /glade/collections/cdg/data/cesmLE/CESM-CAM5-B...               NaN   \n",
       "\n",
       "   year_offset  sequence_order  has_ocean_bgc grid  \n",
       "0          NaN               0          False  NaN  \n",
       "1          NaN               0          False  NaN  \n",
       "2          NaN               0          False  NaN  \n",
       "3          NaN               0          False  NaN  \n",
       "4          NaN               0          False  NaN  "
      ]
     },
     "execution_count": 7,
     "metadata": {},
     "output_type": "execute_result"
    }
   ],
   "source": [
    "col.df.head()"
   ]
  },
  {
   "cell_type": "code",
   "execution_count": 73,
   "metadata": {},
   "outputs": [
    {
     "data": {
      "application/json": {
       "args": {
        "collection_name": "CESM1-LE",
        "query": {
         "case": null,
         "component": null,
         "ctrl_branch_year": null,
         "date_range": null,
         "direct_access": null,
         "experiment": "CTRL",
         "file_basename": null,
         "file_dirname": null,
         "file_fullpath": null,
         "grid": null,
         "has_ocean_bgc": null,
         "member_id": null,
         "resource": null,
         "resource_type": null,
         "sequence_order": null,
         "stream": null,
         "variable": null,
         "year_offset": null
        }
       },
       "container": "xarray",
       "description": "Catalog entry from CESM1-LE collection",
       "direct_access": true,
       "metadata": {},
       "name": "CESM1-LE_9b1446ae-2c21-4b35-908f-c329e3d4d9b7",
       "plugin": [
        "cesm"
       ],
       "user_parameters": []
      },
      "text/plain": [
       "name: CESM1-LE_9b1446ae-2c21-4b35-908f-c329e3d4d9b7\n",
       "container: xarray\n",
       "plugin: ['cesm']\n",
       "description: Catalog entry from CESM1-LE collection\n",
       "direct_access: True\n",
       "user_parameters: []\n",
       "metadata: \n",
       "args: \n",
       "  collection_name: CESM1-LE\n",
       "  query: \n",
       "    experiment: CTRL\n",
       "    resource: None\n",
       "    resource_type: None\n",
       "    direct_access: None\n",
       "    case: None\n",
       "    component: None\n",
       "    stream: None\n",
       "    variable: None\n",
       "    date_range: None\n",
       "    member_id: None\n",
       "    file_fullpath: None\n",
       "    file_basename: None\n",
       "    file_dirname: None\n",
       "    ctrl_branch_year: None\n",
       "    year_offset: None\n",
       "    sequence_order: None\n",
       "    has_ocean_bgc: None\n",
       "    grid: None"
      ]
     },
     "metadata": {
      "application/json": {
       "root": "CESM1-LE_9b1446ae-2c21-4b35-908f-c329e3d4d9b7"
      }
     },
     "output_type": "display_data"
    }
   ],
   "source": [
    "col.search(experiment='CTRL')"
   ]
  },
  {
   "cell_type": "code",
   "execution_count": 8,
   "metadata": {},
   "outputs": [
    {
     "name": "stdout",
     "output_type": "stream",
     "text": [
      "There are:\n",
      "\n",
      "\t1) 3 experiments: \n",
      "\n",
      "\t\t['CTRL' '20C' 'RCP85']\n",
      "\n",
      "\t2) 93 cases: \n",
      "\n",
      "\t\t['f.e11.F1850C5CN.f09_f09.001' 'e.e11.E1850C5CN.f09_g16.001'\n",
      " 'b.e11.B1850C5CN.f09_g16.005' 'b.e11.B20TRC5CNBDRD.f09_g16.OIC.010'\n",
      " 'b.e11.B20TRC5CNBDRD.f09_g16.OIC.009'] etc...\n",
      "\n",
      "\t3) 5 components: \n",
      "\n",
      "\t\t['atm' 'lnd' 'rof' 'ice' 'ocn']\n",
      "\n",
      "\t4) 10 streams: \n",
      "\n",
      "\t\t['cam.h1' 'cam.h0' 'clm2.h1' 'clm2.h0' 'rtm.h1' 'rtm.h0' 'cice.h1'\n",
      " 'cice.h' 'pop.h.nday1' 'pop.h']\n",
      "\n",
      "\t5) 985 variables: \n",
      "\n",
      "\t\t['T200' 'Q200' 'FLNSC' 'Q500' 'PRECL' 'QBOT' 'TREFHTMN' 'FSNTOA' 'TAUX'\n",
      " 'TAUY'] etc...\n",
      "\n"
     ]
    }
   ],
   "source": [
    "def collection_summary(col):\n",
    "    df = col.df\n",
    "    print(\"There are:\\n\")\n",
    "    print(f\"\\t1) {df.experiment.nunique()} experiments: \\n\\n\\t\\t{df.experiment.unique()}\\n\")\n",
    "    print(f\"\\t2) {df.case.nunique()} cases: \\n\\n\\t\\t{df.case.unique()[:5]} etc...\\n\")\n",
    "    print(f\"\\t3) {df.component.nunique()} components: \\n\\n\\t\\t{df.component.unique()}\\n\")\n",
    "    print(f\"\\t4) {df.stream.nunique()} streams: \\n\\n\\t\\t{df.stream.unique()}\\n\")\n",
    "    print(f\"\\t5) {df.variable.nunique()} variables: \\n\\n\\t\\t{df.variable.unique()[:10]} etc...\\n\")\n",
    "    \n",
    "collection_summary(col)"
   ]
  },
  {
   "cell_type": "code",
   "execution_count": 31,
   "metadata": {},
   "outputs": [],
   "source": [
    "def print_query_info(query):\n",
    "    cat = col.search(**query)\n",
    "    query_results = cat.query_results\n",
    "    variables = sorted(query_results.variable.unique().tolist())\n",
    "    files = sorted(query_results.file_fullpath.unique().tolist())\n",
    "    date_ranges = sorted(query_results.date_range.unique())\n",
    "    cases = sorted(query_results.case.unique())\n",
    "    \n",
    "    print(f\"This query returned:\\n\\n{len(variables)} unique variables: {variables}\\n\\n\")\n",
    "    print(f\"Number of files: {len(files)}\\n\\n\")\n",
    "    print(f\"Date ranges: {date_ranges}\\n\\n\")\n",
    "    print(f\"{len(cases)} cases: {cases}\\n\\n\")"
   ]
  },
  {
   "cell_type": "markdown",
   "metadata": {},
   "source": [
    "## Variables to include in AWS"
   ]
  },
  {
   "cell_type": "markdown",
   "metadata": {},
   "source": [
    "### Atmosphere, monthly, 3D"
   ]
  },
  {
   "cell_type": "code",
   "execution_count": 34,
   "metadata": {},
   "outputs": [
    {
     "name": "stdout",
     "output_type": "stream",
     "text": [
      "This query returned:\n",
      "\n",
      "5 unique variables: ['Q', 'T', 'U', 'V', 'Z3']\n",
      "\n",
      "\n",
      "Number of files: 880\n",
      "\n",
      "\n",
      "Date ranges: ['000101-009912', '010001-019912', '010101-019912', '020001-029912', '030001-039912', '040001-049912', '050001-059912', '060001-069912', '070001-079912', '080001-089912', '090001-099912', '090001-100112', '100001-109912', '110001-119912', '120001-129912', '130001-139912', '140001-149912', '150001-159912', '160001-169912', '170001-179912', '180001-189912', '185001-199912', '185001-200512', '190001-199912', '192001-199912', '192001-200512', '200001-209912', '200601-208012', '200601-210012', '208101-210012', '210001-219912', '210001-220012', '220001-229912', '230001-239912', '240001-249912', '250001-260012']\n",
      "\n",
      "\n",
      "93 cases: ['b.e11.B1850C5CN.f09_g16.005', 'b.e11.B20TRC5CNBDRD.f09_g16.001', 'b.e11.B20TRC5CNBDRD.f09_g16.002', 'b.e11.B20TRC5CNBDRD.f09_g16.003', 'b.e11.B20TRC5CNBDRD.f09_g16.004', 'b.e11.B20TRC5CNBDRD.f09_g16.005', 'b.e11.B20TRC5CNBDRD.f09_g16.006', 'b.e11.B20TRC5CNBDRD.f09_g16.007', 'b.e11.B20TRC5CNBDRD.f09_g16.008', 'b.e11.B20TRC5CNBDRD.f09_g16.009', 'b.e11.B20TRC5CNBDRD.f09_g16.010', 'b.e11.B20TRC5CNBDRD.f09_g16.011', 'b.e11.B20TRC5CNBDRD.f09_g16.012', 'b.e11.B20TRC5CNBDRD.f09_g16.013', 'b.e11.B20TRC5CNBDRD.f09_g16.014', 'b.e11.B20TRC5CNBDRD.f09_g16.015', 'b.e11.B20TRC5CNBDRD.f09_g16.016', 'b.e11.B20TRC5CNBDRD.f09_g16.017', 'b.e11.B20TRC5CNBDRD.f09_g16.018', 'b.e11.B20TRC5CNBDRD.f09_g16.019', 'b.e11.B20TRC5CNBDRD.f09_g16.020', 'b.e11.B20TRC5CNBDRD.f09_g16.021', 'b.e11.B20TRC5CNBDRD.f09_g16.022', 'b.e11.B20TRC5CNBDRD.f09_g16.023', 'b.e11.B20TRC5CNBDRD.f09_g16.024', 'b.e11.B20TRC5CNBDRD.f09_g16.025', 'b.e11.B20TRC5CNBDRD.f09_g16.026', 'b.e11.B20TRC5CNBDRD.f09_g16.027', 'b.e11.B20TRC5CNBDRD.f09_g16.028', 'b.e11.B20TRC5CNBDRD.f09_g16.029', 'b.e11.B20TRC5CNBDRD.f09_g16.030', 'b.e11.B20TRC5CNBDRD.f09_g16.031', 'b.e11.B20TRC5CNBDRD.f09_g16.032', 'b.e11.B20TRC5CNBDRD.f09_g16.033', 'b.e11.B20TRC5CNBDRD.f09_g16.034', 'b.e11.B20TRC5CNBDRD.f09_g16.035', 'b.e11.B20TRC5CNBDRD.f09_g16.101', 'b.e11.B20TRC5CNBDRD.f09_g16.102', 'b.e11.B20TRC5CNBDRD.f09_g16.103', 'b.e11.B20TRC5CNBDRD.f09_g16.104', 'b.e11.B20TRC5CNBDRD.f09_g16.105', 'b.e11.B20TRC5CNBDRD.f09_g16.OIC.001d', 'b.e11.B20TRC5CNBDRD.f09_g16.OIC.002', 'b.e11.B20TRC5CNBDRD.f09_g16.OIC.003', 'b.e11.B20TRC5CNBDRD.f09_g16.OIC.004', 'b.e11.B20TRC5CNBDRD.f09_g16.OIC.005', 'b.e11.B20TRC5CNBDRD.f09_g16.OIC.006', 'b.e11.B20TRC5CNBDRD.f09_g16.OIC.007', 'b.e11.B20TRC5CNBDRD.f09_g16.OIC.008', 'b.e11.B20TRC5CNBDRD.f09_g16.OIC.009', 'b.e11.B20TRC5CNBDRD.f09_g16.OIC.010', 'b.e11.BRCP85C5CNBDRD.f09_g16.001', 'b.e11.BRCP85C5CNBDRD.f09_g16.002', 'b.e11.BRCP85C5CNBDRD.f09_g16.003', 'b.e11.BRCP85C5CNBDRD.f09_g16.004', 'b.e11.BRCP85C5CNBDRD.f09_g16.005', 'b.e11.BRCP85C5CNBDRD.f09_g16.006', 'b.e11.BRCP85C5CNBDRD.f09_g16.007', 'b.e11.BRCP85C5CNBDRD.f09_g16.008', 'b.e11.BRCP85C5CNBDRD.f09_g16.009', 'b.e11.BRCP85C5CNBDRD.f09_g16.010', 'b.e11.BRCP85C5CNBDRD.f09_g16.011', 'b.e11.BRCP85C5CNBDRD.f09_g16.012', 'b.e11.BRCP85C5CNBDRD.f09_g16.013', 'b.e11.BRCP85C5CNBDRD.f09_g16.014', 'b.e11.BRCP85C5CNBDRD.f09_g16.015', 'b.e11.BRCP85C5CNBDRD.f09_g16.016', 'b.e11.BRCP85C5CNBDRD.f09_g16.017', 'b.e11.BRCP85C5CNBDRD.f09_g16.018', 'b.e11.BRCP85C5CNBDRD.f09_g16.019', 'b.e11.BRCP85C5CNBDRD.f09_g16.020', 'b.e11.BRCP85C5CNBDRD.f09_g16.021', 'b.e11.BRCP85C5CNBDRD.f09_g16.022', 'b.e11.BRCP85C5CNBDRD.f09_g16.023', 'b.e11.BRCP85C5CNBDRD.f09_g16.024', 'b.e11.BRCP85C5CNBDRD.f09_g16.025', 'b.e11.BRCP85C5CNBDRD.f09_g16.026', 'b.e11.BRCP85C5CNBDRD.f09_g16.027', 'b.e11.BRCP85C5CNBDRD.f09_g16.028', 'b.e11.BRCP85C5CNBDRD.f09_g16.029', 'b.e11.BRCP85C5CNBDRD.f09_g16.030', 'b.e11.BRCP85C5CNBDRD.f09_g16.031', 'b.e11.BRCP85C5CNBDRD.f09_g16.032', 'b.e11.BRCP85C5CNBDRD.f09_g16.033', 'b.e11.BRCP85C5CNBDRD.f09_g16.034', 'b.e11.BRCP85C5CNBDRD.f09_g16.035', 'b.e11.BRCP85C5CNBDRD.f09_g16.101', 'b.e11.BRCP85C5CNBDRD.f09_g16.102', 'b.e11.BRCP85C5CNBDRD.f09_g16.103', 'b.e11.BRCP85C5CNBDRD.f09_g16.104', 'b.e11.BRCP85C5CNBDRD.f09_g16.105', 'e.e11.E1850C5CN.f09_g16.001', 'f.e11.F1850C5CN.f09_f09.001']\n",
      "\n",
      "\n"
     ]
    }
   ],
   "source": [
    "atmos_mon_3d = [\"T\", \"U\", \"V\", \"Q\", \"Z3\"]\n",
    "query = dict(variable=atmos_mon_3d, component=\"atm\", stream=\"cam.h0\")\n",
    "print_query_info(query)"
   ]
  },
  {
   "cell_type": "markdown",
   "metadata": {},
   "source": [
    "**NOTE:**\n",
    "    \n",
    "- There are **880** files. The spreadsheet mentions **1010** files. "
   ]
  },
  {
   "cell_type": "markdown",
   "metadata": {},
   "source": [
    "### Atmosphere, Monthly, Surface"
   ]
  },
  {
   "cell_type": "code",
   "execution_count": 36,
   "metadata": {},
   "outputs": [],
   "source": [
    "atmos_mon_surface = [\"FLNS\", \"FLNSC\", \"FLUT\", \"FSNS\", \"FSNSC\", \"FSNTOA\", \"ICEFRAC\", \n",
    "                     \"LHFLX\", \"PRECC\", \"PRECL\", \"PRECSC\", \"PRECSL\", \"PSL\", \"SHFLX\", \n",
    "                     \"TMQ\", \"TREFHT\", \"TREFHTMN\", \"TREFHTMX\", \"TS\"]"
   ]
  },
  {
   "cell_type": "code",
   "execution_count": 37,
   "metadata": {},
   "outputs": [
    {
     "name": "stdout",
     "output_type": "stream",
     "text": [
      "This query returned:\n",
      "\n",
      "19 unique variables: ['FLNS', 'FLNSC', 'FLUT', 'FSNS', 'FSNSC', 'FSNTOA', 'ICEFRAC', 'LHFLX', 'PRECC', 'PRECL', 'PRECSC', 'PRECSL', 'PSL', 'SHFLX', 'TMQ', 'TREFHT', 'TREFHTMN', 'TREFHTMX', 'TS']\n",
      "\n",
      "\n",
      "Number of files: 3345\n",
      "\n",
      "\n",
      "Date ranges: ['000101-009912', '010001-019912', '010101-019912', '020001-029912', '030001-039912', '040001-049912', '050001-059912', '060001-069912', '070001-079912', '080001-089912', '090001-099912', '090001-100112', '100001-109912', '110001-119912', '120001-129912', '130001-139912', '140001-149912', '150001-159912', '160001-169912', '170001-179912', '180001-189912', '185001-199912', '185001-200512', '190001-199912', '192001-199912', '192001-200512', '200001-209912', '200601-208012', '200601-210012', '208101-210012', '210001-219912', '210001-220012', '220001-229912', '230001-239912', '240001-249912', '250001-260012']\n",
      "\n",
      "\n",
      "93 cases: ['b.e11.B1850C5CN.f09_g16.005', 'b.e11.B20TRC5CNBDRD.f09_g16.001', 'b.e11.B20TRC5CNBDRD.f09_g16.002', 'b.e11.B20TRC5CNBDRD.f09_g16.003', 'b.e11.B20TRC5CNBDRD.f09_g16.004', 'b.e11.B20TRC5CNBDRD.f09_g16.005', 'b.e11.B20TRC5CNBDRD.f09_g16.006', 'b.e11.B20TRC5CNBDRD.f09_g16.007', 'b.e11.B20TRC5CNBDRD.f09_g16.008', 'b.e11.B20TRC5CNBDRD.f09_g16.009', 'b.e11.B20TRC5CNBDRD.f09_g16.010', 'b.e11.B20TRC5CNBDRD.f09_g16.011', 'b.e11.B20TRC5CNBDRD.f09_g16.012', 'b.e11.B20TRC5CNBDRD.f09_g16.013', 'b.e11.B20TRC5CNBDRD.f09_g16.014', 'b.e11.B20TRC5CNBDRD.f09_g16.015', 'b.e11.B20TRC5CNBDRD.f09_g16.016', 'b.e11.B20TRC5CNBDRD.f09_g16.017', 'b.e11.B20TRC5CNBDRD.f09_g16.018', 'b.e11.B20TRC5CNBDRD.f09_g16.019', 'b.e11.B20TRC5CNBDRD.f09_g16.020', 'b.e11.B20TRC5CNBDRD.f09_g16.021', 'b.e11.B20TRC5CNBDRD.f09_g16.022', 'b.e11.B20TRC5CNBDRD.f09_g16.023', 'b.e11.B20TRC5CNBDRD.f09_g16.024', 'b.e11.B20TRC5CNBDRD.f09_g16.025', 'b.e11.B20TRC5CNBDRD.f09_g16.026', 'b.e11.B20TRC5CNBDRD.f09_g16.027', 'b.e11.B20TRC5CNBDRD.f09_g16.028', 'b.e11.B20TRC5CNBDRD.f09_g16.029', 'b.e11.B20TRC5CNBDRD.f09_g16.030', 'b.e11.B20TRC5CNBDRD.f09_g16.031', 'b.e11.B20TRC5CNBDRD.f09_g16.032', 'b.e11.B20TRC5CNBDRD.f09_g16.033', 'b.e11.B20TRC5CNBDRD.f09_g16.034', 'b.e11.B20TRC5CNBDRD.f09_g16.035', 'b.e11.B20TRC5CNBDRD.f09_g16.101', 'b.e11.B20TRC5CNBDRD.f09_g16.102', 'b.e11.B20TRC5CNBDRD.f09_g16.103', 'b.e11.B20TRC5CNBDRD.f09_g16.104', 'b.e11.B20TRC5CNBDRD.f09_g16.105', 'b.e11.B20TRC5CNBDRD.f09_g16.OIC.001d', 'b.e11.B20TRC5CNBDRD.f09_g16.OIC.002', 'b.e11.B20TRC5CNBDRD.f09_g16.OIC.003', 'b.e11.B20TRC5CNBDRD.f09_g16.OIC.004', 'b.e11.B20TRC5CNBDRD.f09_g16.OIC.005', 'b.e11.B20TRC5CNBDRD.f09_g16.OIC.006', 'b.e11.B20TRC5CNBDRD.f09_g16.OIC.007', 'b.e11.B20TRC5CNBDRD.f09_g16.OIC.008', 'b.e11.B20TRC5CNBDRD.f09_g16.OIC.009', 'b.e11.B20TRC5CNBDRD.f09_g16.OIC.010', 'b.e11.BRCP85C5CNBDRD.f09_g16.001', 'b.e11.BRCP85C5CNBDRD.f09_g16.002', 'b.e11.BRCP85C5CNBDRD.f09_g16.003', 'b.e11.BRCP85C5CNBDRD.f09_g16.004', 'b.e11.BRCP85C5CNBDRD.f09_g16.005', 'b.e11.BRCP85C5CNBDRD.f09_g16.006', 'b.e11.BRCP85C5CNBDRD.f09_g16.007', 'b.e11.BRCP85C5CNBDRD.f09_g16.008', 'b.e11.BRCP85C5CNBDRD.f09_g16.009', 'b.e11.BRCP85C5CNBDRD.f09_g16.010', 'b.e11.BRCP85C5CNBDRD.f09_g16.011', 'b.e11.BRCP85C5CNBDRD.f09_g16.012', 'b.e11.BRCP85C5CNBDRD.f09_g16.013', 'b.e11.BRCP85C5CNBDRD.f09_g16.014', 'b.e11.BRCP85C5CNBDRD.f09_g16.015', 'b.e11.BRCP85C5CNBDRD.f09_g16.016', 'b.e11.BRCP85C5CNBDRD.f09_g16.017', 'b.e11.BRCP85C5CNBDRD.f09_g16.018', 'b.e11.BRCP85C5CNBDRD.f09_g16.019', 'b.e11.BRCP85C5CNBDRD.f09_g16.020', 'b.e11.BRCP85C5CNBDRD.f09_g16.021', 'b.e11.BRCP85C5CNBDRD.f09_g16.022', 'b.e11.BRCP85C5CNBDRD.f09_g16.023', 'b.e11.BRCP85C5CNBDRD.f09_g16.024', 'b.e11.BRCP85C5CNBDRD.f09_g16.025', 'b.e11.BRCP85C5CNBDRD.f09_g16.026', 'b.e11.BRCP85C5CNBDRD.f09_g16.027', 'b.e11.BRCP85C5CNBDRD.f09_g16.028', 'b.e11.BRCP85C5CNBDRD.f09_g16.029', 'b.e11.BRCP85C5CNBDRD.f09_g16.030', 'b.e11.BRCP85C5CNBDRD.f09_g16.031', 'b.e11.BRCP85C5CNBDRD.f09_g16.032', 'b.e11.BRCP85C5CNBDRD.f09_g16.033', 'b.e11.BRCP85C5CNBDRD.f09_g16.034', 'b.e11.BRCP85C5CNBDRD.f09_g16.035', 'b.e11.BRCP85C5CNBDRD.f09_g16.101', 'b.e11.BRCP85C5CNBDRD.f09_g16.102', 'b.e11.BRCP85C5CNBDRD.f09_g16.103', 'b.e11.BRCP85C5CNBDRD.f09_g16.104', 'b.e11.BRCP85C5CNBDRD.f09_g16.105', 'e.e11.E1850C5CN.f09_g16.001', 'f.e11.F1850C5CN.f09_f09.001']\n",
      "\n",
      "\n"
     ]
    }
   ],
   "source": [
    "query = dict(variable=atmos_mon_surface, component=\"atm\", stream=\"cam.h0\")\n",
    "print_query_info(query)"
   ]
  },
  {
   "cell_type": "markdown",
   "metadata": {},
   "source": [
    "**NOTE:**\n",
    "    \n",
    "- There are **3345** files. The spreadsheet mentions **3839** files. "
   ]
  },
  {
   "cell_type": "markdown",
   "metadata": {},
   "source": [
    "### Land, Monthly"
   ]
  },
  {
   "cell_type": "code",
   "execution_count": 38,
   "metadata": {},
   "outputs": [],
   "source": [
    "land_vars = [\"FSNO\", \"H2OSNO\", \"QRUNOFF\", \"RAIN\", \"SNOW\", \"SOILLIQ\", \"SOILWATER_10CM\"]"
   ]
  },
  {
   "cell_type": "code",
   "execution_count": 39,
   "metadata": {},
   "outputs": [
    {
     "name": "stdout",
     "output_type": "stream",
     "text": [
      "This query returned:\n",
      "\n",
      "7 unique variables: ['FSNO', 'H2OSNO', 'QRUNOFF', 'RAIN', 'SNOW', 'SOILLIQ', 'SOILWATER_10CM']\n",
      "\n",
      "\n",
      "Number of files: 1232\n",
      "\n",
      "\n",
      "Date ranges: ['000101-009912', '010001-019912', '010101-019912', '020001-029912', '030001-039912', '040001-049912', '050001-059912', '060001-069912', '070001-079912', '080001-089912', '090001-099912', '090001-100112', '100001-109912', '110001-119912', '120001-129912', '130001-139912', '140001-149912', '150001-159912', '160001-169912', '170001-179912', '180001-189912', '185001-199912', '185001-200512', '190001-199912', '192001-199912', '192001-200512', '200001-209912', '200601-208012', '200601-210012', '208101-210012', '210001-219912', '210001-220012', '220001-229912', '230001-239912', '240001-249912', '250001-260012']\n",
      "\n",
      "\n",
      "93 cases: ['b.e11.B1850C5CN.f09_g16.005', 'b.e11.B20TRC5CNBDRD.f09_g16.001', 'b.e11.B20TRC5CNBDRD.f09_g16.002', 'b.e11.B20TRC5CNBDRD.f09_g16.003', 'b.e11.B20TRC5CNBDRD.f09_g16.004', 'b.e11.B20TRC5CNBDRD.f09_g16.005', 'b.e11.B20TRC5CNBDRD.f09_g16.006', 'b.e11.B20TRC5CNBDRD.f09_g16.007', 'b.e11.B20TRC5CNBDRD.f09_g16.008', 'b.e11.B20TRC5CNBDRD.f09_g16.009', 'b.e11.B20TRC5CNBDRD.f09_g16.010', 'b.e11.B20TRC5CNBDRD.f09_g16.011', 'b.e11.B20TRC5CNBDRD.f09_g16.012', 'b.e11.B20TRC5CNBDRD.f09_g16.013', 'b.e11.B20TRC5CNBDRD.f09_g16.014', 'b.e11.B20TRC5CNBDRD.f09_g16.015', 'b.e11.B20TRC5CNBDRD.f09_g16.016', 'b.e11.B20TRC5CNBDRD.f09_g16.017', 'b.e11.B20TRC5CNBDRD.f09_g16.018', 'b.e11.B20TRC5CNBDRD.f09_g16.019', 'b.e11.B20TRC5CNBDRD.f09_g16.020', 'b.e11.B20TRC5CNBDRD.f09_g16.021', 'b.e11.B20TRC5CNBDRD.f09_g16.022', 'b.e11.B20TRC5CNBDRD.f09_g16.023', 'b.e11.B20TRC5CNBDRD.f09_g16.024', 'b.e11.B20TRC5CNBDRD.f09_g16.025', 'b.e11.B20TRC5CNBDRD.f09_g16.026', 'b.e11.B20TRC5CNBDRD.f09_g16.027', 'b.e11.B20TRC5CNBDRD.f09_g16.028', 'b.e11.B20TRC5CNBDRD.f09_g16.029', 'b.e11.B20TRC5CNBDRD.f09_g16.030', 'b.e11.B20TRC5CNBDRD.f09_g16.031', 'b.e11.B20TRC5CNBDRD.f09_g16.032', 'b.e11.B20TRC5CNBDRD.f09_g16.033', 'b.e11.B20TRC5CNBDRD.f09_g16.034', 'b.e11.B20TRC5CNBDRD.f09_g16.035', 'b.e11.B20TRC5CNBDRD.f09_g16.101', 'b.e11.B20TRC5CNBDRD.f09_g16.102', 'b.e11.B20TRC5CNBDRD.f09_g16.103', 'b.e11.B20TRC5CNBDRD.f09_g16.104', 'b.e11.B20TRC5CNBDRD.f09_g16.105', 'b.e11.B20TRC5CNBDRD.f09_g16.OIC.001d', 'b.e11.B20TRC5CNBDRD.f09_g16.OIC.002', 'b.e11.B20TRC5CNBDRD.f09_g16.OIC.003', 'b.e11.B20TRC5CNBDRD.f09_g16.OIC.004', 'b.e11.B20TRC5CNBDRD.f09_g16.OIC.005', 'b.e11.B20TRC5CNBDRD.f09_g16.OIC.006', 'b.e11.B20TRC5CNBDRD.f09_g16.OIC.007', 'b.e11.B20TRC5CNBDRD.f09_g16.OIC.008', 'b.e11.B20TRC5CNBDRD.f09_g16.OIC.009', 'b.e11.B20TRC5CNBDRD.f09_g16.OIC.010', 'b.e11.BRCP85C5CNBDRD.f09_g16.001', 'b.e11.BRCP85C5CNBDRD.f09_g16.002', 'b.e11.BRCP85C5CNBDRD.f09_g16.003', 'b.e11.BRCP85C5CNBDRD.f09_g16.004', 'b.e11.BRCP85C5CNBDRD.f09_g16.005', 'b.e11.BRCP85C5CNBDRD.f09_g16.006', 'b.e11.BRCP85C5CNBDRD.f09_g16.007', 'b.e11.BRCP85C5CNBDRD.f09_g16.008', 'b.e11.BRCP85C5CNBDRD.f09_g16.009', 'b.e11.BRCP85C5CNBDRD.f09_g16.010', 'b.e11.BRCP85C5CNBDRD.f09_g16.011', 'b.e11.BRCP85C5CNBDRD.f09_g16.012', 'b.e11.BRCP85C5CNBDRD.f09_g16.013', 'b.e11.BRCP85C5CNBDRD.f09_g16.014', 'b.e11.BRCP85C5CNBDRD.f09_g16.015', 'b.e11.BRCP85C5CNBDRD.f09_g16.016', 'b.e11.BRCP85C5CNBDRD.f09_g16.017', 'b.e11.BRCP85C5CNBDRD.f09_g16.018', 'b.e11.BRCP85C5CNBDRD.f09_g16.019', 'b.e11.BRCP85C5CNBDRD.f09_g16.020', 'b.e11.BRCP85C5CNBDRD.f09_g16.021', 'b.e11.BRCP85C5CNBDRD.f09_g16.022', 'b.e11.BRCP85C5CNBDRD.f09_g16.023', 'b.e11.BRCP85C5CNBDRD.f09_g16.024', 'b.e11.BRCP85C5CNBDRD.f09_g16.025', 'b.e11.BRCP85C5CNBDRD.f09_g16.026', 'b.e11.BRCP85C5CNBDRD.f09_g16.027', 'b.e11.BRCP85C5CNBDRD.f09_g16.028', 'b.e11.BRCP85C5CNBDRD.f09_g16.029', 'b.e11.BRCP85C5CNBDRD.f09_g16.030', 'b.e11.BRCP85C5CNBDRD.f09_g16.031', 'b.e11.BRCP85C5CNBDRD.f09_g16.032', 'b.e11.BRCP85C5CNBDRD.f09_g16.033', 'b.e11.BRCP85C5CNBDRD.f09_g16.034', 'b.e11.BRCP85C5CNBDRD.f09_g16.035', 'b.e11.BRCP85C5CNBDRD.f09_g16.101', 'b.e11.BRCP85C5CNBDRD.f09_g16.102', 'b.e11.BRCP85C5CNBDRD.f09_g16.103', 'b.e11.BRCP85C5CNBDRD.f09_g16.104', 'b.e11.BRCP85C5CNBDRD.f09_g16.105', 'e.e11.E1850C5CN.f09_g16.001', 'f.e11.F1850C5CN.f09_f09.001']\n",
      "\n",
      "\n"
     ]
    }
   ],
   "source": [
    "query = dict(variable=land_vars, component=\"lnd\", stream=\"clm2.h0\")\n",
    "print_query_info(query)"
   ]
  },
  {
   "cell_type": "markdown",
   "metadata": {},
   "source": [
    "### Land, Daily"
   ]
  },
  {
   "cell_type": "code",
   "execution_count": 40,
   "metadata": {},
   "outputs": [
    {
     "name": "stdout",
     "output_type": "stream",
     "text": [
      "This query returned:\n",
      "\n",
      "6 unique variables: ['FSNO', 'H2OSNO', 'QRUNOFF', 'RAIN', 'SNOW', 'SOILWATER_10CM']\n",
      "\n",
      "\n",
      "Number of files: 1056\n",
      "\n",
      "\n",
      "Date ranges: ['00010101-00991231', '01000101-01991231', '01010101-01991231', '02000101-02991231', '03000101-03991231', '04000101-04991231', '04030101-04991231', '05000101-05991231', '06000101-06991231', '07000101-07991231', '08000101-08991231', '09000101-09991231', '09000101-10011231', '10000101-10991231', '11000101-11991231', '12000101-12991231', '13000101-13991231', '14000101-14991231', '15000101-15991231', '16000101-16991231', '17000101-17991231', '18000101-18991231', '18500101-19991231', '18500101-20051231', '19000101-19991231', '19200101-19991231', '19200101-20051231', '20000101-20991231', '20060101-20801231', '20060101-21001231', '20810101-21001231', '21000101-21991231', '21000101-22001231', '22000101-22991231', '23000101-23991231', '24000101-24991231', '25000101-26001231']\n",
      "\n",
      "\n",
      "93 cases: ['b.e11.B1850C5CN.f09_g16.005', 'b.e11.B20TRC5CNBDRD.f09_g16.001', 'b.e11.B20TRC5CNBDRD.f09_g16.002', 'b.e11.B20TRC5CNBDRD.f09_g16.003', 'b.e11.B20TRC5CNBDRD.f09_g16.004', 'b.e11.B20TRC5CNBDRD.f09_g16.005', 'b.e11.B20TRC5CNBDRD.f09_g16.006', 'b.e11.B20TRC5CNBDRD.f09_g16.007', 'b.e11.B20TRC5CNBDRD.f09_g16.008', 'b.e11.B20TRC5CNBDRD.f09_g16.009', 'b.e11.B20TRC5CNBDRD.f09_g16.010', 'b.e11.B20TRC5CNBDRD.f09_g16.011', 'b.e11.B20TRC5CNBDRD.f09_g16.012', 'b.e11.B20TRC5CNBDRD.f09_g16.013', 'b.e11.B20TRC5CNBDRD.f09_g16.014', 'b.e11.B20TRC5CNBDRD.f09_g16.015', 'b.e11.B20TRC5CNBDRD.f09_g16.016', 'b.e11.B20TRC5CNBDRD.f09_g16.017', 'b.e11.B20TRC5CNBDRD.f09_g16.018', 'b.e11.B20TRC5CNBDRD.f09_g16.019', 'b.e11.B20TRC5CNBDRD.f09_g16.020', 'b.e11.B20TRC5CNBDRD.f09_g16.021', 'b.e11.B20TRC5CNBDRD.f09_g16.022', 'b.e11.B20TRC5CNBDRD.f09_g16.023', 'b.e11.B20TRC5CNBDRD.f09_g16.024', 'b.e11.B20TRC5CNBDRD.f09_g16.025', 'b.e11.B20TRC5CNBDRD.f09_g16.026', 'b.e11.B20TRC5CNBDRD.f09_g16.027', 'b.e11.B20TRC5CNBDRD.f09_g16.028', 'b.e11.B20TRC5CNBDRD.f09_g16.029', 'b.e11.B20TRC5CNBDRD.f09_g16.030', 'b.e11.B20TRC5CNBDRD.f09_g16.031', 'b.e11.B20TRC5CNBDRD.f09_g16.032', 'b.e11.B20TRC5CNBDRD.f09_g16.033', 'b.e11.B20TRC5CNBDRD.f09_g16.034', 'b.e11.B20TRC5CNBDRD.f09_g16.035', 'b.e11.B20TRC5CNBDRD.f09_g16.101', 'b.e11.B20TRC5CNBDRD.f09_g16.102', 'b.e11.B20TRC5CNBDRD.f09_g16.103', 'b.e11.B20TRC5CNBDRD.f09_g16.104', 'b.e11.B20TRC5CNBDRD.f09_g16.105', 'b.e11.B20TRC5CNBDRD.f09_g16.OIC.001d', 'b.e11.B20TRC5CNBDRD.f09_g16.OIC.002', 'b.e11.B20TRC5CNBDRD.f09_g16.OIC.003', 'b.e11.B20TRC5CNBDRD.f09_g16.OIC.004', 'b.e11.B20TRC5CNBDRD.f09_g16.OIC.005', 'b.e11.B20TRC5CNBDRD.f09_g16.OIC.006', 'b.e11.B20TRC5CNBDRD.f09_g16.OIC.007', 'b.e11.B20TRC5CNBDRD.f09_g16.OIC.008', 'b.e11.B20TRC5CNBDRD.f09_g16.OIC.009', 'b.e11.B20TRC5CNBDRD.f09_g16.OIC.010', 'b.e11.BRCP85C5CNBDRD.f09_g16.001', 'b.e11.BRCP85C5CNBDRD.f09_g16.002', 'b.e11.BRCP85C5CNBDRD.f09_g16.003', 'b.e11.BRCP85C5CNBDRD.f09_g16.004', 'b.e11.BRCP85C5CNBDRD.f09_g16.005', 'b.e11.BRCP85C5CNBDRD.f09_g16.006', 'b.e11.BRCP85C5CNBDRD.f09_g16.007', 'b.e11.BRCP85C5CNBDRD.f09_g16.008', 'b.e11.BRCP85C5CNBDRD.f09_g16.009', 'b.e11.BRCP85C5CNBDRD.f09_g16.010', 'b.e11.BRCP85C5CNBDRD.f09_g16.011', 'b.e11.BRCP85C5CNBDRD.f09_g16.012', 'b.e11.BRCP85C5CNBDRD.f09_g16.013', 'b.e11.BRCP85C5CNBDRD.f09_g16.014', 'b.e11.BRCP85C5CNBDRD.f09_g16.015', 'b.e11.BRCP85C5CNBDRD.f09_g16.016', 'b.e11.BRCP85C5CNBDRD.f09_g16.017', 'b.e11.BRCP85C5CNBDRD.f09_g16.018', 'b.e11.BRCP85C5CNBDRD.f09_g16.019', 'b.e11.BRCP85C5CNBDRD.f09_g16.020', 'b.e11.BRCP85C5CNBDRD.f09_g16.021', 'b.e11.BRCP85C5CNBDRD.f09_g16.022', 'b.e11.BRCP85C5CNBDRD.f09_g16.023', 'b.e11.BRCP85C5CNBDRD.f09_g16.024', 'b.e11.BRCP85C5CNBDRD.f09_g16.025', 'b.e11.BRCP85C5CNBDRD.f09_g16.026', 'b.e11.BRCP85C5CNBDRD.f09_g16.027', 'b.e11.BRCP85C5CNBDRD.f09_g16.028', 'b.e11.BRCP85C5CNBDRD.f09_g16.029', 'b.e11.BRCP85C5CNBDRD.f09_g16.030', 'b.e11.BRCP85C5CNBDRD.f09_g16.031', 'b.e11.BRCP85C5CNBDRD.f09_g16.032', 'b.e11.BRCP85C5CNBDRD.f09_g16.033', 'b.e11.BRCP85C5CNBDRD.f09_g16.034', 'b.e11.BRCP85C5CNBDRD.f09_g16.035', 'b.e11.BRCP85C5CNBDRD.f09_g16.101', 'b.e11.BRCP85C5CNBDRD.f09_g16.102', 'b.e11.BRCP85C5CNBDRD.f09_g16.103', 'b.e11.BRCP85C5CNBDRD.f09_g16.104', 'b.e11.BRCP85C5CNBDRD.f09_g16.105', 'e.e11.E1850C5CN.f09_g16.001', 'f.e11.F1850C5CN.f09_f09.001']\n",
      "\n",
      "\n"
     ]
    }
   ],
   "source": [
    "query = dict(variable=land_vars, component=\"lnd\", stream=\"clm2.h1\")\n",
    "print_query_info(query)"
   ]
  },
  {
   "cell_type": "markdown",
   "metadata": {},
   "source": [
    "**NOTE:**\n",
    "    \n",
    "- There are **1056+1232=2288** files. The spreadsheet mentions **1414** files. "
   ]
  },
  {
   "cell_type": "markdown",
   "metadata": {},
   "source": [
    "### Ocean, Monthly, Surface"
   ]
  },
  {
   "cell_type": "code",
   "execution_count": 41,
   "metadata": {},
   "outputs": [],
   "source": [
    "ocn_surface_vars = [\"SST\", \"SSH\"]"
   ]
  },
  {
   "cell_type": "code",
   "execution_count": 42,
   "metadata": {},
   "outputs": [
    {
     "name": "stdout",
     "output_type": "stream",
     "text": [
      "This query returned:\n",
      "\n",
      "2 unique variables: ['SSH', 'SST']\n",
      "\n",
      "\n",
      "Number of files: 282\n",
      "\n",
      "\n",
      "Date ranges: ['040001-049912', '050001-059912', '060001-069912', '070001-079912', '080001-089912', '090001-099912', '100001-109912', '110001-119912', '120001-129912', '130001-139912', '140001-149912', '150001-159912', '160001-169912', '170001-179912', '180001-189912', '185001-199912', '185001-200512', '190001-199912', '192001-199912', '192001-200512', '200001-209912', '200601-208012', '200601-210012', '208101-210012', '210001-220012']\n",
      "\n",
      "\n",
      "91 cases: ['b.e11.B1850C5CN.f09_g16.005', 'b.e11.B20TRC5CNBDRD.f09_g16.001', 'b.e11.B20TRC5CNBDRD.f09_g16.002', 'b.e11.B20TRC5CNBDRD.f09_g16.003', 'b.e11.B20TRC5CNBDRD.f09_g16.004', 'b.e11.B20TRC5CNBDRD.f09_g16.005', 'b.e11.B20TRC5CNBDRD.f09_g16.006', 'b.e11.B20TRC5CNBDRD.f09_g16.007', 'b.e11.B20TRC5CNBDRD.f09_g16.008', 'b.e11.B20TRC5CNBDRD.f09_g16.009', 'b.e11.B20TRC5CNBDRD.f09_g16.010', 'b.e11.B20TRC5CNBDRD.f09_g16.011', 'b.e11.B20TRC5CNBDRD.f09_g16.012', 'b.e11.B20TRC5CNBDRD.f09_g16.013', 'b.e11.B20TRC5CNBDRD.f09_g16.014', 'b.e11.B20TRC5CNBDRD.f09_g16.015', 'b.e11.B20TRC5CNBDRD.f09_g16.016', 'b.e11.B20TRC5CNBDRD.f09_g16.017', 'b.e11.B20TRC5CNBDRD.f09_g16.018', 'b.e11.B20TRC5CNBDRD.f09_g16.019', 'b.e11.B20TRC5CNBDRD.f09_g16.020', 'b.e11.B20TRC5CNBDRD.f09_g16.021', 'b.e11.B20TRC5CNBDRD.f09_g16.022', 'b.e11.B20TRC5CNBDRD.f09_g16.023', 'b.e11.B20TRC5CNBDRD.f09_g16.024', 'b.e11.B20TRC5CNBDRD.f09_g16.025', 'b.e11.B20TRC5CNBDRD.f09_g16.026', 'b.e11.B20TRC5CNBDRD.f09_g16.027', 'b.e11.B20TRC5CNBDRD.f09_g16.028', 'b.e11.B20TRC5CNBDRD.f09_g16.029', 'b.e11.B20TRC5CNBDRD.f09_g16.030', 'b.e11.B20TRC5CNBDRD.f09_g16.031', 'b.e11.B20TRC5CNBDRD.f09_g16.032', 'b.e11.B20TRC5CNBDRD.f09_g16.033', 'b.e11.B20TRC5CNBDRD.f09_g16.034', 'b.e11.B20TRC5CNBDRD.f09_g16.035', 'b.e11.B20TRC5CNBDRD.f09_g16.101', 'b.e11.B20TRC5CNBDRD.f09_g16.102', 'b.e11.B20TRC5CNBDRD.f09_g16.103', 'b.e11.B20TRC5CNBDRD.f09_g16.104', 'b.e11.B20TRC5CNBDRD.f09_g16.105', 'b.e11.B20TRC5CNBDRD.f09_g16.OIC.001d', 'b.e11.B20TRC5CNBDRD.f09_g16.OIC.002', 'b.e11.B20TRC5CNBDRD.f09_g16.OIC.003', 'b.e11.B20TRC5CNBDRD.f09_g16.OIC.004', 'b.e11.B20TRC5CNBDRD.f09_g16.OIC.005', 'b.e11.B20TRC5CNBDRD.f09_g16.OIC.006', 'b.e11.B20TRC5CNBDRD.f09_g16.OIC.007', 'b.e11.B20TRC5CNBDRD.f09_g16.OIC.008', 'b.e11.B20TRC5CNBDRD.f09_g16.OIC.009', 'b.e11.B20TRC5CNBDRD.f09_g16.OIC.010', 'b.e11.BRCP85C5CNBDRD.f09_g16.001', 'b.e11.BRCP85C5CNBDRD.f09_g16.002', 'b.e11.BRCP85C5CNBDRD.f09_g16.003', 'b.e11.BRCP85C5CNBDRD.f09_g16.004', 'b.e11.BRCP85C5CNBDRD.f09_g16.005', 'b.e11.BRCP85C5CNBDRD.f09_g16.006', 'b.e11.BRCP85C5CNBDRD.f09_g16.007', 'b.e11.BRCP85C5CNBDRD.f09_g16.008', 'b.e11.BRCP85C5CNBDRD.f09_g16.009', 'b.e11.BRCP85C5CNBDRD.f09_g16.010', 'b.e11.BRCP85C5CNBDRD.f09_g16.011', 'b.e11.BRCP85C5CNBDRD.f09_g16.012', 'b.e11.BRCP85C5CNBDRD.f09_g16.013', 'b.e11.BRCP85C5CNBDRD.f09_g16.014', 'b.e11.BRCP85C5CNBDRD.f09_g16.015', 'b.e11.BRCP85C5CNBDRD.f09_g16.016', 'b.e11.BRCP85C5CNBDRD.f09_g16.017', 'b.e11.BRCP85C5CNBDRD.f09_g16.018', 'b.e11.BRCP85C5CNBDRD.f09_g16.019', 'b.e11.BRCP85C5CNBDRD.f09_g16.020', 'b.e11.BRCP85C5CNBDRD.f09_g16.021', 'b.e11.BRCP85C5CNBDRD.f09_g16.022', 'b.e11.BRCP85C5CNBDRD.f09_g16.023', 'b.e11.BRCP85C5CNBDRD.f09_g16.024', 'b.e11.BRCP85C5CNBDRD.f09_g16.025', 'b.e11.BRCP85C5CNBDRD.f09_g16.026', 'b.e11.BRCP85C5CNBDRD.f09_g16.027', 'b.e11.BRCP85C5CNBDRD.f09_g16.028', 'b.e11.BRCP85C5CNBDRD.f09_g16.029', 'b.e11.BRCP85C5CNBDRD.f09_g16.030', 'b.e11.BRCP85C5CNBDRD.f09_g16.031', 'b.e11.BRCP85C5CNBDRD.f09_g16.032', 'b.e11.BRCP85C5CNBDRD.f09_g16.033', 'b.e11.BRCP85C5CNBDRD.f09_g16.034', 'b.e11.BRCP85C5CNBDRD.f09_g16.035', 'b.e11.BRCP85C5CNBDRD.f09_g16.101', 'b.e11.BRCP85C5CNBDRD.f09_g16.102', 'b.e11.BRCP85C5CNBDRD.f09_g16.103', 'b.e11.BRCP85C5CNBDRD.f09_g16.104', 'b.e11.BRCP85C5CNBDRD.f09_g16.105']\n",
      "\n",
      "\n"
     ]
    }
   ],
   "source": [
    "query = dict(variable=ocn_surface_vars, component=\"ocn\", stream=\"pop.h\")\n",
    "print_query_info(query)"
   ]
  },
  {
   "cell_type": "markdown",
   "metadata": {},
   "source": [
    "### Ocean, Monthly, 3D"
   ]
  },
  {
   "cell_type": "code",
   "execution_count": 44,
   "metadata": {},
   "outputs": [
    {
     "name": "stdout",
     "output_type": "stream",
     "text": [
      "This query returned:\n",
      "\n",
      "1 unique variables: ['SALT']\n",
      "\n",
      "\n",
      "Number of files: 141\n",
      "\n",
      "\n",
      "Date ranges: ['040001-049912', '050001-059912', '060001-069912', '070001-079912', '080001-089912', '090001-099912', '100001-109912', '110001-119912', '120001-129912', '130001-139912', '140001-149912', '150001-159912', '160001-169912', '170001-179912', '180001-189912', '185001-199912', '185001-200512', '190001-199912', '192001-199912', '192001-200512', '200001-209912', '200601-208012', '200601-210012', '208101-210012', '210001-220012']\n",
      "\n",
      "\n",
      "91 cases: ['b.e11.B1850C5CN.f09_g16.005', 'b.e11.B20TRC5CNBDRD.f09_g16.001', 'b.e11.B20TRC5CNBDRD.f09_g16.002', 'b.e11.B20TRC5CNBDRD.f09_g16.003', 'b.e11.B20TRC5CNBDRD.f09_g16.004', 'b.e11.B20TRC5CNBDRD.f09_g16.005', 'b.e11.B20TRC5CNBDRD.f09_g16.006', 'b.e11.B20TRC5CNBDRD.f09_g16.007', 'b.e11.B20TRC5CNBDRD.f09_g16.008', 'b.e11.B20TRC5CNBDRD.f09_g16.009', 'b.e11.B20TRC5CNBDRD.f09_g16.010', 'b.e11.B20TRC5CNBDRD.f09_g16.011', 'b.e11.B20TRC5CNBDRD.f09_g16.012', 'b.e11.B20TRC5CNBDRD.f09_g16.013', 'b.e11.B20TRC5CNBDRD.f09_g16.014', 'b.e11.B20TRC5CNBDRD.f09_g16.015', 'b.e11.B20TRC5CNBDRD.f09_g16.016', 'b.e11.B20TRC5CNBDRD.f09_g16.017', 'b.e11.B20TRC5CNBDRD.f09_g16.018', 'b.e11.B20TRC5CNBDRD.f09_g16.019', 'b.e11.B20TRC5CNBDRD.f09_g16.020', 'b.e11.B20TRC5CNBDRD.f09_g16.021', 'b.e11.B20TRC5CNBDRD.f09_g16.022', 'b.e11.B20TRC5CNBDRD.f09_g16.023', 'b.e11.B20TRC5CNBDRD.f09_g16.024', 'b.e11.B20TRC5CNBDRD.f09_g16.025', 'b.e11.B20TRC5CNBDRD.f09_g16.026', 'b.e11.B20TRC5CNBDRD.f09_g16.027', 'b.e11.B20TRC5CNBDRD.f09_g16.028', 'b.e11.B20TRC5CNBDRD.f09_g16.029', 'b.e11.B20TRC5CNBDRD.f09_g16.030', 'b.e11.B20TRC5CNBDRD.f09_g16.031', 'b.e11.B20TRC5CNBDRD.f09_g16.032', 'b.e11.B20TRC5CNBDRD.f09_g16.033', 'b.e11.B20TRC5CNBDRD.f09_g16.034', 'b.e11.B20TRC5CNBDRD.f09_g16.035', 'b.e11.B20TRC5CNBDRD.f09_g16.101', 'b.e11.B20TRC5CNBDRD.f09_g16.102', 'b.e11.B20TRC5CNBDRD.f09_g16.103', 'b.e11.B20TRC5CNBDRD.f09_g16.104', 'b.e11.B20TRC5CNBDRD.f09_g16.105', 'b.e11.B20TRC5CNBDRD.f09_g16.OIC.001d', 'b.e11.B20TRC5CNBDRD.f09_g16.OIC.002', 'b.e11.B20TRC5CNBDRD.f09_g16.OIC.003', 'b.e11.B20TRC5CNBDRD.f09_g16.OIC.004', 'b.e11.B20TRC5CNBDRD.f09_g16.OIC.005', 'b.e11.B20TRC5CNBDRD.f09_g16.OIC.006', 'b.e11.B20TRC5CNBDRD.f09_g16.OIC.007', 'b.e11.B20TRC5CNBDRD.f09_g16.OIC.008', 'b.e11.B20TRC5CNBDRD.f09_g16.OIC.009', 'b.e11.B20TRC5CNBDRD.f09_g16.OIC.010', 'b.e11.BRCP85C5CNBDRD.f09_g16.001', 'b.e11.BRCP85C5CNBDRD.f09_g16.002', 'b.e11.BRCP85C5CNBDRD.f09_g16.003', 'b.e11.BRCP85C5CNBDRD.f09_g16.004', 'b.e11.BRCP85C5CNBDRD.f09_g16.005', 'b.e11.BRCP85C5CNBDRD.f09_g16.006', 'b.e11.BRCP85C5CNBDRD.f09_g16.007', 'b.e11.BRCP85C5CNBDRD.f09_g16.008', 'b.e11.BRCP85C5CNBDRD.f09_g16.009', 'b.e11.BRCP85C5CNBDRD.f09_g16.010', 'b.e11.BRCP85C5CNBDRD.f09_g16.011', 'b.e11.BRCP85C5CNBDRD.f09_g16.012', 'b.e11.BRCP85C5CNBDRD.f09_g16.013', 'b.e11.BRCP85C5CNBDRD.f09_g16.014', 'b.e11.BRCP85C5CNBDRD.f09_g16.015', 'b.e11.BRCP85C5CNBDRD.f09_g16.016', 'b.e11.BRCP85C5CNBDRD.f09_g16.017', 'b.e11.BRCP85C5CNBDRD.f09_g16.018', 'b.e11.BRCP85C5CNBDRD.f09_g16.019', 'b.e11.BRCP85C5CNBDRD.f09_g16.020', 'b.e11.BRCP85C5CNBDRD.f09_g16.021', 'b.e11.BRCP85C5CNBDRD.f09_g16.022', 'b.e11.BRCP85C5CNBDRD.f09_g16.023', 'b.e11.BRCP85C5CNBDRD.f09_g16.024', 'b.e11.BRCP85C5CNBDRD.f09_g16.025', 'b.e11.BRCP85C5CNBDRD.f09_g16.026', 'b.e11.BRCP85C5CNBDRD.f09_g16.027', 'b.e11.BRCP85C5CNBDRD.f09_g16.028', 'b.e11.BRCP85C5CNBDRD.f09_g16.029', 'b.e11.BRCP85C5CNBDRD.f09_g16.030', 'b.e11.BRCP85C5CNBDRD.f09_g16.031', 'b.e11.BRCP85C5CNBDRD.f09_g16.032', 'b.e11.BRCP85C5CNBDRD.f09_g16.033', 'b.e11.BRCP85C5CNBDRD.f09_g16.034', 'b.e11.BRCP85C5CNBDRD.f09_g16.035', 'b.e11.BRCP85C5CNBDRD.f09_g16.101', 'b.e11.BRCP85C5CNBDRD.f09_g16.102', 'b.e11.BRCP85C5CNBDRD.f09_g16.103', 'b.e11.BRCP85C5CNBDRD.f09_g16.104', 'b.e11.BRCP85C5CNBDRD.f09_g16.105']\n",
      "\n",
      "\n"
     ]
    }
   ],
   "source": [
    "ocn_3d_vars = [\"SALT\"]\n",
    "query = dict(variable=ocn_3d_vars, component=\"ocn\", stream=\"pop.h\")\n",
    "print_query_info(query)"
   ]
  },
  {
   "cell_type": "markdown",
   "metadata": {},
   "source": [
    "**NOTE:**\n",
    "    \n",
    "- There are **282+141=423** files. The spreadsheet mentions **438** files. "
   ]
  },
  {
   "cell_type": "markdown",
   "metadata": {},
   "source": [
    "### Ice, Monthly"
   ]
  },
  {
   "cell_type": "code",
   "execution_count": 46,
   "metadata": {},
   "outputs": [
    {
     "name": "stdout",
     "output_type": "stream",
     "text": [
      "This query returned:\n",
      "\n",
      "4 unique variables: ['aice_nh', 'aice_sh', 'hi_nh', 'hi_sh']\n",
      "\n",
      "\n",
      "Number of files: 600\n",
      "\n",
      "\n",
      "Date ranges: ['010101-019912', '020001-029912', '030001-039912', '040001-049912', '050001-059912', '060001-069912', '070001-079912', '080001-089912', '090001-099912', '090001-100112', '100001-109912', '110001-119912', '120001-129912', '130001-139912', '140001-149912', '150001-159912', '160001-169912', '170001-179912', '180001-189912', '185001-199912', '185001-200512', '190001-199912', '192001-199912', '192001-200512', '200001-209912', '200601-208012', '200601-210012', '208101-210012', '210001-220012']\n",
      "\n",
      "\n",
      "92 cases: ['b.e11.B1850C5CN.f09_g16.005', 'b.e11.B20TRC5CNBDRD.f09_g16.001', 'b.e11.B20TRC5CNBDRD.f09_g16.002', 'b.e11.B20TRC5CNBDRD.f09_g16.003', 'b.e11.B20TRC5CNBDRD.f09_g16.004', 'b.e11.B20TRC5CNBDRD.f09_g16.005', 'b.e11.B20TRC5CNBDRD.f09_g16.006', 'b.e11.B20TRC5CNBDRD.f09_g16.007', 'b.e11.B20TRC5CNBDRD.f09_g16.008', 'b.e11.B20TRC5CNBDRD.f09_g16.009', 'b.e11.B20TRC5CNBDRD.f09_g16.010', 'b.e11.B20TRC5CNBDRD.f09_g16.011', 'b.e11.B20TRC5CNBDRD.f09_g16.012', 'b.e11.B20TRC5CNBDRD.f09_g16.013', 'b.e11.B20TRC5CNBDRD.f09_g16.014', 'b.e11.B20TRC5CNBDRD.f09_g16.015', 'b.e11.B20TRC5CNBDRD.f09_g16.016', 'b.e11.B20TRC5CNBDRD.f09_g16.017', 'b.e11.B20TRC5CNBDRD.f09_g16.018', 'b.e11.B20TRC5CNBDRD.f09_g16.019', 'b.e11.B20TRC5CNBDRD.f09_g16.020', 'b.e11.B20TRC5CNBDRD.f09_g16.021', 'b.e11.B20TRC5CNBDRD.f09_g16.022', 'b.e11.B20TRC5CNBDRD.f09_g16.023', 'b.e11.B20TRC5CNBDRD.f09_g16.024', 'b.e11.B20TRC5CNBDRD.f09_g16.025', 'b.e11.B20TRC5CNBDRD.f09_g16.026', 'b.e11.B20TRC5CNBDRD.f09_g16.027', 'b.e11.B20TRC5CNBDRD.f09_g16.028', 'b.e11.B20TRC5CNBDRD.f09_g16.029', 'b.e11.B20TRC5CNBDRD.f09_g16.030', 'b.e11.B20TRC5CNBDRD.f09_g16.031', 'b.e11.B20TRC5CNBDRD.f09_g16.032', 'b.e11.B20TRC5CNBDRD.f09_g16.033', 'b.e11.B20TRC5CNBDRD.f09_g16.034', 'b.e11.B20TRC5CNBDRD.f09_g16.035', 'b.e11.B20TRC5CNBDRD.f09_g16.101', 'b.e11.B20TRC5CNBDRD.f09_g16.102', 'b.e11.B20TRC5CNBDRD.f09_g16.103', 'b.e11.B20TRC5CNBDRD.f09_g16.104', 'b.e11.B20TRC5CNBDRD.f09_g16.105', 'b.e11.B20TRC5CNBDRD.f09_g16.OIC.001d', 'b.e11.B20TRC5CNBDRD.f09_g16.OIC.002', 'b.e11.B20TRC5CNBDRD.f09_g16.OIC.003', 'b.e11.B20TRC5CNBDRD.f09_g16.OIC.004', 'b.e11.B20TRC5CNBDRD.f09_g16.OIC.005', 'b.e11.B20TRC5CNBDRD.f09_g16.OIC.006', 'b.e11.B20TRC5CNBDRD.f09_g16.OIC.007', 'b.e11.B20TRC5CNBDRD.f09_g16.OIC.008', 'b.e11.B20TRC5CNBDRD.f09_g16.OIC.009', 'b.e11.B20TRC5CNBDRD.f09_g16.OIC.010', 'b.e11.BRCP85C5CNBDRD.f09_g16.001', 'b.e11.BRCP85C5CNBDRD.f09_g16.002', 'b.e11.BRCP85C5CNBDRD.f09_g16.003', 'b.e11.BRCP85C5CNBDRD.f09_g16.004', 'b.e11.BRCP85C5CNBDRD.f09_g16.005', 'b.e11.BRCP85C5CNBDRD.f09_g16.006', 'b.e11.BRCP85C5CNBDRD.f09_g16.007', 'b.e11.BRCP85C5CNBDRD.f09_g16.008', 'b.e11.BRCP85C5CNBDRD.f09_g16.009', 'b.e11.BRCP85C5CNBDRD.f09_g16.010', 'b.e11.BRCP85C5CNBDRD.f09_g16.011', 'b.e11.BRCP85C5CNBDRD.f09_g16.012', 'b.e11.BRCP85C5CNBDRD.f09_g16.013', 'b.e11.BRCP85C5CNBDRD.f09_g16.014', 'b.e11.BRCP85C5CNBDRD.f09_g16.015', 'b.e11.BRCP85C5CNBDRD.f09_g16.016', 'b.e11.BRCP85C5CNBDRD.f09_g16.017', 'b.e11.BRCP85C5CNBDRD.f09_g16.018', 'b.e11.BRCP85C5CNBDRD.f09_g16.019', 'b.e11.BRCP85C5CNBDRD.f09_g16.020', 'b.e11.BRCP85C5CNBDRD.f09_g16.021', 'b.e11.BRCP85C5CNBDRD.f09_g16.022', 'b.e11.BRCP85C5CNBDRD.f09_g16.023', 'b.e11.BRCP85C5CNBDRD.f09_g16.024', 'b.e11.BRCP85C5CNBDRD.f09_g16.025', 'b.e11.BRCP85C5CNBDRD.f09_g16.026', 'b.e11.BRCP85C5CNBDRD.f09_g16.027', 'b.e11.BRCP85C5CNBDRD.f09_g16.028', 'b.e11.BRCP85C5CNBDRD.f09_g16.029', 'b.e11.BRCP85C5CNBDRD.f09_g16.030', 'b.e11.BRCP85C5CNBDRD.f09_g16.031', 'b.e11.BRCP85C5CNBDRD.f09_g16.032', 'b.e11.BRCP85C5CNBDRD.f09_g16.033', 'b.e11.BRCP85C5CNBDRD.f09_g16.034', 'b.e11.BRCP85C5CNBDRD.f09_g16.035', 'b.e11.BRCP85C5CNBDRD.f09_g16.101', 'b.e11.BRCP85C5CNBDRD.f09_g16.102', 'b.e11.BRCP85C5CNBDRD.f09_g16.103', 'b.e11.BRCP85C5CNBDRD.f09_g16.104', 'b.e11.BRCP85C5CNBDRD.f09_g16.105', 'e.e11.E1850C5CN.f09_g16.001']\n",
      "\n",
      "\n"
     ]
    }
   ],
   "source": [
    "ice_mon_vars = [\"aice_nh\", \"aice_sh\", \"hi_nh\", \"hi_sh\"]\n",
    "query = dict(variable=ice_mon_vars, component=\"ice\", stream=\"cice.h\")\n",
    "print_query_info(query)"
   ]
  },
  {
   "cell_type": "markdown",
   "metadata": {},
   "source": [
    "**NOTE:**\n",
    "    \n",
    "- There are **600** files. The spreadsheet mentions **620** files. "
   ]
  },
  {
   "cell_type": "markdown",
   "metadata": {},
   "source": [
    "I would still urge that we focus on 1920-2100, concatenate 20C & RCP8.5, combine ATM+LND and OCN+ICE if possible, and ignore the various ancillary runs, ensemble members #106-107, etc.\n",
    "\n",
    "For the monthly data, I think these regular expressions will list only, and all, the desired files:\n",
    "Atmosphere & Land:\n",
    "ls */proc/tseries/monthly/{T,U,V,Q,Z3,FLNS,FLNSC,FLUT,FSNS,FSNSC,FSNTOA,ICEFRAC,LHFLX,PRECC,PRECL,PRECSC,PRECSL,PSL,SHFLX,TMQ,TREFHT,TREFHTMN,TREFHTMX,TS,FSNO,H2OSNO,QRUNOFF,RAIN,SNOW,SOILLIQ,SOILWATER_10CM}/{b.e11.B20TRC5CNBDRD.f09_g16.{0??,10[1-5]}.*.1920*.nc,b.e11.BRCP85C5CNBDRD.f09_g16.*.nc}\n",
    "Ocean & Ice:\n",
    "ls */proc/tseries/monthly/{SSH,SST,SALT,aice,hi}/{b.e11.B20TRC5CNBDRD.f09_g16.{0??,10[1-5]}.*.1920*.nc,b.e11.BRCP85C5CNBDRD.f09_g16.*.nc}"
   ]
  },
  {
   "cell_type": "code",
   "execution_count": 69,
   "metadata": {},
   "outputs": [],
   "source": [
    "import numpy as np"
   ]
  },
  {
   "cell_type": "code",
   "execution_count": 72,
   "metadata": {},
   "outputs": [
    {
     "data": {
      "text/plain": [
       "True"
      ]
     },
     "execution_count": 72,
     "metadata": {},
     "output_type": "execute_result"
    }
   ],
   "source": [
    "np.object == col.df.case.dtype"
   ]
  },
  {
   "cell_type": "code",
   "execution_count": 63,
   "metadata": {},
   "outputs": [
    {
     "name": "stdout",
     "output_type": "stream",
     "text": [
      "This query returned:\n",
      "\n",
      "31 unique variables: ['FLNS', 'FLNSC', 'FLUT', 'FSNO', 'FSNS', 'FSNSC', 'FSNTOA', 'H2OSNO', 'ICEFRAC', 'LHFLX', 'PRECC', 'PRECL', 'PRECSC', 'PRECSL', 'PSL', 'Q', 'QRUNOFF', 'RAIN', 'SHFLX', 'SNOW', 'SOILLIQ', 'SOILWATER_10CM', 'T', 'TMQ', 'TREFHT', 'TREFHTMN', 'TREFHTMX', 'TS', 'U', 'V', 'Z3']\n",
      "\n",
      "\n",
      "Number of files: 2201\n",
      "\n",
      "\n",
      "Date ranges: ['185001-200512', '18500101-20051231', '192001-200512', '19200101-20051231']\n",
      "\n",
      "\n",
      "40 cases: ['b.e11.B20TRC5CNBDRD.f09_g16.001', 'b.e11.B20TRC5CNBDRD.f09_g16.002', 'b.e11.B20TRC5CNBDRD.f09_g16.003', 'b.e11.B20TRC5CNBDRD.f09_g16.004', 'b.e11.B20TRC5CNBDRD.f09_g16.005', 'b.e11.B20TRC5CNBDRD.f09_g16.006', 'b.e11.B20TRC5CNBDRD.f09_g16.007', 'b.e11.B20TRC5CNBDRD.f09_g16.008', 'b.e11.B20TRC5CNBDRD.f09_g16.009', 'b.e11.B20TRC5CNBDRD.f09_g16.010', 'b.e11.B20TRC5CNBDRD.f09_g16.011', 'b.e11.B20TRC5CNBDRD.f09_g16.012', 'b.e11.B20TRC5CNBDRD.f09_g16.013', 'b.e11.B20TRC5CNBDRD.f09_g16.014', 'b.e11.B20TRC5CNBDRD.f09_g16.015', 'b.e11.B20TRC5CNBDRD.f09_g16.016', 'b.e11.B20TRC5CNBDRD.f09_g16.017', 'b.e11.B20TRC5CNBDRD.f09_g16.018', 'b.e11.B20TRC5CNBDRD.f09_g16.019', 'b.e11.B20TRC5CNBDRD.f09_g16.020', 'b.e11.B20TRC5CNBDRD.f09_g16.021', 'b.e11.B20TRC5CNBDRD.f09_g16.022', 'b.e11.B20TRC5CNBDRD.f09_g16.023', 'b.e11.B20TRC5CNBDRD.f09_g16.024', 'b.e11.B20TRC5CNBDRD.f09_g16.025', 'b.e11.B20TRC5CNBDRD.f09_g16.026', 'b.e11.B20TRC5CNBDRD.f09_g16.027', 'b.e11.B20TRC5CNBDRD.f09_g16.028', 'b.e11.B20TRC5CNBDRD.f09_g16.029', 'b.e11.B20TRC5CNBDRD.f09_g16.030', 'b.e11.B20TRC5CNBDRD.f09_g16.031', 'b.e11.B20TRC5CNBDRD.f09_g16.032', 'b.e11.B20TRC5CNBDRD.f09_g16.033', 'b.e11.B20TRC5CNBDRD.f09_g16.034', 'b.e11.B20TRC5CNBDRD.f09_g16.035', 'b.e11.B20TRC5CNBDRD.f09_g16.101', 'b.e11.B20TRC5CNBDRD.f09_g16.102', 'b.e11.B20TRC5CNBDRD.f09_g16.103', 'b.e11.B20TRC5CNBDRD.f09_g16.104', 'b.e11.B20TRC5CNBDRD.f09_g16.105']\n",
      "\n",
      "\n"
     ]
    }
   ],
   "source": [
    "atm_lnd_variables = list(set(atmos_mon_3d + atmos_mon_surface + land_vars))\n",
    "members = list(range(1, 36)) + list(range(101, 106))\n",
    "\n",
    "cases = ['b.e11.B20TRC5CNBDRD.f09_g16.001', 'b.e11.B20TRC5CNBDRD.f09_g16.002', 'b.e11.B20TRC5CNBDRD.f09_g16.003', \n",
    "'b.e11.B20TRC5CNBDRD.f09_g16.004', 'b.e11.B20TRC5CNBDRD.f09_g16.005', 'b.e11.B20TRC5CNBDRD.f09_g16.006', \n",
    "'b.e11.B20TRC5CNBDRD.f09_g16.007', 'b.e11.B20TRC5CNBDRD.f09_g16.008', 'b.e11.B20TRC5CNBDRD.f09_g16.009', \n",
    "'b.e11.B20TRC5CNBDRD.f09_g16.010', 'b.e11.B20TRC5CNBDRD.f09_g16.011', 'b.e11.B20TRC5CNBDRD.f09_g16.012', \n",
    "'b.e11.B20TRC5CNBDRD.f09_g16.013', 'b.e11.B20TRC5CNBDRD.f09_g16.014', 'b.e11.B20TRC5CNBDRD.f09_g16.015', \n",
    "'b.e11.B20TRC5CNBDRD.f09_g16.016', 'b.e11.B20TRC5CNBDRD.f09_g16.017', 'b.e11.B20TRC5CNBDRD.f09_g16.018', \n",
    "'b.e11.B20TRC5CNBDRD.f09_g16.019', 'b.e11.B20TRC5CNBDRD.f09_g16.020', 'b.e11.B20TRC5CNBDRD.f09_g16.021', \n",
    "'b.e11.B20TRC5CNBDRD.f09_g16.022', 'b.e11.B20TRC5CNBDRD.f09_g16.023', 'b.e11.B20TRC5CNBDRD.f09_g16.024', \n",
    "'b.e11.B20TRC5CNBDRD.f09_g16.025', 'b.e11.B20TRC5CNBDRD.f09_g16.026', 'b.e11.B20TRC5CNBDRD.f09_g16.027', \n",
    "'b.e11.B20TRC5CNBDRD.f09_g16.028', 'b.e11.B20TRC5CNBDRD.f09_g16.029', 'b.e11.B20TRC5CNBDRD.f09_g16.030', \n",
    "'b.e11.B20TRC5CNBDRD.f09_g16.031', 'b.e11.B20TRC5CNBDRD.f09_g16.032', 'b.e11.B20TRC5CNBDRD.f09_g16.033', \n",
    "'b.e11.B20TRC5CNBDRD.f09_g16.034', 'b.e11.B20TRC5CNBDRD.f09_g16.035', 'b.e11.B20TRC5CNBDRD.f09_g16.101', \n",
    "'b.e11.B20TRC5CNBDRD.f09_g16.102', 'b.e11.B20TRC5CNBDRD.f09_g16.103', 'b.e11.B20TRC5CNBDRD.f09_g16.104', \n",
    "         'b.e11.B20TRC5CNBDRD.f09_g16.105']\n",
    "query = dict(variable=atm_lnd_variables, component=[\"atm\", \"lnd\"], experiment=[\"20C\", \"RCP85\"], case=cases)\n",
    "print_query_info(query)"
   ]
  },
  {
   "cell_type": "code",
   "execution_count": null,
   "metadata": {},
   "outputs": [],
   "source": []
  }
 ],
 "metadata": {
  "kernelspec": {
   "display_name": "Python [conda env:analysis]",
   "language": "python",
   "name": "conda-env-analysis-py"
  },
  "language_info": {
   "codemirror_mode": {
    "name": "ipython",
    "version": 3
   },
   "file_extension": ".py",
   "mimetype": "text/x-python",
   "name": "python",
   "nbconvert_exporter": "python",
   "pygments_lexer": "ipython3",
   "version": "3.7.3"
  }
 },
 "nbformat": 4,
 "nbformat_minor": 2
}
