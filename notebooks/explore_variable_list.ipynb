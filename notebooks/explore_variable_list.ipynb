{
 "cells": [
  {
   "cell_type": "code",
   "execution_count": 1,
   "metadata": {},
   "outputs": [],
   "source": [
    "import warnings\n",
    "warnings.filterwarnings(\"ignore\")\n",
    "import intake"
   ]
  },
  {
   "cell_type": "code",
   "execution_count": 2,
   "metadata": {},
   "outputs": [],
   "source": [
    "#col = intake.open_esm_metadatastore(collection_input_definition=\"CESM1-LE\", overwrite_existing=True)\n",
    "col = intake.open_esm_metadatastore(collection_name=\"CESM1-LE\")"
   ]
  },
  {
   "cell_type": "code",
   "execution_count": 3,
   "metadata": {},
   "outputs": [
    {
     "data": {
      "text/html": [
       "<div>\n",
       "<style scoped>\n",
       "    .dataframe tbody tr th:only-of-type {\n",
       "        vertical-align: middle;\n",
       "    }\n",
       "\n",
       "    .dataframe tbody tr th {\n",
       "        vertical-align: top;\n",
       "    }\n",
       "\n",
       "    .dataframe thead th {\n",
       "        text-align: right;\n",
       "    }\n",
       "</style>\n",
       "<table border=\"1\" class=\"dataframe\">\n",
       "  <thead>\n",
       "    <tr style=\"text-align: right;\">\n",
       "      <th></th>\n",
       "      <th>resource</th>\n",
       "      <th>resource_type</th>\n",
       "      <th>direct_access</th>\n",
       "      <th>experiment</th>\n",
       "      <th>case</th>\n",
       "      <th>component</th>\n",
       "      <th>stream</th>\n",
       "      <th>variable</th>\n",
       "      <th>date_range</th>\n",
       "      <th>member_id</th>\n",
       "      <th>file_fullpath</th>\n",
       "      <th>file_basename</th>\n",
       "      <th>file_dirname</th>\n",
       "      <th>ctrl_branch_year</th>\n",
       "      <th>year_offset</th>\n",
       "      <th>sequence_order</th>\n",
       "      <th>has_ocean_bgc</th>\n",
       "      <th>grid</th>\n",
       "    </tr>\n",
       "  </thead>\n",
       "  <tbody>\n",
       "    <tr>\n",
       "      <th>0</th>\n",
       "      <td>CTRL:GLADE:posix:/glade/collections/cdg/data/c...</td>\n",
       "      <td>posix</td>\n",
       "      <td>True</td>\n",
       "      <td>CTRL</td>\n",
       "      <td>f.e11.F1850C5CN.f09_f09.001</td>\n",
       "      <td>atm</td>\n",
       "      <td>cam.h1</td>\n",
       "      <td>T200</td>\n",
       "      <td>16000101-16991231</td>\n",
       "      <td>0</td>\n",
       "      <td>/glade/collections/cdg/data/cesmLE/CESM-CAM5-B...</td>\n",
       "      <td>f.e11.F1850C5CN.f09_f09.001.cam.h1.T200.160001...</td>\n",
       "      <td>/glade/collections/cdg/data/cesmLE/CESM-CAM5-B...</td>\n",
       "      <td>NaN</td>\n",
       "      <td>NaN</td>\n",
       "      <td>0</td>\n",
       "      <td>False</td>\n",
       "      <td>NaN</td>\n",
       "    </tr>\n",
       "    <tr>\n",
       "      <th>1</th>\n",
       "      <td>CTRL:GLADE:posix:/glade/collections/cdg/data/c...</td>\n",
       "      <td>posix</td>\n",
       "      <td>True</td>\n",
       "      <td>CTRL</td>\n",
       "      <td>f.e11.F1850C5CN.f09_f09.001</td>\n",
       "      <td>atm</td>\n",
       "      <td>cam.h1</td>\n",
       "      <td>T200</td>\n",
       "      <td>24000101-24991231</td>\n",
       "      <td>0</td>\n",
       "      <td>/glade/collections/cdg/data/cesmLE/CESM-CAM5-B...</td>\n",
       "      <td>f.e11.F1850C5CN.f09_f09.001.cam.h1.T200.240001...</td>\n",
       "      <td>/glade/collections/cdg/data/cesmLE/CESM-CAM5-B...</td>\n",
       "      <td>NaN</td>\n",
       "      <td>NaN</td>\n",
       "      <td>0</td>\n",
       "      <td>False</td>\n",
       "      <td>NaN</td>\n",
       "    </tr>\n",
       "    <tr>\n",
       "      <th>2</th>\n",
       "      <td>CTRL:GLADE:posix:/glade/collections/cdg/data/c...</td>\n",
       "      <td>posix</td>\n",
       "      <td>True</td>\n",
       "      <td>CTRL</td>\n",
       "      <td>f.e11.F1850C5CN.f09_f09.001</td>\n",
       "      <td>atm</td>\n",
       "      <td>cam.h1</td>\n",
       "      <td>T200</td>\n",
       "      <td>11000101-11991231</td>\n",
       "      <td>0</td>\n",
       "      <td>/glade/collections/cdg/data/cesmLE/CESM-CAM5-B...</td>\n",
       "      <td>f.e11.F1850C5CN.f09_f09.001.cam.h1.T200.110001...</td>\n",
       "      <td>/glade/collections/cdg/data/cesmLE/CESM-CAM5-B...</td>\n",
       "      <td>NaN</td>\n",
       "      <td>NaN</td>\n",
       "      <td>0</td>\n",
       "      <td>False</td>\n",
       "      <td>NaN</td>\n",
       "    </tr>\n",
       "    <tr>\n",
       "      <th>3</th>\n",
       "      <td>CTRL:GLADE:posix:/glade/collections/cdg/data/c...</td>\n",
       "      <td>posix</td>\n",
       "      <td>True</td>\n",
       "      <td>CTRL</td>\n",
       "      <td>f.e11.F1850C5CN.f09_f09.001</td>\n",
       "      <td>atm</td>\n",
       "      <td>cam.h1</td>\n",
       "      <td>T200</td>\n",
       "      <td>22000101-22991231</td>\n",
       "      <td>0</td>\n",
       "      <td>/glade/collections/cdg/data/cesmLE/CESM-CAM5-B...</td>\n",
       "      <td>f.e11.F1850C5CN.f09_f09.001.cam.h1.T200.220001...</td>\n",
       "      <td>/glade/collections/cdg/data/cesmLE/CESM-CAM5-B...</td>\n",
       "      <td>NaN</td>\n",
       "      <td>NaN</td>\n",
       "      <td>0</td>\n",
       "      <td>False</td>\n",
       "      <td>NaN</td>\n",
       "    </tr>\n",
       "    <tr>\n",
       "      <th>4</th>\n",
       "      <td>CTRL:GLADE:posix:/glade/collections/cdg/data/c...</td>\n",
       "      <td>posix</td>\n",
       "      <td>True</td>\n",
       "      <td>CTRL</td>\n",
       "      <td>f.e11.F1850C5CN.f09_f09.001</td>\n",
       "      <td>atm</td>\n",
       "      <td>cam.h1</td>\n",
       "      <td>T200</td>\n",
       "      <td>25000101-26001231</td>\n",
       "      <td>0</td>\n",
       "      <td>/glade/collections/cdg/data/cesmLE/CESM-CAM5-B...</td>\n",
       "      <td>f.e11.F1850C5CN.f09_f09.001.cam.h1.T200.250001...</td>\n",
       "      <td>/glade/collections/cdg/data/cesmLE/CESM-CAM5-B...</td>\n",
       "      <td>NaN</td>\n",
       "      <td>NaN</td>\n",
       "      <td>0</td>\n",
       "      <td>False</td>\n",
       "      <td>NaN</td>\n",
       "    </tr>\n",
       "  </tbody>\n",
       "</table>\n",
       "</div>"
      ],
      "text/plain": [
       "                                            resource resource_type  \\\n",
       "0  CTRL:GLADE:posix:/glade/collections/cdg/data/c...         posix   \n",
       "1  CTRL:GLADE:posix:/glade/collections/cdg/data/c...         posix   \n",
       "2  CTRL:GLADE:posix:/glade/collections/cdg/data/c...         posix   \n",
       "3  CTRL:GLADE:posix:/glade/collections/cdg/data/c...         posix   \n",
       "4  CTRL:GLADE:posix:/glade/collections/cdg/data/c...         posix   \n",
       "\n",
       "   direct_access experiment                         case component  stream  \\\n",
       "0           True       CTRL  f.e11.F1850C5CN.f09_f09.001       atm  cam.h1   \n",
       "1           True       CTRL  f.e11.F1850C5CN.f09_f09.001       atm  cam.h1   \n",
       "2           True       CTRL  f.e11.F1850C5CN.f09_f09.001       atm  cam.h1   \n",
       "3           True       CTRL  f.e11.F1850C5CN.f09_f09.001       atm  cam.h1   \n",
       "4           True       CTRL  f.e11.F1850C5CN.f09_f09.001       atm  cam.h1   \n",
       "\n",
       "  variable         date_range  member_id  \\\n",
       "0     T200  16000101-16991231          0   \n",
       "1     T200  24000101-24991231          0   \n",
       "2     T200  11000101-11991231          0   \n",
       "3     T200  22000101-22991231          0   \n",
       "4     T200  25000101-26001231          0   \n",
       "\n",
       "                                       file_fullpath  \\\n",
       "0  /glade/collections/cdg/data/cesmLE/CESM-CAM5-B...   \n",
       "1  /glade/collections/cdg/data/cesmLE/CESM-CAM5-B...   \n",
       "2  /glade/collections/cdg/data/cesmLE/CESM-CAM5-B...   \n",
       "3  /glade/collections/cdg/data/cesmLE/CESM-CAM5-B...   \n",
       "4  /glade/collections/cdg/data/cesmLE/CESM-CAM5-B...   \n",
       "\n",
       "                                       file_basename  \\\n",
       "0  f.e11.F1850C5CN.f09_f09.001.cam.h1.T200.160001...   \n",
       "1  f.e11.F1850C5CN.f09_f09.001.cam.h1.T200.240001...   \n",
       "2  f.e11.F1850C5CN.f09_f09.001.cam.h1.T200.110001...   \n",
       "3  f.e11.F1850C5CN.f09_f09.001.cam.h1.T200.220001...   \n",
       "4  f.e11.F1850C5CN.f09_f09.001.cam.h1.T200.250001...   \n",
       "\n",
       "                                        file_dirname  ctrl_branch_year  \\\n",
       "0  /glade/collections/cdg/data/cesmLE/CESM-CAM5-B...               NaN   \n",
       "1  /glade/collections/cdg/data/cesmLE/CESM-CAM5-B...               NaN   \n",
       "2  /glade/collections/cdg/data/cesmLE/CESM-CAM5-B...               NaN   \n",
       "3  /glade/collections/cdg/data/cesmLE/CESM-CAM5-B...               NaN   \n",
       "4  /glade/collections/cdg/data/cesmLE/CESM-CAM5-B...               NaN   \n",
       "\n",
       "   year_offset  sequence_order  has_ocean_bgc grid  \n",
       "0          NaN               0          False  NaN  \n",
       "1          NaN               0          False  NaN  \n",
       "2          NaN               0          False  NaN  \n",
       "3          NaN               0          False  NaN  \n",
       "4          NaN               0          False  NaN  "
      ]
     },
     "execution_count": 3,
     "metadata": {},
     "output_type": "execute_result"
    }
   ],
   "source": [
    "col.df.head()"
   ]
  },
  {
   "cell_type": "code",
   "execution_count": 4,
   "metadata": {},
   "outputs": [
    {
     "name": "stdout",
     "output_type": "stream",
     "text": [
      "There are:\n",
      "\n",
      "\t1) 3 experiments: \n",
      "\n",
      "\t\t['CTRL' '20C' 'RCP85']\n",
      "\n",
      "\t2) 93 cases: \n",
      "\n",
      "\t\t['f.e11.F1850C5CN.f09_f09.001' 'e.e11.E1850C5CN.f09_g16.001'\n",
      " 'b.e11.B1850C5CN.f09_g16.005' 'b.e11.B20TRC5CNBDRD.f09_g16.OIC.010'\n",
      " 'b.e11.B20TRC5CNBDRD.f09_g16.OIC.009'] etc...\n",
      "\n",
      "\t3) 5 components: \n",
      "\n",
      "\t\t['atm' 'lnd' 'rof' 'ice' 'ocn']\n",
      "\n",
      "\t4) 10 streams: \n",
      "\n",
      "\t\t['cam.h1' 'cam.h0' 'clm2.h1' 'clm2.h0' 'rtm.h1' 'rtm.h0' 'cice.h1'\n",
      " 'cice.h' 'pop.h.nday1' 'pop.h']\n",
      "\n",
      "\t5) 985 variables: \n",
      "\n",
      "\t\t['T200' 'Q200' 'FLNSC' 'Q500' 'PRECL' 'QBOT' 'TREFHTMN' 'FSNTOA' 'TAUX'\n",
      " 'TAUY'] etc...\n",
      "\n"
     ]
    }
   ],
   "source": [
    "def collection_summary(col):\n",
    "    df = col.df\n",
    "    print(\"There are:\\n\")\n",
    "    print(f\"\\t1) {df.experiment.nunique()} experiments: \\n\\n\\t\\t{df.experiment.unique()}\\n\")\n",
    "    print(f\"\\t2) {df.case.nunique()} cases: \\n\\n\\t\\t{df.case.unique()[:5]} etc...\\n\")\n",
    "    print(f\"\\t3) {df.component.nunique()} components: \\n\\n\\t\\t{df.component.unique()}\\n\")\n",
    "    print(f\"\\t4) {df.stream.nunique()} streams: \\n\\n\\t\\t{df.stream.unique()}\\n\")\n",
    "    print(f\"\\t5) {df.variable.nunique()} variables: \\n\\n\\t\\t{df.variable.unique()[:10]} etc...\\n\")\n",
    "    \n",
    "collection_summary(col)"
   ]
  },
  {
   "cell_type": "code",
   "execution_count": 5,
   "metadata": {},
   "outputs": [],
   "source": [
    "def print_info(cat):\n",
    "    query_results = cat.query_results\n",
    "    print(f\"This query returned:\\n\\n{query_results.variable.nunique()} unique variables: {query_results.variable.unique()}\\n\\n\")\n",
    "    print(f\"Number of files: {query_results.file_fullpath.nunique()}\\n\\n\")\n",
    "    print(f\"Date ranges: {query_results.date_range.unique()}\\n\\n\")"
   ]
  },
  {
   "cell_type": "markdown",
   "metadata": {},
   "source": [
    "## Variables to include in AWS"
   ]
  },
  {
   "cell_type": "markdown",
   "metadata": {},
   "source": [
    "### Atmosphere, monthly, 3D"
   ]
  },
  {
   "cell_type": "code",
   "execution_count": 6,
   "metadata": {},
   "outputs": [],
   "source": [
    "atmos_mon_3d = [\"T\", \"U\", \"V\", \"Q\", \"Z3\"]"
   ]
  },
  {
   "cell_type": "code",
   "execution_count": 7,
   "metadata": {},
   "outputs": [
    {
     "name": "stdout",
     "output_type": "stream",
     "text": [
      "This query returned:\n",
      "\n",
      "5 unique variables: ['Q' 'T' 'U' 'V' 'Z3']\n",
      "\n",
      "\n",
      "Number of files: 880\n",
      "\n",
      "\n",
      "Date ranges: ['040001-049912' '050001-059912' '060001-069912' '070001-079912'\n",
      " '080001-089912' '090001-099912' '100001-109912' '110001-119912'\n",
      " '120001-129912' '130001-139912' '140001-149912' '150001-159912'\n",
      " '160001-169912' '170001-179912' '180001-189912' '190001-199912'\n",
      " '200001-209912' '210001-220012' '185001-200512' '192001-200512'\n",
      " '185001-199912' '192001-199912' '010101-019912' '020001-029912'\n",
      " '030001-039912' '090001-100112' '000101-009912' '010001-019912'\n",
      " '210001-219912' '220001-229912' '230001-239912' '240001-249912'\n",
      " '250001-260012' '200601-208012' '208101-210012' '200601-210012']\n",
      "\n",
      "\n"
     ]
    }
   ],
   "source": [
    "cat = col.search(variable=atmos_mon_3d, component=\"atm\", stream=\"cam.h0\")\n",
    "print_info(cat)"
   ]
  },
  {
   "cell_type": "markdown",
   "metadata": {},
   "source": [
    "**NOTE:**\n",
    "    \n",
    "- There are **880** files. The spreadsheet mentions **1010** files. "
   ]
  },
  {
   "cell_type": "markdown",
   "metadata": {},
   "source": [
    "### Atmosphere, Monthly, Surface"
   ]
  },
  {
   "cell_type": "code",
   "execution_count": 8,
   "metadata": {},
   "outputs": [],
   "source": [
    "atmos_mon_surface = [\"FLNS\", \"FLNSC\", \"FLUT\", \"FSNS\", \"FSNSC\", \"FSNTOA\", \"ICEFRAC\", \n",
    "                     \"LHFLX\", \"PRECC\", \"PRECL\", \"PRECSC\", \"PRECSL\", \"PSL\", \"SHFLX\", \n",
    "                     \"TMQ\", \"TREFHT\", \"TREFHTMN\", \"TREFHTMX\", \"TS\"]"
   ]
  },
  {
   "cell_type": "code",
   "execution_count": 9,
   "metadata": {},
   "outputs": [
    {
     "name": "stdout",
     "output_type": "stream",
     "text": [
      "This query returned:\n",
      "\n",
      "19 unique variables: ['FLNS' 'FLNSC' 'FLUT' 'FSNS' 'FSNSC' 'FSNTOA' 'ICEFRAC' 'LHFLX' 'PRECC'\n",
      " 'PRECL' 'PRECSC' 'PRECSL' 'PSL' 'SHFLX' 'TMQ' 'TREFHT' 'TREFHTMN'\n",
      " 'TREFHTMX' 'TS']\n",
      "\n",
      "\n",
      "Number of files: 3345\n",
      "\n",
      "\n",
      "Date ranges: ['040001-049912' '050001-059912' '060001-069912' '070001-079912'\n",
      " '080001-089912' '090001-099912' '100001-109912' '110001-119912'\n",
      " '120001-129912' '130001-139912' '140001-149912' '150001-159912'\n",
      " '160001-169912' '170001-179912' '180001-189912' '190001-199912'\n",
      " '200001-209912' '210001-220012' '185001-200512' '192001-200512'\n",
      " '185001-199912' '192001-199912' '010101-019912' '020001-029912'\n",
      " '030001-039912' '090001-100112' '000101-009912' '010001-019912'\n",
      " '210001-219912' '220001-229912' '230001-239912' '240001-249912'\n",
      " '250001-260012' '200601-208012' '208101-210012' '200601-210012']\n",
      "\n",
      "\n"
     ]
    }
   ],
   "source": [
    "cat = col.search(variable=atmos_mon_surface, component=\"atm\", stream=\"cam.h0\")\n",
    "print_info(cat)"
   ]
  },
  {
   "cell_type": "markdown",
   "metadata": {},
   "source": [
    "**NOTE:**\n",
    "    \n",
    "- There are **3345** files. The spreadsheet mentions **3839** files. "
   ]
  },
  {
   "cell_type": "markdown",
   "metadata": {},
   "source": [
    "### Land, Monthly"
   ]
  },
  {
   "cell_type": "code",
   "execution_count": 10,
   "metadata": {},
   "outputs": [],
   "source": [
    "land_vars = [\"FSNO\", \"H2OSNO\", \"QRUNOFF\", \"RAIN\", \"SNOW\", \"SOILLIQ\", \"SOILWATER_10CM\"]"
   ]
  },
  {
   "cell_type": "code",
   "execution_count": 11,
   "metadata": {},
   "outputs": [
    {
     "name": "stdout",
     "output_type": "stream",
     "text": [
      "This query returned:\n",
      "\n",
      "7 unique variables: ['FSNO' 'H2OSNO' 'QRUNOFF' 'RAIN' 'SNOW' 'SOILLIQ' 'SOILWATER_10CM']\n",
      "\n",
      "\n",
      "Number of files: 1232\n",
      "\n",
      "\n",
      "Date ranges: ['040001-049912' '050001-059912' '060001-069912' '070001-079912'\n",
      " '080001-089912' '090001-099912' '100001-109912' '110001-119912'\n",
      " '120001-129912' '130001-139912' '140001-149912' '150001-159912'\n",
      " '160001-169912' '170001-179912' '180001-189912' '190001-199912'\n",
      " '200001-209912' '210001-220012' '185001-200512' '192001-200512'\n",
      " '185001-199912' '192001-199912' '010101-019912' '020001-029912'\n",
      " '030001-039912' '090001-100112' '000101-009912' '010001-019912'\n",
      " '210001-219912' '220001-229912' '230001-239912' '240001-249912'\n",
      " '250001-260012' '200601-208012' '208101-210012' '200601-210012']\n",
      "\n",
      "\n"
     ]
    }
   ],
   "source": [
    "cat = col.search(variable=land_vars, component=\"lnd\", stream=\"clm2.h0\")\n",
    "print_info(cat)"
   ]
  },
  {
   "cell_type": "markdown",
   "metadata": {},
   "source": [
    "### Land, Daily"
   ]
  },
  {
   "cell_type": "code",
   "execution_count": 12,
   "metadata": {},
   "outputs": [
    {
     "name": "stdout",
     "output_type": "stream",
     "text": [
      "This query returned:\n",
      "\n",
      "6 unique variables: ['FSNO' 'H2OSNO' 'QRUNOFF' 'RAIN' 'SNOW' 'SOILWATER_10CM']\n",
      "\n",
      "\n",
      "Number of files: 1056\n",
      "\n",
      "\n",
      "Date ranges: ['04030101-04991231' '05000101-05991231' '06000101-06991231'\n",
      " '07000101-07991231' '08000101-08991231' '09000101-09991231'\n",
      " '10000101-10991231' '11000101-11991231' '12000101-12991231'\n",
      " '13000101-13991231' '14000101-14991231' '15000101-15991231'\n",
      " '16000101-16991231' '17000101-17991231' '18000101-18991231'\n",
      " '19000101-19991231' '20000101-20991231' '21000101-22001231'\n",
      " '18500101-20051231' '19200101-20051231' '18500101-19991231'\n",
      " '19200101-19991231' '01010101-01991231' '02000101-02991231'\n",
      " '03000101-03991231' '04000101-04991231' '09000101-10011231'\n",
      " '00010101-00991231' '01000101-01991231' '21000101-21991231'\n",
      " '22000101-22991231' '23000101-23991231' '24000101-24991231'\n",
      " '25000101-26001231' '20060101-20801231' '20810101-21001231'\n",
      " '20060101-21001231']\n",
      "\n",
      "\n"
     ]
    }
   ],
   "source": [
    "cat = col.search(variable=land_vars, component=\"lnd\", stream=\"clm2.h1\")\n",
    "print_info(cat)"
   ]
  },
  {
   "cell_type": "markdown",
   "metadata": {},
   "source": [
    "**NOTE:**\n",
    "    \n",
    "- There are **1056+1232=2288** files. The spreadsheet mentions **1414** files. "
   ]
  },
  {
   "cell_type": "markdown",
   "metadata": {},
   "source": [
    "### Ocean, Monthly, Surface"
   ]
  },
  {
   "cell_type": "code",
   "execution_count": 13,
   "metadata": {},
   "outputs": [],
   "source": [
    "ocn_surface_vars = [\"SST\", \"SSH\"]"
   ]
  },
  {
   "cell_type": "code",
   "execution_count": 14,
   "metadata": {},
   "outputs": [
    {
     "name": "stdout",
     "output_type": "stream",
     "text": [
      "This query returned:\n",
      "\n",
      "2 unique variables: ['SSH' 'SST']\n",
      "\n",
      "\n",
      "Number of files: 282\n",
      "\n",
      "\n",
      "Date ranges: ['040001-049912' '050001-059912' '060001-069912' '070001-079912'\n",
      " '080001-089912' '090001-099912' '100001-109912' '110001-119912'\n",
      " '120001-129912' '130001-139912' '140001-149912' '150001-159912'\n",
      " '160001-169912' '170001-179912' '180001-189912' '190001-199912'\n",
      " '200001-209912' '210001-220012' '185001-200512' '192001-200512'\n",
      " '185001-199912' '192001-199912' '200601-208012' '208101-210012'\n",
      " '200601-210012']\n",
      "\n",
      "\n"
     ]
    }
   ],
   "source": [
    "cat = col.search(variable=ocn_surface_vars, component=\"ocn\", stream=\"pop.h\")\n",
    "print_info(cat)"
   ]
  },
  {
   "cell_type": "markdown",
   "metadata": {},
   "source": [
    "### Ocean, Monthly, 3D"
   ]
  },
  {
   "cell_type": "code",
   "execution_count": 15,
   "metadata": {},
   "outputs": [
    {
     "name": "stdout",
     "output_type": "stream",
     "text": [
      "This query returned:\n",
      "\n",
      "1 unique variables: ['SALT']\n",
      "\n",
      "\n",
      "Number of files: 141\n",
      "\n",
      "\n",
      "Date ranges: ['040001-049912' '050001-059912' '060001-069912' '070001-079912'\n",
      " '080001-089912' '090001-099912' '100001-109912' '110001-119912'\n",
      " '120001-129912' '130001-139912' '140001-149912' '150001-159912'\n",
      " '160001-169912' '170001-179912' '180001-189912' '190001-199912'\n",
      " '200001-209912' '210001-220012' '185001-200512' '192001-200512'\n",
      " '185001-199912' '192001-199912' '200601-208012' '208101-210012'\n",
      " '200601-210012']\n",
      "\n",
      "\n"
     ]
    }
   ],
   "source": [
    "ocn_3d_vars = [\"SALT\"]\n",
    "cat = col.search(variable=ocn_3d_vars, component=\"ocn\", stream=\"pop.h\")\n",
    "print_info(cat)"
   ]
  },
  {
   "cell_type": "markdown",
   "metadata": {},
   "source": [
    "**NOTE:**\n",
    "    \n",
    "- There are **282+141=423** files. The spreadsheet mentions **438** files. "
   ]
  },
  {
   "cell_type": "markdown",
   "metadata": {},
   "source": [
    "### Ice, Monthly"
   ]
  },
  {
   "cell_type": "code",
   "execution_count": 16,
   "metadata": {},
   "outputs": [
    {
     "name": "stdout",
     "output_type": "stream",
     "text": [
      "This query returned:\n",
      "\n",
      "4 unique variables: ['aice_nh' 'aice_sh' 'hi_nh' 'hi_sh']\n",
      "\n",
      "\n",
      "Number of files: 600\n",
      "\n",
      "\n",
      "Date ranges: ['040001-049912' '050001-059912' '060001-069912' '070001-079912'\n",
      " '080001-089912' '090001-099912' '100001-109912' '110001-119912'\n",
      " '120001-129912' '130001-139912' '140001-149912' '150001-159912'\n",
      " '160001-169912' '170001-179912' '180001-189912' '190001-199912'\n",
      " '200001-209912' '210001-220012' '185001-200512' '192001-200512'\n",
      " '185001-199912' '192001-199912' '010101-019912' '020001-029912'\n",
      " '030001-039912' '090001-100112' '200601-208012' '208101-210012'\n",
      " '200601-210012']\n",
      "\n",
      "\n"
     ]
    }
   ],
   "source": [
    "ice_mon_vars = [\"aice_nh\", \"aice_sh\", \"hi_nh\", \"hi_sh\"]\n",
    "cat = col.search(variable=ice_mon_vars, component=\"ice\", stream=\"cice.h\")\n",
    "print_info(cat)"
   ]
  },
  {
   "cell_type": "markdown",
   "metadata": {},
   "source": [
    "**NOTE:**\n",
    "    \n",
    "- There are **600** files. The spreadsheet mentions **620** files. "
   ]
  }
 ],
 "metadata": {
  "kernelspec": {
   "display_name": "Python 3",
   "language": "python",
   "name": "python3"
  },
  "language_info": {
   "codemirror_mode": {
    "name": "ipython",
    "version": 3
   },
   "file_extension": ".py",
   "mimetype": "text/x-python",
   "name": "python",
   "nbconvert_exporter": "python",
   "pygments_lexer": "ipython3",
   "version": "3.7.3"
  }
 },
 "nbformat": 4,
 "nbformat_minor": 2
}
