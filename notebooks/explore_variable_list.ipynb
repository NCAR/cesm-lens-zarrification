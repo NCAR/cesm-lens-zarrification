{
 "cells": [
  {
   "cell_type": "code",
   "execution_count": 1,
   "metadata": {},
   "outputs": [],
   "source": [
    "import warnings\n",
    "warnings.filterwarnings(\"ignore\")\n",
    "import intake"
   ]
  },
  {
   "cell_type": "code",
   "execution_count": 2,
   "metadata": {},
   "outputs": [
    {
     "name": "stdout",
     "output_type": "stream",
     "text": [
      "Getting file listing: CTRL:GLADE:posix:/glade/collections/cdg/data/cesmLE/CESM-CAM5-BGC-LE\n"
     ]
    },
    {
     "data": {
      "application/vnd.jupyter.widget-view+json": {
       "model_id": "a868ce8f07ab402e9ec482a4aa5c53c5",
       "version_major": 2,
       "version_minor": 0
      },
      "text/plain": [
       "HBox(children=(IntProgress(value=0, description='file listing', max=159351, style=ProgressStyle(description_wi…"
      ]
     },
     "metadata": {},
     "output_type": "display_data"
    },
    {
     "name": "stdout",
     "output_type": "stream",
     "text": [
      "Filename : f.e11.FAMIPC5CN.f09_f09.rcp85.toga.ens10.clm2.h0.THBOT.200601-201412.nc_temp_.nc does not conform to expected pattern\n",
      "Filename : f.e11.FAMIPC5CN.f09_f09.rcp85.toga.ens10.clm2.h0.ERRH2OSNO.200601-201412.nc_temp_.nc does not conform to expected pattern\n",
      "Filename : f.e11.FAMIPC5CN.f09_f09.rcp85.toga.ens10.clm2.h0.PSNSUN.200601-201412.nc_temp_.nc does not conform to expected pattern\n",
      "Filename : f.e11.FAMIPC5CN.f09_f09.rcp85.toga.ens10.clm2.h0.PRODUCT_CLOSS.200601-201412.nc_temp_.nc does not conform to expected pattern\n",
      "Filename : f.e11.FAMIPC5CN.f09_f09.rcp85.toga.ens10.clm2.h0.PSNSUN_TO_CPOOL.200601-201412.nc_temp_.nc does not conform to expected pattern\n",
      "\n",
      "Getting file listing: CTRL:HPSS:hsi:/CCSM/csm/CESM-CAM5-BGC-LE\n",
      "Getting file listing: 20C:GLADE:posix:/glade/collections/cdg/data/cesmLE/CESM-CAM5-BGC-LE\n"
     ]
    },
    {
     "data": {
      "application/vnd.jupyter.widget-view+json": {
       "model_id": "6722fe6905e1477da33620b2626ceaa0",
       "version_major": 2,
       "version_minor": 0
      },
      "text/plain": [
       "HBox(children=(IntProgress(value=0, description='file listing', max=159351, style=ProgressStyle(description_wi…"
      ]
     },
     "metadata": {},
     "output_type": "display_data"
    },
    {
     "name": "stdout",
     "output_type": "stream",
     "text": [
      "Filename : f.e11.FAMIPC5CN.f09_f09.rcp85.toga.ens10.clm2.h0.THBOT.200601-201412.nc_temp_.nc does not conform to expected pattern\n",
      "Filename : f.e11.FAMIPC5CN.f09_f09.rcp85.toga.ens10.clm2.h0.ERRH2OSNO.200601-201412.nc_temp_.nc does not conform to expected pattern\n",
      "Filename : f.e11.FAMIPC5CN.f09_f09.rcp85.toga.ens10.clm2.h0.PSNSUN.200601-201412.nc_temp_.nc does not conform to expected pattern\n",
      "Filename : f.e11.FAMIPC5CN.f09_f09.rcp85.toga.ens10.clm2.h0.PRODUCT_CLOSS.200601-201412.nc_temp_.nc does not conform to expected pattern\n",
      "Filename : f.e11.FAMIPC5CN.f09_f09.rcp85.toga.ens10.clm2.h0.PSNSUN_TO_CPOOL.200601-201412.nc_temp_.nc does not conform to expected pattern\n",
      "\n",
      "Getting file listing: 20C:HPSS:hsi:/CCSM/csm/CESM-CAM5-BGC-LE\n",
      "Getting file listing: RCP85:GLADE:posix:/glade/collections/cdg/data/cesmLE/CESM-CAM5-BGC-LE\n"
     ]
    },
    {
     "data": {
      "application/vnd.jupyter.widget-view+json": {
       "model_id": "0428276f24c041249386a3df03864ebc",
       "version_major": 2,
       "version_minor": 0
      },
      "text/plain": [
       "HBox(children=(IntProgress(value=0, description='file listing', max=159351, style=ProgressStyle(description_wi…"
      ]
     },
     "metadata": {},
     "output_type": "display_data"
    },
    {
     "name": "stdout",
     "output_type": "stream",
     "text": [
      "Filename : f.e11.FAMIPC5CN.f09_f09.rcp85.toga.ens10.clm2.h0.THBOT.200601-201412.nc_temp_.nc does not conform to expected pattern\n",
      "Filename : f.e11.FAMIPC5CN.f09_f09.rcp85.toga.ens10.clm2.h0.ERRH2OSNO.200601-201412.nc_temp_.nc does not conform to expected pattern\n",
      "Filename : f.e11.FAMIPC5CN.f09_f09.rcp85.toga.ens10.clm2.h0.PSNSUN.200601-201412.nc_temp_.nc does not conform to expected pattern\n",
      "Filename : f.e11.FAMIPC5CN.f09_f09.rcp85.toga.ens10.clm2.h0.PRODUCT_CLOSS.200601-201412.nc_temp_.nc does not conform to expected pattern\n",
      "Filename : f.e11.FAMIPC5CN.f09_f09.rcp85.toga.ens10.clm2.h0.PSNSUN_TO_CPOOL.200601-201412.nc_temp_.nc does not conform to expected pattern\n",
      "\n",
      "Getting file listing: RCP85:HPSS:hsi:/CCSM/csm/CESM-CAM5-BGC-LE\n",
      "<class 'pandas.core.frame.DataFrame'>\n",
      "RangeIndex: 110702 entries, 0 to 110701\n",
      "Data columns (total 18 columns):\n",
      "resource            110702 non-null object\n",
      "resource_type       110702 non-null object\n",
      "direct_access       110702 non-null object\n",
      "experiment          110702 non-null object\n",
      "case                110702 non-null object\n",
      "component           110702 non-null object\n",
      "stream              110702 non-null object\n",
      "variable            110702 non-null object\n",
      "date_range          110702 non-null object\n",
      "member_id           110702 non-null object\n",
      "file_fullpath       110702 non-null object\n",
      "file_basename       110702 non-null object\n",
      "file_dirname        110702 non-null object\n",
      "ctrl_branch_year    95609 non-null object\n",
      "year_offset         15093 non-null object\n",
      "sequence_order      110702 non-null object\n",
      "has_ocean_bgc       110702 non-null object\n",
      "grid                13013 non-null object\n",
      "dtypes: object(18)\n",
      "memory usage: 15.2+ MB\n",
      "None\n",
      "Persisting CESM1-LE at : /glade/u/home/abanihi/.intake_esm/collections/cesm/CESM1-LE.cesm.csv\n"
     ]
    }
   ],
   "source": [
    "col = intake.open_esm_metadatastore(collection_input_definition=\"CESM1-LE\", overwrite_existing=True)"
   ]
  },
  {
   "cell_type": "code",
   "execution_count": 3,
   "metadata": {},
   "outputs": [
    {
     "data": {
      "text/html": [
       "<div>\n",
       "<style scoped>\n",
       "    .dataframe tbody tr th:only-of-type {\n",
       "        vertical-align: middle;\n",
       "    }\n",
       "\n",
       "    .dataframe tbody tr th {\n",
       "        vertical-align: top;\n",
       "    }\n",
       "\n",
       "    .dataframe thead th {\n",
       "        text-align: right;\n",
       "    }\n",
       "</style>\n",
       "<table border=\"1\" class=\"dataframe\">\n",
       "  <thead>\n",
       "    <tr style=\"text-align: right;\">\n",
       "      <th></th>\n",
       "      <th>resource</th>\n",
       "      <th>resource_type</th>\n",
       "      <th>direct_access</th>\n",
       "      <th>experiment</th>\n",
       "      <th>case</th>\n",
       "      <th>component</th>\n",
       "      <th>stream</th>\n",
       "      <th>variable</th>\n",
       "      <th>date_range</th>\n",
       "      <th>member_id</th>\n",
       "      <th>file_fullpath</th>\n",
       "      <th>file_basename</th>\n",
       "      <th>file_dirname</th>\n",
       "      <th>ctrl_branch_year</th>\n",
       "      <th>year_offset</th>\n",
       "      <th>sequence_order</th>\n",
       "      <th>has_ocean_bgc</th>\n",
       "      <th>grid</th>\n",
       "    </tr>\n",
       "  </thead>\n",
       "  <tbody>\n",
       "    <tr>\n",
       "      <th>0</th>\n",
       "      <td>CTRL:GLADE:posix:/glade/collections/cdg/data/c...</td>\n",
       "      <td>posix</td>\n",
       "      <td>True</td>\n",
       "      <td>CTRL</td>\n",
       "      <td>b.e11.B1850C5CN.f09_g16.005</td>\n",
       "      <td>atm</td>\n",
       "      <td>cam.h1</td>\n",
       "      <td>T200</td>\n",
       "      <td>18000101-18991231</td>\n",
       "      <td>0</td>\n",
       "      <td>/glade/collections/cdg/data/cesmLE/CESM-CAM5-B...</td>\n",
       "      <td>b.e11.B1850C5CN.f09_g16.005.cam.h1.T200.180001...</td>\n",
       "      <td>/glade/collections/cdg/data/cesmLE/CESM-CAM5-B...</td>\n",
       "      <td>NaN</td>\n",
       "      <td>1448.0</td>\n",
       "      <td>0</td>\n",
       "      <td>True</td>\n",
       "      <td>NaN</td>\n",
       "    </tr>\n",
       "    <tr>\n",
       "      <th>1</th>\n",
       "      <td>CTRL:GLADE:posix:/glade/collections/cdg/data/c...</td>\n",
       "      <td>posix</td>\n",
       "      <td>True</td>\n",
       "      <td>CTRL</td>\n",
       "      <td>b.e11.B1850C5CN.f09_g16.005</td>\n",
       "      <td>atm</td>\n",
       "      <td>cam.h1</td>\n",
       "      <td>T200</td>\n",
       "      <td>08000101-08991231</td>\n",
       "      <td>0</td>\n",
       "      <td>/glade/collections/cdg/data/cesmLE/CESM-CAM5-B...</td>\n",
       "      <td>b.e11.B1850C5CN.f09_g16.005.cam.h1.T200.080001...</td>\n",
       "      <td>/glade/collections/cdg/data/cesmLE/CESM-CAM5-B...</td>\n",
       "      <td>NaN</td>\n",
       "      <td>1448.0</td>\n",
       "      <td>0</td>\n",
       "      <td>True</td>\n",
       "      <td>NaN</td>\n",
       "    </tr>\n",
       "    <tr>\n",
       "      <th>2</th>\n",
       "      <td>CTRL:GLADE:posix:/glade/collections/cdg/data/c...</td>\n",
       "      <td>posix</td>\n",
       "      <td>True</td>\n",
       "      <td>CTRL</td>\n",
       "      <td>b.e11.B1850C5CN.f09_g16.005</td>\n",
       "      <td>atm</td>\n",
       "      <td>cam.h1</td>\n",
       "      <td>T200</td>\n",
       "      <td>04020101-04991231</td>\n",
       "      <td>0</td>\n",
       "      <td>/glade/collections/cdg/data/cesmLE/CESM-CAM5-B...</td>\n",
       "      <td>b.e11.B1850C5CN.f09_g16.005.cam.h1.T200.040201...</td>\n",
       "      <td>/glade/collections/cdg/data/cesmLE/CESM-CAM5-B...</td>\n",
       "      <td>NaN</td>\n",
       "      <td>1448.0</td>\n",
       "      <td>0</td>\n",
       "      <td>True</td>\n",
       "      <td>NaN</td>\n",
       "    </tr>\n",
       "    <tr>\n",
       "      <th>3</th>\n",
       "      <td>CTRL:GLADE:posix:/glade/collections/cdg/data/c...</td>\n",
       "      <td>posix</td>\n",
       "      <td>True</td>\n",
       "      <td>CTRL</td>\n",
       "      <td>b.e11.B1850C5CN.f09_g16.005</td>\n",
       "      <td>atm</td>\n",
       "      <td>cam.h1</td>\n",
       "      <td>T200</td>\n",
       "      <td>10000101-10991231</td>\n",
       "      <td>0</td>\n",
       "      <td>/glade/collections/cdg/data/cesmLE/CESM-CAM5-B...</td>\n",
       "      <td>b.e11.B1850C5CN.f09_g16.005.cam.h1.T200.100001...</td>\n",
       "      <td>/glade/collections/cdg/data/cesmLE/CESM-CAM5-B...</td>\n",
       "      <td>NaN</td>\n",
       "      <td>1448.0</td>\n",
       "      <td>0</td>\n",
       "      <td>True</td>\n",
       "      <td>NaN</td>\n",
       "    </tr>\n",
       "    <tr>\n",
       "      <th>4</th>\n",
       "      <td>CTRL:GLADE:posix:/glade/collections/cdg/data/c...</td>\n",
       "      <td>posix</td>\n",
       "      <td>True</td>\n",
       "      <td>CTRL</td>\n",
       "      <td>b.e11.B1850C5CN.f09_g16.005</td>\n",
       "      <td>atm</td>\n",
       "      <td>cam.h1</td>\n",
       "      <td>T200</td>\n",
       "      <td>11000101-11991231</td>\n",
       "      <td>0</td>\n",
       "      <td>/glade/collections/cdg/data/cesmLE/CESM-CAM5-B...</td>\n",
       "      <td>b.e11.B1850C5CN.f09_g16.005.cam.h1.T200.110001...</td>\n",
       "      <td>/glade/collections/cdg/data/cesmLE/CESM-CAM5-B...</td>\n",
       "      <td>NaN</td>\n",
       "      <td>1448.0</td>\n",
       "      <td>0</td>\n",
       "      <td>True</td>\n",
       "      <td>NaN</td>\n",
       "    </tr>\n",
       "  </tbody>\n",
       "</table>\n",
       "</div>"
      ],
      "text/plain": [
       "                                            resource resource_type  \\\n",
       "0  CTRL:GLADE:posix:/glade/collections/cdg/data/c...         posix   \n",
       "1  CTRL:GLADE:posix:/glade/collections/cdg/data/c...         posix   \n",
       "2  CTRL:GLADE:posix:/glade/collections/cdg/data/c...         posix   \n",
       "3  CTRL:GLADE:posix:/glade/collections/cdg/data/c...         posix   \n",
       "4  CTRL:GLADE:posix:/glade/collections/cdg/data/c...         posix   \n",
       "\n",
       "   direct_access experiment                         case component  stream  \\\n",
       "0           True       CTRL  b.e11.B1850C5CN.f09_g16.005       atm  cam.h1   \n",
       "1           True       CTRL  b.e11.B1850C5CN.f09_g16.005       atm  cam.h1   \n",
       "2           True       CTRL  b.e11.B1850C5CN.f09_g16.005       atm  cam.h1   \n",
       "3           True       CTRL  b.e11.B1850C5CN.f09_g16.005       atm  cam.h1   \n",
       "4           True       CTRL  b.e11.B1850C5CN.f09_g16.005       atm  cam.h1   \n",
       "\n",
       "  variable         date_range  member_id  \\\n",
       "0     T200  18000101-18991231          0   \n",
       "1     T200  08000101-08991231          0   \n",
       "2     T200  04020101-04991231          0   \n",
       "3     T200  10000101-10991231          0   \n",
       "4     T200  11000101-11991231          0   \n",
       "\n",
       "                                       file_fullpath  \\\n",
       "0  /glade/collections/cdg/data/cesmLE/CESM-CAM5-B...   \n",
       "1  /glade/collections/cdg/data/cesmLE/CESM-CAM5-B...   \n",
       "2  /glade/collections/cdg/data/cesmLE/CESM-CAM5-B...   \n",
       "3  /glade/collections/cdg/data/cesmLE/CESM-CAM5-B...   \n",
       "4  /glade/collections/cdg/data/cesmLE/CESM-CAM5-B...   \n",
       "\n",
       "                                       file_basename  \\\n",
       "0  b.e11.B1850C5CN.f09_g16.005.cam.h1.T200.180001...   \n",
       "1  b.e11.B1850C5CN.f09_g16.005.cam.h1.T200.080001...   \n",
       "2  b.e11.B1850C5CN.f09_g16.005.cam.h1.T200.040201...   \n",
       "3  b.e11.B1850C5CN.f09_g16.005.cam.h1.T200.100001...   \n",
       "4  b.e11.B1850C5CN.f09_g16.005.cam.h1.T200.110001...   \n",
       "\n",
       "                                        file_dirname  ctrl_branch_year  \\\n",
       "0  /glade/collections/cdg/data/cesmLE/CESM-CAM5-B...               NaN   \n",
       "1  /glade/collections/cdg/data/cesmLE/CESM-CAM5-B...               NaN   \n",
       "2  /glade/collections/cdg/data/cesmLE/CESM-CAM5-B...               NaN   \n",
       "3  /glade/collections/cdg/data/cesmLE/CESM-CAM5-B...               NaN   \n",
       "4  /glade/collections/cdg/data/cesmLE/CESM-CAM5-B...               NaN   \n",
       "\n",
       "   year_offset  sequence_order  has_ocean_bgc grid  \n",
       "0       1448.0               0           True  NaN  \n",
       "1       1448.0               0           True  NaN  \n",
       "2       1448.0               0           True  NaN  \n",
       "3       1448.0               0           True  NaN  \n",
       "4       1448.0               0           True  NaN  "
      ]
     },
     "execution_count": 3,
     "metadata": {},
     "output_type": "execute_result"
    }
   ],
   "source": [
    "col.df.head()"
   ]
  },
  {
   "cell_type": "code",
   "execution_count": 4,
   "metadata": {},
   "outputs": [
    {
     "data": {
      "text/plain": [
       "array(['posix'], dtype=object)"
      ]
     },
     "execution_count": 4,
     "metadata": {},
     "output_type": "execute_result"
    }
   ],
   "source": [
    "col.df.resource_type.unique()"
   ]
  },
  {
   "cell_type": "code",
   "execution_count": 5,
   "metadata": {},
   "outputs": [
    {
     "data": {
      "text/plain": [
       "array(['atm', 'ocn', 'lnd', 'rof', 'ice'], dtype=object)"
      ]
     },
     "execution_count": 5,
     "metadata": {},
     "output_type": "execute_result"
    }
   ],
   "source": [
    "col.df.component.unique()"
   ]
  },
  {
   "cell_type": "code",
   "execution_count": 6,
   "metadata": {},
   "outputs": [],
   "source": [
    "variables = col.df.variable.unique()"
   ]
  },
  {
   "cell_type": "code",
   "execution_count": 7,
   "metadata": {},
   "outputs": [],
   "source": [
    "def print_info(cat):\n",
    "    query_results = cat.query_results\n",
    "    print(f\"There are/is {query_results.variable.nunique()} unique variables: {query_results.variable.unique()}\\n\\n\")\n",
    "    print(f\"Number of files: {query_results.file_fullpath.nunique()}\\n\\n\")\n",
    "    print(f\"Date ranges: {query_results.date_range.unique()}\\n\\n\")\n"
   ]
  },
  {
   "cell_type": "markdown",
   "metadata": {},
   "source": [
    "## Variables to include in AWS"
   ]
  },
  {
   "cell_type": "markdown",
   "metadata": {},
   "source": [
    "### Atmosphere, monthly, 3D"
   ]
  },
  {
   "cell_type": "code",
   "execution_count": 8,
   "metadata": {},
   "outputs": [],
   "source": [
    "atmos_mon_3d = [\"T\", \"U\", \"V\", \"Q\", \"Z3\"]"
   ]
  },
  {
   "cell_type": "code",
   "execution_count": 9,
   "metadata": {},
   "outputs": [
    {
     "name": "stdout",
     "output_type": "stream",
     "text": [
      "There are/is 5 unique variables: ['Q' 'T' 'U' 'V' 'Z3']\n",
      "\n",
      "\n",
      "Number of files: 655\n",
      "\n",
      "\n",
      "Date ranges: ['040001-049912' '050001-059912' '060001-069912' '070001-079912'\n",
      " '080001-089912' '090001-099912' '100001-109912' '110001-119912'\n",
      " '120001-129912' '130001-139912' '140001-149912' '150001-159912'\n",
      " '160001-169912' '170001-179912' '180001-189912' '190001-199912'\n",
      " '200001-209912' '210001-220012' '185001-200512' '192001-200512'\n",
      " '200601-208012' '208101-210012' '200601-210012']\n",
      "\n",
      "\n"
     ]
    }
   ],
   "source": [
    "cat = col.search(variable=atmos_mon_3d, component=\"atm\", stream=\"cam.h0\")\n",
    "print_info(cat)"
   ]
  },
  {
   "cell_type": "markdown",
   "metadata": {},
   "source": [
    "**NOTE:**\n",
    "    \n",
    "- There are **655** files. The spreadsheet mentions **1010** files. "
   ]
  },
  {
   "cell_type": "markdown",
   "metadata": {},
   "source": [
    "### Atmosphere, Monthly, Surface"
   ]
  },
  {
   "cell_type": "code",
   "execution_count": 10,
   "metadata": {},
   "outputs": [],
   "source": [
    "atmos_mon_surface = [\"FLNS\", \"FLNSC\", \"FLUT\", \"FSNS\", \"FSNSC\", \"FSNTOA\", \"ICEFRAC\", \n",
    "                     \"LHFLX\", \"PRECC\", \"PRECL\", \"PRECSC\", \"PRECSL\", \"PSL\", \"SHFLX\", \n",
    "                     \"TMQ\", \"TREFHT\", \"TREFHTMN\", \"TREFHTMX\", \"TS\"]"
   ]
  },
  {
   "cell_type": "code",
   "execution_count": 11,
   "metadata": {},
   "outputs": [
    {
     "name": "stdout",
     "output_type": "stream",
     "text": [
      "There are/is 19 unique variables: ['FLNS' 'FLNSC' 'FLUT' 'FSNS' 'FSNSC' 'FSNTOA' 'ICEFRAC' 'LHFLX' 'PRECC'\n",
      " 'PRECL' 'PRECSC' 'PRECSL' 'PSL' 'SHFLX' 'TMQ' 'TREFHT' 'TREFHTMN'\n",
      " 'TREFHTMX' 'TS']\n",
      "\n",
      "\n",
      "Number of files: 2490\n",
      "\n",
      "\n",
      "Date ranges: ['040001-049912' '050001-059912' '060001-069912' '070001-079912'\n",
      " '080001-089912' '090001-099912' '100001-109912' '110001-119912'\n",
      " '120001-129912' '130001-139912' '140001-149912' '150001-159912'\n",
      " '160001-169912' '170001-179912' '180001-189912' '190001-199912'\n",
      " '200001-209912' '210001-220012' '185001-200512' '192001-200512'\n",
      " '200601-208012' '208101-210012' '200601-210012']\n",
      "\n",
      "\n"
     ]
    }
   ],
   "source": [
    "cat = col.search(variable=atmos_mon_surface, component=\"atm\", stream=\"cam.h0\")\n",
    "print_info(cat)"
   ]
  },
  {
   "cell_type": "markdown",
   "metadata": {},
   "source": [
    "**NOTE:**\n",
    "    \n",
    "- There are **2490** files. The spreadsheet mentions **3839** files. "
   ]
  },
  {
   "cell_type": "markdown",
   "metadata": {},
   "source": [
    "### Land, Monthly"
   ]
  },
  {
   "cell_type": "code",
   "execution_count": 12,
   "metadata": {},
   "outputs": [],
   "source": [
    "land_vars = [\"FSNO\", \"H2OSNO\", \"QRUNOFF\", \"RAIN\", \"SNOW\", \"SOILLIQ\", \"SOILWATER_10CM\"]"
   ]
  },
  {
   "cell_type": "code",
   "execution_count": 13,
   "metadata": {},
   "outputs": [
    {
     "name": "stdout",
     "output_type": "stream",
     "text": [
      "There are/is 7 unique variables: ['FSNO' 'H2OSNO' 'QRUNOFF' 'RAIN' 'SNOW' 'SOILLIQ' 'SOILWATER_10CM']\n",
      "\n",
      "\n",
      "Number of files: 917\n",
      "\n",
      "\n",
      "Date ranges: ['040001-049912' '050001-059912' '060001-069912' '070001-079912'\n",
      " '080001-089912' '090001-099912' '100001-109912' '110001-119912'\n",
      " '120001-129912' '130001-139912' '140001-149912' '150001-159912'\n",
      " '160001-169912' '170001-179912' '180001-189912' '190001-199912'\n",
      " '200001-209912' '210001-220012' '185001-200512' '192001-200512'\n",
      " '200601-208012' '208101-210012' '200601-210012']\n",
      "\n",
      "\n"
     ]
    }
   ],
   "source": [
    "cat = col.search(variable=land_vars, component=\"lnd\", stream=\"clm2.h0\")\n",
    "print_info(cat)"
   ]
  },
  {
   "cell_type": "markdown",
   "metadata": {},
   "source": [
    "### Land, Daily"
   ]
  },
  {
   "cell_type": "code",
   "execution_count": 14,
   "metadata": {},
   "outputs": [
    {
     "name": "stdout",
     "output_type": "stream",
     "text": [
      "There are/is 6 unique variables: ['FSNO' 'H2OSNO' 'QRUNOFF' 'RAIN' 'SNOW' 'SOILWATER_10CM']\n",
      "\n",
      "\n",
      "Number of files: 786\n",
      "\n",
      "\n",
      "Date ranges: ['04030101-04991231' '05000101-05991231' '06000101-06991231'\n",
      " '07000101-07991231' '08000101-08991231' '09000101-09991231'\n",
      " '10000101-10991231' '11000101-11991231' '12000101-12991231'\n",
      " '13000101-13991231' '14000101-14991231' '15000101-15991231'\n",
      " '16000101-16991231' '17000101-17991231' '18000101-18991231'\n",
      " '19000101-19991231' '20000101-20991231' '21000101-22001231'\n",
      " '18500101-20051231' '19200101-20051231' '20060101-20801231'\n",
      " '20810101-21001231' '20060101-21001231']\n",
      "\n",
      "\n"
     ]
    }
   ],
   "source": [
    "cat = col.search(variable=land_vars, component=\"lnd\", stream=\"clm2.h1\")\n",
    "print_info(cat)"
   ]
  },
  {
   "cell_type": "markdown",
   "metadata": {},
   "source": [
    "**NOTE:**\n",
    "    \n",
    "- There are **786+917=1703** files. The spreadsheet mentions **1414** files. "
   ]
  },
  {
   "cell_type": "markdown",
   "metadata": {},
   "source": [
    "### Ocean, Monthly, Surface"
   ]
  },
  {
   "cell_type": "code",
   "execution_count": 15,
   "metadata": {},
   "outputs": [],
   "source": [
    "ocn_surface_vars = [\"SST\", \"SSH\"]"
   ]
  },
  {
   "cell_type": "code",
   "execution_count": 16,
   "metadata": {},
   "outputs": [
    {
     "name": "stdout",
     "output_type": "stream",
     "text": [
      "There are/is 2 unique variables: ['SSH' 'SST']\n",
      "\n",
      "\n",
      "Number of files: 262\n",
      "\n",
      "\n",
      "Date ranges: ['040001-049912' '050001-059912' '060001-069912' '070001-079912'\n",
      " '080001-089912' '090001-099912' '100001-109912' '110001-119912'\n",
      " '120001-129912' '130001-139912' '140001-149912' '150001-159912'\n",
      " '160001-169912' '170001-179912' '180001-189912' '190001-199912'\n",
      " '200001-209912' '210001-220012' '185001-200512' '192001-200512'\n",
      " '200601-208012' '208101-210012' '200601-210012']\n",
      "\n",
      "\n"
     ]
    }
   ],
   "source": [
    "cat = col.search(variable=ocn_surface_vars, component=\"ocn\", stream=\"pop.h\")\n",
    "print_info(cat)"
   ]
  },
  {
   "cell_type": "markdown",
   "metadata": {},
   "source": [
    "### Ocean, Monthly, 3D"
   ]
  },
  {
   "cell_type": "code",
   "execution_count": 17,
   "metadata": {},
   "outputs": [
    {
     "name": "stdout",
     "output_type": "stream",
     "text": [
      "There are/is 1 unique variables: ['SALT']\n",
      "\n",
      "\n",
      "Number of files: 131\n",
      "\n",
      "\n",
      "Date ranges: ['040001-049912' '050001-059912' '060001-069912' '070001-079912'\n",
      " '080001-089912' '090001-099912' '100001-109912' '110001-119912'\n",
      " '120001-129912' '130001-139912' '140001-149912' '150001-159912'\n",
      " '160001-169912' '170001-179912' '180001-189912' '190001-199912'\n",
      " '200001-209912' '210001-220012' '185001-200512' '192001-200512'\n",
      " '200601-208012' '208101-210012' '200601-210012']\n",
      "\n",
      "\n"
     ]
    }
   ],
   "source": [
    "ocn_3d_vars = [\"SALT\"]\n",
    "cat = col.search(variable=ocn_3d_vars, component=\"ocn\", stream=\"pop.h\")\n",
    "print_info(cat)"
   ]
  },
  {
   "cell_type": "markdown",
   "metadata": {},
   "source": [
    "**NOTE:**\n",
    "    \n",
    "- There are **262+131=393** files. The spreadsheet mentions **438** files. "
   ]
  },
  {
   "cell_type": "markdown",
   "metadata": {},
   "source": [
    "### Ice, Monthly"
   ]
  },
  {
   "cell_type": "code",
   "execution_count": 18,
   "metadata": {},
   "outputs": [
    {
     "name": "stdout",
     "output_type": "stream",
     "text": [
      "There are/is 4 unique variables: ['aice_nh' 'aice_sh' 'hi_nh' 'hi_sh']\n",
      "\n",
      "\n",
      "Number of files: 524\n",
      "\n",
      "\n",
      "Date ranges: ['040001-049912' '050001-059912' '060001-069912' '070001-079912'\n",
      " '080001-089912' '090001-099912' '100001-109912' '110001-119912'\n",
      " '120001-129912' '130001-139912' '140001-149912' '150001-159912'\n",
      " '160001-169912' '170001-179912' '180001-189912' '190001-199912'\n",
      " '200001-209912' '210001-220012' '185001-200512' '192001-200512'\n",
      " '200601-208012' '208101-210012' '200601-210012']\n",
      "\n",
      "\n"
     ]
    }
   ],
   "source": [
    "ice_mon_vars = [\"aice_nh\", \"aice_sh\", \"hi_nh\", \"hi_sh\"]\n",
    "cat = col.search(variable=ice_mon_vars, component=\"ice\", stream=\"cice.h\")\n",
    "print_info(cat)"
   ]
  },
  {
   "cell_type": "markdown",
   "metadata": {},
   "source": [
    "**NOTE:**\n",
    "    \n",
    "- There are **524** files. The spreadsheet mentions **620** files. "
   ]
  }
 ],
 "metadata": {
  "kernelspec": {
   "display_name": "Python 3",
   "language": "python",
   "name": "python3"
  },
  "language_info": {
   "codemirror_mode": {
    "name": "ipython",
    "version": 3
   },
   "file_extension": ".py",
   "mimetype": "text/x-python",
   "name": "python",
   "nbconvert_exporter": "python",
   "pygments_lexer": "ipython3",
   "version": "3.7.3"
  }
 },
 "nbformat": 4,
 "nbformat_minor": 2
}
