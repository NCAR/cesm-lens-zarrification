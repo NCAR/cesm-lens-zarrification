{
 "cells": [
  {
   "cell_type": "code",
   "execution_count": 1,
   "metadata": {},
   "outputs": [
    {
     "name": "stdout",
     "output_type": "stream",
     "text": [
      "For information on which identities are in session see\n",
      "  globus session show\n",
      "\n",
      "abanihi@globusid.org\n"
     ]
    }
   ],
   "source": [
    "globus whoami"
   ]
  },
  {
   "cell_type": "code",
   "execution_count": 2,
   "metadata": {},
   "outputs": [
    {
     "name": "stdout",
     "output_type": "stream",
     "text": [
      "For information on your primary identity or full identity set see\n",
      "  globus whoami\n",
      "\n",
      "Username             | ID                                   | Auth Time           \n",
      "-------------------- | ------------------------------------ | --------------------\n",
      "abanihi@globusid.org | 25217662-28c1-4a96-ade8-85973f6c629c | 2019-02-03 21:44 MST\n"
     ]
    }
   ],
   "source": [
    "globus session show"
   ]
  },
  {
   "cell_type": "code",
   "execution_count": 3,
   "metadata": {},
   "outputs": [
    {
     "name": "stdout",
     "output_type": "stream",
     "text": [
      "\n",
      "=== globus ===\n",
      "\n",
      "    list-commands   List all CLI Commands\n",
      "    version         Show the version and exit\n",
      "    update          Update the Globus CLI to its latest version\n",
      "    login           Log into Globus to get credentials for the Globus CLI\n",
      "    logout          Logout of the Globus CLI\n",
      "    whoami          Show the currently logged-in primary...\n",
      "    get-identities  Lookup Globus Auth Identities\n",
      "    ls              List endpoint directory contents\n",
      "    mkdir           Make a directory on an endpoint\n",
      "    rename          Rename a file or directory on an endpoint\n",
      "    delete          Submit a delete task (asynchronous)\n",
      "    rm              Delete a single path; wait for it to complete\n",
      "    transfer        Submit a transfer task (asynchronous)\n",
      "\n",
      "=== globus config ===\n",
      "\n",
      "    filename        Output the path of the config file\n",
      "    init            Initialize all settings in the Globus Config file\n",
      "    remove          Remove a value from the Globus config file\n",
      "    set             Set a value in the Globus config file\n",
      "    show            Show a value from the Globus config file\n",
      "\n",
      "=== globus endpoint ===\n",
      "\n",
      "    search          Search for Globus endpoints\n",
      "    show            Display a detailed endpoint definition\n",
      "    create          Create a new endpoint\n",
      "    update          Update attributes of an endpoint\n",
      "    delete          Delete a given endpoint\n",
      "    activate        Activate an endpoint\n",
      "    is-activated    Check if an endpoint is activated\n",
      "    deactivate      Deactivate an endpoint\n",
      "    my-shared-endpoint-list\n",
      "                    List all shared endpoints on an endpoint by...\n",
      "    local-id        Display UUID of locally installed endpoint\n",
      "\n",
      "=== globus endpoint permission ===\n",
      "\n",
      "    list            List of permissions on an endpoint\n",
      "    create          Create an access control rule, allowing new...\n",
      "    show            Show a permission on an endpoint\n",
      "    update          Update an access control rule, changing...\n",
      "    delete          Delete an access control rule, removing...\n",
      "\n",
      "=== globus endpoint role ===\n",
      "\n",
      "    list            List of assigned roles on an endpoint\n",
      "    show            Show full info for a role on an endpoint\n",
      "    create          Create a role on an endpoint\n",
      "    delete          Remove a role from an endpoint\n",
      "\n",
      "=== globus endpoint server ===\n",
      "\n",
      "    list            List all servers belonging to an endpoint\n",
      "    show            Show a server belonging to an endpoint\n",
      "    add             Add a server to an endpoint\n",
      "    update          Update attributes of a server on an endpoint\n",
      "    delete          Delete a server belonging to an endpoint...\n",
      "\n",
      "=== globus bookmark ===\n",
      "\n",
      "    list            List bookmarks for the current user\n",
      "    create          Create a bookmark for the current user\n",
      "    delete          Delete a bookmark\n",
      "    rename          Change a bookmark's name\n",
      "    show            Given a bookmark name or ID resolves bookmark...\n",
      "\n",
      "=== globus task ===\n",
      "\n",
      "    list            List tasks for the current user\n",
      "    show            Show detailed information about a specific...\n",
      "    update          Update a task\n",
      "    cancel          Cancel a task\n",
      "    event-list      List Events for a given task\n",
      "    pause-info      Show why an in-progress task is currently paused\n",
      "    wait            Wait for a task to complete\n",
      "    generate-submission-id\n",
      "                    Get a submission ID\n",
      "\n",
      "=== globus session ===\n",
      "\n",
      "    boost           Boost your CLI auth session\n",
      "    show            Show your current CLI auth session\n",
      "\n"
     ]
    }
   ],
   "source": [
    "globus list-commands"
   ]
  },
  {
   "cell_type": "code",
   "execution_count": 4,
   "metadata": {},
   "outputs": [
    {
     "name": "stdout",
     "output_type": "stream",
     "text": [
      "ID                                   | Owner              | Display Name    \n",
      "------------------------------------ | ------------------ | ----------------\n",
      "d33b3614-6d04-11e5-ba46-22000b92c6ec | ncar@globusid.org  | NCAR GLADE      \n",
      "b0254818-6d04-11e5-ba46-22000b92c6ec | xsede@globusid.org | XSEDE NCAR GLADE\n"
     ]
    }
   ],
   "source": [
    "globus endpoint search \"NCAR GLADE\""
   ]
  },
  {
   "cell_type": "code",
   "execution_count": 8,
   "metadata": {},
   "outputs": [],
   "source": [
    "EPGLADE=$(globus endpoint search \"NCAR GLADE\" \\\n",
    "       --filter-owner-id ncar@globusid.org \\\n",
    "       --jq \"DATA[0].id\" --format UNIX)"
   ]
  },
  {
   "cell_type": "code",
   "execution_count": 9,
   "metadata": {},
   "outputs": [
    {
     "name": "stdout",
     "output_type": "stream",
     "text": [
      "Display Name:              NCAR GLADE\n",
      "ID:                        d33b3614-6d04-11e5-ba46-22000b92c6ec\n",
      "Owner:                     ncar@globusid.org\n",
      "Activated:                 False\n",
      "Shareable:                 True\n",
      "Department:                CISL/OSD\n",
      "Keywords:                  file share\n",
      "Endpoint Info Link:        https://www2.cisl.ucar.edu/resources/glade\n",
      "Contact E-mail:            cislhelp@ucar.edu\n",
      "Organization:              National Center for Atmospheric Research\n",
      "Department:                CISL/OSD\n",
      "Other Contact Info:        1850 Table Mesa Dr.\n",
      "Boulder, CO 80305\n",
      "(303) 497-2400\n",
      "Visibility:                True\n",
      "Default Directory:         /~/\n",
      "Force Encryption:          False\n",
      "Managed Endpoint:          True\n",
      "Subscription ID:           8fd6296d-74cc-11e4-a56d-12313922b1c7\n",
      "Legacy Name:               ncar#gridftp\n",
      "Local User Info Available: True\n"
     ]
    }
   ],
   "source": [
    "globus endpoint show $EPGLADE"
   ]
  },
  {
   "cell_type": "code",
   "execution_count": 10,
   "metadata": {},
   "outputs": [
    {
     "name": "stdout",
     "output_type": "stream",
     "text": [
      "ID                                   | Owner             | Display Name   \n",
      "------------------------------------ | ----------------- | ---------------\n",
      "3a1f3e98-1a93-11e9-9f9f-0a06afd4a22e | ncar@globusid.org | NCAR S3 Testing\n"
     ]
    }
   ],
   "source": [
    "globus endpoint search \"NCAR S3 Testing\""
   ]
  },
  {
   "cell_type": "code",
   "execution_count": 11,
   "metadata": {},
   "outputs": [],
   "source": [
    "EPGLADES3=$(globus endpoint search \"NCAR S3 Testing\" \\\n",
    "       --filter-owner-id ncar@globusid.org \\\n",
    "       --jq \"DATA[0].id\" --format UNIX)"
   ]
  },
  {
   "cell_type": "code",
   "execution_count": 12,
   "metadata": {},
   "outputs": [
    {
     "name": "stdout",
     "output_type": "stream",
     "text": [
      "Display Name:              NCAR S3 Testing\n",
      "ID:                        3a1f3e98-1a93-11e9-9f9f-0a06afd4a22e\n",
      "Owner:                     ncar@globusid.org\n",
      "Activated:                 True\n",
      "Shareable:                 True\n",
      "Department:                \n",
      "Keywords:                  \n",
      "Endpoint Info Link:        None\n",
      "Contact E-mail:            None\n",
      "Organization:              \n",
      "Department:                \n",
      "Other Contact Info:        \n",
      "Visibility:                True\n",
      "Default Directory:         /~/\n",
      "Force Encryption:          False\n",
      "Managed Endpoint:          True\n",
      "Subscription ID:           8fd6296d-74cc-11e4-a56d-12313922b1c7\n",
      "Legacy Name:               ncar#3a1f3e98-1a93-11e9-9f9f-0a06afd4a22e\n",
      "Local User Info Available: True\n"
     ]
    }
   ],
   "source": [
    "globus endpoint show $EPGLADES3"
   ]
  },
  {
   "cell_type": "code",
   "execution_count": null,
   "metadata": {},
   "outputs": [],
   "source": []
  }
 ],
 "metadata": {
  "kernelspec": {
   "display_name": "Bash",
   "language": "bash",
   "name": "bash"
  },
  "language_info": {
   "codemirror_mode": "shell",
   "file_extension": ".sh",
   "mimetype": "text/x-sh",
   "name": "bash"
  }
 },
 "nbformat": 4,
 "nbformat_minor": 2
}
