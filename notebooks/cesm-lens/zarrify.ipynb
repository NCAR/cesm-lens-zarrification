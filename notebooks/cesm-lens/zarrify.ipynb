{
 "cells": [
  {
   "cell_type": "markdown",
   "metadata": {},
   "source": [
    "Ref: https://github.com/NCAR/cesm-lens-aws/issues/34\n"
   ]
  },
  {
   "cell_type": "code",
   "execution_count": null,
   "metadata": {},
   "outputs": [],
   "source": [
    "%load_ext autoreload\n",
    "%autoreload 2\n",
    "\n",
    "import json\n",
    "import os\n",
    "import pprint\n",
    "import random\n",
    "import shutil\n",
    "from functools import reduce, partial\n",
    "from operator import mul\n",
    "\n",
    "import xarray as xr\n",
    "import yaml\n",
    "from distributed import Client\n",
    "from distributed.utils import format_bytes\n",
    "from tqdm.auto import tqdm\n",
    "import pandas as pd\n",
    "from collections import Counter\n",
    "\n",
    "import dask\n",
    "import intake\n",
    "from dask_jobqueue import SLURMCluster\n",
    "from helpers import (create_grid_dataset, enforce_chunking, get_grid_vars,\n",
    "                     print_ds_info, process_variables, save_data, zarr_store, fix_time, inspect_written_stores)\n",
    "\n",
    "#dask.config.set({\"distributed.dashboard.link\": \"/proxy/{port}/status\"})\n",
    "xr.set_options(keep_attrs=True)\n",
    "import numpy as np"
   ]
  },
  {
   "cell_type": "code",
   "execution_count": null,
   "metadata": {},
   "outputs": [],
   "source": [
    "cluster = SLURMCluster(cores=8, memory=\"200GB\", processes=4)\n",
    "cluster.adapt(minimum_jobs=1, maximum_jobs=35)\n",
    "# cluster.scale(jobs=3)\n",
    "client = Client(cluster)\n",
    "cluster"
   ]
  },
  {
   "cell_type": "code",
   "execution_count": null,
   "metadata": {},
   "outputs": [],
   "source": [
    "# # Set to True if saving large Zarr files is resulting in KilledWorker or Dask crashes.\n",
    "# BIG_SAVE = False\n",
    "# if BIG_SAVE:\n",
    "#     min_workers = 10\n",
    "#     client.wait_for_workers(min_workers)"
   ]
  },
  {
   "cell_type": "code",
   "execution_count": null,
   "metadata": {},
   "outputs": [],
   "source": [
    "# It's safer to use a dash '-' to separate fields, not underscores, because CESM variables have underscores.\n",
    "field_separator = \"-\"\n",
    "col = intake.open_esm_datastore(\n",
    "    \"../../catalogs/glade-campaign-cesm1-le.json\", sep=field_separator,\n",
    ")\n",
    "col"
   ]
  },
  {
   "cell_type": "code",
   "execution_count": null,
   "metadata": {},
   "outputs": [],
   "source": [
    "dirout = \"/glade/scratch/abanihi/data/lens-aws\""
   ]
  },
  {
   "cell_type": "code",
   "execution_count": null,
   "metadata": {},
   "outputs": [],
   "source": [
    "def _preprocess(ds):\n",
    "    \"\"\"Drop all unnecessary variables and coordinates\"\"\"\n",
    "\n",
    "    vars_to_drop = [vname for vname in ds.data_vars if vname not in variables]\n",
    "    coord_vars = [\n",
    "        vname\n",
    "        for vname in ds.data_vars\n",
    "        if \"time\" not in ds[vname].dims or \"bound\" in vname or \"bnds\" in vname\n",
    "    ]\n",
    "    ds_fixed = ds.set_coords(coord_vars)\n",
    "    data_vars_dims = []\n",
    "    for data_var in ds_fixed.data_vars:\n",
    "        data_vars_dims.extend(list(ds_fixed[data_var].dims))\n",
    "    coords_to_drop = [\n",
    "        coord for coord in ds_fixed.coords if coord not in data_vars_dims\n",
    "    ]\n",
    "    grid_vars = list(\n",
    "        set(vars_to_drop + coords_to_drop)\n",
    "        - set([\"time\", \"time_bound\", \"time_bnds\", \"time_bounds\"])\n",
    "    )\n",
    "    ds_fixed = ds_fixed.drop(grid_vars).reset_coords()\n",
    "    if \"history\" in ds_fixed.attrs:\n",
    "        del ds_fixed.attrs[\"history\"]\n",
    "    return ds_fixed\n",
    "\n",
    "\n",
    "member_31_nh = \"/glade/campaign/cesm/collections/cesmLE/CESM-CAM5-BGC-LE/ice/proc/tseries/daily/hi_d/b.e11.B20TRC5CNBDRD.f09_g16.031.cice.h1.hi_d_nh.19200101-20051231.nc\"\n",
    "m_31_nh = xr.open_dataset(member_31_nh, chunks={})\n",
    "\n",
    "\n",
    "def _preprocess_ice_nh(ds):\n",
    "    # Fix time duplication issues in member_35_ice_nh\n",
    "    if ds.attrs[\"title\"] == \"b.e11.B20TRC5CNBDRD.f09_g16.035\":\n",
    "        attrs = ds.time.attrs\n",
    "        encoding = ds.time.encoding\n",
    "        bounds_attrs = ds.time_bounds.attrs\n",
    "        bounds_encoding = ds.time_bounds.attrs\n",
    "\n",
    "        ds = ds.assign_coords(time=m_31_nh.time)\n",
    "        ds.time_bounds.data = m_31_nh.time_bounds.data\n",
    "        ds.time.attrs, ds.time.encoding = attrs, encoding\n",
    "        ds.time_bounds.attrs, ds.time_bounds.encoding = (\n",
    "            bounds_attrs,\n",
    "            bounds_encoding,\n",
    "        )\n",
    "    return _preprocess(ds)\n",
    "\n",
    "\n",
    "member_31_sh = \"/glade/campaign/cesm/collections/cesmLE/CESM-CAM5-BGC-LE/ice/proc/tseries/daily/hi_d/b.e11.B20TRC5CNBDRD.f09_g16.031.cice.h1.hi_d_sh.19200101-20051231.nc\"\n",
    "m_31_sh = xr.open_dataset(member_31_sh, chunks={})\n",
    "\n",
    "\n",
    "def _preprocess_ice_sh(ds):\n",
    "    # Fix time duplication issues in member_35_ice_sh\n",
    "    if ds.attrs[\"title\"] == \"b.e11.B20TRC5CNBDRD.f09_g16.035\":\n",
    "        attrs = ds.time.attrs\n",
    "        encoding = ds.time.encoding\n",
    "        bounds_attrs = ds.time_bounds.attrs\n",
    "        bounds_encoding = ds.time_bounds.attrs\n",
    "\n",
    "        ds = ds.assign_coords(time=m_31_sh.time)\n",
    "        ds.time_bounds.data = m_31_sh.time_bounds.data\n",
    "        ds.time.attrs, ds.time.encoding = attrs, encoding\n",
    "        ds.time_bounds.attrs, ds.time_bounds.encoding = (\n",
    "            bounds_attrs,\n",
    "            bounds_encoding,\n",
    "        )\n",
    "    return _preprocess(ds)\n",
    "\n",
    "\n",
    "def _preprocess_lnd(ds):\n",
    "    grid = xr.open_zarr(\n",
    "        \"/glade/scratch/abanihi/data/lens-aws/lnd/static/grid.zarr\"\n",
    "    )\n",
    "    ds = ds.assign_coords(lat=grid[\"lat\"])\n",
    "    return _preprocess(ds)\n",
    "\n",
    "\n",
    "def _preprocess_atm(ds):\n",
    "    grid = xr.open_zarr(\n",
    "        \"/glade/scratch/abanihi/data/lens-aws/atm/static/grid.zarr\"\n",
    "    )\n",
    "    ds = ds.assign_coords(lat=grid[\"lat\"])\n",
    "    return _preprocess(ds)"
   ]
  },
  {
   "cell_type": "code",
   "execution_count": null,
   "metadata": {},
   "outputs": [],
   "source": [
    "with open(\"config.yaml\") as f:\n",
    "    config = yaml.safe_load(f)\n",
    "\n",
    "run_config = []\n",
    "variables = []\n",
    "\n",
    "for component, stream_val in config.items():\n",
    "    for stream, v in stream_val.items():\n",
    "        frequency = v[\"frequency\"]\n",
    "        freq = v[\"freq\"]\n",
    "        time_bounds_dim = v[\"time_bounds_dim\"]\n",
    "        variable_categories = list(v[\"variable_category\"].keys())\n",
    "        for v_cat in variable_categories:\n",
    "            experiments = list(\n",
    "                v[\"variable_category\"][v_cat][\"experiment\"].keys()\n",
    "            )\n",
    "            for exp in experiments:\n",
    "                if frequency == \"daily\" and exp == \"20C\" and component == \"atm\":\n",
    "                    # date_ranges = ['1990010100Z-2005123118Z', '2026010100Z-2035123118Z', '2071010100Z-2080123118Z']\n",
    "                    chunks = v[\"variable_category\"][v_cat][\"experiment\"][exp][\n",
    "                        \"chunks\"\n",
    "                    ]\n",
    "                    variable = v[\"variable_category\"][v_cat][\"variable\"]\n",
    "                    variables.extend(variable)\n",
    "                    col_subset, query = process_variables(\n",
    "                        col, variable, component, stream, exp\n",
    "                    )\n",
    "                    if not col_subset.df.empty:\n",
    "                        d = {\n",
    "                            \"query\": query,\n",
    "                            \"col\": col_subset,\n",
    "                            \"chunks\": chunks,\n",
    "                            \"frequency\": frequency,\n",
    "                            \"freq\": freq,\n",
    "                            \"time_bounds_dim\": time_bounds_dim,\n",
    "                        }\n",
    "                        run_config.append(d)\n",
    "run_config"
   ]
  },
  {
   "cell_type": "code",
   "execution_count": null,
   "metadata": {},
   "outputs": [],
   "source": [
    "for run in tqdm(run_config, desc=\"runs\"):\n",
    "    print(\"*\" * 120)\n",
    "    query = run[\"query\"]\n",
    "    print(f\"query = {query}\")\n",
    "    frequency = run[\"frequency\"]\n",
    "    chunks = run[\"chunks\"]\n",
    "    freq = run[\"freq\"]\n",
    "    time_bounds_dim = run[\"time_bounds_dim\"]\n",
    "    preprocess = _preprocess\n",
    "    if query[\"experiment\"] == \"20C\" and query[\"stream\"] == \"cice.h1\":\n",
    "        if query[\"component\"] == \"ice_sh\":\n",
    "            preprocess = _preprocess_ice_sh\n",
    "        elif query[\"component\"] == \"ice_nh\":\n",
    "            preprocess = _preprocess_ice_nh\n",
    "    elif query[\"component\"] == \"lnd\":\n",
    "        preprocess = _preprocess_lnd\n",
    "    elif query[\"component\"] == \"atm\":\n",
    "        preprocess = _preprocess_atm\n",
    "\n",
    "    print(preprocess.__name__)\n",
    "\n",
    "    dsets = run[\"col\"].to_dataset_dict(\n",
    "        cdf_kwargs={\"chunks\": chunks, \"decode_times\": True, \"use_cftime\": True},\n",
    "        preprocess=preprocess,\n",
    "        progressbar=True,\n",
    "    )\n",
    "    dsets = enforce_chunking(dsets, chunks, field_separator)\n",
    "    for key, ds in tqdm(dsets.items(), desc=\"Saving zarr store\"):\n",
    "        print(ds.get_index(\"time\").is_monotonic_increasing)\n",
    "        key = key.split(field_separator)\n",
    "        exp, cmp, var, frequency = key[1], key[0], key[-1], frequency\n",
    "        if frequency != \"hourly6\":\n",
    "            if exp == \"20C\":\n",
    "                start = \"1850-01\"\n",
    "                end = \"2006-01\"\n",
    "                if frequency == \"monthly\":\n",
    "                    ds = fix_time(\n",
    "                        ds,\n",
    "                        start=start,\n",
    "                        end=end,\n",
    "                        freq=freq,\n",
    "                        time_bounds_dim=time_bounds_dim,\n",
    "                    )\n",
    "                else:\n",
    "                    ds = fix_time(\n",
    "                        ds,\n",
    "                        start=None,\n",
    "                        end=None,\n",
    "                        freq=None,\n",
    "                        time_bounds_dim=time_bounds_dim,\n",
    "                        generate_bounds=False,\n",
    "                    )\n",
    "                ds_20c = ds.sel(time=slice(\"1920\", None)).chunk(chunks)\n",
    "                store = zarr_store(\n",
    "                    exp, cmp, frequency, var, write=False, dirout=dirout\n",
    "                )\n",
    "                save_data(ds_20c, store)\n",
    "                ds_hist = ds.sel(time=slice(None, \"1919\"), member_id=1).chunk(\n",
    "                    chunks\n",
    "                )\n",
    "                exp = \"HIST\"\n",
    "                store = zarr_store(\n",
    "                    exp, cmp, frequency, var, write=False, dirout=dirout\n",
    "                )\n",
    "                save_data(ds_hist, store)\n",
    "\n",
    "            elif exp == \"RCP85\":\n",
    "                start = \"2006-01\"\n",
    "                end = \"2101-01\"\n",
    "                if frequency == \"monthly\":\n",
    "                    ds = fix_time(\n",
    "                        ds,\n",
    "                        start=start,\n",
    "                        end=end,\n",
    "                        freq=freq,\n",
    "                        time_bounds_dim=time_bounds_dim,\n",
    "                    )\n",
    "                else:\n",
    "                    ds = fix_time(\n",
    "                        ds,\n",
    "                        start=None,\n",
    "                        end=None,\n",
    "                        freq=None,\n",
    "                        time_bounds_dim=time_bounds_dim,\n",
    "                        generate_bounds=False,\n",
    "                    )\n",
    "                store = zarr_store(\n",
    "                    exp, cmp, frequency, var, write=False, dirout=dirout\n",
    "                )\n",
    "                save_data(ds, store)\n",
    "\n",
    "            elif exp == \"CTRL\":\n",
    "                ds = fix_time(\n",
    "                    ds,\n",
    "                    start=None,\n",
    "                    end=None,\n",
    "                    freq=None,\n",
    "                    time_bounds_dim=time_bounds_dim,\n",
    "                    generate_bounds=False,\n",
    "                )\n",
    "                store = zarr_store(\n",
    "                    exp, cmp, frequency, var, write=False, dirout=dirout\n",
    "                )\n",
    "                save_data(ds, store)\n",
    "        else:\n",
    "            if exp == \"20C\":\n",
    "                start = \"1990\"\n",
    "                end = \"2006-01-01T06:00\"\n",
    "                ds = fix_time(\n",
    "                    ds,\n",
    "                    start=start,\n",
    "                    end=end,\n",
    "                    freq=freq,\n",
    "                    time_bounds_dim=time_bounds_dim,\n",
    "                    instantaneous=True,\n",
    "                )\n",
    "                frequency_x = f\"{frequency}-1990-2005\"\n",
    "                store = zarr_store(\n",
    "                    exp, cmp, frequency_x, var, write=False, dirout=dirout\n",
    "                )\n",
    "                save_data(ds, store)\n",
    "\n",
    "            elif exp == \"RCP85\":\n",
    "                frequency_x = f\"{frequency}-2026-2035\"\n",
    "                ds_1 = ds.sel(time=slice(None, \"2036\"))\n",
    "                start = \"2026\"\n",
    "                end = \"2036-01-01T06:00\"\n",
    "                ds_1 = fix_time(\n",
    "                    ds_1,\n",
    "                    start=start,\n",
    "                    end=end,\n",
    "                    freq=freq,\n",
    "                    time_bounds_dim=time_bounds_dim,\n",
    "                    instantaneous=True,\n",
    "                ).chunk(chunks)\n",
    "                store_1 = zarr_store(\n",
    "                    exp, cmp, frequency_x, var, write=False, dirout=dirout\n",
    "                )\n",
    "\n",
    "                frequency_x = f\"{frequency}-2071-2080\"\n",
    "                start = \"2071\"\n",
    "                end = \"2081-01-01T06:00\"\n",
    "                ds_2 = ds.sel(time=slice(\"2071\", None))\n",
    "                ds_2 = fix_time(\n",
    "                    ds_2,\n",
    "                    start=start,\n",
    "                    end=end,\n",
    "                    freq=freq,\n",
    "                    time_bounds_dim=time_bounds_dim,\n",
    "                    instantaneous=True,\n",
    "                ).chunk(chunks)\n",
    "                store_2 = zarr_store(\n",
    "                    exp, cmp, frequency_x, var, write=False, dirout=dirout\n",
    "                )\n",
    "\n",
    "                assert ds.time.size == (ds_1.time.size + ds_2.time.size)\n",
    "                save_data(ds_1, store_1)\n",
    "                save_data(ds_2, store_2)"
   ]
  },
  {
   "cell_type": "code",
   "execution_count": null,
   "metadata": {},
   "outputs": [],
   "source": [
    "ds_hist.time, ds_20c.time"
   ]
  },
  {
   "cell_type": "code",
   "execution_count": null,
   "metadata": {},
   "outputs": [],
   "source": [
    "# Make sure the zarr stores were properly written\n",
    "\n",
    "inspect_written_stores(dirout, random_sample_size=10)"
   ]
  },
  {
   "cell_type": "code",
   "execution_count": null,
   "metadata": {},
   "outputs": [],
   "source": [
    "# %load_ext watermark\n",
    "# %watermark -d -iv -m -g -h"
   ]
  }
 ],
 "metadata": {
  "kernelspec": {
   "display_name": "Python 3",
   "language": "python",
   "name": "python3"
  },
  "language_info": {
   "codemirror_mode": {
    "name": "ipython",
    "version": 3
   },
   "file_extension": ".py",
   "mimetype": "text/x-python",
   "name": "python",
   "nbconvert_exporter": "python",
   "pygments_lexer": "ipython3",
   "version": "3.8.5"
  },
  "widgets": {
   "application/vnd.jupyter.widget-state+json": {
    "state": {
     "0182fc39e85a45219399e957fe691adb": {
      "model_module": "@jupyter-widgets/controls",
      "model_module_version": "1.5.0",
      "model_name": "DescriptionStyleModel",
      "state": {
       "description_width": ""
      }
     },
     "13761fa2b8324fd2a9ece35a71f4f6ae": {
      "model_module": "@jupyter-widgets/controls",
      "model_module_version": "1.5.0",
      "model_name": "FloatProgressModel",
      "state": {
       "bar_style": "success",
       "description": "Saving zarr store: 100%",
       "layout": "IPY_MODEL_226f6576d26a4a04b7db1f63a81d67b0",
       "max": 7,
       "style": "IPY_MODEL_bc55885d178345d485a2e54827a47926",
       "value": 7
      }
     },
     "20afd54515c14fd5891b3c5fa2c379e6": {
      "model_module": "@jupyter-widgets/controls",
      "model_module_version": "1.5.0",
      "model_name": "ButtonModel",
      "state": {
       "description": "Scale",
       "layout": "IPY_MODEL_30f5f4c7ea0d4f0aa375e06be9293746",
       "style": "IPY_MODEL_dbc81ae788164df28222a95d09f8e05c"
      }
     },
     "2121b17971ce4a46aed3a0c3b0ea6481": {
      "model_module": "@jupyter-widgets/controls",
      "model_module_version": "1.5.0",
      "model_name": "IntTextModel",
      "state": {
       "description": "Maximum",
       "layout": "IPY_MODEL_30f5f4c7ea0d4f0aa375e06be9293746",
       "step": 1,
       "style": "IPY_MODEL_9b50ae9a7ab3471d85831948b79cfebc"
      }
     },
     "226f6576d26a4a04b7db1f63a81d67b0": {
      "model_module": "@jupyter-widgets/base",
      "model_module_version": "1.2.0",
      "model_name": "LayoutModel",
      "state": {}
     },
     "26fe76239ce948519e75acbe45e3a7cb": {
      "model_module": "@jupyter-widgets/controls",
      "model_module_version": "1.5.0",
      "model_name": "DescriptionStyleModel",
      "state": {
       "description_width": ""
      }
     },
     "2a0faccbfb8d4e5b95eb6aebe93d929d": {
      "model_module": "@jupyter-widgets/base",
      "model_module_version": "1.2.0",
      "model_name": "LayoutModel",
      "state": {}
     },
     "30f5f4c7ea0d4f0aa375e06be9293746": {
      "model_module": "@jupyter-widgets/base",
      "model_module_version": "1.2.0",
      "model_name": "LayoutModel",
      "state": {
       "width": "150px"
      }
     },
     "34223d7b416145089c93c7d8a58c044a": {
      "model_module": "@jupyter-widgets/controls",
      "model_module_version": "1.5.0",
      "model_name": "DescriptionStyleModel",
      "state": {
       "description_width": ""
      }
     },
     "35eff6daed234d15aea4688997555389": {
      "model_module": "@jupyter-widgets/controls",
      "model_module_version": "1.5.0",
      "model_name": "DescriptionStyleModel",
      "state": {
       "description_width": ""
      }
     },
     "3b81dd47848d4579b0bc817dc9539cf2": {
      "model_module": "@jupyter-widgets/controls",
      "model_module_version": "1.5.0",
      "model_name": "ButtonModel",
      "state": {
       "description": "Adapt",
       "layout": "IPY_MODEL_30f5f4c7ea0d4f0aa375e06be9293746",
       "style": "IPY_MODEL_3e98b72279604abd9bef4fc8ca32738a"
      }
     },
     "3e98b72279604abd9bef4fc8ca32738a": {
      "model_module": "@jupyter-widgets/controls",
      "model_module_version": "1.5.0",
      "model_name": "ButtonStyleModel",
      "state": {}
     },
     "410e6595ef11423f81b49b9193faf9c1": {
      "model_module": "@jupyter-widgets/controls",
      "model_module_version": "1.5.0",
      "model_name": "HTMLModel",
      "state": {
       "layout": "IPY_MODEL_ce928ec4d83c4ff6a0ad9d50fe578c03",
       "style": "IPY_MODEL_34223d7b416145089c93c7d8a58c044a",
       "value": "<h2>SLURMCluster</h2>"
      }
     },
     "57c8221c458645c48099db5f2be789dc": {
      "model_module": "@jupyter-widgets/controls",
      "model_module_version": "1.5.0",
      "model_name": "AccordionModel",
      "state": {
       "_titles": {
        "0": "Manual Scaling",
        "1": "Adaptive Scaling"
       },
       "children": [
        "IPY_MODEL_9ae48b7119c14b828195d19844943a12",
        "IPY_MODEL_dc327235bd944aeab1aafc20a23ff1a3"
       ],
       "layout": "IPY_MODEL_d156020fe11b4f70b58b42d074f06ca8",
       "selected_index": null
      }
     },
     "5ac713a15f234a6ea183925a72ae9db5": {
      "model_module": "@jupyter-widgets/base",
      "model_module_version": "1.2.0",
      "model_name": "LayoutModel",
      "state": {
       "min_width": "150px"
      }
     },
     "5e3003728e0542babfcf6305e9cd0483": {
      "model_module": "@jupyter-widgets/controls",
      "model_module_version": "1.5.0",
      "model_name": "HTMLModel",
      "state": {
       "layout": "IPY_MODEL_f47e3d9d819d4701b673db7e2d0e7145",
       "style": "IPY_MODEL_35eff6daed234d15aea4688997555389",
       "value": "<p><b>Dashboard: </b><a href=\"/proxy/8787/status\" target=\"_blank\">/proxy/8787/status</a></p>\n"
      }
     },
     "65d81f01eb2f47cc8bb719561dfad40b": {
      "model_module": "@jupyter-widgets/controls",
      "model_module_version": "1.5.0",
      "model_name": "HBoxModel",
      "state": {
       "children": [
        "IPY_MODEL_c2f9b26c82294089a73eff87c6acb165",
        "IPY_MODEL_7a8bbcc522c145f0bdb6cd336c3b12d8"
       ],
       "layout": "IPY_MODEL_8117606279b3474e8cf1503333509604"
      }
     },
     "6f9bca40e5174d90a00ed76cbb261c82": {
      "model_module": "@jupyter-widgets/controls",
      "model_module_version": "1.5.0",
      "model_name": "HTMLModel",
      "state": {
       "layout": "IPY_MODEL_9b2a064f16204221aeb43dfad9eedc79",
       "style": "IPY_MODEL_f1d996c5452d4183b9fa04c7c306a6c7",
       "value": " 7/7 [1:56:02&lt;00:00, 994.67s/it]"
      }
     },
     "761a1c358a2b48498a5e6f7744667bac": {
      "model_module": "@jupyter-widgets/controls",
      "model_module_version": "1.5.0",
      "model_name": "IntTextModel",
      "state": {
       "description": "Workers",
       "layout": "IPY_MODEL_30f5f4c7ea0d4f0aa375e06be9293746",
       "step": 1,
       "style": "IPY_MODEL_0182fc39e85a45219399e957fe691adb"
      }
     },
     "7871cd76b7b246afb971da3961f6a154": {
      "model_module": "@jupyter-widgets/controls",
      "model_module_version": "1.5.0",
      "model_name": "HBoxModel",
      "state": {
       "children": [
        "IPY_MODEL_d2013d29175443b28ac300ea006850e7",
        "IPY_MODEL_57c8221c458645c48099db5f2be789dc"
       ],
       "layout": "IPY_MODEL_ba0c5c3b77464f28ac8ab33f96986134"
      }
     },
     "7a8bbcc522c145f0bdb6cd336c3b12d8": {
      "model_module": "@jupyter-widgets/controls",
      "model_module_version": "1.5.0",
      "model_name": "HTMLModel",
      "state": {
       "layout": "IPY_MODEL_2a0faccbfb8d4e5b95eb6aebe93d929d",
       "style": "IPY_MODEL_ed072022e70a46998a953b46fa72cb82",
       "value": " 4/4 [11:33&lt;00:00, 173.32s/it]"
      }
     },
     "7faf3793e39c4094b2d03170c314c0a1": {
      "model_module": "@jupyter-widgets/controls",
      "model_module_version": "1.5.0",
      "model_name": "HBoxModel",
      "state": {
       "children": [
        "IPY_MODEL_13761fa2b8324fd2a9ece35a71f4f6ae",
        "IPY_MODEL_6f9bca40e5174d90a00ed76cbb261c82"
       ],
       "layout": "IPY_MODEL_aaeca4b0644a4cd59e0b03765c2c959e"
      }
     },
     "8117606279b3474e8cf1503333509604": {
      "model_module": "@jupyter-widgets/base",
      "model_module_version": "1.2.0",
      "model_name": "LayoutModel",
      "state": {}
     },
     "8bee2cc24f5844329fa26e404f7c2396": {
      "model_module": "@jupyter-widgets/base",
      "model_module_version": "1.2.0",
      "model_name": "LayoutModel",
      "state": {}
     },
     "8eb6968752454c2a9e1b0e3de50be20f": {
      "model_module": "@jupyter-widgets/base",
      "model_module_version": "1.2.0",
      "model_name": "LayoutModel",
      "state": {}
     },
     "9a3f9df3bd6b4d29ad030d6fe88c8eae": {
      "model_module": "@jupyter-widgets/controls",
      "model_module_version": "1.5.0",
      "model_name": "DescriptionStyleModel",
      "state": {
       "description_width": ""
      }
     },
     "9ae48b7119c14b828195d19844943a12": {
      "model_module": "@jupyter-widgets/controls",
      "model_module_version": "1.5.0",
      "model_name": "HBoxModel",
      "state": {
       "children": [
        "IPY_MODEL_761a1c358a2b48498a5e6f7744667bac",
        "IPY_MODEL_20afd54515c14fd5891b3c5fa2c379e6"
       ],
       "layout": "IPY_MODEL_8bee2cc24f5844329fa26e404f7c2396"
      }
     },
     "9b2a064f16204221aeb43dfad9eedc79": {
      "model_module": "@jupyter-widgets/base",
      "model_module_version": "1.2.0",
      "model_name": "LayoutModel",
      "state": {}
     },
     "9b50ae9a7ab3471d85831948b79cfebc": {
      "model_module": "@jupyter-widgets/controls",
      "model_module_version": "1.5.0",
      "model_name": "DescriptionStyleModel",
      "state": {
       "description_width": ""
      }
     },
     "a1de09204dce4cf78671a06f49037f92": {
      "model_module": "@jupyter-widgets/base",
      "model_module_version": "1.2.0",
      "model_name": "LayoutModel",
      "state": {}
     },
     "aaeca4b0644a4cd59e0b03765c2c959e": {
      "model_module": "@jupyter-widgets/base",
      "model_module_version": "1.2.0",
      "model_name": "LayoutModel",
      "state": {}
     },
     "ba0c5c3b77464f28ac8ab33f96986134": {
      "model_module": "@jupyter-widgets/base",
      "model_module_version": "1.2.0",
      "model_name": "LayoutModel",
      "state": {}
     },
     "bc55885d178345d485a2e54827a47926": {
      "model_module": "@jupyter-widgets/controls",
      "model_module_version": "1.5.0",
      "model_name": "ProgressStyleModel",
      "state": {
       "description_width": "initial"
      }
     },
     "c2f9b26c82294089a73eff87c6acb165": {
      "model_module": "@jupyter-widgets/controls",
      "model_module_version": "1.5.0",
      "model_name": "FloatProgressModel",
      "state": {
       "bar_style": "success",
       "description": "Saving zarr store: 100%",
       "layout": "IPY_MODEL_a1de09204dce4cf78671a06f49037f92",
       "max": 4,
       "style": "IPY_MODEL_f465e02eaf2b401c899fb9bd12265491",
       "value": 4
      }
     },
     "ce928ec4d83c4ff6a0ad9d50fe578c03": {
      "model_module": "@jupyter-widgets/base",
      "model_module_version": "1.2.0",
      "model_name": "LayoutModel",
      "state": {}
     },
     "d156020fe11b4f70b58b42d074f06ca8": {
      "model_module": "@jupyter-widgets/base",
      "model_module_version": "1.2.0",
      "model_name": "LayoutModel",
      "state": {
       "min_width": "500px"
      }
     },
     "d2013d29175443b28ac300ea006850e7": {
      "model_module": "@jupyter-widgets/controls",
      "model_module_version": "1.5.0",
      "model_name": "HTMLModel",
      "state": {
       "layout": "IPY_MODEL_5ac713a15f234a6ea183925a72ae9db5",
       "style": "IPY_MODEL_26fe76239ce948519e75acbe45e3a7cb",
       "value": "\n<div>\n  <style scoped>\n    .dataframe tbody tr th:only-of-type {\n        vertical-align: middle;\n    }\n\n    .dataframe tbody tr th {\n        vertical-align: top;\n    }\n\n    .dataframe thead th {\n        text-align: right;\n    }\n  </style>\n  <table style=\"text-align: right;\">\n    <tr> <th>Workers</th> <td>0</td></tr>\n    <tr> <th>Cores</th> <td>0</td></tr>\n    <tr> <th>Memory</th> <td>0 B</td></tr>\n  </table>\n</div>\n"
      }
     },
     "dbc81ae788164df28222a95d09f8e05c": {
      "model_module": "@jupyter-widgets/controls",
      "model_module_version": "1.5.0",
      "model_name": "ButtonStyleModel",
      "state": {}
     },
     "dc327235bd944aeab1aafc20a23ff1a3": {
      "model_module": "@jupyter-widgets/controls",
      "model_module_version": "1.5.0",
      "model_name": "HBoxModel",
      "state": {
       "children": [
        "IPY_MODEL_ddf498d4803e4f72949a1eeb286b01e0",
        "IPY_MODEL_2121b17971ce4a46aed3a0c3b0ea6481",
        "IPY_MODEL_3b81dd47848d4579b0bc817dc9539cf2"
       ],
       "layout": "IPY_MODEL_8eb6968752454c2a9e1b0e3de50be20f"
      }
     },
     "ddf498d4803e4f72949a1eeb286b01e0": {
      "model_module": "@jupyter-widgets/controls",
      "model_module_version": "1.5.0",
      "model_name": "IntTextModel",
      "state": {
       "description": "Minimum",
       "layout": "IPY_MODEL_30f5f4c7ea0d4f0aa375e06be9293746",
       "step": 1,
       "style": "IPY_MODEL_9a3f9df3bd6b4d29ad030d6fe88c8eae"
      }
     },
     "e205f5d2a7d6419ca82d3d5cbbbe3892": {
      "model_module": "@jupyter-widgets/controls",
      "model_module_version": "1.5.0",
      "model_name": "VBoxModel",
      "state": {
       "children": [
        "IPY_MODEL_410e6595ef11423f81b49b9193faf9c1",
        "IPY_MODEL_7871cd76b7b246afb971da3961f6a154",
        "IPY_MODEL_5e3003728e0542babfcf6305e9cd0483"
       ],
       "layout": "IPY_MODEL_eb05b25522d245569255c51b368528af"
      }
     },
     "eb05b25522d245569255c51b368528af": {
      "model_module": "@jupyter-widgets/base",
      "model_module_version": "1.2.0",
      "model_name": "LayoutModel",
      "state": {}
     },
     "ed072022e70a46998a953b46fa72cb82": {
      "model_module": "@jupyter-widgets/controls",
      "model_module_version": "1.5.0",
      "model_name": "DescriptionStyleModel",
      "state": {
       "description_width": ""
      }
     },
     "f1d996c5452d4183b9fa04c7c306a6c7": {
      "model_module": "@jupyter-widgets/controls",
      "model_module_version": "1.5.0",
      "model_name": "DescriptionStyleModel",
      "state": {
       "description_width": ""
      }
     },
     "f465e02eaf2b401c899fb9bd12265491": {
      "model_module": "@jupyter-widgets/controls",
      "model_module_version": "1.5.0",
      "model_name": "ProgressStyleModel",
      "state": {
       "description_width": "initial"
      }
     },
     "f47e3d9d819d4701b673db7e2d0e7145": {
      "model_module": "@jupyter-widgets/base",
      "model_module_version": "1.2.0",
      "model_name": "LayoutModel",
      "state": {}
     }
    },
    "version_major": 2,
    "version_minor": 0
   }
  }
 },
 "nbformat": 4,
 "nbformat_minor": 4
}
