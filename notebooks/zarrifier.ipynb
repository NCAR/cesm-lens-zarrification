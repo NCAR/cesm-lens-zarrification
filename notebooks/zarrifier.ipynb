{
 "cells": [
  {
   "cell_type": "markdown",
   "metadata": {},
   "source": [
    "# Demonstrate zarr-ification of CESM-LE"
   ]
  },
  {
   "cell_type": "code",
   "execution_count": 1,
   "metadata": {},
   "outputs": [
    {
     "name": "stderr",
     "output_type": "stream",
     "text": [
      "/glade/work/abanihi/softwares/miniconda3/envs/analysis/lib/python3.7/site-packages/tqdm/autonotebook/__init__.py:14: TqdmExperimentalWarning: Using `tqdm.autonotebook.tqdm` in notebook mode. Use `tqdm.tqdm` instead to force console mode (e.g. in jupyter console)\n",
      "  \" (e.g. in jupyter console)\", TqdmExperimentalWarning)\n",
      "/glade/work/abanihi/softwares/miniconda3/envs/analysis/lib/python3.7/site-packages/docrep/__init__.py:341: MatplotlibDeprecationWarning: \n",
      "The dedent function was deprecated in Matplotlib 3.1 and will be removed in 3.3. Use inspect.cleandoc instead.\n",
      "  s = dedents('\\n' + '\\n'.join(lines[first:]))\n"
     ]
    }
   ],
   "source": [
    "%matplotlib inline\n",
    "import os\n",
    "import shutil\n",
    "\n",
    "import yaml\n",
    "\n",
    "import xarray as xr\n",
    "\n",
    "import intake\n",
    "import intake_esm\n",
    "\n",
    "import matplotlib.pyplot as plt"
   ]
  },
  {
   "cell_type": "markdown",
   "metadata": {},
   "source": [
    "## Spinup cluster"
   ]
  },
  {
   "cell_type": "code",
   "execution_count": 2,
   "metadata": {},
   "outputs": [
    {
     "name": "stderr",
     "output_type": "stream",
     "text": [
      "/glade/work/abanihi/softwares/miniconda3/envs/analysis/lib/python3.7/site-packages/dask_jobqueue/config.py:12: YAMLLoadWarning: calling yaml.load() without Loader=... is deprecated, as the default Loader is unsafe. Please read https://msg.pyyaml.org/load for full details.\n",
      "  defaults = yaml.load(f)\n",
      "/glade/work/abanihi/softwares/miniconda3/envs/analysis/lib/python3.7/site-packages/distributed/deploy/local.py:138: UserWarning: diagnostics_port has been deprecated. Please use `dashboard_address=` instead\n",
      "  \"diagnostics_port has been deprecated. \"\n"
     ]
    },
    {
     "data": {
      "application/vnd.jupyter.widget-view+json": {
       "model_id": "7a012e7eeca44713bda0732efd84668c",
       "version_major": 2,
       "version_minor": 0
      },
      "text/plain": [
       "VBox(children=(HTML(value='<h2>NCARCluster</h2>'), HBox(children=(HTML(value='\\n<div>\\n  <style scoped>\\n    .…"
      ]
     },
     "metadata": {},
     "output_type": "display_data"
    }
   ],
   "source": [
    "from ncar_jobqueue import NCARCluster\n",
    "cluster = NCARCluster()\n",
    "cluster.scale(4 * 9)  # Ask for 4 x 9 workers\n",
    "cluster"
   ]
  },
  {
   "cell_type": "code",
   "execution_count": 3,
   "metadata": {},
   "outputs": [
    {
     "data": {
      "text/html": [
       "<table style=\"border: 2px solid white;\">\n",
       "<tr>\n",
       "<td style=\"vertical-align: top; border: 0px solid white\">\n",
       "<h3>Client</h3>\n",
       "<ul>\n",
       "  <li><b>Scheduler: </b>tcp://10.12.205.200:45727\n",
       "  <li><b>Dashboard: </b><a href='https://jupyterhub.ucar.edu/ch/user/abanihi/proxy/8787/status' target='_blank'>https://jupyterhub.ucar.edu/ch/user/abanihi/proxy/8787/status</a>\n",
       "</ul>\n",
       "</td>\n",
       "<td style=\"vertical-align: top; border: 0px solid white\">\n",
       "<h3>Cluster</h3>\n",
       "<ul>\n",
       "  <li><b>Workers: </b>0</li>\n",
       "  <li><b>Cores: </b>0</li>\n",
       "  <li><b>Memory: </b>0 B</li>\n",
       "</ul>\n",
       "</td>\n",
       "</tr>\n",
       "</table>"
      ],
      "text/plain": [
       "<Client: scheduler='tcp://10.12.205.200:45727' processes=0 cores=0>"
      ]
     },
     "execution_count": 3,
     "metadata": {},
     "output_type": "execute_result"
    }
   ],
   "source": [
    "from dask.distributed import Client\n",
    "client = Client(cluster) # Connect this local process to remote workers\n",
    "client"
   ]
  },
  {
   "cell_type": "markdown",
   "metadata": {},
   "source": [
    "## Connect to intake-esm database"
   ]
  },
  {
   "cell_type": "code",
   "execution_count": 4,
   "metadata": {},
   "outputs": [
    {
     "data": {
      "text/html": [
       "<div>\n",
       "<style scoped>\n",
       "    .dataframe tbody tr th:only-of-type {\n",
       "        vertical-align: middle;\n",
       "    }\n",
       "\n",
       "    .dataframe tbody tr th {\n",
       "        vertical-align: top;\n",
       "    }\n",
       "\n",
       "    .dataframe thead th {\n",
       "        text-align: right;\n",
       "    }\n",
       "</style>\n",
       "<table border=\"1\" class=\"dataframe\">\n",
       "  <thead>\n",
       "    <tr style=\"text-align: right;\">\n",
       "      <th></th>\n",
       "      <th>resource</th>\n",
       "      <th>resource_type</th>\n",
       "      <th>direct_access</th>\n",
       "      <th>experiment</th>\n",
       "      <th>case</th>\n",
       "      <th>component</th>\n",
       "      <th>stream</th>\n",
       "      <th>variable</th>\n",
       "      <th>date_range</th>\n",
       "      <th>member_id</th>\n",
       "      <th>file_fullpath</th>\n",
       "      <th>file_basename</th>\n",
       "      <th>file_dirname</th>\n",
       "      <th>ctrl_branch_year</th>\n",
       "      <th>year_offset</th>\n",
       "      <th>sequence_order</th>\n",
       "      <th>has_ocean_bgc</th>\n",
       "      <th>grid</th>\n",
       "    </tr>\n",
       "  </thead>\n",
       "  <tbody>\n",
       "    <tr>\n",
       "      <th>0</th>\n",
       "      <td>CTRL:GLADE:posix:/glade/collections/cdg/data/c...</td>\n",
       "      <td>posix</td>\n",
       "      <td>True</td>\n",
       "      <td>CTRL</td>\n",
       "      <td>b.e11.B1850C5CN.f09_g16.005</td>\n",
       "      <td>atm</td>\n",
       "      <td>cam.h1</td>\n",
       "      <td>T200</td>\n",
       "      <td>18000101-18991231</td>\n",
       "      <td>0</td>\n",
       "      <td>/glade/collections/cdg/data/cesmLE/CESM-CAM5-B...</td>\n",
       "      <td>b.e11.B1850C5CN.f09_g16.005.cam.h1.T200.180001...</td>\n",
       "      <td>/glade/collections/cdg/data/cesmLE/CESM-CAM5-B...</td>\n",
       "      <td>NaN</td>\n",
       "      <td>1448.0</td>\n",
       "      <td>0</td>\n",
       "      <td>True</td>\n",
       "      <td>NaN</td>\n",
       "    </tr>\n",
       "    <tr>\n",
       "      <th>1</th>\n",
       "      <td>CTRL:GLADE:posix:/glade/collections/cdg/data/c...</td>\n",
       "      <td>posix</td>\n",
       "      <td>True</td>\n",
       "      <td>CTRL</td>\n",
       "      <td>b.e11.B1850C5CN.f09_g16.005</td>\n",
       "      <td>atm</td>\n",
       "      <td>cam.h1</td>\n",
       "      <td>T200</td>\n",
       "      <td>08000101-08991231</td>\n",
       "      <td>0</td>\n",
       "      <td>/glade/collections/cdg/data/cesmLE/CESM-CAM5-B...</td>\n",
       "      <td>b.e11.B1850C5CN.f09_g16.005.cam.h1.T200.080001...</td>\n",
       "      <td>/glade/collections/cdg/data/cesmLE/CESM-CAM5-B...</td>\n",
       "      <td>NaN</td>\n",
       "      <td>1448.0</td>\n",
       "      <td>0</td>\n",
       "      <td>True</td>\n",
       "      <td>NaN</td>\n",
       "    </tr>\n",
       "    <tr>\n",
       "      <th>2</th>\n",
       "      <td>CTRL:GLADE:posix:/glade/collections/cdg/data/c...</td>\n",
       "      <td>posix</td>\n",
       "      <td>True</td>\n",
       "      <td>CTRL</td>\n",
       "      <td>b.e11.B1850C5CN.f09_g16.005</td>\n",
       "      <td>atm</td>\n",
       "      <td>cam.h1</td>\n",
       "      <td>T200</td>\n",
       "      <td>04020101-04991231</td>\n",
       "      <td>0</td>\n",
       "      <td>/glade/collections/cdg/data/cesmLE/CESM-CAM5-B...</td>\n",
       "      <td>b.e11.B1850C5CN.f09_g16.005.cam.h1.T200.040201...</td>\n",
       "      <td>/glade/collections/cdg/data/cesmLE/CESM-CAM5-B...</td>\n",
       "      <td>NaN</td>\n",
       "      <td>1448.0</td>\n",
       "      <td>0</td>\n",
       "      <td>True</td>\n",
       "      <td>NaN</td>\n",
       "    </tr>\n",
       "    <tr>\n",
       "      <th>3</th>\n",
       "      <td>CTRL:GLADE:posix:/glade/collections/cdg/data/c...</td>\n",
       "      <td>posix</td>\n",
       "      <td>True</td>\n",
       "      <td>CTRL</td>\n",
       "      <td>b.e11.B1850C5CN.f09_g16.005</td>\n",
       "      <td>atm</td>\n",
       "      <td>cam.h1</td>\n",
       "      <td>T200</td>\n",
       "      <td>10000101-10991231</td>\n",
       "      <td>0</td>\n",
       "      <td>/glade/collections/cdg/data/cesmLE/CESM-CAM5-B...</td>\n",
       "      <td>b.e11.B1850C5CN.f09_g16.005.cam.h1.T200.100001...</td>\n",
       "      <td>/glade/collections/cdg/data/cesmLE/CESM-CAM5-B...</td>\n",
       "      <td>NaN</td>\n",
       "      <td>1448.0</td>\n",
       "      <td>0</td>\n",
       "      <td>True</td>\n",
       "      <td>NaN</td>\n",
       "    </tr>\n",
       "    <tr>\n",
       "      <th>4</th>\n",
       "      <td>CTRL:GLADE:posix:/glade/collections/cdg/data/c...</td>\n",
       "      <td>posix</td>\n",
       "      <td>True</td>\n",
       "      <td>CTRL</td>\n",
       "      <td>b.e11.B1850C5CN.f09_g16.005</td>\n",
       "      <td>atm</td>\n",
       "      <td>cam.h1</td>\n",
       "      <td>T200</td>\n",
       "      <td>11000101-11991231</td>\n",
       "      <td>0</td>\n",
       "      <td>/glade/collections/cdg/data/cesmLE/CESM-CAM5-B...</td>\n",
       "      <td>b.e11.B1850C5CN.f09_g16.005.cam.h1.T200.110001...</td>\n",
       "      <td>/glade/collections/cdg/data/cesmLE/CESM-CAM5-B...</td>\n",
       "      <td>NaN</td>\n",
       "      <td>1448.0</td>\n",
       "      <td>0</td>\n",
       "      <td>True</td>\n",
       "      <td>NaN</td>\n",
       "    </tr>\n",
       "  </tbody>\n",
       "</table>\n",
       "</div>"
      ],
      "text/plain": [
       "                                            resource resource_type  \\\n",
       "0  CTRL:GLADE:posix:/glade/collections/cdg/data/c...         posix   \n",
       "1  CTRL:GLADE:posix:/glade/collections/cdg/data/c...         posix   \n",
       "2  CTRL:GLADE:posix:/glade/collections/cdg/data/c...         posix   \n",
       "3  CTRL:GLADE:posix:/glade/collections/cdg/data/c...         posix   \n",
       "4  CTRL:GLADE:posix:/glade/collections/cdg/data/c...         posix   \n",
       "\n",
       "   direct_access experiment                         case component  stream  \\\n",
       "0           True       CTRL  b.e11.B1850C5CN.f09_g16.005       atm  cam.h1   \n",
       "1           True       CTRL  b.e11.B1850C5CN.f09_g16.005       atm  cam.h1   \n",
       "2           True       CTRL  b.e11.B1850C5CN.f09_g16.005       atm  cam.h1   \n",
       "3           True       CTRL  b.e11.B1850C5CN.f09_g16.005       atm  cam.h1   \n",
       "4           True       CTRL  b.e11.B1850C5CN.f09_g16.005       atm  cam.h1   \n",
       "\n",
       "  variable         date_range  member_id  \\\n",
       "0     T200  18000101-18991231          0   \n",
       "1     T200  08000101-08991231          0   \n",
       "2     T200  04020101-04991231          0   \n",
       "3     T200  10000101-10991231          0   \n",
       "4     T200  11000101-11991231          0   \n",
       "\n",
       "                                       file_fullpath  \\\n",
       "0  /glade/collections/cdg/data/cesmLE/CESM-CAM5-B...   \n",
       "1  /glade/collections/cdg/data/cesmLE/CESM-CAM5-B...   \n",
       "2  /glade/collections/cdg/data/cesmLE/CESM-CAM5-B...   \n",
       "3  /glade/collections/cdg/data/cesmLE/CESM-CAM5-B...   \n",
       "4  /glade/collections/cdg/data/cesmLE/CESM-CAM5-B...   \n",
       "\n",
       "                                       file_basename  \\\n",
       "0  b.e11.B1850C5CN.f09_g16.005.cam.h1.T200.180001...   \n",
       "1  b.e11.B1850C5CN.f09_g16.005.cam.h1.T200.080001...   \n",
       "2  b.e11.B1850C5CN.f09_g16.005.cam.h1.T200.040201...   \n",
       "3  b.e11.B1850C5CN.f09_g16.005.cam.h1.T200.100001...   \n",
       "4  b.e11.B1850C5CN.f09_g16.005.cam.h1.T200.110001...   \n",
       "\n",
       "                                        file_dirname  ctrl_branch_year  \\\n",
       "0  /glade/collections/cdg/data/cesmLE/CESM-CAM5-B...               NaN   \n",
       "1  /glade/collections/cdg/data/cesmLE/CESM-CAM5-B...               NaN   \n",
       "2  /glade/collections/cdg/data/cesmLE/CESM-CAM5-B...               NaN   \n",
       "3  /glade/collections/cdg/data/cesmLE/CESM-CAM5-B...               NaN   \n",
       "4  /glade/collections/cdg/data/cesmLE/CESM-CAM5-B...               NaN   \n",
       "\n",
       "   year_offset  sequence_order  has_ocean_bgc grid  \n",
       "0       1448.0               0           True  NaN  \n",
       "1       1448.0               0           True  NaN  \n",
       "2       1448.0               0           True  NaN  \n",
       "3       1448.0               0           True  NaN  \n",
       "4       1448.0               0           True  NaN  "
      ]
     },
     "execution_count": 4,
     "metadata": {},
     "output_type": "execute_result"
    }
   ],
   "source": [
    "col = intake.open_esm_metadatastore(collection_name='CESM1-LE')\n",
    "col.df.head()"
   ]
  },
  {
   "cell_type": "markdown",
   "metadata": {},
   "source": [
    "## Specify process attributes"
   ]
  },
  {
   "cell_type": "code",
   "execution_count": 5,
   "metadata": {},
   "outputs": [],
   "source": [
    "component_list = ['ocn',]\n",
    "\n",
    "experiment_list = ['20C', ]\n",
    "\n",
    "# these might not be good choices!\n",
    "# zarr requirement: chunk size divides evenly into dim size\n",
    "chunking_spec = yaml.safe_load('''\n",
    "ocn:\n",
    "  time: 12\n",
    "  z_t: 20\n",
    "  nlat: 128\n",
    "  nlon: 80\n",
    "''')\n",
    "\n",
    "# vars to operate on\n",
    "variable_request = yaml.safe_load('''\n",
    "ocn:\n",
    "  pop.h:\n",
    "    - MOC\n",
    "    - SHF\n",
    "    - TEMP\n",
    "''')\n",
    "    \n",
    "\n",
    "# file namer\n",
    "dirout = '/glade/scratch/abanihi/calcs'\n",
    "def zarr_file(exp, cmp, stream, var, write=False):\n",
    "    path = f'{dirout}/CESM-LE.{exp}.{cmp}.{stream}.{var}.zarr'    \n",
    "    if write and os.path.exists(path):\n",
    "        shutil.rmtree(path)\n",
    "    print(path)\n",
    "    return path       "
   ]
  },
  {
   "cell_type": "markdown",
   "metadata": {},
   "source": [
    "## Make `zarr` collection"
   ]
  },
  {
   "cell_type": "code",
   "execution_count": 6,
   "metadata": {},
   "outputs": [
    {
     "data": {
      "application/vnd.jupyter.widget-view+json": {
       "model_id": "85392aba4e5d4df1afba8a8dc5ae8fac",
       "version_major": 2,
       "version_minor": 0
      },
      "text/plain": [
       "HBox(children=(IntProgress(value=0, description='dataset', max=1, style=ProgressStyle(description_width='initi…"
      ]
     },
     "metadata": {},
     "output_type": "display_data"
    },
    {
     "data": {
      "application/vnd.jupyter.widget-view+json": {
       "model_id": "6d1460a340ce40e89d14e0130665e072",
       "version_major": 2,
       "version_minor": 0
      },
      "text/plain": [
       "HBox(children=(IntProgress(value=0, description='member', max=40, style=ProgressStyle(description_width='initi…"
      ]
     },
     "metadata": {},
     "output_type": "display_data"
    },
    {
     "name": "stdout",
     "output_type": "stream",
     "text": [
      "\n",
      "/glade/scratch/abanihi/calcs/CESM-LE.20C.ocn.pop.h.MOC.zarr\n"
     ]
    },
    {
     "data": {
      "application/vnd.jupyter.widget-view+json": {
       "model_id": "4ceb6e9bbb184635913a7f34fa2c9ef7",
       "version_major": 2,
       "version_minor": 0
      },
      "text/plain": [
       "HBox(children=(IntProgress(value=0, description='dataset', max=1, style=ProgressStyle(description_width='initi…"
      ]
     },
     "metadata": {},
     "output_type": "display_data"
    },
    {
     "data": {
      "application/vnd.jupyter.widget-view+json": {
       "model_id": "cac9b121272c4d5f8cb94f8be1a38696",
       "version_major": 2,
       "version_minor": 0
      },
      "text/plain": [
       "HBox(children=(IntProgress(value=0, description='member', max=40, style=ProgressStyle(description_width='initi…"
      ]
     },
     "metadata": {},
     "output_type": "display_data"
    },
    {
     "name": "stdout",
     "output_type": "stream",
     "text": [
      "\n",
      "/glade/scratch/abanihi/calcs/CESM-LE.20C.ocn.pop.h.SHF.zarr\n"
     ]
    },
    {
     "data": {
      "application/vnd.jupyter.widget-view+json": {
       "model_id": "bb5803960ed04a909e3152c27a33fa73",
       "version_major": 2,
       "version_minor": 0
      },
      "text/plain": [
       "HBox(children=(IntProgress(value=0, description='dataset', max=1, style=ProgressStyle(description_width='initi…"
      ]
     },
     "metadata": {},
     "output_type": "display_data"
    },
    {
     "data": {
      "application/vnd.jupyter.widget-view+json": {
       "model_id": "b61224a103684189b95ee9db69d573f2",
       "version_major": 2,
       "version_minor": 0
      },
      "text/plain": [
       "HBox(children=(IntProgress(value=0, description='member', max=40, style=ProgressStyle(description_width='initi…"
      ]
     },
     "metadata": {},
     "output_type": "display_data"
    },
    {
     "name": "stdout",
     "output_type": "stream",
     "text": [
      "\n",
      "/glade/scratch/abanihi/calcs/CESM-LE.20C.ocn.pop.h.TEMP.zarr\n"
     ]
    }
   ],
   "source": [
    "# loop over experiments\n",
    "for exp in experiment_list:\n",
    "    \n",
    "    # loop over model components\n",
    "    for cmp in component_list:\n",
    "        \n",
    "        # set open_dataset keyword args\n",
    "        xr_open = dict(chunks=chunking_spec[cmp], decode_times=False, decode_coords=False)\n",
    "        \n",
    "        # loop over streams\n",
    "        for stm, varlist in variable_request[cmp].items():            \n",
    "        \n",
    "            # get the data\n",
    "            for var in varlist:\n",
    "                \n",
    "                query = dict(experiment=exp, variable=var, stream=stm)            \n",
    "                dd = col.search(**query).to_xarray(**xr_open)\n",
    "                _, ds = dd.popitem()\n",
    "\n",
    "                # apply subsetting in time\n",
    "                # for proof of concept select only 3 years \n",
    "                # assuming monthly\n",
    "                ds = ds.isel(time=slice(0, 36))\n",
    "\n",
    "                # write a zarr file\n",
    "                ds.to_zarr(zarr_file(exp, cmp, stm, var, write=True))"
   ]
  },
  {
   "cell_type": "markdown",
   "metadata": {},
   "source": [
    "## Read it back in to demonstrate merge\n",
    "\n",
    "If we build a data catalog for the `zarr` collection, the reference to actually paths would go away. This is for illustration purposes only."
   ]
  },
  {
   "cell_type": "code",
   "execution_count": 7,
   "metadata": {},
   "outputs": [
    {
     "name": "stdout",
     "output_type": "stream",
     "text": [
      "/glade/scratch/abanihi/calcs/CESM-LE.20C.ocn.pop.h.SHF.zarr\n",
      "/glade/scratch/abanihi/calcs/CESM-LE.20C.ocn.pop.h.TEMP.zarr\n",
      "xarray.Dataset {\n",
      "dimensions:\n",
      "\td2 = 2 ;\n",
      "\tlat_aux_grid = 395 ;\n",
      "\tmember_id = 40 ;\n",
      "\tmoc_comp = 3 ;\n",
      "\tmoc_z = 61 ;\n",
      "\tnlat = 384 ;\n",
      "\tnlon = 320 ;\n",
      "\ttime = 36 ;\n",
      "\ttransport_comp = 5 ;\n",
      "\ttransport_reg = 2 ;\n",
      "\tz_t = 60 ;\n",
      "\tz_t_150m = 15 ;\n",
      "\tz_w = 60 ;\n",
      "\tz_w_bot = 60 ;\n",
      "\tz_w_top = 60 ;\n",
      "\n",
      "variables:\n",
      "\tfloat64 ANGLE(nlat, nlon) ;\n",
      "\t\tANGLE:long_name = angle grid makes with latitude line ;\n",
      "\t\tANGLE:units = radians ;\n",
      "\tfloat64 ANGLET(nlat, nlon) ;\n",
      "\t\tANGLET:long_name = angle grid makes with latitude line on T grid ;\n",
      "\t\tANGLET:units = radians ;\n",
      "\tfloat64 DXT(nlat, nlon) ;\n",
      "\t\tDXT:long_name = x-spacing centered at T points ;\n",
      "\t\tDXT:units = centimeters ;\n",
      "\tfloat64 DXU(nlat, nlon) ;\n",
      "\t\tDXU:long_name = x-spacing centered at U points ;\n",
      "\t\tDXU:units = centimeters ;\n",
      "\tfloat64 DYT(nlat, nlon) ;\n",
      "\t\tDYT:long_name = y-spacing centered at T points ;\n",
      "\t\tDYT:units = centimeters ;\n",
      "\tfloat64 DYU(nlat, nlon) ;\n",
      "\t\tDYU:long_name = y-spacing centered at U points ;\n",
      "\t\tDYU:units = centimeters ;\n",
      "\tfloat64 HT(nlat, nlon) ;\n",
      "\t\tHT:long_name = ocean depth at T points ;\n",
      "\t\tHT:units = centimeter ;\n",
      "\tfloat64 HTE(nlat, nlon) ;\n",
      "\t\tHTE:long_name = cell widths on East sides of T cell ;\n",
      "\t\tHTE:units = centimeters ;\n",
      "\tfloat64 HTN(nlat, nlon) ;\n",
      "\t\tHTN:long_name = cell widths on North sides of T cell ;\n",
      "\t\tHTN:units = centimeters ;\n",
      "\tfloat64 HU(nlat, nlon) ;\n",
      "\t\tHU:long_name = ocean depth at U points ;\n",
      "\t\tHU:units = centimeter ;\n",
      "\tfloat64 HUS(nlat, nlon) ;\n",
      "\t\tHUS:long_name = cell widths on South sides of U cell ;\n",
      "\t\tHUS:units = centimeters ;\n",
      "\tfloat64 HUW(nlat, nlon) ;\n",
      "\t\tHUW:long_name = cell widths on West sides of U cell ;\n",
      "\t\tHUW:units = centimeters ;\n",
      "\tfloat64 KMT(nlat, nlon) ;\n",
      "\t\tKMT:long_name = k Index of Deepest Grid Cell on T Grid ;\n",
      "\tfloat64 KMU(nlat, nlon) ;\n",
      "\t\tKMU:long_name = k Index of Deepest Grid Cell on U Grid ;\n",
      "\tfloat64 REGION_MASK(nlat, nlon) ;\n",
      "\t\tREGION_MASK:long_name = basin index number (signed integers) ;\n",
      "\tfloat32 SHF(member_id, time, nlat, nlon) ;\n",
      "\t\tSHF:cell_methods = time: mean ;\n",
      "\t\tSHF:grid_loc = 2110 ;\n",
      "\t\tSHF:long_name = Total Surface Heat Flux, Including SW ;\n",
      "\t\tSHF:units = watt/m^2 ;\n",
      "\tfloat64 T0_Kelvin() ;\n",
      "\t\tT0_Kelvin:long_name = Zero Point for Celsius ;\n",
      "\t\tT0_Kelvin:units = degK ;\n",
      "\tfloat64 TAREA(nlat, nlon) ;\n",
      "\t\tTAREA:long_name = area of T cells ;\n",
      "\t\tTAREA:units = centimeter^2 ;\n",
      "\tfloat64 TLAT(nlat, nlon) ;\n",
      "\t\tTLAT:long_name = array of t-grid latitudes ;\n",
      "\t\tTLAT:units = degrees_north ;\n",
      "\tfloat64 TLONG(nlat, nlon) ;\n",
      "\t\tTLONG:long_name = array of t-grid longitudes ;\n",
      "\t\tTLONG:units = degrees_east ;\n",
      "\tfloat64 UAREA(nlat, nlon) ;\n",
      "\t\tUAREA:long_name = area of U cells ;\n",
      "\t\tUAREA:units = centimeter^2 ;\n",
      "\tfloat64 ULAT(nlat, nlon) ;\n",
      "\t\tULAT:long_name = array of u-grid latitudes ;\n",
      "\t\tULAT:units = degrees_north ;\n",
      "\tfloat64 ULONG(nlat, nlon) ;\n",
      "\t\tULONG:long_name = array of u-grid longitudes ;\n",
      "\t\tULONG:units = degrees_east ;\n",
      "\tfloat64 cp_air() ;\n",
      "\t\tcp_air:long_name = Heat Capacity of Air ;\n",
      "\t\tcp_air:units = joule/kg/degK ;\n",
      "\tfloat64 cp_sw() ;\n",
      "\t\tcp_sw:long_name = Specific Heat of Sea Water ;\n",
      "\t\tcp_sw:units = erg/g/K ;\n",
      "\ttimedelta64[ns] days_in_norm_year() ;\n",
      "\t\tdays_in_norm_year:long_name = Calendar Length ;\n",
      "\tfloat32 dz(z_t) ;\n",
      "\t\tdz:long_name = thickness of layer k ;\n",
      "\t\tdz:units = centimeters ;\n",
      "\tfloat32 dzw(z_w) ;\n",
      "\t\tdzw:long_name = midpoint of k to midpoint of k+1 ;\n",
      "\t\tdzw:units = centimeters ;\n",
      "\tfloat64 fwflux_factor() ;\n",
      "\t\tfwflux_factor:long_name = Convert Net Fresh Water Flux to Salt Flux (in model units) ;\n",
      "\tfloat64 grav() ;\n",
      "\t\tgrav:long_name = Acceleration Due to Gravity ;\n",
      "\t\tgrav:units = centimeter/s^2 ;\n",
      "\tfloat64 heat_to_PW() ;\n",
      "\t\theat_to_PW:long_name = Convert Heat Flux to Petawatts ;\n",
      "\tfloat64 hflux_factor() ;\n",
      "\t\thflux_factor:long_name = Convert Heat and Solar Flux to Temperature Flux ;\n",
      "\tfloat32 lat_aux_grid(lat_aux_grid) ;\n",
      "\t\tlat_aux_grid:long_name = latitude grid for transport diagnostics ;\n",
      "\t\tlat_aux_grid:units = degrees_north ;\n",
      "\t\tlat_aux_grid:valid_max = 90.0 ;\n",
      "\t\tlat_aux_grid:valid_min = -79.48815155029297 ;\n",
      "\tfloat64 latent_heat_fusion() ;\n",
      "\t\tlatent_heat_fusion:long_name = Latent Heat of Fusion ;\n",
      "\t\tlatent_heat_fusion:units = erg/g ;\n",
      "\tfloat64 latent_heat_vapor() ;\n",
      "\t\tlatent_heat_vapor:long_name = Latent Heat of Vaporization ;\n",
      "\t\tlatent_heat_vapor:units = J/kg ;\n",
      "\tfloat64 mass_to_Sv() ;\n",
      "\t\tmass_to_Sv:long_name = Convert Mass Flux to Sverdrups ;\n",
      "\tint64 member_id(member_id) ;\n",
      "\t|S256 moc_components(moc_comp) ;\n",
      "\t\tmoc_components:long_name = MOC component names ;\n",
      "\t\tmoc_components:units =  ;\n",
      "\tfloat32 moc_z(moc_z) ;\n",
      "\t\tmoc_z:long_name = depth from surface to top of layer ;\n",
      "\t\tmoc_z:positive = down ;\n",
      "\t\tmoc_z:units = centimeters ;\n",
      "\t\tmoc_z:valid_max = 549999.0625 ;\n",
      "\t\tmoc_z:valid_min = 0.0 ;\n",
      "\tfloat64 momentum_factor() ;\n",
      "\t\tmomentum_factor:long_name = Convert Windstress to Velocity Flux ;\n",
      "\tfloat64 nsurface_t() ;\n",
      "\t\tnsurface_t:long_name = Number of Ocean T Points at Surface ;\n",
      "\tfloat64 nsurface_u() ;\n",
      "\t\tnsurface_u:long_name = Number of Ocean U Points at Surface ;\n",
      "\tfloat64 ocn_ref_salinity() ;\n",
      "\t\tocn_ref_salinity:long_name = Ocean Reference Salinity ;\n",
      "\t\tocn_ref_salinity:units = g/kg ;\n",
      "\tfloat64 omega() ;\n",
      "\t\tomega:long_name = Earths Angular Velocity ;\n",
      "\t\tomega:units = 1/second ;\n",
      "\tfloat64 ppt_to_salt() ;\n",
      "\t\tppt_to_salt:long_name = Convert Salt in g/kg to gram/gram ;\n",
      "\tfloat64 radius() ;\n",
      "\t\tradius:long_name = Earths Radius ;\n",
      "\t\tradius:units = centimeters ;\n",
      "\tfloat64 rho_air() ;\n",
      "\t\trho_air:long_name = Ambient Air Density ;\n",
      "\t\trho_air:units = kg/m^3 ;\n",
      "\tfloat64 rho_fw() ;\n",
      "\t\trho_fw:long_name = Density of Fresh Water ;\n",
      "\t\trho_fw:units = gram/centimeter^3 ;\n",
      "\tfloat64 rho_sw() ;\n",
      "\t\trho_sw:long_name = Density of Sea Water ;\n",
      "\t\trho_sw:units = gram/centimeter^3 ;\n",
      "\tfloat64 salinity_factor() ;\n",
      "\tfloat64 salt_to_Svppt() ;\n",
      "\t\tsalt_to_Svppt:long_name = Convert Salt Flux to Sverdrups*g/kg ;\n",
      "\tfloat64 salt_to_mmday() ;\n",
      "\t\tsalt_to_mmday:long_name = Convert Salt to Water (millimeters/day) ;\n",
      "\tfloat64 salt_to_ppt() ;\n",
      "\t\tsalt_to_ppt:long_name = Convert Salt in gram/gram to g/kg ;\n",
      "\tfloat64 sea_ice_salinity() ;\n",
      "\t\tsea_ice_salinity:long_name = Salinity of Sea Ice ;\n",
      "\t\tsea_ice_salinity:units = g/kg ;\n",
      "\tfloat64 sflux_factor() ;\n",
      "\t\tsflux_factor:long_name = Convert Salt Flux to Salt Flux (in model units) ;\n",
      "\tfloat64 sound() ;\n",
      "\t\tsound:long_name = Speed of Sound ;\n",
      "\t\tsound:units = centimeter/s ;\n",
      "\tfloat64 stefan_boltzmann() ;\n",
      "\t\tstefan_boltzmann:long_name = Stefan-Boltzmann Constant ;\n",
      "\t\tstefan_boltzmann:units = watt/m^2/degK^4 ;\n",
      "\tobject time(time) ;\n",
      "\t\ttime:bounds = time_bound ;\n",
      "\t\ttime:long_name = time ;\n",
      "\tobject time_bound(time, d2) ;\n",
      "\t\ttime_bound:long_name = boundaries for time-averaging interval ;\n",
      "\t|S256 transport_components(transport_comp) ;\n",
      "\t\ttransport_components:long_name = T,S transport components ;\n",
      "\t\ttransport_components:units =  ;\n",
      "\t|S256 transport_regions(transport_reg) ;\n",
      "\t\ttransport_regions:long_name = regions for all transport diagnostics ;\n",
      "\t\ttransport_regions:units =  ;\n",
      "\tfloat64 vonkar() ;\n",
      "\t\tvonkar:long_name = von Karman Constant ;\n",
      "\tfloat32 z_t(z_t) ;\n",
      "\t\tz_t:long_name = depth from surface to midpoint of layer ;\n",
      "\t\tz_t:positive = down ;\n",
      "\t\tz_t:units = centimeters ;\n",
      "\t\tz_t:valid_max = 537500.0 ;\n",
      "\t\tz_t:valid_min = 500.0 ;\n",
      "\tfloat32 z_t_150m(z_t_150m) ;\n",
      "\t\tz_t_150m:long_name = depth from surface to midpoint of layer ;\n",
      "\t\tz_t_150m:positive = down ;\n",
      "\t\tz_t_150m:units = centimeters ;\n",
      "\t\tz_t_150m:valid_max = 14500.0 ;\n",
      "\t\tz_t_150m:valid_min = 500.0 ;\n",
      "\tfloat32 z_w(z_w) ;\n",
      "\t\tz_w:long_name = depth from surface to top of layer ;\n",
      "\t\tz_w:positive = down ;\n",
      "\t\tz_w:units = centimeters ;\n",
      "\t\tz_w:valid_max = 525000.9375 ;\n",
      "\t\tz_w:valid_min = 0.0 ;\n",
      "\tfloat32 z_w_bot(z_w_bot) ;\n",
      "\t\tz_w_bot:long_name = depth from surface to bottom of layer ;\n",
      "\t\tz_w_bot:positive = down ;\n",
      "\t\tz_w_bot:units = centimeters ;\n",
      "\t\tz_w_bot:valid_max = 549999.0625 ;\n",
      "\t\tz_w_bot:valid_min = 1000.0 ;\n",
      "\tfloat32 z_w_top(z_w_top) ;\n",
      "\t\tz_w_top:long_name = depth from surface to top of layer ;\n",
      "\t\tz_w_top:positive = down ;\n",
      "\t\tz_w_top:units = centimeters ;\n",
      "\t\tz_w_top:valid_max = 525000.9375 ;\n",
      "\t\tz_w_top:valid_min = 0.0 ;\n",
      "\tfloat32 TEMP(member_id, time, z_t, nlat, nlon) ;\n",
      "\t\tTEMP:cell_methods = time: mean ;\n",
      "\t\tTEMP:grid_loc = 3111 ;\n",
      "\t\tTEMP:long_name = Potential Temperature ;\n",
      "\t\tTEMP:units = degC ;\n",
      "\n",
      "// global attributes:\n",
      "}"
     ]
    }
   ],
   "source": [
    "ds = xr.Dataset()\n",
    "for var in ['SHF', 'TEMP']:\n",
    "    dsi = xr.open_zarr(zarr_file('20C', 'ocn', 'pop.h', var))\n",
    "    ds = xr.merge((ds, dsi))\n",
    "ds.info()                       "
   ]
  },
  {
   "cell_type": "code",
   "execution_count": 8,
   "metadata": {},
   "outputs": [
    {
     "data": {
      "text/plain": [
       "<matplotlib.collections.QuadMesh at 0x2ba74f143048>"
      ]
     },
     "execution_count": 8,
     "metadata": {},
     "output_type": "execute_result"
    },
    {
     "data": {
      "image/png": "[encoded data removed]",
      "text/plain": [
       "<Figure size 432x288 with 2 Axes>"
      ]
     },
     "metadata": {
      "needs_background": "light"
     },
     "output_type": "display_data"
    }
   ],
   "source": [
    "ds.TEMP.isel(z_t=0, time=0).mean('member_id').plot(vmin=-2, vmax=30)"
   ]
  },
  {
   "cell_type": "code",
   "execution_count": 9,
   "metadata": {},
   "outputs": [
    {
     "data": {
      "text/plain": [
       "<matplotlib.collections.QuadMesh at 0x2ba75b928518>"
      ]
     },
     "execution_count": 9,
     "metadata": {},
     "output_type": "execute_result"
    },
    {
     "data": {
      "image/png": "[encoded data removed]",
      "text/plain": [
       "<Figure size 432x288 with 2 Axes>"
      ]
     },
     "metadata": {
      "needs_background": "light"
     },
     "output_type": "display_data"
    }
   ],
   "source": [
    "ds.SHF.isel(member_id=0, nlat=slice(150, 250), nlon=slice(150, 250)).mean('nlon').plot()"
   ]
  },
  {
   "cell_type": "code",
   "execution_count": null,
   "metadata": {},
   "outputs": [],
   "source": []
  }
 ],
 "metadata": {
  "kernelspec": {
   "display_name": "Python 3",
   "language": "python",
   "name": "python3"
  },
  "language_info": {
   "codemirror_mode": {
    "name": "ipython",
    "version": 3
   },
   "file_extension": ".py",
   "mimetype": "text/x-python",
   "name": "python",
   "nbconvert_exporter": "python",
   "pygments_lexer": "ipython3",
   "version": "3.7.3"
  }
 },
 "nbformat": 4,
 "nbformat_minor": 2
}
