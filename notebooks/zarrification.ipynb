{
 "cells": [
  {
   "cell_type": "markdown",
   "metadata": {},
   "source": [
    "# Demonstrate zarr-ification of CESM-LE"
   ]
  },
  {
   "cell_type": "code",
   "execution_count": 1,
   "metadata": {},
   "outputs": [
    {
     "name": "stderr",
     "output_type": "stream",
     "text": [
      "/glade/work/abanihi/softwares/miniconda3/envs/analysis/lib/python3.7/site-packages/tqdm/autonotebook/__init__.py:14: TqdmExperimentalWarning: Using `tqdm.autonotebook.tqdm` in notebook mode. Use `tqdm.tqdm` instead to force console mode (e.g. in jupyter console)\n",
      "  \" (e.g. in jupyter console)\", TqdmExperimentalWarning)\n",
      "/glade/work/abanihi/softwares/miniconda3/envs/analysis/lib/python3.7/site-packages/docrep/__init__.py:341: MatplotlibDeprecationWarning: \n",
      "The dedent function was deprecated in Matplotlib 3.1 and will be removed in 3.3. Use inspect.cleandoc instead.\n",
      "  s = dedents('\\n' + '\\n'.join(lines[first:]))\n"
     ]
    }
   ],
   "source": [
    "%matplotlib inline\n",
    "import os\n",
    "import shutil\n",
    "\n",
    "import yaml\n",
    "\n",
    "import xarray as xr\n",
    "\n",
    "import intake\n",
    "import intake_esm\n",
    "\n",
    "import matplotlib.pyplot as plt"
   ]
  },
  {
   "cell_type": "markdown",
   "metadata": {},
   "source": [
    "## Spinup cluster"
   ]
  },
  {
   "cell_type": "code",
   "execution_count": 2,
   "metadata": {},
   "outputs": [
    {
     "name": "stderr",
     "output_type": "stream",
     "text": [
      "/glade/work/abanihi/softwares/miniconda3/envs/analysis/lib/python3.7/site-packages/dask_jobqueue/config.py:12: YAMLLoadWarning: calling yaml.load() without Loader=... is deprecated, as the default Loader is unsafe. Please read https://msg.pyyaml.org/load for full details.\n",
      "  defaults = yaml.load(f)\n",
      "/glade/work/abanihi/softwares/miniconda3/envs/analysis/lib/python3.7/site-packages/distributed/deploy/local.py:138: UserWarning: diagnostics_port has been deprecated. Please use `dashboard_address=` instead\n",
      "  \"diagnostics_port has been deprecated. \"\n"
     ]
    },
    {
     "data": {
      "application/vnd.jupyter.widget-view+json": {
       "model_id": "efa51dcafdbd4c09b67d32c40f0410b7",
       "version_major": 2,
       "version_minor": 0
      },
      "text/plain": [
       "VBox(children=(HTML(value='<h2>NCARCluster</h2>'), HBox(children=(HTML(value='\\n<div>\\n  <style scoped>\\n    .…"
      ]
     },
     "metadata": {},
     "output_type": "display_data"
    }
   ],
   "source": [
    "from ncar_jobqueue import NCARCluster\n",
    "cluster = NCARCluster(memory=\"70GB\")\n",
    "#cluster.scale(10)  # Ask for 4 x 9 workers\n",
    "cluster"
   ]
  },
  {
   "cell_type": "code",
   "execution_count": 3,
   "metadata": {},
   "outputs": [
    {
     "data": {
      "text/plain": [
       "<distributed.deploy.adaptive.Adaptive at 0x2b6eaa4831d0>"
      ]
     },
     "execution_count": 3,
     "metadata": {},
     "output_type": "execute_result"
    }
   ],
   "source": [
    "cluster.adapt(minimum=0, maximum=20, wait_count=60)"
   ]
  },
  {
   "cell_type": "code",
   "execution_count": 4,
   "metadata": {},
   "outputs": [
    {
     "data": {
      "text/html": [
       "<table style=\"border: 2px solid white;\">\n",
       "<tr>\n",
       "<td style=\"vertical-align: top; border: 0px solid white\">\n",
       "<h3>Client</h3>\n",
       "<ul>\n",
       "  <li><b>Scheduler: </b>tcp://10.12.203.5:46427\n",
       "  <li><b>Dashboard: </b><a href='https://jupyterhub.ucar.edu/ch/user/abanihi/proxy/8787/status' target='_blank'>https://jupyterhub.ucar.edu/ch/user/abanihi/proxy/8787/status</a>\n",
       "</ul>\n",
       "</td>\n",
       "<td style=\"vertical-align: top; border: 0px solid white\">\n",
       "<h3>Cluster</h3>\n",
       "<ul>\n",
       "  <li><b>Workers: </b>0</li>\n",
       "  <li><b>Cores: </b>0</li>\n",
       "  <li><b>Memory: </b>0 B</li>\n",
       "</ul>\n",
       "</td>\n",
       "</tr>\n",
       "</table>"
      ],
      "text/plain": [
       "<Client: scheduler='tcp://10.12.203.5:46427' processes=0 cores=0>"
      ]
     },
     "execution_count": 4,
     "metadata": {},
     "output_type": "execute_result"
    }
   ],
   "source": [
    "from dask.distributed import Client\n",
    "client = Client(cluster) # Connect this local process to remote workers\n",
    "client"
   ]
  },
  {
   "cell_type": "markdown",
   "metadata": {},
   "source": [
    "## Connect to intake-esm database"
   ]
  },
  {
   "cell_type": "code",
   "execution_count": 5,
   "metadata": {},
   "outputs": [
    {
     "data": {
      "text/html": [
       "<div>\n",
       "<style scoped>\n",
       "    .dataframe tbody tr th:only-of-type {\n",
       "        vertical-align: middle;\n",
       "    }\n",
       "\n",
       "    .dataframe tbody tr th {\n",
       "        vertical-align: top;\n",
       "    }\n",
       "\n",
       "    .dataframe thead th {\n",
       "        text-align: right;\n",
       "    }\n",
       "</style>\n",
       "<table border=\"1\" class=\"dataframe\">\n",
       "  <thead>\n",
       "    <tr style=\"text-align: right;\">\n",
       "      <th></th>\n",
       "      <th>resource</th>\n",
       "      <th>resource_type</th>\n",
       "      <th>direct_access</th>\n",
       "      <th>experiment</th>\n",
       "      <th>case</th>\n",
       "      <th>component</th>\n",
       "      <th>stream</th>\n",
       "      <th>variable</th>\n",
       "      <th>date_range</th>\n",
       "      <th>member_id</th>\n",
       "      <th>file_fullpath</th>\n",
       "      <th>file_basename</th>\n",
       "      <th>file_dirname</th>\n",
       "      <th>ctrl_branch_year</th>\n",
       "      <th>year_offset</th>\n",
       "      <th>sequence_order</th>\n",
       "      <th>has_ocean_bgc</th>\n",
       "      <th>grid</th>\n",
       "    </tr>\n",
       "  </thead>\n",
       "  <tbody>\n",
       "    <tr>\n",
       "      <th>0</th>\n",
       "      <td>CTRL:GLADE:posix:/glade/collections/cdg/data/c...</td>\n",
       "      <td>posix</td>\n",
       "      <td>True</td>\n",
       "      <td>CTRL</td>\n",
       "      <td>b.e11.B1850C5CN.f09_g16.005</td>\n",
       "      <td>atm</td>\n",
       "      <td>cam.h1</td>\n",
       "      <td>T200</td>\n",
       "      <td>18000101-18991231</td>\n",
       "      <td>0</td>\n",
       "      <td>/glade/collections/cdg/data/cesmLE/CESM-CAM5-B...</td>\n",
       "      <td>b.e11.B1850C5CN.f09_g16.005.cam.h1.T200.180001...</td>\n",
       "      <td>/glade/collections/cdg/data/cesmLE/CESM-CAM5-B...</td>\n",
       "      <td>NaN</td>\n",
       "      <td>1448.0</td>\n",
       "      <td>0</td>\n",
       "      <td>True</td>\n",
       "      <td>NaN</td>\n",
       "    </tr>\n",
       "    <tr>\n",
       "      <th>1</th>\n",
       "      <td>CTRL:GLADE:posix:/glade/collections/cdg/data/c...</td>\n",
       "      <td>posix</td>\n",
       "      <td>True</td>\n",
       "      <td>CTRL</td>\n",
       "      <td>b.e11.B1850C5CN.f09_g16.005</td>\n",
       "      <td>atm</td>\n",
       "      <td>cam.h1</td>\n",
       "      <td>T200</td>\n",
       "      <td>08000101-08991231</td>\n",
       "      <td>0</td>\n",
       "      <td>/glade/collections/cdg/data/cesmLE/CESM-CAM5-B...</td>\n",
       "      <td>b.e11.B1850C5CN.f09_g16.005.cam.h1.T200.080001...</td>\n",
       "      <td>/glade/collections/cdg/data/cesmLE/CESM-CAM5-B...</td>\n",
       "      <td>NaN</td>\n",
       "      <td>1448.0</td>\n",
       "      <td>0</td>\n",
       "      <td>True</td>\n",
       "      <td>NaN</td>\n",
       "    </tr>\n",
       "    <tr>\n",
       "      <th>2</th>\n",
       "      <td>CTRL:GLADE:posix:/glade/collections/cdg/data/c...</td>\n",
       "      <td>posix</td>\n",
       "      <td>True</td>\n",
       "      <td>CTRL</td>\n",
       "      <td>b.e11.B1850C5CN.f09_g16.005</td>\n",
       "      <td>atm</td>\n",
       "      <td>cam.h1</td>\n",
       "      <td>T200</td>\n",
       "      <td>04020101-04991231</td>\n",
       "      <td>0</td>\n",
       "      <td>/glade/collections/cdg/data/cesmLE/CESM-CAM5-B...</td>\n",
       "      <td>b.e11.B1850C5CN.f09_g16.005.cam.h1.T200.040201...</td>\n",
       "      <td>/glade/collections/cdg/data/cesmLE/CESM-CAM5-B...</td>\n",
       "      <td>NaN</td>\n",
       "      <td>1448.0</td>\n",
       "      <td>0</td>\n",
       "      <td>True</td>\n",
       "      <td>NaN</td>\n",
       "    </tr>\n",
       "    <tr>\n",
       "      <th>3</th>\n",
       "      <td>CTRL:GLADE:posix:/glade/collections/cdg/data/c...</td>\n",
       "      <td>posix</td>\n",
       "      <td>True</td>\n",
       "      <td>CTRL</td>\n",
       "      <td>b.e11.B1850C5CN.f09_g16.005</td>\n",
       "      <td>atm</td>\n",
       "      <td>cam.h1</td>\n",
       "      <td>T200</td>\n",
       "      <td>10000101-10991231</td>\n",
       "      <td>0</td>\n",
       "      <td>/glade/collections/cdg/data/cesmLE/CESM-CAM5-B...</td>\n",
       "      <td>b.e11.B1850C5CN.f09_g16.005.cam.h1.T200.100001...</td>\n",
       "      <td>/glade/collections/cdg/data/cesmLE/CESM-CAM5-B...</td>\n",
       "      <td>NaN</td>\n",
       "      <td>1448.0</td>\n",
       "      <td>0</td>\n",
       "      <td>True</td>\n",
       "      <td>NaN</td>\n",
       "    </tr>\n",
       "    <tr>\n",
       "      <th>4</th>\n",
       "      <td>CTRL:GLADE:posix:/glade/collections/cdg/data/c...</td>\n",
       "      <td>posix</td>\n",
       "      <td>True</td>\n",
       "      <td>CTRL</td>\n",
       "      <td>b.e11.B1850C5CN.f09_g16.005</td>\n",
       "      <td>atm</td>\n",
       "      <td>cam.h1</td>\n",
       "      <td>T200</td>\n",
       "      <td>11000101-11991231</td>\n",
       "      <td>0</td>\n",
       "      <td>/glade/collections/cdg/data/cesmLE/CESM-CAM5-B...</td>\n",
       "      <td>b.e11.B1850C5CN.f09_g16.005.cam.h1.T200.110001...</td>\n",
       "      <td>/glade/collections/cdg/data/cesmLE/CESM-CAM5-B...</td>\n",
       "      <td>NaN</td>\n",
       "      <td>1448.0</td>\n",
       "      <td>0</td>\n",
       "      <td>True</td>\n",
       "      <td>NaN</td>\n",
       "    </tr>\n",
       "  </tbody>\n",
       "</table>\n",
       "</div>"
      ],
      "text/plain": [
       "                                            resource resource_type  \\\n",
       "0  CTRL:GLADE:posix:/glade/collections/cdg/data/c...         posix   \n",
       "1  CTRL:GLADE:posix:/glade/collections/cdg/data/c...         posix   \n",
       "2  CTRL:GLADE:posix:/glade/collections/cdg/data/c...         posix   \n",
       "3  CTRL:GLADE:posix:/glade/collections/cdg/data/c...         posix   \n",
       "4  CTRL:GLADE:posix:/glade/collections/cdg/data/c...         posix   \n",
       "\n",
       "   direct_access experiment                         case component  stream  \\\n",
       "0           True       CTRL  b.e11.B1850C5CN.f09_g16.005       atm  cam.h1   \n",
       "1           True       CTRL  b.e11.B1850C5CN.f09_g16.005       atm  cam.h1   \n",
       "2           True       CTRL  b.e11.B1850C5CN.f09_g16.005       atm  cam.h1   \n",
       "3           True       CTRL  b.e11.B1850C5CN.f09_g16.005       atm  cam.h1   \n",
       "4           True       CTRL  b.e11.B1850C5CN.f09_g16.005       atm  cam.h1   \n",
       "\n",
       "  variable         date_range  member_id  \\\n",
       "0     T200  18000101-18991231          0   \n",
       "1     T200  08000101-08991231          0   \n",
       "2     T200  04020101-04991231          0   \n",
       "3     T200  10000101-10991231          0   \n",
       "4     T200  11000101-11991231          0   \n",
       "\n",
       "                                       file_fullpath  \\\n",
       "0  /glade/collections/cdg/data/cesmLE/CESM-CAM5-B...   \n",
       "1  /glade/collections/cdg/data/cesmLE/CESM-CAM5-B...   \n",
       "2  /glade/collections/cdg/data/cesmLE/CESM-CAM5-B...   \n",
       "3  /glade/collections/cdg/data/cesmLE/CESM-CAM5-B...   \n",
       "4  /glade/collections/cdg/data/cesmLE/CESM-CAM5-B...   \n",
       "\n",
       "                                       file_basename  \\\n",
       "0  b.e11.B1850C5CN.f09_g16.005.cam.h1.T200.180001...   \n",
       "1  b.e11.B1850C5CN.f09_g16.005.cam.h1.T200.080001...   \n",
       "2  b.e11.B1850C5CN.f09_g16.005.cam.h1.T200.040201...   \n",
       "3  b.e11.B1850C5CN.f09_g16.005.cam.h1.T200.100001...   \n",
       "4  b.e11.B1850C5CN.f09_g16.005.cam.h1.T200.110001...   \n",
       "\n",
       "                                        file_dirname  ctrl_branch_year  \\\n",
       "0  /glade/collections/cdg/data/cesmLE/CESM-CAM5-B...               NaN   \n",
       "1  /glade/collections/cdg/data/cesmLE/CESM-CAM5-B...               NaN   \n",
       "2  /glade/collections/cdg/data/cesmLE/CESM-CAM5-B...               NaN   \n",
       "3  /glade/collections/cdg/data/cesmLE/CESM-CAM5-B...               NaN   \n",
       "4  /glade/collections/cdg/data/cesmLE/CESM-CAM5-B...               NaN   \n",
       "\n",
       "   year_offset  sequence_order  has_ocean_bgc grid  \n",
       "0       1448.0               0           True  NaN  \n",
       "1       1448.0               0           True  NaN  \n",
       "2       1448.0               0           True  NaN  \n",
       "3       1448.0               0           True  NaN  \n",
       "4       1448.0               0           True  NaN  "
      ]
     },
     "execution_count": 5,
     "metadata": {},
     "output_type": "execute_result"
    }
   ],
   "source": [
    "col = intake.open_esm_metadatastore(collection_name='CESM1-LE')\n",
    "col.df.head()"
   ]
  },
  {
   "cell_type": "code",
   "execution_count": 6,
   "metadata": {},
   "outputs": [
    {
     "name": "stdout",
     "output_type": "stream",
     "text": [
      "There are:\n",
      "\n",
      "\t1) 6 experiments: \n",
      "\n",
      "\t\t['CTRL' 'CTRL-AMIP' 'CTRL-SLAB-OCN' '20C' '20C-OIC' 'RCP85']\n",
      "\n",
      "\t2) 93 cases: \n",
      "\n",
      "\t\t['b.e11.B1850C5CN.f09_g16.005' 'f.e11.F1850C5CN.f09_f09.001'\n",
      " 'e.e11.E1850C5CN.f09_g16.001' 'b.e11.B20TRC5CNBDRD.f09_g16.105'\n",
      " 'b.e11.B20TRC5CNBDRD.f09_g16.104'] etc...\n",
      "\n",
      "\t3) 5 components: \n",
      "\n",
      "\t\t['atm' 'ocn' 'lnd' 'rof' 'ice']\n",
      "\n",
      "\t4) 10 streams: \n",
      "\n",
      "\t\t['cam.h1' 'cam.h0' 'pop.h.nday1' 'pop.h' 'clm2.h1' 'clm2.h0' 'rtm.h1'\n",
      " 'rtm.h0' 'cice.h1' 'cice.h']\n",
      "\n",
      "\t5) 985 variables: \n",
      "\n",
      "\t\t['T200' 'Q200' 'FLNSC' 'Q500' 'PRECL' 'QBOT' 'TREFHTMN' 'FSNTOA' 'TAUX'\n",
      " 'TAUY'] etc...\n",
      "\n"
     ]
    }
   ],
   "source": [
    "def collection_summary(col):\n",
    "    df = col.df\n",
    "    print(\"There are:\\n\")\n",
    "    print(f\"\\t1) {df.experiment.nunique()} experiments: \\n\\n\\t\\t{df.experiment.unique()}\\n\")\n",
    "    print(f\"\\t2) {df.case.nunique()} cases: \\n\\n\\t\\t{df.case.unique()[:5]} etc...\\n\")\n",
    "    print(f\"\\t3) {df.component.nunique()} components: \\n\\n\\t\\t{df.component.unique()}\\n\")\n",
    "    print(f\"\\t4) {df.stream.nunique()} streams: \\n\\n\\t\\t{df.stream.unique()}\\n\")\n",
    "    print(f\"\\t5) {df.variable.nunique()} variables: \\n\\n\\t\\t{df.variable.unique()[:10]} etc...\\n\")\n",
    "    \n",
    "collection_summary(col)"
   ]
  },
  {
   "cell_type": "markdown",
   "metadata": {},
   "source": [
    "## Specify process attributes"
   ]
  },
  {
   "cell_type": "code",
   "execution_count": 7,
   "metadata": {},
   "outputs": [],
   "source": [
    "component_list = ['ocn']\n",
    "\n",
    "experiment_list = ['20C', 'RCP85']"
   ]
  },
  {
   "cell_type": "code",
   "execution_count": 13,
   "metadata": {},
   "outputs": [
    {
     "data": {
      "text/plain": [
       "{'ocn': {'pop.h': {'time': 12, 'z_t': 20, 'nlat': 128, 'nlon': 80}},\n",
       " 'ice': {'cice.h': {'time': 12}},\n",
       " 'atm': {'cam.h0': {'time': 12}},\n",
       " 'lnd': {'clm2.h0': {'time': 12}, 'clm2.h1': {'time': 30}}}"
      ]
     },
     "execution_count": 13,
     "metadata": {},
     "output_type": "execute_result"
    }
   ],
   "source": [
    "with open(\"../chunking_spec.yaml\") as f:\n",
    "    chunking_spec = yaml.safe_load(f)\n",
    "chunking_spec"
   ]
  },
  {
   "cell_type": "code",
   "execution_count": 12,
   "metadata": {},
   "outputs": [
    {
     "data": {
      "text/plain": [
       "30.0"
      ]
     },
     "execution_count": 12,
     "metadata": {},
     "output_type": "execute_result"
    }
   ],
   "source": [
    "360/12"
   ]
  },
  {
   "cell_type": "code",
   "execution_count": 11,
   "metadata": {},
   "outputs": [],
   "source": [
    "360/12\n",
    "\n",
    "\n",
    "\n",
    "chunking_spec = yaml.safe_load('''\n",
    "ocn:\n",
    "  time: 12\n",
    "  z_t: 10\n",
    "  \n",
    "atm:\n",
    "  time: 12\n",
    "''')\n",
    "\n",
    "# vars to operate on\n",
    "variable_request = yaml.safe_load('''\n",
    "ocn:\n",
    "  pop.h:\n",
    "    - MOC\n",
    "    - SHF\n",
    "    - TEMP\n",
    "atm:\n",
    "  cam.h0:\n",
    "    - T\n",
    "    - U\n",
    "''')\n",
    "    \n",
    "\n",
    "# file namer\n",
    "dirout = '/glade/scratch/abanihi/calcs'\n",
    "def zarr_file(exp, cmp, stream, var, write=False):\n",
    "    path = f'{dirout}/CESM-LE-{exp}-{cmp}-{stream}-{var}.zarr'    \n",
    "    if write and os.path.exists(path):\n",
    "        shutil.rmtree(path)\n",
    "    print(path)\n",
    "    return path       "
   ]
  },
  {
   "cell_type": "markdown",
   "metadata": {},
   "source": [
    "## Make `zarr` collection"
   ]
  },
  {
   "cell_type": "code",
   "execution_count": 33,
   "metadata": {},
   "outputs": [
    {
     "data": {
      "application/vnd.jupyter.widget-view+json": {
       "model_id": "33fe933c617f4f188f5c708609212c03",
       "version_major": 2,
       "version_minor": 0
      },
      "text/plain": [
       "HBox(children=(IntProgress(value=0, description='dataset', max=1, style=ProgressStyle(description_width='initi…"
      ]
     },
     "metadata": {},
     "output_type": "display_data"
    },
    {
     "data": {
      "application/vnd.jupyter.widget-view+json": {
       "model_id": "fb1136fe67e948da8f45089e658d0f2e",
       "version_major": 2,
       "version_minor": 0
      },
      "text/plain": [
       "HBox(children=(IntProgress(value=0, description='member', max=34, style=ProgressStyle(description_width='initi…"
      ]
     },
     "metadata": {},
     "output_type": "display_data"
    },
    {
     "name": "stdout",
     "output_type": "stream",
     "text": [
      "/glade/scratch/abanihi/calcs/CESM-LE-20C-ocn-pop.h-O2.zarr\n"
     ]
    },
    {
     "data": {
      "application/vnd.jupyter.widget-view+json": {
       "model_id": "ca69c5bfc52a4310aa23e601007afafa",
       "version_major": 2,
       "version_minor": 0
      },
      "text/plain": [
       "HBox(children=(IntProgress(value=0, description='dataset', max=1, style=ProgressStyle(description_width='initi…"
      ]
     },
     "metadata": {},
     "output_type": "display_data"
    },
    {
     "data": {
      "application/vnd.jupyter.widget-view+json": {
       "model_id": "fa8f08f9791d49089a40880e40d2232b",
       "version_major": 2,
       "version_minor": 0
      },
      "text/plain": [
       "HBox(children=(IntProgress(value=0, description='member', max=40, style=ProgressStyle(description_width='initi…"
      ]
     },
     "metadata": {},
     "output_type": "display_data"
    },
    {
     "name": "stdout",
     "output_type": "stream",
     "text": [
      "/glade/scratch/abanihi/calcs/CESM-LE-20C-ocn-pop.h-MOC.zarr\n"
     ]
    },
    {
     "data": {
      "application/vnd.jupyter.widget-view+json": {
       "model_id": "d372e1adbe31495d94920e8280801409",
       "version_major": 2,
       "version_minor": 0
      },
      "text/plain": [
       "HBox(children=(IntProgress(value=0, description='dataset', max=1, style=ProgressStyle(description_width='initi…"
      ]
     },
     "metadata": {},
     "output_type": "display_data"
    },
    {
     "data": {
      "application/vnd.jupyter.widget-view+json": {
       "model_id": "30ad7b4b21bd4616a93458415c2660ea",
       "version_major": 2,
       "version_minor": 0
      },
      "text/plain": [
       "HBox(children=(IntProgress(value=0, description='member', max=40, style=ProgressStyle(description_width='initi…"
      ]
     },
     "metadata": {},
     "output_type": "display_data"
    },
    {
     "name": "stdout",
     "output_type": "stream",
     "text": [
      "/glade/scratch/abanihi/calcs/CESM-LE-20C-ocn-pop.h-SHF.zarr\n"
     ]
    },
    {
     "data": {
      "application/vnd.jupyter.widget-view+json": {
       "model_id": "721a930149d44689b9d16e7546600771",
       "version_major": 2,
       "version_minor": 0
      },
      "text/plain": [
       "HBox(children=(IntProgress(value=0, description='dataset', max=1, style=ProgressStyle(description_width='initi…"
      ]
     },
     "metadata": {},
     "output_type": "display_data"
    },
    {
     "data": {
      "application/vnd.jupyter.widget-view+json": {
       "model_id": "12d7c8f17b97442eaae1395a779b8780",
       "version_major": 2,
       "version_minor": 0
      },
      "text/plain": [
       "HBox(children=(IntProgress(value=0, description='member', max=40, style=ProgressStyle(description_width='initi…"
      ]
     },
     "metadata": {},
     "output_type": "display_data"
    },
    {
     "name": "stdout",
     "output_type": "stream",
     "text": [
      "/glade/scratch/abanihi/calcs/CESM-LE-20C-ocn-pop.h-TEMP.zarr\n"
     ]
    }
   ],
   "source": [
    "# loop over experiments\n",
    "for exp in experiment_list:\n",
    "    \n",
    "    # loop over model components\n",
    "    for cmp in component_list:\n",
    "        \n",
    "\n",
    "        # set open_dataset keyword args\n",
    "        xr_open = dict(chunks=chunking_spec[cmp], decode_times=False, decode_coords=False)\n",
    "\n",
    "        # loop over streams\n",
    "        for stm, varlist in variable_request[cmp].items():            \n",
    "\n",
    "            # get the data\n",
    "            for var in varlist:\n",
    "\n",
    "                query = dict(experiment=exp, variable=var, stream=stm)            \n",
    "                dd = col.search(**query).to_xarray(**xr_open)\n",
    "                _, ds = dd.popitem()\n",
    "\n",
    "                # apply subsetting in time\n",
    "                # for proof of concept select only 3 years \n",
    "                # assuming monthly\n",
    "                ds = ds.isel(time=slice(0, 36))\n",
    "\n",
    "                # write a zarr file\n",
    "                ds.to_zarr(zarr_file(exp, cmp, stm, var, write=True), consolidated=True)"
   ]
  },
  {
   "cell_type": "markdown",
   "metadata": {},
   "source": [
    "## Read it back in to demonstrate merge\n",
    "\n",
    "If we build a data catalog for the `zarr` collection, the reference to actually paths would go away. This is for illustration purposes only."
   ]
  },
  {
   "cell_type": "code",
   "execution_count": 35,
   "metadata": {},
   "outputs": [
    {
     "name": "stdout",
     "output_type": "stream",
     "text": [
      "/glade/scratch/abanihi/calcs/CESM-LE-20C-ocn-pop.h-SHF.zarr\n",
      "/glade/scratch/abanihi/calcs/CESM-LE-20C-ocn-pop.h-TEMP.zarr\n",
      "xarray.Dataset {\n",
      "dimensions:\n",
      "\td2 = 2 ;\n",
      "\tlat_aux_grid = 395 ;\n",
      "\tmember_id = 40 ;\n",
      "\tmoc_comp = 3 ;\n",
      "\tmoc_z = 61 ;\n",
      "\tnlat = 384 ;\n",
      "\tnlon = 320 ;\n",
      "\ttime = 36 ;\n",
      "\ttransport_comp = 5 ;\n",
      "\ttransport_reg = 2 ;\n",
      "\tz_t = 60 ;\n",
      "\tz_t_150m = 15 ;\n",
      "\tz_w = 60 ;\n",
      "\tz_w_bot = 60 ;\n",
      "\tz_w_top = 60 ;\n",
      "\n",
      "variables:\n",
      "\tfloat64 ANGLE(member_id, nlat, nlon) ;\n",
      "\t\tANGLE:long_name = angle grid makes with latitude line ;\n",
      "\t\tANGLE:units = radians ;\n",
      "\tfloat64 ANGLET(member_id, nlat, nlon) ;\n",
      "\t\tANGLET:long_name = angle grid makes with latitude line on T grid ;\n",
      "\t\tANGLET:units = radians ;\n",
      "\tfloat64 DXT(member_id, nlat, nlon) ;\n",
      "\t\tDXT:long_name = x-spacing centered at T points ;\n",
      "\t\tDXT:units = centimeters ;\n",
      "\tfloat64 DXU(member_id, nlat, nlon) ;\n",
      "\t\tDXU:long_name = x-spacing centered at U points ;\n",
      "\t\tDXU:units = centimeters ;\n",
      "\tfloat64 DYT(member_id, nlat, nlon) ;\n",
      "\t\tDYT:long_name = y-spacing centered at T points ;\n",
      "\t\tDYT:units = centimeters ;\n",
      "\tfloat64 DYU(member_id, nlat, nlon) ;\n",
      "\t\tDYU:long_name = y-spacing centered at U points ;\n",
      "\t\tDYU:units = centimeters ;\n",
      "\tfloat64 HT(member_id, nlat, nlon) ;\n",
      "\t\tHT:long_name = ocean depth at T points ;\n",
      "\t\tHT:units = centimeter ;\n",
      "\tfloat64 HTE(member_id, nlat, nlon) ;\n",
      "\t\tHTE:long_name = cell widths on East sides of T cell ;\n",
      "\t\tHTE:units = centimeters ;\n",
      "\tfloat64 HTN(member_id, nlat, nlon) ;\n",
      "\t\tHTN:long_name = cell widths on North sides of T cell ;\n",
      "\t\tHTN:units = centimeters ;\n",
      "\tfloat64 HU(member_id, nlat, nlon) ;\n",
      "\t\tHU:long_name = ocean depth at U points ;\n",
      "\t\tHU:units = centimeter ;\n",
      "\tfloat64 HUS(member_id, nlat, nlon) ;\n",
      "\t\tHUS:long_name = cell widths on South sides of U cell ;\n",
      "\t\tHUS:units = centimeters ;\n",
      "\tfloat64 HUW(member_id, nlat, nlon) ;\n",
      "\t\tHUW:long_name = cell widths on West sides of U cell ;\n",
      "\t\tHUW:units = centimeters ;\n",
      "\tfloat64 KMT(member_id, nlat, nlon) ;\n",
      "\t\tKMT:long_name = k Index of Deepest Grid Cell on T Grid ;\n",
      "\tfloat64 KMU(member_id, nlat, nlon) ;\n",
      "\t\tKMU:long_name = k Index of Deepest Grid Cell on U Grid ;\n",
      "\tfloat64 REGION_MASK(member_id, nlat, nlon) ;\n",
      "\t\tREGION_MASK:long_name = basin index number (signed integers) ;\n",
      "\tfloat32 SHF(member_id, time, nlat, nlon) ;\n",
      "\t\tSHF:cell_methods = time: mean ;\n",
      "\t\tSHF:grid_loc = 2110 ;\n",
      "\t\tSHF:long_name = Total Surface Heat Flux, Including SW ;\n",
      "\t\tSHF:units = watt/m^2 ;\n",
      "\tfloat64 T0_Kelvin(member_id) ;\n",
      "\t\tT0_Kelvin:long_name = Zero Point for Celsius ;\n",
      "\t\tT0_Kelvin:units = degK ;\n",
      "\tfloat64 TAREA(member_id, nlat, nlon) ;\n",
      "\t\tTAREA:long_name = area of T cells ;\n",
      "\t\tTAREA:units = centimeter^2 ;\n",
      "\tfloat64 TLAT(member_id, nlat, nlon) ;\n",
      "\t\tTLAT:long_name = array of t-grid latitudes ;\n",
      "\t\tTLAT:units = degrees_north ;\n",
      "\tfloat64 TLONG(member_id, nlat, nlon) ;\n",
      "\t\tTLONG:long_name = array of t-grid longitudes ;\n",
      "\t\tTLONG:units = degrees_east ;\n",
      "\tfloat64 UAREA(member_id, nlat, nlon) ;\n",
      "\t\tUAREA:long_name = area of U cells ;\n",
      "\t\tUAREA:units = centimeter^2 ;\n",
      "\tfloat64 ULAT(member_id, nlat, nlon) ;\n",
      "\t\tULAT:long_name = array of u-grid latitudes ;\n",
      "\t\tULAT:units = degrees_north ;\n",
      "\tfloat64 ULONG(member_id, nlat, nlon) ;\n",
      "\t\tULONG:long_name = array of u-grid longitudes ;\n",
      "\t\tULONG:units = degrees_east ;\n",
      "\tfloat64 cp_air(member_id) ;\n",
      "\t\tcp_air:long_name = Heat Capacity of Air ;\n",
      "\t\tcp_air:units = joule/kg/degK ;\n",
      "\tfloat64 cp_sw(member_id) ;\n",
      "\t\tcp_sw:long_name = Specific Heat of Sea Water ;\n",
      "\t\tcp_sw:units = erg/g/K ;\n",
      "\tfloat64 days_in_norm_year(member_id) ;\n",
      "\t\tdays_in_norm_year:long_name = Calendar Length ;\n",
      "\t\tdays_in_norm_year:units = days ;\n",
      "\tfloat32 dz(member_id, z_t) ;\n",
      "\t\tdz:long_name = thickness of layer k ;\n",
      "\t\tdz:units = centimeters ;\n",
      "\tfloat32 dzw(member_id, z_w) ;\n",
      "\t\tdzw:long_name = midpoint of k to midpoint of k+1 ;\n",
      "\t\tdzw:units = centimeters ;\n",
      "\tfloat64 fwflux_factor(member_id) ;\n",
      "\t\tfwflux_factor:long_name = Convert Net Fresh Water Flux to Salt Flux (in model units) ;\n",
      "\tfloat64 grav(member_id) ;\n",
      "\t\tgrav:long_name = Acceleration Due to Gravity ;\n",
      "\t\tgrav:units = centimeter/s^2 ;\n",
      "\tfloat64 heat_to_PW(member_id) ;\n",
      "\t\theat_to_PW:long_name = Convert Heat Flux to Petawatts ;\n",
      "\tfloat64 hflux_factor(member_id) ;\n",
      "\t\thflux_factor:long_name = Convert Heat and Solar Flux to Temperature Flux ;\n",
      "\tfloat32 lat_aux_grid(lat_aux_grid) ;\n",
      "\t\tlat_aux_grid:long_name = latitude grid for transport diagnostics ;\n",
      "\t\tlat_aux_grid:units = degrees_north ;\n",
      "\t\tlat_aux_grid:valid_max = 90.0 ;\n",
      "\t\tlat_aux_grid:valid_min = -79.48815155029297 ;\n",
      "\tfloat64 latent_heat_fusion(member_id) ;\n",
      "\t\tlatent_heat_fusion:long_name = Latent Heat of Fusion ;\n",
      "\t\tlatent_heat_fusion:units = erg/g ;\n",
      "\tfloat64 latent_heat_vapor(member_id) ;\n",
      "\t\tlatent_heat_vapor:long_name = Latent Heat of Vaporization ;\n",
      "\t\tlatent_heat_vapor:units = J/kg ;\n",
      "\tfloat64 mass_to_Sv(member_id) ;\n",
      "\t\tmass_to_Sv:long_name = Convert Mass Flux to Sverdrups ;\n",
      "\tint64 member_id(member_id) ;\n",
      "\t|S256 moc_components(member_id, moc_comp) ;\n",
      "\t\tmoc_components:long_name = MOC component names ;\n",
      "\t\tmoc_components:units =  ;\n",
      "\tfloat32 moc_z(moc_z) ;\n",
      "\t\tmoc_z:long_name = depth from surface to top of layer ;\n",
      "\t\tmoc_z:positive = down ;\n",
      "\t\tmoc_z:units = centimeters ;\n",
      "\t\tmoc_z:valid_max = 549999.0625 ;\n",
      "\t\tmoc_z:valid_min = 0.0 ;\n",
      "\tfloat64 momentum_factor(member_id) ;\n",
      "\t\tmomentum_factor:long_name = Convert Windstress to Velocity Flux ;\n",
      "\tfloat64 nsurface_t(member_id) ;\n",
      "\t\tnsurface_t:long_name = Number of Ocean T Points at Surface ;\n",
      "\tfloat64 nsurface_u(member_id) ;\n",
      "\t\tnsurface_u:long_name = Number of Ocean U Points at Surface ;\n",
      "\tfloat64 ocn_ref_salinity(member_id) ;\n",
      "\t\tocn_ref_salinity:long_name = Ocean Reference Salinity ;\n",
      "\t\tocn_ref_salinity:units = g/kg ;\n",
      "\tfloat64 omega(member_id) ;\n",
      "\t\tomega:long_name = Earths Angular Velocity ;\n",
      "\t\tomega:units = 1/second ;\n",
      "\tfloat64 ppt_to_salt(member_id) ;\n",
      "\t\tppt_to_salt:long_name = Convert Salt in g/kg to gram/gram ;\n",
      "\tfloat64 radius(member_id) ;\n",
      "\t\tradius:long_name = Earths Radius ;\n",
      "\t\tradius:units = centimeters ;\n",
      "\tfloat64 rho_air(member_id) ;\n",
      "\t\trho_air:long_name = Ambient Air Density ;\n",
      "\t\trho_air:units = kg/m^3 ;\n",
      "\tfloat64 rho_fw(member_id) ;\n",
      "\t\trho_fw:long_name = Density of Fresh Water ;\n",
      "\t\trho_fw:units = gram/centimeter^3 ;\n",
      "\tfloat64 rho_sw(member_id) ;\n",
      "\t\trho_sw:long_name = Density of Sea Water ;\n",
      "\t\trho_sw:units = gram/centimeter^3 ;\n",
      "\tfloat64 salinity_factor(member_id) ;\n",
      "\tfloat64 salt_to_Svppt(member_id) ;\n",
      "\t\tsalt_to_Svppt:long_name = Convert Salt Flux to Sverdrups*g/kg ;\n",
      "\tfloat64 salt_to_mmday(member_id) ;\n",
      "\t\tsalt_to_mmday:long_name = Convert Salt to Water (millimeters/day) ;\n",
      "\tfloat64 salt_to_ppt(member_id) ;\n",
      "\t\tsalt_to_ppt:long_name = Convert Salt in gram/gram to g/kg ;\n",
      "\tfloat64 sea_ice_salinity(member_id) ;\n",
      "\t\tsea_ice_salinity:long_name = Salinity of Sea Ice ;\n",
      "\t\tsea_ice_salinity:units = g/kg ;\n",
      "\tfloat64 sflux_factor(member_id) ;\n",
      "\t\tsflux_factor:long_name = Convert Salt Flux to Salt Flux (in model units) ;\n",
      "\tfloat64 sound(member_id) ;\n",
      "\t\tsound:long_name = Speed of Sound ;\n",
      "\t\tsound:units = centimeter/s ;\n",
      "\tfloat64 stefan_boltzmann(member_id) ;\n",
      "\t\tstefan_boltzmann:long_name = Stefan-Boltzmann Constant ;\n",
      "\t\tstefan_boltzmann:units = watt/m^2/degK^4 ;\n",
      "\tfloat64 time(time) ;\n",
      "\t\ttime:bounds = time_bound ;\n",
      "\t\ttime:calendar = noleap ;\n",
      "\t\ttime:long_name = time ;\n",
      "\t\ttime:units = days since 0000-01-01 00:00:00 ;\n",
      "\tfloat64 time_bound(member_id, time, d2) ;\n",
      "\t\ttime_bound:long_name = boundaries for time-averaging interval ;\n",
      "\t\ttime_bound:units = days since 0000-01-01 00:00:00 ;\n",
      "\t|S256 transport_components(member_id, transport_comp) ;\n",
      "\t\ttransport_components:long_name = T,S transport components ;\n",
      "\t\ttransport_components:units =  ;\n",
      "\t|S256 transport_regions(member_id, transport_reg) ;\n",
      "\t\ttransport_regions:long_name = regions for all transport diagnostics ;\n",
      "\t\ttransport_regions:units =  ;\n",
      "\tfloat64 vonkar(member_id) ;\n",
      "\t\tvonkar:long_name = von Karman Constant ;\n",
      "\tfloat32 z_t(z_t) ;\n",
      "\t\tz_t:long_name = depth from surface to midpoint of layer ;\n",
      "\t\tz_t:positive = down ;\n",
      "\t\tz_t:units = centimeters ;\n",
      "\t\tz_t:valid_max = 537500.0 ;\n",
      "\t\tz_t:valid_min = 500.0 ;\n",
      "\tfloat32 z_t_150m(z_t_150m) ;\n",
      "\t\tz_t_150m:long_name = depth from surface to midpoint of layer ;\n",
      "\t\tz_t_150m:positive = down ;\n",
      "\t\tz_t_150m:units = centimeters ;\n",
      "\t\tz_t_150m:valid_max = 14500.0 ;\n",
      "\t\tz_t_150m:valid_min = 500.0 ;\n",
      "\tfloat32 z_w(z_w) ;\n",
      "\t\tz_w:long_name = depth from surface to top of layer ;\n",
      "\t\tz_w:positive = down ;\n",
      "\t\tz_w:units = centimeters ;\n",
      "\t\tz_w:valid_max = 525000.9375 ;\n",
      "\t\tz_w:valid_min = 0.0 ;\n",
      "\tfloat32 z_w_bot(z_w_bot) ;\n",
      "\t\tz_w_bot:long_name = depth from surface to bottom of layer ;\n",
      "\t\tz_w_bot:positive = down ;\n",
      "\t\tz_w_bot:units = centimeters ;\n",
      "\t\tz_w_bot:valid_max = 549999.0625 ;\n",
      "\t\tz_w_bot:valid_min = 1000.0 ;\n",
      "\tfloat32 z_w_top(z_w_top) ;\n",
      "\t\tz_w_top:long_name = depth from surface to top of layer ;\n",
      "\t\tz_w_top:positive = down ;\n",
      "\t\tz_w_top:units = centimeters ;\n",
      "\t\tz_w_top:valid_max = 525000.9375 ;\n",
      "\t\tz_w_top:valid_min = 0.0 ;\n",
      "\tfloat32 TEMP(member_id, time, z_t, nlat, nlon) ;\n",
      "\t\tTEMP:cell_methods = time: mean ;\n",
      "\t\tTEMP:grid_loc = 3111 ;\n",
      "\t\tTEMP:long_name = Potential Temperature ;\n",
      "\t\tTEMP:units = degC ;\n",
      "\n",
      "// global attributes:\n",
      "}"
     ]
    }
   ],
   "source": [
    "ds = xr.Dataset()\n",
    "for var in ['SHF', 'TEMP',]:\n",
    "    dsi = xr.open_zarr(zarr_file('20C', 'ocn', 'pop.h', var), consolidated=True, decode_times=False)\n",
    "    ds = xr.merge((ds, dsi))\n",
    "ds.info()    "
   ]
  },
  {
   "cell_type": "code",
   "execution_count": 25,
   "metadata": {},
   "outputs": [
    {
     "name": "stdout",
     "output_type": "stream",
     "text": [
      "/glade/scratch/abanihi/calcs/CESM-LE-20C-ocn-pop.h-b.e11.B20TRC5CNBDRD.f09_g16.002-SHF.zarr\n",
      "[[[         nan          nan          nan ...          nan          nan\n",
      "            nan]\n",
      "  [         nan          nan          nan ...          nan          nan\n",
      "            nan]\n",
      "  [  79.4123     123.52784    138.13007   ...          nan          nan\n",
      "            nan]\n",
      "  ...\n",
      "  [         nan          nan          nan ...          nan          nan\n",
      "            nan]\n",
      "  [         nan          nan          nan ...          nan          nan\n",
      "            nan]\n",
      "  [         nan          nan          nan ...          nan          nan\n",
      "            nan]]\n",
      "\n",
      " [[         nan          nan          nan ...          nan          nan\n",
      "            nan]\n",
      "  [         nan          nan          nan ...          nan          nan\n",
      "            nan]\n",
      "  [-194.75725   -179.18614   -159.89061   ...          nan          nan\n",
      "            nan]\n",
      "  ...\n",
      "  [         nan          nan          nan ...          nan          nan\n",
      "            nan]\n",
      "  [         nan          nan          nan ...          nan          nan\n",
      "            nan]\n",
      "  [         nan          nan          nan ...          nan          nan\n",
      "            nan]]\n",
      "\n",
      " [[         nan          nan          nan ...          nan          nan\n",
      "            nan]\n",
      "  [         nan          nan          nan ...          nan          nan\n",
      "            nan]\n",
      "  [ -60.422718  -112.16704    -65.65568   ...          nan          nan\n",
      "            nan]\n",
      "  ...\n",
      "  [         nan          nan          nan ...          nan          nan\n",
      "            nan]\n",
      "  [         nan          nan          nan ...          nan          nan\n",
      "            nan]\n",
      "  [         nan          nan          nan ...          nan          nan\n",
      "            nan]]\n",
      "\n",
      " ...\n",
      "\n",
      " [[         nan          nan          nan ...          nan          nan\n",
      "            nan]\n",
      "  [         nan          nan          nan ...          nan          nan\n",
      "            nan]\n",
      "  [  -8.263788   -28.643148    -4.953848  ...          nan          nan\n",
      "            nan]\n",
      "  ...\n",
      "  [         nan          nan          nan ...          nan          nan\n",
      "            nan]\n",
      "  [         nan          nan          nan ...          nan          nan\n",
      "            nan]\n",
      "  [         nan          nan          nan ...          nan          nan\n",
      "            nan]]\n",
      "\n",
      " [[         nan          nan          nan ...          nan          nan\n",
      "            nan]\n",
      "  [         nan          nan          nan ...          nan          nan\n",
      "            nan]\n",
      "  [  -3.9200351   -3.1503618   -0.7413604 ...          nan          nan\n",
      "            nan]\n",
      "  ...\n",
      "  [         nan          nan          nan ...          nan          nan\n",
      "            nan]\n",
      "  [         nan          nan          nan ...          nan          nan\n",
      "            nan]\n",
      "  [         nan          nan          nan ...          nan          nan\n",
      "            nan]]\n",
      "\n",
      " [[         nan          nan          nan ...          nan          nan\n",
      "            nan]\n",
      "  [         nan          nan          nan ...          nan          nan\n",
      "            nan]\n",
      "  [  -2.6555614   -2.6706913   -1.1103635 ...          nan          nan\n",
      "            nan]\n",
      "  ...\n",
      "  [         nan          nan          nan ...          nan          nan\n",
      "            nan]\n",
      "  [         nan          nan          nan ...          nan          nan\n",
      "            nan]\n",
      "  [         nan          nan          nan ...          nan          nan\n",
      "            nan]]]\n",
      "/glade/scratch/abanihi/calcs/CESM-LE-20C-ocn-pop.h-b.e11.B20TRC5CNBDRD.f09_g16.002-TEMP.zarr\n",
      "/glade/scratch/abanihi/calcs/CESM-LE-20C-ocn-pop.h-b.e11.B20TRC5CNBDRD.f09_g16.003-SHF.zarr\n",
      "[[[         nan          nan          nan ...          nan          nan\n",
      "            nan]\n",
      "  [         nan          nan          nan ...          nan          nan\n",
      "            nan]\n",
      "  [  63.97057    111.80398    127.71349   ...          nan          nan\n",
      "            nan]\n",
      "  ...\n",
      "  [         nan          nan          nan ...          nan          nan\n",
      "            nan]\n",
      "  [         nan          nan          nan ...          nan          nan\n",
      "            nan]\n",
      "  [         nan          nan          nan ...          nan          nan\n",
      "            nan]]\n",
      "\n",
      " [[         nan          nan          nan ...          nan          nan\n",
      "            nan]\n",
      "  [         nan          nan          nan ...          nan          nan\n",
      "            nan]\n",
      "  [ -93.46232    -65.23298    -47.06493   ...          nan          nan\n",
      "            nan]\n",
      "  ...\n",
      "  [         nan          nan          nan ...          nan          nan\n",
      "            nan]\n",
      "  [         nan          nan          nan ...          nan          nan\n",
      "            nan]\n",
      "  [         nan          nan          nan ...          nan          nan\n",
      "            nan]]\n",
      "\n",
      " [[         nan          nan          nan ...          nan          nan\n",
      "            nan]\n",
      "  [         nan          nan          nan ...          nan          nan\n",
      "            nan]\n",
      "  [-137.26569   -136.30829   -102.47466   ...          nan          nan\n",
      "            nan]\n",
      "  ...\n",
      "  [         nan          nan          nan ...          nan          nan\n",
      "            nan]\n",
      "  [         nan          nan          nan ...          nan          nan\n",
      "            nan]\n",
      "  [         nan          nan          nan ...          nan          nan\n",
      "            nan]]\n",
      "\n",
      " ...\n",
      "\n",
      " [[         nan          nan          nan ...          nan          nan\n",
      "            nan]\n",
      "  [         nan          nan          nan ...          nan          nan\n",
      "            nan]\n",
      "  [ -18.931896   -60.277897    -6.2938375 ...          nan          nan\n",
      "            nan]\n",
      "  ...\n",
      "  [         nan          nan          nan ...          nan          nan\n",
      "            nan]\n",
      "  [         nan          nan          nan ...          nan          nan\n",
      "            nan]\n",
      "  [         nan          nan          nan ...          nan          nan\n",
      "            nan]]\n",
      "\n",
      " [[         nan          nan          nan ...          nan          nan\n",
      "            nan]\n",
      "  [         nan          nan          nan ...          nan          nan\n",
      "            nan]\n",
      "  [  21.740105    26.098803    37.076706  ...          nan          nan\n",
      "            nan]\n",
      "  ...\n",
      "  [         nan          nan          nan ...          nan          nan\n",
      "            nan]\n",
      "  [         nan          nan          nan ...          nan          nan\n",
      "            nan]\n",
      "  [         nan          nan          nan ...          nan          nan\n",
      "            nan]]\n",
      "\n",
      " [[         nan          nan          nan ...          nan          nan\n",
      "            nan]\n",
      "  [         nan          nan          nan ...          nan          nan\n",
      "            nan]\n",
      "  [  85.57731    102.26469    108.56196   ...          nan          nan\n",
      "            nan]\n",
      "  ...\n",
      "  [         nan          nan          nan ...          nan          nan\n",
      "            nan]\n",
      "  [         nan          nan          nan ...          nan          nan\n",
      "            nan]\n",
      "  [         nan          nan          nan ...          nan          nan\n",
      "            nan]]]\n",
      "[[[         nan          nan          nan ...          nan          nan\n",
      "            nan]\n",
      "  [         nan          nan          nan ...          nan          nan\n",
      "            nan]\n",
      "  [  79.4123     123.52784    138.13007   ...          nan          nan\n",
      "            nan]\n",
      "  ...\n",
      "  [         nan          nan          nan ...          nan          nan\n",
      "            nan]\n",
      "  [         nan          nan          nan ...          nan          nan\n",
      "            nan]\n",
      "  [         nan          nan          nan ...          nan          nan\n",
      "            nan]]\n",
      "\n",
      " [[         nan          nan          nan ...          nan          nan\n",
      "            nan]\n",
      "  [         nan          nan          nan ...          nan          nan\n",
      "            nan]\n",
      "  [-194.75725   -179.18614   -159.89061   ...          nan          nan\n",
      "            nan]\n",
      "  ...\n",
      "  [         nan          nan          nan ...          nan          nan\n",
      "            nan]\n",
      "  [         nan          nan          nan ...          nan          nan\n",
      "            nan]\n",
      "  [         nan          nan          nan ...          nan          nan\n",
      "            nan]]\n",
      "\n",
      " [[         nan          nan          nan ...          nan          nan\n",
      "            nan]\n",
      "  [         nan          nan          nan ...          nan          nan\n",
      "            nan]\n",
      "  [ -60.422718  -112.16704    -65.65568   ...          nan          nan\n",
      "            nan]\n",
      "  ...\n",
      "  [         nan          nan          nan ...          nan          nan\n",
      "            nan]\n",
      "  [         nan          nan          nan ...          nan          nan\n",
      "            nan]\n",
      "  [         nan          nan          nan ...          nan          nan\n",
      "            nan]]\n",
      "\n",
      " ...\n",
      "\n",
      " [[         nan          nan          nan ...          nan          nan\n",
      "            nan]\n",
      "  [         nan          nan          nan ...          nan          nan\n",
      "            nan]\n",
      "  [  -8.263788   -28.643148    -4.953848  ...          nan          nan\n",
      "            nan]\n",
      "  ...\n",
      "  [         nan          nan          nan ...          nan          nan\n",
      "            nan]\n",
      "  [         nan          nan          nan ...          nan          nan\n",
      "            nan]\n",
      "  [         nan          nan          nan ...          nan          nan\n",
      "            nan]]\n",
      "\n",
      " [[         nan          nan          nan ...          nan          nan\n",
      "            nan]\n",
      "  [         nan          nan          nan ...          nan          nan\n",
      "            nan]\n",
      "  [  -3.9200351   -3.1503618   -0.7413604 ...          nan          nan\n",
      "            nan]\n",
      "  ...\n",
      "  [         nan          nan          nan ...          nan          nan\n",
      "            nan]\n",
      "  [         nan          nan          nan ...          nan          nan\n",
      "            nan]\n",
      "  [         nan          nan          nan ...          nan          nan\n",
      "            nan]]\n",
      "\n",
      " [[         nan          nan          nan ...          nan          nan\n",
      "            nan]\n",
      "  [         nan          nan          nan ...          nan          nan\n",
      "            nan]\n",
      "  [  -2.6555614   -2.6706913   -1.1103635 ...          nan          nan\n",
      "            nan]\n",
      "  ...\n",
      "  [         nan          nan          nan ...          nan          nan\n",
      "            nan]\n",
      "  [         nan          nan          nan ...          nan          nan\n",
      "            nan]\n",
      "  [         nan          nan          nan ...          nan          nan\n",
      "            nan]]]\n"
     ]
    },
    {
     "ename": "MergeError",
     "evalue": "conflicting values for variable 'SHF' on objects to be combined:\nfirst value: <xarray.Variable (time: 36, nlat: 384, nlon: 320)>\ndask.array<shape=(36, 384, 320), dtype=float32, chunksize=(12, 384, 320)>\nAttributes:\n    cell_methods:  time: mean\n    grid_loc:      2110\n    long_name:     Total Surface Heat Flux, Including SW\n    units:         watt/m^2\nsecond value: <xarray.Variable (time: 36, nlat: 384, nlon: 320)>\ndask.array<shape=(36, 384, 320), dtype=float32, chunksize=(12, 384, 320)>\nAttributes:\n    cell_methods:  time: mean\n    grid_loc:      2110\n    long_name:     Total Surface Heat Flux, Including SW\n    units:         watt/m^2",
     "output_type": "error",
     "traceback": [
      "\u001b[0;31m---------------------------------------------------------------------------\u001b[0m",
      "\u001b[0;31mMergeError\u001b[0m                                Traceback (most recent call last)",
      "\u001b[0;32m<ipython-input-25-191d9411d68d>\u001b[0m in \u001b[0;36m<module>\u001b[0;34m\u001b[0m\n\u001b[1;32m     11\u001b[0m             \u001b[0;32mpass\u001b[0m\u001b[0;34m\u001b[0m\u001b[0;34m\u001b[0m\u001b[0m\n\u001b[1;32m     12\u001b[0m         \u001b[0md\u001b[0m\u001b[0;34m.\u001b[0m\u001b[0mappend\u001b[0m\u001b[0;34m(\u001b[0m\u001b[0mdsi\u001b[0m\u001b[0;34m)\u001b[0m\u001b[0;34m\u001b[0m\u001b[0;34m\u001b[0m\u001b[0m\n\u001b[0;32m---> 13\u001b[0;31m         \u001b[0mds\u001b[0m \u001b[0;34m=\u001b[0m \u001b[0mxr\u001b[0m\u001b[0;34m.\u001b[0m\u001b[0mmerge\u001b[0m\u001b[0;34m(\u001b[0m\u001b[0;34m(\u001b[0m\u001b[0mds\u001b[0m\u001b[0;34m,\u001b[0m \u001b[0mdsi\u001b[0m\u001b[0;34m)\u001b[0m\u001b[0;34m)\u001b[0m\u001b[0;34m\u001b[0m\u001b[0;34m\u001b[0m\u001b[0m\n\u001b[0m\u001b[1;32m     14\u001b[0m \u001b[0mds\u001b[0m\u001b[0;34m.\u001b[0m\u001b[0minfo\u001b[0m\u001b[0;34m(\u001b[0m\u001b[0;34m)\u001b[0m\u001b[0;34m\u001b[0m\u001b[0;34m\u001b[0m\u001b[0m\n",
      "\u001b[0;32m/glade/work/abanihi/softwares/miniconda3/envs/analysis/lib/python3.7/site-packages/xarray/core/merge.py\u001b[0m in \u001b[0;36mmerge\u001b[0;34m(objects, compat, join)\u001b[0m\n\u001b[1;32m    530\u001b[0m         for obj in objects]\n\u001b[1;32m    531\u001b[0m \u001b[0;34m\u001b[0m\u001b[0m\n\u001b[0;32m--> 532\u001b[0;31m     \u001b[0mvariables\u001b[0m\u001b[0;34m,\u001b[0m \u001b[0mcoord_names\u001b[0m\u001b[0;34m,\u001b[0m \u001b[0mdims\u001b[0m \u001b[0;34m=\u001b[0m \u001b[0mmerge_core\u001b[0m\u001b[0;34m(\u001b[0m\u001b[0mdict_like_objects\u001b[0m\u001b[0;34m,\u001b[0m \u001b[0mcompat\u001b[0m\u001b[0;34m,\u001b[0m \u001b[0mjoin\u001b[0m\u001b[0;34m)\u001b[0m\u001b[0;34m\u001b[0m\u001b[0;34m\u001b[0m\u001b[0m\n\u001b[0m\u001b[1;32m    533\u001b[0m     \u001b[0;31m# TODO: don't always recompute indexes\u001b[0m\u001b[0;34m\u001b[0m\u001b[0;34m\u001b[0m\u001b[0;34m\u001b[0m\u001b[0m\n\u001b[1;32m    534\u001b[0m     merged = Dataset._construct_direct(\n",
      "\u001b[0;32m/glade/work/abanihi/softwares/miniconda3/envs/analysis/lib/python3.7/site-packages/xarray/core/merge.py\u001b[0m in \u001b[0;36mmerge_core\u001b[0;34m(objs, compat, join, priority_arg, explicit_coords, indexes)\u001b[0m\n\u001b[1;32m    449\u001b[0m \u001b[0;34m\u001b[0m\u001b[0m\n\u001b[1;32m    450\u001b[0m     \u001b[0mpriority_vars\u001b[0m \u001b[0;34m=\u001b[0m \u001b[0m_get_priority_vars\u001b[0m\u001b[0;34m(\u001b[0m\u001b[0maligned\u001b[0m\u001b[0;34m,\u001b[0m \u001b[0mpriority_arg\u001b[0m\u001b[0;34m,\u001b[0m \u001b[0mcompat\u001b[0m\u001b[0;34m=\u001b[0m\u001b[0mcompat\u001b[0m\u001b[0;34m)\u001b[0m\u001b[0;34m\u001b[0m\u001b[0;34m\u001b[0m\u001b[0m\n\u001b[0;32m--> 451\u001b[0;31m     \u001b[0mvariables\u001b[0m \u001b[0;34m=\u001b[0m \u001b[0mmerge_variables\u001b[0m\u001b[0;34m(\u001b[0m\u001b[0mexpanded\u001b[0m\u001b[0;34m,\u001b[0m \u001b[0mpriority_vars\u001b[0m\u001b[0;34m,\u001b[0m \u001b[0mcompat\u001b[0m\u001b[0;34m=\u001b[0m\u001b[0mcompat\u001b[0m\u001b[0;34m)\u001b[0m\u001b[0;34m\u001b[0m\u001b[0;34m\u001b[0m\u001b[0m\n\u001b[0m\u001b[1;32m    452\u001b[0m     \u001b[0massert_unique_multiindex_level_names\u001b[0m\u001b[0;34m(\u001b[0m\u001b[0mvariables\u001b[0m\u001b[0;34m)\u001b[0m\u001b[0;34m\u001b[0m\u001b[0;34m\u001b[0m\u001b[0m\n\u001b[1;32m    453\u001b[0m \u001b[0;34m\u001b[0m\u001b[0m\n",
      "\u001b[0;32m/glade/work/abanihi/softwares/miniconda3/envs/analysis/lib/python3.7/site-packages/xarray/core/merge.py\u001b[0m in \u001b[0;36mmerge_variables\u001b[0;34m(list_of_variables_dicts, priority_vars, compat)\u001b[0m\n\u001b[1;32m    168\u001b[0m             \u001b[0;32melse\u001b[0m\u001b[0;34m:\u001b[0m\u001b[0;34m\u001b[0m\u001b[0;34m\u001b[0m\u001b[0m\n\u001b[1;32m    169\u001b[0m                 \u001b[0;32mtry\u001b[0m\u001b[0;34m:\u001b[0m\u001b[0;34m\u001b[0m\u001b[0;34m\u001b[0m\u001b[0m\n\u001b[0;32m--> 170\u001b[0;31m                     \u001b[0mmerged\u001b[0m\u001b[0;34m[\u001b[0m\u001b[0mname\u001b[0m\u001b[0;34m]\u001b[0m \u001b[0;34m=\u001b[0m \u001b[0munique_variable\u001b[0m\u001b[0;34m(\u001b[0m\u001b[0mname\u001b[0m\u001b[0;34m,\u001b[0m \u001b[0mvar_list\u001b[0m\u001b[0;34m,\u001b[0m \u001b[0mcompat\u001b[0m\u001b[0;34m)\u001b[0m\u001b[0;34m\u001b[0m\u001b[0;34m\u001b[0m\u001b[0m\n\u001b[0m\u001b[1;32m    171\u001b[0m                 \u001b[0;32mexcept\u001b[0m \u001b[0mMergeError\u001b[0m\u001b[0;34m:\u001b[0m\u001b[0;34m\u001b[0m\u001b[0;34m\u001b[0m\u001b[0m\n\u001b[1;32m    172\u001b[0m                     \u001b[0;32mif\u001b[0m \u001b[0mcompat\u001b[0m \u001b[0;34m!=\u001b[0m \u001b[0;34m'minimal'\u001b[0m\u001b[0;34m:\u001b[0m\u001b[0;34m\u001b[0m\u001b[0;34m\u001b[0m\u001b[0m\n",
      "\u001b[0;32m/glade/work/abanihi/softwares/miniconda3/envs/analysis/lib/python3.7/site-packages/xarray/core/merge.py\u001b[0m in \u001b[0;36munique_variable\u001b[0;34m(name, variables, compat)\u001b[0m\n\u001b[1;32m     88\u001b[0m                                  \u001b[0;34m'objects to be combined:\\n'\u001b[0m\u001b[0;34m\u001b[0m\u001b[0;34m\u001b[0m\u001b[0m\n\u001b[1;32m     89\u001b[0m                                  \u001b[0;34m'first value: %r\\nsecond value: %r'\u001b[0m\u001b[0;34m\u001b[0m\u001b[0;34m\u001b[0m\u001b[0m\n\u001b[0;32m---> 90\u001b[0;31m                                  % (name, out, var))\n\u001b[0m\u001b[1;32m     91\u001b[0m             \u001b[0;32mif\u001b[0m \u001b[0mcombine_method\u001b[0m\u001b[0;34m:\u001b[0m\u001b[0;34m\u001b[0m\u001b[0;34m\u001b[0m\u001b[0m\n\u001b[1;32m     92\u001b[0m                 \u001b[0;31m# TODO: add preservation of attrs into fillna\u001b[0m\u001b[0;34m\u001b[0m\u001b[0;34m\u001b[0m\u001b[0;34m\u001b[0m\u001b[0m\n",
      "\u001b[0;31mMergeError\u001b[0m: conflicting values for variable 'SHF' on objects to be combined:\nfirst value: <xarray.Variable (time: 36, nlat: 384, nlon: 320)>\ndask.array<shape=(36, 384, 320), dtype=float32, chunksize=(12, 384, 320)>\nAttributes:\n    cell_methods:  time: mean\n    grid_loc:      2110\n    long_name:     Total Surface Heat Flux, Including SW\n    units:         watt/m^2\nsecond value: <xarray.Variable (time: 36, nlat: 384, nlon: 320)>\ndask.array<shape=(36, 384, 320), dtype=float32, chunksize=(12, 384, 320)>\nAttributes:\n    cell_methods:  time: mean\n    grid_loc:      2110\n    long_name:     Total Surface Heat Flux, Including SW\n    units:         watt/m^2"
     ]
    }
   ],
   "source": [
    "ds = xr.Dataset()\n",
    "d = []\n",
    "    for var in ['SHF', 'TEMP']:\n",
    "        dsi = xr.open_zarr(zarr_file('20C', 'ocn', 'pop.h', case, var), decode_times=False)\n",
    "        \n",
    "        try:\n",
    "            print(dsi.SHF.data.compute())\n",
    "            print(ds.SHF.data.compute())\n",
    "        except:\n",
    "            pass\n",
    "        d.append(dsi)\n",
    "        ds = xr.merge((ds, dsi))\n",
    "ds.info()                       "
   ]
  },
  {
   "cell_type": "code",
   "execution_count": 25,
   "metadata": {},
   "outputs": [
    {
     "data": {
      "text/plain": [
       "<xarray.Dataset>\n",
       "Dimensions:               (d2: 2, lat_aux_grid: 395, member_id: 40, moc_comp: 3, moc_z: 61, nlat: 384, nlon: 320, time: 36, transport_comp: 5, transport_reg: 2, z_t: 60, z_t_150m: 15, z_w: 60, z_w_bot: 60, z_w_top: 60)\n",
       "Coordinates:\n",
       "  * member_id             (member_id) int64 1 2 3 4 5 6 ... 101 102 103 104 105\n",
       "  * lat_aux_grid          (lat_aux_grid) float32 -79.48815 -78.952896 ... 90.0\n",
       "  * moc_z                 (moc_z) float32 0.0 1000.0 ... 525000.94 549999.06\n",
       "  * time                  (time) float64 6.753e+05 6.753e+05 ... 6.763e+05\n",
       "  * z_t                   (z_t) float32 500.0 1500.0 ... 512502.8 537500.0\n",
       "  * z_t_150m              (z_t_150m) float32 500.0 1500.0 ... 13500.0 14500.0\n",
       "  * z_w                   (z_w) float32 0.0 1000.0 2000.0 ... 500004.7 525000.94\n",
       "  * z_w_bot               (z_w_bot) float32 1000.0 2000.0 ... 549999.06\n",
       "  * z_w_top               (z_w_top) float32 0.0 1000.0 ... 500004.7 525000.94\n",
       "Dimensions without coordinates: d2, moc_comp, nlat, nlon, transport_comp, transport_reg\n",
       "Data variables:\n",
       "    ANGLE                 (member_id, nlat, nlon) float64 dask.array<shape=(40, 384, 320), chunksize=(1, 384, 320)>\n",
       "    ANGLET                (member_id, nlat, nlon) float64 dask.array<shape=(40, 384, 320), chunksize=(1, 384, 320)>\n",
       "    DXT                   (member_id, nlat, nlon) float64 dask.array<shape=(40, 384, 320), chunksize=(1, 384, 320)>\n",
       "    DXU                   (member_id, nlat, nlon) float64 dask.array<shape=(40, 384, 320), chunksize=(1, 384, 320)>\n",
       "    DYT                   (member_id, nlat, nlon) float64 dask.array<shape=(40, 384, 320), chunksize=(1, 384, 320)>\n",
       "    DYU                   (member_id, nlat, nlon) float64 dask.array<shape=(40, 384, 320), chunksize=(1, 384, 320)>\n",
       "    HT                    (member_id, nlat, nlon) float64 dask.array<shape=(40, 384, 320), chunksize=(1, 384, 320)>\n",
       "    HTE                   (member_id, nlat, nlon) float64 dask.array<shape=(40, 384, 320), chunksize=(1, 384, 320)>\n",
       "    HTN                   (member_id, nlat, nlon) float64 dask.array<shape=(40, 384, 320), chunksize=(1, 384, 320)>\n",
       "    HU                    (member_id, nlat, nlon) float64 dask.array<shape=(40, 384, 320), chunksize=(1, 384, 320)>\n",
       "    HUS                   (member_id, nlat, nlon) float64 dask.array<shape=(40, 384, 320), chunksize=(1, 384, 320)>\n",
       "    HUW                   (member_id, nlat, nlon) float64 dask.array<shape=(40, 384, 320), chunksize=(1, 384, 320)>\n",
       "    KMT                   (member_id, nlat, nlon) float64 dask.array<shape=(40, 384, 320), chunksize=(1, 384, 320)>\n",
       "    KMU                   (member_id, nlat, nlon) float64 dask.array<shape=(40, 384, 320), chunksize=(1, 384, 320)>\n",
       "    REGION_MASK           (member_id, nlat, nlon) float64 dask.array<shape=(40, 384, 320), chunksize=(1, 384, 320)>\n",
       "    SHF                   (member_id, time, nlat, nlon) float32 dask.array<shape=(40, 36, 384, 320), chunksize=(1, 12, 384, 320)>\n",
       "    T0_Kelvin             (member_id) float64 dask.array<shape=(40,), chunksize=(40,)>\n",
       "    TAREA                 (member_id, nlat, nlon) float64 dask.array<shape=(40, 384, 320), chunksize=(1, 384, 320)>\n",
       "    TLAT                  (member_id, nlat, nlon) float64 dask.array<shape=(40, 384, 320), chunksize=(1, 384, 320)>\n",
       "    TLONG                 (member_id, nlat, nlon) float64 dask.array<shape=(40, 384, 320), chunksize=(1, 384, 320)>\n",
       "    UAREA                 (member_id, nlat, nlon) float64 dask.array<shape=(40, 384, 320), chunksize=(1, 384, 320)>\n",
       "    ULAT                  (member_id, nlat, nlon) float64 dask.array<shape=(40, 384, 320), chunksize=(1, 384, 320)>\n",
       "    ULONG                 (member_id, nlat, nlon) float64 dask.array<shape=(40, 384, 320), chunksize=(1, 384, 320)>\n",
       "    cp_air                (member_id) float64 dask.array<shape=(40,), chunksize=(40,)>\n",
       "    cp_sw                 (member_id) float64 dask.array<shape=(40,), chunksize=(40,)>\n",
       "    days_in_norm_year     (member_id) float64 dask.array<shape=(40,), chunksize=(40,)>\n",
       "    dz                    (member_id, z_t) float32 dask.array<shape=(40, 60), chunksize=(1, 10)>\n",
       "    dzw                   (member_id, z_w) float32 dask.array<shape=(40, 60), chunksize=(1, 60)>\n",
       "    fwflux_factor         (member_id) float64 dask.array<shape=(40,), chunksize=(40,)>\n",
       "    grav                  (member_id) float64 dask.array<shape=(40,), chunksize=(40,)>\n",
       "    heat_to_PW            (member_id) float64 dask.array<shape=(40,), chunksize=(40,)>\n",
       "    hflux_factor          (member_id) float64 dask.array<shape=(40,), chunksize=(40,)>\n",
       "    latent_heat_fusion    (member_id) float64 dask.array<shape=(40,), chunksize=(40,)>\n",
       "    latent_heat_vapor     (member_id) float64 dask.array<shape=(40,), chunksize=(40,)>\n",
       "    mass_to_Sv            (member_id) float64 dask.array<shape=(40,), chunksize=(40,)>\n",
       "    moc_components        (member_id, moc_comp) object dask.array<shape=(40, 3), chunksize=(1, 3)>\n",
       "    momentum_factor       (member_id) float64 dask.array<shape=(40,), chunksize=(40,)>\n",
       "    nsurface_t            (member_id) float64 dask.array<shape=(40,), chunksize=(40,)>\n",
       "    nsurface_u            (member_id) float64 dask.array<shape=(40,), chunksize=(40,)>\n",
       "    ocn_ref_salinity      (member_id) float64 dask.array<shape=(40,), chunksize=(40,)>\n",
       "    omega                 (member_id) float64 dask.array<shape=(40,), chunksize=(40,)>\n",
       "    ppt_to_salt           (member_id) float64 dask.array<shape=(40,), chunksize=(40,)>\n",
       "    radius                (member_id) float64 dask.array<shape=(40,), chunksize=(40,)>\n",
       "    rho_air               (member_id) float64 dask.array<shape=(40,), chunksize=(40,)>\n",
       "    rho_fw                (member_id) float64 dask.array<shape=(40,), chunksize=(40,)>\n",
       "    rho_sw                (member_id) float64 dask.array<shape=(40,), chunksize=(40,)>\n",
       "    salinity_factor       (member_id) float64 dask.array<shape=(40,), chunksize=(40,)>\n",
       "    salt_to_Svppt         (member_id) float64 dask.array<shape=(40,), chunksize=(40,)>\n",
       "    salt_to_mmday         (member_id) float64 dask.array<shape=(40,), chunksize=(40,)>\n",
       "    salt_to_ppt           (member_id) float64 dask.array<shape=(40,), chunksize=(40,)>\n",
       "    sea_ice_salinity      (member_id) float64 dask.array<shape=(40,), chunksize=(40,)>\n",
       "    sflux_factor          (member_id) float64 dask.array<shape=(40,), chunksize=(40,)>\n",
       "    sound                 (member_id) float64 dask.array<shape=(40,), chunksize=(40,)>\n",
       "    stefan_boltzmann      (member_id) float64 dask.array<shape=(40,), chunksize=(40,)>\n",
       "    time_bound            (member_id, time, d2) float64 dask.array<shape=(40, 36, 2), chunksize=(1, 12, 2)>\n",
       "    transport_components  (member_id, transport_comp) object dask.array<shape=(40, 5), chunksize=(1, 5)>\n",
       "    transport_regions     (member_id, transport_reg) object dask.array<shape=(40, 2), chunksize=(1, 2)>\n",
       "    vonkar                (member_id) float64 dask.array<shape=(40,), chunksize=(40,)>\n",
       "    TEMP                  (member_id, time, z_t, nlat, nlon) float32 dask.array<shape=(40, 36, 60, 384, 320), chunksize=(1, 12, 10, 384, 320)>\n",
       "    O2                    (member_id, time, z_t, nlat, nlon) float32 dask.array<shape=(40, 36, 60, 384, 320), chunksize=(1, 12, 10, 384, 320)>"
      ]
     },
     "execution_count": 25,
     "metadata": {},
     "output_type": "execute_result"
    }
   ],
   "source": [
    "ds"
   ]
  },
  {
   "cell_type": "code",
   "execution_count": 21,
   "metadata": {},
   "outputs": [
    {
     "data": {
      "text/plain": [
       "<matplotlib.collections.QuadMesh at 0x2b7fe05fa208>"
      ]
     },
     "execution_count": 21,
     "metadata": {},
     "output_type": "execute_result"
    },
    {
     "data": {
      "image/png": "[encoded data removed]",
      "text/plain": [
       "<Figure size 432x288 with 2 Axes>"
      ]
     },
     "metadata": {
      "needs_background": "light"
     },
     "output_type": "display_data"
    }
   ],
   "source": [
    "ds.TEMP.isel(z_t=0, time=0).mean('member_id').plot(vmin=-2, vmax=30)"
   ]
  },
  {
   "cell_type": "code",
   "execution_count": 24,
   "metadata": {},
   "outputs": [
    {
     "data": {
      "text/plain": [
       "<matplotlib.collections.QuadMesh at 0x2b7fe1518ba8>"
      ]
     },
     "execution_count": 24,
     "metadata": {},
     "output_type": "execute_result"
    },
    {
     "data": {
      "image/png": "[encoded data removed]",
      "text/plain": [
       "<Figure size 432x288 with 2 Axes>"
      ]
     },
     "metadata": {
      "needs_background": "light"
     },
     "output_type": "display_data"
    }
   ],
   "source": [
    "ds.O2.isel(z_t=0, time=0).mean('member_id').plot()"
   ]
  },
  {
   "cell_type": "code",
   "execution_count": 22,
   "metadata": {},
   "outputs": [
    {
     "data": {
      "text/plain": [
       "<matplotlib.collections.QuadMesh at 0x2b7fd8a28400>"
      ]
     },
     "execution_count": 22,
     "metadata": {},
     "output_type": "execute_result"
    },
    {
     "data": {
      "image/png": "[encoded data removed]",
      "text/plain": [
       "<Figure size 432x288 with 2 Axes>"
      ]
     },
     "metadata": {
      "needs_background": "light"
     },
     "output_type": "display_data"
    }
   ],
   "source": [
    "ds.SHF.isel(member_id=0, nlat=slice(150, 250), nlon=slice(150, 250)).mean('nlon').plot()"
   ]
  },
  {
   "cell_type": "code",
   "execution_count": null,
   "metadata": {},
   "outputs": [],
   "source": []
  }
 ],
 "metadata": {
  "kernelspec": {
   "display_name": "Python 3",
   "language": "python",
   "name": "python3"
  },
  "language_info": {
   "codemirror_mode": {
    "name": "ipython",
    "version": 3
   },
   "file_extension": ".py",
   "mimetype": "text/x-python",
   "name": "python",
   "nbconvert_exporter": "python",
   "pygments_lexer": "ipython3",
   "version": "3.7.3"
  }
 },
 "nbformat": 4,
 "nbformat_minor": 2
}
