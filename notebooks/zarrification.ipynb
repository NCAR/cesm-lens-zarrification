{
 "cells": [
  {
   "cell_type": "markdown",
   "metadata": {},
   "source": [
    "# zarr-ification of CESM-LE for AWS"
   ]
  },
  {
   "cell_type": "code",
   "execution_count": 1,
   "metadata": {},
   "outputs": [],
   "source": [
    "import warnings\n",
    "warnings.filterwarnings(\"ignore\")\n",
    "import os\n",
    "import shutil\n",
    "\n",
    "import yaml\n",
    "\n",
    "import xarray as xr\n",
    "\n",
    "import intake\n",
    "from distributed.utils import format_bytes\n",
    "from operator import mul\n",
    "from functools import reduce"
   ]
  },
  {
   "cell_type": "markdown",
   "metadata": {},
   "source": [
    "## Spinup cluster"
   ]
  },
  {
   "cell_type": "code",
   "execution_count": 2,
   "metadata": {},
   "outputs": [
    {
     "data": {
      "application/vnd.jupyter.widget-view+json": {
       "model_id": "66710c0f05b34beb90165c15a091094d",
       "version_major": 2,
       "version_minor": 0
      },
      "text/plain": [
       "VBox(children=(HTML(value='<h2>NCARCluster</h2>'), HBox(children=(HTML(value='\\n<div>\\n  <style scoped>\\n    .…"
      ]
     },
     "metadata": {},
     "output_type": "display_data"
    }
   ],
   "source": [
    "from ncar_jobqueue import NCARCluster\n",
    "cluster = NCARCluster(memory=\"70GB\")\n",
    "cluster"
   ]
  },
  {
   "cell_type": "code",
   "execution_count": 3,
   "metadata": {},
   "outputs": [
    {
     "name": "stdout",
     "output_type": "stream",
     "text": [
      "#!/bin/bash\n",
      "\n",
      "#!/usr/bin/env bash\n",
      "#SBATCH -J dask-worker\n",
      "#SBATCH -A NIOW0001\n",
      "#SBATCH -n 1\n",
      "#SBATCH --cpus-per-task=1\n",
      "#SBATCH --mem=66G\n",
      "#SBATCH -t 06:00:00\n",
      "#SBATCH -C skylake\n",
      "#SBATCH -C casper\n",
      "JOB_ID=${SLURM_JOB_ID%;*}\n",
      "\n",
      "\n",
      "\n",
      "/glade/work/abanihi/softwares/miniconda3/envs/analysis/bin/python -m distributed.cli.dask_worker tcp://10.12.203.5:37449 --nthreads 1 --memory-limit 70.00GB --name dask-worker--${JOB_ID}-- --death-timeout 60 --interface ib0\n",
      "\n"
     ]
    }
   ],
   "source": [
    "print(cluster.job_script())"
   ]
  },
  {
   "cell_type": "code",
   "execution_count": 4,
   "metadata": {},
   "outputs": [
    {
     "data": {
      "text/plain": [
       "<distributed.deploy.adaptive.Adaptive at 0x2b80157bdbe0>"
      ]
     },
     "execution_count": 4,
     "metadata": {},
     "output_type": "execute_result"
    }
   ],
   "source": [
    "cluster.adapt(minimum=15, maximum=30, wait_count=60)"
   ]
  },
  {
   "cell_type": "code",
   "execution_count": 5,
   "metadata": {},
   "outputs": [
    {
     "data": {
      "text/html": [
       "<table style=\"border: 2px solid white;\">\n",
       "<tr>\n",
       "<td style=\"vertical-align: top; border: 0px solid white\">\n",
       "<h3>Client</h3>\n",
       "<ul>\n",
       "  <li><b>Scheduler: </b>tcp://10.12.203.5:37449\n",
       "  <li><b>Dashboard: </b><a href='https://jupyterhub.ucar.edu/ch/user/abanihi/proxy/8787/status' target='_blank'>https://jupyterhub.ucar.edu/ch/user/abanihi/proxy/8787/status</a>\n",
       "</ul>\n",
       "</td>\n",
       "<td style=\"vertical-align: top; border: 0px solid white\">\n",
       "<h3>Cluster</h3>\n",
       "<ul>\n",
       "  <li><b>Workers: </b>26</li>\n",
       "  <li><b>Cores: </b>26</li>\n",
       "  <li><b>Memory: </b>1.82 TB</li>\n",
       "</ul>\n",
       "</td>\n",
       "</tr>\n",
       "</table>"
      ],
      "text/plain": [
       "<Client: scheduler='tcp://10.12.203.5:37449' processes=26 cores=26>"
      ]
     },
     "execution_count": 5,
     "metadata": {},
     "output_type": "execute_result"
    }
   ],
   "source": [
    "from dask.distributed import Client\n",
    "client = Client(cluster) # Connect this local process to remote workers\n",
    "client"
   ]
  },
  {
   "cell_type": "markdown",
   "metadata": {},
   "source": [
    "## Connect to intake-esm database"
   ]
  },
  {
   "cell_type": "code",
   "execution_count": 6,
   "metadata": {},
   "outputs": [
    {
     "data": {
      "text/html": [
       "<div>\n",
       "<style scoped>\n",
       "    .dataframe tbody tr th:only-of-type {\n",
       "        vertical-align: middle;\n",
       "    }\n",
       "\n",
       "    .dataframe tbody tr th {\n",
       "        vertical-align: top;\n",
       "    }\n",
       "\n",
       "    .dataframe thead th {\n",
       "        text-align: right;\n",
       "    }\n",
       "</style>\n",
       "<table border=\"1\" class=\"dataframe\">\n",
       "  <thead>\n",
       "    <tr style=\"text-align: right;\">\n",
       "      <th></th>\n",
       "      <th>resource</th>\n",
       "      <th>resource_type</th>\n",
       "      <th>direct_access</th>\n",
       "      <th>experiment</th>\n",
       "      <th>case</th>\n",
       "      <th>component</th>\n",
       "      <th>stream</th>\n",
       "      <th>variable</th>\n",
       "      <th>date_range</th>\n",
       "      <th>member_id</th>\n",
       "      <th>file_fullpath</th>\n",
       "      <th>file_basename</th>\n",
       "      <th>file_dirname</th>\n",
       "      <th>ctrl_branch_year</th>\n",
       "      <th>year_offset</th>\n",
       "      <th>sequence_order</th>\n",
       "      <th>has_ocean_bgc</th>\n",
       "      <th>grid</th>\n",
       "    </tr>\n",
       "  </thead>\n",
       "  <tbody>\n",
       "    <tr>\n",
       "      <th>0</th>\n",
       "      <td>CTRL:GLADE:posix:/glade/collections/cdg/data/c...</td>\n",
       "      <td>posix</td>\n",
       "      <td>True</td>\n",
       "      <td>CTRL</td>\n",
       "      <td>b.e11.B1850C5CN.f09_g16.005</td>\n",
       "      <td>atm</td>\n",
       "      <td>cam.h1</td>\n",
       "      <td>T200</td>\n",
       "      <td>18000101-18991231</td>\n",
       "      <td>0</td>\n",
       "      <td>/glade/collections/cdg/data/cesmLE/CESM-CAM5-B...</td>\n",
       "      <td>b.e11.B1850C5CN.f09_g16.005.cam.h1.T200.180001...</td>\n",
       "      <td>/glade/collections/cdg/data/cesmLE/CESM-CAM5-B...</td>\n",
       "      <td>NaN</td>\n",
       "      <td>1448.0</td>\n",
       "      <td>0</td>\n",
       "      <td>True</td>\n",
       "      <td>NaN</td>\n",
       "    </tr>\n",
       "    <tr>\n",
       "      <th>1</th>\n",
       "      <td>CTRL:GLADE:posix:/glade/collections/cdg/data/c...</td>\n",
       "      <td>posix</td>\n",
       "      <td>True</td>\n",
       "      <td>CTRL</td>\n",
       "      <td>b.e11.B1850C5CN.f09_g16.005</td>\n",
       "      <td>atm</td>\n",
       "      <td>cam.h1</td>\n",
       "      <td>T200</td>\n",
       "      <td>08000101-08991231</td>\n",
       "      <td>0</td>\n",
       "      <td>/glade/collections/cdg/data/cesmLE/CESM-CAM5-B...</td>\n",
       "      <td>b.e11.B1850C5CN.f09_g16.005.cam.h1.T200.080001...</td>\n",
       "      <td>/glade/collections/cdg/data/cesmLE/CESM-CAM5-B...</td>\n",
       "      <td>NaN</td>\n",
       "      <td>1448.0</td>\n",
       "      <td>0</td>\n",
       "      <td>True</td>\n",
       "      <td>NaN</td>\n",
       "    </tr>\n",
       "    <tr>\n",
       "      <th>2</th>\n",
       "      <td>CTRL:GLADE:posix:/glade/collections/cdg/data/c...</td>\n",
       "      <td>posix</td>\n",
       "      <td>True</td>\n",
       "      <td>CTRL</td>\n",
       "      <td>b.e11.B1850C5CN.f09_g16.005</td>\n",
       "      <td>atm</td>\n",
       "      <td>cam.h1</td>\n",
       "      <td>T200</td>\n",
       "      <td>04020101-04991231</td>\n",
       "      <td>0</td>\n",
       "      <td>/glade/collections/cdg/data/cesmLE/CESM-CAM5-B...</td>\n",
       "      <td>b.e11.B1850C5CN.f09_g16.005.cam.h1.T200.040201...</td>\n",
       "      <td>/glade/collections/cdg/data/cesmLE/CESM-CAM5-B...</td>\n",
       "      <td>NaN</td>\n",
       "      <td>1448.0</td>\n",
       "      <td>0</td>\n",
       "      <td>True</td>\n",
       "      <td>NaN</td>\n",
       "    </tr>\n",
       "    <tr>\n",
       "      <th>3</th>\n",
       "      <td>CTRL:GLADE:posix:/glade/collections/cdg/data/c...</td>\n",
       "      <td>posix</td>\n",
       "      <td>True</td>\n",
       "      <td>CTRL</td>\n",
       "      <td>b.e11.B1850C5CN.f09_g16.005</td>\n",
       "      <td>atm</td>\n",
       "      <td>cam.h1</td>\n",
       "      <td>T200</td>\n",
       "      <td>10000101-10991231</td>\n",
       "      <td>0</td>\n",
       "      <td>/glade/collections/cdg/data/cesmLE/CESM-CAM5-B...</td>\n",
       "      <td>b.e11.B1850C5CN.f09_g16.005.cam.h1.T200.100001...</td>\n",
       "      <td>/glade/collections/cdg/data/cesmLE/CESM-CAM5-B...</td>\n",
       "      <td>NaN</td>\n",
       "      <td>1448.0</td>\n",
       "      <td>0</td>\n",
       "      <td>True</td>\n",
       "      <td>NaN</td>\n",
       "    </tr>\n",
       "    <tr>\n",
       "      <th>4</th>\n",
       "      <td>CTRL:GLADE:posix:/glade/collections/cdg/data/c...</td>\n",
       "      <td>posix</td>\n",
       "      <td>True</td>\n",
       "      <td>CTRL</td>\n",
       "      <td>b.e11.B1850C5CN.f09_g16.005</td>\n",
       "      <td>atm</td>\n",
       "      <td>cam.h1</td>\n",
       "      <td>T200</td>\n",
       "      <td>11000101-11991231</td>\n",
       "      <td>0</td>\n",
       "      <td>/glade/collections/cdg/data/cesmLE/CESM-CAM5-B...</td>\n",
       "      <td>b.e11.B1850C5CN.f09_g16.005.cam.h1.T200.110001...</td>\n",
       "      <td>/glade/collections/cdg/data/cesmLE/CESM-CAM5-B...</td>\n",
       "      <td>NaN</td>\n",
       "      <td>1448.0</td>\n",
       "      <td>0</td>\n",
       "      <td>True</td>\n",
       "      <td>NaN</td>\n",
       "    </tr>\n",
       "  </tbody>\n",
       "</table>\n",
       "</div>"
      ],
      "text/plain": [
       "                                            resource resource_type  \\\n",
       "0  CTRL:GLADE:posix:/glade/collections/cdg/data/c...         posix   \n",
       "1  CTRL:GLADE:posix:/glade/collections/cdg/data/c...         posix   \n",
       "2  CTRL:GLADE:posix:/glade/collections/cdg/data/c...         posix   \n",
       "3  CTRL:GLADE:posix:/glade/collections/cdg/data/c...         posix   \n",
       "4  CTRL:GLADE:posix:/glade/collections/cdg/data/c...         posix   \n",
       "\n",
       "   direct_access experiment                         case component  stream  \\\n",
       "0           True       CTRL  b.e11.B1850C5CN.f09_g16.005       atm  cam.h1   \n",
       "1           True       CTRL  b.e11.B1850C5CN.f09_g16.005       atm  cam.h1   \n",
       "2           True       CTRL  b.e11.B1850C5CN.f09_g16.005       atm  cam.h1   \n",
       "3           True       CTRL  b.e11.B1850C5CN.f09_g16.005       atm  cam.h1   \n",
       "4           True       CTRL  b.e11.B1850C5CN.f09_g16.005       atm  cam.h1   \n",
       "\n",
       "  variable         date_range  member_id  \\\n",
       "0     T200  18000101-18991231          0   \n",
       "1     T200  08000101-08991231          0   \n",
       "2     T200  04020101-04991231          0   \n",
       "3     T200  10000101-10991231          0   \n",
       "4     T200  11000101-11991231          0   \n",
       "\n",
       "                                       file_fullpath  \\\n",
       "0  /glade/collections/cdg/data/cesmLE/CESM-CAM5-B...   \n",
       "1  /glade/collections/cdg/data/cesmLE/CESM-CAM5-B...   \n",
       "2  /glade/collections/cdg/data/cesmLE/CESM-CAM5-B...   \n",
       "3  /glade/collections/cdg/data/cesmLE/CESM-CAM5-B...   \n",
       "4  /glade/collections/cdg/data/cesmLE/CESM-CAM5-B...   \n",
       "\n",
       "                                       file_basename  \\\n",
       "0  b.e11.B1850C5CN.f09_g16.005.cam.h1.T200.180001...   \n",
       "1  b.e11.B1850C5CN.f09_g16.005.cam.h1.T200.080001...   \n",
       "2  b.e11.B1850C5CN.f09_g16.005.cam.h1.T200.040201...   \n",
       "3  b.e11.B1850C5CN.f09_g16.005.cam.h1.T200.100001...   \n",
       "4  b.e11.B1850C5CN.f09_g16.005.cam.h1.T200.110001...   \n",
       "\n",
       "                                        file_dirname  ctrl_branch_year  \\\n",
       "0  /glade/collections/cdg/data/cesmLE/CESM-CAM5-B...               NaN   \n",
       "1  /glade/collections/cdg/data/cesmLE/CESM-CAM5-B...               NaN   \n",
       "2  /glade/collections/cdg/data/cesmLE/CESM-CAM5-B...               NaN   \n",
       "3  /glade/collections/cdg/data/cesmLE/CESM-CAM5-B...               NaN   \n",
       "4  /glade/collections/cdg/data/cesmLE/CESM-CAM5-B...               NaN   \n",
       "\n",
       "   year_offset  sequence_order  has_ocean_bgc grid  \n",
       "0       1448.0               0           True  NaN  \n",
       "1       1448.0               0           True  NaN  \n",
       "2       1448.0               0           True  NaN  \n",
       "3       1448.0               0           True  NaN  \n",
       "4       1448.0               0           True  NaN  "
      ]
     },
     "execution_count": 6,
     "metadata": {},
     "output_type": "execute_result"
    }
   ],
   "source": [
    "col = intake.open_esm_metadatastore(collection_name='CESM1-LE')\n",
    "col.df.head()"
   ]
  },
  {
   "cell_type": "markdown",
   "metadata": {},
   "source": [
    "## Helper functions"
   ]
  },
  {
   "cell_type": "code",
   "execution_count": 7,
   "metadata": {},
   "outputs": [],
   "source": [
    "def collection_summary(col):\n",
    "    df = col.df\n",
    "    print(\"There are:\\n\")\n",
    "    print(f\"\\t1) {df.experiment.nunique()} experiments: \\n\\n\\t\\t{df.experiment.unique()}\\n\")\n",
    "    print(f\"\\t2) {df.case.nunique()} cases: \\n\\n\\t\\t{df.case.unique()[:5]} etc...\\n\")\n",
    "    print(f\"\\t3) {df.component.nunique()} components: \\n\\n\\t\\t{df.component.unique()}\\n\")\n",
    "    print(f\"\\t4) {df.stream.nunique()} streams: \\n\\n\\t\\t{df.stream.unique()}\\n\")\n",
    "    print(f\"\\t5) {df.variable.nunique()} variables: \\n\\n\\t\\t{df.variable.unique()[:10]} etc...\\n\")\n",
    "    "
   ]
  },
  {
   "cell_type": "code",
   "execution_count": 8,
   "metadata": {},
   "outputs": [],
   "source": [
    "def print_query_info(query_results):\n",
    "    variables = sorted(query_results.variable.unique().tolist())\n",
    "    files = sorted(query_results.file_fullpath.unique().tolist())\n",
    "    date_ranges = sorted(query_results.date_range.unique())\n",
    "    cases = sorted(query_results.case.unique())\n",
    "    members = sorted(query_results.member_id.unique())\n",
    "    print(f\"This query: {query} returned:\\n\\n- {len(variables)} unique variable(s)\\n\\n\")\n",
    "    print(f\"- Number of files: {len(files)}\\n\\n\")\n",
    "    print(f\"- {len(members)} member(s)\\n\\n\")\n",
    "    #print(f\"Date ranges: {date_ranges}\\n\\n\")\n",
    "    print(f\"- {len(cases)} case(s)\\n\\n\")\n",
    "    "
   ]
  },
  {
   "cell_type": "code",
   "execution_count": 9,
   "metadata": {},
   "outputs": [],
   "source": [
    "# file namer\n",
    "dirout = '/glade/scratch/abanihi/calcs'\n",
    "def zarr_file(exp, cmp, stream, var, write=False):\n",
    "    path = f'{dirout}/CESM-LE-{exp}-{cmp}-{stream}-{var}.zarr'    \n",
    "    if write and os.path.exists(path):\n",
    "        shutil.rmtree(path)\n",
    "    print(path)\n",
    "    return path     "
   ]
  },
  {
   "cell_type": "code",
   "execution_count": 10,
   "metadata": {},
   "outputs": [],
   "source": [
    "def read_data(cat, xr_open):\n",
    "    dd = cat.to_xarray(**xr_open)\n",
    "    _, ds = dd.popitem()\n",
    "    return ds\n",
    "\n",
    "def print_ds_info(ds, var):\n",
    "    dt = ds[var].dtype\n",
    "    itemsize = dt.itemsize\n",
    "    chunk_size = ds[var].data.chunksize\n",
    "    size = format_bytes(ds.nbytes)\n",
    "    _bytes = reduce(mul, chunk_size) * itemsize\n",
    "    chunk_size_bytes = format_bytes(_bytes)\n",
    "    \n",
    "    print(f\"Variable name: {var}\")\n",
    "    print(f\"Chunk shape: {chunk_size}\")\n",
    "    print(f\"Dataset shape: {ds[var].shape}\")\n",
    "    print(f\"Chunk size: {chunk_size_bytes}\")\n",
    "    print(f\"Dataset size: {size}\")"
   ]
  },
  {
   "cell_type": "code",
   "execution_count": 11,
   "metadata": {},
   "outputs": [
    {
     "name": "stdout",
     "output_type": "stream",
     "text": [
      "There are:\n",
      "\n",
      "\t1) 6 experiments: \n",
      "\n",
      "\t\t['CTRL' 'CTRL-AMIP' 'CTRL-SLAB-OCN' '20C' '20C-OIC' 'RCP85']\n",
      "\n",
      "\t2) 93 cases: \n",
      "\n",
      "\t\t['b.e11.B1850C5CN.f09_g16.005' 'f.e11.F1850C5CN.f09_f09.001'\n",
      " 'e.e11.E1850C5CN.f09_g16.001' 'b.e11.B20TRC5CNBDRD.f09_g16.105'\n",
      " 'b.e11.B20TRC5CNBDRD.f09_g16.104'] etc...\n",
      "\n",
      "\t3) 5 components: \n",
      "\n",
      "\t\t['atm' 'ocn' 'lnd' 'rof' 'ice']\n",
      "\n",
      "\t4) 10 streams: \n",
      "\n",
      "\t\t['cam.h1' 'cam.h0' 'pop.h.nday1' 'pop.h' 'clm2.h1' 'clm2.h0' 'rtm.h1'\n",
      " 'rtm.h0' 'cice.h1' 'cice.h']\n",
      "\n",
      "\t5) 985 variables: \n",
      "\n",
      "\t\t['T200' 'Q200' 'FLNSC' 'Q500' 'PRECL' 'QBOT' 'TREFHTMN' 'FSNTOA' 'TAUX'\n",
      " 'TAUY'] etc...\n",
      "\n"
     ]
    }
   ],
   "source": [
    "collection_summary(col)"
   ]
  },
  {
   "cell_type": "markdown",
   "metadata": {},
   "source": [
    "## Load variable/chunking specs"
   ]
  },
  {
   "cell_type": "code",
   "execution_count": 13,
   "metadata": {},
   "outputs": [
    {
     "data": {
      "text/plain": [
       "{'ocn': {'pop.h': {'variable_category': {'2D': {'variables': ['SST', 'SSH'],\n",
       "     'chunks': {'time': 24}},\n",
       "    '3D': {'variables': ['SALT'], 'chunks': {'time': 24, 'z_t': 1}}},\n",
       "   'frequency': 'monthly'}},\n",
       " 'ice': {'cice.h': {'variable_category': {'2D': {'variables': ['aice_nh',\n",
       "      'aice_sh',\n",
       "      'hi_nh',\n",
       "      'hi_sh'],\n",
       "     'chunks': {'time': 24}}},\n",
       "   'frequency': 'monthly'}},\n",
       " 'atm': {'cam.h0': {'variable_category': {'2D': {'variables': ['T',\n",
       "      'U',\n",
       "      'v',\n",
       "      'Q',\n",
       "      'Z3'],\n",
       "     'chunks': {'time': 24}},\n",
       "    '3D': {'variables': ['FLNS',\n",
       "      'FLNSC',\n",
       "      'FLUT',\n",
       "      'FSNS',\n",
       "      'FSNSC',\n",
       "      'FSNTOA',\n",
       "      'ICEFRAC',\n",
       "      'LHFLX',\n",
       "      'PRECC',\n",
       "      'PRECL',\n",
       "      'PRECSC',\n",
       "      'PRECSL',\n",
       "      'PSL',\n",
       "      'SHFLX',\n",
       "      'TMQ',\n",
       "      'TREFHT',\n",
       "      'TREFHTMN',\n",
       "      'TREFHTMX',\n",
       "      'TS'],\n",
       "     'chunks': {'time': 12}}},\n",
       "   'frequency': 'monthly'}},\n",
       " 'lnd': {'clm2.h0': {'variable_category': {'2D': {'variables': ['FSNO',\n",
       "      'H2OSNO',\n",
       "      'QRUNOFF',\n",
       "      'RAIN',\n",
       "      'SNOW',\n",
       "      'SOILLIQ',\n",
       "      'SOILWATER_10CM'],\n",
       "     'chunks': {'time': 24}}},\n",
       "   'frequency': 'monthly'},\n",
       "  'clm2.h1': {'variable_category': {'2D': {'variables': ['FSNO',\n",
       "      'H2OSNO',\n",
       "      'QRUNOFF',\n",
       "      'RAIN',\n",
       "      'SNOW',\n",
       "      'SOILLIQ',\n",
       "      'SOILWATER_10CM'],\n",
       "     'chunks': {'time': 100}}},\n",
       "   'frequency': 'daily'}}}"
      ]
     },
     "execution_count": 13,
     "metadata": {},
     "output_type": "execute_result"
    }
   ],
   "source": [
    "with open(\"../variables_chunking_spec.yaml\") as f:\n",
    "    specs = yaml.safe_load(f)\n",
    "specs"
   ]
  },
  {
   "cell_type": "markdown",
   "metadata": {},
   "source": [
    "## Specify process attributes"
   ]
  },
  {
   "cell_type": "code",
   "execution_count": 14,
   "metadata": {},
   "outputs": [],
   "source": [
    "component_list = ['ocn', 'ice', 'lnd', 'atm']\n",
    "\n",
    "experiment_list = ['20C', 'RCP85']"
   ]
  },
  {
   "cell_type": "code",
   "execution_count": 16,
   "metadata": {},
   "outputs": [
    {
     "name": "stdout",
     "output_type": "stream",
     "text": [
      "****************************************************************************************************\n",
      "This query: {'experiment': '20C', 'component': 'ocn', 'stream': 'pop.h', 'variable': 'SST'} returned:\n",
      "\n",
      "- 1 unique variable(s)\n",
      "\n",
      "\n",
      "- Number of files: 40\n",
      "\n",
      "\n",
      "- 40 member(s)\n",
      "\n",
      "\n",
      "- 40 case(s)\n",
      "\n",
      "\n"
     ]
    },
    {
     "data": {
      "application/vnd.jupyter.widget-view+json": {
       "model_id": "e9ab700c47e4412293ce243eb13a5a6a",
       "version_major": 2,
       "version_minor": 0
      },
      "text/plain": [
       "HBox(children=(IntProgress(value=0, description='dataset', max=1, style=ProgressStyle(description_width='initi…"
      ]
     },
     "metadata": {},
     "output_type": "display_data"
    },
    {
     "data": {
      "application/vnd.jupyter.widget-view+json": {
       "model_id": "06bf40a41c07404bbf6ab98531d4cdbd",
       "version_major": 2,
       "version_minor": 0
      },
      "text/plain": [
       "HBox(children=(IntProgress(value=0, description='member', max=40, style=ProgressStyle(description_width='initi…"
      ]
     },
     "metadata": {},
     "output_type": "display_data"
    },
    {
     "name": "stderr",
     "output_type": "stream",
     "text": [
      "distributed.utils_perf - WARNING - full garbage collections took 11% CPU time recently (threshold: 10%)\n"
     ]
    },
    {
     "name": "stdout",
     "output_type": "stream",
     "text": [
      "+++++++++++++++++++++++++++++++++++\n",
      "Variable name: SST\n",
      "Chunk shape: (1, 24, 1, 384, 320)\n",
      "Dataset shape: (40, 1872, 1, 384, 320)\n",
      "Chunk size: 11.80 MB\n",
      "Dataset size: 37.63 GB\n",
      "+++++++++++++++++++++++++++++++++++\n",
      "<xarray.Dataset>\n",
      "Dimensions:               (d2: 2, lat_aux_grid: 395, member_id: 40, moc_comp: 3, moc_z: 61, nlat: 384, nlon: 320, time: 1872, transport_comp: 5, transport_reg: 2, z_t: 1, z_t_150m: 15, z_w: 60, z_w_bot: 60, z_w_top: 60)\n",
      "Coordinates:\n",
      "  * time                  (time) float64 6.753e+05 6.753e+05 ... 7.322e+05\n",
      "  * lat_aux_grid          (lat_aux_grid) float32 -79.48815 -78.952896 ... 90.0\n",
      "  * moc_z                 (moc_z) float32 0.0 1000.0 ... 525000.94 549999.06\n",
      "  * z_t                   (z_t) float32 500.0\n",
      "  * z_t_150m              (z_t_150m) float32 500.0 1500.0 ... 13500.0 14500.0\n",
      "  * z_w                   (z_w) float32 0.0 1000.0 2000.0 ... 500004.7 525000.94\n",
      "  * z_w_bot               (z_w_bot) float32 1000.0 2000.0 ... 549999.06\n",
      "  * z_w_top               (z_w_top) float32 0.0 1000.0 ... 500004.7 525000.94\n",
      "  * member_id             (member_id) int64 1 2 3 4 5 6 ... 101 102 103 104 105\n",
      "Dimensions without coordinates: d2, moc_comp, nlat, nlon, transport_comp, transport_reg\n",
      "Data variables:\n",
      "    ANGLE                 (member_id, nlat, nlon) float64 dask.array<shape=(40, 384, 320), chunksize=(1, 384, 320)>\n",
      "    ANGLET                (member_id, nlat, nlon) float64 dask.array<shape=(40, 384, 320), chunksize=(1, 384, 320)>\n",
      "    DXT                   (member_id, nlat, nlon) float64 dask.array<shape=(40, 384, 320), chunksize=(1, 384, 320)>\n",
      "    DXU                   (member_id, nlat, nlon) float64 dask.array<shape=(40, 384, 320), chunksize=(1, 384, 320)>\n",
      "    DYT                   (member_id, nlat, nlon) float64 dask.array<shape=(40, 384, 320), chunksize=(1, 384, 320)>\n",
      "    DYU                   (member_id, nlat, nlon) float64 dask.array<shape=(40, 384, 320), chunksize=(1, 384, 320)>\n",
      "    HT                    (member_id, nlat, nlon) float64 dask.array<shape=(40, 384, 320), chunksize=(1, 384, 320)>\n",
      "    HTE                   (member_id, nlat, nlon) float64 dask.array<shape=(40, 384, 320), chunksize=(1, 384, 320)>\n",
      "    HTN                   (member_id, nlat, nlon) float64 dask.array<shape=(40, 384, 320), chunksize=(1, 384, 320)>\n",
      "    HU                    (member_id, nlat, nlon) float64 dask.array<shape=(40, 384, 320), chunksize=(1, 384, 320)>\n",
      "    HUS                   (member_id, nlat, nlon) float64 dask.array<shape=(40, 384, 320), chunksize=(1, 384, 320)>\n",
      "    HUW                   (member_id, nlat, nlon) float64 dask.array<shape=(40, 384, 320), chunksize=(1, 384, 320)>\n",
      "    KMT                   (member_id, nlat, nlon) float64 dask.array<shape=(40, 384, 320), chunksize=(1, 384, 320)>\n",
      "    KMU                   (member_id, nlat, nlon) float64 dask.array<shape=(40, 384, 320), chunksize=(1, 384, 320)>\n",
      "    REGION_MASK           (member_id, nlat, nlon) float64 dask.array<shape=(40, 384, 320), chunksize=(1, 384, 320)>\n",
      "    T0_Kelvin             (member_id) float64 273.1 273.1 273.1 ... 273.1 273.1\n",
      "    TAREA                 (member_id, nlat, nlon) float64 dask.array<shape=(40, 384, 320), chunksize=(1, 384, 320)>\n",
      "    TLAT                  (member_id, nlat, nlon) float64 dask.array<shape=(40, 384, 320), chunksize=(1, 384, 320)>\n",
      "    TLONG                 (member_id, nlat, nlon) float64 dask.array<shape=(40, 384, 320), chunksize=(1, 384, 320)>\n",
      "    UAREA                 (member_id, nlat, nlon) float64 dask.array<shape=(40, 384, 320), chunksize=(1, 384, 320)>\n",
      "    ULAT                  (member_id, nlat, nlon) float64 dask.array<shape=(40, 384, 320), chunksize=(1, 384, 320)>\n",
      "    ULONG                 (member_id, nlat, nlon) float64 dask.array<shape=(40, 384, 320), chunksize=(1, 384, 320)>\n",
      "    cp_air                (member_id) float64 1.005e+03 1.005e+03 ... 1.005e+03\n",
      "    cp_sw                 (member_id) float64 3.996e+07 3.996e+07 ... 3.996e+07\n",
      "    days_in_norm_year     (member_id) float64 365.0 365.0 365.0 ... 365.0 365.0\n",
      "    dz                    (member_id, z_t) float32 dask.array<shape=(40, 1), chunksize=(1, 1)>\n",
      "    dzw                   (member_id, z_w) float32 dask.array<shape=(40, 60), chunksize=(1, 60)>\n",
      "    fwflux_factor         (member_id) float64 0.0001 0.0001 ... 0.0001 0.0001\n",
      "    grav                  (member_id) float64 980.6 980.6 980.6 ... 980.6 980.6\n",
      "    heat_to_PW            (member_id) float64 4.186e-15 4.186e-15 ... 4.186e-15\n",
      "    hflux_factor          (member_id) float64 2.439e-05 2.439e-05 ... 2.439e-05\n",
      "    latent_heat_fusion    (member_id) float64 3.337e+09 3.337e+09 ... 3.337e+09\n",
      "    latent_heat_vapor     (member_id) float64 2.501e+06 2.501e+06 ... 2.501e+06\n",
      "    mass_to_Sv            (member_id) float64 1e-12 1e-12 1e-12 ... 1e-12 1e-12\n",
      "    moc_components        (member_id, moc_comp) |S256 dask.array<shape=(40, 3), chunksize=(1, 3)>\n",
      "    momentum_factor       (member_id) float64 10.0 10.0 10.0 ... 10.0 10.0 10.0\n",
      "    nsurface_t            (member_id) float64 8.621e+04 8.621e+04 ... 8.621e+04\n",
      "    nsurface_u            (member_id) float64 8.305e+04 8.305e+04 ... 8.305e+04\n",
      "    ocn_ref_salinity      (member_id) float64 34.7 34.7 34.7 ... 34.7 34.7 34.7\n",
      "    omega                 (member_id) float64 7.292e-05 7.292e-05 ... 7.292e-05\n",
      "    ppt_to_salt           (member_id) float64 0.001 0.001 0.001 ... 0.001 0.001\n",
      "    radius                (member_id) float64 6.371e+08 6.371e+08 ... 6.371e+08\n",
      "    rho_air               (member_id) float64 1.292 1.292 1.292 ... 1.292 1.292\n",
      "    rho_fw                (member_id) float64 1.0 1.0 1.0 1.0 ... 1.0 1.0 1.0\n",
      "    rho_sw                (member_id) float64 1.026 1.026 1.026 ... 1.026 1.026\n",
      "    salinity_factor       (member_id) float64 -0.00347 -0.00347 ... -0.00347\n",
      "    salt_to_Svppt         (member_id) float64 1e-09 1e-09 1e-09 ... 1e-09 1e-09\n",
      "    salt_to_mmday         (member_id) float64 3.154e+05 3.154e+05 ... 3.154e+05\n",
      "    salt_to_ppt           (member_id) float64 1e+03 1e+03 1e+03 ... 1e+03 1e+03\n",
      "    sea_ice_salinity      (member_id) float64 4.0 4.0 4.0 4.0 ... 4.0 4.0 4.0\n",
      "    sflux_factor          (member_id) float64 0.1 0.1 0.1 0.1 ... 0.1 0.1 0.1\n",
      "    sound                 (member_id) float64 1.5e+05 1.5e+05 ... 1.5e+05\n",
      "    stefan_boltzmann      (member_id) float64 5.67e-08 5.67e-08 ... 5.67e-08\n",
      "    time_bound            (member_id, time, d2) float64 dask.array<shape=(40, 1872, 2), chunksize=(1, 24, 2)>\n",
      "    transport_components  (member_id, transport_comp) |S256 dask.array<shape=(40, 5), chunksize=(1, 5)>\n",
      "    transport_regions     (member_id, transport_reg) |S256 dask.array<shape=(40, 2), chunksize=(1, 2)>\n",
      "    vonkar                (member_id) float64 0.4 0.4 0.4 0.4 ... 0.4 0.4 0.4\n",
      "    SST                   (member_id, time, z_t, nlat, nlon) float32 dask.array<shape=(40, 1872, 1, 384, 320), chunksize=(1, 24, 1, 384, 320)>\n",
      "Attributes:\n",
      "    nco_openmp_thread_number:  1\n",
      "    nsteps_total:              750\n",
      "    revision:                  $Id: tavg.F90 41939 2012-11-14 16:37:23Z mlevy...\n",
      "    tavg_sum:                  2592000.0\n",
      "    history:                   2019-06-25 12:30:01.770939 xarray.open_dataset...\n",
      "    cell_methods:              cell_methods = time: mean ==> the variable val...\n",
      "    calendar:                  All years have exactly  365 days.\n",
      "    Conventions:               CF-1.0; http://www.cgd.ucar.edu/cms/eaton/netc...\n",
      "    source:                    CCSM POP2, the CCSM Ocean Component\n",
      "    tavg_sum_qflux:            2592000.0\n",
      "    contents:                  Diagnostic and Prognostic Variables\n",
      "    NCO:                       4.4.4\n",
      "****************************************************************************************************\n",
      "****************************************************************************************************\n",
      "This query: {'experiment': '20C', 'component': 'ocn', 'stream': 'pop.h', 'variable': 'SSH'} returned:\n",
      "\n",
      "- 1 unique variable(s)\n",
      "\n",
      "\n",
      "- Number of files: 40\n",
      "\n",
      "\n",
      "- 40 member(s)\n",
      "\n",
      "\n",
      "- 40 case(s)\n",
      "\n",
      "\n"
     ]
    },
    {
     "data": {
      "application/vnd.jupyter.widget-view+json": {
       "model_id": "bed8dd2903d54ef482379567a7570b73",
       "version_major": 2,
       "version_minor": 0
      },
      "text/plain": [
       "HBox(children=(IntProgress(value=0, description='dataset', max=1, style=ProgressStyle(description_width='initi…"
      ]
     },
     "metadata": {},
     "output_type": "display_data"
    },
    {
     "data": {
      "application/vnd.jupyter.widget-view+json": {
       "model_id": "2c861f90ff3a4da9b3241250cf667279",
       "version_major": 2,
       "version_minor": 0
      },
      "text/plain": [
       "HBox(children=(IntProgress(value=0, description='member', max=40, style=ProgressStyle(description_width='initi…"
      ]
     },
     "metadata": {},
     "output_type": "display_data"
    },
    {
     "name": "stdout",
     "output_type": "stream",
     "text": [
      "+++++++++++++++++++++++++++++++++++\n",
      "Variable name: SSH\n",
      "Chunk shape: (1, 24, 384, 320)\n",
      "Dataset shape: (40, 1872, 384, 320)\n",
      "Chunk size: 11.80 MB\n",
      "Dataset size: 37.63 GB\n",
      "+++++++++++++++++++++++++++++++++++\n",
      "<xarray.Dataset>\n",
      "Dimensions:               (d2: 2, lat_aux_grid: 395, member_id: 40, moc_comp: 3, moc_z: 61, nlat: 384, nlon: 320, time: 1872, transport_comp: 5, transport_reg: 2, z_t: 60, z_t_150m: 15, z_w: 60, z_w_bot: 60, z_w_top: 60)\n",
      "Coordinates:\n",
      "  * time                  (time) float64 6.753e+05 6.753e+05 ... 7.322e+05\n",
      "  * lat_aux_grid          (lat_aux_grid) float32 -79.48815 -78.952896 ... 90.0\n",
      "  * moc_z                 (moc_z) float32 0.0 1000.0 ... 525000.94 549999.06\n",
      "  * z_t                   (z_t) float32 500.0 1500.0 ... 512502.8 537500.0\n",
      "  * z_t_150m              (z_t_150m) float32 500.0 1500.0 ... 13500.0 14500.0\n",
      "  * z_w                   (z_w) float32 0.0 1000.0 2000.0 ... 500004.7 525000.94\n",
      "  * z_w_bot               (z_w_bot) float32 1000.0 2000.0 ... 549999.06\n",
      "  * z_w_top               (z_w_top) float32 0.0 1000.0 ... 500004.7 525000.94\n",
      "  * member_id             (member_id) int64 1 2 3 4 5 6 ... 101 102 103 104 105\n",
      "Dimensions without coordinates: d2, moc_comp, nlat, nlon, transport_comp, transport_reg\n",
      "Data variables:\n",
      "    ANGLE                 (member_id, nlat, nlon) float64 dask.array<shape=(40, 384, 320), chunksize=(1, 384, 320)>\n",
      "    ANGLET                (member_id, nlat, nlon) float64 dask.array<shape=(40, 384, 320), chunksize=(1, 384, 320)>\n",
      "    DXT                   (member_id, nlat, nlon) float64 dask.array<shape=(40, 384, 320), chunksize=(1, 384, 320)>\n",
      "    DXU                   (member_id, nlat, nlon) float64 dask.array<shape=(40, 384, 320), chunksize=(1, 384, 320)>\n",
      "    DYT                   (member_id, nlat, nlon) float64 dask.array<shape=(40, 384, 320), chunksize=(1, 384, 320)>\n",
      "    DYU                   (member_id, nlat, nlon) float64 dask.array<shape=(40, 384, 320), chunksize=(1, 384, 320)>\n",
      "    HT                    (member_id, nlat, nlon) float64 dask.array<shape=(40, 384, 320), chunksize=(1, 384, 320)>\n",
      "    HTE                   (member_id, nlat, nlon) float64 dask.array<shape=(40, 384, 320), chunksize=(1, 384, 320)>\n",
      "    HTN                   (member_id, nlat, nlon) float64 dask.array<shape=(40, 384, 320), chunksize=(1, 384, 320)>\n",
      "    HU                    (member_id, nlat, nlon) float64 dask.array<shape=(40, 384, 320), chunksize=(1, 384, 320)>\n",
      "    HUS                   (member_id, nlat, nlon) float64 dask.array<shape=(40, 384, 320), chunksize=(1, 384, 320)>\n",
      "    HUW                   (member_id, nlat, nlon) float64 dask.array<shape=(40, 384, 320), chunksize=(1, 384, 320)>\n",
      "    KMT                   (member_id, nlat, nlon) float64 dask.array<shape=(40, 384, 320), chunksize=(1, 384, 320)>\n",
      "    KMU                   (member_id, nlat, nlon) float64 dask.array<shape=(40, 384, 320), chunksize=(1, 384, 320)>\n",
      "    REGION_MASK           (member_id, nlat, nlon) float64 dask.array<shape=(40, 384, 320), chunksize=(1, 384, 320)>\n",
      "    SSH                   (member_id, time, nlat, nlon) float32 dask.array<shape=(40, 1872, 384, 320), chunksize=(1, 24, 384, 320)>\n",
      "    T0_Kelvin             (member_id) float64 273.1 273.1 273.1 ... 273.1 273.1\n",
      "    TAREA                 (member_id, nlat, nlon) float64 dask.array<shape=(40, 384, 320), chunksize=(1, 384, 320)>\n",
      "    TLAT                  (member_id, nlat, nlon) float64 dask.array<shape=(40, 384, 320), chunksize=(1, 384, 320)>\n",
      "    TLONG                 (member_id, nlat, nlon) float64 dask.array<shape=(40, 384, 320), chunksize=(1, 384, 320)>\n",
      "    UAREA                 (member_id, nlat, nlon) float64 dask.array<shape=(40, 384, 320), chunksize=(1, 384, 320)>\n",
      "    ULAT                  (member_id, nlat, nlon) float64 dask.array<shape=(40, 384, 320), chunksize=(1, 384, 320)>\n",
      "    ULONG                 (member_id, nlat, nlon) float64 dask.array<shape=(40, 384, 320), chunksize=(1, 384, 320)>\n",
      "    cp_air                (member_id) float64 1.005e+03 1.005e+03 ... 1.005e+03\n",
      "    cp_sw                 (member_id) float64 3.996e+07 3.996e+07 ... 3.996e+07\n",
      "    days_in_norm_year     (member_id) float64 365.0 365.0 365.0 ... 365.0 365.0\n",
      "    dz                    (member_id, z_t) float32 dask.array<shape=(40, 60), chunksize=(1, 60)>\n",
      "    dzw                   (member_id, z_w) float32 dask.array<shape=(40, 60), chunksize=(1, 60)>\n",
      "    fwflux_factor         (member_id) float64 0.0001 0.0001 ... 0.0001 0.0001\n",
      "    grav                  (member_id) float64 980.6 980.6 980.6 ... 980.6 980.6\n",
      "    heat_to_PW            (member_id) float64 4.186e-15 4.186e-15 ... 4.186e-15\n",
      "    hflux_factor          (member_id) float64 2.439e-05 2.439e-05 ... 2.439e-05\n",
      "    latent_heat_fusion    (member_id) float64 3.337e+09 3.337e+09 ... 3.337e+09\n",
      "    latent_heat_vapor     (member_id) float64 2.501e+06 2.501e+06 ... 2.501e+06\n",
      "    mass_to_Sv            (member_id) float64 1e-12 1e-12 1e-12 ... 1e-12 1e-12\n",
      "    moc_components        (member_id, moc_comp) |S256 dask.array<shape=(40, 3), chunksize=(1, 3)>\n",
      "    momentum_factor       (member_id) float64 10.0 10.0 10.0 ... 10.0 10.0 10.0\n",
      "    nsurface_t            (member_id) float64 8.621e+04 8.621e+04 ... 8.621e+04\n",
      "    nsurface_u            (member_id) float64 8.305e+04 8.305e+04 ... 8.305e+04\n",
      "    ocn_ref_salinity      (member_id) float64 34.7 34.7 34.7 ... 34.7 34.7 34.7\n",
      "    omega                 (member_id) float64 7.292e-05 7.292e-05 ... 7.292e-05\n",
      "    ppt_to_salt           (member_id) float64 0.001 0.001 0.001 ... 0.001 0.001\n",
      "    radius                (member_id) float64 6.371e+08 6.371e+08 ... 6.371e+08\n",
      "    rho_air               (member_id) float64 1.292 1.292 1.292 ... 1.292 1.292\n",
      "    rho_fw                (member_id) float64 1.0 1.0 1.0 1.0 ... 1.0 1.0 1.0\n",
      "    rho_sw                (member_id) float64 1.026 1.026 1.026 ... 1.026 1.026\n",
      "    salinity_factor       (member_id) float64 -0.00347 -0.00347 ... -0.00347\n",
      "    salt_to_Svppt         (member_id) float64 1e-09 1e-09 1e-09 ... 1e-09 1e-09\n",
      "    salt_to_mmday         (member_id) float64 3.154e+05 3.154e+05 ... 3.154e+05\n",
      "    salt_to_ppt           (member_id) float64 1e+03 1e+03 1e+03 ... 1e+03 1e+03\n",
      "    sea_ice_salinity      (member_id) float64 4.0 4.0 4.0 4.0 ... 4.0 4.0 4.0\n",
      "    sflux_factor          (member_id) float64 0.1 0.1 0.1 0.1 ... 0.1 0.1 0.1\n",
      "    sound                 (member_id) float64 1.5e+05 1.5e+05 ... 1.5e+05\n",
      "    stefan_boltzmann      (member_id) float64 5.67e-08 5.67e-08 ... 5.67e-08\n",
      "    time_bound            (member_id, time, d2) float64 dask.array<shape=(40, 1872, 2), chunksize=(1, 24, 2)>\n",
      "    transport_components  (member_id, transport_comp) |S256 dask.array<shape=(40, 5), chunksize=(1, 5)>\n",
      "    transport_regions     (member_id, transport_reg) |S256 dask.array<shape=(40, 2), chunksize=(1, 2)>\n",
      "    vonkar                (member_id) float64 0.4 0.4 0.4 0.4 ... 0.4 0.4 0.4\n",
      "Attributes:\n",
      "    nco_openmp_thread_number:  1\n",
      "    nsteps_total:              750\n",
      "    revision:                  $Id: tavg.F90 41939 2012-11-14 16:37:23Z mlevy...\n",
      "    tavg_sum:                  2592000.0\n",
      "    history:                   2019-06-25 12:30:15.708672 xarray.open_dataset...\n",
      "    cell_methods:              cell_methods = time: mean ==> the variable val...\n",
      "    calendar:                  All years have exactly  365 days.\n",
      "    Conventions:               CF-1.0; http://www.cgd.ucar.edu/cms/eaton/netc...\n",
      "    source:                    CCSM POP2, the CCSM Ocean Component\n",
      "    tavg_sum_qflux:            2592000.0\n",
      "    contents:                  Diagnostic and Prognostic Variables\n",
      "****************************************************************************************************\n",
      "****************************************************************************************************\n",
      "This query: {'experiment': '20C', 'component': 'ocn', 'stream': 'pop.h', 'variable': 'SALT'} returned:\n",
      "\n",
      "- 1 unique variable(s)\n",
      "\n",
      "\n",
      "- Number of files: 40\n",
      "\n",
      "\n",
      "- 40 member(s)\n",
      "\n",
      "\n",
      "- 40 case(s)\n",
      "\n",
      "\n"
     ]
    },
    {
     "data": {
      "application/vnd.jupyter.widget-view+json": {
       "model_id": "a0eb1be447a5456da55ceb13f6dd2a8e",
       "version_major": 2,
       "version_minor": 0
      },
      "text/plain": [
       "HBox(children=(IntProgress(value=0, description='dataset', max=1, style=ProgressStyle(description_width='initi…"
      ]
     },
     "metadata": {},
     "output_type": "display_data"
    },
    {
     "data": {
      "application/vnd.jupyter.widget-view+json": {
       "model_id": "d2d7e1daa34846799799661ab1359f0f",
       "version_major": 2,
       "version_minor": 0
      },
      "text/plain": [
       "HBox(children=(IntProgress(value=0, description='member', max=40, style=ProgressStyle(description_width='initi…"
      ]
     },
     "metadata": {},
     "output_type": "display_data"
    },
    {
     "name": "stderr",
     "output_type": "stream",
     "text": [
      "distributed.utils_perf - WARNING - full garbage collections took 11% CPU time recently (threshold: 10%)\n",
      "distributed.utils_perf - WARNING - full garbage collections took 11% CPU time recently (threshold: 10%)\n",
      "distributed.utils_perf - WARNING - full garbage collections took 11% CPU time recently (threshold: 10%)\n",
      "distributed.utils_perf - WARNING - full garbage collections took 11% CPU time recently (threshold: 10%)\n",
      "distributed.utils_perf - WARNING - full garbage collections took 11% CPU time recently (threshold: 10%)\n",
      "distributed.utils_perf - WARNING - full garbage collections took 11% CPU time recently (threshold: 10%)\n"
     ]
    },
    {
     "name": "stdout",
     "output_type": "stream",
     "text": [
      "+++++++++++++++++++++++++++++++++++\n",
      "Variable name: SALT\n",
      "Chunk shape: (1, 24, 1, 384, 320)\n",
      "Dataset shape: (40, 1872, 60, 384, 320)\n",
      "Chunk size: 11.80 MB\n",
      "Dataset size: 2.21 TB\n",
      "+++++++++++++++++++++++++++++++++++\n",
      "<xarray.Dataset>\n",
      "Dimensions:               (d2: 2, lat_aux_grid: 395, member_id: 40, moc_comp: 3, moc_z: 61, nlat: 384, nlon: 320, time: 1872, transport_comp: 5, transport_reg: 2, z_t: 60, z_t_150m: 15, z_w: 60, z_w_bot: 60, z_w_top: 60)\n",
      "Coordinates:\n",
      "  * time                  (time) float64 6.753e+05 6.753e+05 ... 7.322e+05\n",
      "  * lat_aux_grid          (lat_aux_grid) float32 -79.48815 -78.952896 ... 90.0\n",
      "  * moc_z                 (moc_z) float32 0.0 1000.0 ... 525000.94 549999.06\n",
      "  * z_t                   (z_t) float32 500.0 1500.0 ... 512502.8 537500.0\n",
      "  * z_t_150m              (z_t_150m) float32 500.0 1500.0 ... 13500.0 14500.0\n",
      "  * z_w                   (z_w) float32 0.0 1000.0 2000.0 ... 500004.7 525000.94\n",
      "  * z_w_bot               (z_w_bot) float32 1000.0 2000.0 ... 549999.06\n",
      "  * z_w_top               (z_w_top) float32 0.0 1000.0 ... 500004.7 525000.94\n",
      "  * member_id             (member_id) int64 1 2 3 4 5 6 ... 101 102 103 104 105\n",
      "Dimensions without coordinates: d2, moc_comp, nlat, nlon, transport_comp, transport_reg\n",
      "Data variables:\n",
      "    ANGLE                 (member_id, nlat, nlon) float64 dask.array<shape=(40, 384, 320), chunksize=(1, 384, 320)>\n",
      "    ANGLET                (member_id, nlat, nlon) float64 dask.array<shape=(40, 384, 320), chunksize=(1, 384, 320)>\n",
      "    DXT                   (member_id, nlat, nlon) float64 dask.array<shape=(40, 384, 320), chunksize=(1, 384, 320)>\n",
      "    DXU                   (member_id, nlat, nlon) float64 dask.array<shape=(40, 384, 320), chunksize=(1, 384, 320)>\n",
      "    DYT                   (member_id, nlat, nlon) float64 dask.array<shape=(40, 384, 320), chunksize=(1, 384, 320)>\n",
      "    DYU                   (member_id, nlat, nlon) float64 dask.array<shape=(40, 384, 320), chunksize=(1, 384, 320)>\n",
      "    HT                    (member_id, nlat, nlon) float64 dask.array<shape=(40, 384, 320), chunksize=(1, 384, 320)>\n",
      "    HTE                   (member_id, nlat, nlon) float64 dask.array<shape=(40, 384, 320), chunksize=(1, 384, 320)>\n",
      "    HTN                   (member_id, nlat, nlon) float64 dask.array<shape=(40, 384, 320), chunksize=(1, 384, 320)>\n",
      "    HU                    (member_id, nlat, nlon) float64 dask.array<shape=(40, 384, 320), chunksize=(1, 384, 320)>\n",
      "    HUS                   (member_id, nlat, nlon) float64 dask.array<shape=(40, 384, 320), chunksize=(1, 384, 320)>\n",
      "    HUW                   (member_id, nlat, nlon) float64 dask.array<shape=(40, 384, 320), chunksize=(1, 384, 320)>\n",
      "    KMT                   (member_id, nlat, nlon) float64 dask.array<shape=(40, 384, 320), chunksize=(1, 384, 320)>\n",
      "    KMU                   (member_id, nlat, nlon) float64 dask.array<shape=(40, 384, 320), chunksize=(1, 384, 320)>\n",
      "    REGION_MASK           (member_id, nlat, nlon) float64 dask.array<shape=(40, 384, 320), chunksize=(1, 384, 320)>\n",
      "    SALT                  (member_id, time, z_t, nlat, nlon) float32 dask.array<shape=(40, 1872, 60, 384, 320), chunksize=(1, 24, 1, 384, 320)>\n",
      "    T0_Kelvin             (member_id) float64 273.1 273.1 273.1 ... 273.1 273.1\n",
      "    TAREA                 (member_id, nlat, nlon) float64 dask.array<shape=(40, 384, 320), chunksize=(1, 384, 320)>\n",
      "    TLAT                  (member_id, nlat, nlon) float64 dask.array<shape=(40, 384, 320), chunksize=(1, 384, 320)>\n",
      "    TLONG                 (member_id, nlat, nlon) float64 dask.array<shape=(40, 384, 320), chunksize=(1, 384, 320)>\n",
      "    UAREA                 (member_id, nlat, nlon) float64 dask.array<shape=(40, 384, 320), chunksize=(1, 384, 320)>\n",
      "    ULAT                  (member_id, nlat, nlon) float64 dask.array<shape=(40, 384, 320), chunksize=(1, 384, 320)>\n",
      "    ULONG                 (member_id, nlat, nlon) float64 dask.array<shape=(40, 384, 320), chunksize=(1, 384, 320)>\n",
      "    cp_air                (member_id) float64 1.005e+03 1.005e+03 ... 1.005e+03\n",
      "    cp_sw                 (member_id) float64 3.996e+07 3.996e+07 ... 3.996e+07\n",
      "    days_in_norm_year     (member_id) float64 365.0 365.0 365.0 ... 365.0 365.0\n",
      "    dz                    (member_id, z_t) float32 dask.array<shape=(40, 60), chunksize=(1, 1)>\n",
      "    dzw                   (member_id, z_w) float32 dask.array<shape=(40, 60), chunksize=(1, 60)>\n",
      "    fwflux_factor         (member_id) float64 0.0001 0.0001 ... 0.0001 0.0001\n",
      "    grav                  (member_id) float64 980.6 980.6 980.6 ... 980.6 980.6\n",
      "    heat_to_PW            (member_id) float64 4.186e-15 4.186e-15 ... 4.186e-15\n",
      "    hflux_factor          (member_id) float64 2.439e-05 2.439e-05 ... 2.439e-05\n",
      "    latent_heat_fusion    (member_id) float64 3.337e+09 3.337e+09 ... 3.337e+09\n",
      "    latent_heat_vapor     (member_id) float64 2.501e+06 2.501e+06 ... 2.501e+06\n",
      "    mass_to_Sv            (member_id) float64 1e-12 1e-12 1e-12 ... 1e-12 1e-12\n",
      "    moc_components        (member_id, moc_comp) |S256 dask.array<shape=(40, 3), chunksize=(1, 3)>\n",
      "    momentum_factor       (member_id) float64 10.0 10.0 10.0 ... 10.0 10.0 10.0\n",
      "    nsurface_t            (member_id) float64 8.621e+04 8.621e+04 ... 8.621e+04\n",
      "    nsurface_u            (member_id) float64 8.305e+04 8.305e+04 ... 8.305e+04\n",
      "    ocn_ref_salinity      (member_id) float64 34.7 34.7 34.7 ... 34.7 34.7 34.7\n",
      "    omega                 (member_id) float64 7.292e-05 7.292e-05 ... 7.292e-05\n",
      "    ppt_to_salt           (member_id) float64 0.001 0.001 0.001 ... 0.001 0.001\n",
      "    radius                (member_id) float64 6.371e+08 6.371e+08 ... 6.371e+08\n",
      "    rho_air               (member_id) float64 1.292 1.292 1.292 ... 1.292 1.292\n",
      "    rho_fw                (member_id) float64 1.0 1.0 1.0 1.0 ... 1.0 1.0 1.0\n",
      "    rho_sw                (member_id) float64 1.026 1.026 1.026 ... 1.026 1.026\n",
      "    salinity_factor       (member_id) float64 -0.00347 -0.00347 ... -0.00347\n",
      "    salt_to_Svppt         (member_id) float64 1e-09 1e-09 1e-09 ... 1e-09 1e-09\n",
      "    salt_to_mmday         (member_id) float64 3.154e+05 3.154e+05 ... 3.154e+05\n",
      "    salt_to_ppt           (member_id) float64 1e+03 1e+03 1e+03 ... 1e+03 1e+03\n",
      "    sea_ice_salinity      (member_id) float64 4.0 4.0 4.0 4.0 ... 4.0 4.0 4.0\n",
      "    sflux_factor          (member_id) float64 0.1 0.1 0.1 0.1 ... 0.1 0.1 0.1\n",
      "    sound                 (member_id) float64 1.5e+05 1.5e+05 ... 1.5e+05\n",
      "    stefan_boltzmann      (member_id) float64 5.67e-08 5.67e-08 ... 5.67e-08\n",
      "    time_bound            (member_id, time, d2) float64 dask.array<shape=(40, 1872, 2), chunksize=(1, 24, 2)>\n",
      "    transport_components  (member_id, transport_comp) |S256 dask.array<shape=(40, 5), chunksize=(1, 5)>\n",
      "    transport_regions     (member_id, transport_reg) |S256 dask.array<shape=(40, 2), chunksize=(1, 2)>\n",
      "    vonkar                (member_id) float64 0.4 0.4 0.4 0.4 ... 0.4 0.4 0.4\n",
      "Attributes:\n",
      "    nco_openmp_thread_number:  1\n",
      "    nsteps_total:              750\n",
      "    revision:                  $Id: tavg.F90 41939 2012-11-14 16:37:23Z mlevy...\n",
      "    tavg_sum:                  2592000.0\n",
      "    history:                   2019-06-25 12:30:29.907503 xarray.open_dataset...\n",
      "    cell_methods:              cell_methods = time: mean ==> the variable val...\n",
      "    calendar:                  All years have exactly  365 days.\n",
      "    Conventions:               CF-1.0; http://www.cgd.ucar.edu/cms/eaton/netc...\n",
      "    source:                    CCSM POP2, the CCSM Ocean Component\n",
      "    tavg_sum_qflux:            2592000.0\n",
      "    contents:                  Diagnostic and Prognostic Variables\n",
      "****************************************************************************************************\n",
      "****************************************************************************************************\n",
      "This query: {'experiment': '20C', 'component': 'ice', 'stream': 'cice.h', 'variable': 'aice_nh'} returned:\n",
      "\n",
      "- 1 unique variable(s)\n",
      "\n",
      "\n",
      "- Number of files: 40\n",
      "\n",
      "\n",
      "- 40 member(s)\n",
      "\n",
      "\n",
      "- 40 case(s)\n",
      "\n",
      "\n"
     ]
    },
    {
     "data": {
      "application/vnd.jupyter.widget-view+json": {
       "model_id": "562c5319a6204e65b8b2e106c66c5632",
       "version_major": 2,
       "version_minor": 0
      },
      "text/plain": [
       "HBox(children=(IntProgress(value=0, description='dataset', max=1, style=ProgressStyle(description_width='initi…"
      ]
     },
     "metadata": {},
     "output_type": "display_data"
    },
    {
     "data": {
      "application/vnd.jupyter.widget-view+json": {
       "model_id": "6ad2f0eab93f4e23a66790dd62f404da",
       "version_major": 2,
       "version_minor": 0
      },
      "text/plain": [
       "HBox(children=(IntProgress(value=0, description='member', max=40, style=ProgressStyle(description_width='initi…"
      ]
     },
     "metadata": {},
     "output_type": "display_data"
    },
    {
     "name": "stdout",
     "output_type": "stream",
     "text": [
      "+++++++++++++++++++++++++++++++++++\n",
      "Variable name: aice\n",
      "Chunk shape: (1, 24, 104, 320)\n",
      "Dataset shape: (40, 1872, 104, 320)\n",
      "Chunk size: 3.19 MB\n",
      "Dataset size: 10.14 GB\n",
      "+++++++++++++++++++++++++++++++++++\n",
      "<xarray.Dataset>\n",
      "Dimensions:      (d2: 2, member_id: 40, ni: 320, nj: 104, nvertices: 4, time: 1872)\n",
      "Coordinates:\n",
      "  * time         (time) float64 6.753e+05 6.753e+05 ... 7.322e+05 7.322e+05\n",
      "  * member_id    (member_id) int64 1 2 3 4 5 6 7 8 ... 34 35 101 102 103 104 105\n",
      "Dimensions without coordinates: d2, ni, nj, nvertices\n",
      "Data variables:\n",
      "    ANGLE        (member_id, nj, ni) float32 dask.array<shape=(40, 104, 320), chunksize=(1, 104, 320)>\n",
      "    ANGLET       (member_id, nj, ni) float32 dask.array<shape=(40, 104, 320), chunksize=(1, 104, 320)>\n",
      "    HTE          (member_id, nj, ni) float32 dask.array<shape=(40, 104, 320), chunksize=(1, 104, 320)>\n",
      "    HTN          (member_id, nj, ni) float32 dask.array<shape=(40, 104, 320), chunksize=(1, 104, 320)>\n",
      "    TLAT         (member_id, nj, ni) float32 dask.array<shape=(40, 104, 320), chunksize=(1, 104, 320)>\n",
      "    TLON         (member_id, nj, ni) float32 dask.array<shape=(40, 104, 320), chunksize=(1, 104, 320)>\n",
      "    ULAT         (member_id, nj, ni) float32 dask.array<shape=(40, 104, 320), chunksize=(1, 104, 320)>\n",
      "    ULON         (member_id, nj, ni) float32 dask.array<shape=(40, 104, 320), chunksize=(1, 104, 320)>\n",
      "    aice         (member_id, time, nj, ni) float32 dask.array<shape=(40, 1872, 104, 320), chunksize=(1, 24, 104, 320)>\n",
      "    blkmask      (member_id, nj, ni) float32 dask.array<shape=(40, 104, 320), chunksize=(1, 104, 320)>\n",
      "    dxt          (member_id, nj, ni) float32 dask.array<shape=(40, 104, 320), chunksize=(1, 104, 320)>\n",
      "    dxu          (member_id, nj, ni) float32 dask.array<shape=(40, 104, 320), chunksize=(1, 104, 320)>\n",
      "    dyt          (member_id, nj, ni) float32 dask.array<shape=(40, 104, 320), chunksize=(1, 104, 320)>\n",
      "    dyu          (member_id, nj, ni) float32 dask.array<shape=(40, 104, 320), chunksize=(1, 104, 320)>\n",
      "    latt_bounds  (member_id, nj, ni, nvertices) float32 dask.array<shape=(40, 104, 320, 4), chunksize=(1, 104, 320, 4)>\n",
      "    latu_bounds  (member_id, nj, ni, nvertices) float32 dask.array<shape=(40, 104, 320, 4), chunksize=(1, 104, 320, 4)>\n",
      "    lont_bounds  (member_id, nj, ni, nvertices) float32 dask.array<shape=(40, 104, 320, 4), chunksize=(1, 104, 320, 4)>\n",
      "    lonu_bounds  (member_id, nj, ni, nvertices) float32 dask.array<shape=(40, 104, 320, 4), chunksize=(1, 104, 320, 4)>\n",
      "    tarea        (member_id, nj, ni) float32 dask.array<shape=(40, 104, 320), chunksize=(1, 104, 320)>\n",
      "    time_bounds  (member_id, time, d2) float32 dask.array<shape=(40, 1872, 2), chunksize=(1, 24, 2)>\n",
      "    tmask        (member_id, nj, ni) float32 dask.array<shape=(40, 104, 320), chunksize=(1, 104, 320)>\n",
      "    uarea        (member_id, nj, ni) float32 dask.array<shape=(40, 104, 320), chunksize=(1, 104, 320)>\n",
      "Attributes:\n",
      "    nco_openmp_thread_number:  1\n",
      "    comment:                   All years have exactly 365 days\n",
      "    comment3:                  seconds elapsed into model date:      0\n",
      "    source:                    sea ice model: Community Ice Code (CICE)\n",
      "    conventions:               CF-1.0\n",
      "    history:                   2019-06-25 12:30:51.523534 xarray.open_dataset...\n",
      "    contents:                  Diagnostic and Prognostic Variables\n",
      "    comment2:                  File written on model date 19200201\n",
      "    NCO:                       4.3.4\n",
      "****************************************************************************************************\n",
      "****************************************************************************************************\n",
      "This query: {'experiment': '20C', 'component': 'ice', 'stream': 'cice.h', 'variable': 'aice_sh'} returned:\n",
      "\n",
      "- 1 unique variable(s)\n",
      "\n",
      "\n",
      "- Number of files: 40\n",
      "\n",
      "\n",
      "- 40 member(s)\n",
      "\n",
      "\n",
      "- 40 case(s)\n",
      "\n",
      "\n"
     ]
    },
    {
     "data": {
      "application/vnd.jupyter.widget-view+json": {
       "model_id": "9641857149b64ac1b7766d67f32a938b",
       "version_major": 2,
       "version_minor": 0
      },
      "text/plain": [
       "HBox(children=(IntProgress(value=0, description='dataset', max=1, style=ProgressStyle(description_width='initi…"
      ]
     },
     "metadata": {},
     "output_type": "display_data"
    },
    {
     "data": {
      "application/vnd.jupyter.widget-view+json": {
       "model_id": "fd6d8d24ab254bdb8a7d68a836778052",
       "version_major": 2,
       "version_minor": 0
      },
      "text/plain": [
       "HBox(children=(IntProgress(value=0, description='member', max=40, style=ProgressStyle(description_width='initi…"
      ]
     },
     "metadata": {},
     "output_type": "display_data"
    },
    {
     "name": "stdout",
     "output_type": "stream",
     "text": [
      "+++++++++++++++++++++++++++++++++++\n",
      "Variable name: aice\n",
      "Chunk shape: (1, 24, 76, 320)\n",
      "Dataset shape: (40, 1872, 76, 320)\n",
      "Chunk size: 2.33 MB\n",
      "Dataset size: 7.41 GB\n",
      "+++++++++++++++++++++++++++++++++++\n",
      "<xarray.Dataset>\n",
      "Dimensions:      (d2: 2, member_id: 40, ni: 320, nj: 76, nvertices: 4, time: 1872)\n",
      "Coordinates:\n",
      "  * time         (time) float64 6.753e+05 6.753e+05 ... 7.322e+05 7.322e+05\n",
      "  * member_id    (member_id) int64 1 2 3 4 5 6 7 8 ... 34 35 101 102 103 104 105\n",
      "Dimensions without coordinates: d2, ni, nj, nvertices\n",
      "Data variables:\n",
      "    ANGLE        (member_id, nj, ni) float32 dask.array<shape=(40, 76, 320), chunksize=(1, 76, 320)>\n",
      "    ANGLET       (member_id, nj, ni) float32 dask.array<shape=(40, 76, 320), chunksize=(1, 76, 320)>\n",
      "    HTE          (member_id, nj, ni) float32 dask.array<shape=(40, 76, 320), chunksize=(1, 76, 320)>\n",
      "    HTN          (member_id, nj, ni) float32 dask.array<shape=(40, 76, 320), chunksize=(1, 76, 320)>\n",
      "    TLAT         (member_id, nj, ni) float32 dask.array<shape=(40, 76, 320), chunksize=(1, 76, 320)>\n",
      "    TLON         (member_id, nj, ni) float32 dask.array<shape=(40, 76, 320), chunksize=(1, 76, 320)>\n",
      "    ULAT         (member_id, nj, ni) float32 dask.array<shape=(40, 76, 320), chunksize=(1, 76, 320)>\n",
      "    ULON         (member_id, nj, ni) float32 dask.array<shape=(40, 76, 320), chunksize=(1, 76, 320)>\n",
      "    aice         (member_id, time, nj, ni) float32 dask.array<shape=(40, 1872, 76, 320), chunksize=(1, 24, 76, 320)>\n",
      "    blkmask      (member_id, nj, ni) float32 dask.array<shape=(40, 76, 320), chunksize=(1, 76, 320)>\n",
      "    dxt          (member_id, nj, ni) float32 dask.array<shape=(40, 76, 320), chunksize=(1, 76, 320)>\n",
      "    dxu          (member_id, nj, ni) float32 dask.array<shape=(40, 76, 320), chunksize=(1, 76, 320)>\n",
      "    dyt          (member_id, nj, ni) float32 dask.array<shape=(40, 76, 320), chunksize=(1, 76, 320)>\n",
      "    dyu          (member_id, nj, ni) float32 dask.array<shape=(40, 76, 320), chunksize=(1, 76, 320)>\n",
      "    latt_bounds  (member_id, nj, ni, nvertices) float32 dask.array<shape=(40, 76, 320, 4), chunksize=(1, 76, 320, 4)>\n",
      "    latu_bounds  (member_id, nj, ni, nvertices) float32 dask.array<shape=(40, 76, 320, 4), chunksize=(1, 76, 320, 4)>\n",
      "    lont_bounds  (member_id, nj, ni, nvertices) float32 dask.array<shape=(40, 76, 320, 4), chunksize=(1, 76, 320, 4)>\n",
      "    lonu_bounds  (member_id, nj, ni, nvertices) float32 dask.array<shape=(40, 76, 320, 4), chunksize=(1, 76, 320, 4)>\n",
      "    tarea        (member_id, nj, ni) float32 dask.array<shape=(40, 76, 320), chunksize=(1, 76, 320)>\n",
      "    time_bounds  (member_id, time, d2) float32 dask.array<shape=(40, 1872, 2), chunksize=(1, 24, 2)>\n",
      "    tmask        (member_id, nj, ni) float32 dask.array<shape=(40, 76, 320), chunksize=(1, 76, 320)>\n",
      "    uarea        (member_id, nj, ni) float32 dask.array<shape=(40, 76, 320), chunksize=(1, 76, 320)>\n",
      "Attributes:\n",
      "    nco_openmp_thread_number:  1\n",
      "    comment:                   All years have exactly 365 days\n",
      "    comment3:                  seconds elapsed into model date:      0\n",
      "    source:                    sea ice model: Community Ice Code (CICE)\n",
      "    conventions:               CF-1.0\n",
      "    history:                   2019-06-25 12:31:00.619359 xarray.open_dataset...\n",
      "    contents:                  Diagnostic and Prognostic Variables\n",
      "    comment2:                  File written on model date 19200201\n",
      "    NCO:                       4.3.4\n",
      "****************************************************************************************************\n",
      "****************************************************************************************************\n",
      "This query: {'experiment': '20C', 'component': 'ice', 'stream': 'cice.h', 'variable': 'hi_nh'} returned:\n",
      "\n",
      "- 1 unique variable(s)\n",
      "\n",
      "\n",
      "- Number of files: 40\n",
      "\n",
      "\n",
      "- 40 member(s)\n",
      "\n",
      "\n",
      "- 40 case(s)\n",
      "\n",
      "\n"
     ]
    },
    {
     "data": {
      "application/vnd.jupyter.widget-view+json": {
       "model_id": "ab2797da6c254dfdbd43acc4a6ac0f1c",
       "version_major": 2,
       "version_minor": 0
      },
      "text/plain": [
       "HBox(children=(IntProgress(value=0, description='dataset', max=1, style=ProgressStyle(description_width='initi…"
      ]
     },
     "metadata": {},
     "output_type": "display_data"
    },
    {
     "data": {
      "application/vnd.jupyter.widget-view+json": {
       "model_id": "a51926117e084fbea6b3eff80b5fe8a8",
       "version_major": 2,
       "version_minor": 0
      },
      "text/plain": [
       "HBox(children=(IntProgress(value=0, description='member', max=40, style=ProgressStyle(description_width='initi…"
      ]
     },
     "metadata": {},
     "output_type": "display_data"
    },
    {
     "name": "stderr",
     "output_type": "stream",
     "text": [
      "distributed.utils_perf - WARNING - full garbage collections took 10% CPU time recently (threshold: 10%)\n"
     ]
    },
    {
     "name": "stdout",
     "output_type": "stream",
     "text": [
      "+++++++++++++++++++++++++++++++++++\n",
      "Variable name: hi\n",
      "Chunk shape: (1, 24, 104, 320)\n",
      "Dataset shape: (40, 1872, 104, 320)\n",
      "Chunk size: 3.19 MB\n",
      "Dataset size: 10.14 GB\n",
      "+++++++++++++++++++++++++++++++++++\n",
      "<xarray.Dataset>\n",
      "Dimensions:      (d2: 2, member_id: 40, ni: 320, nj: 104, nvertices: 4, time: 1872)\n",
      "Coordinates:\n",
      "  * time         (time) float64 6.753e+05 6.753e+05 ... 7.322e+05 7.322e+05\n",
      "  * member_id    (member_id) int64 1 2 3 4 5 6 7 8 ... 34 35 101 102 103 104 105\n",
      "Dimensions without coordinates: d2, ni, nj, nvertices\n",
      "Data variables:\n",
      "    ANGLE        (member_id, nj, ni) float32 dask.array<shape=(40, 104, 320), chunksize=(1, 104, 320)>\n",
      "    ANGLET       (member_id, nj, ni) float32 dask.array<shape=(40, 104, 320), chunksize=(1, 104, 320)>\n",
      "    HTE          (member_id, nj, ni) float32 dask.array<shape=(40, 104, 320), chunksize=(1, 104, 320)>\n",
      "    HTN          (member_id, nj, ni) float32 dask.array<shape=(40, 104, 320), chunksize=(1, 104, 320)>\n",
      "    TLAT         (member_id, nj, ni) float32 dask.array<shape=(40, 104, 320), chunksize=(1, 104, 320)>\n",
      "    TLON         (member_id, nj, ni) float32 dask.array<shape=(40, 104, 320), chunksize=(1, 104, 320)>\n",
      "    ULAT         (member_id, nj, ni) float32 dask.array<shape=(40, 104, 320), chunksize=(1, 104, 320)>\n",
      "    ULON         (member_id, nj, ni) float32 dask.array<shape=(40, 104, 320), chunksize=(1, 104, 320)>\n",
      "    blkmask      (member_id, nj, ni) float32 dask.array<shape=(40, 104, 320), chunksize=(1, 104, 320)>\n",
      "    dxt          (member_id, nj, ni) float32 dask.array<shape=(40, 104, 320), chunksize=(1, 104, 320)>\n",
      "    dxu          (member_id, nj, ni) float32 dask.array<shape=(40, 104, 320), chunksize=(1, 104, 320)>\n",
      "    dyt          (member_id, nj, ni) float32 dask.array<shape=(40, 104, 320), chunksize=(1, 104, 320)>\n",
      "    dyu          (member_id, nj, ni) float32 dask.array<shape=(40, 104, 320), chunksize=(1, 104, 320)>\n",
      "    hi           (member_id, time, nj, ni) float32 dask.array<shape=(40, 1872, 104, 320), chunksize=(1, 24, 104, 320)>\n",
      "    latt_bounds  (member_id, nj, ni, nvertices) float32 dask.array<shape=(40, 104, 320, 4), chunksize=(1, 104, 320, 4)>\n",
      "    latu_bounds  (member_id, nj, ni, nvertices) float32 dask.array<shape=(40, 104, 320, 4), chunksize=(1, 104, 320, 4)>\n",
      "    lont_bounds  (member_id, nj, ni, nvertices) float32 dask.array<shape=(40, 104, 320, 4), chunksize=(1, 104, 320, 4)>\n",
      "    lonu_bounds  (member_id, nj, ni, nvertices) float32 dask.array<shape=(40, 104, 320, 4), chunksize=(1, 104, 320, 4)>\n",
      "    tarea        (member_id, nj, ni) float32 dask.array<shape=(40, 104, 320), chunksize=(1, 104, 320)>\n",
      "    time_bounds  (member_id, time, d2) float32 dask.array<shape=(40, 1872, 2), chunksize=(1, 24, 2)>\n",
      "    tmask        (member_id, nj, ni) float32 dask.array<shape=(40, 104, 320), chunksize=(1, 104, 320)>\n",
      "    uarea        (member_id, nj, ni) float32 dask.array<shape=(40, 104, 320), chunksize=(1, 104, 320)>\n",
      "Attributes:\n",
      "    nco_openmp_thread_number:  1\n",
      "    comment:                   All years have exactly 365 days\n",
      "    comment3:                  seconds elapsed into model date:      0\n",
      "    source:                    sea ice model: Community Ice Code (CICE)\n",
      "    conventions:               CF-1.0\n",
      "    history:                   2019-06-25 12:31:09.232772 xarray.open_dataset...\n",
      "    contents:                  Diagnostic and Prognostic Variables\n",
      "    comment2:                  File written on model date 19200201\n",
      "    NCO:                       4.3.4\n",
      "****************************************************************************************************\n",
      "****************************************************************************************************\n",
      "This query: {'experiment': '20C', 'component': 'ice', 'stream': 'cice.h', 'variable': 'hi_sh'} returned:\n",
      "\n",
      "- 1 unique variable(s)\n",
      "\n",
      "\n",
      "- Number of files: 40\n",
      "\n",
      "\n",
      "- 40 member(s)\n",
      "\n",
      "\n",
      "- 40 case(s)\n",
      "\n",
      "\n"
     ]
    },
    {
     "data": {
      "application/vnd.jupyter.widget-view+json": {
       "model_id": "51af766e40c4487bacce2a9cedbb49e2",
       "version_major": 2,
       "version_minor": 0
      },
      "text/plain": [
       "HBox(children=(IntProgress(value=0, description='dataset', max=1, style=ProgressStyle(description_width='initi…"
      ]
     },
     "metadata": {},
     "output_type": "display_data"
    },
    {
     "data": {
      "application/vnd.jupyter.widget-view+json": {
       "model_id": "ad7b3b0404af49ff92cb7d37e3255bc7",
       "version_major": 2,
       "version_minor": 0
      },
      "text/plain": [
       "HBox(children=(IntProgress(value=0, description='member', max=40, style=ProgressStyle(description_width='initi…"
      ]
     },
     "metadata": {},
     "output_type": "display_data"
    },
    {
     "name": "stderr",
     "output_type": "stream",
     "text": [
      "distributed.utils_perf - WARNING - full garbage collections took 10% CPU time recently (threshold: 10%)\n"
     ]
    },
    {
     "name": "stdout",
     "output_type": "stream",
     "text": [
      "+++++++++++++++++++++++++++++++++++\n",
      "Variable name: hi\n",
      "Chunk shape: (1, 24, 76, 320)\n",
      "Dataset shape: (40, 1872, 76, 320)\n",
      "Chunk size: 2.33 MB\n",
      "Dataset size: 7.41 GB\n",
      "+++++++++++++++++++++++++++++++++++\n",
      "<xarray.Dataset>\n",
      "Dimensions:      (d2: 2, member_id: 40, ni: 320, nj: 76, nvertices: 4, time: 1872)\n",
      "Coordinates:\n",
      "  * time         (time) float64 6.753e+05 6.753e+05 ... 7.322e+05 7.322e+05\n",
      "  * member_id    (member_id) int64 1 2 3 4 5 6 7 8 ... 34 35 101 102 103 104 105\n",
      "Dimensions without coordinates: d2, ni, nj, nvertices\n",
      "Data variables:\n",
      "    ANGLE        (member_id, nj, ni) float32 dask.array<shape=(40, 76, 320), chunksize=(1, 76, 320)>\n",
      "    ANGLET       (member_id, nj, ni) float32 dask.array<shape=(40, 76, 320), chunksize=(1, 76, 320)>\n",
      "    HTE          (member_id, nj, ni) float32 dask.array<shape=(40, 76, 320), chunksize=(1, 76, 320)>\n",
      "    HTN          (member_id, nj, ni) float32 dask.array<shape=(40, 76, 320), chunksize=(1, 76, 320)>\n",
      "    TLAT         (member_id, nj, ni) float32 dask.array<shape=(40, 76, 320), chunksize=(1, 76, 320)>\n",
      "    TLON         (member_id, nj, ni) float32 dask.array<shape=(40, 76, 320), chunksize=(1, 76, 320)>\n",
      "    ULAT         (member_id, nj, ni) float32 dask.array<shape=(40, 76, 320), chunksize=(1, 76, 320)>\n",
      "    ULON         (member_id, nj, ni) float32 dask.array<shape=(40, 76, 320), chunksize=(1, 76, 320)>\n",
      "    blkmask      (member_id, nj, ni) float32 dask.array<shape=(40, 76, 320), chunksize=(1, 76, 320)>\n",
      "    dxt          (member_id, nj, ni) float32 dask.array<shape=(40, 76, 320), chunksize=(1, 76, 320)>\n",
      "    dxu          (member_id, nj, ni) float32 dask.array<shape=(40, 76, 320), chunksize=(1, 76, 320)>\n",
      "    dyt          (member_id, nj, ni) float32 dask.array<shape=(40, 76, 320), chunksize=(1, 76, 320)>\n",
      "    dyu          (member_id, nj, ni) float32 dask.array<shape=(40, 76, 320), chunksize=(1, 76, 320)>\n",
      "    hi           (member_id, time, nj, ni) float32 dask.array<shape=(40, 1872, 76, 320), chunksize=(1, 24, 76, 320)>\n",
      "    latt_bounds  (member_id, nj, ni, nvertices) float32 dask.array<shape=(40, 76, 320, 4), chunksize=(1, 76, 320, 4)>\n",
      "    latu_bounds  (member_id, nj, ni, nvertices) float32 dask.array<shape=(40, 76, 320, 4), chunksize=(1, 76, 320, 4)>\n",
      "    lont_bounds  (member_id, nj, ni, nvertices) float32 dask.array<shape=(40, 76, 320, 4), chunksize=(1, 76, 320, 4)>\n",
      "    lonu_bounds  (member_id, nj, ni, nvertices) float32 dask.array<shape=(40, 76, 320, 4), chunksize=(1, 76, 320, 4)>\n",
      "    tarea        (member_id, nj, ni) float32 dask.array<shape=(40, 76, 320), chunksize=(1, 76, 320)>\n",
      "    time_bounds  (member_id, time, d2) float32 dask.array<shape=(40, 1872, 2), chunksize=(1, 24, 2)>\n",
      "    tmask        (member_id, nj, ni) float32 dask.array<shape=(40, 76, 320), chunksize=(1, 76, 320)>\n",
      "    uarea        (member_id, nj, ni) float32 dask.array<shape=(40, 76, 320), chunksize=(1, 76, 320)>\n",
      "Attributes:\n",
      "    nco_openmp_thread_number:  1\n",
      "    comment:                   All years have exactly 365 days\n",
      "    comment3:                  seconds elapsed into model date:      0\n",
      "    source:                    sea ice model: Community Ice Code (CICE)\n",
      "    conventions:               CF-1.0\n",
      "    history:                   2019-06-25 12:31:18.749010 xarray.open_dataset...\n",
      "    contents:                  Diagnostic and Prognostic Variables\n",
      "    comment2:                  File written on model date 19200201\n",
      "    NCO:                       4.3.4\n",
      "****************************************************************************************************\n",
      "****************************************************************************************************\n",
      "This query: {'experiment': '20C', 'component': 'lnd', 'stream': 'clm2.h0', 'variable': 'FSNO'} returned:\n",
      "\n",
      "- 1 unique variable(s)\n",
      "\n",
      "\n",
      "- Number of files: 40\n",
      "\n",
      "\n",
      "- 40 member(s)\n",
      "\n",
      "\n",
      "- 40 case(s)\n",
      "\n",
      "\n"
     ]
    },
    {
     "data": {
      "application/vnd.jupyter.widget-view+json": {
       "model_id": "e8c790bd045b4d988881ffb8ce744700",
       "version_major": 2,
       "version_minor": 0
      },
      "text/plain": [
       "HBox(children=(IntProgress(value=0, description='dataset', max=1, style=ProgressStyle(description_width='initi…"
      ]
     },
     "metadata": {},
     "output_type": "display_data"
    },
    {
     "data": {
      "application/vnd.jupyter.widget-view+json": {
       "model_id": "46e1d952a57047a39e5f35ac2d804874",
       "version_major": 2,
       "version_minor": 0
      },
      "text/plain": [
       "HBox(children=(IntProgress(value=0, description='member', max=40, style=ProgressStyle(description_width='initi…"
      ]
     },
     "metadata": {},
     "output_type": "display_data"
    },
    {
     "name": "stderr",
     "output_type": "stream",
     "text": [
      "distributed.utils_perf - WARNING - full garbage collections took 10% CPU time recently (threshold: 10%)\n"
     ]
    },
    {
     "name": "stdout",
     "output_type": "stream",
     "text": [
      "+++++++++++++++++++++++++++++++++++\n",
      "Variable name: FSNO\n",
      "Chunk shape: (1, 24, 192, 288)\n",
      "Dataset shape: (40, 1872, 192, 288)\n",
      "Chunk size: 5.31 MB\n",
      "Dataset size: 17.43 GB\n",
      "+++++++++++++++++++++++++++++++++++\n",
      "<xarray.Dataset>\n",
      "Dimensions:       (hist_interval: 2, lat: 192, levgrnd: 15, levlak: 10, lon: 288, member_id: 40, time: 1872)\n",
      "Coordinates:\n",
      "  * time          (time) float64 31.0 59.0 90.0 ... 5.691e+04 5.694e+04\n",
      "  * lat           (lat) float32 -90.0 -89.057594 -88.11518 ... 89.057594 90.0\n",
      "  * levgrnd       (levgrnd) float32 0.007100635 0.027925 ... 21.32647 35.17762\n",
      "  * levlak        (levlak) float32 0.05 0.6 2.1 4.6 ... 18.6 25.6 34.325 44.775\n",
      "  * lon           (lon) float32 0.0 1.25 2.5 3.75 ... 355.0 356.25 357.5 358.75\n",
      "  * member_id     (member_id) int64 1 2 3 4 5 6 7 ... 34 35 101 102 103 104 105\n",
      "Dimensions without coordinates: hist_interval\n",
      "Data variables:\n",
      "    BSW           (member_id, levgrnd, lat, lon) float32 dask.array<shape=(40, 15, 192, 288), chunksize=(1, 15, 192, 288)>\n",
      "    DZSOI         (member_id, levgrnd, lat, lon) float32 dask.array<shape=(40, 15, 192, 288), chunksize=(1, 15, 192, 288)>\n",
      "    FSNO          (member_id, time, lat, lon) float32 dask.array<shape=(40, 1872, 192, 288), chunksize=(1, 24, 192, 288)>\n",
      "    HKSAT         (member_id, levgrnd, lat, lon) float32 dask.array<shape=(40, 15, 192, 288), chunksize=(1, 15, 192, 288)>\n",
      "    SUCSAT        (member_id, levgrnd, lat, lon) float32 dask.array<shape=(40, 15, 192, 288), chunksize=(1, 15, 192, 288)>\n",
      "    WATSAT        (member_id, levgrnd, lat, lon) float32 dask.array<shape=(40, 15, 192, 288), chunksize=(1, 15, 192, 288)>\n",
      "    ZSOI          (member_id, levgrnd, lat, lon) float32 dask.array<shape=(40, 15, 192, 288), chunksize=(1, 15, 192, 288)>\n",
      "    area          (member_id, lat, lon) float32 dask.array<shape=(40, 192, 288), chunksize=(1, 192, 288)>\n",
      "    date_written  (member_id, time) object dask.array<shape=(40, 1872), chunksize=(1, 24)>\n",
      "    landfrac      (member_id, lat, lon) float32 dask.array<shape=(40, 192, 288), chunksize=(1, 192, 288)>\n",
      "    landmask      (member_id, lat, lon) float64 dask.array<shape=(40, 192, 288), chunksize=(1, 192, 288)>\n",
      "    mcdate        (member_id, time) float64 dask.array<shape=(40, 1872), chunksize=(1, 24)>\n",
      "    mcsec         (member_id, time) float64 dask.array<shape=(40, 1872), chunksize=(1, 24)>\n",
      "    mdcur         (member_id, time) float64 dask.array<shape=(40, 1872), chunksize=(1, 24)>\n",
      "    mscur         (member_id, time) float64 dask.array<shape=(40, 1872), chunksize=(1, 24)>\n",
      "    nstep         (member_id, time) float64 dask.array<shape=(40, 1872), chunksize=(1, 24)>\n",
      "    pftmask       (member_id, lat, lon) float64 dask.array<shape=(40, 192, 288), chunksize=(1, 192, 288)>\n",
      "    time_bounds   (member_id, time, hist_interval) float64 dask.array<shape=(40, 1872, 2), chunksize=(1, 24, 2)>\n",
      "    time_written  (member_id, time) object dask.array<shape=(40, 1872), chunksize=(1, 24)>\n",
      "    topo          (member_id, lat, lon) float32 dask.array<shape=(40, 192, 288), chunksize=(1, 192, 288)>\n",
      "Attributes:\n",
      "    nco_openmp_thread_number:             1\n",
      "    version:                              cesm1_1_1_alpha01g\n",
      "    revision_id:                          $Id: histFileMod.F90 40539 2012-09-...\n",
      "    history:                              2019-06-25 12:31:27.921050 xarray.o...\n",
      "    case_title:                           UNSET\n",
      "    Conventions:                          CF-1.0\n",
      "    hostname:                             tcs\n",
      "    PFT_physiological_constants_dataset:  pft-physiology.c110425.nc\n",
      "    comment:                              NOTE: None of the variables are wei...\n",
      "    title:                                CLM History file information\n",
      "    source:                               Community Land Model CLM4.0\n",
      "    Initial_conditions_dataset:           b.e11.B20TRC5CNBDRD.f09_g16.001.clm...\n",
      "    Surface_dataset:                      surfdata_0.9x1.25_simyr1850_c110921.nc\n",
      "    username:                             mudryk\n",
      "    NCO:                                  4.3.4\n",
      "****************************************************************************************************\n",
      "****************************************************************************************************\n",
      "This query: {'experiment': '20C', 'component': 'lnd', 'stream': 'clm2.h0', 'variable': 'H2OSNO'} returned:\n",
      "\n",
      "- 1 unique variable(s)\n",
      "\n",
      "\n",
      "- Number of files: 40\n",
      "\n",
      "\n",
      "- 40 member(s)\n",
      "\n",
      "\n",
      "- 40 case(s)\n",
      "\n",
      "\n"
     ]
    },
    {
     "data": {
      "application/vnd.jupyter.widget-view+json": {
       "model_id": "8ca45932bce847e8a7b395a3e6b3a794",
       "version_major": 2,
       "version_minor": 0
      },
      "text/plain": [
       "HBox(children=(IntProgress(value=0, description='dataset', max=1, style=ProgressStyle(description_width='initi…"
      ]
     },
     "metadata": {},
     "output_type": "display_data"
    },
    {
     "data": {
      "application/vnd.jupyter.widget-view+json": {
       "model_id": "0791091f99a84a9e83a85576038138f1",
       "version_major": 2,
       "version_minor": 0
      },
      "text/plain": [
       "HBox(children=(IntProgress(value=0, description='member', max=40, style=ProgressStyle(description_width='initi…"
      ]
     },
     "metadata": {},
     "output_type": "display_data"
    },
    {
     "name": "stderr",
     "output_type": "stream",
     "text": [
      "distributed.utils_perf - WARNING - full garbage collections took 10% CPU time recently (threshold: 10%)\n",
      "distributed.utils_perf - WARNING - full garbage collections took 10% CPU time recently (threshold: 10%)\n"
     ]
    },
    {
     "name": "stdout",
     "output_type": "stream",
     "text": [
      "+++++++++++++++++++++++++++++++++++\n",
      "Variable name: H2OSNO\n",
      "Chunk shape: (1, 24, 192, 288)\n",
      "Dataset shape: (40, 1872, 192, 288)\n",
      "Chunk size: 5.31 MB\n",
      "Dataset size: 17.43 GB\n",
      "+++++++++++++++++++++++++++++++++++\n",
      "<xarray.Dataset>\n",
      "Dimensions:       (hist_interval: 2, lat: 192, levgrnd: 15, levlak: 10, lon: 288, member_id: 40, time: 1872)\n",
      "Coordinates:\n",
      "  * time          (time) float64 31.0 59.0 90.0 ... 5.691e+04 5.694e+04\n",
      "  * lat           (lat) float32 -90.0 -89.057594 -88.11518 ... 89.057594 90.0\n",
      "  * levgrnd       (levgrnd) float32 0.007100635 0.027925 ... 21.32647 35.17762\n",
      "  * levlak        (levlak) float32 0.05 0.6 2.1 4.6 ... 18.6 25.6 34.325 44.775\n",
      "  * lon           (lon) float32 0.0 1.25 2.5 3.75 ... 355.0 356.25 357.5 358.75\n",
      "  * member_id     (member_id) int64 1 2 3 4 5 6 7 ... 34 35 101 102 103 104 105\n",
      "Dimensions without coordinates: hist_interval\n",
      "Data variables:\n",
      "    BSW           (member_id, levgrnd, lat, lon) float32 dask.array<shape=(40, 15, 192, 288), chunksize=(1, 15, 192, 288)>\n",
      "    DZSOI         (member_id, levgrnd, lat, lon) float32 dask.array<shape=(40, 15, 192, 288), chunksize=(1, 15, 192, 288)>\n",
      "    H2OSNO        (member_id, time, lat, lon) float32 dask.array<shape=(40, 1872, 192, 288), chunksize=(1, 24, 192, 288)>\n",
      "    HKSAT         (member_id, levgrnd, lat, lon) float32 dask.array<shape=(40, 15, 192, 288), chunksize=(1, 15, 192, 288)>\n",
      "    SUCSAT        (member_id, levgrnd, lat, lon) float32 dask.array<shape=(40, 15, 192, 288), chunksize=(1, 15, 192, 288)>\n",
      "    WATSAT        (member_id, levgrnd, lat, lon) float32 dask.array<shape=(40, 15, 192, 288), chunksize=(1, 15, 192, 288)>\n",
      "    ZSOI          (member_id, levgrnd, lat, lon) float32 dask.array<shape=(40, 15, 192, 288), chunksize=(1, 15, 192, 288)>\n",
      "    area          (member_id, lat, lon) float32 dask.array<shape=(40, 192, 288), chunksize=(1, 192, 288)>\n",
      "    date_written  (member_id, time) object dask.array<shape=(40, 1872), chunksize=(1, 24)>\n",
      "    landfrac      (member_id, lat, lon) float32 dask.array<shape=(40, 192, 288), chunksize=(1, 192, 288)>\n",
      "    landmask      (member_id, lat, lon) float64 dask.array<shape=(40, 192, 288), chunksize=(1, 192, 288)>\n",
      "    mcdate        (member_id, time) float64 dask.array<shape=(40, 1872), chunksize=(1, 24)>\n",
      "    mcsec         (member_id, time) float64 dask.array<shape=(40, 1872), chunksize=(1, 24)>\n",
      "    mdcur         (member_id, time) float64 dask.array<shape=(40, 1872), chunksize=(1, 24)>\n",
      "    mscur         (member_id, time) float64 dask.array<shape=(40, 1872), chunksize=(1, 24)>\n",
      "    nstep         (member_id, time) float64 dask.array<shape=(40, 1872), chunksize=(1, 24)>\n",
      "    pftmask       (member_id, lat, lon) float64 dask.array<shape=(40, 192, 288), chunksize=(1, 192, 288)>\n",
      "    time_bounds   (member_id, time, hist_interval) float64 dask.array<shape=(40, 1872, 2), chunksize=(1, 24, 2)>\n",
      "    time_written  (member_id, time) object dask.array<shape=(40, 1872), chunksize=(1, 24)>\n",
      "    topo          (member_id, lat, lon) float32 dask.array<shape=(40, 192, 288), chunksize=(1, 192, 288)>\n",
      "Attributes:\n",
      "    nco_openmp_thread_number:             1\n",
      "    version:                              cesm1_1_1_alpha01g\n",
      "    revision_id:                          $Id: histFileMod.F90 40539 2012-09-...\n",
      "    history:                              2019-06-25 12:31:38.382980 xarray.o...\n",
      "    case_title:                           UNSET\n",
      "    Conventions:                          CF-1.0\n",
      "    hostname:                             tcs\n",
      "    PFT_physiological_constants_dataset:  pft-physiology.c110425.nc\n",
      "    comment:                              NOTE: None of the variables are wei...\n",
      "    title:                                CLM History file information\n",
      "    source:                               Community Land Model CLM4.0\n",
      "    Initial_conditions_dataset:           b.e11.B20TRC5CNBDRD.f09_g16.001.clm...\n",
      "    Surface_dataset:                      surfdata_0.9x1.25_simyr1850_c110921.nc\n",
      "    username:                             mudryk\n",
      "    NCO:                                  4.3.4\n",
      "****************************************************************************************************\n",
      "****************************************************************************************************\n",
      "This query: {'experiment': '20C', 'component': 'lnd', 'stream': 'clm2.h0', 'variable': 'QRUNOFF'} returned:\n",
      "\n",
      "- 1 unique variable(s)\n",
      "\n",
      "\n",
      "- Number of files: 40\n",
      "\n",
      "\n",
      "- 40 member(s)\n",
      "\n",
      "\n",
      "- 40 case(s)\n",
      "\n",
      "\n"
     ]
    },
    {
     "data": {
      "application/vnd.jupyter.widget-view+json": {
       "model_id": "7bc311bc60ad4fffaf10485ab0785aa0",
       "version_major": 2,
       "version_minor": 0
      },
      "text/plain": [
       "HBox(children=(IntProgress(value=0, description='dataset', max=1, style=ProgressStyle(description_width='initi…"
      ]
     },
     "metadata": {},
     "output_type": "display_data"
    },
    {
     "data": {
      "application/vnd.jupyter.widget-view+json": {
       "model_id": "95bd950541074a01bc784c701321e08b",
       "version_major": 2,
       "version_minor": 0
      },
      "text/plain": [
       "HBox(children=(IntProgress(value=0, description='member', max=40, style=ProgressStyle(description_width='initi…"
      ]
     },
     "metadata": {},
     "output_type": "display_data"
    },
    {
     "name": "stderr",
     "output_type": "stream",
     "text": [
      "distributed.utils_perf - WARNING - full garbage collections took 10% CPU time recently (threshold: 10%)\n"
     ]
    },
    {
     "name": "stdout",
     "output_type": "stream",
     "text": [
      "+++++++++++++++++++++++++++++++++++\n",
      "Variable name: QRUNOFF\n",
      "Chunk shape: (1, 24, 192, 288)\n",
      "Dataset shape: (40, 1872, 192, 288)\n",
      "Chunk size: 5.31 MB\n",
      "Dataset size: 17.43 GB\n",
      "+++++++++++++++++++++++++++++++++++\n",
      "<xarray.Dataset>\n",
      "Dimensions:       (hist_interval: 2, lat: 192, levgrnd: 15, levlak: 10, lon: 288, member_id: 40, time: 1872)\n",
      "Coordinates:\n",
      "  * time          (time) float64 31.0 59.0 90.0 ... 5.691e+04 5.694e+04\n",
      "  * lat           (lat) float32 -90.0 -89.057594 -88.11518 ... 89.057594 90.0\n",
      "  * levgrnd       (levgrnd) float32 0.007100635 0.027925 ... 21.32647 35.17762\n",
      "  * levlak        (levlak) float32 0.05 0.6 2.1 4.6 ... 18.6 25.6 34.325 44.775\n",
      "  * lon           (lon) float32 0.0 1.25 2.5 3.75 ... 355.0 356.25 357.5 358.75\n",
      "  * member_id     (member_id) int64 1 2 3 4 5 6 7 ... 34 35 101 102 103 104 105\n",
      "Dimensions without coordinates: hist_interval\n",
      "Data variables:\n",
      "    BSW           (member_id, levgrnd, lat, lon) float32 dask.array<shape=(40, 15, 192, 288), chunksize=(1, 15, 192, 288)>\n",
      "    DZSOI         (member_id, levgrnd, lat, lon) float32 dask.array<shape=(40, 15, 192, 288), chunksize=(1, 15, 192, 288)>\n",
      "    HKSAT         (member_id, levgrnd, lat, lon) float32 dask.array<shape=(40, 15, 192, 288), chunksize=(1, 15, 192, 288)>\n",
      "    QRUNOFF       (member_id, time, lat, lon) float32 dask.array<shape=(40, 1872, 192, 288), chunksize=(1, 24, 192, 288)>\n",
      "    SUCSAT        (member_id, levgrnd, lat, lon) float32 dask.array<shape=(40, 15, 192, 288), chunksize=(1, 15, 192, 288)>\n",
      "    WATSAT        (member_id, levgrnd, lat, lon) float32 dask.array<shape=(40, 15, 192, 288), chunksize=(1, 15, 192, 288)>\n",
      "    ZSOI          (member_id, levgrnd, lat, lon) float32 dask.array<shape=(40, 15, 192, 288), chunksize=(1, 15, 192, 288)>\n",
      "    area          (member_id, lat, lon) float32 dask.array<shape=(40, 192, 288), chunksize=(1, 192, 288)>\n",
      "    date_written  (member_id, time) object dask.array<shape=(40, 1872), chunksize=(1, 24)>\n",
      "    landfrac      (member_id, lat, lon) float32 dask.array<shape=(40, 192, 288), chunksize=(1, 192, 288)>\n",
      "    landmask      (member_id, lat, lon) float64 dask.array<shape=(40, 192, 288), chunksize=(1, 192, 288)>\n",
      "    mcdate        (member_id, time) float64 dask.array<shape=(40, 1872), chunksize=(1, 24)>\n",
      "    mcsec         (member_id, time) float64 dask.array<shape=(40, 1872), chunksize=(1, 24)>\n",
      "    mdcur         (member_id, time) float64 dask.array<shape=(40, 1872), chunksize=(1, 24)>\n",
      "    mscur         (member_id, time) float64 dask.array<shape=(40, 1872), chunksize=(1, 24)>\n",
      "    nstep         (member_id, time) float64 dask.array<shape=(40, 1872), chunksize=(1, 24)>\n",
      "    pftmask       (member_id, lat, lon) float64 dask.array<shape=(40, 192, 288), chunksize=(1, 192, 288)>\n",
      "    time_bounds   (member_id, time, hist_interval) float64 dask.array<shape=(40, 1872, 2), chunksize=(1, 24, 2)>\n",
      "    time_written  (member_id, time) object dask.array<shape=(40, 1872), chunksize=(1, 24)>\n",
      "    topo          (member_id, lat, lon) float32 dask.array<shape=(40, 192, 288), chunksize=(1, 192, 288)>\n",
      "Attributes:\n",
      "    nco_openmp_thread_number:             1\n",
      "    version:                              cesm1_1_1_alpha01g\n",
      "    revision_id:                          $Id: histFileMod.F90 40539 2012-09-...\n",
      "    history:                              2019-06-25 12:31:49.622668 xarray.o...\n",
      "    case_title:                           UNSET\n",
      "    Conventions:                          CF-1.0\n",
      "    hostname:                             tcs\n",
      "    PFT_physiological_constants_dataset:  pft-physiology.c110425.nc\n",
      "    comment:                              NOTE: None of the variables are wei...\n",
      "    title:                                CLM History file information\n",
      "    source:                               Community Land Model CLM4.0\n",
      "    Initial_conditions_dataset:           b.e11.B20TRC5CNBDRD.f09_g16.001.clm...\n",
      "    Surface_dataset:                      surfdata_0.9x1.25_simyr1850_c110921.nc\n",
      "    username:                             mudryk\n",
      "    NCO:                                  4.3.4\n",
      "****************************************************************************************************\n",
      "****************************************************************************************************\n",
      "This query: {'experiment': '20C', 'component': 'lnd', 'stream': 'clm2.h0', 'variable': 'RAIN'} returned:\n",
      "\n",
      "- 1 unique variable(s)\n",
      "\n",
      "\n",
      "- Number of files: 40\n",
      "\n",
      "\n",
      "- 40 member(s)\n",
      "\n",
      "\n",
      "- 40 case(s)\n",
      "\n",
      "\n"
     ]
    },
    {
     "data": {
      "application/vnd.jupyter.widget-view+json": {
       "model_id": "5a8fd361aa7948d39435f56547570e59",
       "version_major": 2,
       "version_minor": 0
      },
      "text/plain": [
       "HBox(children=(IntProgress(value=0, description='dataset', max=1, style=ProgressStyle(description_width='initi…"
      ]
     },
     "metadata": {},
     "output_type": "display_data"
    },
    {
     "data": {
      "application/vnd.jupyter.widget-view+json": {
       "model_id": "060b0214406a4bdea73f08fe37efc140",
       "version_major": 2,
       "version_minor": 0
      },
      "text/plain": [
       "HBox(children=(IntProgress(value=0, description='member', max=40, style=ProgressStyle(description_width='initi…"
      ]
     },
     "metadata": {},
     "output_type": "display_data"
    },
    {
     "name": "stderr",
     "output_type": "stream",
     "text": [
      "distributed.utils_perf - WARNING - full garbage collections took 10% CPU time recently (threshold: 10%)\n",
      "distributed.utils_perf - WARNING - full garbage collections took 10% CPU time recently (threshold: 10%)\n"
     ]
    },
    {
     "name": "stdout",
     "output_type": "stream",
     "text": [
      "+++++++++++++++++++++++++++++++++++\n",
      "Variable name: RAIN\n",
      "Chunk shape: (1, 24, 192, 288)\n",
      "Dataset shape: (40, 1872, 192, 288)\n",
      "Chunk size: 5.31 MB\n",
      "Dataset size: 17.43 GB\n",
      "+++++++++++++++++++++++++++++++++++\n",
      "<xarray.Dataset>\n",
      "Dimensions:       (hist_interval: 2, lat: 192, levgrnd: 15, levlak: 10, lon: 288, member_id: 40, time: 1872)\n",
      "Coordinates:\n",
      "  * time          (time) float64 31.0 59.0 90.0 ... 5.691e+04 5.694e+04\n",
      "  * lat           (lat) float32 -90.0 -89.057594 -88.11518 ... 89.057594 90.0\n",
      "  * levgrnd       (levgrnd) float32 0.007100635 0.027925 ... 21.32647 35.17762\n",
      "  * levlak        (levlak) float32 0.05 0.6 2.1 4.6 ... 18.6 25.6 34.325 44.775\n",
      "  * lon           (lon) float32 0.0 1.25 2.5 3.75 ... 355.0 356.25 357.5 358.75\n",
      "  * member_id     (member_id) int64 1 2 3 4 5 6 7 ... 34 35 101 102 103 104 105\n",
      "Dimensions without coordinates: hist_interval\n",
      "Data variables:\n",
      "    BSW           (member_id, levgrnd, lat, lon) float32 dask.array<shape=(40, 15, 192, 288), chunksize=(1, 15, 192, 288)>\n",
      "    DZSOI         (member_id, levgrnd, lat, lon) float32 dask.array<shape=(40, 15, 192, 288), chunksize=(1, 15, 192, 288)>\n",
      "    HKSAT         (member_id, levgrnd, lat, lon) float32 dask.array<shape=(40, 15, 192, 288), chunksize=(1, 15, 192, 288)>\n",
      "    RAIN          (member_id, time, lat, lon) float32 dask.array<shape=(40, 1872, 192, 288), chunksize=(1, 24, 192, 288)>\n",
      "    SUCSAT        (member_id, levgrnd, lat, lon) float32 dask.array<shape=(40, 15, 192, 288), chunksize=(1, 15, 192, 288)>\n",
      "    WATSAT        (member_id, levgrnd, lat, lon) float32 dask.array<shape=(40, 15, 192, 288), chunksize=(1, 15, 192, 288)>\n",
      "    ZSOI          (member_id, levgrnd, lat, lon) float32 dask.array<shape=(40, 15, 192, 288), chunksize=(1, 15, 192, 288)>\n",
      "    area          (member_id, lat, lon) float32 dask.array<shape=(40, 192, 288), chunksize=(1, 192, 288)>\n",
      "    date_written  (member_id, time) object dask.array<shape=(40, 1872), chunksize=(1, 24)>\n",
      "    landfrac      (member_id, lat, lon) float32 dask.array<shape=(40, 192, 288), chunksize=(1, 192, 288)>\n",
      "    landmask      (member_id, lat, lon) float64 dask.array<shape=(40, 192, 288), chunksize=(1, 192, 288)>\n",
      "    mcdate        (member_id, time) float64 dask.array<shape=(40, 1872), chunksize=(1, 24)>\n",
      "    mcsec         (member_id, time) float64 dask.array<shape=(40, 1872), chunksize=(1, 24)>\n",
      "    mdcur         (member_id, time) float64 dask.array<shape=(40, 1872), chunksize=(1, 24)>\n",
      "    mscur         (member_id, time) float64 dask.array<shape=(40, 1872), chunksize=(1, 24)>\n",
      "    nstep         (member_id, time) float64 dask.array<shape=(40, 1872), chunksize=(1, 24)>\n",
      "    pftmask       (member_id, lat, lon) float64 dask.array<shape=(40, 192, 288), chunksize=(1, 192, 288)>\n",
      "    time_bounds   (member_id, time, hist_interval) float64 dask.array<shape=(40, 1872, 2), chunksize=(1, 24, 2)>\n",
      "    time_written  (member_id, time) object dask.array<shape=(40, 1872), chunksize=(1, 24)>\n",
      "    topo          (member_id, lat, lon) float32 dask.array<shape=(40, 192, 288), chunksize=(1, 192, 288)>\n",
      "Attributes:\n",
      "    nco_openmp_thread_number:             1\n",
      "    version:                              cesm1_1_1_alpha01g\n",
      "    revision_id:                          $Id: histFileMod.F90 40539 2012-09-...\n",
      "    history:                              2019-06-25 12:32:00.193703 xarray.o...\n",
      "    case_title:                           UNSET\n",
      "    Conventions:                          CF-1.0\n",
      "    hostname:                             tcs\n",
      "    PFT_physiological_constants_dataset:  pft-physiology.c110425.nc\n",
      "    comment:                              NOTE: None of the variables are wei...\n",
      "    title:                                CLM History file information\n",
      "    source:                               Community Land Model CLM4.0\n",
      "    Initial_conditions_dataset:           b.e11.B20TRC5CNBDRD.f09_g16.001.clm...\n",
      "    Surface_dataset:                      surfdata_0.9x1.25_simyr1850_c110921.nc\n",
      "    username:                             mudryk\n",
      "    NCO:                                  4.3.4\n",
      "****************************************************************************************************\n",
      "****************************************************************************************************\n",
      "This query: {'experiment': '20C', 'component': 'lnd', 'stream': 'clm2.h0', 'variable': 'SNOW'} returned:\n",
      "\n",
      "- 1 unique variable(s)\n",
      "\n",
      "\n",
      "- Number of files: 40\n",
      "\n",
      "\n",
      "- 40 member(s)\n",
      "\n",
      "\n",
      "- 40 case(s)\n",
      "\n",
      "\n"
     ]
    },
    {
     "data": {
      "application/vnd.jupyter.widget-view+json": {
       "model_id": "e82173ca2b844545815f068bd9aaa282",
       "version_major": 2,
       "version_minor": 0
      },
      "text/plain": [
       "HBox(children=(IntProgress(value=0, description='dataset', max=1, style=ProgressStyle(description_width='initi…"
      ]
     },
     "metadata": {},
     "output_type": "display_data"
    },
    {
     "data": {
      "application/vnd.jupyter.widget-view+json": {
       "model_id": "f3c9bae4e7af409cb58157f3c1e7eb86",
       "version_major": 2,
       "version_minor": 0
      },
      "text/plain": [
       "HBox(children=(IntProgress(value=0, description='member', max=40, style=ProgressStyle(description_width='initi…"
      ]
     },
     "metadata": {},
     "output_type": "display_data"
    },
    {
     "name": "stderr",
     "output_type": "stream",
     "text": [
      "distributed.utils_perf - WARNING - full garbage collections took 10% CPU time recently (threshold: 10%)\n",
      "distributed.utils_perf - WARNING - full garbage collections took 10% CPU time recently (threshold: 10%)\n"
     ]
    },
    {
     "name": "stdout",
     "output_type": "stream",
     "text": [
      "+++++++++++++++++++++++++++++++++++\n",
      "Variable name: SNOW\n",
      "Chunk shape: (1, 24, 192, 288)\n",
      "Dataset shape: (40, 1872, 192, 288)\n",
      "Chunk size: 5.31 MB\n",
      "Dataset size: 17.43 GB\n",
      "+++++++++++++++++++++++++++++++++++\n",
      "<xarray.Dataset>\n",
      "Dimensions:       (hist_interval: 2, lat: 192, levgrnd: 15, levlak: 10, lon: 288, member_id: 40, time: 1872)\n",
      "Coordinates:\n",
      "  * time          (time) float64 31.0 59.0 90.0 ... 5.691e+04 5.694e+04\n",
      "  * lat           (lat) float32 -90.0 -89.057594 -88.11518 ... 89.057594 90.0\n",
      "  * levgrnd       (levgrnd) float32 0.007100635 0.027925 ... 21.32647 35.17762\n",
      "  * levlak        (levlak) float32 0.05 0.6 2.1 4.6 ... 18.6 25.6 34.325 44.775\n",
      "  * lon           (lon) float32 0.0 1.25 2.5 3.75 ... 355.0 356.25 357.5 358.75\n",
      "  * member_id     (member_id) int64 1 2 3 4 5 6 7 ... 34 35 101 102 103 104 105\n",
      "Dimensions without coordinates: hist_interval\n",
      "Data variables:\n",
      "    BSW           (member_id, levgrnd, lat, lon) float32 dask.array<shape=(40, 15, 192, 288), chunksize=(1, 15, 192, 288)>\n",
      "    DZSOI         (member_id, levgrnd, lat, lon) float32 dask.array<shape=(40, 15, 192, 288), chunksize=(1, 15, 192, 288)>\n",
      "    HKSAT         (member_id, levgrnd, lat, lon) float32 dask.array<shape=(40, 15, 192, 288), chunksize=(1, 15, 192, 288)>\n",
      "    SNOW          (member_id, time, lat, lon) float32 dask.array<shape=(40, 1872, 192, 288), chunksize=(1, 24, 192, 288)>\n",
      "    SUCSAT        (member_id, levgrnd, lat, lon) float32 dask.array<shape=(40, 15, 192, 288), chunksize=(1, 15, 192, 288)>\n",
      "    WATSAT        (member_id, levgrnd, lat, lon) float32 dask.array<shape=(40, 15, 192, 288), chunksize=(1, 15, 192, 288)>\n",
      "    ZSOI          (member_id, levgrnd, lat, lon) float32 dask.array<shape=(40, 15, 192, 288), chunksize=(1, 15, 192, 288)>\n",
      "    area          (member_id, lat, lon) float32 dask.array<shape=(40, 192, 288), chunksize=(1, 192, 288)>\n",
      "    date_written  (member_id, time) object dask.array<shape=(40, 1872), chunksize=(1, 24)>\n",
      "    landfrac      (member_id, lat, lon) float32 dask.array<shape=(40, 192, 288), chunksize=(1, 192, 288)>\n",
      "    landmask      (member_id, lat, lon) float64 dask.array<shape=(40, 192, 288), chunksize=(1, 192, 288)>\n",
      "    mcdate        (member_id, time) float64 dask.array<shape=(40, 1872), chunksize=(1, 24)>\n",
      "    mcsec         (member_id, time) float64 dask.array<shape=(40, 1872), chunksize=(1, 24)>\n",
      "    mdcur         (member_id, time) float64 dask.array<shape=(40, 1872), chunksize=(1, 24)>\n",
      "    mscur         (member_id, time) float64 dask.array<shape=(40, 1872), chunksize=(1, 24)>\n",
      "    nstep         (member_id, time) float64 dask.array<shape=(40, 1872), chunksize=(1, 24)>\n",
      "    pftmask       (member_id, lat, lon) float64 dask.array<shape=(40, 192, 288), chunksize=(1, 192, 288)>\n",
      "    time_bounds   (member_id, time, hist_interval) float64 dask.array<shape=(40, 1872, 2), chunksize=(1, 24, 2)>\n",
      "    time_written  (member_id, time) object dask.array<shape=(40, 1872), chunksize=(1, 24)>\n",
      "    topo          (member_id, lat, lon) float32 dask.array<shape=(40, 192, 288), chunksize=(1, 192, 288)>\n",
      "Attributes:\n",
      "    nco_openmp_thread_number:             1\n",
      "    version:                              cesm1_1_1_alpha01g\n",
      "    revision_id:                          $Id: histFileMod.F90 40539 2012-09-...\n",
      "    history:                              2019-06-25 12:32:11.465139 xarray.o...\n",
      "    case_title:                           UNSET\n",
      "    Conventions:                          CF-1.0\n",
      "    hostname:                             tcs\n",
      "    PFT_physiological_constants_dataset:  pft-physiology.c110425.nc\n",
      "    comment:                              NOTE: None of the variables are wei...\n",
      "    title:                                CLM History file information\n",
      "    source:                               Community Land Model CLM4.0\n",
      "    Initial_conditions_dataset:           b.e11.B20TRC5CNBDRD.f09_g16.001.clm...\n",
      "    Surface_dataset:                      surfdata_0.9x1.25_simyr1850_c110921.nc\n",
      "    username:                             mudryk\n",
      "    NCO:                                  4.3.4\n",
      "****************************************************************************************************\n",
      "****************************************************************************************************\n",
      "This query: {'experiment': '20C', 'component': 'lnd', 'stream': 'clm2.h0', 'variable': 'SOILLIQ'} returned:\n",
      "\n",
      "- 1 unique variable(s)\n",
      "\n",
      "\n",
      "- Number of files: 40\n",
      "\n",
      "\n",
      "- 40 member(s)\n",
      "\n",
      "\n",
      "- 40 case(s)\n",
      "\n",
      "\n"
     ]
    },
    {
     "data": {
      "application/vnd.jupyter.widget-view+json": {
       "model_id": "05ef4ddfb85d4e22a9f469151e1c56dd",
       "version_major": 2,
       "version_minor": 0
      },
      "text/plain": [
       "HBox(children=(IntProgress(value=0, description='dataset', max=1, style=ProgressStyle(description_width='initi…"
      ]
     },
     "metadata": {},
     "output_type": "display_data"
    },
    {
     "data": {
      "application/vnd.jupyter.widget-view+json": {
       "model_id": "068c449cbe204b02b5172865d089acf7",
       "version_major": 2,
       "version_minor": 0
      },
      "text/plain": [
       "HBox(children=(IntProgress(value=0, description='member', max=40, style=ProgressStyle(description_width='initi…"
      ]
     },
     "metadata": {},
     "output_type": "display_data"
    },
    {
     "name": "stderr",
     "output_type": "stream",
     "text": [
      "distributed.utils_perf - WARNING - full garbage collections took 10% CPU time recently (threshold: 10%)\n"
     ]
    },
    {
     "name": "stdout",
     "output_type": "stream",
     "text": [
      "+++++++++++++++++++++++++++++++++++\n",
      "Variable name: SOILLIQ\n",
      "Chunk shape: (1, 24, 15, 192, 288)\n",
      "Dataset shape: (40, 1872, 15, 192, 288)\n",
      "Chunk size: 79.63 MB\n",
      "Dataset size: 249.30 GB\n",
      "+++++++++++++++++++++++++++++++++++\n",
      "<xarray.Dataset>\n",
      "Dimensions:       (hist_interval: 2, lat: 192, levgrnd: 15, levlak: 10, lon: 288, member_id: 40, time: 1872)\n",
      "Coordinates:\n",
      "  * time          (time) float64 31.0 59.0 90.0 ... 5.691e+04 5.694e+04\n",
      "  * lat           (lat) float32 -90.0 -89.057594 -88.11518 ... 89.057594 90.0\n",
      "  * levgrnd       (levgrnd) float32 0.007100635 0.027925 ... 21.32647 35.17762\n",
      "  * levlak        (levlak) float32 0.05 0.6 2.1 4.6 ... 18.6 25.6 34.325 44.775\n",
      "  * lon           (lon) float32 0.0 1.25 2.5 3.75 ... 355.0 356.25 357.5 358.75\n",
      "  * member_id     (member_id) int64 1 2 3 4 5 6 7 ... 34 35 101 102 103 104 105\n",
      "Dimensions without coordinates: hist_interval\n",
      "Data variables:\n",
      "    BSW           (member_id, levgrnd, lat, lon) float32 dask.array<shape=(40, 15, 192, 288), chunksize=(1, 15, 192, 288)>\n",
      "    DZSOI         (member_id, levgrnd, lat, lon) float32 dask.array<shape=(40, 15, 192, 288), chunksize=(1, 15, 192, 288)>\n",
      "    HKSAT         (member_id, levgrnd, lat, lon) float32 dask.array<shape=(40, 15, 192, 288), chunksize=(1, 15, 192, 288)>\n",
      "    SOILLIQ       (member_id, time, levgrnd, lat, lon) float32 dask.array<shape=(40, 1872, 15, 192, 288), chunksize=(1, 24, 15, 192, 288)>\n",
      "    SUCSAT        (member_id, levgrnd, lat, lon) float32 dask.array<shape=(40, 15, 192, 288), chunksize=(1, 15, 192, 288)>\n",
      "    WATSAT        (member_id, levgrnd, lat, lon) float32 dask.array<shape=(40, 15, 192, 288), chunksize=(1, 15, 192, 288)>\n",
      "    ZSOI          (member_id, levgrnd, lat, lon) float32 dask.array<shape=(40, 15, 192, 288), chunksize=(1, 15, 192, 288)>\n",
      "    area          (member_id, lat, lon) float32 dask.array<shape=(40, 192, 288), chunksize=(1, 192, 288)>\n",
      "    date_written  (member_id, time) object dask.array<shape=(40, 1872), chunksize=(1, 24)>\n",
      "    landfrac      (member_id, lat, lon) float32 dask.array<shape=(40, 192, 288), chunksize=(1, 192, 288)>\n",
      "    landmask      (member_id, lat, lon) float64 dask.array<shape=(40, 192, 288), chunksize=(1, 192, 288)>\n",
      "    mcdate        (member_id, time) float64 dask.array<shape=(40, 1872), chunksize=(1, 24)>\n",
      "    mcsec         (member_id, time) float64 dask.array<shape=(40, 1872), chunksize=(1, 24)>\n",
      "    mdcur         (member_id, time) float64 dask.array<shape=(40, 1872), chunksize=(1, 24)>\n",
      "    mscur         (member_id, time) float64 dask.array<shape=(40, 1872), chunksize=(1, 24)>\n",
      "    nstep         (member_id, time) float64 dask.array<shape=(40, 1872), chunksize=(1, 24)>\n",
      "    pftmask       (member_id, lat, lon) float64 dask.array<shape=(40, 192, 288), chunksize=(1, 192, 288)>\n",
      "    time_bounds   (member_id, time, hist_interval) float64 dask.array<shape=(40, 1872, 2), chunksize=(1, 24, 2)>\n",
      "    time_written  (member_id, time) object dask.array<shape=(40, 1872), chunksize=(1, 24)>\n",
      "    topo          (member_id, lat, lon) float32 dask.array<shape=(40, 192, 288), chunksize=(1, 192, 288)>\n",
      "Attributes:\n",
      "    nco_openmp_thread_number:             1\n",
      "    version:                              cesm1_1_1_alpha01g\n",
      "    revision_id:                          $Id: histFileMod.F90 40539 2012-09-...\n",
      "    history:                              2019-06-25 12:32:23.095995 xarray.o...\n",
      "    case_title:                           UNSET\n",
      "    Conventions:                          CF-1.0\n",
      "    hostname:                             tcs\n",
      "    PFT_physiological_constants_dataset:  pft-physiology.c110425.nc\n",
      "    comment:                              NOTE: None of the variables are wei...\n",
      "    title:                                CLM History file information\n",
      "    source:                               Community Land Model CLM4.0\n",
      "    Initial_conditions_dataset:           b.e11.B20TRC5CNBDRD.f09_g16.001.clm...\n",
      "    Surface_dataset:                      surfdata_0.9x1.25_simyr1850_c110921.nc\n",
      "    username:                             mudryk\n",
      "    NCO:                                  4.3.4\n",
      "****************************************************************************************************\n",
      "****************************************************************************************************\n",
      "This query: {'experiment': '20C', 'component': 'lnd', 'stream': 'clm2.h0', 'variable': 'SOILWATER_10CM'} returned:\n",
      "\n",
      "- 1 unique variable(s)\n",
      "\n",
      "\n",
      "- Number of files: 40\n",
      "\n",
      "\n",
      "- 40 member(s)\n",
      "\n",
      "\n",
      "- 40 case(s)\n",
      "\n",
      "\n"
     ]
    },
    {
     "data": {
      "application/vnd.jupyter.widget-view+json": {
       "model_id": "a7dfd6fc004f4460b6fe704e7c46d0e2",
       "version_major": 2,
       "version_minor": 0
      },
      "text/plain": [
       "HBox(children=(IntProgress(value=0, description='dataset', max=1, style=ProgressStyle(description_width='initi…"
      ]
     },
     "metadata": {},
     "output_type": "display_data"
    },
    {
     "data": {
      "application/vnd.jupyter.widget-view+json": {
       "model_id": "5f94eef9dddd4deca73b3041508832ad",
       "version_major": 2,
       "version_minor": 0
      },
      "text/plain": [
       "HBox(children=(IntProgress(value=0, description='member', max=40, style=ProgressStyle(description_width='initi…"
      ]
     },
     "metadata": {},
     "output_type": "display_data"
    },
    {
     "name": "stderr",
     "output_type": "stream",
     "text": [
      "distributed.utils_perf - WARNING - full garbage collections took 10% CPU time recently (threshold: 10%)\n"
     ]
    },
    {
     "name": "stdout",
     "output_type": "stream",
     "text": [
      "+++++++++++++++++++++++++++++++++++\n",
      "Variable name: SOILWATER_10CM\n",
      "Chunk shape: (1, 24, 192, 288)\n",
      "Dataset shape: (40, 1872, 192, 288)\n",
      "Chunk size: 5.31 MB\n",
      "Dataset size: 17.43 GB\n",
      "+++++++++++++++++++++++++++++++++++\n",
      "<xarray.Dataset>\n",
      "Dimensions:         (hist_interval: 2, lat: 192, levgrnd: 15, levlak: 10, lon: 288, member_id: 40, time: 1872)\n",
      "Coordinates:\n",
      "  * time            (time) float64 31.0 59.0 90.0 ... 5.691e+04 5.694e+04\n",
      "  * lat             (lat) float32 -90.0 -89.057594 -88.11518 ... 89.057594 90.0\n",
      "  * levgrnd         (levgrnd) float32 0.007100635 0.027925 ... 21.32647 35.17762\n",
      "  * levlak          (levlak) float32 0.05 0.6 2.1 4.6 ... 25.6 34.325 44.775\n",
      "  * lon             (lon) float32 0.0 1.25 2.5 3.75 ... 356.25 357.5 358.75\n",
      "  * member_id       (member_id) int64 1 2 3 4 5 6 7 ... 35 101 102 103 104 105\n",
      "Dimensions without coordinates: hist_interval\n",
      "Data variables:\n",
      "    BSW             (member_id, levgrnd, lat, lon) float32 dask.array<shape=(40, 15, 192, 288), chunksize=(1, 15, 192, 288)>\n",
      "    DZSOI           (member_id, levgrnd, lat, lon) float32 dask.array<shape=(40, 15, 192, 288), chunksize=(1, 15, 192, 288)>\n",
      "    HKSAT           (member_id, levgrnd, lat, lon) float32 dask.array<shape=(40, 15, 192, 288), chunksize=(1, 15, 192, 288)>\n",
      "    SOILWATER_10CM  (member_id, time, lat, lon) float32 dask.array<shape=(40, 1872, 192, 288), chunksize=(1, 24, 192, 288)>\n",
      "    SUCSAT          (member_id, levgrnd, lat, lon) float32 dask.array<shape=(40, 15, 192, 288), chunksize=(1, 15, 192, 288)>\n",
      "    WATSAT          (member_id, levgrnd, lat, lon) float32 dask.array<shape=(40, 15, 192, 288), chunksize=(1, 15, 192, 288)>\n",
      "    ZSOI            (member_id, levgrnd, lat, lon) float32 dask.array<shape=(40, 15, 192, 288), chunksize=(1, 15, 192, 288)>\n",
      "    area            (member_id, lat, lon) float32 dask.array<shape=(40, 192, 288), chunksize=(1, 192, 288)>\n",
      "    date_written    (member_id, time) object dask.array<shape=(40, 1872), chunksize=(1, 24)>\n",
      "    landfrac        (member_id, lat, lon) float32 dask.array<shape=(40, 192, 288), chunksize=(1, 192, 288)>\n",
      "    landmask        (member_id, lat, lon) float64 dask.array<shape=(40, 192, 288), chunksize=(1, 192, 288)>\n",
      "    mcdate          (member_id, time) float64 dask.array<shape=(40, 1872), chunksize=(1, 24)>\n",
      "    mcsec           (member_id, time) float64 dask.array<shape=(40, 1872), chunksize=(1, 24)>\n",
      "    mdcur           (member_id, time) float64 dask.array<shape=(40, 1872), chunksize=(1, 24)>\n",
      "    mscur           (member_id, time) float64 dask.array<shape=(40, 1872), chunksize=(1, 24)>\n",
      "    nstep           (member_id, time) float64 dask.array<shape=(40, 1872), chunksize=(1, 24)>\n",
      "    pftmask         (member_id, lat, lon) float64 dask.array<shape=(40, 192, 288), chunksize=(1, 192, 288)>\n",
      "    time_bounds     (member_id, time, hist_interval) float64 dask.array<shape=(40, 1872, 2), chunksize=(1, 24, 2)>\n",
      "    time_written    (member_id, time) object dask.array<shape=(40, 1872), chunksize=(1, 24)>\n",
      "    topo            (member_id, lat, lon) float32 dask.array<shape=(40, 192, 288), chunksize=(1, 192, 288)>\n",
      "Attributes:\n",
      "    nco_openmp_thread_number:             1\n",
      "    version:                              cesm1_1_1_alpha01g\n",
      "    revision_id:                          $Id: histFileMod.F90 40539 2012-09-...\n",
      "    history:                              2019-06-25 12:32:33.679644 xarray.o...\n",
      "    case_title:                           UNSET\n",
      "    Conventions:                          CF-1.0\n",
      "    hostname:                             tcs\n",
      "    PFT_physiological_constants_dataset:  pft-physiology.c110425.nc\n",
      "    comment:                              NOTE: None of the variables are wei...\n",
      "    title:                                CLM History file information\n",
      "    source:                               Community Land Model CLM4.0\n",
      "    Initial_conditions_dataset:           b.e11.B20TRC5CNBDRD.f09_g16.001.clm...\n",
      "    Surface_dataset:                      surfdata_0.9x1.25_simyr1850_c110921.nc\n",
      "    username:                             mudryk\n",
      "    NCO:                                  4.3.4\n",
      "****************************************************************************************************\n",
      "****************************************************************************************************\n",
      "This query: {'experiment': '20C', 'component': 'lnd', 'stream': 'clm2.h1', 'variable': 'FSNO'} returned:\n",
      "\n",
      "- 1 unique variable(s)\n",
      "\n",
      "\n",
      "- Number of files: 40\n",
      "\n",
      "\n",
      "- 40 member(s)\n",
      "\n",
      "\n",
      "- 40 case(s)\n",
      "\n",
      "\n"
     ]
    },
    {
     "data": {
      "application/vnd.jupyter.widget-view+json": {
       "model_id": "b26c8f1949bb45ed8afd6441f9f0379d",
       "version_major": 2,
       "version_minor": 0
      },
      "text/plain": [
       "HBox(children=(IntProgress(value=0, description='dataset', max=1, style=ProgressStyle(description_width='initi…"
      ]
     },
     "metadata": {},
     "output_type": "display_data"
    },
    {
     "data": {
      "application/vnd.jupyter.widget-view+json": {
       "model_id": "2df03759fa4248189e41e4da2c84e051",
       "version_major": 2,
       "version_minor": 0
      },
      "text/plain": [
       "HBox(children=(IntProgress(value=0, description='member', max=40, style=ProgressStyle(description_width='initi…"
      ]
     },
     "metadata": {},
     "output_type": "display_data"
    },
    {
     "name": "stderr",
     "output_type": "stream",
     "text": [
      "distributed.utils_perf - WARNING - full garbage collections took 10% CPU time recently (threshold: 10%)\n",
      "distributed.utils_perf - WARNING - full garbage collections took 10% CPU time recently (threshold: 10%)\n",
      "distributed.utils_perf - WARNING - full garbage collections took 10% CPU time recently (threshold: 10%)\n",
      "distributed.utils_perf - WARNING - full garbage collections took 10% CPU time recently (threshold: 10%)\n",
      "distributed.utils_perf - WARNING - full garbage collections took 10% CPU time recently (threshold: 10%)\n",
      "distributed.utils_perf - WARNING - full garbage collections took 10% CPU time recently (threshold: 10%)\n"
     ]
    },
    {
     "name": "stdout",
     "output_type": "stream",
     "text": [
      "+++++++++++++++++++++++++++++++++++\n",
      "Variable name: FSNO\n",
      "Chunk shape: (1, 100, 192, 288)\n",
      "Dataset shape: (40, 56940, 192, 288)\n",
      "Chunk size: 22.12 MB\n",
      "Dataset size: 504.00 GB\n",
      "+++++++++++++++++++++++++++++++++++\n",
      "<xarray.Dataset>\n",
      "Dimensions:       (hist_interval: 2, lat: 192, levgrnd: 15, levlak: 10, lon: 288, member_id: 40, time: 56940)\n",
      "Coordinates:\n",
      "  * time          (time) float64 0.0 1.0 2.0 ... 5.694e+04 5.694e+04 5.694e+04\n",
      "  * lat           (lat) float32 -90.0 -89.057594 -88.11518 ... 89.057594 90.0\n",
      "  * levgrnd       (levgrnd) float32 0.007100635 0.027925 ... 21.32647 35.17762\n",
      "  * levlak        (levlak) float32 0.05 0.6 2.1 4.6 ... 18.6 25.6 34.325 44.775\n",
      "  * lon           (lon) float32 0.0 1.25 2.5 3.75 ... 355.0 356.25 357.5 358.75\n",
      "  * member_id     (member_id) int64 1 2 3 4 5 6 7 ... 34 35 101 102 103 104 105\n",
      "Dimensions without coordinates: hist_interval\n",
      "Data variables:\n",
      "    FSNO          (member_id, time, lat, lon) float32 dask.array<shape=(40, 56940, 192, 288), chunksize=(1, 100, 192, 288)>\n",
      "    area          (member_id, lat, lon) float32 dask.array<shape=(40, 192, 288), chunksize=(1, 192, 288)>\n",
      "    date_written  (member_id, time) object dask.array<shape=(40, 56940), chunksize=(1, 100)>\n",
      "    landfrac      (member_id, lat, lon) float32 dask.array<shape=(40, 192, 288), chunksize=(1, 192, 288)>\n",
      "    landmask      (member_id, lat, lon) float64 dask.array<shape=(40, 192, 288), chunksize=(1, 192, 288)>\n",
      "    mcdate        (member_id, time) float64 dask.array<shape=(40, 56940), chunksize=(1, 100)>\n",
      "    mcsec         (member_id, time) float64 dask.array<shape=(40, 56940), chunksize=(1, 100)>\n",
      "    mdcur         (member_id, time) float64 dask.array<shape=(40, 56940), chunksize=(1, 100)>\n",
      "    mscur         (member_id, time) float64 dask.array<shape=(40, 56940), chunksize=(1, 100)>\n",
      "    nstep         (member_id, time) float64 dask.array<shape=(40, 56940), chunksize=(1, 100)>\n",
      "    pftmask       (member_id, lat, lon) float64 dask.array<shape=(40, 192, 288), chunksize=(1, 192, 288)>\n",
      "    time_bounds   (member_id, time, hist_interval) float64 dask.array<shape=(40, 56940, 2), chunksize=(1, 100, 2)>\n",
      "    time_written  (member_id, time) object dask.array<shape=(40, 56940), chunksize=(1, 100)>\n",
      "    topo          (member_id, lat, lon) float32 dask.array<shape=(40, 192, 288), chunksize=(1, 192, 288)>\n",
      "Attributes:\n",
      "    nco_openmp_thread_number:             1\n",
      "    version:                              cesm1_1_1_alpha01g\n",
      "    revision_id:                          $Id: histFileMod.F90 40539 2012-09-...\n",
      "    history:                              2019-06-25 12:32:45.655791 xarray.o...\n",
      "    case_title:                           UNSET\n",
      "    Conventions:                          CF-1.0\n",
      "    hostname:                             tcs\n",
      "    PFT_physiological_constants_dataset:  pft-physiology.c110425.nc\n",
      "    comment:                              NOTE: None of the variables are wei...\n",
      "    title:                                CLM History file information\n",
      "    source:                               Community Land Model CLM4.0\n",
      "    Initial_conditions_dataset:           b.e11.B20TRC5CNBDRD.f09_g16.001.clm...\n",
      "    Surface_dataset:                      surfdata_0.9x1.25_simyr1850_c110921.nc\n",
      "    username:                             mudryk\n",
      "    NCO:                                  4.4.2\n",
      "****************************************************************************************************\n",
      "****************************************************************************************************\n",
      "This query: {'experiment': '20C', 'component': 'lnd', 'stream': 'clm2.h1', 'variable': 'H2OSNO'} returned:\n",
      "\n",
      "- 1 unique variable(s)\n",
      "\n",
      "\n",
      "- Number of files: 40\n",
      "\n",
      "\n",
      "- 40 member(s)\n",
      "\n",
      "\n",
      "- 40 case(s)\n",
      "\n",
      "\n"
     ]
    },
    {
     "data": {
      "application/vnd.jupyter.widget-view+json": {
       "model_id": "50984589554a4827b2acf787cce25e03",
       "version_major": 2,
       "version_minor": 0
      },
      "text/plain": [
       "HBox(children=(IntProgress(value=0, description='dataset', max=1, style=ProgressStyle(description_width='initi…"
      ]
     },
     "metadata": {},
     "output_type": "display_data"
    },
    {
     "data": {
      "application/vnd.jupyter.widget-view+json": {
       "model_id": "1006c715416e4861a12bc6568da78d1c",
       "version_major": 2,
       "version_minor": 0
      },
      "text/plain": [
       "HBox(children=(IntProgress(value=0, description='member', max=40, style=ProgressStyle(description_width='initi…"
      ]
     },
     "metadata": {},
     "output_type": "display_data"
    },
    {
     "name": "stderr",
     "output_type": "stream",
     "text": [
      "distributed.utils_perf - WARNING - full garbage collections took 10% CPU time recently (threshold: 10%)\n",
      "distributed.utils_perf - WARNING - full garbage collections took 10% CPU time recently (threshold: 10%)\n",
      "distributed.utils_perf - WARNING - full garbage collections took 11% CPU time recently (threshold: 10%)\n"
     ]
    },
    {
     "name": "stdout",
     "output_type": "stream",
     "text": [
      "+++++++++++++++++++++++++++++++++++\n",
      "Variable name: H2OSNO\n",
      "Chunk shape: (1, 100, 192, 288)\n",
      "Dataset shape: (40, 56940, 192, 288)\n",
      "Chunk size: 22.12 MB\n",
      "Dataset size: 504.00 GB\n",
      "+++++++++++++++++++++++++++++++++++\n",
      "<xarray.Dataset>\n",
      "Dimensions:       (hist_interval: 2, lat: 192, levgrnd: 15, levlak: 10, lon: 288, member_id: 40, time: 56940)\n",
      "Coordinates:\n",
      "  * time          (time) float64 0.0 1.0 2.0 ... 5.694e+04 5.694e+04 5.694e+04\n",
      "  * lat           (lat) float32 -90.0 -89.057594 -88.11518 ... 89.057594 90.0\n",
      "  * levgrnd       (levgrnd) float32 0.007100635 0.027925 ... 21.32647 35.17762\n",
      "  * levlak        (levlak) float32 0.05 0.6 2.1 4.6 ... 18.6 25.6 34.325 44.775\n",
      "  * lon           (lon) float32 0.0 1.25 2.5 3.75 ... 355.0 356.25 357.5 358.75\n",
      "  * member_id     (member_id) int64 1 2 3 4 5 6 7 ... 34 35 101 102 103 104 105\n",
      "Dimensions without coordinates: hist_interval\n",
      "Data variables:\n",
      "    H2OSNO        (member_id, time, lat, lon) float32 dask.array<shape=(40, 56940, 192, 288), chunksize=(1, 100, 192, 288)>\n",
      "    area          (member_id, lat, lon) float32 dask.array<shape=(40, 192, 288), chunksize=(1, 192, 288)>\n",
      "    date_written  (member_id, time) object dask.array<shape=(40, 56940), chunksize=(1, 100)>\n",
      "    landfrac      (member_id, lat, lon) float32 dask.array<shape=(40, 192, 288), chunksize=(1, 192, 288)>\n",
      "    landmask      (member_id, lat, lon) float64 dask.array<shape=(40, 192, 288), chunksize=(1, 192, 288)>\n",
      "    mcdate        (member_id, time) float64 dask.array<shape=(40, 56940), chunksize=(1, 100)>\n",
      "    mcsec         (member_id, time) float64 dask.array<shape=(40, 56940), chunksize=(1, 100)>\n",
      "    mdcur         (member_id, time) float64 dask.array<shape=(40, 56940), chunksize=(1, 100)>\n",
      "    mscur         (member_id, time) float64 dask.array<shape=(40, 56940), chunksize=(1, 100)>\n",
      "    nstep         (member_id, time) float64 dask.array<shape=(40, 56940), chunksize=(1, 100)>\n",
      "    pftmask       (member_id, lat, lon) float64 dask.array<shape=(40, 192, 288), chunksize=(1, 192, 288)>\n",
      "    time_bounds   (member_id, time, hist_interval) float64 dask.array<shape=(40, 56940, 2), chunksize=(1, 100, 2)>\n",
      "    time_written  (member_id, time) object dask.array<shape=(40, 56940), chunksize=(1, 100)>\n",
      "    topo          (member_id, lat, lon) float32 dask.array<shape=(40, 192, 288), chunksize=(1, 192, 288)>\n",
      "Attributes:\n",
      "    nco_openmp_thread_number:             1\n",
      "    version:                              cesm1_1_1_alpha01g\n",
      "    revision_id:                          $Id: histFileMod.F90 40539 2012-09-...\n",
      "    history:                              2019-06-25 12:33:21.394821 xarray.o...\n",
      "    case_title:                           UNSET\n",
      "    Conventions:                          CF-1.0\n",
      "    hostname:                             tcs\n",
      "    PFT_physiological_constants_dataset:  pft-physiology.c110425.nc\n",
      "    comment:                              NOTE: None of the variables are wei...\n",
      "    title:                                CLM History file information\n",
      "    source:                               Community Land Model CLM4.0\n",
      "    Initial_conditions_dataset:           b.e11.B20TRC5CNBDRD.f09_g16.001.clm...\n",
      "    Surface_dataset:                      surfdata_0.9x1.25_simyr1850_c110921.nc\n",
      "    username:                             mudryk\n",
      "    NCO:                                  4.4.2\n",
      "****************************************************************************************************\n",
      "****************************************************************************************************\n",
      "This query: {'experiment': '20C', 'component': 'lnd', 'stream': 'clm2.h1', 'variable': 'QRUNOFF'} returned:\n",
      "\n",
      "- 1 unique variable(s)\n",
      "\n",
      "\n",
      "- Number of files: 40\n",
      "\n",
      "\n",
      "- 40 member(s)\n",
      "\n",
      "\n",
      "- 40 case(s)\n",
      "\n",
      "\n"
     ]
    },
    {
     "data": {
      "application/vnd.jupyter.widget-view+json": {
       "model_id": "89f0e0fa285b4448ae02b7e69c877973",
       "version_major": 2,
       "version_minor": 0
      },
      "text/plain": [
       "HBox(children=(IntProgress(value=0, description='dataset', max=1, style=ProgressStyle(description_width='initi…"
      ]
     },
     "metadata": {},
     "output_type": "display_data"
    },
    {
     "data": {
      "application/vnd.jupyter.widget-view+json": {
       "model_id": "8f0d9c0af4ff4dfeaa5ad9c6a45e8545",
       "version_major": 2,
       "version_minor": 0
      },
      "text/plain": [
       "HBox(children=(IntProgress(value=0, description='member', max=40, style=ProgressStyle(description_width='initi…"
      ]
     },
     "metadata": {},
     "output_type": "display_data"
    },
    {
     "name": "stderr",
     "output_type": "stream",
     "text": [
      "distributed.utils_perf - WARNING - full garbage collections took 11% CPU time recently (threshold: 10%)\n",
      "distributed.utils_perf - WARNING - full garbage collections took 11% CPU time recently (threshold: 10%)\n",
      "distributed.utils_perf - WARNING - full garbage collections took 11% CPU time recently (threshold: 10%)\n"
     ]
    },
    {
     "name": "stdout",
     "output_type": "stream",
     "text": [
      "+++++++++++++++++++++++++++++++++++\n",
      "Variable name: QRUNOFF\n",
      "Chunk shape: (1, 100, 192, 288)\n",
      "Dataset shape: (40, 56940, 192, 288)\n",
      "Chunk size: 22.12 MB\n",
      "Dataset size: 504.00 GB\n",
      "+++++++++++++++++++++++++++++++++++\n",
      "<xarray.Dataset>\n",
      "Dimensions:       (hist_interval: 2, lat: 192, levgrnd: 15, levlak: 10, lon: 288, member_id: 40, time: 56940)\n",
      "Coordinates:\n",
      "  * time          (time) float64 0.0 1.0 2.0 ... 5.694e+04 5.694e+04 5.694e+04\n",
      "  * lat           (lat) float32 -90.0 -89.057594 -88.11518 ... 89.057594 90.0\n",
      "  * levgrnd       (levgrnd) float32 0.007100635 0.027925 ... 21.32647 35.17762\n",
      "  * levlak        (levlak) float32 0.05 0.6 2.1 4.6 ... 18.6 25.6 34.325 44.775\n",
      "  * lon           (lon) float32 0.0 1.25 2.5 3.75 ... 355.0 356.25 357.5 358.75\n",
      "  * member_id     (member_id) int64 1 2 3 4 5 6 7 ... 34 35 101 102 103 104 105\n",
      "Dimensions without coordinates: hist_interval\n",
      "Data variables:\n",
      "    QRUNOFF       (member_id, time, lat, lon) float32 dask.array<shape=(40, 56940, 192, 288), chunksize=(1, 100, 192, 288)>\n",
      "    area          (member_id, lat, lon) float32 dask.array<shape=(40, 192, 288), chunksize=(1, 192, 288)>\n",
      "    date_written  (member_id, time) object dask.array<shape=(40, 56940), chunksize=(1, 100)>\n",
      "    landfrac      (member_id, lat, lon) float32 dask.array<shape=(40, 192, 288), chunksize=(1, 192, 288)>\n",
      "    landmask      (member_id, lat, lon) float64 dask.array<shape=(40, 192, 288), chunksize=(1, 192, 288)>\n",
      "    mcdate        (member_id, time) float64 dask.array<shape=(40, 56940), chunksize=(1, 100)>\n",
      "    mcsec         (member_id, time) float64 dask.array<shape=(40, 56940), chunksize=(1, 100)>\n",
      "    mdcur         (member_id, time) float64 dask.array<shape=(40, 56940), chunksize=(1, 100)>\n",
      "    mscur         (member_id, time) float64 dask.array<shape=(40, 56940), chunksize=(1, 100)>\n",
      "    nstep         (member_id, time) float64 dask.array<shape=(40, 56940), chunksize=(1, 100)>\n",
      "    pftmask       (member_id, lat, lon) float64 dask.array<shape=(40, 192, 288), chunksize=(1, 192, 288)>\n",
      "    time_bounds   (member_id, time, hist_interval) float64 dask.array<shape=(40, 56940, 2), chunksize=(1, 100, 2)>\n",
      "    time_written  (member_id, time) object dask.array<shape=(40, 56940), chunksize=(1, 100)>\n",
      "    topo          (member_id, lat, lon) float32 dask.array<shape=(40, 192, 288), chunksize=(1, 192, 288)>\n",
      "Attributes:\n",
      "    nco_openmp_thread_number:             1\n",
      "    version:                              cesm1_1_1_alpha01g\n",
      "    revision_id:                          $Id: histFileMod.F90 40539 2012-09-...\n",
      "    history:                              2019-06-25 12:34:03.734970 xarray.o...\n",
      "    case_title:                           UNSET\n",
      "    Conventions:                          CF-1.0\n",
      "    hostname:                             tcs\n",
      "    PFT_physiological_constants_dataset:  pft-physiology.c110425.nc\n",
      "    comment:                              NOTE: None of the variables are wei...\n",
      "    title:                                CLM History file information\n",
      "    source:                               Community Land Model CLM4.0\n",
      "    Initial_conditions_dataset:           b.e11.B20TRC5CNBDRD.f09_g16.001.clm...\n",
      "    Surface_dataset:                      surfdata_0.9x1.25_simyr1850_c110921.nc\n",
      "    username:                             mudryk\n",
      "    NCO:                                  4.4.2\n",
      "****************************************************************************************************\n",
      "****************************************************************************************************\n",
      "This query: {'experiment': '20C', 'component': 'lnd', 'stream': 'clm2.h1', 'variable': 'RAIN'} returned:\n",
      "\n",
      "- 1 unique variable(s)\n",
      "\n",
      "\n",
      "- Number of files: 40\n",
      "\n",
      "\n",
      "- 40 member(s)\n",
      "\n",
      "\n",
      "- 40 case(s)\n",
      "\n",
      "\n"
     ]
    },
    {
     "data": {
      "application/vnd.jupyter.widget-view+json": {
       "model_id": "f79fa5314c8642cfbc59c86b423a0f55",
       "version_major": 2,
       "version_minor": 0
      },
      "text/plain": [
       "HBox(children=(IntProgress(value=0, description='dataset', max=1, style=ProgressStyle(description_width='initi…"
      ]
     },
     "metadata": {},
     "output_type": "display_data"
    },
    {
     "data": {
      "application/vnd.jupyter.widget-view+json": {
       "model_id": "eebe6584b50d438fa798d859a3a7154f",
       "version_major": 2,
       "version_minor": 0
      },
      "text/plain": [
       "HBox(children=(IntProgress(value=0, description='member', max=40, style=ProgressStyle(description_width='initi…"
      ]
     },
     "metadata": {},
     "output_type": "display_data"
    },
    {
     "name": "stderr",
     "output_type": "stream",
     "text": [
      "distributed.utils_perf - WARNING - full garbage collections took 11% CPU time recently (threshold: 10%)\n",
      "distributed.utils_perf - WARNING - full garbage collections took 11% CPU time recently (threshold: 10%)\n",
      "distributed.utils_perf - WARNING - full garbage collections took 11% CPU time recently (threshold: 10%)\n"
     ]
    },
    {
     "name": "stdout",
     "output_type": "stream",
     "text": [
      "+++++++++++++++++++++++++++++++++++\n",
      "Variable name: RAIN\n",
      "Chunk shape: (1, 100, 192, 288)\n",
      "Dataset shape: (40, 56940, 192, 288)\n",
      "Chunk size: 22.12 MB\n",
      "Dataset size: 504.00 GB\n",
      "+++++++++++++++++++++++++++++++++++\n",
      "<xarray.Dataset>\n",
      "Dimensions:       (hist_interval: 2, lat: 192, levgrnd: 15, levlak: 10, lon: 288, member_id: 40, time: 56940)\n",
      "Coordinates:\n",
      "  * time          (time) float64 0.0 1.0 2.0 ... 5.694e+04 5.694e+04 5.694e+04\n",
      "  * lat           (lat) float32 -90.0 -89.057594 -88.11518 ... 89.057594 90.0\n",
      "  * levgrnd       (levgrnd) float32 0.007100635 0.027925 ... 21.32647 35.17762\n",
      "  * levlak        (levlak) float32 0.05 0.6 2.1 4.6 ... 18.6 25.6 34.325 44.775\n",
      "  * lon           (lon) float32 0.0 1.25 2.5 3.75 ... 355.0 356.25 357.5 358.75\n",
      "  * member_id     (member_id) int64 1 2 3 4 5 6 7 ... 34 35 101 102 103 104 105\n",
      "Dimensions without coordinates: hist_interval\n",
      "Data variables:\n",
      "    RAIN          (member_id, time, lat, lon) float32 dask.array<shape=(40, 56940, 192, 288), chunksize=(1, 100, 192, 288)>\n",
      "    area          (member_id, lat, lon) float32 dask.array<shape=(40, 192, 288), chunksize=(1, 192, 288)>\n",
      "    date_written  (member_id, time) object dask.array<shape=(40, 56940), chunksize=(1, 100)>\n",
      "    landfrac      (member_id, lat, lon) float32 dask.array<shape=(40, 192, 288), chunksize=(1, 192, 288)>\n",
      "    landmask      (member_id, lat, lon) float64 dask.array<shape=(40, 192, 288), chunksize=(1, 192, 288)>\n",
      "    mcdate        (member_id, time) float64 dask.array<shape=(40, 56940), chunksize=(1, 100)>\n",
      "    mcsec         (member_id, time) float64 dask.array<shape=(40, 56940), chunksize=(1, 100)>\n",
      "    mdcur         (member_id, time) float64 dask.array<shape=(40, 56940), chunksize=(1, 100)>\n",
      "    mscur         (member_id, time) float64 dask.array<shape=(40, 56940), chunksize=(1, 100)>\n",
      "    nstep         (member_id, time) float64 dask.array<shape=(40, 56940), chunksize=(1, 100)>\n",
      "    pftmask       (member_id, lat, lon) float64 dask.array<shape=(40, 192, 288), chunksize=(1, 192, 288)>\n",
      "    time_bounds   (member_id, time, hist_interval) float64 dask.array<shape=(40, 56940, 2), chunksize=(1, 100, 2)>\n",
      "    time_written  (member_id, time) object dask.array<shape=(40, 56940), chunksize=(1, 100)>\n",
      "    topo          (member_id, lat, lon) float32 dask.array<shape=(40, 192, 288), chunksize=(1, 192, 288)>\n",
      "Attributes:\n",
      "    nco_openmp_thread_number:             1\n",
      "    version:                              cesm1_1_1_alpha01g\n",
      "    revision_id:                          $Id: histFileMod.F90 40539 2012-09-...\n",
      "    history:                              2019-06-25 12:34:48.397948 xarray.o...\n",
      "    case_title:                           UNSET\n",
      "    Conventions:                          CF-1.0\n",
      "    hostname:                             tcs\n",
      "    PFT_physiological_constants_dataset:  pft-physiology.c110425.nc\n",
      "    comment:                              NOTE: None of the variables are wei...\n",
      "    title:                                CLM History file information\n",
      "    source:                               Community Land Model CLM4.0\n",
      "    Initial_conditions_dataset:           b.e11.B20TRC5CNBDRD.f09_g16.001.clm...\n",
      "    Surface_dataset:                      surfdata_0.9x1.25_simyr1850_c110921.nc\n",
      "    username:                             mudryk\n",
      "    NCO:                                  4.4.2\n",
      "****************************************************************************************************\n",
      "****************************************************************************************************\n",
      "This query: {'experiment': '20C', 'component': 'lnd', 'stream': 'clm2.h1', 'variable': 'SNOW'} returned:\n",
      "\n",
      "- 1 unique variable(s)\n",
      "\n",
      "\n",
      "- Number of files: 40\n",
      "\n",
      "\n",
      "- 40 member(s)\n",
      "\n",
      "\n",
      "- 40 case(s)\n",
      "\n",
      "\n"
     ]
    },
    {
     "data": {
      "application/vnd.jupyter.widget-view+json": {
       "model_id": "c4c5fb32ab934f2bb6f6b36c305dd84e",
       "version_major": 2,
       "version_minor": 0
      },
      "text/plain": [
       "HBox(children=(IntProgress(value=0, description='dataset', max=1, style=ProgressStyle(description_width='initi…"
      ]
     },
     "metadata": {},
     "output_type": "display_data"
    },
    {
     "data": {
      "application/vnd.jupyter.widget-view+json": {
       "model_id": "35c603614da04db8b8712606f216356d",
       "version_major": 2,
       "version_minor": 0
      },
      "text/plain": [
       "HBox(children=(IntProgress(value=0, description='member', max=40, style=ProgressStyle(description_width='initi…"
      ]
     },
     "metadata": {},
     "output_type": "display_data"
    },
    {
     "name": "stderr",
     "output_type": "stream",
     "text": [
      "distributed.utils_perf - WARNING - full garbage collections took 11% CPU time recently (threshold: 10%)\n",
      "distributed.utils_perf - WARNING - full garbage collections took 11% CPU time recently (threshold: 10%)\n",
      "distributed.utils_perf - WARNING - full garbage collections took 11% CPU time recently (threshold: 10%)\n"
     ]
    },
    {
     "name": "stdout",
     "output_type": "stream",
     "text": [
      "+++++++++++++++++++++++++++++++++++\n",
      "Variable name: SNOW\n",
      "Chunk shape: (1, 100, 192, 288)\n",
      "Dataset shape: (40, 56940, 192, 288)\n",
      "Chunk size: 22.12 MB\n",
      "Dataset size: 504.00 GB\n",
      "+++++++++++++++++++++++++++++++++++\n",
      "<xarray.Dataset>\n",
      "Dimensions:       (hist_interval: 2, lat: 192, levgrnd: 15, levlak: 10, lon: 288, member_id: 40, time: 56940)\n",
      "Coordinates:\n",
      "  * time          (time) float64 0.0 1.0 2.0 ... 5.694e+04 5.694e+04 5.694e+04\n",
      "  * lat           (lat) float32 -90.0 -89.057594 -88.11518 ... 89.057594 90.0\n",
      "  * levgrnd       (levgrnd) float32 0.007100635 0.027925 ... 21.32647 35.17762\n",
      "  * levlak        (levlak) float32 0.05 0.6 2.1 4.6 ... 18.6 25.6 34.325 44.775\n",
      "  * lon           (lon) float32 0.0 1.25 2.5 3.75 ... 355.0 356.25 357.5 358.75\n",
      "  * member_id     (member_id) int64 1 2 3 4 5 6 7 ... 34 35 101 102 103 104 105\n",
      "Dimensions without coordinates: hist_interval\n",
      "Data variables:\n",
      "    SNOW          (member_id, time, lat, lon) float32 dask.array<shape=(40, 56940, 192, 288), chunksize=(1, 100, 192, 288)>\n",
      "    area          (member_id, lat, lon) float32 dask.array<shape=(40, 192, 288), chunksize=(1, 192, 288)>\n",
      "    date_written  (member_id, time) object dask.array<shape=(40, 56940), chunksize=(1, 100)>\n",
      "    landfrac      (member_id, lat, lon) float32 dask.array<shape=(40, 192, 288), chunksize=(1, 192, 288)>\n",
      "    landmask      (member_id, lat, lon) float64 dask.array<shape=(40, 192, 288), chunksize=(1, 192, 288)>\n",
      "    mcdate        (member_id, time) float64 dask.array<shape=(40, 56940), chunksize=(1, 100)>\n",
      "    mcsec         (member_id, time) float64 dask.array<shape=(40, 56940), chunksize=(1, 100)>\n",
      "    mdcur         (member_id, time) float64 dask.array<shape=(40, 56940), chunksize=(1, 100)>\n",
      "    mscur         (member_id, time) float64 dask.array<shape=(40, 56940), chunksize=(1, 100)>\n",
      "    nstep         (member_id, time) float64 dask.array<shape=(40, 56940), chunksize=(1, 100)>\n",
      "    pftmask       (member_id, lat, lon) float64 dask.array<shape=(40, 192, 288), chunksize=(1, 192, 288)>\n",
      "    time_bounds   (member_id, time, hist_interval) float64 dask.array<shape=(40, 56940, 2), chunksize=(1, 100, 2)>\n",
      "    time_written  (member_id, time) object dask.array<shape=(40, 56940), chunksize=(1, 100)>\n",
      "    topo          (member_id, lat, lon) float32 dask.array<shape=(40, 192, 288), chunksize=(1, 192, 288)>\n",
      "Attributes:\n",
      "    nco_openmp_thread_number:             1\n",
      "    version:                              cesm1_1_1_alpha01g\n",
      "    revision_id:                          $Id: histFileMod.F90 40539 2012-09-...\n",
      "    history:                              2019-06-25 12:35:32.208045 xarray.o...\n",
      "    case_title:                           UNSET\n",
      "    Conventions:                          CF-1.0\n",
      "    hostname:                             tcs\n",
      "    PFT_physiological_constants_dataset:  pft-physiology.c110425.nc\n",
      "    comment:                              NOTE: None of the variables are wei...\n",
      "    title:                                CLM History file information\n",
      "    source:                               Community Land Model CLM4.0\n",
      "    Initial_conditions_dataset:           b.e11.B20TRC5CNBDRD.f09_g16.001.clm...\n",
      "    Surface_dataset:                      surfdata_0.9x1.25_simyr1850_c110921.nc\n",
      "    username:                             mudryk\n",
      "    NCO:                                  4.4.2\n",
      "****************************************************************************************************\n",
      "No results found for query={'experiment': '20C', 'component': 'lnd', 'stream': 'clm2.h1', 'variable': 'SOILLIQ'}\n",
      "****************************************************************************************************\n",
      "This query: {'experiment': '20C', 'component': 'lnd', 'stream': 'clm2.h1', 'variable': 'SOILWATER_10CM'} returned:\n",
      "\n",
      "- 1 unique variable(s)\n",
      "\n",
      "\n",
      "- Number of files: 40\n",
      "\n",
      "\n",
      "- 40 member(s)\n",
      "\n",
      "\n",
      "- 40 case(s)\n",
      "\n",
      "\n"
     ]
    },
    {
     "data": {
      "application/vnd.jupyter.widget-view+json": {
       "model_id": "8d968725728b4458901d1d21e95233c9",
       "version_major": 2,
       "version_minor": 0
      },
      "text/plain": [
       "HBox(children=(IntProgress(value=0, description='dataset', max=1, style=ProgressStyle(description_width='initi…"
      ]
     },
     "metadata": {},
     "output_type": "display_data"
    },
    {
     "data": {
      "application/vnd.jupyter.widget-view+json": {
       "model_id": "2ac4a15ae29e4ff1ada5a390873dcd69",
       "version_major": 2,
       "version_minor": 0
      },
      "text/plain": [
       "HBox(children=(IntProgress(value=0, description='member', max=40, style=ProgressStyle(description_width='initi…"
      ]
     },
     "metadata": {},
     "output_type": "display_data"
    },
    {
     "name": "stderr",
     "output_type": "stream",
     "text": [
      "distributed.utils_perf - WARNING - full garbage collections took 11% CPU time recently (threshold: 10%)\n",
      "distributed.utils_perf - WARNING - full garbage collections took 11% CPU time recently (threshold: 10%)\n",
      "distributed.utils_perf - WARNING - full garbage collections took 11% CPU time recently (threshold: 10%)\n"
     ]
    },
    {
     "name": "stdout",
     "output_type": "stream",
     "text": [
      "+++++++++++++++++++++++++++++++++++\n",
      "Variable name: SOILWATER_10CM\n",
      "Chunk shape: (1, 100, 192, 288)\n",
      "Dataset shape: (40, 56940, 192, 288)\n",
      "Chunk size: 22.12 MB\n",
      "Dataset size: 504.00 GB\n",
      "+++++++++++++++++++++++++++++++++++\n",
      "<xarray.Dataset>\n",
      "Dimensions:         (hist_interval: 2, lat: 192, levgrnd: 15, levlak: 10, lon: 288, member_id: 40, time: 56940)\n",
      "Coordinates:\n",
      "  * time            (time) float64 0.0 1.0 2.0 ... 5.694e+04 5.694e+04 5.694e+04\n",
      "  * lat             (lat) float32 -90.0 -89.057594 -88.11518 ... 89.057594 90.0\n",
      "  * levgrnd         (levgrnd) float32 0.007100635 0.027925 ... 21.32647 35.17762\n",
      "  * levlak          (levlak) float32 0.05 0.6 2.1 4.6 ... 25.6 34.325 44.775\n",
      "  * lon             (lon) float32 0.0 1.25 2.5 3.75 ... 356.25 357.5 358.75\n",
      "  * member_id       (member_id) int64 1 2 3 4 5 6 7 ... 35 101 102 103 104 105\n",
      "Dimensions without coordinates: hist_interval\n",
      "Data variables:\n",
      "    SOILWATER_10CM  (member_id, time, lat, lon) float32 dask.array<shape=(40, 56940, 192, 288), chunksize=(1, 100, 192, 288)>\n",
      "    area            (member_id, lat, lon) float32 dask.array<shape=(40, 192, 288), chunksize=(1, 192, 288)>\n",
      "    date_written    (member_id, time) object dask.array<shape=(40, 56940), chunksize=(1, 100)>\n",
      "    landfrac        (member_id, lat, lon) float32 dask.array<shape=(40, 192, 288), chunksize=(1, 192, 288)>\n",
      "    landmask        (member_id, lat, lon) float64 dask.array<shape=(40, 192, 288), chunksize=(1, 192, 288)>\n",
      "    mcdate          (member_id, time) float64 dask.array<shape=(40, 56940), chunksize=(1, 100)>\n",
      "    mcsec           (member_id, time) float64 dask.array<shape=(40, 56940), chunksize=(1, 100)>\n",
      "    mdcur           (member_id, time) float64 dask.array<shape=(40, 56940), chunksize=(1, 100)>\n",
      "    mscur           (member_id, time) float64 dask.array<shape=(40, 56940), chunksize=(1, 100)>\n",
      "    nstep           (member_id, time) float64 dask.array<shape=(40, 56940), chunksize=(1, 100)>\n",
      "    pftmask         (member_id, lat, lon) float64 dask.array<shape=(40, 192, 288), chunksize=(1, 192, 288)>\n",
      "    time_bounds     (member_id, time, hist_interval) float64 dask.array<shape=(40, 56940, 2), chunksize=(1, 100, 2)>\n",
      "    time_written    (member_id, time) object dask.array<shape=(40, 56940), chunksize=(1, 100)>\n",
      "    topo            (member_id, lat, lon) float32 dask.array<shape=(40, 192, 288), chunksize=(1, 192, 288)>\n",
      "Attributes:\n",
      "    nco_openmp_thread_number:             1\n",
      "    version:                              cesm1_1_1_alpha01g\n",
      "    revision_id:                          $Id: histFileMod.F90 40539 2012-09-...\n",
      "    history:                              2019-06-25 12:36:15.781293 xarray.o...\n",
      "    case_title:                           UNSET\n",
      "    Conventions:                          CF-1.0\n",
      "    hostname:                             tcs\n",
      "    PFT_physiological_constants_dataset:  pft-physiology.c110425.nc\n",
      "    comment:                              NOTE: None of the variables are wei...\n",
      "    title:                                CLM History file information\n",
      "    source:                               Community Land Model CLM4.0\n",
      "    Initial_conditions_dataset:           b.e11.B20TRC5CNBDRD.f09_g16.001.clm...\n",
      "    Surface_dataset:                      surfdata_0.9x1.25_simyr1850_c110921.nc\n",
      "    username:                             mudryk\n",
      "    NCO:                                  4.4.2\n",
      "****************************************************************************************************\n",
      "****************************************************************************************************\n",
      "This query: {'experiment': '20C', 'component': 'atm', 'stream': 'cam.h0', 'variable': 'T'} returned:\n",
      "\n",
      "- 1 unique variable(s)\n",
      "\n",
      "\n",
      "- Number of files: 40\n",
      "\n",
      "\n",
      "- 40 member(s)\n",
      "\n",
      "\n",
      "- 40 case(s)\n",
      "\n",
      "\n"
     ]
    },
    {
     "data": {
      "application/vnd.jupyter.widget-view+json": {
       "model_id": "6bb5c19374564891b9844f82ce02cf16",
       "version_major": 2,
       "version_minor": 0
      },
      "text/plain": [
       "HBox(children=(IntProgress(value=0, description='dataset', max=1, style=ProgressStyle(description_width='initi…"
      ]
     },
     "metadata": {},
     "output_type": "display_data"
    },
    {
     "data": {
      "application/vnd.jupyter.widget-view+json": {
       "model_id": "90e63f94ab1e427293dde112eeecda59",
       "version_major": 2,
       "version_minor": 0
      },
      "text/plain": [
       "HBox(children=(IntProgress(value=0, description='member', max=40, style=ProgressStyle(description_width='initi…"
      ]
     },
     "metadata": {},
     "output_type": "display_data"
    },
    {
     "name": "stdout",
     "output_type": "stream",
     "text": [
      "encountered unexpected variable 'cosp_prs'\n",
      "****************************************************************************************************\n",
      "This query: {'experiment': '20C', 'component': 'atm', 'stream': 'cam.h0', 'variable': 'U'} returned:\n",
      "\n",
      "- 1 unique variable(s)\n",
      "\n",
      "\n",
      "- Number of files: 40\n",
      "\n",
      "\n",
      "- 40 member(s)\n",
      "\n",
      "\n",
      "- 40 case(s)\n",
      "\n",
      "\n"
     ]
    },
    {
     "data": {
      "application/vnd.jupyter.widget-view+json": {
       "model_id": "bdb18ed2286648c29de20849bb78dae0",
       "version_major": 2,
       "version_minor": 0
      },
      "text/plain": [
       "HBox(children=(IntProgress(value=0, description='dataset', max=1, style=ProgressStyle(description_width='initi…"
      ]
     },
     "metadata": {},
     "output_type": "display_data"
    },
    {
     "data": {
      "application/vnd.jupyter.widget-view+json": {
       "model_id": "43d701b14a4d499fb1407558a235afe8",
       "version_major": 2,
       "version_minor": 0
      },
      "text/plain": [
       "HBox(children=(IntProgress(value=0, description='member', max=40, style=ProgressStyle(description_width='initi…"
      ]
     },
     "metadata": {},
     "output_type": "display_data"
    },
    {
     "name": "stderr",
     "output_type": "stream",
     "text": [
      "distributed.utils_perf - WARNING - full garbage collections took 11% CPU time recently (threshold: 10%)\n"
     ]
    },
    {
     "name": "stdout",
     "output_type": "stream",
     "text": [
      "encountered unexpected variable 'cosp_prs'\n",
      "No results found for query={'experiment': '20C', 'component': 'atm', 'stream': 'cam.h0', 'variable': 'v'}\n",
      "****************************************************************************************************\n",
      "This query: {'experiment': '20C', 'component': 'atm', 'stream': 'cam.h0', 'variable': 'Q'} returned:\n",
      "\n",
      "- 1 unique variable(s)\n",
      "\n",
      "\n",
      "- Number of files: 40\n",
      "\n",
      "\n",
      "- 40 member(s)\n",
      "\n",
      "\n",
      "- 40 case(s)\n",
      "\n",
      "\n"
     ]
    },
    {
     "data": {
      "application/vnd.jupyter.widget-view+json": {
       "model_id": "96fe5c61dfc0464f8e451ecf8da8d491",
       "version_major": 2,
       "version_minor": 0
      },
      "text/plain": [
       "HBox(children=(IntProgress(value=0, description='dataset', max=1, style=ProgressStyle(description_width='initi…"
      ]
     },
     "metadata": {},
     "output_type": "display_data"
    },
    {
     "data": {
      "application/vnd.jupyter.widget-view+json": {
       "model_id": "820c15b8f877461fb15740e8073a69b6",
       "version_major": 2,
       "version_minor": 0
      },
      "text/plain": [
       "HBox(children=(IntProgress(value=0, description='member', max=40, style=ProgressStyle(description_width='initi…"
      ]
     },
     "metadata": {},
     "output_type": "display_data"
    },
    {
     "name": "stderr",
     "output_type": "stream",
     "text": [
      "distributed.utils_perf - WARNING - full garbage collections took 11% CPU time recently (threshold: 10%)\n"
     ]
    },
    {
     "name": "stdout",
     "output_type": "stream",
     "text": [
      "encountered unexpected variable 'cosp_prs'\n",
      "****************************************************************************************************\n",
      "This query: {'experiment': '20C', 'component': 'atm', 'stream': 'cam.h0', 'variable': 'Z3'} returned:\n",
      "\n",
      "- 1 unique variable(s)\n",
      "\n",
      "\n",
      "- Number of files: 40\n",
      "\n",
      "\n",
      "- 40 member(s)\n",
      "\n",
      "\n",
      "- 40 case(s)\n",
      "\n",
      "\n"
     ]
    },
    {
     "data": {
      "application/vnd.jupyter.widget-view+json": {
       "model_id": "0001ff0de5c24ff9a91116189df22a1c",
       "version_major": 2,
       "version_minor": 0
      },
      "text/plain": [
       "HBox(children=(IntProgress(value=0, description='dataset', max=1, style=ProgressStyle(description_width='initi…"
      ]
     },
     "metadata": {},
     "output_type": "display_data"
    },
    {
     "data": {
      "application/vnd.jupyter.widget-view+json": {
       "model_id": "c83a3d2347c94ea3addb180ee132f868",
       "version_major": 2,
       "version_minor": 0
      },
      "text/plain": [
       "HBox(children=(IntProgress(value=0, description='member', max=40, style=ProgressStyle(description_width='initi…"
      ]
     },
     "metadata": {},
     "output_type": "display_data"
    },
    {
     "name": "stderr",
     "output_type": "stream",
     "text": [
      "distributed.utils_perf - WARNING - full garbage collections took 10% CPU time recently (threshold: 10%)\n"
     ]
    },
    {
     "name": "stdout",
     "output_type": "stream",
     "text": [
      "encountered unexpected variable 'cosp_prs'\n",
      "****************************************************************************************************\n",
      "This query: {'experiment': '20C', 'component': 'atm', 'stream': 'cam.h0', 'variable': 'FLNS'} returned:\n",
      "\n",
      "- 1 unique variable(s)\n",
      "\n",
      "\n",
      "- Number of files: 40\n",
      "\n",
      "\n",
      "- 40 member(s)\n",
      "\n",
      "\n",
      "- 40 case(s)\n",
      "\n",
      "\n"
     ]
    },
    {
     "data": {
      "application/vnd.jupyter.widget-view+json": {
       "model_id": "4d4273f108384607938a97547c5e0665",
       "version_major": 2,
       "version_minor": 0
      },
      "text/plain": [
       "HBox(children=(IntProgress(value=0, description='dataset', max=1, style=ProgressStyle(description_width='initi…"
      ]
     },
     "metadata": {},
     "output_type": "display_data"
    },
    {
     "data": {
      "application/vnd.jupyter.widget-view+json": {
       "model_id": "9e16585fe2d44842a277c90236c27f1a",
       "version_major": 2,
       "version_minor": 0
      },
      "text/plain": [
       "HBox(children=(IntProgress(value=0, description='member', max=40, style=ProgressStyle(description_width='initi…"
      ]
     },
     "metadata": {},
     "output_type": "display_data"
    },
    {
     "name": "stderr",
     "output_type": "stream",
     "text": [
      "distributed.utils_perf - WARNING - full garbage collections took 10% CPU time recently (threshold: 10%)\n"
     ]
    },
    {
     "name": "stdout",
     "output_type": "stream",
     "text": [
      "encountered unexpected variable 'cosp_prs'\n",
      "****************************************************************************************************\n",
      "This query: {'experiment': '20C', 'component': 'atm', 'stream': 'cam.h0', 'variable': 'FLNSC'} returned:\n",
      "\n",
      "- 1 unique variable(s)\n",
      "\n",
      "\n",
      "- Number of files: 40\n",
      "\n",
      "\n",
      "- 40 member(s)\n",
      "\n",
      "\n",
      "- 40 case(s)\n",
      "\n",
      "\n"
     ]
    },
    {
     "data": {
      "application/vnd.jupyter.widget-view+json": {
       "model_id": "0fbd1c5ac58549ee8ba48c2f5e36bfec",
       "version_major": 2,
       "version_minor": 0
      },
      "text/plain": [
       "HBox(children=(IntProgress(value=0, description='dataset', max=1, style=ProgressStyle(description_width='initi…"
      ]
     },
     "metadata": {},
     "output_type": "display_data"
    },
    {
     "data": {
      "application/vnd.jupyter.widget-view+json": {
       "model_id": "6b6919fcf0324ce4bd72ad0666151e4e",
       "version_major": 2,
       "version_minor": 0
      },
      "text/plain": [
       "HBox(children=(IntProgress(value=0, description='member', max=40, style=ProgressStyle(description_width='initi…"
      ]
     },
     "metadata": {},
     "output_type": "display_data"
    },
    {
     "name": "stderr",
     "output_type": "stream",
     "text": [
      "distributed.utils_perf - WARNING - full garbage collections took 10% CPU time recently (threshold: 10%)\n"
     ]
    },
    {
     "name": "stdout",
     "output_type": "stream",
     "text": [
      "encountered unexpected variable 'cosp_prs'\n",
      "****************************************************************************************************\n",
      "This query: {'experiment': '20C', 'component': 'atm', 'stream': 'cam.h0', 'variable': 'FLUT'} returned:\n",
      "\n",
      "- 1 unique variable(s)\n",
      "\n",
      "\n",
      "- Number of files: 40\n",
      "\n",
      "\n",
      "- 40 member(s)\n",
      "\n",
      "\n",
      "- 40 case(s)\n",
      "\n",
      "\n"
     ]
    },
    {
     "data": {
      "application/vnd.jupyter.widget-view+json": {
       "model_id": "ed869d18714d412e8f871b7952a65d20",
       "version_major": 2,
       "version_minor": 0
      },
      "text/plain": [
       "HBox(children=(IntProgress(value=0, description='dataset', max=1, style=ProgressStyle(description_width='initi…"
      ]
     },
     "metadata": {},
     "output_type": "display_data"
    },
    {
     "data": {
      "application/vnd.jupyter.widget-view+json": {
       "model_id": "0171f71d24d540b48e367aeb2b8a7d3d",
       "version_major": 2,
       "version_minor": 0
      },
      "text/plain": [
       "HBox(children=(IntProgress(value=0, description='member', max=40, style=ProgressStyle(description_width='initi…"
      ]
     },
     "metadata": {},
     "output_type": "display_data"
    },
    {
     "name": "stderr",
     "output_type": "stream",
     "text": [
      "distributed.utils_perf - WARNING - full garbage collections took 10% CPU time recently (threshold: 10%)\n"
     ]
    },
    {
     "name": "stdout",
     "output_type": "stream",
     "text": [
      "encountered unexpected variable 'cosp_prs'\n",
      "****************************************************************************************************\n",
      "This query: {'experiment': '20C', 'component': 'atm', 'stream': 'cam.h0', 'variable': 'FSNS'} returned:\n",
      "\n",
      "- 1 unique variable(s)\n",
      "\n",
      "\n",
      "- Number of files: 40\n",
      "\n",
      "\n",
      "- 40 member(s)\n",
      "\n",
      "\n",
      "- 40 case(s)\n",
      "\n",
      "\n"
     ]
    },
    {
     "data": {
      "application/vnd.jupyter.widget-view+json": {
       "model_id": "abc32b57d5524bbb95449b18caa6d1d7",
       "version_major": 2,
       "version_minor": 0
      },
      "text/plain": [
       "HBox(children=(IntProgress(value=0, description='dataset', max=1, style=ProgressStyle(description_width='initi…"
      ]
     },
     "metadata": {},
     "output_type": "display_data"
    },
    {
     "data": {
      "application/vnd.jupyter.widget-view+json": {
       "model_id": "b002b3ab114049bca8e44c823f9e450a",
       "version_major": 2,
       "version_minor": 0
      },
      "text/plain": [
       "HBox(children=(IntProgress(value=0, description='member', max=40, style=ProgressStyle(description_width='initi…"
      ]
     },
     "metadata": {},
     "output_type": "display_data"
    },
    {
     "name": "stderr",
     "output_type": "stream",
     "text": [
      "distributed.utils_perf - WARNING - full garbage collections took 10% CPU time recently (threshold: 10%)\n"
     ]
    },
    {
     "name": "stdout",
     "output_type": "stream",
     "text": [
      "encountered unexpected variable 'cosp_prs'\n",
      "****************************************************************************************************\n",
      "This query: {'experiment': '20C', 'component': 'atm', 'stream': 'cam.h0', 'variable': 'FSNSC'} returned:\n",
      "\n",
      "- 1 unique variable(s)\n",
      "\n",
      "\n",
      "- Number of files: 40\n",
      "\n",
      "\n",
      "- 40 member(s)\n",
      "\n",
      "\n",
      "- 40 case(s)\n",
      "\n",
      "\n"
     ]
    },
    {
     "data": {
      "application/vnd.jupyter.widget-view+json": {
       "model_id": "ecd29e0ccc784769b92de07d5dfdc920",
       "version_major": 2,
       "version_minor": 0
      },
      "text/plain": [
       "HBox(children=(IntProgress(value=0, description='dataset', max=1, style=ProgressStyle(description_width='initi…"
      ]
     },
     "metadata": {},
     "output_type": "display_data"
    },
    {
     "data": {
      "application/vnd.jupyter.widget-view+json": {
       "model_id": "f5f24aed1b444e5bb3cad67b92cd97cb",
       "version_major": 2,
       "version_minor": 0
      },
      "text/plain": [
       "HBox(children=(IntProgress(value=0, description='member', max=40, style=ProgressStyle(description_width='initi…"
      ]
     },
     "metadata": {},
     "output_type": "display_data"
    },
    {
     "name": "stderr",
     "output_type": "stream",
     "text": [
      "distributed.utils_perf - WARNING - full garbage collections took 10% CPU time recently (threshold: 10%)\n"
     ]
    },
    {
     "name": "stdout",
     "output_type": "stream",
     "text": [
      "encountered unexpected variable 'cosp_prs'\n",
      "****************************************************************************************************\n",
      "This query: {'experiment': '20C', 'component': 'atm', 'stream': 'cam.h0', 'variable': 'FSNTOA'} returned:\n",
      "\n",
      "- 1 unique variable(s)\n",
      "\n",
      "\n",
      "- Number of files: 40\n",
      "\n",
      "\n",
      "- 40 member(s)\n",
      "\n",
      "\n",
      "- 40 case(s)\n",
      "\n",
      "\n"
     ]
    },
    {
     "data": {
      "application/vnd.jupyter.widget-view+json": {
       "model_id": "3aa2a60919ac451b8d3728c001ca148e",
       "version_major": 2,
       "version_minor": 0
      },
      "text/plain": [
       "HBox(children=(IntProgress(value=0, description='dataset', max=1, style=ProgressStyle(description_width='initi…"
      ]
     },
     "metadata": {},
     "output_type": "display_data"
    },
    {
     "data": {
      "application/vnd.jupyter.widget-view+json": {
       "model_id": "200bdf26dcf740e8949aac7655dbc375",
       "version_major": 2,
       "version_minor": 0
      },
      "text/plain": [
       "HBox(children=(IntProgress(value=0, description='member', max=40, style=ProgressStyle(description_width='initi…"
      ]
     },
     "metadata": {},
     "output_type": "display_data"
    },
    {
     "name": "stderr",
     "output_type": "stream",
     "text": [
      "distributed.utils_perf - WARNING - full garbage collections took 10% CPU time recently (threshold: 10%)\n"
     ]
    },
    {
     "name": "stdout",
     "output_type": "stream",
     "text": [
      "encountered unexpected variable 'cosp_prs'\n",
      "****************************************************************************************************\n",
      "This query: {'experiment': '20C', 'component': 'atm', 'stream': 'cam.h0', 'variable': 'ICEFRAC'} returned:\n",
      "\n",
      "- 1 unique variable(s)\n",
      "\n",
      "\n",
      "- Number of files: 40\n",
      "\n",
      "\n",
      "- 40 member(s)\n",
      "\n",
      "\n",
      "- 40 case(s)\n",
      "\n",
      "\n"
     ]
    },
    {
     "data": {
      "application/vnd.jupyter.widget-view+json": {
       "model_id": "dc12f84e47ca42678b9f71f1e655e324",
       "version_major": 2,
       "version_minor": 0
      },
      "text/plain": [
       "HBox(children=(IntProgress(value=0, description='dataset', max=1, style=ProgressStyle(description_width='initi…"
      ]
     },
     "metadata": {},
     "output_type": "display_data"
    },
    {
     "data": {
      "application/vnd.jupyter.widget-view+json": {
       "model_id": "c0fa04b06b914b83a6f249cf206e473e",
       "version_major": 2,
       "version_minor": 0
      },
      "text/plain": [
       "HBox(children=(IntProgress(value=0, description='member', max=40, style=ProgressStyle(description_width='initi…"
      ]
     },
     "metadata": {},
     "output_type": "display_data"
    },
    {
     "name": "stderr",
     "output_type": "stream",
     "text": [
      "distributed.utils_perf - WARNING - full garbage collections took 10% CPU time recently (threshold: 10%)\n"
     ]
    },
    {
     "name": "stdout",
     "output_type": "stream",
     "text": [
      "encountered unexpected variable 'cosp_prs'\n",
      "****************************************************************************************************\n",
      "This query: {'experiment': '20C', 'component': 'atm', 'stream': 'cam.h0', 'variable': 'LHFLX'} returned:\n",
      "\n",
      "- 1 unique variable(s)\n",
      "\n",
      "\n",
      "- Number of files: 40\n",
      "\n",
      "\n",
      "- 40 member(s)\n",
      "\n",
      "\n",
      "- 40 case(s)\n",
      "\n",
      "\n"
     ]
    },
    {
     "data": {
      "application/vnd.jupyter.widget-view+json": {
       "model_id": "71bd27730cdb4e4bb3fd5870f5f94c07",
       "version_major": 2,
       "version_minor": 0
      },
      "text/plain": [
       "HBox(children=(IntProgress(value=0, description='dataset', max=1, style=ProgressStyle(description_width='initi…"
      ]
     },
     "metadata": {},
     "output_type": "display_data"
    },
    {
     "data": {
      "application/vnd.jupyter.widget-view+json": {
       "model_id": "ae763fbff0524da0a2a8dc0b4c53c56b",
       "version_major": 2,
       "version_minor": 0
      },
      "text/plain": [
       "HBox(children=(IntProgress(value=0, description='member', max=40, style=ProgressStyle(description_width='initi…"
      ]
     },
     "metadata": {},
     "output_type": "display_data"
    },
    {
     "name": "stderr",
     "output_type": "stream",
     "text": [
      "distributed.utils_perf - WARNING - full garbage collections took 10% CPU time recently (threshold: 10%)\n"
     ]
    },
    {
     "name": "stdout",
     "output_type": "stream",
     "text": [
      "encountered unexpected variable 'cosp_prs'\n",
      "****************************************************************************************************\n",
      "This query: {'experiment': '20C', 'component': 'atm', 'stream': 'cam.h0', 'variable': 'PRECC'} returned:\n",
      "\n",
      "- 1 unique variable(s)\n",
      "\n",
      "\n",
      "- Number of files: 40\n",
      "\n",
      "\n",
      "- 40 member(s)\n",
      "\n",
      "\n",
      "- 40 case(s)\n",
      "\n",
      "\n"
     ]
    },
    {
     "data": {
      "application/vnd.jupyter.widget-view+json": {
       "model_id": "cd262cebc83b4068ab3bb95bcad64ee4",
       "version_major": 2,
       "version_minor": 0
      },
      "text/plain": [
       "HBox(children=(IntProgress(value=0, description='dataset', max=1, style=ProgressStyle(description_width='initi…"
      ]
     },
     "metadata": {},
     "output_type": "display_data"
    },
    {
     "data": {
      "application/vnd.jupyter.widget-view+json": {
       "model_id": "7d9fec41693e4682902d7cf59487c322",
       "version_major": 2,
       "version_minor": 0
      },
      "text/plain": [
       "HBox(children=(IntProgress(value=0, description='member', max=40, style=ProgressStyle(description_width='initi…"
      ]
     },
     "metadata": {},
     "output_type": "display_data"
    },
    {
     "name": "stderr",
     "output_type": "stream",
     "text": [
      "distributed.utils_perf - WARNING - full garbage collections took 10% CPU time recently (threshold: 10%)\n",
      "distributed.utils_perf - WARNING - full garbage collections took 10% CPU time recently (threshold: 10%)\n"
     ]
    },
    {
     "name": "stdout",
     "output_type": "stream",
     "text": [
      "encountered unexpected variable 'cosp_prs'\n",
      "****************************************************************************************************\n",
      "This query: {'experiment': '20C', 'component': 'atm', 'stream': 'cam.h0', 'variable': 'PRECL'} returned:\n",
      "\n",
      "- 1 unique variable(s)\n",
      "\n",
      "\n",
      "- Number of files: 40\n",
      "\n",
      "\n",
      "- 40 member(s)\n",
      "\n",
      "\n",
      "- 40 case(s)\n",
      "\n",
      "\n"
     ]
    },
    {
     "data": {
      "application/vnd.jupyter.widget-view+json": {
       "model_id": "9b77c1f9d05c46f8a3e7ce815e5a02d3",
       "version_major": 2,
       "version_minor": 0
      },
      "text/plain": [
       "HBox(children=(IntProgress(value=0, description='dataset', max=1, style=ProgressStyle(description_width='initi…"
      ]
     },
     "metadata": {},
     "output_type": "display_data"
    },
    {
     "data": {
      "application/vnd.jupyter.widget-view+json": {
       "model_id": "795fca31e4874d4e8670a83e1278ea98",
       "version_major": 2,
       "version_minor": 0
      },
      "text/plain": [
       "HBox(children=(IntProgress(value=0, description='member', max=40, style=ProgressStyle(description_width='initi…"
      ]
     },
     "metadata": {},
     "output_type": "display_data"
    },
    {
     "name": "stderr",
     "output_type": "stream",
     "text": [
      "distributed.utils_perf - WARNING - full garbage collections took 10% CPU time recently (threshold: 10%)\n"
     ]
    },
    {
     "name": "stdout",
     "output_type": "stream",
     "text": [
      "encountered unexpected variable 'cosp_prs'\n",
      "****************************************************************************************************\n",
      "This query: {'experiment': '20C', 'component': 'atm', 'stream': 'cam.h0', 'variable': 'PRECSC'} returned:\n",
      "\n",
      "- 1 unique variable(s)\n",
      "\n",
      "\n",
      "- Number of files: 40\n",
      "\n",
      "\n",
      "- 40 member(s)\n",
      "\n",
      "\n",
      "- 40 case(s)\n",
      "\n",
      "\n"
     ]
    },
    {
     "data": {
      "application/vnd.jupyter.widget-view+json": {
       "model_id": "9354bdb4f61440f98b2ab3767d38de67",
       "version_major": 2,
       "version_minor": 0
      },
      "text/plain": [
       "HBox(children=(IntProgress(value=0, description='dataset', max=1, style=ProgressStyle(description_width='initi…"
      ]
     },
     "metadata": {},
     "output_type": "display_data"
    },
    {
     "data": {
      "application/vnd.jupyter.widget-view+json": {
       "model_id": "952112c416ab40a586f1ff712419a0b7",
       "version_major": 2,
       "version_minor": 0
      },
      "text/plain": [
       "HBox(children=(IntProgress(value=0, description='member', max=40, style=ProgressStyle(description_width='initi…"
      ]
     },
     "metadata": {},
     "output_type": "display_data"
    },
    {
     "name": "stderr",
     "output_type": "stream",
     "text": [
      "distributed.utils_perf - WARNING - full garbage collections took 11% CPU time recently (threshold: 10%)\n"
     ]
    },
    {
     "name": "stdout",
     "output_type": "stream",
     "text": [
      "encountered unexpected variable 'cosp_prs'\n",
      "****************************************************************************************************\n",
      "This query: {'experiment': '20C', 'component': 'atm', 'stream': 'cam.h0', 'variable': 'PRECSL'} returned:\n",
      "\n",
      "- 1 unique variable(s)\n",
      "\n",
      "\n",
      "- Number of files: 40\n",
      "\n",
      "\n",
      "- 40 member(s)\n",
      "\n",
      "\n",
      "- 40 case(s)\n",
      "\n",
      "\n"
     ]
    },
    {
     "data": {
      "application/vnd.jupyter.widget-view+json": {
       "model_id": "94e99dbad75e48259e5177448eaf71d0",
       "version_major": 2,
       "version_minor": 0
      },
      "text/plain": [
       "HBox(children=(IntProgress(value=0, description='dataset', max=1, style=ProgressStyle(description_width='initi…"
      ]
     },
     "metadata": {},
     "output_type": "display_data"
    },
    {
     "data": {
      "application/vnd.jupyter.widget-view+json": {
       "model_id": "68e4c04128024679bd4964c98f04ebdb",
       "version_major": 2,
       "version_minor": 0
      },
      "text/plain": [
       "HBox(children=(IntProgress(value=0, description='member', max=40, style=ProgressStyle(description_width='initi…"
      ]
     },
     "metadata": {},
     "output_type": "display_data"
    },
    {
     "name": "stderr",
     "output_type": "stream",
     "text": [
      "distributed.utils_perf - WARNING - full garbage collections took 11% CPU time recently (threshold: 10%)\n"
     ]
    },
    {
     "name": "stdout",
     "output_type": "stream",
     "text": [
      "encountered unexpected variable 'cosp_prs'\n",
      "****************************************************************************************************\n",
      "This query: {'experiment': '20C', 'component': 'atm', 'stream': 'cam.h0', 'variable': 'PSL'} returned:\n",
      "\n",
      "- 1 unique variable(s)\n",
      "\n",
      "\n",
      "- Number of files: 40\n",
      "\n",
      "\n",
      "- 40 member(s)\n",
      "\n",
      "\n",
      "- 40 case(s)\n",
      "\n",
      "\n"
     ]
    },
    {
     "data": {
      "application/vnd.jupyter.widget-view+json": {
       "model_id": "c911f76d640e4f9bbbf80cb8cf164fe7",
       "version_major": 2,
       "version_minor": 0
      },
      "text/plain": [
       "HBox(children=(IntProgress(value=0, description='dataset', max=1, style=ProgressStyle(description_width='initi…"
      ]
     },
     "metadata": {},
     "output_type": "display_data"
    },
    {
     "data": {
      "application/vnd.jupyter.widget-view+json": {
       "model_id": "fa7630dce84d4aca9ef2093c552ac25b",
       "version_major": 2,
       "version_minor": 0
      },
      "text/plain": [
       "HBox(children=(IntProgress(value=0, description='member', max=40, style=ProgressStyle(description_width='initi…"
      ]
     },
     "metadata": {},
     "output_type": "display_data"
    },
    {
     "name": "stderr",
     "output_type": "stream",
     "text": [
      "distributed.utils_perf - WARNING - full garbage collections took 11% CPU time recently (threshold: 10%)\n"
     ]
    },
    {
     "name": "stdout",
     "output_type": "stream",
     "text": [
      "encountered unexpected variable 'cosp_prs'\n",
      "****************************************************************************************************\n",
      "This query: {'experiment': '20C', 'component': 'atm', 'stream': 'cam.h0', 'variable': 'SHFLX'} returned:\n",
      "\n",
      "- 1 unique variable(s)\n",
      "\n",
      "\n",
      "- Number of files: 40\n",
      "\n",
      "\n",
      "- 40 member(s)\n",
      "\n",
      "\n",
      "- 40 case(s)\n",
      "\n",
      "\n"
     ]
    },
    {
     "data": {
      "application/vnd.jupyter.widget-view+json": {
       "model_id": "9c8d0e34728544639b2e97053ccde995",
       "version_major": 2,
       "version_minor": 0
      },
      "text/plain": [
       "HBox(children=(IntProgress(value=0, description='dataset', max=1, style=ProgressStyle(description_width='initi…"
      ]
     },
     "metadata": {},
     "output_type": "display_data"
    },
    {
     "data": {
      "application/vnd.jupyter.widget-view+json": {
       "model_id": "0ada49799cc94bbd9f3f7781520f4ff8",
       "version_major": 2,
       "version_minor": 0
      },
      "text/plain": [
       "HBox(children=(IntProgress(value=0, description='member', max=40, style=ProgressStyle(description_width='initi…"
      ]
     },
     "metadata": {},
     "output_type": "display_data"
    },
    {
     "name": "stderr",
     "output_type": "stream",
     "text": [
      "distributed.utils_perf - WARNING - full garbage collections took 11% CPU time recently (threshold: 10%)\n"
     ]
    },
    {
     "name": "stdout",
     "output_type": "stream",
     "text": [
      "encountered unexpected variable 'cosp_prs'\n",
      "****************************************************************************************************\n",
      "This query: {'experiment': '20C', 'component': 'atm', 'stream': 'cam.h0', 'variable': 'TMQ'} returned:\n",
      "\n",
      "- 1 unique variable(s)\n",
      "\n",
      "\n",
      "- Number of files: 40\n",
      "\n",
      "\n",
      "- 40 member(s)\n",
      "\n",
      "\n",
      "- 40 case(s)\n",
      "\n",
      "\n"
     ]
    },
    {
     "data": {
      "application/vnd.jupyter.widget-view+json": {
       "model_id": "bf0fd2543c5f4d2abde34c74382b83b1",
       "version_major": 2,
       "version_minor": 0
      },
      "text/plain": [
       "HBox(children=(IntProgress(value=0, description='dataset', max=1, style=ProgressStyle(description_width='initi…"
      ]
     },
     "metadata": {},
     "output_type": "display_data"
    },
    {
     "data": {
      "application/vnd.jupyter.widget-view+json": {
       "model_id": "466581bf027241a9a7422661b04a577b",
       "version_major": 2,
       "version_minor": 0
      },
      "text/plain": [
       "HBox(children=(IntProgress(value=0, description='member', max=40, style=ProgressStyle(description_width='initi…"
      ]
     },
     "metadata": {},
     "output_type": "display_data"
    },
    {
     "name": "stderr",
     "output_type": "stream",
     "text": [
      "distributed.utils_perf - WARNING - full garbage collections took 11% CPU time recently (threshold: 10%)\n",
      "distributed.utils_perf - WARNING - full garbage collections took 10% CPU time recently (threshold: 10%)\n"
     ]
    },
    {
     "name": "stdout",
     "output_type": "stream",
     "text": [
      "encountered unexpected variable 'cosp_prs'\n",
      "****************************************************************************************************\n",
      "This query: {'experiment': '20C', 'component': 'atm', 'stream': 'cam.h0', 'variable': 'TREFHT'} returned:\n",
      "\n",
      "- 1 unique variable(s)\n",
      "\n",
      "\n",
      "- Number of files: 40\n",
      "\n",
      "\n",
      "- 40 member(s)\n",
      "\n",
      "\n",
      "- 40 case(s)\n",
      "\n",
      "\n"
     ]
    },
    {
     "data": {
      "application/vnd.jupyter.widget-view+json": {
       "model_id": "a745dccbe14c4ce28bb376a8647c76a7",
       "version_major": 2,
       "version_minor": 0
      },
      "text/plain": [
       "HBox(children=(IntProgress(value=0, description='dataset', max=1, style=ProgressStyle(description_width='initi…"
      ]
     },
     "metadata": {},
     "output_type": "display_data"
    },
    {
     "data": {
      "application/vnd.jupyter.widget-view+json": {
       "model_id": "f99858e3badc4cb399741de113c347e3",
       "version_major": 2,
       "version_minor": 0
      },
      "text/plain": [
       "HBox(children=(IntProgress(value=0, description='member', max=40, style=ProgressStyle(description_width='initi…"
      ]
     },
     "metadata": {},
     "output_type": "display_data"
    },
    {
     "name": "stderr",
     "output_type": "stream",
     "text": [
      "distributed.utils_perf - WARNING - full garbage collections took 10% CPU time recently (threshold: 10%)\n"
     ]
    },
    {
     "name": "stdout",
     "output_type": "stream",
     "text": [
      "encountered unexpected variable 'cosp_prs'\n",
      "****************************************************************************************************\n",
      "This query: {'experiment': '20C', 'component': 'atm', 'stream': 'cam.h0', 'variable': 'TREFHTMN'} returned:\n",
      "\n",
      "- 1 unique variable(s)\n",
      "\n",
      "\n",
      "- Number of files: 40\n",
      "\n",
      "\n",
      "- 40 member(s)\n",
      "\n",
      "\n",
      "- 40 case(s)\n",
      "\n",
      "\n"
     ]
    },
    {
     "data": {
      "application/vnd.jupyter.widget-view+json": {
       "model_id": "088cf5c171b140aebf7bd7542772f757",
       "version_major": 2,
       "version_minor": 0
      },
      "text/plain": [
       "HBox(children=(IntProgress(value=0, description='dataset', max=1, style=ProgressStyle(description_width='initi…"
      ]
     },
     "metadata": {},
     "output_type": "display_data"
    },
    {
     "data": {
      "application/vnd.jupyter.widget-view+json": {
       "model_id": "5b5a3129c5604240aef54ee407abcfd6",
       "version_major": 2,
       "version_minor": 0
      },
      "text/plain": [
       "HBox(children=(IntProgress(value=0, description='member', max=40, style=ProgressStyle(description_width='initi…"
      ]
     },
     "metadata": {},
     "output_type": "display_data"
    },
    {
     "name": "stderr",
     "output_type": "stream",
     "text": [
      "distributed.utils_perf - WARNING - full garbage collections took 11% CPU time recently (threshold: 10%)\n"
     ]
    },
    {
     "name": "stdout",
     "output_type": "stream",
     "text": [
      "encountered unexpected variable 'cosp_prs'\n",
      "****************************************************************************************************\n",
      "This query: {'experiment': '20C', 'component': 'atm', 'stream': 'cam.h0', 'variable': 'TREFHTMX'} returned:\n",
      "\n",
      "- 1 unique variable(s)\n",
      "\n",
      "\n",
      "- Number of files: 40\n",
      "\n",
      "\n",
      "- 40 member(s)\n",
      "\n",
      "\n",
      "- 40 case(s)\n",
      "\n",
      "\n"
     ]
    },
    {
     "data": {
      "application/vnd.jupyter.widget-view+json": {
       "model_id": "9c365a91923a4be081a7327ddecb89fe",
       "version_major": 2,
       "version_minor": 0
      },
      "text/plain": [
       "HBox(children=(IntProgress(value=0, description='dataset', max=1, style=ProgressStyle(description_width='initi…"
      ]
     },
     "metadata": {},
     "output_type": "display_data"
    },
    {
     "data": {
      "application/vnd.jupyter.widget-view+json": {
       "model_id": "685ffc47a78242d58b07976b7f2a8523",
       "version_major": 2,
       "version_minor": 0
      },
      "text/plain": [
       "HBox(children=(IntProgress(value=0, description='member', max=40, style=ProgressStyle(description_width='initi…"
      ]
     },
     "metadata": {},
     "output_type": "display_data"
    },
    {
     "name": "stderr",
     "output_type": "stream",
     "text": [
      "distributed.utils_perf - WARNING - full garbage collections took 11% CPU time recently (threshold: 10%)\n"
     ]
    },
    {
     "name": "stdout",
     "output_type": "stream",
     "text": [
      "encountered unexpected variable 'cosp_prs'\n",
      "****************************************************************************************************\n",
      "This query: {'experiment': '20C', 'component': 'atm', 'stream': 'cam.h0', 'variable': 'TS'} returned:\n",
      "\n",
      "- 1 unique variable(s)\n",
      "\n",
      "\n",
      "- Number of files: 41\n",
      "\n",
      "\n",
      "- 40 member(s)\n",
      "\n",
      "\n",
      "- 40 case(s)\n",
      "\n",
      "\n"
     ]
    },
    {
     "data": {
      "application/vnd.jupyter.widget-view+json": {
       "model_id": "be35d4bc61654671adebcc9c47531676",
       "version_major": 2,
       "version_minor": 0
      },
      "text/plain": [
       "HBox(children=(IntProgress(value=0, description='dataset', max=1, style=ProgressStyle(description_width='initi…"
      ]
     },
     "metadata": {},
     "output_type": "display_data"
    },
    {
     "data": {
      "application/vnd.jupyter.widget-view+json": {
       "model_id": "25aa4ec744d848a396aad29eb7b9869f",
       "version_major": 2,
       "version_minor": 0
      },
      "text/plain": [
       "HBox(children=(IntProgress(value=0, description='member', max=40, style=ProgressStyle(description_width='initi…"
      ]
     },
     "metadata": {},
     "output_type": "display_data"
    },
    {
     "name": "stderr",
     "output_type": "stream",
     "text": [
      "distributed.utils_perf - WARNING - full garbage collections took 11% CPU time recently (threshold: 10%)\n"
     ]
    },
    {
     "name": "stdout",
     "output_type": "stream",
     "text": [
      "Reindexing only valid with uniquely valued Index objects\n",
      "****************************************************************************************************\n",
      "This query: {'experiment': 'RCP85', 'component': 'ocn', 'stream': 'pop.h', 'variable': 'SST'} returned:\n",
      "\n",
      "- 1 unique variable(s)\n",
      "\n",
      "\n",
      "- Number of files: 73\n",
      "\n",
      "\n",
      "- 40 member(s)\n",
      "\n",
      "\n",
      "- 40 case(s)\n",
      "\n",
      "\n"
     ]
    },
    {
     "data": {
      "application/vnd.jupyter.widget-view+json": {
       "model_id": "5d3bdcb49fcd43879699f49b23de8de1",
       "version_major": 2,
       "version_minor": 0
      },
      "text/plain": [
       "HBox(children=(IntProgress(value=0, description='dataset', max=1, style=ProgressStyle(description_width='initi…"
      ]
     },
     "metadata": {},
     "output_type": "display_data"
    },
    {
     "data": {
      "application/vnd.jupyter.widget-view+json": {
       "model_id": "b3d28741edf444d3bf7514bb738c1660",
       "version_major": 2,
       "version_minor": 0
      },
      "text/plain": [
       "HBox(children=(IntProgress(value=0, description='member', max=40, style=ProgressStyle(description_width='initi…"
      ]
     },
     "metadata": {},
     "output_type": "display_data"
    },
    {
     "name": "stdout",
     "output_type": "stream",
     "text": [
      "+++++++++++++++++++++++++++++++++++\n",
      "Variable name: SST\n",
      "Chunk shape: (1, 24, 1, 384, 320)\n",
      "Dataset shape: (40, 1140, 1, 384, 320)\n",
      "Chunk size: 11.80 MB\n",
      "Dataset size: 23.24 GB\n",
      "+++++++++++++++++++++++++++++++++++\n",
      "<xarray.Dataset>\n",
      "Dimensions:               (d2: 2, lat_aux_grid: 395, member_id: 40, moc_comp: 3, moc_z: 61, nlat: 384, nlon: 320, time: 1140, transport_comp: 5, transport_reg: 2, z_t: 1, z_t_150m: 15, z_w: 60, z_w_bot: 60, z_w_top: 60)\n",
      "Coordinates:\n",
      "  * lat_aux_grid          (lat_aux_grid) float32 -79.48815 -78.952896 ... 90.0\n",
      "  * moc_z                 (moc_z) float32 0.0 1000.0 ... 525000.94 549999.06\n",
      "  * z_t                   (z_t) float32 500.0\n",
      "  * z_t_150m              (z_t_150m) float32 500.0 1500.0 ... 13500.0 14500.0\n",
      "  * z_w                   (z_w) float32 0.0 1000.0 2000.0 ... 500004.7 525000.94\n",
      "  * z_w_bot               (z_w_bot) float32 1000.0 2000.0 ... 549999.06\n",
      "  * z_w_top               (z_w_top) float32 0.0 1000.0 ... 500004.7 525000.94\n",
      "  * time                  (time) float64 7.322e+05 7.322e+05 ... 7.669e+05\n",
      "  * member_id             (member_id) int64 1 2 3 4 5 6 ... 101 102 103 104 105\n",
      "Dimensions without coordinates: d2, moc_comp, nlat, nlon, transport_comp, transport_reg\n",
      "Data variables:\n",
      "    ANGLE                 (member_id, nlat, nlon) float64 dask.array<shape=(40, 384, 320), chunksize=(1, 384, 320)>\n",
      "    ANGLET                (member_id, nlat, nlon) float64 dask.array<shape=(40, 384, 320), chunksize=(1, 384, 320)>\n",
      "    DXT                   (member_id, nlat, nlon) float64 dask.array<shape=(40, 384, 320), chunksize=(1, 384, 320)>\n",
      "    DXU                   (member_id, nlat, nlon) float64 dask.array<shape=(40, 384, 320), chunksize=(1, 384, 320)>\n",
      "    DYT                   (member_id, nlat, nlon) float64 dask.array<shape=(40, 384, 320), chunksize=(1, 384, 320)>\n",
      "    DYU                   (member_id, nlat, nlon) float64 dask.array<shape=(40, 384, 320), chunksize=(1, 384, 320)>\n",
      "    HT                    (member_id, nlat, nlon) float64 dask.array<shape=(40, 384, 320), chunksize=(1, 384, 320)>\n",
      "    HTE                   (member_id, nlat, nlon) float64 dask.array<shape=(40, 384, 320), chunksize=(1, 384, 320)>\n",
      "    HTN                   (member_id, nlat, nlon) float64 dask.array<shape=(40, 384, 320), chunksize=(1, 384, 320)>\n",
      "    HU                    (member_id, nlat, nlon) float64 dask.array<shape=(40, 384, 320), chunksize=(1, 384, 320)>\n",
      "    HUS                   (member_id, nlat, nlon) float64 dask.array<shape=(40, 384, 320), chunksize=(1, 384, 320)>\n",
      "    HUW                   (member_id, nlat, nlon) float64 dask.array<shape=(40, 384, 320), chunksize=(1, 384, 320)>\n",
      "    KMT                   (member_id, nlat, nlon) float64 dask.array<shape=(40, 384, 320), chunksize=(1, 384, 320)>\n",
      "    KMU                   (member_id, nlat, nlon) float64 dask.array<shape=(40, 384, 320), chunksize=(1, 384, 320)>\n",
      "    REGION_MASK           (member_id, nlat, nlon) float64 dask.array<shape=(40, 384, 320), chunksize=(1, 384, 320)>\n",
      "    T0_Kelvin             (member_id) float64 273.1 273.1 273.1 ... 273.1 273.1\n",
      "    TAREA                 (member_id, nlat, nlon) float64 dask.array<shape=(40, 384, 320), chunksize=(1, 384, 320)>\n",
      "    TLAT                  (member_id, nlat, nlon) float64 dask.array<shape=(40, 384, 320), chunksize=(1, 384, 320)>\n",
      "    TLONG                 (member_id, nlat, nlon) float64 dask.array<shape=(40, 384, 320), chunksize=(1, 384, 320)>\n",
      "    UAREA                 (member_id, nlat, nlon) float64 dask.array<shape=(40, 384, 320), chunksize=(1, 384, 320)>\n",
      "    ULAT                  (member_id, nlat, nlon) float64 dask.array<shape=(40, 384, 320), chunksize=(1, 384, 320)>\n",
      "    ULONG                 (member_id, nlat, nlon) float64 dask.array<shape=(40, 384, 320), chunksize=(1, 384, 320)>\n",
      "    cp_air                (member_id) float64 1.005e+03 1.005e+03 ... 1.005e+03\n",
      "    cp_sw                 (member_id) float64 3.996e+07 3.996e+07 ... 3.996e+07\n",
      "    days_in_norm_year     (member_id) float64 365.0 365.0 365.0 ... 365.0 365.0\n",
      "    dz                    (member_id, z_t) float32 dask.array<shape=(40, 1), chunksize=(1, 1)>\n",
      "    dzw                   (member_id, z_w) float32 dask.array<shape=(40, 60), chunksize=(1, 60)>\n",
      "    fwflux_factor         (member_id) float64 0.0001 0.0001 ... 0.0001 0.0001\n",
      "    grav                  (member_id) float64 980.6 980.6 980.6 ... 980.6 980.6\n",
      "    heat_to_PW            (member_id) float64 4.186e-15 4.186e-15 ... 4.186e-15\n",
      "    hflux_factor          (member_id) float64 2.439e-05 2.439e-05 ... 2.439e-05\n",
      "    latent_heat_fusion    (member_id) float64 3.337e+09 3.337e+09 ... 3.337e+09\n",
      "    latent_heat_vapor     (member_id) float64 2.501e+06 2.501e+06 ... 2.501e+06\n",
      "    mass_to_Sv            (member_id) float64 1e-12 1e-12 1e-12 ... 1e-12 1e-12\n",
      "    moc_components        (member_id, moc_comp) |S256 dask.array<shape=(40, 3), chunksize=(1, 3)>\n",
      "    momentum_factor       (member_id) float64 10.0 10.0 10.0 ... 10.0 10.0 10.0\n",
      "    nsurface_t            (member_id) float64 8.621e+04 8.621e+04 ... 8.621e+04\n",
      "    nsurface_u            (member_id) float64 8.305e+04 8.305e+04 ... 8.305e+04\n",
      "    ocn_ref_salinity      (member_id) float64 34.7 34.7 34.7 ... 34.7 34.7 34.7\n",
      "    omega                 (member_id) float64 7.292e-05 7.292e-05 ... 7.292e-05\n",
      "    ppt_to_salt           (member_id) float64 0.001 0.001 0.001 ... 0.001 0.001\n",
      "    radius                (member_id) float64 6.371e+08 6.371e+08 ... 6.371e+08\n",
      "    rho_air               (member_id) float64 1.292 1.292 1.292 ... 1.292 1.292\n",
      "    rho_fw                (member_id) float64 1.0 1.0 1.0 1.0 ... 1.0 1.0 1.0\n",
      "    rho_sw                (member_id) float64 1.026 1.026 1.026 ... 1.026 1.026\n",
      "    salinity_factor       (member_id) float64 -0.00347 -0.00347 ... -0.00347\n",
      "    salt_to_Svppt         (member_id) float64 1e-09 1e-09 1e-09 ... 1e-09 1e-09\n",
      "    salt_to_mmday         (member_id) float64 3.154e+05 3.154e+05 ... 3.154e+05\n",
      "    salt_to_ppt           (member_id) float64 1e+03 1e+03 1e+03 ... 1e+03 1e+03\n",
      "    sea_ice_salinity      (member_id) float64 4.0 4.0 4.0 4.0 ... 4.0 4.0 4.0\n",
      "    sflux_factor          (member_id) float64 0.1 0.1 0.1 0.1 ... 0.1 0.1 0.1\n",
      "    sound                 (member_id) float64 1.5e+05 1.5e+05 ... 1.5e+05\n",
      "    stefan_boltzmann      (member_id) float64 5.67e-08 5.67e-08 ... 5.67e-08\n",
      "    transport_components  (member_id, transport_comp) |S256 dask.array<shape=(40, 5), chunksize=(1, 5)>\n",
      "    transport_regions     (member_id, transport_reg) |S256 dask.array<shape=(40, 2), chunksize=(1, 2)>\n",
      "    vonkar                (member_id) float64 0.4 0.4 0.4 0.4 ... 0.4 0.4 0.4\n",
      "    time_bound            (member_id, time, d2) float64 dask.array<shape=(40, 1140, 2), chunksize=(1, 24, 2)>\n",
      "    SST                   (member_id, time, z_t, nlat, nlon) float32 dask.array<shape=(40, 1140, 1, 384, 320), chunksize=(1, 24, 1, 384, 320)>\n",
      "Attributes:\n",
      "    nco_openmp_thread_number:  1\n",
      "    nsteps_total:              750\n",
      "    revision:                  $Id: tavg.F90 41939 2012-11-14 16:37:23Z mlevy...\n",
      "    tavg_sum:                  2592000.0\n",
      "    history:                   2019-06-25 12:42:20.671721 xarray.open_dataset...\n",
      "    cell_methods:              cell_methods = time: mean ==> the variable val...\n",
      "    calendar:                  All years have exactly  365 days.\n",
      "    Conventions:               CF-1.0; http://www.cgd.ucar.edu/cms/eaton/netc...\n",
      "    source:                    CCSM POP2, the CCSM Ocean Component\n",
      "    start_time:                This dataset was created on 2014-12-26 at 15:5...\n",
      "    tavg_sum_qflux:            2592000.0\n",
      "    contents:                  Diagnostic and Prognostic Variables\n",
      "    NCO:                       4.4.4\n",
      "****************************************************************************************************\n",
      "****************************************************************************************************\n",
      "This query: {'experiment': 'RCP85', 'component': 'ocn', 'stream': 'pop.h', 'variable': 'SSH'} returned:\n",
      "\n",
      "- 1 unique variable(s)\n",
      "\n",
      "\n",
      "- Number of files: 73\n",
      "\n",
      "\n",
      "- 40 member(s)\n",
      "\n",
      "\n",
      "- 40 case(s)\n",
      "\n",
      "\n"
     ]
    },
    {
     "data": {
      "application/vnd.jupyter.widget-view+json": {
       "model_id": "cc356a157eda4a8da3edfe03acb2b429",
       "version_major": 2,
       "version_minor": 0
      },
      "text/plain": [
       "HBox(children=(IntProgress(value=0, description='dataset', max=1, style=ProgressStyle(description_width='initi…"
      ]
     },
     "metadata": {},
     "output_type": "display_data"
    },
    {
     "data": {
      "application/vnd.jupyter.widget-view+json": {
       "model_id": "1478dfe2ffa04548afbe557f83d62656",
       "version_major": 2,
       "version_minor": 0
      },
      "text/plain": [
       "HBox(children=(IntProgress(value=0, description='member', max=40, style=ProgressStyle(description_width='initi…"
      ]
     },
     "metadata": {},
     "output_type": "display_data"
    },
    {
     "name": "stderr",
     "output_type": "stream",
     "text": [
      "distributed.utils_perf - WARNING - full garbage collections took 11% CPU time recently (threshold: 10%)\n"
     ]
    },
    {
     "name": "stdout",
     "output_type": "stream",
     "text": [
      "+++++++++++++++++++++++++++++++++++\n",
      "Variable name: SSH\n",
      "Chunk shape: (1, 24, 384, 320)\n",
      "Dataset shape: (40, 1140, 384, 320)\n",
      "Chunk size: 11.80 MB\n",
      "Dataset size: 23.24 GB\n",
      "+++++++++++++++++++++++++++++++++++\n",
      "<xarray.Dataset>\n",
      "Dimensions:               (d2: 2, lat_aux_grid: 395, member_id: 40, moc_comp: 3, moc_z: 61, nlat: 384, nlon: 320, time: 1140, transport_comp: 5, transport_reg: 2, z_t: 60, z_t_150m: 15, z_w: 60, z_w_bot: 60, z_w_top: 60)\n",
      "Coordinates:\n",
      "  * lat_aux_grid          (lat_aux_grid) float32 -79.48815 -78.952896 ... 90.0\n",
      "  * moc_z                 (moc_z) float32 0.0 1000.0 ... 525000.94 549999.06\n",
      "  * z_t                   (z_t) float32 500.0 1500.0 ... 512502.8 537500.0\n",
      "  * z_t_150m              (z_t_150m) float32 500.0 1500.0 ... 13500.0 14500.0\n",
      "  * z_w                   (z_w) float32 0.0 1000.0 2000.0 ... 500004.7 525000.94\n",
      "  * z_w_bot               (z_w_bot) float32 1000.0 2000.0 ... 549999.06\n",
      "  * z_w_top               (z_w_top) float32 0.0 1000.0 ... 500004.7 525000.94\n",
      "  * time                  (time) float64 7.322e+05 7.322e+05 ... 7.669e+05\n",
      "  * member_id             (member_id) int64 1 2 3 4 5 6 ... 101 102 103 104 105\n",
      "Dimensions without coordinates: d2, moc_comp, nlat, nlon, transport_comp, transport_reg\n",
      "Data variables:\n",
      "    ANGLE                 (member_id, nlat, nlon) float64 dask.array<shape=(40, 384, 320), chunksize=(1, 384, 320)>\n",
      "    ANGLET                (member_id, nlat, nlon) float64 dask.array<shape=(40, 384, 320), chunksize=(1, 384, 320)>\n",
      "    DXT                   (member_id, nlat, nlon) float64 dask.array<shape=(40, 384, 320), chunksize=(1, 384, 320)>\n",
      "    DXU                   (member_id, nlat, nlon) float64 dask.array<shape=(40, 384, 320), chunksize=(1, 384, 320)>\n",
      "    DYT                   (member_id, nlat, nlon) float64 dask.array<shape=(40, 384, 320), chunksize=(1, 384, 320)>\n",
      "    DYU                   (member_id, nlat, nlon) float64 dask.array<shape=(40, 384, 320), chunksize=(1, 384, 320)>\n",
      "    HT                    (member_id, nlat, nlon) float64 dask.array<shape=(40, 384, 320), chunksize=(1, 384, 320)>\n",
      "    HTE                   (member_id, nlat, nlon) float64 dask.array<shape=(40, 384, 320), chunksize=(1, 384, 320)>\n",
      "    HTN                   (member_id, nlat, nlon) float64 dask.array<shape=(40, 384, 320), chunksize=(1, 384, 320)>\n",
      "    HU                    (member_id, nlat, nlon) float64 dask.array<shape=(40, 384, 320), chunksize=(1, 384, 320)>\n",
      "    HUS                   (member_id, nlat, nlon) float64 dask.array<shape=(40, 384, 320), chunksize=(1, 384, 320)>\n",
      "    HUW                   (member_id, nlat, nlon) float64 dask.array<shape=(40, 384, 320), chunksize=(1, 384, 320)>\n",
      "    KMT                   (member_id, nlat, nlon) float64 dask.array<shape=(40, 384, 320), chunksize=(1, 384, 320)>\n",
      "    KMU                   (member_id, nlat, nlon) float64 dask.array<shape=(40, 384, 320), chunksize=(1, 384, 320)>\n",
      "    REGION_MASK           (member_id, nlat, nlon) float64 dask.array<shape=(40, 384, 320), chunksize=(1, 384, 320)>\n",
      "    T0_Kelvin             (member_id) float64 273.1 273.1 273.1 ... 273.1 273.1\n",
      "    TAREA                 (member_id, nlat, nlon) float64 dask.array<shape=(40, 384, 320), chunksize=(1, 384, 320)>\n",
      "    TLAT                  (member_id, nlat, nlon) float64 dask.array<shape=(40, 384, 320), chunksize=(1, 384, 320)>\n",
      "    TLONG                 (member_id, nlat, nlon) float64 dask.array<shape=(40, 384, 320), chunksize=(1, 384, 320)>\n",
      "    UAREA                 (member_id, nlat, nlon) float64 dask.array<shape=(40, 384, 320), chunksize=(1, 384, 320)>\n",
      "    ULAT                  (member_id, nlat, nlon) float64 dask.array<shape=(40, 384, 320), chunksize=(1, 384, 320)>\n",
      "    ULONG                 (member_id, nlat, nlon) float64 dask.array<shape=(40, 384, 320), chunksize=(1, 384, 320)>\n",
      "    cp_air                (member_id) float64 1.005e+03 1.005e+03 ... 1.005e+03\n",
      "    cp_sw                 (member_id) float64 3.996e+07 3.996e+07 ... 3.996e+07\n",
      "    days_in_norm_year     (member_id) float64 365.0 365.0 365.0 ... 365.0 365.0\n",
      "    dz                    (member_id, z_t) float32 dask.array<shape=(40, 60), chunksize=(1, 60)>\n",
      "    dzw                   (member_id, z_w) float32 dask.array<shape=(40, 60), chunksize=(1, 60)>\n",
      "    fwflux_factor         (member_id) float64 0.0001 0.0001 ... 0.0001 0.0001\n",
      "    grav                  (member_id) float64 980.6 980.6 980.6 ... 980.6 980.6\n",
      "    heat_to_PW            (member_id) float64 4.186e-15 4.186e-15 ... 4.186e-15\n",
      "    hflux_factor          (member_id) float64 2.439e-05 2.439e-05 ... 2.439e-05\n",
      "    latent_heat_fusion    (member_id) float64 3.337e+09 3.337e+09 ... 3.337e+09\n",
      "    latent_heat_vapor     (member_id) float64 2.501e+06 2.501e+06 ... 2.501e+06\n",
      "    mass_to_Sv            (member_id) float64 1e-12 1e-12 1e-12 ... 1e-12 1e-12\n",
      "    moc_components        (member_id, moc_comp) |S256 dask.array<shape=(40, 3), chunksize=(1, 3)>\n",
      "    momentum_factor       (member_id) float64 10.0 10.0 10.0 ... 10.0 10.0 10.0\n",
      "    nsurface_t            (member_id) float64 8.621e+04 8.621e+04 ... 8.621e+04\n",
      "    nsurface_u            (member_id) float64 8.305e+04 8.305e+04 ... 8.305e+04\n",
      "    ocn_ref_salinity      (member_id) float64 34.7 34.7 34.7 ... 34.7 34.7 34.7\n",
      "    omega                 (member_id) float64 7.292e-05 7.292e-05 ... 7.292e-05\n",
      "    ppt_to_salt           (member_id) float64 0.001 0.001 0.001 ... 0.001 0.001\n",
      "    radius                (member_id) float64 6.371e+08 6.371e+08 ... 6.371e+08\n",
      "    rho_air               (member_id) float64 1.292 1.292 1.292 ... 1.292 1.292\n",
      "    rho_fw                (member_id) float64 1.0 1.0 1.0 1.0 ... 1.0 1.0 1.0\n",
      "    rho_sw                (member_id) float64 1.026 1.026 1.026 ... 1.026 1.026\n",
      "    salinity_factor       (member_id) float64 -0.00347 -0.00347 ... -0.00347\n",
      "    salt_to_Svppt         (member_id) float64 1e-09 1e-09 1e-09 ... 1e-09 1e-09\n",
      "    salt_to_mmday         (member_id) float64 3.154e+05 3.154e+05 ... 3.154e+05\n",
      "    salt_to_ppt           (member_id) float64 1e+03 1e+03 1e+03 ... 1e+03 1e+03\n",
      "    sea_ice_salinity      (member_id) float64 4.0 4.0 4.0 4.0 ... 4.0 4.0 4.0\n",
      "    sflux_factor          (member_id) float64 0.1 0.1 0.1 0.1 ... 0.1 0.1 0.1\n",
      "    sound                 (member_id) float64 1.5e+05 1.5e+05 ... 1.5e+05\n",
      "    stefan_boltzmann      (member_id) float64 5.67e-08 5.67e-08 ... 5.67e-08\n",
      "    transport_components  (member_id, transport_comp) |S256 dask.array<shape=(40, 5), chunksize=(1, 5)>\n",
      "    transport_regions     (member_id, transport_reg) |S256 dask.array<shape=(40, 2), chunksize=(1, 2)>\n",
      "    vonkar                (member_id) float64 0.4 0.4 0.4 0.4 ... 0.4 0.4 0.4\n",
      "    SSH                   (member_id, time, nlat, nlon) float32 dask.array<shape=(40, 1140, 384, 320), chunksize=(1, 24, 384, 320)>\n",
      "    time_bound            (member_id, time, d2) float64 dask.array<shape=(40, 1140, 2), chunksize=(1, 24, 2)>\n",
      "Attributes:\n",
      "    nco_openmp_thread_number:  1\n",
      "    nsteps_total:              750\n",
      "    revision:                  $Id: tavg.F90 41939 2012-11-14 16:37:23Z mlevy...\n",
      "    tavg_sum:                  2592000.0\n",
      "    history:                   2019-06-25 12:42:35.728845 xarray.open_dataset...\n",
      "    cell_methods:              cell_methods = time: mean ==> the variable val...\n",
      "    calendar:                  All years have exactly  365 days.\n",
      "    Conventions:               CF-1.0; http://www.cgd.ucar.edu/cms/eaton/netc...\n",
      "    source:                    CCSM POP2, the CCSM Ocean Component\n",
      "    start_time:                This dataset was created on 2014-12-26 at 15:5...\n",
      "    tavg_sum_qflux:            2592000.0\n",
      "    contents:                  Diagnostic and Prognostic Variables\n",
      "    NCO:                       4.3.4\n",
      "****************************************************************************************************\n",
      "****************************************************************************************************\n",
      "This query: {'experiment': 'RCP85', 'component': 'ocn', 'stream': 'pop.h', 'variable': 'SALT'} returned:\n",
      "\n",
      "- 1 unique variable(s)\n",
      "\n",
      "\n",
      "- Number of files: 73\n",
      "\n",
      "\n",
      "- 40 member(s)\n",
      "\n",
      "\n",
      "- 40 case(s)\n",
      "\n",
      "\n"
     ]
    },
    {
     "data": {
      "application/vnd.jupyter.widget-view+json": {
       "model_id": "af80398e1d634e73bda6a1254739bd16",
       "version_major": 2,
       "version_minor": 0
      },
      "text/plain": [
       "HBox(children=(IntProgress(value=0, description='dataset', max=1, style=ProgressStyle(description_width='initi…"
      ]
     },
     "metadata": {},
     "output_type": "display_data"
    },
    {
     "data": {
      "application/vnd.jupyter.widget-view+json": {
       "model_id": "35f1ec4915df4babad2ef9cd630e5d97",
       "version_major": 2,
       "version_minor": 0
      },
      "text/plain": [
       "HBox(children=(IntProgress(value=0, description='member', max=40, style=ProgressStyle(description_width='initi…"
      ]
     },
     "metadata": {},
     "output_type": "display_data"
    },
    {
     "name": "stderr",
     "output_type": "stream",
     "text": [
      "distributed.utils_perf - WARNING - full garbage collections took 11% CPU time recently (threshold: 10%)\n",
      "distributed.utils_perf - WARNING - full garbage collections took 11% CPU time recently (threshold: 10%)\n",
      "distributed.utils_perf - WARNING - full garbage collections took 11% CPU time recently (threshold: 10%)\n",
      "distributed.utils_perf - WARNING - full garbage collections took 11% CPU time recently (threshold: 10%)\n",
      "distributed.utils_perf - WARNING - full garbage collections took 10% CPU time recently (threshold: 10%)\n"
     ]
    },
    {
     "name": "stdout",
     "output_type": "stream",
     "text": [
      "+++++++++++++++++++++++++++++++++++\n",
      "Variable name: SALT\n",
      "Chunk shape: (1, 24, 1, 384, 320)\n",
      "Dataset shape: (40, 1140, 60, 384, 320)\n",
      "Chunk size: 11.80 MB\n",
      "Dataset size: 1.35 TB\n",
      "+++++++++++++++++++++++++++++++++++\n",
      "<xarray.Dataset>\n",
      "Dimensions:               (d2: 2, lat_aux_grid: 395, member_id: 40, moc_comp: 3, moc_z: 61, nlat: 384, nlon: 320, time: 1140, transport_comp: 5, transport_reg: 2, z_t: 60, z_t_150m: 15, z_w: 60, z_w_bot: 60, z_w_top: 60)\n",
      "Coordinates:\n",
      "  * lat_aux_grid          (lat_aux_grid) float32 -79.48815 -78.952896 ... 90.0\n",
      "  * moc_z                 (moc_z) float32 0.0 1000.0 ... 525000.94 549999.06\n",
      "  * z_t                   (z_t) float32 500.0 1500.0 ... 512502.8 537500.0\n",
      "  * z_t_150m              (z_t_150m) float32 500.0 1500.0 ... 13500.0 14500.0\n",
      "  * z_w                   (z_w) float32 0.0 1000.0 2000.0 ... 500004.7 525000.94\n",
      "  * z_w_bot               (z_w_bot) float32 1000.0 2000.0 ... 549999.06\n",
      "  * z_w_top               (z_w_top) float32 0.0 1000.0 ... 500004.7 525000.94\n",
      "  * time                  (time) float64 7.322e+05 7.322e+05 ... 7.669e+05\n",
      "  * member_id             (member_id) int64 1 2 3 4 5 6 ... 101 102 103 104 105\n",
      "Dimensions without coordinates: d2, moc_comp, nlat, nlon, transport_comp, transport_reg\n",
      "Data variables:\n",
      "    ANGLE                 (member_id, nlat, nlon) float64 dask.array<shape=(40, 384, 320), chunksize=(1, 384, 320)>\n",
      "    ANGLET                (member_id, nlat, nlon) float64 dask.array<shape=(40, 384, 320), chunksize=(1, 384, 320)>\n",
      "    DXT                   (member_id, nlat, nlon) float64 dask.array<shape=(40, 384, 320), chunksize=(1, 384, 320)>\n",
      "    DXU                   (member_id, nlat, nlon) float64 dask.array<shape=(40, 384, 320), chunksize=(1, 384, 320)>\n",
      "    DYT                   (member_id, nlat, nlon) float64 dask.array<shape=(40, 384, 320), chunksize=(1, 384, 320)>\n",
      "    DYU                   (member_id, nlat, nlon) float64 dask.array<shape=(40, 384, 320), chunksize=(1, 384, 320)>\n",
      "    HT                    (member_id, nlat, nlon) float64 dask.array<shape=(40, 384, 320), chunksize=(1, 384, 320)>\n",
      "    HTE                   (member_id, nlat, nlon) float64 dask.array<shape=(40, 384, 320), chunksize=(1, 384, 320)>\n",
      "    HTN                   (member_id, nlat, nlon) float64 dask.array<shape=(40, 384, 320), chunksize=(1, 384, 320)>\n",
      "    HU                    (member_id, nlat, nlon) float64 dask.array<shape=(40, 384, 320), chunksize=(1, 384, 320)>\n",
      "    HUS                   (member_id, nlat, nlon) float64 dask.array<shape=(40, 384, 320), chunksize=(1, 384, 320)>\n",
      "    HUW                   (member_id, nlat, nlon) float64 dask.array<shape=(40, 384, 320), chunksize=(1, 384, 320)>\n",
      "    KMT                   (member_id, nlat, nlon) float64 dask.array<shape=(40, 384, 320), chunksize=(1, 384, 320)>\n",
      "    KMU                   (member_id, nlat, nlon) float64 dask.array<shape=(40, 384, 320), chunksize=(1, 384, 320)>\n",
      "    REGION_MASK           (member_id, nlat, nlon) float64 dask.array<shape=(40, 384, 320), chunksize=(1, 384, 320)>\n",
      "    T0_Kelvin             (member_id) float64 273.1 273.1 273.1 ... 273.1 273.1\n",
      "    TAREA                 (member_id, nlat, nlon) float64 dask.array<shape=(40, 384, 320), chunksize=(1, 384, 320)>\n",
      "    TLAT                  (member_id, nlat, nlon) float64 dask.array<shape=(40, 384, 320), chunksize=(1, 384, 320)>\n",
      "    TLONG                 (member_id, nlat, nlon) float64 dask.array<shape=(40, 384, 320), chunksize=(1, 384, 320)>\n",
      "    UAREA                 (member_id, nlat, nlon) float64 dask.array<shape=(40, 384, 320), chunksize=(1, 384, 320)>\n",
      "    ULAT                  (member_id, nlat, nlon) float64 dask.array<shape=(40, 384, 320), chunksize=(1, 384, 320)>\n",
      "    ULONG                 (member_id, nlat, nlon) float64 dask.array<shape=(40, 384, 320), chunksize=(1, 384, 320)>\n",
      "    cp_air                (member_id) float64 1.005e+03 1.005e+03 ... 1.005e+03\n",
      "    cp_sw                 (member_id) float64 3.996e+07 3.996e+07 ... 3.996e+07\n",
      "    days_in_norm_year     (member_id) float64 365.0 365.0 365.0 ... 365.0 365.0\n",
      "    dz                    (member_id, z_t) float32 dask.array<shape=(40, 60), chunksize=(1, 1)>\n",
      "    dzw                   (member_id, z_w) float32 dask.array<shape=(40, 60), chunksize=(1, 60)>\n",
      "    fwflux_factor         (member_id) float64 0.0001 0.0001 ... 0.0001 0.0001\n",
      "    grav                  (member_id) float64 980.6 980.6 980.6 ... 980.6 980.6\n",
      "    heat_to_PW            (member_id) float64 4.186e-15 4.186e-15 ... 4.186e-15\n",
      "    hflux_factor          (member_id) float64 2.439e-05 2.439e-05 ... 2.439e-05\n",
      "    latent_heat_fusion    (member_id) float64 3.337e+09 3.337e+09 ... 3.337e+09\n",
      "    latent_heat_vapor     (member_id) float64 2.501e+06 2.501e+06 ... 2.501e+06\n",
      "    mass_to_Sv            (member_id) float64 1e-12 1e-12 1e-12 ... 1e-12 1e-12\n",
      "    moc_components        (member_id, moc_comp) |S256 dask.array<shape=(40, 3), chunksize=(1, 3)>\n",
      "    momentum_factor       (member_id) float64 10.0 10.0 10.0 ... 10.0 10.0 10.0\n",
      "    nsurface_t            (member_id) float64 8.621e+04 8.621e+04 ... 8.621e+04\n",
      "    nsurface_u            (member_id) float64 8.305e+04 8.305e+04 ... 8.305e+04\n",
      "    ocn_ref_salinity      (member_id) float64 34.7 34.7 34.7 ... 34.7 34.7 34.7\n",
      "    omega                 (member_id) float64 7.292e-05 7.292e-05 ... 7.292e-05\n",
      "    ppt_to_salt           (member_id) float64 0.001 0.001 0.001 ... 0.001 0.001\n",
      "    radius                (member_id) float64 6.371e+08 6.371e+08 ... 6.371e+08\n",
      "    rho_air               (member_id) float64 1.292 1.292 1.292 ... 1.292 1.292\n",
      "    rho_fw                (member_id) float64 1.0 1.0 1.0 1.0 ... 1.0 1.0 1.0\n",
      "    rho_sw                (member_id) float64 1.026 1.026 1.026 ... 1.026 1.026\n",
      "    salinity_factor       (member_id) float64 -0.00347 -0.00347 ... -0.00347\n",
      "    salt_to_Svppt         (member_id) float64 1e-09 1e-09 1e-09 ... 1e-09 1e-09\n",
      "    salt_to_mmday         (member_id) float64 3.154e+05 3.154e+05 ... 3.154e+05\n",
      "    salt_to_ppt           (member_id) float64 1e+03 1e+03 1e+03 ... 1e+03 1e+03\n",
      "    sea_ice_salinity      (member_id) float64 4.0 4.0 4.0 4.0 ... 4.0 4.0 4.0\n",
      "    sflux_factor          (member_id) float64 0.1 0.1 0.1 0.1 ... 0.1 0.1 0.1\n",
      "    sound                 (member_id) float64 1.5e+05 1.5e+05 ... 1.5e+05\n",
      "    stefan_boltzmann      (member_id) float64 5.67e-08 5.67e-08 ... 5.67e-08\n",
      "    transport_components  (member_id, transport_comp) |S256 dask.array<shape=(40, 5), chunksize=(1, 5)>\n",
      "    transport_regions     (member_id, transport_reg) |S256 dask.array<shape=(40, 2), chunksize=(1, 2)>\n",
      "    vonkar                (member_id) float64 0.4 0.4 0.4 0.4 ... 0.4 0.4 0.4\n",
      "    SALT                  (member_id, time, z_t, nlat, nlon) float32 dask.array<shape=(40, 1140, 60, 384, 320), chunksize=(1, 24, 1, 384, 320)>\n",
      "    time_bound            (member_id, time, d2) float64 dask.array<shape=(40, 1140, 2), chunksize=(1, 24, 2)>\n",
      "Attributes:\n",
      "    nco_openmp_thread_number:  1\n",
      "    nsteps_total:              750\n",
      "    revision:                  $Id: tavg.F90 41939 2012-11-14 16:37:23Z mlevy...\n",
      "    tavg_sum:                  2592000.0\n",
      "    history:                   2019-06-25 12:42:50.161586 xarray.open_dataset...\n",
      "    cell_methods:              cell_methods = time: mean ==> the variable val...\n",
      "    calendar:                  All years have exactly  365 days.\n",
      "    Conventions:               CF-1.0; http://www.cgd.ucar.edu/cms/eaton/netc...\n",
      "    source:                    CCSM POP2, the CCSM Ocean Component\n",
      "    start_time:                This dataset was created on 2014-12-26 at 15:5...\n",
      "    tavg_sum_qflux:            2592000.0\n",
      "    contents:                  Diagnostic and Prognostic Variables\n",
      "    NCO:                       4.3.4\n",
      "****************************************************************************************************\n",
      "****************************************************************************************************\n",
      "This query: {'experiment': 'RCP85', 'component': 'ice', 'stream': 'cice.h', 'variable': 'aice_nh'} returned:\n",
      "\n",
      "- 1 unique variable(s)\n",
      "\n",
      "\n",
      "- Number of files: 73\n",
      "\n",
      "\n",
      "- 40 member(s)\n",
      "\n",
      "\n",
      "- 40 case(s)\n",
      "\n",
      "\n"
     ]
    },
    {
     "data": {
      "application/vnd.jupyter.widget-view+json": {
       "model_id": "984d28d765d04fd9955ceb3fe6250fe1",
       "version_major": 2,
       "version_minor": 0
      },
      "text/plain": [
       "HBox(children=(IntProgress(value=0, description='dataset', max=1, style=ProgressStyle(description_width='initi…"
      ]
     },
     "metadata": {},
     "output_type": "display_data"
    },
    {
     "data": {
      "application/vnd.jupyter.widget-view+json": {
       "model_id": "b0ed1d0677624b4eb2685108d1e2a563",
       "version_major": 2,
       "version_minor": 0
      },
      "text/plain": [
       "HBox(children=(IntProgress(value=0, description='member', max=40, style=ProgressStyle(description_width='initi…"
      ]
     },
     "metadata": {},
     "output_type": "display_data"
    },
    {
     "name": "stderr",
     "output_type": "stream",
     "text": [
      "distributed.utils_perf - WARNING - full garbage collections took 10% CPU time recently (threshold: 10%)\n"
     ]
    },
    {
     "name": "stdout",
     "output_type": "stream",
     "text": [
      "+++++++++++++++++++++++++++++++++++\n",
      "Variable name: aice\n",
      "Chunk shape: (1, 24, 104, 320)\n",
      "Dataset shape: (40, 1140, 104, 320)\n",
      "Chunk size: 3.19 MB\n",
      "Dataset size: 6.24 GB\n",
      "+++++++++++++++++++++++++++++++++++\n",
      "<xarray.Dataset>\n",
      "Dimensions:      (d2: 2, member_id: 40, ni: 320, nj: 104, nvertices: 4, time: 1140)\n",
      "Coordinates:\n",
      "  * time         (time) float64 7.322e+05 7.322e+05 ... 7.668e+05 7.669e+05\n",
      "  * member_id    (member_id) int64 1 2 3 4 5 6 7 8 ... 34 35 101 102 103 104 105\n",
      "Dimensions without coordinates: d2, ni, nj, nvertices\n",
      "Data variables:\n",
      "    ANGLE        (member_id, nj, ni) float32 dask.array<shape=(40, 104, 320), chunksize=(1, 104, 320)>\n",
      "    ANGLET       (member_id, nj, ni) float32 dask.array<shape=(40, 104, 320), chunksize=(1, 104, 320)>\n",
      "    HTE          (member_id, nj, ni) float32 dask.array<shape=(40, 104, 320), chunksize=(1, 104, 320)>\n",
      "    HTN          (member_id, nj, ni) float32 dask.array<shape=(40, 104, 320), chunksize=(1, 104, 320)>\n",
      "    TLAT         (member_id, nj, ni) float32 dask.array<shape=(40, 104, 320), chunksize=(1, 104, 320)>\n",
      "    TLON         (member_id, nj, ni) float32 dask.array<shape=(40, 104, 320), chunksize=(1, 104, 320)>\n",
      "    ULAT         (member_id, nj, ni) float32 dask.array<shape=(40, 104, 320), chunksize=(1, 104, 320)>\n",
      "    ULON         (member_id, nj, ni) float32 dask.array<shape=(40, 104, 320), chunksize=(1, 104, 320)>\n",
      "    blkmask      (member_id, nj, ni) float32 dask.array<shape=(40, 104, 320), chunksize=(1, 104, 320)>\n",
      "    dxt          (member_id, nj, ni) float32 dask.array<shape=(40, 104, 320), chunksize=(1, 104, 320)>\n",
      "    dxu          (member_id, nj, ni) float32 dask.array<shape=(40, 104, 320), chunksize=(1, 104, 320)>\n",
      "    dyt          (member_id, nj, ni) float32 dask.array<shape=(40, 104, 320), chunksize=(1, 104, 320)>\n",
      "    dyu          (member_id, nj, ni) float32 dask.array<shape=(40, 104, 320), chunksize=(1, 104, 320)>\n",
      "    latt_bounds  (member_id, nj, ni, nvertices) float32 dask.array<shape=(40, 104, 320, 4), chunksize=(1, 104, 320, 4)>\n",
      "    latu_bounds  (member_id, nj, ni, nvertices) float32 dask.array<shape=(40, 104, 320, 4), chunksize=(1, 104, 320, 4)>\n",
      "    lont_bounds  (member_id, nj, ni, nvertices) float32 dask.array<shape=(40, 104, 320, 4), chunksize=(1, 104, 320, 4)>\n",
      "    lonu_bounds  (member_id, nj, ni, nvertices) float32 dask.array<shape=(40, 104, 320, 4), chunksize=(1, 104, 320, 4)>\n",
      "    tarea        (member_id, nj, ni) float32 dask.array<shape=(40, 104, 320), chunksize=(1, 104, 320)>\n",
      "    tmask        (member_id, nj, ni) float32 dask.array<shape=(40, 104, 320), chunksize=(1, 104, 320)>\n",
      "    uarea        (member_id, nj, ni) float32 dask.array<shape=(40, 104, 320), chunksize=(1, 104, 320)>\n",
      "    aice         (member_id, time, nj, ni) float32 dask.array<shape=(40, 1140, 104, 320), chunksize=(1, 24, 104, 320)>\n",
      "    time_bounds  (member_id, time, d2) float32 dask.array<shape=(40, 1140, 2), chunksize=(1, 24, 2)>\n",
      "Attributes:\n",
      "    nco_openmp_thread_number:  1\n",
      "    comment3:                  seconds elapsed into model date:      0\n",
      "    comment:                   All years have exactly 365 days\n",
      "    source:                    sea ice model: Community Ice Code (CICE)\n",
      "    conventions:               CF-1.0\n",
      "    history:                   2019-06-25 12:43:16.722925 xarray.open_dataset...\n",
      "    contents:                  Diagnostic and Prognostic Variables\n",
      "    comment2:                  File written on model date 20060201\n",
      "    NCO:                       4.3.4\n",
      "****************************************************************************************************\n",
      "****************************************************************************************************\n",
      "This query: {'experiment': 'RCP85', 'component': 'ice', 'stream': 'cice.h', 'variable': 'aice_sh'} returned:\n",
      "\n",
      "- 1 unique variable(s)\n",
      "\n",
      "\n",
      "- Number of files: 73\n",
      "\n",
      "\n",
      "- 40 member(s)\n",
      "\n",
      "\n",
      "- 40 case(s)\n",
      "\n",
      "\n"
     ]
    },
    {
     "data": {
      "application/vnd.jupyter.widget-view+json": {
       "model_id": "b30adf0409e141caa994c1bd8ccdbb87",
       "version_major": 2,
       "version_minor": 0
      },
      "text/plain": [
       "HBox(children=(IntProgress(value=0, description='dataset', max=1, style=ProgressStyle(description_width='initi…"
      ]
     },
     "metadata": {},
     "output_type": "display_data"
    },
    {
     "data": {
      "application/vnd.jupyter.widget-view+json": {
       "model_id": "c8e8c109f84d4a43a85efe6fe6cb3643",
       "version_major": 2,
       "version_minor": 0
      },
      "text/plain": [
       "HBox(children=(IntProgress(value=0, description='member', max=40, style=ProgressStyle(description_width='initi…"
      ]
     },
     "metadata": {},
     "output_type": "display_data"
    },
    {
     "name": "stdout",
     "output_type": "stream",
     "text": [
      "+++++++++++++++++++++++++++++++++++\n",
      "Variable name: aice\n",
      "Chunk shape: (1, 24, 76, 320)\n",
      "Dataset shape: (40, 1140, 76, 320)\n",
      "Chunk size: 2.33 MB\n",
      "Dataset size: 4.56 GB\n",
      "+++++++++++++++++++++++++++++++++++\n",
      "<xarray.Dataset>\n",
      "Dimensions:      (d2: 2, member_id: 40, ni: 320, nj: 76, nvertices: 4, time: 1140)\n",
      "Coordinates:\n",
      "  * time         (time) float64 7.322e+05 7.322e+05 ... 7.668e+05 7.669e+05\n",
      "  * member_id    (member_id) int64 1 2 3 4 5 6 7 8 ... 34 35 101 102 103 104 105\n",
      "Dimensions without coordinates: d2, ni, nj, nvertices\n",
      "Data variables:\n",
      "    ANGLE        (member_id, nj, ni) float32 dask.array<shape=(40, 76, 320), chunksize=(1, 76, 320)>\n",
      "    ANGLET       (member_id, nj, ni) float32 dask.array<shape=(40, 76, 320), chunksize=(1, 76, 320)>\n",
      "    HTE          (member_id, nj, ni) float32 dask.array<shape=(40, 76, 320), chunksize=(1, 76, 320)>\n",
      "    HTN          (member_id, nj, ni) float32 dask.array<shape=(40, 76, 320), chunksize=(1, 76, 320)>\n",
      "    TLAT         (member_id, nj, ni) float32 dask.array<shape=(40, 76, 320), chunksize=(1, 76, 320)>\n",
      "    TLON         (member_id, nj, ni) float32 dask.array<shape=(40, 76, 320), chunksize=(1, 76, 320)>\n",
      "    ULAT         (member_id, nj, ni) float32 dask.array<shape=(40, 76, 320), chunksize=(1, 76, 320)>\n",
      "    ULON         (member_id, nj, ni) float32 dask.array<shape=(40, 76, 320), chunksize=(1, 76, 320)>\n",
      "    blkmask      (member_id, nj, ni) float32 dask.array<shape=(40, 76, 320), chunksize=(1, 76, 320)>\n",
      "    dxt          (member_id, nj, ni) float32 dask.array<shape=(40, 76, 320), chunksize=(1, 76, 320)>\n",
      "    dxu          (member_id, nj, ni) float32 dask.array<shape=(40, 76, 320), chunksize=(1, 76, 320)>\n",
      "    dyt          (member_id, nj, ni) float32 dask.array<shape=(40, 76, 320), chunksize=(1, 76, 320)>\n",
      "    dyu          (member_id, nj, ni) float32 dask.array<shape=(40, 76, 320), chunksize=(1, 76, 320)>\n",
      "    latt_bounds  (member_id, nj, ni, nvertices) float32 dask.array<shape=(40, 76, 320, 4), chunksize=(1, 76, 320, 4)>\n",
      "    latu_bounds  (member_id, nj, ni, nvertices) float32 dask.array<shape=(40, 76, 320, 4), chunksize=(1, 76, 320, 4)>\n",
      "    lont_bounds  (member_id, nj, ni, nvertices) float32 dask.array<shape=(40, 76, 320, 4), chunksize=(1, 76, 320, 4)>\n",
      "    lonu_bounds  (member_id, nj, ni, nvertices) float32 dask.array<shape=(40, 76, 320, 4), chunksize=(1, 76, 320, 4)>\n",
      "    tarea        (member_id, nj, ni) float32 dask.array<shape=(40, 76, 320), chunksize=(1, 76, 320)>\n",
      "    tmask        (member_id, nj, ni) float32 dask.array<shape=(40, 76, 320), chunksize=(1, 76, 320)>\n",
      "    uarea        (member_id, nj, ni) float32 dask.array<shape=(40, 76, 320), chunksize=(1, 76, 320)>\n",
      "    aice         (member_id, time, nj, ni) float32 dask.array<shape=(40, 1140, 76, 320), chunksize=(1, 24, 76, 320)>\n",
      "    time_bounds  (member_id, time, d2) float32 dask.array<shape=(40, 1140, 2), chunksize=(1, 24, 2)>\n",
      "Attributes:\n",
      "    nco_openmp_thread_number:  1\n",
      "    comment3:                  seconds elapsed into model date:      0\n",
      "    comment:                   All years have exactly 365 days\n",
      "    source:                    sea ice model: Community Ice Code (CICE)\n",
      "    conventions:               CF-1.0\n",
      "    history:                   2019-06-25 12:43:27.287450 xarray.open_dataset...\n",
      "    contents:                  Diagnostic and Prognostic Variables\n",
      "    comment2:                  File written on model date 20060201\n",
      "    NCO:                       4.3.4\n",
      "****************************************************************************************************\n",
      "****************************************************************************************************\n",
      "This query: {'experiment': 'RCP85', 'component': 'ice', 'stream': 'cice.h', 'variable': 'hi_nh'} returned:\n",
      "\n",
      "- 1 unique variable(s)\n",
      "\n",
      "\n",
      "- Number of files: 73\n",
      "\n",
      "\n",
      "- 40 member(s)\n",
      "\n",
      "\n",
      "- 40 case(s)\n",
      "\n",
      "\n"
     ]
    },
    {
     "data": {
      "application/vnd.jupyter.widget-view+json": {
       "model_id": "0d65589edeb74fb48892a6c79c6e35b0",
       "version_major": 2,
       "version_minor": 0
      },
      "text/plain": [
       "HBox(children=(IntProgress(value=0, description='dataset', max=1, style=ProgressStyle(description_width='initi…"
      ]
     },
     "metadata": {},
     "output_type": "display_data"
    },
    {
     "data": {
      "application/vnd.jupyter.widget-view+json": {
       "model_id": "187adefa83294f60b2bec96e0e082471",
       "version_major": 2,
       "version_minor": 0
      },
      "text/plain": [
       "HBox(children=(IntProgress(value=0, description='member', max=40, style=ProgressStyle(description_width='initi…"
      ]
     },
     "metadata": {},
     "output_type": "display_data"
    },
    {
     "name": "stdout",
     "output_type": "stream",
     "text": [
      "+++++++++++++++++++++++++++++++++++\n",
      "Variable name: hi\n",
      "Chunk shape: (1, 24, 104, 320)\n",
      "Dataset shape: (40, 1140, 104, 320)\n",
      "Chunk size: 3.19 MB\n",
      "Dataset size: 6.24 GB\n",
      "+++++++++++++++++++++++++++++++++++\n",
      "<xarray.Dataset>\n",
      "Dimensions:      (d2: 2, member_id: 40, ni: 320, nj: 104, nvertices: 4, time: 1140)\n",
      "Coordinates:\n",
      "  * time         (time) float64 7.322e+05 7.322e+05 ... 7.668e+05 7.669e+05\n",
      "  * member_id    (member_id) int64 1 2 3 4 5 6 7 8 ... 34 35 101 102 103 104 105\n",
      "Dimensions without coordinates: d2, ni, nj, nvertices\n",
      "Data variables:\n",
      "    ANGLE        (member_id, nj, ni) float32 dask.array<shape=(40, 104, 320), chunksize=(1, 104, 320)>\n",
      "    ANGLET       (member_id, nj, ni) float32 dask.array<shape=(40, 104, 320), chunksize=(1, 104, 320)>\n",
      "    HTE          (member_id, nj, ni) float32 dask.array<shape=(40, 104, 320), chunksize=(1, 104, 320)>\n",
      "    HTN          (member_id, nj, ni) float32 dask.array<shape=(40, 104, 320), chunksize=(1, 104, 320)>\n",
      "    TLAT         (member_id, nj, ni) float32 dask.array<shape=(40, 104, 320), chunksize=(1, 104, 320)>\n",
      "    TLON         (member_id, nj, ni) float32 dask.array<shape=(40, 104, 320), chunksize=(1, 104, 320)>\n",
      "    ULAT         (member_id, nj, ni) float32 dask.array<shape=(40, 104, 320), chunksize=(1, 104, 320)>\n",
      "    ULON         (member_id, nj, ni) float32 dask.array<shape=(40, 104, 320), chunksize=(1, 104, 320)>\n",
      "    blkmask      (member_id, nj, ni) float32 dask.array<shape=(40, 104, 320), chunksize=(1, 104, 320)>\n",
      "    dxt          (member_id, nj, ni) float32 dask.array<shape=(40, 104, 320), chunksize=(1, 104, 320)>\n",
      "    dxu          (member_id, nj, ni) float32 dask.array<shape=(40, 104, 320), chunksize=(1, 104, 320)>\n",
      "    dyt          (member_id, nj, ni) float32 dask.array<shape=(40, 104, 320), chunksize=(1, 104, 320)>\n",
      "    dyu          (member_id, nj, ni) float32 dask.array<shape=(40, 104, 320), chunksize=(1, 104, 320)>\n",
      "    latt_bounds  (member_id, nj, ni, nvertices) float32 dask.array<shape=(40, 104, 320, 4), chunksize=(1, 104, 320, 4)>\n",
      "    latu_bounds  (member_id, nj, ni, nvertices) float32 dask.array<shape=(40, 104, 320, 4), chunksize=(1, 104, 320, 4)>\n",
      "    lont_bounds  (member_id, nj, ni, nvertices) float32 dask.array<shape=(40, 104, 320, 4), chunksize=(1, 104, 320, 4)>\n",
      "    lonu_bounds  (member_id, nj, ni, nvertices) float32 dask.array<shape=(40, 104, 320, 4), chunksize=(1, 104, 320, 4)>\n",
      "    tarea        (member_id, nj, ni) float32 dask.array<shape=(40, 104, 320), chunksize=(1, 104, 320)>\n",
      "    tmask        (member_id, nj, ni) float32 dask.array<shape=(40, 104, 320), chunksize=(1, 104, 320)>\n",
      "    uarea        (member_id, nj, ni) float32 dask.array<shape=(40, 104, 320), chunksize=(1, 104, 320)>\n",
      "    hi           (member_id, time, nj, ni) float32 dask.array<shape=(40, 1140, 104, 320), chunksize=(1, 24, 104, 320)>\n",
      "    time_bounds  (member_id, time, d2) float32 dask.array<shape=(40, 1140, 2), chunksize=(1, 24, 2)>\n",
      "Attributes:\n",
      "    nco_openmp_thread_number:  1\n",
      "    comment3:                  seconds elapsed into model date:      0\n",
      "    comment:                   All years have exactly 365 days\n",
      "    source:                    sea ice model: Community Ice Code (CICE)\n",
      "    conventions:               CF-1.0\n",
      "    history:                   2019-06-25 12:43:36.101338 xarray.open_dataset...\n",
      "    contents:                  Diagnostic and Prognostic Variables\n",
      "    comment2:                  File written on model date 20060201\n",
      "    NCO:                       4.3.4\n",
      "****************************************************************************************************\n",
      "****************************************************************************************************\n",
      "This query: {'experiment': 'RCP85', 'component': 'ice', 'stream': 'cice.h', 'variable': 'hi_sh'} returned:\n",
      "\n",
      "- 1 unique variable(s)\n",
      "\n",
      "\n",
      "- Number of files: 73\n",
      "\n",
      "\n",
      "- 40 member(s)\n",
      "\n",
      "\n",
      "- 40 case(s)\n",
      "\n",
      "\n"
     ]
    },
    {
     "data": {
      "application/vnd.jupyter.widget-view+json": {
       "model_id": "c595cfe40c0c492fb494746c98c93b1d",
       "version_major": 2,
       "version_minor": 0
      },
      "text/plain": [
       "HBox(children=(IntProgress(value=0, description='dataset', max=1, style=ProgressStyle(description_width='initi…"
      ]
     },
     "metadata": {},
     "output_type": "display_data"
    },
    {
     "data": {
      "application/vnd.jupyter.widget-view+json": {
       "model_id": "b35f54a3e4c1458c900f5fb938cd00a9",
       "version_major": 2,
       "version_minor": 0
      },
      "text/plain": [
       "HBox(children=(IntProgress(value=0, description='member', max=40, style=ProgressStyle(description_width='initi…"
      ]
     },
     "metadata": {},
     "output_type": "display_data"
    },
    {
     "name": "stderr",
     "output_type": "stream",
     "text": [
      "distributed.utils_perf - WARNING - full garbage collections took 10% CPU time recently (threshold: 10%)\n"
     ]
    },
    {
     "name": "stdout",
     "output_type": "stream",
     "text": [
      "+++++++++++++++++++++++++++++++++++\n",
      "Variable name: hi\n",
      "Chunk shape: (1, 24, 76, 320)\n",
      "Dataset shape: (40, 1140, 76, 320)\n",
      "Chunk size: 2.33 MB\n",
      "Dataset size: 4.56 GB\n",
      "+++++++++++++++++++++++++++++++++++\n",
      "<xarray.Dataset>\n",
      "Dimensions:      (d2: 2, member_id: 40, ni: 320, nj: 76, nvertices: 4, time: 1140)\n",
      "Coordinates:\n",
      "  * time         (time) float64 7.322e+05 7.322e+05 ... 7.668e+05 7.669e+05\n",
      "  * member_id    (member_id) int64 1 2 3 4 5 6 7 8 ... 34 35 101 102 103 104 105\n",
      "Dimensions without coordinates: d2, ni, nj, nvertices\n",
      "Data variables:\n",
      "    ANGLE        (member_id, nj, ni) float32 dask.array<shape=(40, 76, 320), chunksize=(1, 76, 320)>\n",
      "    ANGLET       (member_id, nj, ni) float32 dask.array<shape=(40, 76, 320), chunksize=(1, 76, 320)>\n",
      "    HTE          (member_id, nj, ni) float32 dask.array<shape=(40, 76, 320), chunksize=(1, 76, 320)>\n",
      "    HTN          (member_id, nj, ni) float32 dask.array<shape=(40, 76, 320), chunksize=(1, 76, 320)>\n",
      "    TLAT         (member_id, nj, ni) float32 dask.array<shape=(40, 76, 320), chunksize=(1, 76, 320)>\n",
      "    TLON         (member_id, nj, ni) float32 dask.array<shape=(40, 76, 320), chunksize=(1, 76, 320)>\n",
      "    ULAT         (member_id, nj, ni) float32 dask.array<shape=(40, 76, 320), chunksize=(1, 76, 320)>\n",
      "    ULON         (member_id, nj, ni) float32 dask.array<shape=(40, 76, 320), chunksize=(1, 76, 320)>\n",
      "    blkmask      (member_id, nj, ni) float32 dask.array<shape=(40, 76, 320), chunksize=(1, 76, 320)>\n",
      "    dxt          (member_id, nj, ni) float32 dask.array<shape=(40, 76, 320), chunksize=(1, 76, 320)>\n",
      "    dxu          (member_id, nj, ni) float32 dask.array<shape=(40, 76, 320), chunksize=(1, 76, 320)>\n",
      "    dyt          (member_id, nj, ni) float32 dask.array<shape=(40, 76, 320), chunksize=(1, 76, 320)>\n",
      "    dyu          (member_id, nj, ni) float32 dask.array<shape=(40, 76, 320), chunksize=(1, 76, 320)>\n",
      "    latt_bounds  (member_id, nj, ni, nvertices) float32 dask.array<shape=(40, 76, 320, 4), chunksize=(1, 76, 320, 4)>\n",
      "    latu_bounds  (member_id, nj, ni, nvertices) float32 dask.array<shape=(40, 76, 320, 4), chunksize=(1, 76, 320, 4)>\n",
      "    lont_bounds  (member_id, nj, ni, nvertices) float32 dask.array<shape=(40, 76, 320, 4), chunksize=(1, 76, 320, 4)>\n",
      "    lonu_bounds  (member_id, nj, ni, nvertices) float32 dask.array<shape=(40, 76, 320, 4), chunksize=(1, 76, 320, 4)>\n",
      "    tarea        (member_id, nj, ni) float32 dask.array<shape=(40, 76, 320), chunksize=(1, 76, 320)>\n",
      "    tmask        (member_id, nj, ni) float32 dask.array<shape=(40, 76, 320), chunksize=(1, 76, 320)>\n",
      "    uarea        (member_id, nj, ni) float32 dask.array<shape=(40, 76, 320), chunksize=(1, 76, 320)>\n",
      "    hi           (member_id, time, nj, ni) float32 dask.array<shape=(40, 1140, 76, 320), chunksize=(1, 24, 76, 320)>\n",
      "    time_bounds  (member_id, time, d2) float32 dask.array<shape=(40, 1140, 2), chunksize=(1, 24, 2)>\n",
      "Attributes:\n",
      "    nco_openmp_thread_number:  1\n",
      "    comment3:                  seconds elapsed into model date:      0\n",
      "    comment:                   All years have exactly 365 days\n",
      "    source:                    sea ice model: Community Ice Code (CICE)\n",
      "    conventions:               CF-1.0\n",
      "    history:                   2019-06-25 12:43:45.085635 xarray.open_dataset...\n",
      "    contents:                  Diagnostic and Prognostic Variables\n",
      "    comment2:                  File written on model date 20060201\n",
      "    NCO:                       4.3.4\n",
      "****************************************************************************************************\n",
      "****************************************************************************************************\n",
      "This query: {'experiment': 'RCP85', 'component': 'lnd', 'stream': 'clm2.h0', 'variable': 'FSNO'} returned:\n",
      "\n",
      "- 1 unique variable(s)\n",
      "\n",
      "\n",
      "- Number of files: 73\n",
      "\n",
      "\n",
      "- 40 member(s)\n",
      "\n",
      "\n",
      "- 40 case(s)\n",
      "\n",
      "\n"
     ]
    },
    {
     "data": {
      "application/vnd.jupyter.widget-view+json": {
       "model_id": "9e54f8e6cd624c8caf9c1c7a10bbd40e",
       "version_major": 2,
       "version_minor": 0
      },
      "text/plain": [
       "HBox(children=(IntProgress(value=0, description='dataset', max=1, style=ProgressStyle(description_width='initi…"
      ]
     },
     "metadata": {},
     "output_type": "display_data"
    },
    {
     "data": {
      "application/vnd.jupyter.widget-view+json": {
       "model_id": "67361c63d881455a9add2c1f3e71b460",
       "version_major": 2,
       "version_minor": 0
      },
      "text/plain": [
       "HBox(children=(IntProgress(value=0, description='member', max=40, style=ProgressStyle(description_width='initi…"
      ]
     },
     "metadata": {},
     "output_type": "display_data"
    },
    {
     "name": "stderr",
     "output_type": "stream",
     "text": [
      "distributed.utils_perf - WARNING - full garbage collections took 10% CPU time recently (threshold: 10%)\n"
     ]
    },
    {
     "name": "stdout",
     "output_type": "stream",
     "text": [
      "+++++++++++++++++++++++++++++++++++\n",
      "Variable name: FSNO\n",
      "Chunk shape: (1, 24, 192, 288)\n",
      "Dataset shape: (40, 1140, 192, 288)\n",
      "Chunk size: 5.31 MB\n",
      "Dataset size: 10.95 GB\n",
      "+++++++++++++++++++++++++++++++++++\n",
      "<xarray.Dataset>\n",
      "Dimensions:       (hist_interval: 2, lat: 192, levgrnd: 15, levlak: 10, lon: 288, member_id: 40, time: 1140)\n",
      "Coordinates:\n",
      "  * lat           (lat) float32 -90.0 -89.057594 -88.11518 ... 89.057594 90.0\n",
      "  * levgrnd       (levgrnd) float32 0.007100635 0.027925 ... 21.32647 35.17762\n",
      "  * levlak        (levlak) float32 0.05 0.6 2.1 4.6 ... 18.6 25.6 34.325 44.775\n",
      "  * lon           (lon) float32 0.0 1.25 2.5 3.75 ... 355.0 356.25 357.5 358.75\n",
      "  * time          (time) float64 31.0 59.0 90.0 ... 3.464e+04 3.468e+04\n",
      "  * member_id     (member_id) int64 1 2 3 4 5 6 7 ... 34 35 101 102 103 104 105\n",
      "Dimensions without coordinates: hist_interval\n",
      "Data variables:\n",
      "    BSW           (member_id, levgrnd, lat, lon) float32 dask.array<shape=(40, 15, 192, 288), chunksize=(1, 15, 192, 288)>\n",
      "    DZSOI         (member_id, levgrnd, lat, lon) float32 dask.array<shape=(40, 15, 192, 288), chunksize=(1, 15, 192, 288)>\n",
      "    HKSAT         (member_id, levgrnd, lat, lon) float32 dask.array<shape=(40, 15, 192, 288), chunksize=(1, 15, 192, 288)>\n",
      "    SUCSAT        (member_id, levgrnd, lat, lon) float32 dask.array<shape=(40, 15, 192, 288), chunksize=(1, 15, 192, 288)>\n",
      "    WATSAT        (member_id, levgrnd, lat, lon) float32 dask.array<shape=(40, 15, 192, 288), chunksize=(1, 15, 192, 288)>\n",
      "    ZSOI          (member_id, levgrnd, lat, lon) float32 dask.array<shape=(40, 15, 192, 288), chunksize=(1, 15, 192, 288)>\n",
      "    area          (member_id, lat, lon) float32 dask.array<shape=(40, 192, 288), chunksize=(1, 192, 288)>\n",
      "    landfrac      (member_id, lat, lon) float32 dask.array<shape=(40, 192, 288), chunksize=(1, 192, 288)>\n",
      "    landmask      (member_id, lat, lon) float64 dask.array<shape=(40, 192, 288), chunksize=(1, 192, 288)>\n",
      "    pftmask       (member_id, lat, lon) float64 dask.array<shape=(40, 192, 288), chunksize=(1, 192, 288)>\n",
      "    topo          (member_id, lat, lon) float32 dask.array<shape=(40, 192, 288), chunksize=(1, 192, 288)>\n",
      "    FSNO          (member_id, time, lat, lon) float32 dask.array<shape=(40, 1140, 192, 288), chunksize=(1, 24, 192, 288)>\n",
      "    date_written  (member_id, time) |S8 dask.array<shape=(40, 1140), chunksize=(1, 24)>\n",
      "    mcdate        (member_id, time) int32 dask.array<shape=(40, 1140), chunksize=(1, 24)>\n",
      "    mcsec         (member_id, time) int32 dask.array<shape=(40, 1140), chunksize=(1, 24)>\n",
      "    mdcur         (member_id, time) int32 dask.array<shape=(40, 1140), chunksize=(1, 24)>\n",
      "    mscur         (member_id, time) int32 dask.array<shape=(40, 1140), chunksize=(1, 24)>\n",
      "    nstep         (member_id, time) int32 dask.array<shape=(40, 1140), chunksize=(1, 24)>\n",
      "    time_bounds   (member_id, time, hist_interval) float64 dask.array<shape=(40, 1140, 2), chunksize=(1, 24, 2)>\n",
      "    time_written  (member_id, time) |S8 dask.array<shape=(40, 1140), chunksize=(1, 24)>\n",
      "Attributes:\n",
      "    nco_openmp_thread_number:             1\n",
      "    version:                              cesm1_1_1_alpha01g\n",
      "    revision_id:                          $Id: histFileMod.F90 40539 2012-09-...\n",
      "    history:                              2019-06-25 12:43:54.049869 xarray.o...\n",
      "    case_title:                           UNSET\n",
      "    Conventions:                          CF-1.0\n",
      "    hostname:                             tcs\n",
      "    PFT_physiological_constants_dataset:  pft-physiology.c110425.nc\n",
      "    comment:                              NOTE: None of the variables are wei...\n",
      "    title:                                CLM History file information\n",
      "    source:                               Community Land Model CLM4.0\n",
      "    Initial_conditions_dataset:           b.e11.B20TRC5CNBDRD.f09_g16.105.clm...\n",
      "    Surface_dataset:                      surfdata_0.9x1.25_simyr1850_c110921.nc\n",
      "    username:                             mudryk\n",
      "    NCO:                                  4.3.4\n",
      "****************************************************************************************************\n",
      "****************************************************************************************************\n",
      "This query: {'experiment': 'RCP85', 'component': 'lnd', 'stream': 'clm2.h0', 'variable': 'H2OSNO'} returned:\n",
      "\n",
      "- 1 unique variable(s)\n",
      "\n",
      "\n",
      "- Number of files: 73\n",
      "\n",
      "\n",
      "- 40 member(s)\n",
      "\n",
      "\n",
      "- 40 case(s)\n",
      "\n",
      "\n"
     ]
    },
    {
     "data": {
      "application/vnd.jupyter.widget-view+json": {
       "model_id": "252950ee50594f3791d0df619da59576",
       "version_major": 2,
       "version_minor": 0
      },
      "text/plain": [
       "HBox(children=(IntProgress(value=0, description='dataset', max=1, style=ProgressStyle(description_width='initi…"
      ]
     },
     "metadata": {},
     "output_type": "display_data"
    },
    {
     "data": {
      "application/vnd.jupyter.widget-view+json": {
       "model_id": "a840edbe480e46ffabc7357223ae572c",
       "version_major": 2,
       "version_minor": 0
      },
      "text/plain": [
       "HBox(children=(IntProgress(value=0, description='member', max=40, style=ProgressStyle(description_width='initi…"
      ]
     },
     "metadata": {},
     "output_type": "display_data"
    },
    {
     "name": "stdout",
     "output_type": "stream",
     "text": [
      "+++++++++++++++++++++++++++++++++++\n",
      "Variable name: H2OSNO\n",
      "Chunk shape: (1, 24, 192, 288)\n",
      "Dataset shape: (40, 1140, 192, 288)\n",
      "Chunk size: 5.31 MB\n",
      "Dataset size: 10.95 GB\n",
      "+++++++++++++++++++++++++++++++++++\n",
      "<xarray.Dataset>\n",
      "Dimensions:       (hist_interval: 2, lat: 192, levgrnd: 15, levlak: 10, lon: 288, member_id: 40, time: 1140)\n",
      "Coordinates:\n",
      "  * lat           (lat) float32 -90.0 -89.057594 -88.11518 ... 89.057594 90.0\n",
      "  * levgrnd       (levgrnd) float32 0.007100635 0.027925 ... 21.32647 35.17762\n",
      "  * levlak        (levlak) float32 0.05 0.6 2.1 4.6 ... 18.6 25.6 34.325 44.775\n",
      "  * lon           (lon) float32 0.0 1.25 2.5 3.75 ... 355.0 356.25 357.5 358.75\n",
      "  * time          (time) float64 31.0 59.0 90.0 ... 3.464e+04 3.468e+04\n",
      "  * member_id     (member_id) int64 1 2 3 4 5 6 7 ... 34 35 101 102 103 104 105\n",
      "Dimensions without coordinates: hist_interval\n",
      "Data variables:\n",
      "    BSW           (member_id, levgrnd, lat, lon) float32 dask.array<shape=(40, 15, 192, 288), chunksize=(1, 15, 192, 288)>\n",
      "    DZSOI         (member_id, levgrnd, lat, lon) float32 dask.array<shape=(40, 15, 192, 288), chunksize=(1, 15, 192, 288)>\n",
      "    HKSAT         (member_id, levgrnd, lat, lon) float32 dask.array<shape=(40, 15, 192, 288), chunksize=(1, 15, 192, 288)>\n",
      "    SUCSAT        (member_id, levgrnd, lat, lon) float32 dask.array<shape=(40, 15, 192, 288), chunksize=(1, 15, 192, 288)>\n",
      "    WATSAT        (member_id, levgrnd, lat, lon) float32 dask.array<shape=(40, 15, 192, 288), chunksize=(1, 15, 192, 288)>\n",
      "    ZSOI          (member_id, levgrnd, lat, lon) float32 dask.array<shape=(40, 15, 192, 288), chunksize=(1, 15, 192, 288)>\n",
      "    area          (member_id, lat, lon) float32 dask.array<shape=(40, 192, 288), chunksize=(1, 192, 288)>\n",
      "    landfrac      (member_id, lat, lon) float32 dask.array<shape=(40, 192, 288), chunksize=(1, 192, 288)>\n",
      "    landmask      (member_id, lat, lon) float64 dask.array<shape=(40, 192, 288), chunksize=(1, 192, 288)>\n",
      "    pftmask       (member_id, lat, lon) float64 dask.array<shape=(40, 192, 288), chunksize=(1, 192, 288)>\n",
      "    topo          (member_id, lat, lon) float32 dask.array<shape=(40, 192, 288), chunksize=(1, 192, 288)>\n",
      "    H2OSNO        (member_id, time, lat, lon) float32 dask.array<shape=(40, 1140, 192, 288), chunksize=(1, 24, 192, 288)>\n",
      "    date_written  (member_id, time) |S8 dask.array<shape=(40, 1140), chunksize=(1, 24)>\n",
      "    mcdate        (member_id, time) int32 dask.array<shape=(40, 1140), chunksize=(1, 24)>\n",
      "    mcsec         (member_id, time) int32 dask.array<shape=(40, 1140), chunksize=(1, 24)>\n",
      "    mdcur         (member_id, time) int32 dask.array<shape=(40, 1140), chunksize=(1, 24)>\n",
      "    mscur         (member_id, time) int32 dask.array<shape=(40, 1140), chunksize=(1, 24)>\n",
      "    nstep         (member_id, time) int32 dask.array<shape=(40, 1140), chunksize=(1, 24)>\n",
      "    time_bounds   (member_id, time, hist_interval) float64 dask.array<shape=(40, 1140, 2), chunksize=(1, 24, 2)>\n",
      "    time_written  (member_id, time) |S8 dask.array<shape=(40, 1140), chunksize=(1, 24)>\n",
      "Attributes:\n",
      "    nco_openmp_thread_number:             1\n",
      "    version:                              cesm1_1_1_alpha01g\n",
      "    revision_id:                          $Id: histFileMod.F90 40539 2012-09-...\n",
      "    history:                              2019-06-25 12:44:04.961688 xarray.o...\n",
      "    case_title:                           UNSET\n",
      "    Conventions:                          CF-1.0\n",
      "    hostname:                             tcs\n",
      "    PFT_physiological_constants_dataset:  pft-physiology.c110425.nc\n",
      "    comment:                              NOTE: None of the variables are wei...\n",
      "    title:                                CLM History file information\n",
      "    source:                               Community Land Model CLM4.0\n",
      "    Initial_conditions_dataset:           b.e11.B20TRC5CNBDRD.f09_g16.105.clm...\n",
      "    Surface_dataset:                      surfdata_0.9x1.25_simyr1850_c110921.nc\n",
      "    username:                             mudryk\n",
      "    NCO:                                  4.3.4\n",
      "****************************************************************************************************\n",
      "****************************************************************************************************\n",
      "This query: {'experiment': 'RCP85', 'component': 'lnd', 'stream': 'clm2.h0', 'variable': 'QRUNOFF'} returned:\n",
      "\n",
      "- 1 unique variable(s)\n",
      "\n",
      "\n",
      "- Number of files: 73\n",
      "\n",
      "\n",
      "- 40 member(s)\n",
      "\n",
      "\n",
      "- 40 case(s)\n",
      "\n",
      "\n"
     ]
    },
    {
     "data": {
      "application/vnd.jupyter.widget-view+json": {
       "model_id": "c4efd9de9b1244388f0585c0210a03f0",
       "version_major": 2,
       "version_minor": 0
      },
      "text/plain": [
       "HBox(children=(IntProgress(value=0, description='dataset', max=1, style=ProgressStyle(description_width='initi…"
      ]
     },
     "metadata": {},
     "output_type": "display_data"
    },
    {
     "data": {
      "application/vnd.jupyter.widget-view+json": {
       "model_id": "712e6a0ee6b54b7fb5ad30f736419474",
       "version_major": 2,
       "version_minor": 0
      },
      "text/plain": [
       "HBox(children=(IntProgress(value=0, description='member', max=40, style=ProgressStyle(description_width='initi…"
      ]
     },
     "metadata": {},
     "output_type": "display_data"
    },
    {
     "name": "stdout",
     "output_type": "stream",
     "text": [
      "+++++++++++++++++++++++++++++++++++\n",
      "Variable name: QRUNOFF\n",
      "Chunk shape: (1, 24, 192, 288)\n",
      "Dataset shape: (40, 1140, 192, 288)\n",
      "Chunk size: 5.31 MB\n",
      "Dataset size: 10.95 GB\n",
      "+++++++++++++++++++++++++++++++++++\n",
      "<xarray.Dataset>\n",
      "Dimensions:       (hist_interval: 2, lat: 192, levgrnd: 15, levlak: 10, lon: 288, member_id: 40, time: 1140)\n",
      "Coordinates:\n",
      "  * lat           (lat) float32 -90.0 -89.057594 -88.11518 ... 89.057594 90.0\n",
      "  * levgrnd       (levgrnd) float32 0.007100635 0.027925 ... 21.32647 35.17762\n",
      "  * levlak        (levlak) float32 0.05 0.6 2.1 4.6 ... 18.6 25.6 34.325 44.775\n",
      "  * lon           (lon) float32 0.0 1.25 2.5 3.75 ... 355.0 356.25 357.5 358.75\n",
      "  * time          (time) float64 31.0 59.0 90.0 ... 3.464e+04 3.468e+04\n",
      "  * member_id     (member_id) int64 1 2 3 4 5 6 7 ... 34 35 101 102 103 104 105\n",
      "Dimensions without coordinates: hist_interval\n",
      "Data variables:\n",
      "    BSW           (member_id, levgrnd, lat, lon) float32 dask.array<shape=(40, 15, 192, 288), chunksize=(1, 15, 192, 288)>\n",
      "    DZSOI         (member_id, levgrnd, lat, lon) float32 dask.array<shape=(40, 15, 192, 288), chunksize=(1, 15, 192, 288)>\n",
      "    HKSAT         (member_id, levgrnd, lat, lon) float32 dask.array<shape=(40, 15, 192, 288), chunksize=(1, 15, 192, 288)>\n",
      "    SUCSAT        (member_id, levgrnd, lat, lon) float32 dask.array<shape=(40, 15, 192, 288), chunksize=(1, 15, 192, 288)>\n",
      "    WATSAT        (member_id, levgrnd, lat, lon) float32 dask.array<shape=(40, 15, 192, 288), chunksize=(1, 15, 192, 288)>\n",
      "    ZSOI          (member_id, levgrnd, lat, lon) float32 dask.array<shape=(40, 15, 192, 288), chunksize=(1, 15, 192, 288)>\n",
      "    area          (member_id, lat, lon) float32 dask.array<shape=(40, 192, 288), chunksize=(1, 192, 288)>\n",
      "    landfrac      (member_id, lat, lon) float32 dask.array<shape=(40, 192, 288), chunksize=(1, 192, 288)>\n",
      "    landmask      (member_id, lat, lon) float64 dask.array<shape=(40, 192, 288), chunksize=(1, 192, 288)>\n",
      "    pftmask       (member_id, lat, lon) float64 dask.array<shape=(40, 192, 288), chunksize=(1, 192, 288)>\n",
      "    topo          (member_id, lat, lon) float32 dask.array<shape=(40, 192, 288), chunksize=(1, 192, 288)>\n",
      "    QRUNOFF       (member_id, time, lat, lon) float32 dask.array<shape=(40, 1140, 192, 288), chunksize=(1, 24, 192, 288)>\n",
      "    date_written  (member_id, time) |S8 dask.array<shape=(40, 1140), chunksize=(1, 24)>\n",
      "    mcdate        (member_id, time) int32 dask.array<shape=(40, 1140), chunksize=(1, 24)>\n",
      "    mcsec         (member_id, time) int32 dask.array<shape=(40, 1140), chunksize=(1, 24)>\n",
      "    mdcur         (member_id, time) int32 dask.array<shape=(40, 1140), chunksize=(1, 24)>\n",
      "    mscur         (member_id, time) int32 dask.array<shape=(40, 1140), chunksize=(1, 24)>\n",
      "    nstep         (member_id, time) int32 dask.array<shape=(40, 1140), chunksize=(1, 24)>\n",
      "    time_bounds   (member_id, time, hist_interval) float64 dask.array<shape=(40, 1140, 2), chunksize=(1, 24, 2)>\n",
      "    time_written  (member_id, time) |S8 dask.array<shape=(40, 1140), chunksize=(1, 24)>\n",
      "Attributes:\n",
      "    nco_openmp_thread_number:             1\n",
      "    version:                              cesm1_1_1_alpha01g\n",
      "    revision_id:                          $Id: histFileMod.F90 40539 2012-09-...\n",
      "    history:                              2019-06-25 12:44:15.656391 xarray.o...\n",
      "    case_title:                           UNSET\n",
      "    Conventions:                          CF-1.0\n",
      "    hostname:                             tcs\n",
      "    PFT_physiological_constants_dataset:  pft-physiology.c110425.nc\n",
      "    comment:                              NOTE: None of the variables are wei...\n",
      "    title:                                CLM History file information\n",
      "    source:                               Community Land Model CLM4.0\n",
      "    Initial_conditions_dataset:           b.e11.B20TRC5CNBDRD.f09_g16.105.clm...\n",
      "    Surface_dataset:                      surfdata_0.9x1.25_simyr1850_c110921.nc\n",
      "    username:                             mudryk\n",
      "    NCO:                                  4.3.4\n",
      "****************************************************************************************************\n",
      "****************************************************************************************************\n",
      "This query: {'experiment': 'RCP85', 'component': 'lnd', 'stream': 'clm2.h0', 'variable': 'RAIN'} returned:\n",
      "\n",
      "- 1 unique variable(s)\n",
      "\n",
      "\n",
      "- Number of files: 73\n",
      "\n",
      "\n",
      "- 40 member(s)\n",
      "\n",
      "\n",
      "- 40 case(s)\n",
      "\n",
      "\n"
     ]
    },
    {
     "data": {
      "application/vnd.jupyter.widget-view+json": {
       "model_id": "2d2c1610f93140b080d455206e1af6c9",
       "version_major": 2,
       "version_minor": 0
      },
      "text/plain": [
       "HBox(children=(IntProgress(value=0, description='dataset', max=1, style=ProgressStyle(description_width='initi…"
      ]
     },
     "metadata": {},
     "output_type": "display_data"
    },
    {
     "data": {
      "application/vnd.jupyter.widget-view+json": {
       "model_id": "79a7502875e34cfe866496e94868bb76",
       "version_major": 2,
       "version_minor": 0
      },
      "text/plain": [
       "HBox(children=(IntProgress(value=0, description='member', max=40, style=ProgressStyle(description_width='initi…"
      ]
     },
     "metadata": {},
     "output_type": "display_data"
    },
    {
     "name": "stdout",
     "output_type": "stream",
     "text": [
      "+++++++++++++++++++++++++++++++++++\n",
      "Variable name: RAIN\n",
      "Chunk shape: (1, 24, 192, 288)\n",
      "Dataset shape: (40, 1140, 192, 288)\n",
      "Chunk size: 5.31 MB\n",
      "Dataset size: 10.95 GB\n",
      "+++++++++++++++++++++++++++++++++++\n",
      "<xarray.Dataset>\n",
      "Dimensions:       (hist_interval: 2, lat: 192, levgrnd: 15, levlak: 10, lon: 288, member_id: 40, time: 1140)\n",
      "Coordinates:\n",
      "  * lat           (lat) float32 -90.0 -89.057594 -88.11518 ... 89.057594 90.0\n",
      "  * levgrnd       (levgrnd) float32 0.007100635 0.027925 ... 21.32647 35.17762\n",
      "  * levlak        (levlak) float32 0.05 0.6 2.1 4.6 ... 18.6 25.6 34.325 44.775\n",
      "  * lon           (lon) float32 0.0 1.25 2.5 3.75 ... 355.0 356.25 357.5 358.75\n",
      "  * time          (time) float64 31.0 59.0 90.0 ... 3.464e+04 3.468e+04\n",
      "  * member_id     (member_id) int64 1 2 3 4 5 6 7 ... 34 35 101 102 103 104 105\n",
      "Dimensions without coordinates: hist_interval\n",
      "Data variables:\n",
      "    BSW           (member_id, levgrnd, lat, lon) float32 dask.array<shape=(40, 15, 192, 288), chunksize=(1, 15, 192, 288)>\n",
      "    DZSOI         (member_id, levgrnd, lat, lon) float32 dask.array<shape=(40, 15, 192, 288), chunksize=(1, 15, 192, 288)>\n",
      "    HKSAT         (member_id, levgrnd, lat, lon) float32 dask.array<shape=(40, 15, 192, 288), chunksize=(1, 15, 192, 288)>\n",
      "    SUCSAT        (member_id, levgrnd, lat, lon) float32 dask.array<shape=(40, 15, 192, 288), chunksize=(1, 15, 192, 288)>\n",
      "    WATSAT        (member_id, levgrnd, lat, lon) float32 dask.array<shape=(40, 15, 192, 288), chunksize=(1, 15, 192, 288)>\n",
      "    ZSOI          (member_id, levgrnd, lat, lon) float32 dask.array<shape=(40, 15, 192, 288), chunksize=(1, 15, 192, 288)>\n",
      "    area          (member_id, lat, lon) float32 dask.array<shape=(40, 192, 288), chunksize=(1, 192, 288)>\n",
      "    landfrac      (member_id, lat, lon) float32 dask.array<shape=(40, 192, 288), chunksize=(1, 192, 288)>\n",
      "    landmask      (member_id, lat, lon) float64 dask.array<shape=(40, 192, 288), chunksize=(1, 192, 288)>\n",
      "    pftmask       (member_id, lat, lon) float64 dask.array<shape=(40, 192, 288), chunksize=(1, 192, 288)>\n",
      "    topo          (member_id, lat, lon) float32 dask.array<shape=(40, 192, 288), chunksize=(1, 192, 288)>\n",
      "    RAIN          (member_id, time, lat, lon) float32 dask.array<shape=(40, 1140, 192, 288), chunksize=(1, 24, 192, 288)>\n",
      "    date_written  (member_id, time) |S8 dask.array<shape=(40, 1140), chunksize=(1, 24)>\n",
      "    mcdate        (member_id, time) int32 dask.array<shape=(40, 1140), chunksize=(1, 24)>\n",
      "    mcsec         (member_id, time) int32 dask.array<shape=(40, 1140), chunksize=(1, 24)>\n",
      "    mdcur         (member_id, time) int32 dask.array<shape=(40, 1140), chunksize=(1, 24)>\n",
      "    mscur         (member_id, time) int32 dask.array<shape=(40, 1140), chunksize=(1, 24)>\n",
      "    nstep         (member_id, time) int32 dask.array<shape=(40, 1140), chunksize=(1, 24)>\n",
      "    time_bounds   (member_id, time, hist_interval) float64 dask.array<shape=(40, 1140, 2), chunksize=(1, 24, 2)>\n",
      "    time_written  (member_id, time) |S8 dask.array<shape=(40, 1140), chunksize=(1, 24)>\n",
      "Attributes:\n",
      "    nco_openmp_thread_number:             1\n",
      "    version:                              cesm1_1_1_alpha01g\n",
      "    revision_id:                          $Id: histFileMod.F90 40539 2012-09-...\n",
      "    history:                              2019-06-25 12:44:26.384110 xarray.o...\n",
      "    case_title:                           UNSET\n",
      "    Conventions:                          CF-1.0\n",
      "    hostname:                             tcs\n",
      "    PFT_physiological_constants_dataset:  pft-physiology.c110425.nc\n",
      "    comment:                              NOTE: None of the variables are wei...\n",
      "    title:                                CLM History file information\n",
      "    source:                               Community Land Model CLM4.0\n",
      "    Initial_conditions_dataset:           b.e11.B20TRC5CNBDRD.f09_g16.105.clm...\n",
      "    Surface_dataset:                      surfdata_0.9x1.25_simyr1850_c110921.nc\n",
      "    username:                             mudryk\n",
      "    NCO:                                  4.3.4\n",
      "****************************************************************************************************\n",
      "****************************************************************************************************\n",
      "This query: {'experiment': 'RCP85', 'component': 'lnd', 'stream': 'clm2.h0', 'variable': 'SNOW'} returned:\n",
      "\n",
      "- 1 unique variable(s)\n",
      "\n",
      "\n",
      "- Number of files: 73\n",
      "\n",
      "\n",
      "- 40 member(s)\n",
      "\n",
      "\n",
      "- 40 case(s)\n",
      "\n",
      "\n"
     ]
    },
    {
     "data": {
      "application/vnd.jupyter.widget-view+json": {
       "model_id": "9d1d191053d04997ad5c2c6e1a402823",
       "version_major": 2,
       "version_minor": 0
      },
      "text/plain": [
       "HBox(children=(IntProgress(value=0, description='dataset', max=1, style=ProgressStyle(description_width='initi…"
      ]
     },
     "metadata": {},
     "output_type": "display_data"
    },
    {
     "data": {
      "application/vnd.jupyter.widget-view+json": {
       "model_id": "b62fcd12d64143509e6dbc4cf85d7ea0",
       "version_major": 2,
       "version_minor": 0
      },
      "text/plain": [
       "HBox(children=(IntProgress(value=0, description='member', max=40, style=ProgressStyle(description_width='initi…"
      ]
     },
     "metadata": {},
     "output_type": "display_data"
    },
    {
     "name": "stdout",
     "output_type": "stream",
     "text": [
      "+++++++++++++++++++++++++++++++++++\n",
      "Variable name: SNOW\n",
      "Chunk shape: (1, 24, 192, 288)\n",
      "Dataset shape: (40, 1140, 192, 288)\n",
      "Chunk size: 5.31 MB\n",
      "Dataset size: 10.95 GB\n",
      "+++++++++++++++++++++++++++++++++++\n",
      "<xarray.Dataset>\n",
      "Dimensions:       (hist_interval: 2, lat: 192, levgrnd: 15, levlak: 10, lon: 288, member_id: 40, time: 1140)\n",
      "Coordinates:\n",
      "  * lat           (lat) float32 -90.0 -89.057594 -88.11518 ... 89.057594 90.0\n",
      "  * levgrnd       (levgrnd) float32 0.007100635 0.027925 ... 21.32647 35.17762\n",
      "  * levlak        (levlak) float32 0.05 0.6 2.1 4.6 ... 18.6 25.6 34.325 44.775\n",
      "  * lon           (lon) float32 0.0 1.25 2.5 3.75 ... 355.0 356.25 357.5 358.75\n",
      "  * time          (time) float64 31.0 59.0 90.0 ... 3.464e+04 3.468e+04\n",
      "  * member_id     (member_id) int64 1 2 3 4 5 6 7 ... 34 35 101 102 103 104 105\n",
      "Dimensions without coordinates: hist_interval\n",
      "Data variables:\n",
      "    BSW           (member_id, levgrnd, lat, lon) float32 dask.array<shape=(40, 15, 192, 288), chunksize=(1, 15, 192, 288)>\n",
      "    DZSOI         (member_id, levgrnd, lat, lon) float32 dask.array<shape=(40, 15, 192, 288), chunksize=(1, 15, 192, 288)>\n",
      "    HKSAT         (member_id, levgrnd, lat, lon) float32 dask.array<shape=(40, 15, 192, 288), chunksize=(1, 15, 192, 288)>\n",
      "    SUCSAT        (member_id, levgrnd, lat, lon) float32 dask.array<shape=(40, 15, 192, 288), chunksize=(1, 15, 192, 288)>\n",
      "    WATSAT        (member_id, levgrnd, lat, lon) float32 dask.array<shape=(40, 15, 192, 288), chunksize=(1, 15, 192, 288)>\n",
      "    ZSOI          (member_id, levgrnd, lat, lon) float32 dask.array<shape=(40, 15, 192, 288), chunksize=(1, 15, 192, 288)>\n",
      "    area          (member_id, lat, lon) float32 dask.array<shape=(40, 192, 288), chunksize=(1, 192, 288)>\n",
      "    landfrac      (member_id, lat, lon) float32 dask.array<shape=(40, 192, 288), chunksize=(1, 192, 288)>\n",
      "    landmask      (member_id, lat, lon) float64 dask.array<shape=(40, 192, 288), chunksize=(1, 192, 288)>\n",
      "    pftmask       (member_id, lat, lon) float64 dask.array<shape=(40, 192, 288), chunksize=(1, 192, 288)>\n",
      "    topo          (member_id, lat, lon) float32 dask.array<shape=(40, 192, 288), chunksize=(1, 192, 288)>\n",
      "    SNOW          (member_id, time, lat, lon) float32 dask.array<shape=(40, 1140, 192, 288), chunksize=(1, 24, 192, 288)>\n",
      "    date_written  (member_id, time) |S8 dask.array<shape=(40, 1140), chunksize=(1, 24)>\n",
      "    mcdate        (member_id, time) int32 dask.array<shape=(40, 1140), chunksize=(1, 24)>\n",
      "    mcsec         (member_id, time) int32 dask.array<shape=(40, 1140), chunksize=(1, 24)>\n",
      "    mdcur         (member_id, time) int32 dask.array<shape=(40, 1140), chunksize=(1, 24)>\n",
      "    mscur         (member_id, time) int32 dask.array<shape=(40, 1140), chunksize=(1, 24)>\n",
      "    nstep         (member_id, time) int32 dask.array<shape=(40, 1140), chunksize=(1, 24)>\n",
      "    time_bounds   (member_id, time, hist_interval) float64 dask.array<shape=(40, 1140, 2), chunksize=(1, 24, 2)>\n",
      "    time_written  (member_id, time) |S8 dask.array<shape=(40, 1140), chunksize=(1, 24)>\n",
      "Attributes:\n",
      "    nco_openmp_thread_number:             1\n",
      "    version:                              cesm1_1_1_alpha01g\n",
      "    revision_id:                          $Id: histFileMod.F90 40539 2012-09-...\n",
      "    history:                              2019-06-25 12:44:37.337301 xarray.o...\n",
      "    case_title:                           UNSET\n",
      "    Conventions:                          CF-1.0\n",
      "    hostname:                             tcs\n",
      "    PFT_physiological_constants_dataset:  pft-physiology.c110425.nc\n",
      "    comment:                              NOTE: None of the variables are wei...\n",
      "    title:                                CLM History file information\n",
      "    source:                               Community Land Model CLM4.0\n",
      "    Initial_conditions_dataset:           b.e11.B20TRC5CNBDRD.f09_g16.105.clm...\n",
      "    Surface_dataset:                      surfdata_0.9x1.25_simyr1850_c110921.nc\n",
      "    username:                             mudryk\n",
      "    NCO:                                  4.3.4\n",
      "****************************************************************************************************\n",
      "****************************************************************************************************\n",
      "This query: {'experiment': 'RCP85', 'component': 'lnd', 'stream': 'clm2.h0', 'variable': 'SOILLIQ'} returned:\n",
      "\n",
      "- 1 unique variable(s)\n",
      "\n",
      "\n",
      "- Number of files: 73\n",
      "\n",
      "\n",
      "- 40 member(s)\n",
      "\n",
      "\n",
      "- 40 case(s)\n",
      "\n",
      "\n"
     ]
    },
    {
     "data": {
      "application/vnd.jupyter.widget-view+json": {
       "model_id": "35976b8f40e8447bb9ab62e35efd15f9",
       "version_major": 2,
       "version_minor": 0
      },
      "text/plain": [
       "HBox(children=(IntProgress(value=0, description='dataset', max=1, style=ProgressStyle(description_width='initi…"
      ]
     },
     "metadata": {},
     "output_type": "display_data"
    },
    {
     "data": {
      "application/vnd.jupyter.widget-view+json": {
       "model_id": "ed9a6599aea84f42ad6516e87df1fa42",
       "version_major": 2,
       "version_minor": 0
      },
      "text/plain": [
       "HBox(children=(IntProgress(value=0, description='member', max=40, style=ProgressStyle(description_width='initi…"
      ]
     },
     "metadata": {},
     "output_type": "display_data"
    },
    {
     "name": "stdout",
     "output_type": "stream",
     "text": [
      "+++++++++++++++++++++++++++++++++++\n",
      "Variable name: SOILLIQ\n",
      "Chunk shape: (1, 24, 15, 192, 288)\n",
      "Dataset shape: (40, 1140, 15, 192, 288)\n",
      "Chunk size: 79.63 MB\n",
      "Dataset size: 152.15 GB\n",
      "+++++++++++++++++++++++++++++++++++\n",
      "<xarray.Dataset>\n",
      "Dimensions:       (hist_interval: 2, lat: 192, levgrnd: 15, levlak: 10, lon: 288, member_id: 40, time: 1140)\n",
      "Coordinates:\n",
      "  * lat           (lat) float32 -90.0 -89.057594 -88.11518 ... 89.057594 90.0\n",
      "  * levgrnd       (levgrnd) float32 0.007100635 0.027925 ... 21.32647 35.17762\n",
      "  * levlak        (levlak) float32 0.05 0.6 2.1 4.6 ... 18.6 25.6 34.325 44.775\n",
      "  * lon           (lon) float32 0.0 1.25 2.5 3.75 ... 355.0 356.25 357.5 358.75\n",
      "  * time          (time) float64 31.0 59.0 90.0 ... 3.464e+04 3.468e+04\n",
      "  * member_id     (member_id) int64 1 2 3 4 5 6 7 ... 34 35 101 102 103 104 105\n",
      "Dimensions without coordinates: hist_interval\n",
      "Data variables:\n",
      "    BSW           (member_id, levgrnd, lat, lon) float32 dask.array<shape=(40, 15, 192, 288), chunksize=(1, 15, 192, 288)>\n",
      "    DZSOI         (member_id, levgrnd, lat, lon) float32 dask.array<shape=(40, 15, 192, 288), chunksize=(1, 15, 192, 288)>\n",
      "    HKSAT         (member_id, levgrnd, lat, lon) float32 dask.array<shape=(40, 15, 192, 288), chunksize=(1, 15, 192, 288)>\n",
      "    SUCSAT        (member_id, levgrnd, lat, lon) float32 dask.array<shape=(40, 15, 192, 288), chunksize=(1, 15, 192, 288)>\n",
      "    WATSAT        (member_id, levgrnd, lat, lon) float32 dask.array<shape=(40, 15, 192, 288), chunksize=(1, 15, 192, 288)>\n",
      "    ZSOI          (member_id, levgrnd, lat, lon) float32 dask.array<shape=(40, 15, 192, 288), chunksize=(1, 15, 192, 288)>\n",
      "    area          (member_id, lat, lon) float32 dask.array<shape=(40, 192, 288), chunksize=(1, 192, 288)>\n",
      "    landfrac      (member_id, lat, lon) float32 dask.array<shape=(40, 192, 288), chunksize=(1, 192, 288)>\n",
      "    landmask      (member_id, lat, lon) float64 dask.array<shape=(40, 192, 288), chunksize=(1, 192, 288)>\n",
      "    pftmask       (member_id, lat, lon) float64 dask.array<shape=(40, 192, 288), chunksize=(1, 192, 288)>\n",
      "    topo          (member_id, lat, lon) float32 dask.array<shape=(40, 192, 288), chunksize=(1, 192, 288)>\n",
      "    SOILLIQ       (member_id, time, levgrnd, lat, lon) float32 dask.array<shape=(40, 1140, 15, 192, 288), chunksize=(1, 24, 15, 192, 288)>\n",
      "    date_written  (member_id, time) |S8 dask.array<shape=(40, 1140), chunksize=(1, 24)>\n",
      "    mcdate        (member_id, time) int32 dask.array<shape=(40, 1140), chunksize=(1, 24)>\n",
      "    mcsec         (member_id, time) int32 dask.array<shape=(40, 1140), chunksize=(1, 24)>\n",
      "    mdcur         (member_id, time) int32 dask.array<shape=(40, 1140), chunksize=(1, 24)>\n",
      "    mscur         (member_id, time) int32 dask.array<shape=(40, 1140), chunksize=(1, 24)>\n",
      "    nstep         (member_id, time) int32 dask.array<shape=(40, 1140), chunksize=(1, 24)>\n",
      "    time_bounds   (member_id, time, hist_interval) float64 dask.array<shape=(40, 1140, 2), chunksize=(1, 24, 2)>\n",
      "    time_written  (member_id, time) |S8 dask.array<shape=(40, 1140), chunksize=(1, 24)>\n",
      "Attributes:\n",
      "    nco_openmp_thread_number:             1\n",
      "    version:                              cesm1_1_1_alpha01g\n",
      "    revision_id:                          $Id: histFileMod.F90 40539 2012-09-...\n",
      "    history:                              2019-06-25 12:44:48.053420 xarray.o...\n",
      "    case_title:                           UNSET\n",
      "    Conventions:                          CF-1.0\n",
      "    hostname:                             tcs\n",
      "    PFT_physiological_constants_dataset:  pft-physiology.c110425.nc\n",
      "    comment:                              NOTE: None of the variables are wei...\n",
      "    title:                                CLM History file information\n",
      "    source:                               Community Land Model CLM4.0\n",
      "    Initial_conditions_dataset:           b.e11.B20TRC5CNBDRD.f09_g16.105.clm...\n",
      "    Surface_dataset:                      surfdata_0.9x1.25_simyr1850_c110921.nc\n",
      "    username:                             mudryk\n",
      "    NCO:                                  4.3.4\n",
      "****************************************************************************************************\n",
      "****************************************************************************************************\n",
      "This query: {'experiment': 'RCP85', 'component': 'lnd', 'stream': 'clm2.h0', 'variable': 'SOILWATER_10CM'} returned:\n",
      "\n",
      "- 1 unique variable(s)\n",
      "\n",
      "\n",
      "- Number of files: 73\n",
      "\n",
      "\n",
      "- 40 member(s)\n",
      "\n",
      "\n",
      "- 40 case(s)\n",
      "\n",
      "\n"
     ]
    },
    {
     "data": {
      "application/vnd.jupyter.widget-view+json": {
       "model_id": "7baffe0f0047423da609ba28b2527d40",
       "version_major": 2,
       "version_minor": 0
      },
      "text/plain": [
       "HBox(children=(IntProgress(value=0, description='dataset', max=1, style=ProgressStyle(description_width='initi…"
      ]
     },
     "metadata": {},
     "output_type": "display_data"
    },
    {
     "data": {
      "application/vnd.jupyter.widget-view+json": {
       "model_id": "78ba403fad594ed4b88f5318edcf35a6",
       "version_major": 2,
       "version_minor": 0
      },
      "text/plain": [
       "HBox(children=(IntProgress(value=0, description='member', max=40, style=ProgressStyle(description_width='initi…"
      ]
     },
     "metadata": {},
     "output_type": "display_data"
    },
    {
     "name": "stdout",
     "output_type": "stream",
     "text": [
      "+++++++++++++++++++++++++++++++++++\n",
      "Variable name: SOILWATER_10CM\n",
      "Chunk shape: (1, 24, 192, 288)\n",
      "Dataset shape: (40, 1140, 192, 288)\n",
      "Chunk size: 5.31 MB\n",
      "Dataset size: 10.95 GB\n",
      "+++++++++++++++++++++++++++++++++++\n",
      "<xarray.Dataset>\n",
      "Dimensions:         (hist_interval: 2, lat: 192, levgrnd: 15, levlak: 10, lon: 288, member_id: 40, time: 1140)\n",
      "Coordinates:\n",
      "  * lat             (lat) float32 -90.0 -89.057594 -88.11518 ... 89.057594 90.0\n",
      "  * levgrnd         (levgrnd) float32 0.007100635 0.027925 ... 21.32647 35.17762\n",
      "  * levlak          (levlak) float32 0.05 0.6 2.1 4.6 ... 25.6 34.325 44.775\n",
      "  * lon             (lon) float32 0.0 1.25 2.5 3.75 ... 356.25 357.5 358.75\n",
      "  * time            (time) float64 31.0 59.0 90.0 ... 3.464e+04 3.468e+04\n",
      "  * member_id       (member_id) int64 1 2 3 4 5 6 7 ... 35 101 102 103 104 105\n",
      "Dimensions without coordinates: hist_interval\n",
      "Data variables:\n",
      "    BSW             (member_id, levgrnd, lat, lon) float32 dask.array<shape=(40, 15, 192, 288), chunksize=(1, 15, 192, 288)>\n",
      "    DZSOI           (member_id, levgrnd, lat, lon) float32 dask.array<shape=(40, 15, 192, 288), chunksize=(1, 15, 192, 288)>\n",
      "    HKSAT           (member_id, levgrnd, lat, lon) float32 dask.array<shape=(40, 15, 192, 288), chunksize=(1, 15, 192, 288)>\n",
      "    SUCSAT          (member_id, levgrnd, lat, lon) float32 dask.array<shape=(40, 15, 192, 288), chunksize=(1, 15, 192, 288)>\n",
      "    WATSAT          (member_id, levgrnd, lat, lon) float32 dask.array<shape=(40, 15, 192, 288), chunksize=(1, 15, 192, 288)>\n",
      "    ZSOI            (member_id, levgrnd, lat, lon) float32 dask.array<shape=(40, 15, 192, 288), chunksize=(1, 15, 192, 288)>\n",
      "    area            (member_id, lat, lon) float32 dask.array<shape=(40, 192, 288), chunksize=(1, 192, 288)>\n",
      "    landfrac        (member_id, lat, lon) float32 dask.array<shape=(40, 192, 288), chunksize=(1, 192, 288)>\n",
      "    landmask        (member_id, lat, lon) float64 dask.array<shape=(40, 192, 288), chunksize=(1, 192, 288)>\n",
      "    pftmask         (member_id, lat, lon) float64 dask.array<shape=(40, 192, 288), chunksize=(1, 192, 288)>\n",
      "    topo            (member_id, lat, lon) float32 dask.array<shape=(40, 192, 288), chunksize=(1, 192, 288)>\n",
      "    SOILWATER_10CM  (member_id, time, lat, lon) float32 dask.array<shape=(40, 1140, 192, 288), chunksize=(1, 24, 192, 288)>\n",
      "    date_written    (member_id, time) |S8 dask.array<shape=(40, 1140), chunksize=(1, 24)>\n",
      "    mcdate          (member_id, time) int32 dask.array<shape=(40, 1140), chunksize=(1, 24)>\n",
      "    mcsec           (member_id, time) int32 dask.array<shape=(40, 1140), chunksize=(1, 24)>\n",
      "    mdcur           (member_id, time) int32 dask.array<shape=(40, 1140), chunksize=(1, 24)>\n",
      "    mscur           (member_id, time) int32 dask.array<shape=(40, 1140), chunksize=(1, 24)>\n",
      "    nstep           (member_id, time) int32 dask.array<shape=(40, 1140), chunksize=(1, 24)>\n",
      "    time_bounds     (member_id, time, hist_interval) float64 dask.array<shape=(40, 1140, 2), chunksize=(1, 24, 2)>\n",
      "    time_written    (member_id, time) |S8 dask.array<shape=(40, 1140), chunksize=(1, 24)>\n",
      "Attributes:\n",
      "    nco_openmp_thread_number:             1\n",
      "    version:                              cesm1_1_1_alpha01g\n",
      "    revision_id:                          $Id: histFileMod.F90 40539 2012-09-...\n",
      "    history:                              2019-06-25 12:44:59.530512 xarray.o...\n",
      "    case_title:                           UNSET\n",
      "    Conventions:                          CF-1.0\n",
      "    hostname:                             tcs\n",
      "    PFT_physiological_constants_dataset:  pft-physiology.c110425.nc\n",
      "    comment:                              NOTE: None of the variables are wei...\n",
      "    title:                                CLM History file information\n",
      "    source:                               Community Land Model CLM4.0\n",
      "    Initial_conditions_dataset:           b.e11.B20TRC5CNBDRD.f09_g16.105.clm...\n",
      "    Surface_dataset:                      surfdata_0.9x1.25_simyr1850_c110921.nc\n",
      "    username:                             mudryk\n",
      "    NCO:                                  4.3.4\n",
      "****************************************************************************************************\n",
      "****************************************************************************************************\n",
      "This query: {'experiment': 'RCP85', 'component': 'lnd', 'stream': 'clm2.h1', 'variable': 'FSNO'} returned:\n",
      "\n",
      "- 1 unique variable(s)\n",
      "\n",
      "\n",
      "- Number of files: 73\n",
      "\n",
      "\n",
      "- 40 member(s)\n",
      "\n",
      "\n",
      "- 40 case(s)\n",
      "\n",
      "\n"
     ]
    },
    {
     "data": {
      "application/vnd.jupyter.widget-view+json": {
       "model_id": "84a22a67ec4b4b89966ff1dbbf63c762",
       "version_major": 2,
       "version_minor": 0
      },
      "text/plain": [
       "HBox(children=(IntProgress(value=0, description='dataset', max=1, style=ProgressStyle(description_width='initi…"
      ]
     },
     "metadata": {},
     "output_type": "display_data"
    },
    {
     "data": {
      "application/vnd.jupyter.widget-view+json": {
       "model_id": "49d2c1b7d9614ecfbe2b5b72d74d9b39",
       "version_major": 2,
       "version_minor": 0
      },
      "text/plain": [
       "HBox(children=(IntProgress(value=0, description='member', max=40, style=ProgressStyle(description_width='initi…"
      ]
     },
     "metadata": {},
     "output_type": "display_data"
    },
    {
     "name": "stdout",
     "output_type": "stream",
     "text": [
      "+++++++++++++++++++++++++++++++++++\n",
      "Variable name: FSNO\n",
      "Chunk shape: (1, 100, 290, 288)\n",
      "Dataset shape: (40, 34676, 290, 288)\n",
      "Chunk size: 33.41 MB\n",
      "Dataset size: 463.58 GB\n",
      "+++++++++++++++++++++++++++++++++++\n",
      "<xarray.Dataset>\n",
      "Dimensions:       (hist_interval: 2, lat: 290, levgrnd: 21, levlak: 10, lon: 288, member_id: 40, time: 34676)\n",
      "Coordinates:\n",
      "  * lat           (lat) float64 -90.0 -89.06 -89.06 -88.12 ... 89.06 89.06 90.0\n",
      "  * levgrnd       (levgrnd) float64 0.007101 0.02792 0.06226 ... 21.33 35.18\n",
      "  * time          (time) float64 0.0 1.0 2.0 ... 3.467e+04 3.467e+04 3.468e+04\n",
      "  * levlak        (levlak) float32 0.05 0.6 2.1 4.6 ... 18.6 25.6 34.325 44.775\n",
      "  * lon           (lon) float32 0.0 1.25 2.5 3.75 ... 355.0 356.25 357.5 358.75\n",
      "  * member_id     (member_id) int64 1 2 3 4 5 6 7 ... 34 35 101 102 103 104 105\n",
      "Dimensions without coordinates: hist_interval\n",
      "Data variables:\n",
      "    area          (member_id, lat, lon) float32 dask.array<shape=(40, 290, 288), chunksize=(1, 290, 288)>\n",
      "    landfrac      (member_id, lat, lon) float32 dask.array<shape=(40, 290, 288), chunksize=(1, 290, 288)>\n",
      "    landmask      (member_id, lat, lon) float64 dask.array<shape=(40, 290, 288), chunksize=(1, 290, 288)>\n",
      "    pftmask       (member_id, lat, lon) float64 dask.array<shape=(40, 290, 288), chunksize=(1, 290, 288)>\n",
      "    topo          (member_id, lat, lon) float32 dask.array<shape=(40, 290, 288), chunksize=(1, 290, 288)>\n",
      "    FSNO          (member_id, time, lat, lon) float32 dask.array<shape=(40, 34676, 290, 288), chunksize=(1, 100, 290, 288)>\n",
      "    date_written  (member_id, time) object dask.array<shape=(40, 34676), chunksize=(1, 100)>\n",
      "    mcdate        (member_id, time) float64 dask.array<shape=(40, 34676), chunksize=(1, 100)>\n",
      "    mcsec         (member_id, time) float64 dask.array<shape=(40, 34676), chunksize=(1, 100)>\n",
      "    mdcur         (member_id, time) float64 dask.array<shape=(40, 34676), chunksize=(1, 100)>\n",
      "    mscur         (member_id, time) float64 dask.array<shape=(40, 34676), chunksize=(1, 100)>\n",
      "    nstep         (member_id, time) float64 dask.array<shape=(40, 34676), chunksize=(1, 100)>\n",
      "    time_bounds   (member_id, time, hist_interval) float64 dask.array<shape=(40, 34676, 2), chunksize=(1, 100, 2)>\n",
      "    time_written  (member_id, time) object dask.array<shape=(40, 34676), chunksize=(1, 100)>\n",
      "Attributes:\n",
      "    nco_openmp_thread_number:             1\n",
      "    version:                              cesm1_1_1_alpha01g\n",
      "    revision_id:                          $Id: histFileMod.F90 40539 2012-09-...\n",
      "    history:                              2019-06-25 12:45:10.935871 xarray.o...\n",
      "    case_title:                           UNSET\n",
      "    Conventions:                          CF-1.0\n",
      "    hostname:                             tcs\n",
      "    PFT_physiological_constants_dataset:  pft-physiology.c110425.nc\n",
      "    comment:                              NOTE: None of the variables are wei...\n",
      "    title:                                CLM History file information\n",
      "    source:                               Community Land Model CLM4.0\n",
      "    Surface_dataset:                      surfdata_0.9x1.25_simyr1850_c110921.nc\n",
      "    username:                             mudryk\n",
      "    NCO:                                  4.4.2\n",
      "****************************************************************************************************\n",
      "****************************************************************************************************\n",
      "This query: {'experiment': 'RCP85', 'component': 'lnd', 'stream': 'clm2.h1', 'variable': 'H2OSNO'} returned:\n",
      "\n",
      "- 1 unique variable(s)\n",
      "\n",
      "\n",
      "- Number of files: 73\n",
      "\n",
      "\n",
      "- 40 member(s)\n",
      "\n",
      "\n",
      "- 40 case(s)\n",
      "\n",
      "\n"
     ]
    },
    {
     "data": {
      "application/vnd.jupyter.widget-view+json": {
       "model_id": "ef79555cd08a41e3b12565db0b7b4fc0",
       "version_major": 2,
       "version_minor": 0
      },
      "text/plain": [
       "HBox(children=(IntProgress(value=0, description='dataset', max=1, style=ProgressStyle(description_width='initi…"
      ]
     },
     "metadata": {},
     "output_type": "display_data"
    },
    {
     "data": {
      "application/vnd.jupyter.widget-view+json": {
       "model_id": "a097eadb306748e284e7f61e024dc3ac",
       "version_major": 2,
       "version_minor": 0
      },
      "text/plain": [
       "HBox(children=(IntProgress(value=0, description='member', max=40, style=ProgressStyle(description_width='initi…"
      ]
     },
     "metadata": {},
     "output_type": "display_data"
    },
    {
     "name": "stdout",
     "output_type": "stream",
     "text": [
      "+++++++++++++++++++++++++++++++++++\n",
      "Variable name: H2OSNO\n",
      "Chunk shape: (1, 100, 290, 288)\n",
      "Dataset shape: (40, 34676, 290, 288)\n",
      "Chunk size: 33.41 MB\n",
      "Dataset size: 463.58 GB\n",
      "+++++++++++++++++++++++++++++++++++\n",
      "<xarray.Dataset>\n",
      "Dimensions:       (hist_interval: 2, lat: 290, levgrnd: 21, levlak: 10, lon: 288, member_id: 40, time: 34676)\n",
      "Coordinates:\n",
      "  * lat           (lat) float64 -90.0 -89.06 -89.06 -88.12 ... 89.06 89.06 90.0\n",
      "  * levgrnd       (levgrnd) float64 0.007101 0.02792 0.06226 ... 21.33 35.18\n",
      "  * time          (time) float64 0.0 1.0 2.0 ... 3.467e+04 3.467e+04 3.468e+04\n",
      "  * levlak        (levlak) float32 0.05 0.6 2.1 4.6 ... 18.6 25.6 34.325 44.775\n",
      "  * lon           (lon) float32 0.0 1.25 2.5 3.75 ... 355.0 356.25 357.5 358.75\n",
      "  * member_id     (member_id) int64 1 2 3 4 5 6 7 ... 34 35 101 102 103 104 105\n",
      "Dimensions without coordinates: hist_interval\n",
      "Data variables:\n",
      "    area          (member_id, lat, lon) float32 dask.array<shape=(40, 290, 288), chunksize=(1, 290, 288)>\n",
      "    landfrac      (member_id, lat, lon) float32 dask.array<shape=(40, 290, 288), chunksize=(1, 290, 288)>\n",
      "    landmask      (member_id, lat, lon) float64 dask.array<shape=(40, 290, 288), chunksize=(1, 290, 288)>\n",
      "    pftmask       (member_id, lat, lon) float64 dask.array<shape=(40, 290, 288), chunksize=(1, 290, 288)>\n",
      "    topo          (member_id, lat, lon) float32 dask.array<shape=(40, 290, 288), chunksize=(1, 290, 288)>\n",
      "    H2OSNO        (member_id, time, lat, lon) float32 dask.array<shape=(40, 34676, 290, 288), chunksize=(1, 100, 290, 288)>\n",
      "    date_written  (member_id, time) object dask.array<shape=(40, 34676), chunksize=(1, 100)>\n",
      "    mcdate        (member_id, time) float64 dask.array<shape=(40, 34676), chunksize=(1, 100)>\n",
      "    mcsec         (member_id, time) float64 dask.array<shape=(40, 34676), chunksize=(1, 100)>\n",
      "    mdcur         (member_id, time) float64 dask.array<shape=(40, 34676), chunksize=(1, 100)>\n",
      "    mscur         (member_id, time) float64 dask.array<shape=(40, 34676), chunksize=(1, 100)>\n",
      "    nstep         (member_id, time) float64 dask.array<shape=(40, 34676), chunksize=(1, 100)>\n",
      "    time_bounds   (member_id, time, hist_interval) float64 dask.array<shape=(40, 34676, 2), chunksize=(1, 100, 2)>\n",
      "    time_written  (member_id, time) object dask.array<shape=(40, 34676), chunksize=(1, 100)>\n",
      "Attributes:\n",
      "    nco_openmp_thread_number:             1\n",
      "    version:                              cesm1_1_1_alpha01g\n",
      "    revision_id:                          $Id: histFileMod.F90 40539 2012-09-...\n",
      "    history:                              2019-06-25 12:45:49.342899 xarray.o...\n",
      "    case_title:                           UNSET\n",
      "    Conventions:                          CF-1.0\n",
      "    hostname:                             tcs\n",
      "    PFT_physiological_constants_dataset:  pft-physiology.c110425.nc\n",
      "    comment:                              NOTE: None of the variables are wei...\n",
      "    title:                                CLM History file information\n",
      "    source:                               Community Land Model CLM4.0\n",
      "    Surface_dataset:                      surfdata_0.9x1.25_simyr1850_c110921.nc\n",
      "    username:                             mudryk\n",
      "    NCO:                                  4.4.2\n",
      "****************************************************************************************************\n",
      "****************************************************************************************************\n",
      "This query: {'experiment': 'RCP85', 'component': 'lnd', 'stream': 'clm2.h1', 'variable': 'QRUNOFF'} returned:\n",
      "\n",
      "- 1 unique variable(s)\n",
      "\n",
      "\n",
      "- Number of files: 73\n",
      "\n",
      "\n",
      "- 40 member(s)\n",
      "\n",
      "\n",
      "- 40 case(s)\n",
      "\n",
      "\n"
     ]
    },
    {
     "data": {
      "application/vnd.jupyter.widget-view+json": {
       "model_id": "30c620fc4724472cbcb318f4113bd86d",
       "version_major": 2,
       "version_minor": 0
      },
      "text/plain": [
       "HBox(children=(IntProgress(value=0, description='dataset', max=1, style=ProgressStyle(description_width='initi…"
      ]
     },
     "metadata": {},
     "output_type": "display_data"
    },
    {
     "data": {
      "application/vnd.jupyter.widget-view+json": {
       "model_id": "67a9daf89ecf4c80bce54109a54adde6",
       "version_major": 2,
       "version_minor": 0
      },
      "text/plain": [
       "HBox(children=(IntProgress(value=0, description='member', max=40, style=ProgressStyle(description_width='initi…"
      ]
     },
     "metadata": {},
     "output_type": "display_data"
    },
    {
     "name": "stdout",
     "output_type": "stream",
     "text": [
      "+++++++++++++++++++++++++++++++++++\n",
      "Variable name: QRUNOFF\n",
      "Chunk shape: (1, 100, 290, 288)\n",
      "Dataset shape: (40, 34676, 290, 288)\n",
      "Chunk size: 33.41 MB\n",
      "Dataset size: 463.58 GB\n",
      "+++++++++++++++++++++++++++++++++++\n",
      "<xarray.Dataset>\n",
      "Dimensions:       (hist_interval: 2, lat: 290, levgrnd: 21, levlak: 10, lon: 288, member_id: 40, time: 34676)\n",
      "Coordinates:\n",
      "  * lat           (lat) float64 -90.0 -89.06 -89.06 -88.12 ... 89.06 89.06 90.0\n",
      "  * levgrnd       (levgrnd) float64 0.007101 0.02792 0.06226 ... 21.33 35.18\n",
      "  * time          (time) float64 0.0 1.0 2.0 ... 3.467e+04 3.467e+04 3.468e+04\n",
      "  * levlak        (levlak) float32 0.05 0.6 2.1 4.6 ... 18.6 25.6 34.325 44.775\n",
      "  * lon           (lon) float32 0.0 1.25 2.5 3.75 ... 355.0 356.25 357.5 358.75\n",
      "  * member_id     (member_id) int64 1 2 3 4 5 6 7 ... 34 35 101 102 103 104 105\n",
      "Dimensions without coordinates: hist_interval\n",
      "Data variables:\n",
      "    area          (member_id, lat, lon) float32 dask.array<shape=(40, 290, 288), chunksize=(1, 290, 288)>\n",
      "    landfrac      (member_id, lat, lon) float32 dask.array<shape=(40, 290, 288), chunksize=(1, 290, 288)>\n",
      "    landmask      (member_id, lat, lon) float64 dask.array<shape=(40, 290, 288), chunksize=(1, 290, 288)>\n",
      "    pftmask       (member_id, lat, lon) float64 dask.array<shape=(40, 290, 288), chunksize=(1, 290, 288)>\n",
      "    topo          (member_id, lat, lon) float32 dask.array<shape=(40, 290, 288), chunksize=(1, 290, 288)>\n",
      "    QRUNOFF       (member_id, time, lat, lon) float32 dask.array<shape=(40, 34676, 290, 288), chunksize=(1, 100, 290, 288)>\n",
      "    date_written  (member_id, time) object dask.array<shape=(40, 34676), chunksize=(1, 100)>\n",
      "    mcdate        (member_id, time) float64 dask.array<shape=(40, 34676), chunksize=(1, 100)>\n",
      "    mcsec         (member_id, time) float64 dask.array<shape=(40, 34676), chunksize=(1, 100)>\n",
      "    mdcur         (member_id, time) float64 dask.array<shape=(40, 34676), chunksize=(1, 100)>\n",
      "    mscur         (member_id, time) float64 dask.array<shape=(40, 34676), chunksize=(1, 100)>\n",
      "    nstep         (member_id, time) float64 dask.array<shape=(40, 34676), chunksize=(1, 100)>\n",
      "    time_bounds   (member_id, time, hist_interval) float64 dask.array<shape=(40, 34676, 2), chunksize=(1, 100, 2)>\n",
      "    time_written  (member_id, time) object dask.array<shape=(40, 34676), chunksize=(1, 100)>\n",
      "Attributes:\n",
      "    nco_openmp_thread_number:             1\n",
      "    version:                              cesm1_1_1_alpha01g\n",
      "    revision_id:                          $Id: histFileMod.F90 40539 2012-09-...\n",
      "    history:                              2019-06-25 12:46:32.181834 xarray.o...\n",
      "    case_title:                           UNSET\n",
      "    Conventions:                          CF-1.0\n",
      "    hostname:                             tcs\n",
      "    PFT_physiological_constants_dataset:  pft-physiology.c110425.nc\n",
      "    comment:                              NOTE: None of the variables are wei...\n",
      "    title:                                CLM History file information\n",
      "    source:                               Community Land Model CLM4.0\n",
      "    Surface_dataset:                      surfdata_0.9x1.25_simyr1850_c110921.nc\n",
      "    username:                             mudryk\n",
      "    NCO:                                  4.4.2\n",
      "****************************************************************************************************\n",
      "****************************************************************************************************\n",
      "This query: {'experiment': 'RCP85', 'component': 'lnd', 'stream': 'clm2.h1', 'variable': 'RAIN'} returned:\n",
      "\n",
      "- 1 unique variable(s)\n",
      "\n",
      "\n",
      "- Number of files: 73\n",
      "\n",
      "\n",
      "- 40 member(s)\n",
      "\n",
      "\n",
      "- 40 case(s)\n",
      "\n",
      "\n"
     ]
    },
    {
     "data": {
      "application/vnd.jupyter.widget-view+json": {
       "model_id": "ee5a718fdd564406b0a38e018cd6204a",
       "version_major": 2,
       "version_minor": 0
      },
      "text/plain": [
       "HBox(children=(IntProgress(value=0, description='dataset', max=1, style=ProgressStyle(description_width='initi…"
      ]
     },
     "metadata": {},
     "output_type": "display_data"
    },
    {
     "data": {
      "application/vnd.jupyter.widget-view+json": {
       "model_id": "6c737b063a8e40548ac9c33c5deea990",
       "version_major": 2,
       "version_minor": 0
      },
      "text/plain": [
       "HBox(children=(IntProgress(value=0, description='member', max=40, style=ProgressStyle(description_width='initi…"
      ]
     },
     "metadata": {},
     "output_type": "display_data"
    },
    {
     "name": "stdout",
     "output_type": "stream",
     "text": [
      "+++++++++++++++++++++++++++++++++++\n",
      "Variable name: RAIN\n",
      "Chunk shape: (1, 100, 290, 288)\n",
      "Dataset shape: (40, 34676, 290, 288)\n",
      "Chunk size: 33.41 MB\n",
      "Dataset size: 463.58 GB\n",
      "+++++++++++++++++++++++++++++++++++\n",
      "<xarray.Dataset>\n",
      "Dimensions:       (hist_interval: 2, lat: 290, levgrnd: 21, levlak: 10, lon: 288, member_id: 40, time: 34676)\n",
      "Coordinates:\n",
      "  * lat           (lat) float64 -90.0 -89.06 -89.06 -88.12 ... 89.06 89.06 90.0\n",
      "  * levgrnd       (levgrnd) float64 0.007101 0.02792 0.06226 ... 21.33 35.18\n",
      "  * time          (time) float64 0.0 1.0 2.0 ... 3.467e+04 3.467e+04 3.468e+04\n",
      "  * levlak        (levlak) float32 0.05 0.6 2.1 4.6 ... 18.6 25.6 34.325 44.775\n",
      "  * lon           (lon) float32 0.0 1.25 2.5 3.75 ... 355.0 356.25 357.5 358.75\n",
      "  * member_id     (member_id) int64 1 2 3 4 5 6 7 ... 34 35 101 102 103 104 105\n",
      "Dimensions without coordinates: hist_interval\n",
      "Data variables:\n",
      "    area          (member_id, lat, lon) float32 dask.array<shape=(40, 290, 288), chunksize=(1, 290, 288)>\n",
      "    landfrac      (member_id, lat, lon) float32 dask.array<shape=(40, 290, 288), chunksize=(1, 290, 288)>\n",
      "    landmask      (member_id, lat, lon) float64 dask.array<shape=(40, 290, 288), chunksize=(1, 290, 288)>\n",
      "    pftmask       (member_id, lat, lon) float64 dask.array<shape=(40, 290, 288), chunksize=(1, 290, 288)>\n",
      "    topo          (member_id, lat, lon) float32 dask.array<shape=(40, 290, 288), chunksize=(1, 290, 288)>\n",
      "    RAIN          (member_id, time, lat, lon) float32 dask.array<shape=(40, 34676, 290, 288), chunksize=(1, 100, 290, 288)>\n",
      "    date_written  (member_id, time) object dask.array<shape=(40, 34676), chunksize=(1, 100)>\n",
      "    mcdate        (member_id, time) float64 dask.array<shape=(40, 34676), chunksize=(1, 100)>\n",
      "    mcsec         (member_id, time) float64 dask.array<shape=(40, 34676), chunksize=(1, 100)>\n",
      "    mdcur         (member_id, time) float64 dask.array<shape=(40, 34676), chunksize=(1, 100)>\n",
      "    mscur         (member_id, time) float64 dask.array<shape=(40, 34676), chunksize=(1, 100)>\n",
      "    nstep         (member_id, time) float64 dask.array<shape=(40, 34676), chunksize=(1, 100)>\n",
      "    time_bounds   (member_id, time, hist_interval) float64 dask.array<shape=(40, 34676, 2), chunksize=(1, 100, 2)>\n",
      "    time_written  (member_id, time) object dask.array<shape=(40, 34676), chunksize=(1, 100)>\n",
      "Attributes:\n",
      "    nco_openmp_thread_number:             1\n",
      "    version:                              cesm1_1_1_alpha01g\n",
      "    revision_id:                          $Id: histFileMod.F90 40539 2012-09-...\n",
      "    history:                              2019-06-25 12:47:18.449617 xarray.o...\n",
      "    case_title:                           UNSET\n",
      "    Conventions:                          CF-1.0\n",
      "    hostname:                             tcs\n",
      "    PFT_physiological_constants_dataset:  pft-physiology.c110425.nc\n",
      "    comment:                              NOTE: None of the variables are wei...\n",
      "    title:                                CLM History file information\n",
      "    source:                               Community Land Model CLM4.0\n",
      "    Surface_dataset:                      surfdata_0.9x1.25_simyr1850_c110921.nc\n",
      "    username:                             mudryk\n",
      "    NCO:                                  4.4.2\n",
      "****************************************************************************************************\n",
      "****************************************************************************************************\n",
      "This query: {'experiment': 'RCP85', 'component': 'lnd', 'stream': 'clm2.h1', 'variable': 'SNOW'} returned:\n",
      "\n",
      "- 1 unique variable(s)\n",
      "\n",
      "\n",
      "- Number of files: 73\n",
      "\n",
      "\n",
      "- 40 member(s)\n",
      "\n",
      "\n",
      "- 40 case(s)\n",
      "\n",
      "\n"
     ]
    },
    {
     "data": {
      "application/vnd.jupyter.widget-view+json": {
       "model_id": "6c7ce671c2cb46f19a63526318124f3d",
       "version_major": 2,
       "version_minor": 0
      },
      "text/plain": [
       "HBox(children=(IntProgress(value=0, description='dataset', max=1, style=ProgressStyle(description_width='initi…"
      ]
     },
     "metadata": {},
     "output_type": "display_data"
    },
    {
     "data": {
      "application/vnd.jupyter.widget-view+json": {
       "model_id": "16117df418a245faa3c1d3b9ea6fa750",
       "version_major": 2,
       "version_minor": 0
      },
      "text/plain": [
       "HBox(children=(IntProgress(value=0, description='member', max=40, style=ProgressStyle(description_width='initi…"
      ]
     },
     "metadata": {},
     "output_type": "display_data"
    },
    {
     "name": "stdout",
     "output_type": "stream",
     "text": [
      "+++++++++++++++++++++++++++++++++++\n",
      "Variable name: SNOW\n",
      "Chunk shape: (1, 100, 290, 288)\n",
      "Dataset shape: (40, 34676, 290, 288)\n",
      "Chunk size: 33.41 MB\n",
      "Dataset size: 463.58 GB\n",
      "+++++++++++++++++++++++++++++++++++\n",
      "<xarray.Dataset>\n",
      "Dimensions:       (hist_interval: 2, lat: 290, levgrnd: 21, levlak: 10, lon: 288, member_id: 40, time: 34676)\n",
      "Coordinates:\n",
      "  * lat           (lat) float64 -90.0 -89.06 -89.06 -88.12 ... 89.06 89.06 90.0\n",
      "  * levgrnd       (levgrnd) float64 0.007101 0.02792 0.06226 ... 21.33 35.18\n",
      "  * time          (time) float64 0.0 1.0 2.0 ... 3.467e+04 3.467e+04 3.468e+04\n",
      "  * levlak        (levlak) float32 0.05 0.6 2.1 4.6 ... 18.6 25.6 34.325 44.775\n",
      "  * lon           (lon) float32 0.0 1.25 2.5 3.75 ... 355.0 356.25 357.5 358.75\n",
      "  * member_id     (member_id) int64 1 2 3 4 5 6 7 ... 34 35 101 102 103 104 105\n",
      "Dimensions without coordinates: hist_interval\n",
      "Data variables:\n",
      "    area          (member_id, lat, lon) float32 dask.array<shape=(40, 290, 288), chunksize=(1, 290, 288)>\n",
      "    landfrac      (member_id, lat, lon) float32 dask.array<shape=(40, 290, 288), chunksize=(1, 290, 288)>\n",
      "    landmask      (member_id, lat, lon) float64 dask.array<shape=(40, 290, 288), chunksize=(1, 290, 288)>\n",
      "    pftmask       (member_id, lat, lon) float64 dask.array<shape=(40, 290, 288), chunksize=(1, 290, 288)>\n",
      "    topo          (member_id, lat, lon) float32 dask.array<shape=(40, 290, 288), chunksize=(1, 290, 288)>\n",
      "    SNOW          (member_id, time, lat, lon) float32 dask.array<shape=(40, 34676, 290, 288), chunksize=(1, 100, 290, 288)>\n",
      "    date_written  (member_id, time) object dask.array<shape=(40, 34676), chunksize=(1, 100)>\n",
      "    mcdate        (member_id, time) float64 dask.array<shape=(40, 34676), chunksize=(1, 100)>\n",
      "    mcsec         (member_id, time) float64 dask.array<shape=(40, 34676), chunksize=(1, 100)>\n",
      "    mdcur         (member_id, time) float64 dask.array<shape=(40, 34676), chunksize=(1, 100)>\n",
      "    mscur         (member_id, time) float64 dask.array<shape=(40, 34676), chunksize=(1, 100)>\n",
      "    nstep         (member_id, time) float64 dask.array<shape=(40, 34676), chunksize=(1, 100)>\n",
      "    time_bounds   (member_id, time, hist_interval) float64 dask.array<shape=(40, 34676, 2), chunksize=(1, 100, 2)>\n",
      "    time_written  (member_id, time) object dask.array<shape=(40, 34676), chunksize=(1, 100)>\n",
      "Attributes:\n",
      "    nco_openmp_thread_number:             1\n",
      "    version:                              cesm1_1_1_alpha01g\n",
      "    revision_id:                          $Id: histFileMod.F90 40539 2012-09-...\n",
      "    history:                              2019-06-25 12:48:06.624739 xarray.o...\n",
      "    case_title:                           UNSET\n",
      "    Conventions:                          CF-1.0\n",
      "    hostname:                             tcs\n",
      "    PFT_physiological_constants_dataset:  pft-physiology.c110425.nc\n",
      "    comment:                              NOTE: None of the variables are wei...\n",
      "    title:                                CLM History file information\n",
      "    source:                               Community Land Model CLM4.0\n",
      "    Surface_dataset:                      surfdata_0.9x1.25_simyr1850_c110921.nc\n",
      "    username:                             mudryk\n",
      "    NCO:                                  4.4.2\n",
      "****************************************************************************************************\n",
      "No results found for query={'experiment': 'RCP85', 'component': 'lnd', 'stream': 'clm2.h1', 'variable': 'SOILLIQ'}\n",
      "****************************************************************************************************\n",
      "This query: {'experiment': 'RCP85', 'component': 'lnd', 'stream': 'clm2.h1', 'variable': 'SOILWATER_10CM'} returned:\n",
      "\n",
      "- 1 unique variable(s)\n",
      "\n",
      "\n",
      "- Number of files: 73\n",
      "\n",
      "\n",
      "- 40 member(s)\n",
      "\n",
      "\n",
      "- 40 case(s)\n",
      "\n",
      "\n"
     ]
    },
    {
     "data": {
      "application/vnd.jupyter.widget-view+json": {
       "model_id": "049fc234d13d483ba0b8b0c0f2b8591e",
       "version_major": 2,
       "version_minor": 0
      },
      "text/plain": [
       "HBox(children=(IntProgress(value=0, description='dataset', max=1, style=ProgressStyle(description_width='initi…"
      ]
     },
     "metadata": {},
     "output_type": "display_data"
    },
    {
     "data": {
      "application/vnd.jupyter.widget-view+json": {
       "model_id": "57b76381441f43f6af4afb550075474e",
       "version_major": 2,
       "version_minor": 0
      },
      "text/plain": [
       "HBox(children=(IntProgress(value=0, description='member', max=40, style=ProgressStyle(description_width='initi…"
      ]
     },
     "metadata": {},
     "output_type": "display_data"
    },
    {
     "name": "stdout",
     "output_type": "stream",
     "text": [
      "+++++++++++++++++++++++++++++++++++\n",
      "Variable name: SOILWATER_10CM\n",
      "Chunk shape: (1, 100, 290, 288)\n",
      "Dataset shape: (40, 34676, 290, 288)\n",
      "Chunk size: 33.41 MB\n",
      "Dataset size: 463.58 GB\n",
      "+++++++++++++++++++++++++++++++++++\n",
      "<xarray.Dataset>\n",
      "Dimensions:         (hist_interval: 2, lat: 290, levgrnd: 21, levlak: 10, lon: 288, member_id: 40, time: 34676)\n",
      "Coordinates:\n",
      "  * lat             (lat) float64 -90.0 -89.06 -89.06 ... 89.06 89.06 90.0\n",
      "  * levgrnd         (levgrnd) float64 0.007101 0.02792 0.06226 ... 21.33 35.18\n",
      "  * time            (time) float64 0.0 1.0 2.0 ... 3.467e+04 3.467e+04 3.468e+04\n",
      "  * levlak          (levlak) float32 0.05 0.6 2.1 4.6 ... 25.6 34.325 44.775\n",
      "  * lon             (lon) float32 0.0 1.25 2.5 3.75 ... 356.25 357.5 358.75\n",
      "  * member_id       (member_id) int64 1 2 3 4 5 6 7 ... 35 101 102 103 104 105\n",
      "Dimensions without coordinates: hist_interval\n",
      "Data variables:\n",
      "    area            (member_id, lat, lon) float32 dask.array<shape=(40, 290, 288), chunksize=(1, 290, 288)>\n",
      "    landfrac        (member_id, lat, lon) float32 dask.array<shape=(40, 290, 288), chunksize=(1, 290, 288)>\n",
      "    landmask        (member_id, lat, lon) float64 dask.array<shape=(40, 290, 288), chunksize=(1, 290, 288)>\n",
      "    pftmask         (member_id, lat, lon) float64 dask.array<shape=(40, 290, 288), chunksize=(1, 290, 288)>\n",
      "    topo            (member_id, lat, lon) float32 dask.array<shape=(40, 290, 288), chunksize=(1, 290, 288)>\n",
      "    SOILWATER_10CM  (member_id, time, lat, lon) float32 dask.array<shape=(40, 34676, 290, 288), chunksize=(1, 100, 290, 288)>\n",
      "    date_written    (member_id, time) object dask.array<shape=(40, 34676), chunksize=(1, 100)>\n",
      "    mcdate          (member_id, time) float64 dask.array<shape=(40, 34676), chunksize=(1, 100)>\n",
      "    mcsec           (member_id, time) float64 dask.array<shape=(40, 34676), chunksize=(1, 100)>\n",
      "    mdcur           (member_id, time) float64 dask.array<shape=(40, 34676), chunksize=(1, 100)>\n",
      "    mscur           (member_id, time) float64 dask.array<shape=(40, 34676), chunksize=(1, 100)>\n",
      "    nstep           (member_id, time) float64 dask.array<shape=(40, 34676), chunksize=(1, 100)>\n",
      "    time_bounds     (member_id, time, hist_interval) float64 dask.array<shape=(40, 34676, 2), chunksize=(1, 100, 2)>\n",
      "    time_written    (member_id, time) object dask.array<shape=(40, 34676), chunksize=(1, 100)>\n",
      "Attributes:\n",
      "    nco_openmp_thread_number:             1\n",
      "    version:                              cesm1_1_1_alpha01g\n",
      "    revision_id:                          $Id: histFileMod.F90 40539 2012-09-...\n",
      "    history:                              2019-06-25 12:48:53.707665 xarray.o...\n",
      "    case_title:                           UNSET\n",
      "    Conventions:                          CF-1.0\n",
      "    hostname:                             tcs\n",
      "    PFT_physiological_constants_dataset:  pft-physiology.c110425.nc\n",
      "    comment:                              NOTE: None of the variables are wei...\n",
      "    title:                                CLM History file information\n",
      "    source:                               Community Land Model CLM4.0\n",
      "    Surface_dataset:                      surfdata_0.9x1.25_simyr1850_c110921.nc\n",
      "    username:                             mudryk\n",
      "    NCO:                                  4.4.2\n",
      "****************************************************************************************************\n",
      "****************************************************************************************************\n",
      "This query: {'experiment': 'RCP85', 'component': 'atm', 'stream': 'cam.h0', 'variable': 'T'} returned:\n",
      "\n",
      "- 1 unique variable(s)\n",
      "\n",
      "\n",
      "- Number of files: 73\n",
      "\n",
      "\n",
      "- 40 member(s)\n",
      "\n",
      "\n",
      "- 40 case(s)\n",
      "\n",
      "\n"
     ]
    },
    {
     "data": {
      "application/vnd.jupyter.widget-view+json": {
       "model_id": "0d1ad9e778ec4807a49f1350aac6f418",
       "version_major": 2,
       "version_minor": 0
      },
      "text/plain": [
       "HBox(children=(IntProgress(value=0, description='dataset', max=1, style=ProgressStyle(description_width='initi…"
      ]
     },
     "metadata": {},
     "output_type": "display_data"
    },
    {
     "data": {
      "application/vnd.jupyter.widget-view+json": {
       "model_id": "eaa91812ca004e47be7c66b7c562b67b",
       "version_major": 2,
       "version_minor": 0
      },
      "text/plain": [
       "HBox(children=(IntProgress(value=0, description='member', max=40, style=ProgressStyle(description_width='initi…"
      ]
     },
     "metadata": {},
     "output_type": "display_data"
    },
    {
     "name": "stdout",
     "output_type": "stream",
     "text": [
      "encountered unexpected variable 'cosp_prs'\n",
      "****************************************************************************************************\n",
      "This query: {'experiment': 'RCP85', 'component': 'atm', 'stream': 'cam.h0', 'variable': 'U'} returned:\n",
      "\n",
      "- 1 unique variable(s)\n",
      "\n",
      "\n",
      "- Number of files: 73\n",
      "\n",
      "\n",
      "- 40 member(s)\n",
      "\n",
      "\n",
      "- 40 case(s)\n",
      "\n",
      "\n"
     ]
    },
    {
     "data": {
      "application/vnd.jupyter.widget-view+json": {
       "model_id": "85b072986bb44c3cb7cc2206bb9b3b70",
       "version_major": 2,
       "version_minor": 0
      },
      "text/plain": [
       "HBox(children=(IntProgress(value=0, description='dataset', max=1, style=ProgressStyle(description_width='initi…"
      ]
     },
     "metadata": {},
     "output_type": "display_data"
    },
    {
     "data": {
      "application/vnd.jupyter.widget-view+json": {
       "model_id": "8b7063d9a58c49f09a2aa10ba07fbd73",
       "version_major": 2,
       "version_minor": 0
      },
      "text/plain": [
       "HBox(children=(IntProgress(value=0, description='member', max=40, style=ProgressStyle(description_width='initi…"
      ]
     },
     "metadata": {},
     "output_type": "display_data"
    },
    {
     "name": "stdout",
     "output_type": "stream",
     "text": [
      "encountered unexpected variable 'cosp_prs'\n",
      "No results found for query={'experiment': 'RCP85', 'component': 'atm', 'stream': 'cam.h0', 'variable': 'v'}\n",
      "****************************************************************************************************\n",
      "This query: {'experiment': 'RCP85', 'component': 'atm', 'stream': 'cam.h0', 'variable': 'Q'} returned:\n",
      "\n",
      "- 1 unique variable(s)\n",
      "\n",
      "\n",
      "- Number of files: 73\n",
      "\n",
      "\n",
      "- 40 member(s)\n",
      "\n",
      "\n",
      "- 40 case(s)\n",
      "\n",
      "\n"
     ]
    },
    {
     "data": {
      "application/vnd.jupyter.widget-view+json": {
       "model_id": "3f85d7519e954796b109306623a8798c",
       "version_major": 2,
       "version_minor": 0
      },
      "text/plain": [
       "HBox(children=(IntProgress(value=0, description='dataset', max=1, style=ProgressStyle(description_width='initi…"
      ]
     },
     "metadata": {},
     "output_type": "display_data"
    },
    {
     "data": {
      "application/vnd.jupyter.widget-view+json": {
       "model_id": "c7b367e8b68e4fc298847e7ece608dd3",
       "version_major": 2,
       "version_minor": 0
      },
      "text/plain": [
       "HBox(children=(IntProgress(value=0, description='member', max=40, style=ProgressStyle(description_width='initi…"
      ]
     },
     "metadata": {},
     "output_type": "display_data"
    },
    {
     "name": "stdout",
     "output_type": "stream",
     "text": [
      "encountered unexpected variable 'cosp_prs'\n",
      "****************************************************************************************************\n",
      "This query: {'experiment': 'RCP85', 'component': 'atm', 'stream': 'cam.h0', 'variable': 'Z3'} returned:\n",
      "\n",
      "- 1 unique variable(s)\n",
      "\n",
      "\n",
      "- Number of files: 73\n",
      "\n",
      "\n",
      "- 40 member(s)\n",
      "\n",
      "\n",
      "- 40 case(s)\n",
      "\n",
      "\n"
     ]
    },
    {
     "data": {
      "application/vnd.jupyter.widget-view+json": {
       "model_id": "9f29a9a0ba5448a4bb401817b2876269",
       "version_major": 2,
       "version_minor": 0
      },
      "text/plain": [
       "HBox(children=(IntProgress(value=0, description='dataset', max=1, style=ProgressStyle(description_width='initi…"
      ]
     },
     "metadata": {},
     "output_type": "display_data"
    },
    {
     "data": {
      "application/vnd.jupyter.widget-view+json": {
       "model_id": "66660cc010074a7285e32686716fdf5f",
       "version_major": 2,
       "version_minor": 0
      },
      "text/plain": [
       "HBox(children=(IntProgress(value=0, description='member', max=40, style=ProgressStyle(description_width='initi…"
      ]
     },
     "metadata": {},
     "output_type": "display_data"
    },
    {
     "name": "stdout",
     "output_type": "stream",
     "text": [
      "encountered unexpected variable 'cosp_prs'\n",
      "****************************************************************************************************\n",
      "This query: {'experiment': 'RCP85', 'component': 'atm', 'stream': 'cam.h0', 'variable': 'FLNS'} returned:\n",
      "\n",
      "- 1 unique variable(s)\n",
      "\n",
      "\n",
      "- Number of files: 73\n",
      "\n",
      "\n",
      "- 40 member(s)\n",
      "\n",
      "\n",
      "- 40 case(s)\n",
      "\n",
      "\n"
     ]
    },
    {
     "data": {
      "application/vnd.jupyter.widget-view+json": {
       "model_id": "96a242a099e0494e8880173730d0835a",
       "version_major": 2,
       "version_minor": 0
      },
      "text/plain": [
       "HBox(children=(IntProgress(value=0, description='dataset', max=1, style=ProgressStyle(description_width='initi…"
      ]
     },
     "metadata": {},
     "output_type": "display_data"
    },
    {
     "data": {
      "application/vnd.jupyter.widget-view+json": {
       "model_id": "b92080968fa74a51a78ffb4ccb9aed44",
       "version_major": 2,
       "version_minor": 0
      },
      "text/plain": [
       "HBox(children=(IntProgress(value=0, description='member', max=40, style=ProgressStyle(description_width='initi…"
      ]
     },
     "metadata": {},
     "output_type": "display_data"
    },
    {
     "name": "stdout",
     "output_type": "stream",
     "text": [
      "encountered unexpected variable 'cosp_prs'\n",
      "****************************************************************************************************\n",
      "This query: {'experiment': 'RCP85', 'component': 'atm', 'stream': 'cam.h0', 'variable': 'FLNSC'} returned:\n",
      "\n",
      "- 1 unique variable(s)\n",
      "\n",
      "\n",
      "- Number of files: 73\n",
      "\n",
      "\n",
      "- 40 member(s)\n",
      "\n",
      "\n",
      "- 40 case(s)\n",
      "\n",
      "\n"
     ]
    },
    {
     "data": {
      "application/vnd.jupyter.widget-view+json": {
       "model_id": "e508abbe2a304e27ba34da0348bfda40",
       "version_major": 2,
       "version_minor": 0
      },
      "text/plain": [
       "HBox(children=(IntProgress(value=0, description='dataset', max=1, style=ProgressStyle(description_width='initi…"
      ]
     },
     "metadata": {},
     "output_type": "display_data"
    },
    {
     "data": {
      "application/vnd.jupyter.widget-view+json": {
       "model_id": "43e62296df814880b5d8cd5b42068c6a",
       "version_major": 2,
       "version_minor": 0
      },
      "text/plain": [
       "HBox(children=(IntProgress(value=0, description='member', max=40, style=ProgressStyle(description_width='initi…"
      ]
     },
     "metadata": {},
     "output_type": "display_data"
    },
    {
     "name": "stdout",
     "output_type": "stream",
     "text": [
      "encountered unexpected variable 'cosp_prs'\n",
      "****************************************************************************************************\n",
      "This query: {'experiment': 'RCP85', 'component': 'atm', 'stream': 'cam.h0', 'variable': 'FLUT'} returned:\n",
      "\n",
      "- 1 unique variable(s)\n",
      "\n",
      "\n",
      "- Number of files: 73\n",
      "\n",
      "\n",
      "- 40 member(s)\n",
      "\n",
      "\n",
      "- 40 case(s)\n",
      "\n",
      "\n"
     ]
    },
    {
     "data": {
      "application/vnd.jupyter.widget-view+json": {
       "model_id": "ea0257ac922b43178be96bc37adb4255",
       "version_major": 2,
       "version_minor": 0
      },
      "text/plain": [
       "HBox(children=(IntProgress(value=0, description='dataset', max=1, style=ProgressStyle(description_width='initi…"
      ]
     },
     "metadata": {},
     "output_type": "display_data"
    },
    {
     "data": {
      "application/vnd.jupyter.widget-view+json": {
       "model_id": "2cee43c0f17244fcb08375c0174fe918",
       "version_major": 2,
       "version_minor": 0
      },
      "text/plain": [
       "HBox(children=(IntProgress(value=0, description='member', max=40, style=ProgressStyle(description_width='initi…"
      ]
     },
     "metadata": {},
     "output_type": "display_data"
    },
    {
     "name": "stdout",
     "output_type": "stream",
     "text": [
      "encountered unexpected variable 'cosp_prs'\n",
      "****************************************************************************************************\n",
      "This query: {'experiment': 'RCP85', 'component': 'atm', 'stream': 'cam.h0', 'variable': 'FSNS'} returned:\n",
      "\n",
      "- 1 unique variable(s)\n",
      "\n",
      "\n",
      "- Number of files: 73\n",
      "\n",
      "\n",
      "- 40 member(s)\n",
      "\n",
      "\n",
      "- 40 case(s)\n",
      "\n",
      "\n"
     ]
    },
    {
     "data": {
      "application/vnd.jupyter.widget-view+json": {
       "model_id": "17abab863c9443afa6afba3d30101e6d",
       "version_major": 2,
       "version_minor": 0
      },
      "text/plain": [
       "HBox(children=(IntProgress(value=0, description='dataset', max=1, style=ProgressStyle(description_width='initi…"
      ]
     },
     "metadata": {},
     "output_type": "display_data"
    },
    {
     "data": {
      "application/vnd.jupyter.widget-view+json": {
       "model_id": "fca867163574401a920e486b4a6e9c39",
       "version_major": 2,
       "version_minor": 0
      },
      "text/plain": [
       "HBox(children=(IntProgress(value=0, description='member', max=40, style=ProgressStyle(description_width='initi…"
      ]
     },
     "metadata": {},
     "output_type": "display_data"
    },
    {
     "name": "stdout",
     "output_type": "stream",
     "text": [
      "encountered unexpected variable 'cosp_prs'\n",
      "****************************************************************************************************\n",
      "This query: {'experiment': 'RCP85', 'component': 'atm', 'stream': 'cam.h0', 'variable': 'FSNSC'} returned:\n",
      "\n",
      "- 1 unique variable(s)\n",
      "\n",
      "\n",
      "- Number of files: 73\n",
      "\n",
      "\n",
      "- 40 member(s)\n",
      "\n",
      "\n",
      "- 40 case(s)\n",
      "\n",
      "\n"
     ]
    },
    {
     "data": {
      "application/vnd.jupyter.widget-view+json": {
       "model_id": "754218f50eb64b38883c6c961140e63c",
       "version_major": 2,
       "version_minor": 0
      },
      "text/plain": [
       "HBox(children=(IntProgress(value=0, description='dataset', max=1, style=ProgressStyle(description_width='initi…"
      ]
     },
     "metadata": {},
     "output_type": "display_data"
    },
    {
     "data": {
      "application/vnd.jupyter.widget-view+json": {
       "model_id": "194e99d43528488390031324ea3f1f0c",
       "version_major": 2,
       "version_minor": 0
      },
      "text/plain": [
       "HBox(children=(IntProgress(value=0, description='member', max=40, style=ProgressStyle(description_width='initi…"
      ]
     },
     "metadata": {},
     "output_type": "display_data"
    },
    {
     "name": "stdout",
     "output_type": "stream",
     "text": [
      "encountered unexpected variable 'cosp_prs'\n",
      "****************************************************************************************************\n",
      "This query: {'experiment': 'RCP85', 'component': 'atm', 'stream': 'cam.h0', 'variable': 'FSNTOA'} returned:\n",
      "\n",
      "- 1 unique variable(s)\n",
      "\n",
      "\n",
      "- Number of files: 73\n",
      "\n",
      "\n",
      "- 40 member(s)\n",
      "\n",
      "\n",
      "- 40 case(s)\n",
      "\n",
      "\n"
     ]
    },
    {
     "data": {
      "application/vnd.jupyter.widget-view+json": {
       "model_id": "d4c8aafe92ca4ae88e8332fe8d54d7a5",
       "version_major": 2,
       "version_minor": 0
      },
      "text/plain": [
       "HBox(children=(IntProgress(value=0, description='dataset', max=1, style=ProgressStyle(description_width='initi…"
      ]
     },
     "metadata": {},
     "output_type": "display_data"
    },
    {
     "data": {
      "application/vnd.jupyter.widget-view+json": {
       "model_id": "38bf8ed80e3248f685f69d956ad4b4ac",
       "version_major": 2,
       "version_minor": 0
      },
      "text/plain": [
       "HBox(children=(IntProgress(value=0, description='member', max=40, style=ProgressStyle(description_width='initi…"
      ]
     },
     "metadata": {},
     "output_type": "display_data"
    },
    {
     "name": "stdout",
     "output_type": "stream",
     "text": [
      "encountered unexpected variable 'cosp_prs'\n",
      "****************************************************************************************************\n",
      "This query: {'experiment': 'RCP85', 'component': 'atm', 'stream': 'cam.h0', 'variable': 'ICEFRAC'} returned:\n",
      "\n",
      "- 1 unique variable(s)\n",
      "\n",
      "\n",
      "- Number of files: 73\n",
      "\n",
      "\n",
      "- 40 member(s)\n",
      "\n",
      "\n",
      "- 40 case(s)\n",
      "\n",
      "\n"
     ]
    },
    {
     "data": {
      "application/vnd.jupyter.widget-view+json": {
       "model_id": "aa77f21e2f384f04b67340dc3ed8517b",
       "version_major": 2,
       "version_minor": 0
      },
      "text/plain": [
       "HBox(children=(IntProgress(value=0, description='dataset', max=1, style=ProgressStyle(description_width='initi…"
      ]
     },
     "metadata": {},
     "output_type": "display_data"
    },
    {
     "data": {
      "application/vnd.jupyter.widget-view+json": {
       "model_id": "e0a25e1a9e374e409303e97184b1b888",
       "version_major": 2,
       "version_minor": 0
      },
      "text/plain": [
       "HBox(children=(IntProgress(value=0, description='member', max=40, style=ProgressStyle(description_width='initi…"
      ]
     },
     "metadata": {},
     "output_type": "display_data"
    },
    {
     "name": "stdout",
     "output_type": "stream",
     "text": [
      "encountered unexpected variable 'cosp_prs'\n",
      "****************************************************************************************************\n",
      "This query: {'experiment': 'RCP85', 'component': 'atm', 'stream': 'cam.h0', 'variable': 'LHFLX'} returned:\n",
      "\n",
      "- 1 unique variable(s)\n",
      "\n",
      "\n",
      "- Number of files: 73\n",
      "\n",
      "\n",
      "- 40 member(s)\n",
      "\n",
      "\n",
      "- 40 case(s)\n",
      "\n",
      "\n"
     ]
    },
    {
     "data": {
      "application/vnd.jupyter.widget-view+json": {
       "model_id": "214d72aecc204b4689116f35a5242780",
       "version_major": 2,
       "version_minor": 0
      },
      "text/plain": [
       "HBox(children=(IntProgress(value=0, description='dataset', max=1, style=ProgressStyle(description_width='initi…"
      ]
     },
     "metadata": {},
     "output_type": "display_data"
    },
    {
     "data": {
      "application/vnd.jupyter.widget-view+json": {
       "model_id": "777401b4afe145d48dba5d1ad2947389",
       "version_major": 2,
       "version_minor": 0
      },
      "text/plain": [
       "HBox(children=(IntProgress(value=0, description='member', max=40, style=ProgressStyle(description_width='initi…"
      ]
     },
     "metadata": {},
     "output_type": "display_data"
    },
    {
     "name": "stdout",
     "output_type": "stream",
     "text": [
      "encountered unexpected variable 'cosp_prs'\n",
      "****************************************************************************************************\n",
      "This query: {'experiment': 'RCP85', 'component': 'atm', 'stream': 'cam.h0', 'variable': 'PRECC'} returned:\n",
      "\n",
      "- 1 unique variable(s)\n",
      "\n",
      "\n",
      "- Number of files: 73\n",
      "\n",
      "\n",
      "- 40 member(s)\n",
      "\n",
      "\n",
      "- 40 case(s)\n",
      "\n",
      "\n"
     ]
    },
    {
     "data": {
      "application/vnd.jupyter.widget-view+json": {
       "model_id": "1dbe00548b2243ae99d8a00382168382",
       "version_major": 2,
       "version_minor": 0
      },
      "text/plain": [
       "HBox(children=(IntProgress(value=0, description='dataset', max=1, style=ProgressStyle(description_width='initi…"
      ]
     },
     "metadata": {},
     "output_type": "display_data"
    },
    {
     "data": {
      "application/vnd.jupyter.widget-view+json": {
       "model_id": "512e7f95ec3d467392a75d329b270eb8",
       "version_major": 2,
       "version_minor": 0
      },
      "text/plain": [
       "HBox(children=(IntProgress(value=0, description='member', max=40, style=ProgressStyle(description_width='initi…"
      ]
     },
     "metadata": {},
     "output_type": "display_data"
    },
    {
     "name": "stdout",
     "output_type": "stream",
     "text": [
      "encountered unexpected variable 'cosp_prs'\n",
      "****************************************************************************************************\n",
      "This query: {'experiment': 'RCP85', 'component': 'atm', 'stream': 'cam.h0', 'variable': 'PRECL'} returned:\n",
      "\n",
      "- 1 unique variable(s)\n",
      "\n",
      "\n",
      "- Number of files: 73\n",
      "\n",
      "\n",
      "- 40 member(s)\n",
      "\n",
      "\n",
      "- 40 case(s)\n",
      "\n",
      "\n"
     ]
    },
    {
     "data": {
      "application/vnd.jupyter.widget-view+json": {
       "model_id": "c92e35dfc1084d088cdebfc69d7a0a3a",
       "version_major": 2,
       "version_minor": 0
      },
      "text/plain": [
       "HBox(children=(IntProgress(value=0, description='dataset', max=1, style=ProgressStyle(description_width='initi…"
      ]
     },
     "metadata": {},
     "output_type": "display_data"
    },
    {
     "data": {
      "application/vnd.jupyter.widget-view+json": {
       "model_id": "bc1a4d1d33344188a1fe6e2e4905c84e",
       "version_major": 2,
       "version_minor": 0
      },
      "text/plain": [
       "HBox(children=(IntProgress(value=0, description='member', max=40, style=ProgressStyle(description_width='initi…"
      ]
     },
     "metadata": {},
     "output_type": "display_data"
    },
    {
     "name": "stdout",
     "output_type": "stream",
     "text": [
      "encountered unexpected variable 'cosp_prs'\n",
      "****************************************************************************************************\n",
      "This query: {'experiment': 'RCP85', 'component': 'atm', 'stream': 'cam.h0', 'variable': 'PRECSC'} returned:\n",
      "\n",
      "- 1 unique variable(s)\n",
      "\n",
      "\n",
      "- Number of files: 73\n",
      "\n",
      "\n",
      "- 40 member(s)\n",
      "\n",
      "\n",
      "- 40 case(s)\n",
      "\n",
      "\n"
     ]
    },
    {
     "data": {
      "application/vnd.jupyter.widget-view+json": {
       "model_id": "3b4b24dd3bc341588b16bc50553f4e93",
       "version_major": 2,
       "version_minor": 0
      },
      "text/plain": [
       "HBox(children=(IntProgress(value=0, description='dataset', max=1, style=ProgressStyle(description_width='initi…"
      ]
     },
     "metadata": {},
     "output_type": "display_data"
    },
    {
     "data": {
      "application/vnd.jupyter.widget-view+json": {
       "model_id": "ae79ca27f877478cac5270fc4c93b0cd",
       "version_major": 2,
       "version_minor": 0
      },
      "text/plain": [
       "HBox(children=(IntProgress(value=0, description='member', max=40, style=ProgressStyle(description_width='initi…"
      ]
     },
     "metadata": {},
     "output_type": "display_data"
    },
    {
     "name": "stdout",
     "output_type": "stream",
     "text": [
      "encountered unexpected variable 'cosp_prs'\n",
      "****************************************************************************************************\n",
      "This query: {'experiment': 'RCP85', 'component': 'atm', 'stream': 'cam.h0', 'variable': 'PRECSL'} returned:\n",
      "\n",
      "- 1 unique variable(s)\n",
      "\n",
      "\n",
      "- Number of files: 73\n",
      "\n",
      "\n",
      "- 40 member(s)\n",
      "\n",
      "\n",
      "- 40 case(s)\n",
      "\n",
      "\n"
     ]
    },
    {
     "data": {
      "application/vnd.jupyter.widget-view+json": {
       "model_id": "12eaec165d804beaace34f74f75a9d06",
       "version_major": 2,
       "version_minor": 0
      },
      "text/plain": [
       "HBox(children=(IntProgress(value=0, description='dataset', max=1, style=ProgressStyle(description_width='initi…"
      ]
     },
     "metadata": {},
     "output_type": "display_data"
    },
    {
     "data": {
      "application/vnd.jupyter.widget-view+json": {
       "model_id": "ea2575dd950f4f0a91dd8ec0f295f712",
       "version_major": 2,
       "version_minor": 0
      },
      "text/plain": [
       "HBox(children=(IntProgress(value=0, description='member', max=40, style=ProgressStyle(description_width='initi…"
      ]
     },
     "metadata": {},
     "output_type": "display_data"
    },
    {
     "name": "stdout",
     "output_type": "stream",
     "text": [
      "encountered unexpected variable 'cosp_prs'\n",
      "****************************************************************************************************\n",
      "This query: {'experiment': 'RCP85', 'component': 'atm', 'stream': 'cam.h0', 'variable': 'PSL'} returned:\n",
      "\n",
      "- 1 unique variable(s)\n",
      "\n",
      "\n",
      "- Number of files: 73\n",
      "\n",
      "\n",
      "- 40 member(s)\n",
      "\n",
      "\n",
      "- 40 case(s)\n",
      "\n",
      "\n"
     ]
    },
    {
     "data": {
      "application/vnd.jupyter.widget-view+json": {
       "model_id": "ff8ffd7ed8a84a8192e3159998726e0c",
       "version_major": 2,
       "version_minor": 0
      },
      "text/plain": [
       "HBox(children=(IntProgress(value=0, description='dataset', max=1, style=ProgressStyle(description_width='initi…"
      ]
     },
     "metadata": {},
     "output_type": "display_data"
    },
    {
     "data": {
      "application/vnd.jupyter.widget-view+json": {
       "model_id": "5d9372a4e538421895dde7f6fdcfe44b",
       "version_major": 2,
       "version_minor": 0
      },
      "text/plain": [
       "HBox(children=(IntProgress(value=0, description='member', max=40, style=ProgressStyle(description_width='initi…"
      ]
     },
     "metadata": {},
     "output_type": "display_data"
    },
    {
     "name": "stdout",
     "output_type": "stream",
     "text": [
      "encountered unexpected variable 'cosp_prs'\n",
      "****************************************************************************************************\n",
      "This query: {'experiment': 'RCP85', 'component': 'atm', 'stream': 'cam.h0', 'variable': 'SHFLX'} returned:\n",
      "\n",
      "- 1 unique variable(s)\n",
      "\n",
      "\n",
      "- Number of files: 73\n",
      "\n",
      "\n",
      "- 40 member(s)\n",
      "\n",
      "\n",
      "- 40 case(s)\n",
      "\n",
      "\n"
     ]
    },
    {
     "data": {
      "application/vnd.jupyter.widget-view+json": {
       "model_id": "1d402dadbfee4052a8e798689c620a16",
       "version_major": 2,
       "version_minor": 0
      },
      "text/plain": [
       "HBox(children=(IntProgress(value=0, description='dataset', max=1, style=ProgressStyle(description_width='initi…"
      ]
     },
     "metadata": {},
     "output_type": "display_data"
    },
    {
     "data": {
      "application/vnd.jupyter.widget-view+json": {
       "model_id": "a737c160835b4a4298c1305c484578a8",
       "version_major": 2,
       "version_minor": 0
      },
      "text/plain": [
       "HBox(children=(IntProgress(value=0, description='member', max=40, style=ProgressStyle(description_width='initi…"
      ]
     },
     "metadata": {},
     "output_type": "display_data"
    },
    {
     "name": "stdout",
     "output_type": "stream",
     "text": [
      "encountered unexpected variable 'cosp_prs'\n",
      "****************************************************************************************************\n",
      "This query: {'experiment': 'RCP85', 'component': 'atm', 'stream': 'cam.h0', 'variable': 'TMQ'} returned:\n",
      "\n",
      "- 1 unique variable(s)\n",
      "\n",
      "\n",
      "- Number of files: 73\n",
      "\n",
      "\n",
      "- 40 member(s)\n",
      "\n",
      "\n",
      "- 40 case(s)\n",
      "\n",
      "\n"
     ]
    },
    {
     "data": {
      "application/vnd.jupyter.widget-view+json": {
       "model_id": "5a2f53b928754e67b1e7b6162e957b86",
       "version_major": 2,
       "version_minor": 0
      },
      "text/plain": [
       "HBox(children=(IntProgress(value=0, description='dataset', max=1, style=ProgressStyle(description_width='initi…"
      ]
     },
     "metadata": {},
     "output_type": "display_data"
    },
    {
     "data": {
      "application/vnd.jupyter.widget-view+json": {
       "model_id": "d478bb0dfc9f49398c51e783da767324",
       "version_major": 2,
       "version_minor": 0
      },
      "text/plain": [
       "HBox(children=(IntProgress(value=0, description='member', max=40, style=ProgressStyle(description_width='initi…"
      ]
     },
     "metadata": {},
     "output_type": "display_data"
    },
    {
     "name": "stdout",
     "output_type": "stream",
     "text": [
      "encountered unexpected variable 'cosp_prs'\n",
      "****************************************************************************************************\n",
      "This query: {'experiment': 'RCP85', 'component': 'atm', 'stream': 'cam.h0', 'variable': 'TREFHT'} returned:\n",
      "\n",
      "- 1 unique variable(s)\n",
      "\n",
      "\n",
      "- Number of files: 73\n",
      "\n",
      "\n",
      "- 40 member(s)\n",
      "\n",
      "\n",
      "- 40 case(s)\n",
      "\n",
      "\n"
     ]
    },
    {
     "data": {
      "application/vnd.jupyter.widget-view+json": {
       "model_id": "7155a26dc54f4ffb953d39c70a8d5c3f",
       "version_major": 2,
       "version_minor": 0
      },
      "text/plain": [
       "HBox(children=(IntProgress(value=0, description='dataset', max=1, style=ProgressStyle(description_width='initi…"
      ]
     },
     "metadata": {},
     "output_type": "display_data"
    },
    {
     "data": {
      "application/vnd.jupyter.widget-view+json": {
       "model_id": "caf6a3c67ee34882a143190a3d85c36e",
       "version_major": 2,
       "version_minor": 0
      },
      "text/plain": [
       "HBox(children=(IntProgress(value=0, description='member', max=40, style=ProgressStyle(description_width='initi…"
      ]
     },
     "metadata": {},
     "output_type": "display_data"
    },
    {
     "name": "stdout",
     "output_type": "stream",
     "text": [
      "encountered unexpected variable 'cosp_prs'\n",
      "****************************************************************************************************\n",
      "This query: {'experiment': 'RCP85', 'component': 'atm', 'stream': 'cam.h0', 'variable': 'TREFHTMN'} returned:\n",
      "\n",
      "- 1 unique variable(s)\n",
      "\n",
      "\n",
      "- Number of files: 73\n",
      "\n",
      "\n",
      "- 40 member(s)\n",
      "\n",
      "\n",
      "- 40 case(s)\n",
      "\n",
      "\n"
     ]
    },
    {
     "data": {
      "application/vnd.jupyter.widget-view+json": {
       "model_id": "9f290fabc4114c10b16cc685e438f66e",
       "version_major": 2,
       "version_minor": 0
      },
      "text/plain": [
       "HBox(children=(IntProgress(value=0, description='dataset', max=1, style=ProgressStyle(description_width='initi…"
      ]
     },
     "metadata": {},
     "output_type": "display_data"
    },
    {
     "data": {
      "application/vnd.jupyter.widget-view+json": {
       "model_id": "58a78bc7df54439f8dc1052fdd69d21b",
       "version_major": 2,
       "version_minor": 0
      },
      "text/plain": [
       "HBox(children=(IntProgress(value=0, description='member', max=40, style=ProgressStyle(description_width='initi…"
      ]
     },
     "metadata": {},
     "output_type": "display_data"
    },
    {
     "name": "stdout",
     "output_type": "stream",
     "text": [
      "encountered unexpected variable 'cosp_prs'\n",
      "****************************************************************************************************\n",
      "This query: {'experiment': 'RCP85', 'component': 'atm', 'stream': 'cam.h0', 'variable': 'TREFHTMX'} returned:\n",
      "\n",
      "- 1 unique variable(s)\n",
      "\n",
      "\n",
      "- Number of files: 73\n",
      "\n",
      "\n",
      "- 40 member(s)\n",
      "\n",
      "\n",
      "- 40 case(s)\n",
      "\n",
      "\n"
     ]
    },
    {
     "data": {
      "application/vnd.jupyter.widget-view+json": {
       "model_id": "12b29c6f699a43bcbcba48263dabdd1b",
       "version_major": 2,
       "version_minor": 0
      },
      "text/plain": [
       "HBox(children=(IntProgress(value=0, description='dataset', max=1, style=ProgressStyle(description_width='initi…"
      ]
     },
     "metadata": {},
     "output_type": "display_data"
    },
    {
     "data": {
      "application/vnd.jupyter.widget-view+json": {
       "model_id": "f4674179791542e695fdb679f8659ac7",
       "version_major": 2,
       "version_minor": 0
      },
      "text/plain": [
       "HBox(children=(IntProgress(value=0, description='member', max=40, style=ProgressStyle(description_width='initi…"
      ]
     },
     "metadata": {},
     "output_type": "display_data"
    },
    {
     "name": "stdout",
     "output_type": "stream",
     "text": [
      "encountered unexpected variable 'cosp_prs'\n",
      "****************************************************************************************************\n",
      "This query: {'experiment': 'RCP85', 'component': 'atm', 'stream': 'cam.h0', 'variable': 'TS'} returned:\n",
      "\n",
      "- 1 unique variable(s)\n",
      "\n",
      "\n",
      "- Number of files: 73\n",
      "\n",
      "\n",
      "- 40 member(s)\n",
      "\n",
      "\n",
      "- 40 case(s)\n",
      "\n",
      "\n"
     ]
    },
    {
     "data": {
      "application/vnd.jupyter.widget-view+json": {
       "model_id": "b0af82599f0e46c3beb5298bd0b656d1",
       "version_major": 2,
       "version_minor": 0
      },
      "text/plain": [
       "HBox(children=(IntProgress(value=0, description='dataset', max=1, style=ProgressStyle(description_width='initi…"
      ]
     },
     "metadata": {},
     "output_type": "display_data"
    },
    {
     "data": {
      "application/vnd.jupyter.widget-view+json": {
       "model_id": "f9bea19d853c4b3abc9fac9d32983cef",
       "version_major": 2,
       "version_minor": 0
      },
      "text/plain": [
       "HBox(children=(IntProgress(value=0, description='member', max=40, style=ProgressStyle(description_width='initi…"
      ]
     },
     "metadata": {},
     "output_type": "display_data"
    },
    {
     "name": "stdout",
     "output_type": "stream",
     "text": [
      "encountered unexpected variable 'cosp_prs'\n"
     ]
    }
   ],
   "source": [
    "for exp in experiment_list:\n",
    "    for cmp in component_list:\n",
    "        for stm, stm_specs in specs[cmp].items():\n",
    "            frequency = stm_specs['frequency']\n",
    "            var_cats = stm_specs['variable_category']\n",
    "            for var_cat, var_cat_values in var_cats.items():\n",
    "                variables = var_cat_values['variables']\n",
    "                chunks = var_cat_values['chunks']\n",
    "                xr_open = dict(chunks=chunks, decode_times=False, decode_coords=False)\n",
    "                for variable in variables:\n",
    "                    query = dict(experiment=exp, component=cmp, stream=stm, variable=variable)\n",
    "                    cat = col.search(**query)\n",
    "                    results = cat.query_results\n",
    "                    if not results.empty:\n",
    "                        print(\"*\"*100)\n",
    "                        print_query_info(results)\n",
    "                        try:\n",
    "                            ds = read_data(cat, xr_open)\n",
    "                            print(\"+\"*35)\n",
    "                            if variable in {'aice_nh', 'aice_sh'}:\n",
    "                                variable = 'aice'\n",
    "                            elif variable in {'hi_nh', 'hi_sh'}:\n",
    "                                variable = 'hi'\n",
    "                            print_ds_info(ds, variable)\n",
    "                            print(\"+\"*35)\n",
    "                            print(ds)\n",
    "                            print(\"*\"*100)\n",
    "                        except Exception as e:\n",
    "                            print(e)\n",
    "                    else:\n",
    "                        print(f\"No results found for query={query}\")\n",
    "                        continue"
   ]
  },
  {
   "cell_type": "code",
   "execution_count": null,
   "metadata": {},
   "outputs": [],
   "source": []
  }
 ],
 "metadata": {
  "kernelspec": {
   "display_name": "Python 3",
   "language": "python",
   "name": "python3"
  },
  "language_info": {
   "codemirror_mode": {
    "name": "ipython",
    "version": 3
   },
   "file_extension": ".py",
   "mimetype": "text/x-python",
   "name": "python",
   "nbconvert_exporter": "python",
   "pygments_lexer": "ipython3",
   "version": "3.7.3"
  }
 },
 "nbformat": 4,
 "nbformat_minor": 2
}
