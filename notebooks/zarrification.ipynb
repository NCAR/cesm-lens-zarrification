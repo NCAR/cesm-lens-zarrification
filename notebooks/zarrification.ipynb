{
 "cells": [
  {
   "cell_type": "markdown",
   "metadata": {},
   "source": [
    "# zarr-ification of CESM-LE for AWS"
   ]
  },
  {
   "cell_type": "code",
   "execution_count": 1,
   "metadata": {},
   "outputs": [],
   "source": [
    "import warnings\n",
    "warnings.filterwarnings(\"ignore\")\n",
    "import os\n",
    "import shutil\n",
    "\n",
    "import yaml\n",
    "\n",
    "import xarray as xr\n",
    "\n",
    "import intake\n",
    "from distributed.utils import format_bytes\n",
    "from operator import mul\n",
    "from functools import reduce"
   ]
  },
  {
   "cell_type": "markdown",
   "metadata": {},
   "source": [
    "## Spinup cluster"
   ]
  },
  {
   "cell_type": "code",
   "execution_count": 2,
   "metadata": {},
   "outputs": [
    {
     "data": {
      "application/vnd.jupyter.widget-view+json": {
       "model_id": "1d15ae4981874d568f808ae60d10950c",
       "version_major": 2,
       "version_minor": 0
      },
      "text/plain": [
       "VBox(children=(HTML(value='<h2>NCARCluster</h2>'), HBox(children=(HTML(value='\\n<div>\\n  <style scoped>\\n    .…"
      ]
     },
     "metadata": {},
     "output_type": "display_data"
    }
   ],
   "source": [
    "from ncar_jobqueue import NCARCluster\n",
    "cluster = NCARCluster(memory=\"70GB\")\n",
    "cluster"
   ]
  },
  {
   "cell_type": "code",
   "execution_count": 3,
   "metadata": {},
   "outputs": [
    {
     "name": "stdout",
     "output_type": "stream",
     "text": [
      "#!/bin/bash\n",
      "\n",
      "#!/usr/bin/env bash\n",
      "#SBATCH -J dask-worker\n",
      "#SBATCH -A NIOW0001\n",
      "#SBATCH -n 1\n",
      "#SBATCH --cpus-per-task=1\n",
      "#SBATCH --mem=66G\n",
      "#SBATCH -t 06:00:00\n",
      "#SBATCH -C skylake\n",
      "#SBATCH -C casper\n",
      "JOB_ID=${SLURM_JOB_ID%;*}\n",
      "\n",
      "\n",
      "\n",
      "/glade/work/abanihi/softwares/miniconda3/envs/analysis/bin/python -m distributed.cli.dask_worker tcp://10.12.203.5:39647 --nthreads 1 --memory-limit 70.00GB --name dask-worker--${JOB_ID}-- --death-timeout 60 --interface ib0\n",
      "\n"
     ]
    }
   ],
   "source": [
    "print(cluster.job_script())"
   ]
  },
  {
   "cell_type": "code",
   "execution_count": 4,
   "metadata": {},
   "outputs": [
    {
     "data": {
      "text/plain": [
       "<distributed.deploy.adaptive.Adaptive at 0x2ae1d6c1eef0>"
      ]
     },
     "execution_count": 4,
     "metadata": {},
     "output_type": "execute_result"
    }
   ],
   "source": [
    "cluster.adapt(minimum=0, maximum=30, wait_count=60)"
   ]
  },
  {
   "cell_type": "code",
   "execution_count": 5,
   "metadata": {},
   "outputs": [
    {
     "data": {
      "text/html": [
       "<table style=\"border: 2px solid white;\">\n",
       "<tr>\n",
       "<td style=\"vertical-align: top; border: 0px solid white\">\n",
       "<h3>Client</h3>\n",
       "<ul>\n",
       "  <li><b>Scheduler: </b>tcp://10.12.203.5:39647\n",
       "  <li><b>Dashboard: </b><a href='https://jupyterhub.ucar.edu/ch/user/abanihi/proxy/8787/status' target='_blank'>https://jupyterhub.ucar.edu/ch/user/abanihi/proxy/8787/status</a>\n",
       "</ul>\n",
       "</td>\n",
       "<td style=\"vertical-align: top; border: 0px solid white\">\n",
       "<h3>Cluster</h3>\n",
       "<ul>\n",
       "  <li><b>Workers: </b>30</li>\n",
       "  <li><b>Cores: </b>30</li>\n",
       "  <li><b>Memory: </b>2.10 TB</li>\n",
       "</ul>\n",
       "</td>\n",
       "</tr>\n",
       "</table>"
      ],
      "text/plain": [
       "<Client: scheduler='tcp://10.12.203.5:39647' processes=30 cores=30>"
      ]
     },
     "execution_count": 5,
     "metadata": {},
     "output_type": "execute_result"
    }
   ],
   "source": [
    "from dask.distributed import Client\n",
    "client = Client(cluster) # Connect this local process to remote workers\n",
    "client"
   ]
  },
  {
   "cell_type": "markdown",
   "metadata": {},
   "source": [
    "## Connect to intake-esm database"
   ]
  },
  {
   "cell_type": "code",
   "execution_count": 6,
   "metadata": {},
   "outputs": [
    {
     "data": {
      "text/html": [
       "<div>\n",
       "<style scoped>\n",
       "    .dataframe tbody tr th:only-of-type {\n",
       "        vertical-align: middle;\n",
       "    }\n",
       "\n",
       "    .dataframe tbody tr th {\n",
       "        vertical-align: top;\n",
       "    }\n",
       "\n",
       "    .dataframe thead th {\n",
       "        text-align: right;\n",
       "    }\n",
       "</style>\n",
       "<table border=\"1\" class=\"dataframe\">\n",
       "  <thead>\n",
       "    <tr style=\"text-align: right;\">\n",
       "      <th></th>\n",
       "      <th>resource</th>\n",
       "      <th>resource_type</th>\n",
       "      <th>direct_access</th>\n",
       "      <th>experiment</th>\n",
       "      <th>case</th>\n",
       "      <th>component</th>\n",
       "      <th>stream</th>\n",
       "      <th>variable</th>\n",
       "      <th>date_range</th>\n",
       "      <th>member_id</th>\n",
       "      <th>file_fullpath</th>\n",
       "      <th>file_basename</th>\n",
       "      <th>file_dirname</th>\n",
       "      <th>ctrl_branch_year</th>\n",
       "      <th>year_offset</th>\n",
       "      <th>sequence_order</th>\n",
       "      <th>has_ocean_bgc</th>\n",
       "      <th>grid</th>\n",
       "    </tr>\n",
       "  </thead>\n",
       "  <tbody>\n",
       "    <tr>\n",
       "      <th>0</th>\n",
       "      <td>CTRL:GLADE:posix:/glade/collections/cdg/data/c...</td>\n",
       "      <td>posix</td>\n",
       "      <td>True</td>\n",
       "      <td>CTRL</td>\n",
       "      <td>b.e11.B1850C5CN.f09_g16.005</td>\n",
       "      <td>atm</td>\n",
       "      <td>cam.h1</td>\n",
       "      <td>T200</td>\n",
       "      <td>18000101-18991231</td>\n",
       "      <td>0</td>\n",
       "      <td>/glade/collections/cdg/data/cesmLE/CESM-CAM5-B...</td>\n",
       "      <td>b.e11.B1850C5CN.f09_g16.005.cam.h1.T200.180001...</td>\n",
       "      <td>/glade/collections/cdg/data/cesmLE/CESM-CAM5-B...</td>\n",
       "      <td>NaN</td>\n",
       "      <td>1448.0</td>\n",
       "      <td>0</td>\n",
       "      <td>True</td>\n",
       "      <td>NaN</td>\n",
       "    </tr>\n",
       "    <tr>\n",
       "      <th>1</th>\n",
       "      <td>CTRL:GLADE:posix:/glade/collections/cdg/data/c...</td>\n",
       "      <td>posix</td>\n",
       "      <td>True</td>\n",
       "      <td>CTRL</td>\n",
       "      <td>b.e11.B1850C5CN.f09_g16.005</td>\n",
       "      <td>atm</td>\n",
       "      <td>cam.h1</td>\n",
       "      <td>T200</td>\n",
       "      <td>08000101-08991231</td>\n",
       "      <td>0</td>\n",
       "      <td>/glade/collections/cdg/data/cesmLE/CESM-CAM5-B...</td>\n",
       "      <td>b.e11.B1850C5CN.f09_g16.005.cam.h1.T200.080001...</td>\n",
       "      <td>/glade/collections/cdg/data/cesmLE/CESM-CAM5-B...</td>\n",
       "      <td>NaN</td>\n",
       "      <td>1448.0</td>\n",
       "      <td>0</td>\n",
       "      <td>True</td>\n",
       "      <td>NaN</td>\n",
       "    </tr>\n",
       "    <tr>\n",
       "      <th>2</th>\n",
       "      <td>CTRL:GLADE:posix:/glade/collections/cdg/data/c...</td>\n",
       "      <td>posix</td>\n",
       "      <td>True</td>\n",
       "      <td>CTRL</td>\n",
       "      <td>b.e11.B1850C5CN.f09_g16.005</td>\n",
       "      <td>atm</td>\n",
       "      <td>cam.h1</td>\n",
       "      <td>T200</td>\n",
       "      <td>04020101-04991231</td>\n",
       "      <td>0</td>\n",
       "      <td>/glade/collections/cdg/data/cesmLE/CESM-CAM5-B...</td>\n",
       "      <td>b.e11.B1850C5CN.f09_g16.005.cam.h1.T200.040201...</td>\n",
       "      <td>/glade/collections/cdg/data/cesmLE/CESM-CAM5-B...</td>\n",
       "      <td>NaN</td>\n",
       "      <td>1448.0</td>\n",
       "      <td>0</td>\n",
       "      <td>True</td>\n",
       "      <td>NaN</td>\n",
       "    </tr>\n",
       "    <tr>\n",
       "      <th>3</th>\n",
       "      <td>CTRL:GLADE:posix:/glade/collections/cdg/data/c...</td>\n",
       "      <td>posix</td>\n",
       "      <td>True</td>\n",
       "      <td>CTRL</td>\n",
       "      <td>b.e11.B1850C5CN.f09_g16.005</td>\n",
       "      <td>atm</td>\n",
       "      <td>cam.h1</td>\n",
       "      <td>T200</td>\n",
       "      <td>10000101-10991231</td>\n",
       "      <td>0</td>\n",
       "      <td>/glade/collections/cdg/data/cesmLE/CESM-CAM5-B...</td>\n",
       "      <td>b.e11.B1850C5CN.f09_g16.005.cam.h1.T200.100001...</td>\n",
       "      <td>/glade/collections/cdg/data/cesmLE/CESM-CAM5-B...</td>\n",
       "      <td>NaN</td>\n",
       "      <td>1448.0</td>\n",
       "      <td>0</td>\n",
       "      <td>True</td>\n",
       "      <td>NaN</td>\n",
       "    </tr>\n",
       "    <tr>\n",
       "      <th>4</th>\n",
       "      <td>CTRL:GLADE:posix:/glade/collections/cdg/data/c...</td>\n",
       "      <td>posix</td>\n",
       "      <td>True</td>\n",
       "      <td>CTRL</td>\n",
       "      <td>b.e11.B1850C5CN.f09_g16.005</td>\n",
       "      <td>atm</td>\n",
       "      <td>cam.h1</td>\n",
       "      <td>T200</td>\n",
       "      <td>11000101-11991231</td>\n",
       "      <td>0</td>\n",
       "      <td>/glade/collections/cdg/data/cesmLE/CESM-CAM5-B...</td>\n",
       "      <td>b.e11.B1850C5CN.f09_g16.005.cam.h1.T200.110001...</td>\n",
       "      <td>/glade/collections/cdg/data/cesmLE/CESM-CAM5-B...</td>\n",
       "      <td>NaN</td>\n",
       "      <td>1448.0</td>\n",
       "      <td>0</td>\n",
       "      <td>True</td>\n",
       "      <td>NaN</td>\n",
       "    </tr>\n",
       "  </tbody>\n",
       "</table>\n",
       "</div>"
      ],
      "text/plain": [
       "                                            resource resource_type  \\\n",
       "0  CTRL:GLADE:posix:/glade/collections/cdg/data/c...         posix   \n",
       "1  CTRL:GLADE:posix:/glade/collections/cdg/data/c...         posix   \n",
       "2  CTRL:GLADE:posix:/glade/collections/cdg/data/c...         posix   \n",
       "3  CTRL:GLADE:posix:/glade/collections/cdg/data/c...         posix   \n",
       "4  CTRL:GLADE:posix:/glade/collections/cdg/data/c...         posix   \n",
       "\n",
       "   direct_access experiment                         case component  stream  \\\n",
       "0           True       CTRL  b.e11.B1850C5CN.f09_g16.005       atm  cam.h1   \n",
       "1           True       CTRL  b.e11.B1850C5CN.f09_g16.005       atm  cam.h1   \n",
       "2           True       CTRL  b.e11.B1850C5CN.f09_g16.005       atm  cam.h1   \n",
       "3           True       CTRL  b.e11.B1850C5CN.f09_g16.005       atm  cam.h1   \n",
       "4           True       CTRL  b.e11.B1850C5CN.f09_g16.005       atm  cam.h1   \n",
       "\n",
       "  variable         date_range  member_id  \\\n",
       "0     T200  18000101-18991231          0   \n",
       "1     T200  08000101-08991231          0   \n",
       "2     T200  04020101-04991231          0   \n",
       "3     T200  10000101-10991231          0   \n",
       "4     T200  11000101-11991231          0   \n",
       "\n",
       "                                       file_fullpath  \\\n",
       "0  /glade/collections/cdg/data/cesmLE/CESM-CAM5-B...   \n",
       "1  /glade/collections/cdg/data/cesmLE/CESM-CAM5-B...   \n",
       "2  /glade/collections/cdg/data/cesmLE/CESM-CAM5-B...   \n",
       "3  /glade/collections/cdg/data/cesmLE/CESM-CAM5-B...   \n",
       "4  /glade/collections/cdg/data/cesmLE/CESM-CAM5-B...   \n",
       "\n",
       "                                       file_basename  \\\n",
       "0  b.e11.B1850C5CN.f09_g16.005.cam.h1.T200.180001...   \n",
       "1  b.e11.B1850C5CN.f09_g16.005.cam.h1.T200.080001...   \n",
       "2  b.e11.B1850C5CN.f09_g16.005.cam.h1.T200.040201...   \n",
       "3  b.e11.B1850C5CN.f09_g16.005.cam.h1.T200.100001...   \n",
       "4  b.e11.B1850C5CN.f09_g16.005.cam.h1.T200.110001...   \n",
       "\n",
       "                                        file_dirname  ctrl_branch_year  \\\n",
       "0  /glade/collections/cdg/data/cesmLE/CESM-CAM5-B...               NaN   \n",
       "1  /glade/collections/cdg/data/cesmLE/CESM-CAM5-B...               NaN   \n",
       "2  /glade/collections/cdg/data/cesmLE/CESM-CAM5-B...               NaN   \n",
       "3  /glade/collections/cdg/data/cesmLE/CESM-CAM5-B...               NaN   \n",
       "4  /glade/collections/cdg/data/cesmLE/CESM-CAM5-B...               NaN   \n",
       "\n",
       "   year_offset  sequence_order  has_ocean_bgc grid  \n",
       "0       1448.0               0           True  NaN  \n",
       "1       1448.0               0           True  NaN  \n",
       "2       1448.0               0           True  NaN  \n",
       "3       1448.0               0           True  NaN  \n",
       "4       1448.0               0           True  NaN  "
      ]
     },
     "execution_count": 6,
     "metadata": {},
     "output_type": "execute_result"
    }
   ],
   "source": [
    "col = intake.open_esm_metadatastore(collection_name='CESM1-LE')\n",
    "col.df.head()"
   ]
  },
  {
   "cell_type": "markdown",
   "metadata": {},
   "source": [
    "## Helper functions"
   ]
  },
  {
   "cell_type": "code",
   "execution_count": 7,
   "metadata": {},
   "outputs": [],
   "source": [
    "def collection_summary(col):\n",
    "    df = col.df\n",
    "    print(\"There are:\\n\")\n",
    "    print(f\"\\t1) {df.experiment.nunique()} experiments: \\n\\n\\t\\t{df.experiment.unique()}\\n\")\n",
    "    print(f\"\\t2) {df.case.nunique()} cases: \\n\\n\\t\\t{df.case.unique()[:5]} etc...\\n\")\n",
    "    print(f\"\\t3) {df.component.nunique()} components: \\n\\n\\t\\t{df.component.unique()}\\n\")\n",
    "    print(f\"\\t4) {df.stream.nunique()} streams: \\n\\n\\t\\t{df.stream.unique()}\\n\")\n",
    "    print(f\"\\t5) {df.variable.nunique()} variables: \\n\\n\\t\\t{df.variable.unique()[:10]} etc...\\n\")\n",
    "    "
   ]
  },
  {
   "cell_type": "code",
   "execution_count": 8,
   "metadata": {},
   "outputs": [],
   "source": [
    "def print_query_info(query_results):\n",
    "    variables = sorted(query_results.variable.unique().tolist())\n",
    "    files = sorted(query_results.file_fullpath.unique().tolist())\n",
    "    date_ranges = sorted(query_results.date_range.unique())\n",
    "    cases = sorted(query_results.case.unique())\n",
    "    members = sorted(query_results.member_id.unique())\n",
    "    print(f\"This query: {query} returned:\\n\\n- {len(variables)} unique variable(s)\\n\\n\")\n",
    "    print(f\"- Number of files: {len(files)}\\n\\n\")\n",
    "    print(f\"- {len(members)} member(s): {members}\\n\\n\")\n",
    "    #print(f\"Date ranges: {date_ranges}\\n\\n\")\n",
    "    print(f\"- {len(cases)} case(s)\\n\\n\")\n",
    "    "
   ]
  },
  {
   "cell_type": "code",
   "execution_count": 9,
   "metadata": {},
   "outputs": [],
   "source": [
    "# file namer\n",
    "dirout = '/glade/scratch/abanihi/calcs'\n",
    "def zarr_file(exp, cmp, stream, var, write=False):\n",
    "    path = f'{dirout}/CESM-LE-{exp}-{cmp}-{stream}-{var}.zarr'    \n",
    "    if write and os.path.exists(path):\n",
    "        shutil.rmtree(path)\n",
    "    print(path)\n",
    "    return path     "
   ]
  },
  {
   "cell_type": "code",
   "execution_count": 10,
   "metadata": {},
   "outputs": [],
   "source": [
    "def read_data(cat, xr_open):\n",
    "    dd = cat.to_xarray(**xr_open)\n",
    "    _, ds = dd.popitem()\n",
    "    return ds.chunk({'member_id': 4})\n",
    "\n",
    "def print_ds_info(ds, var):\n",
    "    dt = ds[var].dtype\n",
    "    itemsize = dt.itemsize\n",
    "    chunk_size = ds[var].data.chunksize\n",
    "    size = format_bytes(ds.nbytes)\n",
    "    _bytes = reduce(mul, chunk_size) * itemsize\n",
    "    chunk_size_bytes = format_bytes(_bytes)\n",
    "    \n",
    "    print(f\"Variable name: {var}\")\n",
    "    print(f\"Chunk shape: {chunk_size}\")\n",
    "    print(f\"Dataset shape: {ds[var].shape}\")\n",
    "    print(f\"Chunk size: {chunk_size_bytes}\")\n",
    "    print(f\"Dataset size: {size}\")"
   ]
  },
  {
   "cell_type": "code",
   "execution_count": 11,
   "metadata": {},
   "outputs": [
    {
     "name": "stdout",
     "output_type": "stream",
     "text": [
      "There are:\n",
      "\n",
      "\t1) 6 experiments: \n",
      "\n",
      "\t\t['CTRL' 'CTRL-AMIP' 'CTRL-SLAB-OCN' '20C' '20C-OIC' 'RCP85']\n",
      "\n",
      "\t2) 93 cases: \n",
      "\n",
      "\t\t['b.e11.B1850C5CN.f09_g16.005' 'f.e11.F1850C5CN.f09_f09.001'\n",
      " 'e.e11.E1850C5CN.f09_g16.001' 'b.e11.B20TRC5CNBDRD.f09_g16.105'\n",
      " 'b.e11.B20TRC5CNBDRD.f09_g16.104'] etc...\n",
      "\n",
      "\t3) 5 components: \n",
      "\n",
      "\t\t['atm' 'ocn' 'lnd' 'rof' 'ice']\n",
      "\n",
      "\t4) 10 streams: \n",
      "\n",
      "\t\t['cam.h1' 'cam.h0' 'pop.h.nday1' 'pop.h' 'clm2.h1' 'clm2.h0' 'rtm.h1'\n",
      " 'rtm.h0' 'cice.h1' 'cice.h']\n",
      "\n",
      "\t5) 985 variables: \n",
      "\n",
      "\t\t['T200' 'Q200' 'FLNSC' 'Q500' 'PRECL' 'QBOT' 'TREFHTMN' 'FSNTOA' 'TAUX'\n",
      " 'TAUY'] etc...\n",
      "\n"
     ]
    }
   ],
   "source": [
    "collection_summary(col)"
   ]
  },
  {
   "cell_type": "markdown",
   "metadata": {},
   "source": [
    "## Load variable/chunking specs"
   ]
  },
  {
   "cell_type": "code",
   "execution_count": 12,
   "metadata": {},
   "outputs": [
    {
     "data": {
      "text/plain": [
       "{'ocn': {'pop.h': {'variable_category': {'2D': {'variables': ['SST', 'SSH'],\n",
       "     'chunks': {'time': 120, 'nlat': 192, 'nlon': 160}},\n",
       "    '3D': {'variables': ['SALT'],\n",
       "     'chunks': {'time': 120, 'z_t': 6, 'nlat': 192, 'nlon': 160}}},\n",
       "   'frequency': 'monthly'}},\n",
       " 'ice': {'cice.h': {'variable_category': {'2D': {'variables': ['aice_nh',\n",
       "      'aice_sh',\n",
       "      'hi_nh',\n",
       "      'hi_sh'],\n",
       "     'chunks': {'time': 240}}},\n",
       "   'frequency': 'monthly'}},\n",
       " 'atm': {'cam.h0': {'variable_category': {'2D': {'variables': ['T',\n",
       "      'U',\n",
       "      'v',\n",
       "      'Q',\n",
       "      'Z3'],\n",
       "     'chunks': {'time': 120, 'lat': 96, 'lon': 72}},\n",
       "    '3D': {'variables': ['FLNS',\n",
       "      'FLNSC',\n",
       "      'FLUT',\n",
       "      'FSNS',\n",
       "      'FSNSC',\n",
       "      'FSNTOA',\n",
       "      'ICEFRAC',\n",
       "      'LHFLX',\n",
       "      'PRECC',\n",
       "      'PRECL',\n",
       "      'PRECSC',\n",
       "      'PRECSL',\n",
       "      'PSL',\n",
       "      'SHFLX',\n",
       "      'TMQ',\n",
       "      'TREFHT',\n",
       "      'TREFHTMN',\n",
       "      'TREFHTMX',\n",
       "      'TS'],\n",
       "     'chunks': {'time': 120}}},\n",
       "   'frequency': 'monthly'}},\n",
       " 'lnd': {'clm2.h0': {'variable_category': {'3D_2D': {'variables': ['FSNO',\n",
       "      'H2OSNO',\n",
       "      'QRUNOFF',\n",
       "      'RAIN',\n",
       "      'SNOW',\n",
       "      'SOILWATER_10CM',\n",
       "      'SOILLIQ'],\n",
       "     'chunks': {'time': 480,\n",
       "      'lat': 96,\n",
       "      'lon': 144,\n",
       "      'levgrnd': 3,\n",
       "      'levlak': 2}}},\n",
       "   'frequency': 'monthly'}}}"
      ]
     },
     "execution_count": 12,
     "metadata": {},
     "output_type": "execute_result"
    }
   ],
   "source": [
    "with open(\"../variables_chunking_spec.yaml\") as f:\n",
    "    specs = yaml.safe_load(f)\n",
    "specs"
   ]
  },
  {
   "cell_type": "markdown",
   "metadata": {},
   "source": [
    "## Process `land` component (realm)"
   ]
  },
  {
   "cell_type": "code",
   "execution_count": 13,
   "metadata": {},
   "outputs": [],
   "source": [
    "component_list = ['lnd']\n",
    "\n",
    "experiment_list = ['20C', 'RCP85']"
   ]
  },
  {
   "cell_type": "code",
   "execution_count": 14,
   "metadata": {},
   "outputs": [
    {
     "name": "stdout",
     "output_type": "stream",
     "text": [
      "****************************************************************************************************\n",
      "This query: {'experiment': '20C', 'component': 'lnd', 'stream': 'clm2.h0', 'variable': 'FSNO'} returned:\n",
      "\n",
      "- 1 unique variable(s)\n",
      "\n",
      "\n",
      "- Number of files: 40\n",
      "\n",
      "\n",
      "- 40 member(s): [1, 2, 3, 4, 5, 6, 7, 8, 9, 10, 11, 12, 13, 14, 15, 16, 17, 18, 19, 20, 21, 22, 23, 24, 25, 26, 27, 28, 29, 30, 31, 32, 33, 34, 35, 101, 102, 103, 104, 105]\n",
      "\n",
      "\n",
      "- 40 case(s)\n",
      "\n",
      "\n"
     ]
    },
    {
     "data": {
      "application/vnd.jupyter.widget-view+json": {
       "model_id": "98fefbc29f834d16b1e582dca9479e0d",
       "version_major": 2,
       "version_minor": 0
      },
      "text/plain": [
       "HBox(children=(IntProgress(value=0, description='dataset', max=1, style=ProgressStyle(description_width='initi…"
      ]
     },
     "metadata": {},
     "output_type": "display_data"
    },
    {
     "data": {
      "application/vnd.jupyter.widget-view+json": {
       "model_id": "8d990ec926cf41619b46a7f812f397ea",
       "version_major": 2,
       "version_minor": 0
      },
      "text/plain": [
       "HBox(children=(IntProgress(value=0, description='member', max=40, style=ProgressStyle(description_width='initi…"
      ]
     },
     "metadata": {},
     "output_type": "display_data"
    },
    {
     "name": "stdout",
     "output_type": "stream",
     "text": [
      "\n",
      "+++++++++++++++++++++++++++++++++++\n",
      "Variable name: FSNO\n",
      "Chunk shape: (4, 480, 96, 144)\n",
      "Dataset shape: (40, 1872, 192, 288)\n",
      "Chunk size: 106.17 MB\n",
      "Dataset size: 17.43 GB\n",
      "+++++++++++++++++++++++++++++++++++\n",
      "<xarray.Dataset>\n",
      "Dimensions:       (hist_interval: 2, lat: 192, levgrnd: 15, levlak: 10, lon: 288, member_id: 40, time: 1872)\n",
      "Coordinates:\n",
      "  * time          (time) object 1850-02-01 00:00:00 ... 2006-01-01 00:00:00\n",
      "  * lat           (lat) float32 -90.0 -89.057594 -88.11518 ... 89.057594 90.0\n",
      "  * levgrnd       (levgrnd) float32 0.007100635 0.027925 ... 21.32647 35.17762\n",
      "  * levlak        (levlak) float32 0.05 0.6 2.1 4.6 ... 18.6 25.6 34.325 44.775\n",
      "  * lon           (lon) float32 0.0 1.25 2.5 3.75 ... 355.0 356.25 357.5 358.75\n",
      "  * member_id     (member_id) int64 1 2 3 4 5 6 7 ... 34 35 101 102 103 104 105\n",
      "Dimensions without coordinates: hist_interval\n",
      "Data variables:\n",
      "    BSW           (member_id, levgrnd, lat, lon) float32 dask.array<shape=(40, 15, 192, 288), chunksize=(4, 3, 96, 144)>\n",
      "    DZSOI         (member_id, levgrnd, lat, lon) float32 dask.array<shape=(40, 15, 192, 288), chunksize=(4, 3, 96, 144)>\n",
      "    FSNO          (member_id, time, lat, lon) float32 dask.array<shape=(40, 1872, 192, 288), chunksize=(4, 480, 96, 144)>\n",
      "    HKSAT         (member_id, levgrnd, lat, lon) float32 dask.array<shape=(40, 15, 192, 288), chunksize=(4, 3, 96, 144)>\n",
      "    SUCSAT        (member_id, levgrnd, lat, lon) float32 dask.array<shape=(40, 15, 192, 288), chunksize=(4, 3, 96, 144)>\n",
      "    WATSAT        (member_id, levgrnd, lat, lon) float32 dask.array<shape=(40, 15, 192, 288), chunksize=(4, 3, 96, 144)>\n",
      "    ZSOI          (member_id, levgrnd, lat, lon) float32 dask.array<shape=(40, 15, 192, 288), chunksize=(4, 3, 96, 144)>\n",
      "    area          (member_id, lat, lon) float32 dask.array<shape=(40, 192, 288), chunksize=(4, 96, 144)>\n",
      "    date_written  (member_id, time) object dask.array<shape=(40, 1872), chunksize=(4, 480)>\n",
      "    landfrac      (member_id, lat, lon) float32 dask.array<shape=(40, 192, 288), chunksize=(4, 96, 144)>\n",
      "    landmask      (member_id, lat, lon) float64 dask.array<shape=(40, 192, 288), chunksize=(4, 96, 144)>\n",
      "    mcdate        (member_id, time) float64 dask.array<shape=(40, 1872), chunksize=(4, 480)>\n",
      "    mcsec         (member_id, time) float64 dask.array<shape=(40, 1872), chunksize=(4, 480)>\n",
      "    mdcur         (member_id, time) float64 dask.array<shape=(40, 1872), chunksize=(4, 480)>\n",
      "    mscur         (member_id, time) float64 dask.array<shape=(40, 1872), chunksize=(4, 480)>\n",
      "    nstep         (member_id, time) float64 dask.array<shape=(40, 1872), chunksize=(4, 480)>\n",
      "    pftmask       (member_id, lat, lon) float64 dask.array<shape=(40, 192, 288), chunksize=(4, 96, 144)>\n",
      "    time_bounds   (member_id, time, hist_interval) object dask.array<shape=(40, 1872, 2), chunksize=(4, 480, 2)>\n",
      "    time_written  (member_id, time) object dask.array<shape=(40, 1872), chunksize=(4, 480)>\n",
      "    topo          (member_id, lat, lon) float32 dask.array<shape=(40, 192, 288), chunksize=(4, 96, 144)>\n",
      "Attributes:\n",
      "    history:                              2019-06-25 17:34:51.994187 xarray.o...\n",
      "    username:                             mudryk\n",
      "    Surface_dataset:                      surfdata_0.9x1.25_simyr1850_c110921.nc\n",
      "    revision_id:                          $Id: histFileMod.F90 40539 2012-09-...\n",
      "    NCO:                                  4.3.4\n",
      "    version:                              cesm1_1_1_alpha01g\n",
      "    nco_openmp_thread_number:             1\n",
      "    case_title:                           UNSET\n",
      "    hostname:                             tcs\n",
      "    source:                               Community Land Model CLM4.0\n",
      "    title:                                CLM History file information\n",
      "    comment:                              NOTE: None of the variables are wei...\n",
      "    PFT_physiological_constants_dataset:  pft-physiology.c110425.nc\n",
      "    Initial_conditions_dataset:           b.e11.B20TRC5CNBDRD.f09_g16.001.clm...\n",
      "    Conventions:                          CF-1.0\n",
      "****************************************************************************************************\n",
      "****************************************************************************************************\n",
      "This query: {'experiment': '20C', 'component': 'lnd', 'stream': 'clm2.h0', 'variable': 'H2OSNO'} returned:\n",
      "\n",
      "- 1 unique variable(s)\n",
      "\n",
      "\n",
      "- Number of files: 40\n",
      "\n",
      "\n",
      "- 40 member(s): [1, 2, 3, 4, 5, 6, 7, 8, 9, 10, 11, 12, 13, 14, 15, 16, 17, 18, 19, 20, 21, 22, 23, 24, 25, 26, 27, 28, 29, 30, 31, 32, 33, 34, 35, 101, 102, 103, 104, 105]\n",
      "\n",
      "\n",
      "- 40 case(s)\n",
      "\n",
      "\n"
     ]
    },
    {
     "data": {
      "application/vnd.jupyter.widget-view+json": {
       "model_id": "1e604feda49f469a83e418d60fef2943",
       "version_major": 2,
       "version_minor": 0
      },
      "text/plain": [
       "HBox(children=(IntProgress(value=0, description='dataset', max=1, style=ProgressStyle(description_width='initi…"
      ]
     },
     "metadata": {},
     "output_type": "display_data"
    },
    {
     "data": {
      "application/vnd.jupyter.widget-view+json": {
       "model_id": "b3b84bc52f0a443781e6b6c470bbf737",
       "version_major": 2,
       "version_minor": 0
      },
      "text/plain": [
       "HBox(children=(IntProgress(value=0, description='member', max=40, style=ProgressStyle(description_width='initi…"
      ]
     },
     "metadata": {},
     "output_type": "display_data"
    },
    {
     "name": "stdout",
     "output_type": "stream",
     "text": [
      "\n",
      "+++++++++++++++++++++++++++++++++++\n",
      "Variable name: H2OSNO\n",
      "Chunk shape: (4, 480, 96, 144)\n",
      "Dataset shape: (40, 1872, 192, 288)\n",
      "Chunk size: 106.17 MB\n",
      "Dataset size: 17.43 GB\n",
      "+++++++++++++++++++++++++++++++++++\n",
      "<xarray.Dataset>\n",
      "Dimensions:       (hist_interval: 2, lat: 192, levgrnd: 15, levlak: 10, lon: 288, member_id: 40, time: 1872)\n",
      "Coordinates:\n",
      "  * time          (time) object 1850-02-01 00:00:00 ... 2006-01-01 00:00:00\n",
      "  * lat           (lat) float32 -90.0 -89.057594 -88.11518 ... 89.057594 90.0\n",
      "  * levgrnd       (levgrnd) float32 0.007100635 0.027925 ... 21.32647 35.17762\n",
      "  * levlak        (levlak) float32 0.05 0.6 2.1 4.6 ... 18.6 25.6 34.325 44.775\n",
      "  * lon           (lon) float32 0.0 1.25 2.5 3.75 ... 355.0 356.25 357.5 358.75\n",
      "  * member_id     (member_id) int64 1 2 3 4 5 6 7 ... 34 35 101 102 103 104 105\n",
      "Dimensions without coordinates: hist_interval\n",
      "Data variables:\n",
      "    BSW           (member_id, levgrnd, lat, lon) float32 dask.array<shape=(40, 15, 192, 288), chunksize=(4, 3, 96, 144)>\n",
      "    DZSOI         (member_id, levgrnd, lat, lon) float32 dask.array<shape=(40, 15, 192, 288), chunksize=(4, 3, 96, 144)>\n",
      "    H2OSNO        (member_id, time, lat, lon) float32 dask.array<shape=(40, 1872, 192, 288), chunksize=(4, 480, 96, 144)>\n",
      "    HKSAT         (member_id, levgrnd, lat, lon) float32 dask.array<shape=(40, 15, 192, 288), chunksize=(4, 3, 96, 144)>\n",
      "    SUCSAT        (member_id, levgrnd, lat, lon) float32 dask.array<shape=(40, 15, 192, 288), chunksize=(4, 3, 96, 144)>\n",
      "    WATSAT        (member_id, levgrnd, lat, lon) float32 dask.array<shape=(40, 15, 192, 288), chunksize=(4, 3, 96, 144)>\n",
      "    ZSOI          (member_id, levgrnd, lat, lon) float32 dask.array<shape=(40, 15, 192, 288), chunksize=(4, 3, 96, 144)>\n",
      "    area          (member_id, lat, lon) float32 dask.array<shape=(40, 192, 288), chunksize=(4, 96, 144)>\n",
      "    date_written  (member_id, time) object dask.array<shape=(40, 1872), chunksize=(4, 480)>\n",
      "    landfrac      (member_id, lat, lon) float32 dask.array<shape=(40, 192, 288), chunksize=(4, 96, 144)>\n",
      "    landmask      (member_id, lat, lon) float64 dask.array<shape=(40, 192, 288), chunksize=(4, 96, 144)>\n",
      "    mcdate        (member_id, time) float64 dask.array<shape=(40, 1872), chunksize=(4, 480)>\n",
      "    mcsec         (member_id, time) float64 dask.array<shape=(40, 1872), chunksize=(4, 480)>\n",
      "    mdcur         (member_id, time) float64 dask.array<shape=(40, 1872), chunksize=(4, 480)>\n",
      "    mscur         (member_id, time) float64 dask.array<shape=(40, 1872), chunksize=(4, 480)>\n",
      "    nstep         (member_id, time) float64 dask.array<shape=(40, 1872), chunksize=(4, 480)>\n",
      "    pftmask       (member_id, lat, lon) float64 dask.array<shape=(40, 192, 288), chunksize=(4, 96, 144)>\n",
      "    time_bounds   (member_id, time, hist_interval) object dask.array<shape=(40, 1872, 2), chunksize=(4, 480, 2)>\n",
      "    time_written  (member_id, time) object dask.array<shape=(40, 1872), chunksize=(4, 480)>\n",
      "    topo          (member_id, lat, lon) float32 dask.array<shape=(40, 192, 288), chunksize=(4, 96, 144)>\n",
      "Attributes:\n",
      "    history:                              2019-06-25 17:35:34.538676 xarray.o...\n",
      "    username:                             mudryk\n",
      "    Surface_dataset:                      surfdata_0.9x1.25_simyr1850_c110921.nc\n",
      "    revision_id:                          $Id: histFileMod.F90 40539 2012-09-...\n",
      "    NCO:                                  4.3.4\n",
      "    version:                              cesm1_1_1_alpha01g\n",
      "    nco_openmp_thread_number:             1\n",
      "    case_title:                           UNSET\n",
      "    hostname:                             tcs\n",
      "    source:                               Community Land Model CLM4.0\n",
      "    title:                                CLM History file information\n",
      "    comment:                              NOTE: None of the variables are wei...\n",
      "    PFT_physiological_constants_dataset:  pft-physiology.c110425.nc\n",
      "    Initial_conditions_dataset:           b.e11.B20TRC5CNBDRD.f09_g16.001.clm...\n",
      "    Conventions:                          CF-1.0\n",
      "****************************************************************************************************\n",
      "****************************************************************************************************\n",
      "This query: {'experiment': '20C', 'component': 'lnd', 'stream': 'clm2.h0', 'variable': 'QRUNOFF'} returned:\n",
      "\n",
      "- 1 unique variable(s)\n",
      "\n",
      "\n",
      "- Number of files: 40\n",
      "\n",
      "\n",
      "- 40 member(s): [1, 2, 3, 4, 5, 6, 7, 8, 9, 10, 11, 12, 13, 14, 15, 16, 17, 18, 19, 20, 21, 22, 23, 24, 25, 26, 27, 28, 29, 30, 31, 32, 33, 34, 35, 101, 102, 103, 104, 105]\n",
      "\n",
      "\n",
      "- 40 case(s)\n",
      "\n",
      "\n"
     ]
    },
    {
     "data": {
      "application/vnd.jupyter.widget-view+json": {
       "model_id": "4612baaaa7844a479bf8d0ffd0008424",
       "version_major": 2,
       "version_minor": 0
      },
      "text/plain": [
       "HBox(children=(IntProgress(value=0, description='dataset', max=1, style=ProgressStyle(description_width='initi…"
      ]
     },
     "metadata": {},
     "output_type": "display_data"
    },
    {
     "data": {
      "application/vnd.jupyter.widget-view+json": {
       "model_id": "f5a784db95074ddeb7041198985db062",
       "version_major": 2,
       "version_minor": 0
      },
      "text/plain": [
       "HBox(children=(IntProgress(value=0, description='member', max=40, style=ProgressStyle(description_width='initi…"
      ]
     },
     "metadata": {},
     "output_type": "display_data"
    },
    {
     "name": "stdout",
     "output_type": "stream",
     "text": [
      "\n",
      "+++++++++++++++++++++++++++++++++++\n",
      "Variable name: QRUNOFF\n",
      "Chunk shape: (4, 480, 96, 144)\n",
      "Dataset shape: (40, 1872, 192, 288)\n",
      "Chunk size: 106.17 MB\n",
      "Dataset size: 17.43 GB\n",
      "+++++++++++++++++++++++++++++++++++\n",
      "<xarray.Dataset>\n",
      "Dimensions:       (hist_interval: 2, lat: 192, levgrnd: 15, levlak: 10, lon: 288, member_id: 40, time: 1872)\n",
      "Coordinates:\n",
      "  * time          (time) object 1850-02-01 00:00:00 ... 2006-01-01 00:00:00\n",
      "  * lat           (lat) float32 -90.0 -89.057594 -88.11518 ... 89.057594 90.0\n",
      "  * levgrnd       (levgrnd) float32 0.007100635 0.027925 ... 21.32647 35.17762\n",
      "  * levlak        (levlak) float32 0.05 0.6 2.1 4.6 ... 18.6 25.6 34.325 44.775\n",
      "  * lon           (lon) float32 0.0 1.25 2.5 3.75 ... 355.0 356.25 357.5 358.75\n",
      "  * member_id     (member_id) int64 1 2 3 4 5 6 7 ... 34 35 101 102 103 104 105\n",
      "Dimensions without coordinates: hist_interval\n",
      "Data variables:\n",
      "    BSW           (member_id, levgrnd, lat, lon) float32 dask.array<shape=(40, 15, 192, 288), chunksize=(4, 3, 96, 144)>\n",
      "    DZSOI         (member_id, levgrnd, lat, lon) float32 dask.array<shape=(40, 15, 192, 288), chunksize=(4, 3, 96, 144)>\n",
      "    HKSAT         (member_id, levgrnd, lat, lon) float32 dask.array<shape=(40, 15, 192, 288), chunksize=(4, 3, 96, 144)>\n",
      "    QRUNOFF       (member_id, time, lat, lon) float32 dask.array<shape=(40, 1872, 192, 288), chunksize=(4, 480, 96, 144)>\n",
      "    SUCSAT        (member_id, levgrnd, lat, lon) float32 dask.array<shape=(40, 15, 192, 288), chunksize=(4, 3, 96, 144)>\n",
      "    WATSAT        (member_id, levgrnd, lat, lon) float32 dask.array<shape=(40, 15, 192, 288), chunksize=(4, 3, 96, 144)>\n",
      "    ZSOI          (member_id, levgrnd, lat, lon) float32 dask.array<shape=(40, 15, 192, 288), chunksize=(4, 3, 96, 144)>\n",
      "    area          (member_id, lat, lon) float32 dask.array<shape=(40, 192, 288), chunksize=(4, 96, 144)>\n",
      "    date_written  (member_id, time) object dask.array<shape=(40, 1872), chunksize=(4, 480)>\n",
      "    landfrac      (member_id, lat, lon) float32 dask.array<shape=(40, 192, 288), chunksize=(4, 96, 144)>\n",
      "    landmask      (member_id, lat, lon) float64 dask.array<shape=(40, 192, 288), chunksize=(4, 96, 144)>\n",
      "    mcdate        (member_id, time) float64 dask.array<shape=(40, 1872), chunksize=(4, 480)>\n",
      "    mcsec         (member_id, time) float64 dask.array<shape=(40, 1872), chunksize=(4, 480)>\n",
      "    mdcur         (member_id, time) float64 dask.array<shape=(40, 1872), chunksize=(4, 480)>\n",
      "    mscur         (member_id, time) float64 dask.array<shape=(40, 1872), chunksize=(4, 480)>\n",
      "    nstep         (member_id, time) float64 dask.array<shape=(40, 1872), chunksize=(4, 480)>\n",
      "    pftmask       (member_id, lat, lon) float64 dask.array<shape=(40, 192, 288), chunksize=(4, 96, 144)>\n",
      "    time_bounds   (member_id, time, hist_interval) object dask.array<shape=(40, 1872, 2), chunksize=(4, 480, 2)>\n",
      "    time_written  (member_id, time) object dask.array<shape=(40, 1872), chunksize=(4, 480)>\n",
      "    topo          (member_id, lat, lon) float32 dask.array<shape=(40, 192, 288), chunksize=(4, 96, 144)>\n",
      "Attributes:\n",
      "    history:                              2019-06-25 17:35:45.315979 xarray.o...\n",
      "    username:                             mudryk\n",
      "    Surface_dataset:                      surfdata_0.9x1.25_simyr1850_c110921.nc\n",
      "    revision_id:                          $Id: histFileMod.F90 40539 2012-09-...\n",
      "    NCO:                                  4.3.4\n",
      "    version:                              cesm1_1_1_alpha01g\n",
      "    nco_openmp_thread_number:             1\n",
      "    case_title:                           UNSET\n",
      "    hostname:                             tcs\n",
      "    source:                               Community Land Model CLM4.0\n",
      "    title:                                CLM History file information\n",
      "    comment:                              NOTE: None of the variables are wei...\n",
      "    PFT_physiological_constants_dataset:  pft-physiology.c110425.nc\n",
      "    Initial_conditions_dataset:           b.e11.B20TRC5CNBDRD.f09_g16.001.clm...\n",
      "    Conventions:                          CF-1.0\n",
      "****************************************************************************************************\n",
      "****************************************************************************************************\n",
      "This query: {'experiment': '20C', 'component': 'lnd', 'stream': 'clm2.h0', 'variable': 'RAIN'} returned:\n",
      "\n",
      "- 1 unique variable(s)\n",
      "\n",
      "\n",
      "- Number of files: 40\n",
      "\n",
      "\n",
      "- 40 member(s): [1, 2, 3, 4, 5, 6, 7, 8, 9, 10, 11, 12, 13, 14, 15, 16, 17, 18, 19, 20, 21, 22, 23, 24, 25, 26, 27, 28, 29, 30, 31, 32, 33, 34, 35, 101, 102, 103, 104, 105]\n",
      "\n",
      "\n",
      "- 40 case(s)\n",
      "\n",
      "\n"
     ]
    },
    {
     "data": {
      "application/vnd.jupyter.widget-view+json": {
       "model_id": "3f05c2822ce144a398f992d57aa44150",
       "version_major": 2,
       "version_minor": 0
      },
      "text/plain": [
       "HBox(children=(IntProgress(value=0, description='dataset', max=1, style=ProgressStyle(description_width='initi…"
      ]
     },
     "metadata": {},
     "output_type": "display_data"
    },
    {
     "data": {
      "application/vnd.jupyter.widget-view+json": {
       "model_id": "cf0c8da5e30644d1b53d9e28beccc7d8",
       "version_major": 2,
       "version_minor": 0
      },
      "text/plain": [
       "HBox(children=(IntProgress(value=0, description='member', max=40, style=ProgressStyle(description_width='initi…"
      ]
     },
     "metadata": {},
     "output_type": "display_data"
    },
    {
     "name": "stdout",
     "output_type": "stream",
     "text": [
      "\n",
      "+++++++++++++++++++++++++++++++++++\n",
      "Variable name: RAIN\n",
      "Chunk shape: (4, 480, 96, 144)\n",
      "Dataset shape: (40, 1872, 192, 288)\n",
      "Chunk size: 106.17 MB\n",
      "Dataset size: 17.43 GB\n",
      "+++++++++++++++++++++++++++++++++++\n",
      "<xarray.Dataset>\n",
      "Dimensions:       (hist_interval: 2, lat: 192, levgrnd: 15, levlak: 10, lon: 288, member_id: 40, time: 1872)\n",
      "Coordinates:\n",
      "  * time          (time) object 1850-02-01 00:00:00 ... 2006-01-01 00:00:00\n",
      "  * lat           (lat) float32 -90.0 -89.057594 -88.11518 ... 89.057594 90.0\n",
      "  * levgrnd       (levgrnd) float32 0.007100635 0.027925 ... 21.32647 35.17762\n",
      "  * levlak        (levlak) float32 0.05 0.6 2.1 4.6 ... 18.6 25.6 34.325 44.775\n",
      "  * lon           (lon) float32 0.0 1.25 2.5 3.75 ... 355.0 356.25 357.5 358.75\n",
      "  * member_id     (member_id) int64 1 2 3 4 5 6 7 ... 34 35 101 102 103 104 105\n",
      "Dimensions without coordinates: hist_interval\n",
      "Data variables:\n",
      "    BSW           (member_id, levgrnd, lat, lon) float32 dask.array<shape=(40, 15, 192, 288), chunksize=(4, 3, 96, 144)>\n",
      "    DZSOI         (member_id, levgrnd, lat, lon) float32 dask.array<shape=(40, 15, 192, 288), chunksize=(4, 3, 96, 144)>\n",
      "    HKSAT         (member_id, levgrnd, lat, lon) float32 dask.array<shape=(40, 15, 192, 288), chunksize=(4, 3, 96, 144)>\n",
      "    RAIN          (member_id, time, lat, lon) float32 dask.array<shape=(40, 1872, 192, 288), chunksize=(4, 480, 96, 144)>\n",
      "    SUCSAT        (member_id, levgrnd, lat, lon) float32 dask.array<shape=(40, 15, 192, 288), chunksize=(4, 3, 96, 144)>\n",
      "    WATSAT        (member_id, levgrnd, lat, lon) float32 dask.array<shape=(40, 15, 192, 288), chunksize=(4, 3, 96, 144)>\n",
      "    ZSOI          (member_id, levgrnd, lat, lon) float32 dask.array<shape=(40, 15, 192, 288), chunksize=(4, 3, 96, 144)>\n",
      "    area          (member_id, lat, lon) float32 dask.array<shape=(40, 192, 288), chunksize=(4, 96, 144)>\n",
      "    date_written  (member_id, time) object dask.array<shape=(40, 1872), chunksize=(4, 480)>\n",
      "    landfrac      (member_id, lat, lon) float32 dask.array<shape=(40, 192, 288), chunksize=(4, 96, 144)>\n",
      "    landmask      (member_id, lat, lon) float64 dask.array<shape=(40, 192, 288), chunksize=(4, 96, 144)>\n",
      "    mcdate        (member_id, time) float64 dask.array<shape=(40, 1872), chunksize=(4, 480)>\n",
      "    mcsec         (member_id, time) float64 dask.array<shape=(40, 1872), chunksize=(4, 480)>\n",
      "    mdcur         (member_id, time) float64 dask.array<shape=(40, 1872), chunksize=(4, 480)>\n",
      "    mscur         (member_id, time) float64 dask.array<shape=(40, 1872), chunksize=(4, 480)>\n",
      "    nstep         (member_id, time) float64 dask.array<shape=(40, 1872), chunksize=(4, 480)>\n",
      "    pftmask       (member_id, lat, lon) float64 dask.array<shape=(40, 192, 288), chunksize=(4, 96, 144)>\n",
      "    time_bounds   (member_id, time, hist_interval) object dask.array<shape=(40, 1872, 2), chunksize=(4, 480, 2)>\n",
      "    time_written  (member_id, time) object dask.array<shape=(40, 1872), chunksize=(4, 480)>\n",
      "    topo          (member_id, lat, lon) float32 dask.array<shape=(40, 192, 288), chunksize=(4, 96, 144)>\n",
      "Attributes:\n",
      "    history:                              2019-06-25 17:35:55.909306 xarray.o...\n",
      "    username:                             mudryk\n",
      "    Surface_dataset:                      surfdata_0.9x1.25_simyr1850_c110921.nc\n",
      "    revision_id:                          $Id: histFileMod.F90 40539 2012-09-...\n",
      "    NCO:                                  4.3.4\n",
      "    version:                              cesm1_1_1_alpha01g\n",
      "    nco_openmp_thread_number:             1\n",
      "    case_title:                           UNSET\n",
      "    hostname:                             tcs\n",
      "    source:                               Community Land Model CLM4.0\n",
      "    title:                                CLM History file information\n",
      "    comment:                              NOTE: None of the variables are wei...\n",
      "    PFT_physiological_constants_dataset:  pft-physiology.c110425.nc\n",
      "    Initial_conditions_dataset:           b.e11.B20TRC5CNBDRD.f09_g16.001.clm...\n",
      "    Conventions:                          CF-1.0\n",
      "****************************************************************************************************\n",
      "****************************************************************************************************\n",
      "This query: {'experiment': '20C', 'component': 'lnd', 'stream': 'clm2.h0', 'variable': 'SNOW'} returned:\n",
      "\n",
      "- 1 unique variable(s)\n",
      "\n",
      "\n",
      "- Number of files: 40\n",
      "\n",
      "\n",
      "- 40 member(s): [1, 2, 3, 4, 5, 6, 7, 8, 9, 10, 11, 12, 13, 14, 15, 16, 17, 18, 19, 20, 21, 22, 23, 24, 25, 26, 27, 28, 29, 30, 31, 32, 33, 34, 35, 101, 102, 103, 104, 105]\n",
      "\n",
      "\n",
      "- 40 case(s)\n",
      "\n",
      "\n"
     ]
    },
    {
     "data": {
      "application/vnd.jupyter.widget-view+json": {
       "model_id": "6fc6c6817bac4a15976059c005ede9a4",
       "version_major": 2,
       "version_minor": 0
      },
      "text/plain": [
       "HBox(children=(IntProgress(value=0, description='dataset', max=1, style=ProgressStyle(description_width='initi…"
      ]
     },
     "metadata": {},
     "output_type": "display_data"
    },
    {
     "data": {
      "application/vnd.jupyter.widget-view+json": {
       "model_id": "df6fbd446e0844de858859498e1a5597",
       "version_major": 2,
       "version_minor": 0
      },
      "text/plain": [
       "HBox(children=(IntProgress(value=0, description='member', max=40, style=ProgressStyle(description_width='initi…"
      ]
     },
     "metadata": {},
     "output_type": "display_data"
    },
    {
     "name": "stdout",
     "output_type": "stream",
     "text": [
      "\n",
      "+++++++++++++++++++++++++++++++++++\n",
      "Variable name: SNOW\n",
      "Chunk shape: (4, 480, 96, 144)\n",
      "Dataset shape: (40, 1872, 192, 288)\n",
      "Chunk size: 106.17 MB\n",
      "Dataset size: 17.43 GB\n",
      "+++++++++++++++++++++++++++++++++++\n",
      "<xarray.Dataset>\n",
      "Dimensions:       (hist_interval: 2, lat: 192, levgrnd: 15, levlak: 10, lon: 288, member_id: 40, time: 1872)\n",
      "Coordinates:\n",
      "  * time          (time) object 1850-02-01 00:00:00 ... 2006-01-01 00:00:00\n",
      "  * lat           (lat) float32 -90.0 -89.057594 -88.11518 ... 89.057594 90.0\n",
      "  * levgrnd       (levgrnd) float32 0.007100635 0.027925 ... 21.32647 35.17762\n",
      "  * levlak        (levlak) float32 0.05 0.6 2.1 4.6 ... 18.6 25.6 34.325 44.775\n",
      "  * lon           (lon) float32 0.0 1.25 2.5 3.75 ... 355.0 356.25 357.5 358.75\n",
      "  * member_id     (member_id) int64 1 2 3 4 5 6 7 ... 34 35 101 102 103 104 105\n",
      "Dimensions without coordinates: hist_interval\n",
      "Data variables:\n",
      "    BSW           (member_id, levgrnd, lat, lon) float32 dask.array<shape=(40, 15, 192, 288), chunksize=(4, 3, 96, 144)>\n",
      "    DZSOI         (member_id, levgrnd, lat, lon) float32 dask.array<shape=(40, 15, 192, 288), chunksize=(4, 3, 96, 144)>\n",
      "    HKSAT         (member_id, levgrnd, lat, lon) float32 dask.array<shape=(40, 15, 192, 288), chunksize=(4, 3, 96, 144)>\n",
      "    SNOW          (member_id, time, lat, lon) float32 dask.array<shape=(40, 1872, 192, 288), chunksize=(4, 480, 96, 144)>\n",
      "    SUCSAT        (member_id, levgrnd, lat, lon) float32 dask.array<shape=(40, 15, 192, 288), chunksize=(4, 3, 96, 144)>\n",
      "    WATSAT        (member_id, levgrnd, lat, lon) float32 dask.array<shape=(40, 15, 192, 288), chunksize=(4, 3, 96, 144)>\n",
      "    ZSOI          (member_id, levgrnd, lat, lon) float32 dask.array<shape=(40, 15, 192, 288), chunksize=(4, 3, 96, 144)>\n",
      "    area          (member_id, lat, lon) float32 dask.array<shape=(40, 192, 288), chunksize=(4, 96, 144)>\n",
      "    date_written  (member_id, time) object dask.array<shape=(40, 1872), chunksize=(4, 480)>\n",
      "    landfrac      (member_id, lat, lon) float32 dask.array<shape=(40, 192, 288), chunksize=(4, 96, 144)>\n",
      "    landmask      (member_id, lat, lon) float64 dask.array<shape=(40, 192, 288), chunksize=(4, 96, 144)>\n",
      "    mcdate        (member_id, time) float64 dask.array<shape=(40, 1872), chunksize=(4, 480)>\n",
      "    mcsec         (member_id, time) float64 dask.array<shape=(40, 1872), chunksize=(4, 480)>\n",
      "    mdcur         (member_id, time) float64 dask.array<shape=(40, 1872), chunksize=(4, 480)>\n",
      "    mscur         (member_id, time) float64 dask.array<shape=(40, 1872), chunksize=(4, 480)>\n",
      "    nstep         (member_id, time) float64 dask.array<shape=(40, 1872), chunksize=(4, 480)>\n",
      "    pftmask       (member_id, lat, lon) float64 dask.array<shape=(40, 192, 288), chunksize=(4, 96, 144)>\n",
      "    time_bounds   (member_id, time, hist_interval) object dask.array<shape=(40, 1872, 2), chunksize=(4, 480, 2)>\n",
      "    time_written  (member_id, time) object dask.array<shape=(40, 1872), chunksize=(4, 480)>\n",
      "    topo          (member_id, lat, lon) float32 dask.array<shape=(40, 192, 288), chunksize=(4, 96, 144)>\n",
      "Attributes:\n",
      "    history:                              2019-06-25 17:36:06.252430 xarray.o...\n",
      "    username:                             mudryk\n",
      "    Surface_dataset:                      surfdata_0.9x1.25_simyr1850_c110921.nc\n",
      "    revision_id:                          $Id: histFileMod.F90 40539 2012-09-...\n",
      "    NCO:                                  4.3.4\n",
      "    version:                              cesm1_1_1_alpha01g\n",
      "    nco_openmp_thread_number:             1\n",
      "    case_title:                           UNSET\n",
      "    hostname:                             tcs\n",
      "    source:                               Community Land Model CLM4.0\n",
      "    title:                                CLM History file information\n",
      "    comment:                              NOTE: None of the variables are wei...\n",
      "    PFT_physiological_constants_dataset:  pft-physiology.c110425.nc\n",
      "    Initial_conditions_dataset:           b.e11.B20TRC5CNBDRD.f09_g16.001.clm...\n",
      "    Conventions:                          CF-1.0\n",
      "****************************************************************************************************\n",
      "****************************************************************************************************\n",
      "This query: {'experiment': '20C', 'component': 'lnd', 'stream': 'clm2.h0', 'variable': 'SOILWATER_10CM'} returned:\n",
      "\n",
      "- 1 unique variable(s)\n",
      "\n",
      "\n",
      "- Number of files: 40\n",
      "\n",
      "\n",
      "- 40 member(s): [1, 2, 3, 4, 5, 6, 7, 8, 9, 10, 11, 12, 13, 14, 15, 16, 17, 18, 19, 20, 21, 22, 23, 24, 25, 26, 27, 28, 29, 30, 31, 32, 33, 34, 35, 101, 102, 103, 104, 105]\n",
      "\n",
      "\n",
      "- 40 case(s)\n",
      "\n",
      "\n"
     ]
    },
    {
     "data": {
      "application/vnd.jupyter.widget-view+json": {
       "model_id": "de4cbf086ad14e9abaaaa0b8d5b7e864",
       "version_major": 2,
       "version_minor": 0
      },
      "text/plain": [
       "HBox(children=(IntProgress(value=0, description='dataset', max=1, style=ProgressStyle(description_width='initi…"
      ]
     },
     "metadata": {},
     "output_type": "display_data"
    },
    {
     "data": {
      "application/vnd.jupyter.widget-view+json": {
       "model_id": "db0f5a51c25e4cbc9346aa2a079a134e",
       "version_major": 2,
       "version_minor": 0
      },
      "text/plain": [
       "HBox(children=(IntProgress(value=0, description='member', max=40, style=ProgressStyle(description_width='initi…"
      ]
     },
     "metadata": {},
     "output_type": "display_data"
    },
    {
     "name": "stdout",
     "output_type": "stream",
     "text": [
      "\n",
      "+++++++++++++++++++++++++++++++++++\n",
      "Variable name: SOILWATER_10CM\n",
      "Chunk shape: (4, 480, 96, 144)\n",
      "Dataset shape: (40, 1872, 192, 288)\n",
      "Chunk size: 106.17 MB\n",
      "Dataset size: 17.43 GB\n",
      "+++++++++++++++++++++++++++++++++++\n",
      "<xarray.Dataset>\n",
      "Dimensions:         (hist_interval: 2, lat: 192, levgrnd: 15, levlak: 10, lon: 288, member_id: 40, time: 1872)\n",
      "Coordinates:\n",
      "  * time            (time) object 1850-02-01 00:00:00 ... 2006-01-01 00:00:00\n",
      "  * lat             (lat) float32 -90.0 -89.057594 -88.11518 ... 89.057594 90.0\n",
      "  * levgrnd         (levgrnd) float32 0.007100635 0.027925 ... 21.32647 35.17762\n",
      "  * levlak          (levlak) float32 0.05 0.6 2.1 4.6 ... 25.6 34.325 44.775\n",
      "  * lon             (lon) float32 0.0 1.25 2.5 3.75 ... 356.25 357.5 358.75\n",
      "  * member_id       (member_id) int64 1 2 3 4 5 6 7 ... 35 101 102 103 104 105\n",
      "Dimensions without coordinates: hist_interval\n",
      "Data variables:\n",
      "    BSW             (member_id, levgrnd, lat, lon) float32 dask.array<shape=(40, 15, 192, 288), chunksize=(4, 3, 96, 144)>\n",
      "    DZSOI           (member_id, levgrnd, lat, lon) float32 dask.array<shape=(40, 15, 192, 288), chunksize=(4, 3, 96, 144)>\n",
      "    HKSAT           (member_id, levgrnd, lat, lon) float32 dask.array<shape=(40, 15, 192, 288), chunksize=(4, 3, 96, 144)>\n",
      "    SOILWATER_10CM  (member_id, time, lat, lon) float32 dask.array<shape=(40, 1872, 192, 288), chunksize=(4, 480, 96, 144)>\n",
      "    SUCSAT          (member_id, levgrnd, lat, lon) float32 dask.array<shape=(40, 15, 192, 288), chunksize=(4, 3, 96, 144)>\n",
      "    WATSAT          (member_id, levgrnd, lat, lon) float32 dask.array<shape=(40, 15, 192, 288), chunksize=(4, 3, 96, 144)>\n",
      "    ZSOI            (member_id, levgrnd, lat, lon) float32 dask.array<shape=(40, 15, 192, 288), chunksize=(4, 3, 96, 144)>\n",
      "    area            (member_id, lat, lon) float32 dask.array<shape=(40, 192, 288), chunksize=(4, 96, 144)>\n",
      "    date_written    (member_id, time) object dask.array<shape=(40, 1872), chunksize=(4, 480)>\n",
      "    landfrac        (member_id, lat, lon) float32 dask.array<shape=(40, 192, 288), chunksize=(4, 96, 144)>\n",
      "    landmask        (member_id, lat, lon) float64 dask.array<shape=(40, 192, 288), chunksize=(4, 96, 144)>\n",
      "    mcdate          (member_id, time) float64 dask.array<shape=(40, 1872), chunksize=(4, 480)>\n",
      "    mcsec           (member_id, time) float64 dask.array<shape=(40, 1872), chunksize=(4, 480)>\n",
      "    mdcur           (member_id, time) float64 dask.array<shape=(40, 1872), chunksize=(4, 480)>\n",
      "    mscur           (member_id, time) float64 dask.array<shape=(40, 1872), chunksize=(4, 480)>\n",
      "    nstep           (member_id, time) float64 dask.array<shape=(40, 1872), chunksize=(4, 480)>\n",
      "    pftmask         (member_id, lat, lon) float64 dask.array<shape=(40, 192, 288), chunksize=(4, 96, 144)>\n",
      "    time_bounds     (member_id, time, hist_interval) object dask.array<shape=(40, 1872, 2), chunksize=(4, 480, 2)>\n",
      "    time_written    (member_id, time) object dask.array<shape=(40, 1872), chunksize=(4, 480)>\n",
      "    topo            (member_id, lat, lon) float32 dask.array<shape=(40, 192, 288), chunksize=(4, 96, 144)>\n",
      "Attributes:\n",
      "    history:                              2019-06-25 17:36:17.364054 xarray.o...\n",
      "    username:                             mudryk\n",
      "    Surface_dataset:                      surfdata_0.9x1.25_simyr1850_c110921.nc\n",
      "    revision_id:                          $Id: histFileMod.F90 40539 2012-09-...\n",
      "    NCO:                                  4.3.4\n",
      "    version:                              cesm1_1_1_alpha01g\n",
      "    nco_openmp_thread_number:             1\n",
      "    case_title:                           UNSET\n",
      "    hostname:                             tcs\n",
      "    source:                               Community Land Model CLM4.0\n",
      "    title:                                CLM History file information\n",
      "    comment:                              NOTE: None of the variables are wei...\n",
      "    PFT_physiological_constants_dataset:  pft-physiology.c110425.nc\n",
      "    Initial_conditions_dataset:           b.e11.B20TRC5CNBDRD.f09_g16.001.clm...\n",
      "    Conventions:                          CF-1.0\n",
      "****************************************************************************************************\n",
      "****************************************************************************************************\n",
      "This query: {'experiment': '20C', 'component': 'lnd', 'stream': 'clm2.h0', 'variable': 'SOILLIQ'} returned:\n",
      "\n",
      "- 1 unique variable(s)\n",
      "\n",
      "\n",
      "- Number of files: 40\n",
      "\n",
      "\n",
      "- 40 member(s): [1, 2, 3, 4, 5, 6, 7, 8, 9, 10, 11, 12, 13, 14, 15, 16, 17, 18, 19, 20, 21, 22, 23, 24, 25, 26, 27, 28, 29, 30, 31, 32, 33, 34, 35, 101, 102, 103, 104, 105]\n",
      "\n",
      "\n",
      "- 40 case(s)\n",
      "\n",
      "\n"
     ]
    },
    {
     "data": {
      "application/vnd.jupyter.widget-view+json": {
       "model_id": "9e8e0a87db8541278d32b5cdfb742117",
       "version_major": 2,
       "version_minor": 0
      },
      "text/plain": [
       "HBox(children=(IntProgress(value=0, description='dataset', max=1, style=ProgressStyle(description_width='initi…"
      ]
     },
     "metadata": {},
     "output_type": "display_data"
    },
    {
     "data": {
      "application/vnd.jupyter.widget-view+json": {
       "model_id": "9d7444107dcc487d8f094ac83f6ddeb6",
       "version_major": 2,
       "version_minor": 0
      },
      "text/plain": [
       "HBox(children=(IntProgress(value=0, description='member', max=40, style=ProgressStyle(description_width='initi…"
      ]
     },
     "metadata": {},
     "output_type": "display_data"
    },
    {
     "name": "stdout",
     "output_type": "stream",
     "text": [
      "\n",
      "+++++++++++++++++++++++++++++++++++\n",
      "Variable name: SOILLIQ\n",
      "Chunk shape: (4, 480, 3, 96, 144)\n",
      "Dataset shape: (40, 1872, 15, 192, 288)\n",
      "Chunk size: 318.50 MB\n",
      "Dataset size: 249.30 GB\n",
      "+++++++++++++++++++++++++++++++++++\n",
      "<xarray.Dataset>\n",
      "Dimensions:       (hist_interval: 2, lat: 192, levgrnd: 15, levlak: 10, lon: 288, member_id: 40, time: 1872)\n",
      "Coordinates:\n",
      "  * time          (time) object 1850-02-01 00:00:00 ... 2006-01-01 00:00:00\n",
      "  * lat           (lat) float32 -90.0 -89.057594 -88.11518 ... 89.057594 90.0\n",
      "  * levgrnd       (levgrnd) float32 0.007100635 0.027925 ... 21.32647 35.17762\n",
      "  * levlak        (levlak) float32 0.05 0.6 2.1 4.6 ... 18.6 25.6 34.325 44.775\n",
      "  * lon           (lon) float32 0.0 1.25 2.5 3.75 ... 355.0 356.25 357.5 358.75\n",
      "  * member_id     (member_id) int64 1 2 3 4 5 6 7 ... 34 35 101 102 103 104 105\n",
      "Dimensions without coordinates: hist_interval\n",
      "Data variables:\n",
      "    BSW           (member_id, levgrnd, lat, lon) float32 dask.array<shape=(40, 15, 192, 288), chunksize=(4, 3, 96, 144)>\n",
      "    DZSOI         (member_id, levgrnd, lat, lon) float32 dask.array<shape=(40, 15, 192, 288), chunksize=(4, 3, 96, 144)>\n",
      "    HKSAT         (member_id, levgrnd, lat, lon) float32 dask.array<shape=(40, 15, 192, 288), chunksize=(4, 3, 96, 144)>\n",
      "    SOILLIQ       (member_id, time, levgrnd, lat, lon) float32 dask.array<shape=(40, 1872, 15, 192, 288), chunksize=(4, 480, 3, 96, 144)>\n",
      "    SUCSAT        (member_id, levgrnd, lat, lon) float32 dask.array<shape=(40, 15, 192, 288), chunksize=(4, 3, 96, 144)>\n",
      "    WATSAT        (member_id, levgrnd, lat, lon) float32 dask.array<shape=(40, 15, 192, 288), chunksize=(4, 3, 96, 144)>\n",
      "    ZSOI          (member_id, levgrnd, lat, lon) float32 dask.array<shape=(40, 15, 192, 288), chunksize=(4, 3, 96, 144)>\n",
      "    area          (member_id, lat, lon) float32 dask.array<shape=(40, 192, 288), chunksize=(4, 96, 144)>\n",
      "    date_written  (member_id, time) object dask.array<shape=(40, 1872), chunksize=(4, 480)>\n",
      "    landfrac      (member_id, lat, lon) float32 dask.array<shape=(40, 192, 288), chunksize=(4, 96, 144)>\n",
      "    landmask      (member_id, lat, lon) float64 dask.array<shape=(40, 192, 288), chunksize=(4, 96, 144)>\n",
      "    mcdate        (member_id, time) float64 dask.array<shape=(40, 1872), chunksize=(4, 480)>\n",
      "    mcsec         (member_id, time) float64 dask.array<shape=(40, 1872), chunksize=(4, 480)>\n",
      "    mdcur         (member_id, time) float64 dask.array<shape=(40, 1872), chunksize=(4, 480)>\n",
      "    mscur         (member_id, time) float64 dask.array<shape=(40, 1872), chunksize=(4, 480)>\n",
      "    nstep         (member_id, time) float64 dask.array<shape=(40, 1872), chunksize=(4, 480)>\n",
      "    pftmask       (member_id, lat, lon) float64 dask.array<shape=(40, 192, 288), chunksize=(4, 96, 144)>\n",
      "    time_bounds   (member_id, time, hist_interval) object dask.array<shape=(40, 1872, 2), chunksize=(4, 480, 2)>\n",
      "    time_written  (member_id, time) object dask.array<shape=(40, 1872), chunksize=(4, 480)>\n",
      "    topo          (member_id, lat, lon) float32 dask.array<shape=(40, 192, 288), chunksize=(4, 96, 144)>\n",
      "Attributes:\n",
      "    history:                              2019-06-25 17:36:28.724928 xarray.o...\n",
      "    username:                             mudryk\n",
      "    Surface_dataset:                      surfdata_0.9x1.25_simyr1850_c110921.nc\n",
      "    revision_id:                          $Id: histFileMod.F90 40539 2012-09-...\n",
      "    NCO:                                  4.3.4\n",
      "    version:                              cesm1_1_1_alpha01g\n",
      "    nco_openmp_thread_number:             1\n",
      "    case_title:                           UNSET\n",
      "    hostname:                             tcs\n",
      "    source:                               Community Land Model CLM4.0\n",
      "    title:                                CLM History file information\n",
      "    comment:                              NOTE: None of the variables are wei...\n",
      "    PFT_physiological_constants_dataset:  pft-physiology.c110425.nc\n",
      "    Initial_conditions_dataset:           b.e11.B20TRC5CNBDRD.f09_g16.001.clm...\n",
      "    Conventions:                          CF-1.0\n",
      "****************************************************************************************************\n",
      "****************************************************************************************************\n",
      "This query: {'experiment': 'RCP85', 'component': 'lnd', 'stream': 'clm2.h0', 'variable': 'FSNO'} returned:\n",
      "\n",
      "- 1 unique variable(s)\n",
      "\n",
      "\n",
      "- Number of files: 73\n",
      "\n",
      "\n",
      "- 40 member(s): [1, 2, 3, 4, 5, 6, 7, 8, 9, 10, 11, 12, 13, 14, 15, 16, 17, 18, 19, 20, 21, 22, 23, 24, 25, 26, 27, 28, 29, 30, 31, 32, 33, 34, 35, 101, 102, 103, 104, 105]\n",
      "\n",
      "\n",
      "- 40 case(s)\n",
      "\n",
      "\n"
     ]
    },
    {
     "data": {
      "application/vnd.jupyter.widget-view+json": {
       "model_id": "c440ce94aff54713acbfac3bb0d421a1",
       "version_major": 2,
       "version_minor": 0
      },
      "text/plain": [
       "HBox(children=(IntProgress(value=0, description='dataset', max=1, style=ProgressStyle(description_width='initi…"
      ]
     },
     "metadata": {},
     "output_type": "display_data"
    },
    {
     "data": {
      "application/vnd.jupyter.widget-view+json": {
       "model_id": "07bb12db71f04c4ca5789d995f95eb74",
       "version_major": 2,
       "version_minor": 0
      },
      "text/plain": [
       "HBox(children=(IntProgress(value=0, description='member', max=40, style=ProgressStyle(description_width='initi…"
      ]
     },
     "metadata": {},
     "output_type": "display_data"
    },
    {
     "name": "stdout",
     "output_type": "stream",
     "text": [
      "\n",
      "+++++++++++++++++++++++++++++++++++\n",
      "Variable name: FSNO\n",
      "Chunk shape: (4, 480, 96, 144)\n",
      "Dataset shape: (40, 1140, 192, 288)\n",
      "Chunk size: 106.17 MB\n",
      "Dataset size: 10.95 GB\n",
      "+++++++++++++++++++++++++++++++++++\n",
      "<xarray.Dataset>\n",
      "Dimensions:       (hist_interval: 2, lat: 192, levgrnd: 15, levlak: 10, lon: 288, member_id: 40, time: 1140)\n",
      "Coordinates:\n",
      "  * lat           (lat) float32 -90.0 -89.057594 -88.11518 ... 89.057594 90.0\n",
      "  * levgrnd       (levgrnd) float32 0.007100635 0.027925 ... 21.32647 35.17762\n",
      "  * levlak        (levlak) float32 0.05 0.6 2.1 4.6 ... 18.6 25.6 34.325 44.775\n",
      "  * lon           (lon) float32 0.0 1.25 2.5 3.75 ... 355.0 356.25 357.5 358.75\n",
      "  * time          (time) object 2006-02-01 00:00:00 ... 2101-01-01 00:00:00\n",
      "  * member_id     (member_id) int64 1 2 3 4 5 6 7 ... 34 35 101 102 103 104 105\n",
      "Dimensions without coordinates: hist_interval\n",
      "Data variables:\n",
      "    BSW           (member_id, levgrnd, lat, lon) float32 dask.array<shape=(40, 15, 192, 288), chunksize=(4, 3, 96, 144)>\n",
      "    DZSOI         (member_id, levgrnd, lat, lon) float32 dask.array<shape=(40, 15, 192, 288), chunksize=(4, 3, 96, 144)>\n",
      "    HKSAT         (member_id, levgrnd, lat, lon) float32 dask.array<shape=(40, 15, 192, 288), chunksize=(4, 3, 96, 144)>\n",
      "    SUCSAT        (member_id, levgrnd, lat, lon) float32 dask.array<shape=(40, 15, 192, 288), chunksize=(4, 3, 96, 144)>\n",
      "    WATSAT        (member_id, levgrnd, lat, lon) float32 dask.array<shape=(40, 15, 192, 288), chunksize=(4, 3, 96, 144)>\n",
      "    ZSOI          (member_id, levgrnd, lat, lon) float32 dask.array<shape=(40, 15, 192, 288), chunksize=(4, 3, 96, 144)>\n",
      "    area          (member_id, lat, lon) float32 dask.array<shape=(40, 192, 288), chunksize=(4, 96, 144)>\n",
      "    landfrac      (member_id, lat, lon) float32 dask.array<shape=(40, 192, 288), chunksize=(4, 96, 144)>\n",
      "    landmask      (member_id, lat, lon) float64 dask.array<shape=(40, 192, 288), chunksize=(4, 96, 144)>\n",
      "    pftmask       (member_id, lat, lon) float64 dask.array<shape=(40, 192, 288), chunksize=(4, 96, 144)>\n",
      "    topo          (member_id, lat, lon) float32 dask.array<shape=(40, 192, 288), chunksize=(4, 96, 144)>\n",
      "    FSNO          (member_id, time, lat, lon) float32 dask.array<shape=(40, 1140, 192, 288), chunksize=(4, 480, 96, 144)>\n",
      "    date_written  (member_id, time) |S8 dask.array<shape=(40, 1140), chunksize=(4, 480)>\n",
      "    mcdate        (member_id, time) int32 dask.array<shape=(40, 1140), chunksize=(4, 480)>\n",
      "    mcsec         (member_id, time) int32 dask.array<shape=(40, 1140), chunksize=(4, 480)>\n",
      "    mdcur         (member_id, time) int32 dask.array<shape=(40, 1140), chunksize=(4, 480)>\n",
      "    mscur         (member_id, time) int32 dask.array<shape=(40, 1140), chunksize=(4, 480)>\n",
      "    nstep         (member_id, time) int32 dask.array<shape=(40, 1140), chunksize=(4, 480)>\n",
      "    time_bounds   (member_id, time, hist_interval) object dask.array<shape=(40, 1140, 2), chunksize=(4, 480, 2)>\n",
      "    time_written  (member_id, time) |S8 dask.array<shape=(40, 1140), chunksize=(4, 480)>\n",
      "Attributes:\n",
      "    history:                              2019-06-25 17:36:40.090618 xarray.o...\n",
      "    username:                             mudryk\n",
      "    Surface_dataset:                      surfdata_0.9x1.25_simyr1850_c110921.nc\n",
      "    revision_id:                          $Id: histFileMod.F90 40539 2012-09-...\n",
      "    NCO:                                  4.3.4\n",
      "    version:                              cesm1_1_1_alpha01g\n",
      "    nco_openmp_thread_number:             1\n",
      "    case_title:                           UNSET\n",
      "    hostname:                             tcs\n",
      "    source:                               Community Land Model CLM4.0\n",
      "    title:                                CLM History file information\n",
      "    comment:                              NOTE: None of the variables are wei...\n",
      "    PFT_physiological_constants_dataset:  pft-physiology.c110425.nc\n",
      "    Initial_conditions_dataset:           b.e11.B20TRC5CNBDRD.f09_g16.105.clm...\n",
      "    Conventions:                          CF-1.0\n",
      "****************************************************************************************************\n",
      "****************************************************************************************************\n",
      "This query: {'experiment': 'RCP85', 'component': 'lnd', 'stream': 'clm2.h0', 'variable': 'H2OSNO'} returned:\n",
      "\n",
      "- 1 unique variable(s)\n",
      "\n",
      "\n",
      "- Number of files: 73\n",
      "\n",
      "\n",
      "- 40 member(s): [1, 2, 3, 4, 5, 6, 7, 8, 9, 10, 11, 12, 13, 14, 15, 16, 17, 18, 19, 20, 21, 22, 23, 24, 25, 26, 27, 28, 29, 30, 31, 32, 33, 34, 35, 101, 102, 103, 104, 105]\n",
      "\n",
      "\n",
      "- 40 case(s)\n",
      "\n",
      "\n"
     ]
    },
    {
     "data": {
      "application/vnd.jupyter.widget-view+json": {
       "model_id": "d018b379952347ee859968e2bc4433a3",
       "version_major": 2,
       "version_minor": 0
      },
      "text/plain": [
       "HBox(children=(IntProgress(value=0, description='dataset', max=1, style=ProgressStyle(description_width='initi…"
      ]
     },
     "metadata": {},
     "output_type": "display_data"
    },
    {
     "data": {
      "application/vnd.jupyter.widget-view+json": {
       "model_id": "ed36ced1b07b48b8a4ffe9e360386770",
       "version_major": 2,
       "version_minor": 0
      },
      "text/plain": [
       "HBox(children=(IntProgress(value=0, description='member', max=40, style=ProgressStyle(description_width='initi…"
      ]
     },
     "metadata": {},
     "output_type": "display_data"
    },
    {
     "name": "stdout",
     "output_type": "stream",
     "text": [
      "\n",
      "+++++++++++++++++++++++++++++++++++\n",
      "Variable name: H2OSNO\n",
      "Chunk shape: (4, 480, 96, 144)\n",
      "Dataset shape: (40, 1140, 192, 288)\n",
      "Chunk size: 106.17 MB\n",
      "Dataset size: 10.95 GB\n",
      "+++++++++++++++++++++++++++++++++++\n",
      "<xarray.Dataset>\n",
      "Dimensions:       (hist_interval: 2, lat: 192, levgrnd: 15, levlak: 10, lon: 288, member_id: 40, time: 1140)\n",
      "Coordinates:\n",
      "  * lat           (lat) float32 -90.0 -89.057594 -88.11518 ... 89.057594 90.0\n",
      "  * levgrnd       (levgrnd) float32 0.007100635 0.027925 ... 21.32647 35.17762\n",
      "  * levlak        (levlak) float32 0.05 0.6 2.1 4.6 ... 18.6 25.6 34.325 44.775\n",
      "  * lon           (lon) float32 0.0 1.25 2.5 3.75 ... 355.0 356.25 357.5 358.75\n",
      "  * time          (time) object 2006-02-01 00:00:00 ... 2101-01-01 00:00:00\n",
      "  * member_id     (member_id) int64 1 2 3 4 5 6 7 ... 34 35 101 102 103 104 105\n",
      "Dimensions without coordinates: hist_interval\n",
      "Data variables:\n",
      "    BSW           (member_id, levgrnd, lat, lon) float32 dask.array<shape=(40, 15, 192, 288), chunksize=(4, 3, 96, 144)>\n",
      "    DZSOI         (member_id, levgrnd, lat, lon) float32 dask.array<shape=(40, 15, 192, 288), chunksize=(4, 3, 96, 144)>\n",
      "    HKSAT         (member_id, levgrnd, lat, lon) float32 dask.array<shape=(40, 15, 192, 288), chunksize=(4, 3, 96, 144)>\n",
      "    SUCSAT        (member_id, levgrnd, lat, lon) float32 dask.array<shape=(40, 15, 192, 288), chunksize=(4, 3, 96, 144)>\n",
      "    WATSAT        (member_id, levgrnd, lat, lon) float32 dask.array<shape=(40, 15, 192, 288), chunksize=(4, 3, 96, 144)>\n",
      "    ZSOI          (member_id, levgrnd, lat, lon) float32 dask.array<shape=(40, 15, 192, 288), chunksize=(4, 3, 96, 144)>\n",
      "    area          (member_id, lat, lon) float32 dask.array<shape=(40, 192, 288), chunksize=(4, 96, 144)>\n",
      "    landfrac      (member_id, lat, lon) float32 dask.array<shape=(40, 192, 288), chunksize=(4, 96, 144)>\n",
      "    landmask      (member_id, lat, lon) float64 dask.array<shape=(40, 192, 288), chunksize=(4, 96, 144)>\n",
      "    pftmask       (member_id, lat, lon) float64 dask.array<shape=(40, 192, 288), chunksize=(4, 96, 144)>\n",
      "    topo          (member_id, lat, lon) float32 dask.array<shape=(40, 192, 288), chunksize=(4, 96, 144)>\n",
      "    H2OSNO        (member_id, time, lat, lon) float32 dask.array<shape=(40, 1140, 192, 288), chunksize=(4, 480, 96, 144)>\n",
      "    date_written  (member_id, time) |S8 dask.array<shape=(40, 1140), chunksize=(4, 480)>\n",
      "    mcdate        (member_id, time) int32 dask.array<shape=(40, 1140), chunksize=(4, 480)>\n",
      "    mcsec         (member_id, time) int32 dask.array<shape=(40, 1140), chunksize=(4, 480)>\n",
      "    mdcur         (member_id, time) int32 dask.array<shape=(40, 1140), chunksize=(4, 480)>\n",
      "    mscur         (member_id, time) int32 dask.array<shape=(40, 1140), chunksize=(4, 480)>\n",
      "    nstep         (member_id, time) int32 dask.array<shape=(40, 1140), chunksize=(4, 480)>\n",
      "    time_bounds   (member_id, time, hist_interval) object dask.array<shape=(40, 1140, 2), chunksize=(4, 480, 2)>\n",
      "    time_written  (member_id, time) |S8 dask.array<shape=(40, 1140), chunksize=(4, 480)>\n",
      "Attributes:\n",
      "    history:                              2019-06-25 17:36:50.938437 xarray.o...\n",
      "    username:                             mudryk\n",
      "    Surface_dataset:                      surfdata_0.9x1.25_simyr1850_c110921.nc\n",
      "    revision_id:                          $Id: histFileMod.F90 40539 2012-09-...\n",
      "    NCO:                                  4.3.4\n",
      "    version:                              cesm1_1_1_alpha01g\n",
      "    nco_openmp_thread_number:             1\n",
      "    case_title:                           UNSET\n",
      "    hostname:                             tcs\n",
      "    source:                               Community Land Model CLM4.0\n",
      "    title:                                CLM History file information\n",
      "    comment:                              NOTE: None of the variables are wei...\n",
      "    PFT_physiological_constants_dataset:  pft-physiology.c110425.nc\n",
      "    Initial_conditions_dataset:           b.e11.B20TRC5CNBDRD.f09_g16.105.clm...\n",
      "    Conventions:                          CF-1.0\n",
      "****************************************************************************************************\n",
      "****************************************************************************************************\n",
      "This query: {'experiment': 'RCP85', 'component': 'lnd', 'stream': 'clm2.h0', 'variable': 'QRUNOFF'} returned:\n",
      "\n",
      "- 1 unique variable(s)\n",
      "\n",
      "\n",
      "- Number of files: 73\n",
      "\n",
      "\n",
      "- 40 member(s): [1, 2, 3, 4, 5, 6, 7, 8, 9, 10, 11, 12, 13, 14, 15, 16, 17, 18, 19, 20, 21, 22, 23, 24, 25, 26, 27, 28, 29, 30, 31, 32, 33, 34, 35, 101, 102, 103, 104, 105]\n",
      "\n",
      "\n",
      "- 40 case(s)\n",
      "\n",
      "\n"
     ]
    },
    {
     "data": {
      "application/vnd.jupyter.widget-view+json": {
       "model_id": "c71a635af95d4c9294ad7fbb74961542",
       "version_major": 2,
       "version_minor": 0
      },
      "text/plain": [
       "HBox(children=(IntProgress(value=0, description='dataset', max=1, style=ProgressStyle(description_width='initi…"
      ]
     },
     "metadata": {},
     "output_type": "display_data"
    },
    {
     "data": {
      "application/vnd.jupyter.widget-view+json": {
       "model_id": "7e80c7edb6f44e1988940d85c4ef8ab5",
       "version_major": 2,
       "version_minor": 0
      },
      "text/plain": [
       "HBox(children=(IntProgress(value=0, description='member', max=40, style=ProgressStyle(description_width='initi…"
      ]
     },
     "metadata": {},
     "output_type": "display_data"
    },
    {
     "name": "stdout",
     "output_type": "stream",
     "text": [
      "\n",
      "+++++++++++++++++++++++++++++++++++\n",
      "Variable name: QRUNOFF\n",
      "Chunk shape: (4, 480, 96, 144)\n",
      "Dataset shape: (40, 1140, 192, 288)\n",
      "Chunk size: 106.17 MB\n",
      "Dataset size: 10.95 GB\n",
      "+++++++++++++++++++++++++++++++++++\n",
      "<xarray.Dataset>\n",
      "Dimensions:       (hist_interval: 2, lat: 192, levgrnd: 15, levlak: 10, lon: 288, member_id: 40, time: 1140)\n",
      "Coordinates:\n",
      "  * lat           (lat) float32 -90.0 -89.057594 -88.11518 ... 89.057594 90.0\n",
      "  * levgrnd       (levgrnd) float32 0.007100635 0.027925 ... 21.32647 35.17762\n",
      "  * levlak        (levlak) float32 0.05 0.6 2.1 4.6 ... 18.6 25.6 34.325 44.775\n",
      "  * lon           (lon) float32 0.0 1.25 2.5 3.75 ... 355.0 356.25 357.5 358.75\n",
      "  * time          (time) object 2006-02-01 00:00:00 ... 2101-01-01 00:00:00\n",
      "  * member_id     (member_id) int64 1 2 3 4 5 6 7 ... 34 35 101 102 103 104 105\n",
      "Dimensions without coordinates: hist_interval\n",
      "Data variables:\n",
      "    BSW           (member_id, levgrnd, lat, lon) float32 dask.array<shape=(40, 15, 192, 288), chunksize=(4, 3, 96, 144)>\n",
      "    DZSOI         (member_id, levgrnd, lat, lon) float32 dask.array<shape=(40, 15, 192, 288), chunksize=(4, 3, 96, 144)>\n",
      "    HKSAT         (member_id, levgrnd, lat, lon) float32 dask.array<shape=(40, 15, 192, 288), chunksize=(4, 3, 96, 144)>\n",
      "    SUCSAT        (member_id, levgrnd, lat, lon) float32 dask.array<shape=(40, 15, 192, 288), chunksize=(4, 3, 96, 144)>\n",
      "    WATSAT        (member_id, levgrnd, lat, lon) float32 dask.array<shape=(40, 15, 192, 288), chunksize=(4, 3, 96, 144)>\n",
      "    ZSOI          (member_id, levgrnd, lat, lon) float32 dask.array<shape=(40, 15, 192, 288), chunksize=(4, 3, 96, 144)>\n",
      "    area          (member_id, lat, lon) float32 dask.array<shape=(40, 192, 288), chunksize=(4, 96, 144)>\n",
      "    landfrac      (member_id, lat, lon) float32 dask.array<shape=(40, 192, 288), chunksize=(4, 96, 144)>\n",
      "    landmask      (member_id, lat, lon) float64 dask.array<shape=(40, 192, 288), chunksize=(4, 96, 144)>\n",
      "    pftmask       (member_id, lat, lon) float64 dask.array<shape=(40, 192, 288), chunksize=(4, 96, 144)>\n",
      "    topo          (member_id, lat, lon) float32 dask.array<shape=(40, 192, 288), chunksize=(4, 96, 144)>\n",
      "    QRUNOFF       (member_id, time, lat, lon) float32 dask.array<shape=(40, 1140, 192, 288), chunksize=(4, 480, 96, 144)>\n",
      "    date_written  (member_id, time) |S8 dask.array<shape=(40, 1140), chunksize=(4, 480)>\n",
      "    mcdate        (member_id, time) int32 dask.array<shape=(40, 1140), chunksize=(4, 480)>\n",
      "    mcsec         (member_id, time) int32 dask.array<shape=(40, 1140), chunksize=(4, 480)>\n",
      "    mdcur         (member_id, time) int32 dask.array<shape=(40, 1140), chunksize=(4, 480)>\n",
      "    mscur         (member_id, time) int32 dask.array<shape=(40, 1140), chunksize=(4, 480)>\n",
      "    nstep         (member_id, time) int32 dask.array<shape=(40, 1140), chunksize=(4, 480)>\n",
      "    time_bounds   (member_id, time, hist_interval) object dask.array<shape=(40, 1140, 2), chunksize=(4, 480, 2)>\n",
      "    time_written  (member_id, time) |S8 dask.array<shape=(40, 1140), chunksize=(4, 480)>\n",
      "Attributes:\n",
      "    history:                              2019-06-25 17:37:02.025770 xarray.o...\n",
      "    username:                             mudryk\n",
      "    Surface_dataset:                      surfdata_0.9x1.25_simyr1850_c110921.nc\n",
      "    revision_id:                          $Id: histFileMod.F90 40539 2012-09-...\n",
      "    NCO:                                  4.3.4\n",
      "    version:                              cesm1_1_1_alpha01g\n",
      "    nco_openmp_thread_number:             1\n",
      "    case_title:                           UNSET\n",
      "    hostname:                             tcs\n",
      "    source:                               Community Land Model CLM4.0\n",
      "    title:                                CLM History file information\n",
      "    comment:                              NOTE: None of the variables are wei...\n",
      "    PFT_physiological_constants_dataset:  pft-physiology.c110425.nc\n",
      "    Initial_conditions_dataset:           b.e11.B20TRC5CNBDRD.f09_g16.105.clm...\n",
      "    Conventions:                          CF-1.0\n",
      "****************************************************************************************************\n",
      "****************************************************************************************************\n",
      "This query: {'experiment': 'RCP85', 'component': 'lnd', 'stream': 'clm2.h0', 'variable': 'RAIN'} returned:\n",
      "\n",
      "- 1 unique variable(s)\n",
      "\n",
      "\n",
      "- Number of files: 73\n",
      "\n",
      "\n",
      "- 40 member(s): [1, 2, 3, 4, 5, 6, 7, 8, 9, 10, 11, 12, 13, 14, 15, 16, 17, 18, 19, 20, 21, 22, 23, 24, 25, 26, 27, 28, 29, 30, 31, 32, 33, 34, 35, 101, 102, 103, 104, 105]\n",
      "\n",
      "\n",
      "- 40 case(s)\n",
      "\n",
      "\n"
     ]
    },
    {
     "data": {
      "application/vnd.jupyter.widget-view+json": {
       "model_id": "52b55a07b5fc42a4ac14e6ae13e030a2",
       "version_major": 2,
       "version_minor": 0
      },
      "text/plain": [
       "HBox(children=(IntProgress(value=0, description='dataset', max=1, style=ProgressStyle(description_width='initi…"
      ]
     },
     "metadata": {},
     "output_type": "display_data"
    },
    {
     "data": {
      "application/vnd.jupyter.widget-view+json": {
       "model_id": "6a2f3eceeddf4d95b65c12dae9aa7b21",
       "version_major": 2,
       "version_minor": 0
      },
      "text/plain": [
       "HBox(children=(IntProgress(value=0, description='member', max=40, style=ProgressStyle(description_width='initi…"
      ]
     },
     "metadata": {},
     "output_type": "display_data"
    },
    {
     "name": "stdout",
     "output_type": "stream",
     "text": [
      "\n",
      "+++++++++++++++++++++++++++++++++++\n",
      "Variable name: RAIN\n",
      "Chunk shape: (4, 480, 96, 144)\n",
      "Dataset shape: (40, 1140, 192, 288)\n",
      "Chunk size: 106.17 MB\n",
      "Dataset size: 10.95 GB\n",
      "+++++++++++++++++++++++++++++++++++\n",
      "<xarray.Dataset>\n",
      "Dimensions:       (hist_interval: 2, lat: 192, levgrnd: 15, levlak: 10, lon: 288, member_id: 40, time: 1140)\n",
      "Coordinates:\n",
      "  * lat           (lat) float32 -90.0 -89.057594 -88.11518 ... 89.057594 90.0\n",
      "  * levgrnd       (levgrnd) float32 0.007100635 0.027925 ... 21.32647 35.17762\n",
      "  * levlak        (levlak) float32 0.05 0.6 2.1 4.6 ... 18.6 25.6 34.325 44.775\n",
      "  * lon           (lon) float32 0.0 1.25 2.5 3.75 ... 355.0 356.25 357.5 358.75\n",
      "  * time          (time) object 2006-02-01 00:00:00 ... 2101-01-01 00:00:00\n",
      "  * member_id     (member_id) int64 1 2 3 4 5 6 7 ... 34 35 101 102 103 104 105\n",
      "Dimensions without coordinates: hist_interval\n",
      "Data variables:\n",
      "    BSW           (member_id, levgrnd, lat, lon) float32 dask.array<shape=(40, 15, 192, 288), chunksize=(4, 3, 96, 144)>\n",
      "    DZSOI         (member_id, levgrnd, lat, lon) float32 dask.array<shape=(40, 15, 192, 288), chunksize=(4, 3, 96, 144)>\n",
      "    HKSAT         (member_id, levgrnd, lat, lon) float32 dask.array<shape=(40, 15, 192, 288), chunksize=(4, 3, 96, 144)>\n",
      "    SUCSAT        (member_id, levgrnd, lat, lon) float32 dask.array<shape=(40, 15, 192, 288), chunksize=(4, 3, 96, 144)>\n",
      "    WATSAT        (member_id, levgrnd, lat, lon) float32 dask.array<shape=(40, 15, 192, 288), chunksize=(4, 3, 96, 144)>\n",
      "    ZSOI          (member_id, levgrnd, lat, lon) float32 dask.array<shape=(40, 15, 192, 288), chunksize=(4, 3, 96, 144)>\n",
      "    area          (member_id, lat, lon) float32 dask.array<shape=(40, 192, 288), chunksize=(4, 96, 144)>\n",
      "    landfrac      (member_id, lat, lon) float32 dask.array<shape=(40, 192, 288), chunksize=(4, 96, 144)>\n",
      "    landmask      (member_id, lat, lon) float64 dask.array<shape=(40, 192, 288), chunksize=(4, 96, 144)>\n",
      "    pftmask       (member_id, lat, lon) float64 dask.array<shape=(40, 192, 288), chunksize=(4, 96, 144)>\n",
      "    topo          (member_id, lat, lon) float32 dask.array<shape=(40, 192, 288), chunksize=(4, 96, 144)>\n",
      "    RAIN          (member_id, time, lat, lon) float32 dask.array<shape=(40, 1140, 192, 288), chunksize=(4, 480, 96, 144)>\n",
      "    date_written  (member_id, time) |S8 dask.array<shape=(40, 1140), chunksize=(4, 480)>\n",
      "    mcdate        (member_id, time) int32 dask.array<shape=(40, 1140), chunksize=(4, 480)>\n",
      "    mcsec         (member_id, time) int32 dask.array<shape=(40, 1140), chunksize=(4, 480)>\n",
      "    mdcur         (member_id, time) int32 dask.array<shape=(40, 1140), chunksize=(4, 480)>\n",
      "    mscur         (member_id, time) int32 dask.array<shape=(40, 1140), chunksize=(4, 480)>\n",
      "    nstep         (member_id, time) int32 dask.array<shape=(40, 1140), chunksize=(4, 480)>\n",
      "    time_bounds   (member_id, time, hist_interval) object dask.array<shape=(40, 1140, 2), chunksize=(4, 480, 2)>\n",
      "    time_written  (member_id, time) |S8 dask.array<shape=(40, 1140), chunksize=(4, 480)>\n",
      "Attributes:\n",
      "    history:                              2019-06-25 17:37:13.364451 xarray.o...\n",
      "    username:                             mudryk\n",
      "    Surface_dataset:                      surfdata_0.9x1.25_simyr1850_c110921.nc\n",
      "    revision_id:                          $Id: histFileMod.F90 40539 2012-09-...\n",
      "    NCO:                                  4.3.4\n",
      "    version:                              cesm1_1_1_alpha01g\n",
      "    nco_openmp_thread_number:             1\n",
      "    case_title:                           UNSET\n",
      "    hostname:                             tcs\n",
      "    source:                               Community Land Model CLM4.0\n",
      "    title:                                CLM History file information\n",
      "    comment:                              NOTE: None of the variables are wei...\n",
      "    PFT_physiological_constants_dataset:  pft-physiology.c110425.nc\n",
      "    Initial_conditions_dataset:           b.e11.B20TRC5CNBDRD.f09_g16.105.clm...\n",
      "    Conventions:                          CF-1.0\n",
      "****************************************************************************************************\n",
      "****************************************************************************************************\n",
      "This query: {'experiment': 'RCP85', 'component': 'lnd', 'stream': 'clm2.h0', 'variable': 'SNOW'} returned:\n",
      "\n",
      "- 1 unique variable(s)\n",
      "\n",
      "\n",
      "- Number of files: 73\n",
      "\n",
      "\n",
      "- 40 member(s): [1, 2, 3, 4, 5, 6, 7, 8, 9, 10, 11, 12, 13, 14, 15, 16, 17, 18, 19, 20, 21, 22, 23, 24, 25, 26, 27, 28, 29, 30, 31, 32, 33, 34, 35, 101, 102, 103, 104, 105]\n",
      "\n",
      "\n",
      "- 40 case(s)\n",
      "\n",
      "\n"
     ]
    },
    {
     "data": {
      "application/vnd.jupyter.widget-view+json": {
       "model_id": "44a6f2beae674de3be40b6d6130518f0",
       "version_major": 2,
       "version_minor": 0
      },
      "text/plain": [
       "HBox(children=(IntProgress(value=0, description='dataset', max=1, style=ProgressStyle(description_width='initi…"
      ]
     },
     "metadata": {},
     "output_type": "display_data"
    },
    {
     "data": {
      "application/vnd.jupyter.widget-view+json": {
       "model_id": "32ae181bfe9e4b0495d43d0e41f6fdb7",
       "version_major": 2,
       "version_minor": 0
      },
      "text/plain": [
       "HBox(children=(IntProgress(value=0, description='member', max=40, style=ProgressStyle(description_width='initi…"
      ]
     },
     "metadata": {},
     "output_type": "display_data"
    },
    {
     "name": "stdout",
     "output_type": "stream",
     "text": [
      "\n",
      "+++++++++++++++++++++++++++++++++++\n",
      "Variable name: SNOW\n",
      "Chunk shape: (4, 480, 96, 144)\n",
      "Dataset shape: (40, 1140, 192, 288)\n",
      "Chunk size: 106.17 MB\n",
      "Dataset size: 10.95 GB\n",
      "+++++++++++++++++++++++++++++++++++\n",
      "<xarray.Dataset>\n",
      "Dimensions:       (hist_interval: 2, lat: 192, levgrnd: 15, levlak: 10, lon: 288, member_id: 40, time: 1140)\n",
      "Coordinates:\n",
      "  * lat           (lat) float32 -90.0 -89.057594 -88.11518 ... 89.057594 90.0\n",
      "  * levgrnd       (levgrnd) float32 0.007100635 0.027925 ... 21.32647 35.17762\n",
      "  * levlak        (levlak) float32 0.05 0.6 2.1 4.6 ... 18.6 25.6 34.325 44.775\n",
      "  * lon           (lon) float32 0.0 1.25 2.5 3.75 ... 355.0 356.25 357.5 358.75\n",
      "  * time          (time) object 2006-02-01 00:00:00 ... 2101-01-01 00:00:00\n",
      "  * member_id     (member_id) int64 1 2 3 4 5 6 7 ... 34 35 101 102 103 104 105\n",
      "Dimensions without coordinates: hist_interval\n",
      "Data variables:\n",
      "    BSW           (member_id, levgrnd, lat, lon) float32 dask.array<shape=(40, 15, 192, 288), chunksize=(4, 3, 96, 144)>\n",
      "    DZSOI         (member_id, levgrnd, lat, lon) float32 dask.array<shape=(40, 15, 192, 288), chunksize=(4, 3, 96, 144)>\n",
      "    HKSAT         (member_id, levgrnd, lat, lon) float32 dask.array<shape=(40, 15, 192, 288), chunksize=(4, 3, 96, 144)>\n",
      "    SUCSAT        (member_id, levgrnd, lat, lon) float32 dask.array<shape=(40, 15, 192, 288), chunksize=(4, 3, 96, 144)>\n",
      "    WATSAT        (member_id, levgrnd, lat, lon) float32 dask.array<shape=(40, 15, 192, 288), chunksize=(4, 3, 96, 144)>\n",
      "    ZSOI          (member_id, levgrnd, lat, lon) float32 dask.array<shape=(40, 15, 192, 288), chunksize=(4, 3, 96, 144)>\n",
      "    area          (member_id, lat, lon) float32 dask.array<shape=(40, 192, 288), chunksize=(4, 96, 144)>\n",
      "    landfrac      (member_id, lat, lon) float32 dask.array<shape=(40, 192, 288), chunksize=(4, 96, 144)>\n",
      "    landmask      (member_id, lat, lon) float64 dask.array<shape=(40, 192, 288), chunksize=(4, 96, 144)>\n",
      "    pftmask       (member_id, lat, lon) float64 dask.array<shape=(40, 192, 288), chunksize=(4, 96, 144)>\n",
      "    topo          (member_id, lat, lon) float32 dask.array<shape=(40, 192, 288), chunksize=(4, 96, 144)>\n",
      "    SNOW          (member_id, time, lat, lon) float32 dask.array<shape=(40, 1140, 192, 288), chunksize=(4, 480, 96, 144)>\n",
      "    date_written  (member_id, time) |S8 dask.array<shape=(40, 1140), chunksize=(4, 480)>\n",
      "    mcdate        (member_id, time) int32 dask.array<shape=(40, 1140), chunksize=(4, 480)>\n",
      "    mcsec         (member_id, time) int32 dask.array<shape=(40, 1140), chunksize=(4, 480)>\n",
      "    mdcur         (member_id, time) int32 dask.array<shape=(40, 1140), chunksize=(4, 480)>\n",
      "    mscur         (member_id, time) int32 dask.array<shape=(40, 1140), chunksize=(4, 480)>\n",
      "    nstep         (member_id, time) int32 dask.array<shape=(40, 1140), chunksize=(4, 480)>\n",
      "    time_bounds   (member_id, time, hist_interval) object dask.array<shape=(40, 1140, 2), chunksize=(4, 480, 2)>\n",
      "    time_written  (member_id, time) |S8 dask.array<shape=(40, 1140), chunksize=(4, 480)>\n",
      "Attributes:\n",
      "    history:                              2019-06-25 17:37:24.732589 xarray.o...\n",
      "    username:                             mudryk\n",
      "    Surface_dataset:                      surfdata_0.9x1.25_simyr1850_c110921.nc\n",
      "    revision_id:                          $Id: histFileMod.F90 40539 2012-09-...\n",
      "    NCO:                                  4.3.4\n",
      "    version:                              cesm1_1_1_alpha01g\n",
      "    nco_openmp_thread_number:             1\n",
      "    case_title:                           UNSET\n",
      "    hostname:                             tcs\n",
      "    source:                               Community Land Model CLM4.0\n",
      "    title:                                CLM History file information\n",
      "    comment:                              NOTE: None of the variables are wei...\n",
      "    PFT_physiological_constants_dataset:  pft-physiology.c110425.nc\n",
      "    Initial_conditions_dataset:           b.e11.B20TRC5CNBDRD.f09_g16.105.clm...\n",
      "    Conventions:                          CF-1.0\n",
      "****************************************************************************************************\n",
      "****************************************************************************************************\n",
      "This query: {'experiment': 'RCP85', 'component': 'lnd', 'stream': 'clm2.h0', 'variable': 'SOILWATER_10CM'} returned:\n",
      "\n",
      "- 1 unique variable(s)\n",
      "\n",
      "\n",
      "- Number of files: 73\n",
      "\n",
      "\n",
      "- 40 member(s): [1, 2, 3, 4, 5, 6, 7, 8, 9, 10, 11, 12, 13, 14, 15, 16, 17, 18, 19, 20, 21, 22, 23, 24, 25, 26, 27, 28, 29, 30, 31, 32, 33, 34, 35, 101, 102, 103, 104, 105]\n",
      "\n",
      "\n",
      "- 40 case(s)\n",
      "\n",
      "\n"
     ]
    },
    {
     "data": {
      "application/vnd.jupyter.widget-view+json": {
       "model_id": "faa18c62b7d1495da90ea346d0ab2961",
       "version_major": 2,
       "version_minor": 0
      },
      "text/plain": [
       "HBox(children=(IntProgress(value=0, description='dataset', max=1, style=ProgressStyle(description_width='initi…"
      ]
     },
     "metadata": {},
     "output_type": "display_data"
    },
    {
     "data": {
      "application/vnd.jupyter.widget-view+json": {
       "model_id": "a7fe6fe0c723424cb0975f3eb2bbe0e0",
       "version_major": 2,
       "version_minor": 0
      },
      "text/plain": [
       "HBox(children=(IntProgress(value=0, description='member', max=40, style=ProgressStyle(description_width='initi…"
      ]
     },
     "metadata": {},
     "output_type": "display_data"
    },
    {
     "name": "stdout",
     "output_type": "stream",
     "text": [
      "\n",
      "+++++++++++++++++++++++++++++++++++\n",
      "Variable name: SOILWATER_10CM\n",
      "Chunk shape: (4, 480, 96, 144)\n",
      "Dataset shape: (40, 1140, 192, 288)\n",
      "Chunk size: 106.17 MB\n",
      "Dataset size: 10.95 GB\n",
      "+++++++++++++++++++++++++++++++++++\n",
      "<xarray.Dataset>\n",
      "Dimensions:         (hist_interval: 2, lat: 192, levgrnd: 15, levlak: 10, lon: 288, member_id: 40, time: 1140)\n",
      "Coordinates:\n",
      "  * lat             (lat) float32 -90.0 -89.057594 -88.11518 ... 89.057594 90.0\n",
      "  * levgrnd         (levgrnd) float32 0.007100635 0.027925 ... 21.32647 35.17762\n",
      "  * levlak          (levlak) float32 0.05 0.6 2.1 4.6 ... 25.6 34.325 44.775\n",
      "  * lon             (lon) float32 0.0 1.25 2.5 3.75 ... 356.25 357.5 358.75\n",
      "  * time            (time) object 2006-02-01 00:00:00 ... 2101-01-01 00:00:00\n",
      "  * member_id       (member_id) int64 1 2 3 4 5 6 7 ... 35 101 102 103 104 105\n",
      "Dimensions without coordinates: hist_interval\n",
      "Data variables:\n",
      "    BSW             (member_id, levgrnd, lat, lon) float32 dask.array<shape=(40, 15, 192, 288), chunksize=(4, 3, 96, 144)>\n",
      "    DZSOI           (member_id, levgrnd, lat, lon) float32 dask.array<shape=(40, 15, 192, 288), chunksize=(4, 3, 96, 144)>\n",
      "    HKSAT           (member_id, levgrnd, lat, lon) float32 dask.array<shape=(40, 15, 192, 288), chunksize=(4, 3, 96, 144)>\n",
      "    SUCSAT          (member_id, levgrnd, lat, lon) float32 dask.array<shape=(40, 15, 192, 288), chunksize=(4, 3, 96, 144)>\n",
      "    WATSAT          (member_id, levgrnd, lat, lon) float32 dask.array<shape=(40, 15, 192, 288), chunksize=(4, 3, 96, 144)>\n",
      "    ZSOI            (member_id, levgrnd, lat, lon) float32 dask.array<shape=(40, 15, 192, 288), chunksize=(4, 3, 96, 144)>\n",
      "    area            (member_id, lat, lon) float32 dask.array<shape=(40, 192, 288), chunksize=(4, 96, 144)>\n",
      "    landfrac        (member_id, lat, lon) float32 dask.array<shape=(40, 192, 288), chunksize=(4, 96, 144)>\n",
      "    landmask        (member_id, lat, lon) float64 dask.array<shape=(40, 192, 288), chunksize=(4, 96, 144)>\n",
      "    pftmask         (member_id, lat, lon) float64 dask.array<shape=(40, 192, 288), chunksize=(4, 96, 144)>\n",
      "    topo            (member_id, lat, lon) float32 dask.array<shape=(40, 192, 288), chunksize=(4, 96, 144)>\n",
      "    SOILWATER_10CM  (member_id, time, lat, lon) float32 dask.array<shape=(40, 1140, 192, 288), chunksize=(4, 480, 96, 144)>\n",
      "    date_written    (member_id, time) |S8 dask.array<shape=(40, 1140), chunksize=(4, 480)>\n",
      "    mcdate          (member_id, time) int32 dask.array<shape=(40, 1140), chunksize=(4, 480)>\n",
      "    mcsec           (member_id, time) int32 dask.array<shape=(40, 1140), chunksize=(4, 480)>\n",
      "    mdcur           (member_id, time) int32 dask.array<shape=(40, 1140), chunksize=(4, 480)>\n",
      "    mscur           (member_id, time) int32 dask.array<shape=(40, 1140), chunksize=(4, 480)>\n",
      "    nstep           (member_id, time) int32 dask.array<shape=(40, 1140), chunksize=(4, 480)>\n",
      "    time_bounds     (member_id, time, hist_interval) object dask.array<shape=(40, 1140, 2), chunksize=(4, 480, 2)>\n",
      "    time_written    (member_id, time) |S8 dask.array<shape=(40, 1140), chunksize=(4, 480)>\n",
      "Attributes:\n",
      "    history:                              2019-06-25 17:37:35.693013 xarray.o...\n",
      "    username:                             mudryk\n",
      "    Surface_dataset:                      surfdata_0.9x1.25_simyr1850_c110921.nc\n",
      "    revision_id:                          $Id: histFileMod.F90 40539 2012-09-...\n",
      "    NCO:                                  4.3.4\n",
      "    version:                              cesm1_1_1_alpha01g\n",
      "    nco_openmp_thread_number:             1\n",
      "    case_title:                           UNSET\n",
      "    hostname:                             tcs\n",
      "    source:                               Community Land Model CLM4.0\n",
      "    title:                                CLM History file information\n",
      "    comment:                              NOTE: None of the variables are wei...\n",
      "    PFT_physiological_constants_dataset:  pft-physiology.c110425.nc\n",
      "    Initial_conditions_dataset:           b.e11.B20TRC5CNBDRD.f09_g16.105.clm...\n",
      "    Conventions:                          CF-1.0\n",
      "****************************************************************************************************\n",
      "****************************************************************************************************\n",
      "This query: {'experiment': 'RCP85', 'component': 'lnd', 'stream': 'clm2.h0', 'variable': 'SOILLIQ'} returned:\n",
      "\n",
      "- 1 unique variable(s)\n",
      "\n",
      "\n",
      "- Number of files: 73\n",
      "\n",
      "\n",
      "- 40 member(s): [1, 2, 3, 4, 5, 6, 7, 8, 9, 10, 11, 12, 13, 14, 15, 16, 17, 18, 19, 20, 21, 22, 23, 24, 25, 26, 27, 28, 29, 30, 31, 32, 33, 34, 35, 101, 102, 103, 104, 105]\n",
      "\n",
      "\n",
      "- 40 case(s)\n",
      "\n",
      "\n"
     ]
    },
    {
     "data": {
      "application/vnd.jupyter.widget-view+json": {
       "model_id": "6df8d43d5c7f43558462c418f02cc85c",
       "version_major": 2,
       "version_minor": 0
      },
      "text/plain": [
       "HBox(children=(IntProgress(value=0, description='dataset', max=1, style=ProgressStyle(description_width='initi…"
      ]
     },
     "metadata": {},
     "output_type": "display_data"
    },
    {
     "data": {
      "application/vnd.jupyter.widget-view+json": {
       "model_id": "14b1ff4d24c64bafa158ba1a150968e8",
       "version_major": 2,
       "version_minor": 0
      },
      "text/plain": [
       "HBox(children=(IntProgress(value=0, description='member', max=40, style=ProgressStyle(description_width='initi…"
      ]
     },
     "metadata": {},
     "output_type": "display_data"
    },
    {
     "name": "stdout",
     "output_type": "stream",
     "text": [
      "\n",
      "+++++++++++++++++++++++++++++++++++\n",
      "Variable name: SOILLIQ\n",
      "Chunk shape: (4, 480, 3, 96, 144)\n",
      "Dataset shape: (40, 1140, 15, 192, 288)\n",
      "Chunk size: 318.50 MB\n",
      "Dataset size: 152.15 GB\n",
      "+++++++++++++++++++++++++++++++++++\n",
      "<xarray.Dataset>\n",
      "Dimensions:       (hist_interval: 2, lat: 192, levgrnd: 15, levlak: 10, lon: 288, member_id: 40, time: 1140)\n",
      "Coordinates:\n",
      "  * lat           (lat) float32 -90.0 -89.057594 -88.11518 ... 89.057594 90.0\n",
      "  * levgrnd       (levgrnd) float32 0.007100635 0.027925 ... 21.32647 35.17762\n",
      "  * levlak        (levlak) float32 0.05 0.6 2.1 4.6 ... 18.6 25.6 34.325 44.775\n",
      "  * lon           (lon) float32 0.0 1.25 2.5 3.75 ... 355.0 356.25 357.5 358.75\n",
      "  * time          (time) object 2006-02-01 00:00:00 ... 2101-01-01 00:00:00\n",
      "  * member_id     (member_id) int64 1 2 3 4 5 6 7 ... 34 35 101 102 103 104 105\n",
      "Dimensions without coordinates: hist_interval\n",
      "Data variables:\n",
      "    BSW           (member_id, levgrnd, lat, lon) float32 dask.array<shape=(40, 15, 192, 288), chunksize=(4, 3, 96, 144)>\n",
      "    DZSOI         (member_id, levgrnd, lat, lon) float32 dask.array<shape=(40, 15, 192, 288), chunksize=(4, 3, 96, 144)>\n",
      "    HKSAT         (member_id, levgrnd, lat, lon) float32 dask.array<shape=(40, 15, 192, 288), chunksize=(4, 3, 96, 144)>\n",
      "    SUCSAT        (member_id, levgrnd, lat, lon) float32 dask.array<shape=(40, 15, 192, 288), chunksize=(4, 3, 96, 144)>\n",
      "    WATSAT        (member_id, levgrnd, lat, lon) float32 dask.array<shape=(40, 15, 192, 288), chunksize=(4, 3, 96, 144)>\n",
      "    ZSOI          (member_id, levgrnd, lat, lon) float32 dask.array<shape=(40, 15, 192, 288), chunksize=(4, 3, 96, 144)>\n",
      "    area          (member_id, lat, lon) float32 dask.array<shape=(40, 192, 288), chunksize=(4, 96, 144)>\n",
      "    landfrac      (member_id, lat, lon) float32 dask.array<shape=(40, 192, 288), chunksize=(4, 96, 144)>\n",
      "    landmask      (member_id, lat, lon) float64 dask.array<shape=(40, 192, 288), chunksize=(4, 96, 144)>\n",
      "    pftmask       (member_id, lat, lon) float64 dask.array<shape=(40, 192, 288), chunksize=(4, 96, 144)>\n",
      "    topo          (member_id, lat, lon) float32 dask.array<shape=(40, 192, 288), chunksize=(4, 96, 144)>\n",
      "    SOILLIQ       (member_id, time, levgrnd, lat, lon) float32 dask.array<shape=(40, 1140, 15, 192, 288), chunksize=(4, 480, 3, 96, 144)>\n",
      "    date_written  (member_id, time) |S8 dask.array<shape=(40, 1140), chunksize=(4, 480)>\n",
      "    mcdate        (member_id, time) int32 dask.array<shape=(40, 1140), chunksize=(4, 480)>\n",
      "    mcsec         (member_id, time) int32 dask.array<shape=(40, 1140), chunksize=(4, 480)>\n",
      "    mdcur         (member_id, time) int32 dask.array<shape=(40, 1140), chunksize=(4, 480)>\n",
      "    mscur         (member_id, time) int32 dask.array<shape=(40, 1140), chunksize=(4, 480)>\n",
      "    nstep         (member_id, time) int32 dask.array<shape=(40, 1140), chunksize=(4, 480)>\n",
      "    time_bounds   (member_id, time, hist_interval) object dask.array<shape=(40, 1140, 2), chunksize=(4, 480, 2)>\n",
      "    time_written  (member_id, time) |S8 dask.array<shape=(40, 1140), chunksize=(4, 480)>\n",
      "Attributes:\n",
      "    history:                              2019-06-25 17:37:47.794253 xarray.o...\n",
      "    username:                             mudryk\n",
      "    Surface_dataset:                      surfdata_0.9x1.25_simyr1850_c110921.nc\n",
      "    revision_id:                          $Id: histFileMod.F90 40539 2012-09-...\n",
      "    NCO:                                  4.3.4\n",
      "    version:                              cesm1_1_1_alpha01g\n",
      "    nco_openmp_thread_number:             1\n",
      "    case_title:                           UNSET\n",
      "    hostname:                             tcs\n",
      "    source:                               Community Land Model CLM4.0\n",
      "    title:                                CLM History file information\n",
      "    comment:                              NOTE: None of the variables are wei...\n",
      "    PFT_physiological_constants_dataset:  pft-physiology.c110425.nc\n",
      "    Initial_conditions_dataset:           b.e11.B20TRC5CNBDRD.f09_g16.105.clm...\n",
      "    Conventions:                          CF-1.0\n",
      "****************************************************************************************************\n"
     ]
    }
   ],
   "source": [
    "for exp in experiment_list:\n",
    "    for cmp in component_list:\n",
    "        for stm, stm_specs in specs[cmp].items():\n",
    "            frequency = stm_specs['frequency']\n",
    "            var_cats = stm_specs['variable_category']\n",
    "            for var_cat, var_cat_values in var_cats.items():\n",
    "                variables = var_cat_values['variables']\n",
    "                chunks = var_cat_values['chunks']\n",
    "                xr_open = dict(chunks=chunks, decode_times=True, decode_coords=False)\n",
    "                for variable in variables:\n",
    "                    query = dict(experiment=exp, component=cmp, stream=stm, variable=variable)\n",
    "                    cat = col.search(**query)\n",
    "                    results = cat.query_results\n",
    "                    if not results.empty:\n",
    "                        print(\"*\"*100)\n",
    "                        print_query_info(results)\n",
    "                        try:\n",
    "                            ds = read_data(cat, xr_open)\n",
    "                            print(\"+\"*35)\n",
    "                            if variable in {'aice_nh', 'aice_sh'}:\n",
    "                                variable = 'aice'\n",
    "                            elif variable in {'hi_nh', 'hi_sh'}:\n",
    "                                variable = 'hi'\n",
    "                            print_ds_info(ds, variable)\n",
    "                            print(\"+\"*35)\n",
    "                            print(ds)\n",
    "                            print(\"*\"*100)\n",
    "                        except Exception as e:\n",
    "                            raise(e)\n",
    "                    else:\n",
    "                        print(f\"No results found for query={query}\")\n",
    "                        continue"
   ]
  },
  {
   "cell_type": "code",
   "execution_count": null,
   "metadata": {},
   "outputs": [],
   "source": []
  }
 ],
 "metadata": {
  "kernelspec": {
   "display_name": "Python 3",
   "language": "python",
   "name": "python3"
  },
  "language_info": {
   "codemirror_mode": {
    "name": "ipython",
    "version": 3
   },
   "file_extension": ".py",
   "mimetype": "text/x-python",
   "name": "python",
   "nbconvert_exporter": "python",
   "pygments_lexer": "ipython3",
   "version": "3.7.3"
  }
 },
 "nbformat": 4,
 "nbformat_minor": 2
}
