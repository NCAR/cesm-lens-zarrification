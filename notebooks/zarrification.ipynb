{
 "cells": [
  {
   "cell_type": "markdown",
   "metadata": {},
   "source": [
    "# zarr-ification of CESM-LE for AWS"
   ]
  },
  {
   "cell_type": "code",
   "execution_count": 1,
   "metadata": {},
   "outputs": [],
   "source": [
    "import warnings\n",
    "warnings.filterwarnings(\"ignore\")\n",
    "import os\n",
    "import shutil\n",
    "\n",
    "import yaml\n",
    "\n",
    "import xarray as xr\n",
    "\n",
    "import intake\n",
    "from distributed.utils import format_bytes\n",
    "from operator import mul\n",
    "from functools import reduce"
   ]
  },
  {
   "cell_type": "markdown",
   "metadata": {},
   "source": [
    "## Spinup cluster"
   ]
  },
  {
   "cell_type": "code",
   "execution_count": 2,
   "metadata": {},
   "outputs": [
    {
     "data": {
      "application/vnd.jupyter.widget-view+json": {
       "model_id": "08093bba376b44f194e8dbc08f869c69",
       "version_major": 2,
       "version_minor": 0
      },
      "text/plain": [
       "VBox(children=(HTML(value='<h2>NCARCluster</h2>'), HBox(children=(HTML(value='\\n<div>\\n  <style scoped>\\n    .…"
      ]
     },
     "metadata": {},
     "output_type": "display_data"
    }
   ],
   "source": [
    "from ncar_jobqueue import NCARCluster\n",
    "cluster = NCARCluster(memory=\"50GB\")\n",
    "cluster"
   ]
  },
  {
   "cell_type": "code",
   "execution_count": 15,
   "metadata": {},
   "outputs": [
    {
     "data": {
      "text/plain": [
       "<distributed.deploy.adaptive.Adaptive at 0x2b17f8f65f28>"
      ]
     },
     "execution_count": 15,
     "metadata": {},
     "output_type": "execute_result"
    }
   ],
   "source": [
    "cluster.adapt(minimum=0, maximum=40, wait_count=60)"
   ]
  },
  {
   "cell_type": "code",
   "execution_count": 4,
   "metadata": {},
   "outputs": [
    {
     "data": {
      "text/html": [
       "<table style=\"border: 2px solid white;\">\n",
       "<tr>\n",
       "<td style=\"vertical-align: top; border: 0px solid white\">\n",
       "<h3>Client</h3>\n",
       "<ul>\n",
       "  <li><b>Scheduler: </b>tcp://10.12.205.200:33098\n",
       "  <li><b>Dashboard: </b><a href='https://jupyterhub.ucar.edu/ch/user/abanihi/proxy/33876/status' target='_blank'>https://jupyterhub.ucar.edu/ch/user/abanihi/proxy/33876/status</a>\n",
       "</ul>\n",
       "</td>\n",
       "<td style=\"vertical-align: top; border: 0px solid white\">\n",
       "<h3>Cluster</h3>\n",
       "<ul>\n",
       "  <li><b>Workers: </b>30</li>\n",
       "  <li><b>Cores: </b>30</li>\n",
       "  <li><b>Memory: </b>1.50 TB</li>\n",
       "</ul>\n",
       "</td>\n",
       "</tr>\n",
       "</table>"
      ],
      "text/plain": [
       "<Client: scheduler='tcp://10.12.205.200:33098' processes=30 cores=30>"
      ]
     },
     "execution_count": 4,
     "metadata": {},
     "output_type": "execute_result"
    }
   ],
   "source": [
    "from dask.distributed import Client\n",
    "client = Client(cluster) # Connect this local process to remote workers\n",
    "client"
   ]
  },
  {
   "cell_type": "markdown",
   "metadata": {},
   "source": [
    "## Connect to intake-esm database"
   ]
  },
  {
   "cell_type": "code",
   "execution_count": 5,
   "metadata": {},
   "outputs": [
    {
     "data": {
      "text/html": [
       "<div>\n",
       "<style scoped>\n",
       "    .dataframe tbody tr th:only-of-type {\n",
       "        vertical-align: middle;\n",
       "    }\n",
       "\n",
       "    .dataframe tbody tr th {\n",
       "        vertical-align: top;\n",
       "    }\n",
       "\n",
       "    .dataframe thead th {\n",
       "        text-align: right;\n",
       "    }\n",
       "</style>\n",
       "<table border=\"1\" class=\"dataframe\">\n",
       "  <thead>\n",
       "    <tr style=\"text-align: right;\">\n",
       "      <th></th>\n",
       "      <th>resource</th>\n",
       "      <th>resource_type</th>\n",
       "      <th>direct_access</th>\n",
       "      <th>experiment</th>\n",
       "      <th>case</th>\n",
       "      <th>component</th>\n",
       "      <th>stream</th>\n",
       "      <th>variable</th>\n",
       "      <th>date_range</th>\n",
       "      <th>member_id</th>\n",
       "      <th>file_fullpath</th>\n",
       "      <th>file_basename</th>\n",
       "      <th>file_dirname</th>\n",
       "      <th>ctrl_branch_year</th>\n",
       "      <th>year_offset</th>\n",
       "      <th>sequence_order</th>\n",
       "      <th>has_ocean_bgc</th>\n",
       "      <th>grid</th>\n",
       "    </tr>\n",
       "  </thead>\n",
       "  <tbody>\n",
       "    <tr>\n",
       "      <th>0</th>\n",
       "      <td>CTRL:GLADE:posix:/glade/collections/cdg/data/c...</td>\n",
       "      <td>posix</td>\n",
       "      <td>True</td>\n",
       "      <td>CTRL</td>\n",
       "      <td>b.e11.B1850C5CN.f09_g16.005</td>\n",
       "      <td>atm</td>\n",
       "      <td>cam.h1</td>\n",
       "      <td>T200</td>\n",
       "      <td>18000101-18991231</td>\n",
       "      <td>0</td>\n",
       "      <td>/glade/collections/cdg/data/cesmLE/CESM-CAM5-B...</td>\n",
       "      <td>b.e11.B1850C5CN.f09_g16.005.cam.h1.T200.180001...</td>\n",
       "      <td>/glade/collections/cdg/data/cesmLE/CESM-CAM5-B...</td>\n",
       "      <td>NaN</td>\n",
       "      <td>1448.0</td>\n",
       "      <td>0</td>\n",
       "      <td>True</td>\n",
       "      <td>NaN</td>\n",
       "    </tr>\n",
       "    <tr>\n",
       "      <th>1</th>\n",
       "      <td>CTRL:GLADE:posix:/glade/collections/cdg/data/c...</td>\n",
       "      <td>posix</td>\n",
       "      <td>True</td>\n",
       "      <td>CTRL</td>\n",
       "      <td>b.e11.B1850C5CN.f09_g16.005</td>\n",
       "      <td>atm</td>\n",
       "      <td>cam.h1</td>\n",
       "      <td>T200</td>\n",
       "      <td>08000101-08991231</td>\n",
       "      <td>0</td>\n",
       "      <td>/glade/collections/cdg/data/cesmLE/CESM-CAM5-B...</td>\n",
       "      <td>b.e11.B1850C5CN.f09_g16.005.cam.h1.T200.080001...</td>\n",
       "      <td>/glade/collections/cdg/data/cesmLE/CESM-CAM5-B...</td>\n",
       "      <td>NaN</td>\n",
       "      <td>1448.0</td>\n",
       "      <td>0</td>\n",
       "      <td>True</td>\n",
       "      <td>NaN</td>\n",
       "    </tr>\n",
       "    <tr>\n",
       "      <th>2</th>\n",
       "      <td>CTRL:GLADE:posix:/glade/collections/cdg/data/c...</td>\n",
       "      <td>posix</td>\n",
       "      <td>True</td>\n",
       "      <td>CTRL</td>\n",
       "      <td>b.e11.B1850C5CN.f09_g16.005</td>\n",
       "      <td>atm</td>\n",
       "      <td>cam.h1</td>\n",
       "      <td>T200</td>\n",
       "      <td>04020101-04991231</td>\n",
       "      <td>0</td>\n",
       "      <td>/glade/collections/cdg/data/cesmLE/CESM-CAM5-B...</td>\n",
       "      <td>b.e11.B1850C5CN.f09_g16.005.cam.h1.T200.040201...</td>\n",
       "      <td>/glade/collections/cdg/data/cesmLE/CESM-CAM5-B...</td>\n",
       "      <td>NaN</td>\n",
       "      <td>1448.0</td>\n",
       "      <td>0</td>\n",
       "      <td>True</td>\n",
       "      <td>NaN</td>\n",
       "    </tr>\n",
       "    <tr>\n",
       "      <th>3</th>\n",
       "      <td>CTRL:GLADE:posix:/glade/collections/cdg/data/c...</td>\n",
       "      <td>posix</td>\n",
       "      <td>True</td>\n",
       "      <td>CTRL</td>\n",
       "      <td>b.e11.B1850C5CN.f09_g16.005</td>\n",
       "      <td>atm</td>\n",
       "      <td>cam.h1</td>\n",
       "      <td>T200</td>\n",
       "      <td>10000101-10991231</td>\n",
       "      <td>0</td>\n",
       "      <td>/glade/collections/cdg/data/cesmLE/CESM-CAM5-B...</td>\n",
       "      <td>b.e11.B1850C5CN.f09_g16.005.cam.h1.T200.100001...</td>\n",
       "      <td>/glade/collections/cdg/data/cesmLE/CESM-CAM5-B...</td>\n",
       "      <td>NaN</td>\n",
       "      <td>1448.0</td>\n",
       "      <td>0</td>\n",
       "      <td>True</td>\n",
       "      <td>NaN</td>\n",
       "    </tr>\n",
       "    <tr>\n",
       "      <th>4</th>\n",
       "      <td>CTRL:GLADE:posix:/glade/collections/cdg/data/c...</td>\n",
       "      <td>posix</td>\n",
       "      <td>True</td>\n",
       "      <td>CTRL</td>\n",
       "      <td>b.e11.B1850C5CN.f09_g16.005</td>\n",
       "      <td>atm</td>\n",
       "      <td>cam.h1</td>\n",
       "      <td>T200</td>\n",
       "      <td>11000101-11991231</td>\n",
       "      <td>0</td>\n",
       "      <td>/glade/collections/cdg/data/cesmLE/CESM-CAM5-B...</td>\n",
       "      <td>b.e11.B1850C5CN.f09_g16.005.cam.h1.T200.110001...</td>\n",
       "      <td>/glade/collections/cdg/data/cesmLE/CESM-CAM5-B...</td>\n",
       "      <td>NaN</td>\n",
       "      <td>1448.0</td>\n",
       "      <td>0</td>\n",
       "      <td>True</td>\n",
       "      <td>NaN</td>\n",
       "    </tr>\n",
       "  </tbody>\n",
       "</table>\n",
       "</div>"
      ],
      "text/plain": [
       "                                            resource resource_type  \\\n",
       "0  CTRL:GLADE:posix:/glade/collections/cdg/data/c...         posix   \n",
       "1  CTRL:GLADE:posix:/glade/collections/cdg/data/c...         posix   \n",
       "2  CTRL:GLADE:posix:/glade/collections/cdg/data/c...         posix   \n",
       "3  CTRL:GLADE:posix:/glade/collections/cdg/data/c...         posix   \n",
       "4  CTRL:GLADE:posix:/glade/collections/cdg/data/c...         posix   \n",
       "\n",
       "   direct_access experiment                         case component  stream  \\\n",
       "0           True       CTRL  b.e11.B1850C5CN.f09_g16.005       atm  cam.h1   \n",
       "1           True       CTRL  b.e11.B1850C5CN.f09_g16.005       atm  cam.h1   \n",
       "2           True       CTRL  b.e11.B1850C5CN.f09_g16.005       atm  cam.h1   \n",
       "3           True       CTRL  b.e11.B1850C5CN.f09_g16.005       atm  cam.h1   \n",
       "4           True       CTRL  b.e11.B1850C5CN.f09_g16.005       atm  cam.h1   \n",
       "\n",
       "  variable         date_range  member_id  \\\n",
       "0     T200  18000101-18991231          0   \n",
       "1     T200  08000101-08991231          0   \n",
       "2     T200  04020101-04991231          0   \n",
       "3     T200  10000101-10991231          0   \n",
       "4     T200  11000101-11991231          0   \n",
       "\n",
       "                                       file_fullpath  \\\n",
       "0  /glade/collections/cdg/data/cesmLE/CESM-CAM5-B...   \n",
       "1  /glade/collections/cdg/data/cesmLE/CESM-CAM5-B...   \n",
       "2  /glade/collections/cdg/data/cesmLE/CESM-CAM5-B...   \n",
       "3  /glade/collections/cdg/data/cesmLE/CESM-CAM5-B...   \n",
       "4  /glade/collections/cdg/data/cesmLE/CESM-CAM5-B...   \n",
       "\n",
       "                                       file_basename  \\\n",
       "0  b.e11.B1850C5CN.f09_g16.005.cam.h1.T200.180001...   \n",
       "1  b.e11.B1850C5CN.f09_g16.005.cam.h1.T200.080001...   \n",
       "2  b.e11.B1850C5CN.f09_g16.005.cam.h1.T200.040201...   \n",
       "3  b.e11.B1850C5CN.f09_g16.005.cam.h1.T200.100001...   \n",
       "4  b.e11.B1850C5CN.f09_g16.005.cam.h1.T200.110001...   \n",
       "\n",
       "                                        file_dirname  ctrl_branch_year  \\\n",
       "0  /glade/collections/cdg/data/cesmLE/CESM-CAM5-B...               NaN   \n",
       "1  /glade/collections/cdg/data/cesmLE/CESM-CAM5-B...               NaN   \n",
       "2  /glade/collections/cdg/data/cesmLE/CESM-CAM5-B...               NaN   \n",
       "3  /glade/collections/cdg/data/cesmLE/CESM-CAM5-B...               NaN   \n",
       "4  /glade/collections/cdg/data/cesmLE/CESM-CAM5-B...               NaN   \n",
       "\n",
       "   year_offset  sequence_order  has_ocean_bgc grid  \n",
       "0       1448.0               0           True  NaN  \n",
       "1       1448.0               0           True  NaN  \n",
       "2       1448.0               0           True  NaN  \n",
       "3       1448.0               0           True  NaN  \n",
       "4       1448.0               0           True  NaN  "
      ]
     },
     "execution_count": 5,
     "metadata": {},
     "output_type": "execute_result"
    }
   ],
   "source": [
    "col = intake.open_esm_metadatastore(collection_name='CESM1-LE')\n",
    "col.df.head()"
   ]
  },
  {
   "cell_type": "markdown",
   "metadata": {},
   "source": [
    "## Helper functions"
   ]
  },
  {
   "cell_type": "code",
   "execution_count": 6,
   "metadata": {},
   "outputs": [],
   "source": [
    "def collection_summary(col):\n",
    "    df = col.df\n",
    "    print(\"There are:\\n\")\n",
    "    print(f\"\\t1) {df.experiment.nunique()} experiments: \\n\\n\\t\\t{df.experiment.unique()}\\n\")\n",
    "    print(f\"\\t2) {df.case.nunique()} cases: \\n\\n\\t\\t{df.case.unique()[:5]} etc...\\n\")\n",
    "    print(f\"\\t3) {df.component.nunique()} components: \\n\\n\\t\\t{df.component.unique()}\\n\")\n",
    "    print(f\"\\t4) {df.stream.nunique()} streams: \\n\\n\\t\\t{df.stream.unique()}\\n\")\n",
    "    print(f\"\\t5) {df.variable.nunique()} variables: \\n\\n\\t\\t{df.variable.unique()[:10]} etc...\\n\")\n",
    "    "
   ]
  },
  {
   "cell_type": "code",
   "execution_count": 7,
   "metadata": {},
   "outputs": [],
   "source": [
    "def print_query_info(query_results):\n",
    "    variables = sorted(query_results.variable.unique().tolist())\n",
    "    files = sorted(query_results.file_fullpath.unique().tolist())\n",
    "    date_ranges = sorted(query_results.date_range.unique())\n",
    "    cases = sorted(query_results.case.unique())\n",
    "    members = sorted(query_results.member_id.unique())\n",
    "    print(f\"This query: {query} returned:\\n\\n- {len(variables)} unique variable(s)\\n\\n\")\n",
    "    print(f\"- Number of files: {len(files)}\\n\\n\")\n",
    "    #print(f\"- {len(members)} member(s): {members}\\n\\n\")\n",
    "    #print(f\"Date ranges: {date_ranges}\\n\\n\")\n",
    "    #print(f\"- {len(cases)} case(s)\\n\\n\")\n",
    "    "
   ]
  },
  {
   "cell_type": "code",
   "execution_count": 8,
   "metadata": {},
   "outputs": [],
   "source": [
    "def zarr_store(exp, cmp, frequency, var, write=False, dirout='/glade/scratch/abanihi/lens-aws'):\n",
    "    \"\"\" Create zarr store name/path \"\"\"\n",
    "    path = f'{dirout}/cesmLE-{exp}-{cmp}-{frequency}-{var}.zarr'    \n",
    "    if write and os.path.exists(path):\n",
    "        shutil.rmtree(path)\n",
    "    print(path)\n",
    "    return path     "
   ]
  },
  {
   "cell_type": "code",
   "execution_count": 9,
   "metadata": {},
   "outputs": [],
   "source": [
    "def read_data(cat, xr_open, member_chunks):\n",
    "    dd = cat.to_xarray(**xr_open)\n",
    "    _, ds = dd.popitem()\n",
    "    return ds.chunk(member_chunks)\n",
    "\n",
    "def print_ds_info(ds, var):\n",
    "    dt = ds[var].dtype\n",
    "    itemsize = dt.itemsize\n",
    "    chunk_size = ds[var].data.chunksize\n",
    "    size = format_bytes(ds.nbytes)\n",
    "    _bytes = reduce(mul, chunk_size) * itemsize\n",
    "    chunk_size_bytes = format_bytes(_bytes)\n",
    "    \n",
    "    print(f\"Variable name: {var}\")\n",
    "    print(f\"Chunk shape: {chunk_size}\")\n",
    "    print(f\"Dataset shape: {ds[var].shape}\")\n",
    "    print(f\"Chunk size: {chunk_size_bytes}\")\n",
    "    print(f\"Dataset size: {size}\")\n",
    "    #print(f\"Chunks: {ds[var].chunks}\")"
   ]
  },
  {
   "cell_type": "code",
   "execution_count": 10,
   "metadata": {},
   "outputs": [
    {
     "name": "stdout",
     "output_type": "stream",
     "text": [
      "There are:\n",
      "\n",
      "\t1) 6 experiments: \n",
      "\n",
      "\t\t['CTRL' 'CTRL-AMIP' 'CTRL-SLAB-OCN' '20C' '20C-OIC' 'RCP85']\n",
      "\n",
      "\t2) 93 cases: \n",
      "\n",
      "\t\t['b.e11.B1850C5CN.f09_g16.005' 'f.e11.F1850C5CN.f09_f09.001'\n",
      " 'e.e11.E1850C5CN.f09_g16.001' 'b.e11.B20TRC5CNBDRD.f09_g16.105'\n",
      " 'b.e11.B20TRC5CNBDRD.f09_g16.104'] etc...\n",
      "\n",
      "\t3) 5 components: \n",
      "\n",
      "\t\t['atm' 'ocn' 'lnd' 'rof' 'ice']\n",
      "\n",
      "\t4) 10 streams: \n",
      "\n",
      "\t\t['cam.h1' 'cam.h0' 'pop.h.nday1' 'pop.h' 'clm2.h1' 'clm2.h0' 'rtm.h1'\n",
      " 'rtm.h0' 'cice.h1' 'cice.h']\n",
      "\n",
      "\t5) 985 variables: \n",
      "\n",
      "\t\t['T200' 'Q200' 'FLNSC' 'Q500' 'PRECL' 'QBOT' 'TREFHTMN' 'FSNTOA' 'TAUX'\n",
      " 'TAUY'] etc...\n",
      "\n"
     ]
    }
   ],
   "source": [
    "collection_summary(col)"
   ]
  },
  {
   "cell_type": "markdown",
   "metadata": {},
   "source": [
    "## Load variable/chunking specs"
   ]
  },
  {
   "cell_type": "code",
   "execution_count": 11,
   "metadata": {},
   "outputs": [
    {
     "data": {
      "text/plain": [
       "{'ocn': {'pop.h': {'variable_category': {'2D': {'variables': ['SST', 'SSH'],\n",
       "     'chunks': {'time': 12, 'member_id': 40}},\n",
       "    '3D': {'variables': ['SALT'],\n",
       "     'chunks': {'time': 12, 'z_t': 1, 'member_id': 40}}},\n",
       "   'frequency': 'monthly'}},\n",
       " 'ice': {'cice.h': {'variable_category': {'NH': {'variables': ['aice_nh',\n",
       "      'hi_nh'],\n",
       "     'chunks': {'time': 12, 'member_id': 40}},\n",
       "    'SH': {'variables': ['aice_sh', 'hi_sh'],\n",
       "     'chunks': {'time': 12, 'member_id': 40}}},\n",
       "   'frequency': 'monthly'}},\n",
       " 'atm': {'cam.h0': {'variable_category': {'3D': {'variables': ['T',\n",
       "      'U',\n",
       "      'V',\n",
       "      'Q',\n",
       "      'Z3'],\n",
       "     'chunks': {'time': 12, 'lev': 1, 'member_id': 40}},\n",
       "    '2D': {'variables': ['FLNS',\n",
       "      'FLNSC',\n",
       "      'FLUT',\n",
       "      'FSNS',\n",
       "      'FSNSC',\n",
       "      'FSNTOA',\n",
       "      'ICEFRAC',\n",
       "      'LHFLX',\n",
       "      'PRECC',\n",
       "      'PRECL',\n",
       "      'PRECSC',\n",
       "      'PRECSL',\n",
       "      'PSL',\n",
       "      'SHFLX',\n",
       "      'TMQ',\n",
       "      'TREFHT',\n",
       "      'TREFHTMN',\n",
       "      'TREFHTMX',\n",
       "      'TS'],\n",
       "     'chunks': {'time': 12, 'member_id': 40}}},\n",
       "   'frequency': 'monthly'}},\n",
       " 'lnd': {'clm2.h0': {'variable_category': {'2D': {'variables': ['FSNO',\n",
       "      'H2OSNO',\n",
       "      'QRUNOFF',\n",
       "      'RAIN',\n",
       "      'SNOW',\n",
       "      'SOILWATER_10CM'],\n",
       "     'chunks': {'time': 12, 'member_id': 40}},\n",
       "    '3D': {'variables': ['SOILLIQ'],\n",
       "     'chunks': {'time': 12, 'levgrnd': 1, 'member_id': 40}}},\n",
       "   'frequency': 'monthly'}}}"
      ]
     },
     "execution_count": 11,
     "metadata": {},
     "output_type": "execute_result"
    }
   ],
   "source": [
    "with open(\"../variables_chunking_spec.yaml\") as f:\n",
    "    specs = yaml.safe_load(f)\n",
    "specs"
   ]
  },
  {
   "cell_type": "markdown",
   "metadata": {},
   "source": [
    "## Process `land` component (realm)"
   ]
  },
  {
   "cell_type": "code",
   "execution_count": 12,
   "metadata": {},
   "outputs": [
    {
     "data": {
      "text/plain": [
       "['RCP85']"
      ]
     },
     "execution_count": 12,
     "metadata": {},
     "output_type": "execute_result"
    }
   ],
   "source": [
    "component_list = ['lnd']\n",
    "\n",
    "experiment_list = ['20C', 'RCP85'][1:]\n",
    "experiment_list"
   ]
  },
  {
   "cell_type": "code",
   "execution_count": 13,
   "metadata": {},
   "outputs": [],
   "source": [
    "def process_data(experiment_list, component_list, specs):\n",
    "    for exp in experiment_list:\n",
    "        print(\"=\"*100)\n",
    "        for cmp in component_list:\n",
    "            specs_ = specs.copy()\n",
    "            for stm, stm_specs in specs_[cmp].items():\n",
    "                frequency = stm_specs['frequency']\n",
    "                var_cats = stm_specs['variable_category']\n",
    "                for var_cat, var_cat_values in var_cats.items():\n",
    "                    variables = var_cat_values['variables']\n",
    "                    chunks = var_cat_values['chunks'].copy()\n",
    "                    member_chunks = {}\n",
    "                    member_chunks['member_id'] = chunks.pop('member_id', 40)\n",
    "                    xr_open = dict(chunks=chunks, decode_times=True, decode_coords=False)\n",
    "                    for variable in variables:\n",
    "                        query = dict(experiment=exp, component=cmp, stream=stm, variable=variable)\n",
    "                        cat = col.search(**query)\n",
    "                        print(\"#\"*100)\n",
    "                        print(f'Query= {query}')\n",
    "                        results = cat.query_results\n",
    "                        if not results.empty:\n",
    "                            #print(\"*\"*100)\n",
    "                            #print_query_info(results)\n",
    "                            try:\n",
    "                                ds = read_data(cat, xr_open, member_chunks)\n",
    "                                if exp == '20C':\n",
    "                                    ds = ds.sel(time=slice(\"1920-02\", None))\n",
    "                                print(\"+\"*35)\n",
    "                                if variable in {'aice_nh', 'aice_sh'}:\n",
    "                                    variable = 'aice'\n",
    "                                elif variable in {'hi_nh', 'hi_sh'}:\n",
    "                                    variable = 'hi'\n",
    "                                print_ds_info(ds, variable)\n",
    "                                print(\"+\"*35)\n",
    "                                print(ds)\n",
    "                                store = zarr_store(exp, cmp, frequency, variable, write=True)\n",
    "                                ds.to_zarr(store, consolidated=True)\n",
    "                                del ds\n",
    "                            except Exception as e:\n",
    "                                raise(e)\n",
    "                        else:\n",
    "                            print(f\"No results found for query={query}\")\n",
    "                            continue\n"
   ]
  },
  {
   "cell_type": "code",
   "execution_count": 14,
   "metadata": {},
   "outputs": [
    {
     "name": "stdout",
     "output_type": "stream",
     "text": [
      "====================================================================================================\n",
      "####################################################################################################\n",
      "Query= {'experiment': 'RCP85', 'component': 'lnd', 'stream': 'clm2.h0', 'variable': 'FSNO'}\n"
     ]
    },
    {
     "data": {
      "application/vnd.jupyter.widget-view+json": {
       "model_id": "f6de2bd324314680bccba31e41df7167",
       "version_major": 2,
       "version_minor": 0
      },
      "text/plain": [
       "HBox(children=(IntProgress(value=0, description='dataset', max=1, style=ProgressStyle(description_width='initi…"
      ]
     },
     "metadata": {},
     "output_type": "display_data"
    },
    {
     "data": {
      "application/vnd.jupyter.widget-view+json": {
       "model_id": "7e5bda0ef7634ca3aa83d8061eb285e3",
       "version_major": 2,
       "version_minor": 0
      },
      "text/plain": [
       "HBox(children=(IntProgress(value=0, description='member', max=40, style=ProgressStyle(description_width='initi…"
      ]
     },
     "metadata": {},
     "output_type": "display_data"
    },
    {
     "name": "stdout",
     "output_type": "stream",
     "text": [
      "\n",
      "+++++++++++++++++++++++++++++++++++\n",
      "Variable name: FSNO\n",
      "Chunk shape: (40, 12, 192, 288)\n",
      "Dataset shape: (40, 1140, 192, 288)\n",
      "Chunk size: 106.17 MB\n",
      "Dataset size: 10.11 GB\n",
      "+++++++++++++++++++++++++++++++++++\n",
      "<xarray.Dataset>\n",
      "Dimensions:       (hist_interval: 2, lat: 192, levgrnd: 15, levlak: 10, lon: 288, member_id: 40, time: 1140)\n",
      "Coordinates:\n",
      "  * lat           (lat) float32 -90.0 -89.057594 -88.11518 ... 89.057594 90.0\n",
      "  * levgrnd       (levgrnd) float32 0.007100635 0.027925 ... 21.32647 35.17762\n",
      "  * levlak        (levlak) float32 0.05 0.6 2.1 4.6 ... 18.6 25.6 34.325 44.775\n",
      "  * lon           (lon) float32 0.0 1.25 2.5 3.75 ... 355.0 356.25 357.5 358.75\n",
      "  * time          (time) object 2006-02-01 00:00:00 ... 2101-01-01 00:00:00\n",
      "  * member_id     (member_id) int64 1 2 3 4 5 6 7 ... 34 35 101 102 103 104 105\n",
      "Dimensions without coordinates: hist_interval\n",
      "Data variables:\n",
      "    BSW           (levgrnd, lat, lon) float32 dask.array<shape=(15, 192, 288), chunksize=(15, 192, 288)>\n",
      "    DZSOI         (levgrnd, lat, lon) float32 dask.array<shape=(15, 192, 288), chunksize=(15, 192, 288)>\n",
      "    HKSAT         (levgrnd, lat, lon) float32 dask.array<shape=(15, 192, 288), chunksize=(15, 192, 288)>\n",
      "    SUCSAT        (levgrnd, lat, lon) float32 dask.array<shape=(15, 192, 288), chunksize=(15, 192, 288)>\n",
      "    WATSAT        (levgrnd, lat, lon) float32 dask.array<shape=(15, 192, 288), chunksize=(15, 192, 288)>\n",
      "    ZSOI          (levgrnd, lat, lon) float32 dask.array<shape=(15, 192, 288), chunksize=(15, 192, 288)>\n",
      "    area          (lat, lon) float32 dask.array<shape=(192, 288), chunksize=(192, 288)>\n",
      "    landfrac      (lat, lon) float32 dask.array<shape=(192, 288), chunksize=(192, 288)>\n",
      "    landmask      (lat, lon) float64 dask.array<shape=(192, 288), chunksize=(192, 288)>\n",
      "    pftmask       (lat, lon) float64 dask.array<shape=(192, 288), chunksize=(192, 288)>\n",
      "    topo          (lat, lon) float32 dask.array<shape=(192, 288), chunksize=(192, 288)>\n",
      "    date_written  (time) |S8 dask.array<shape=(1140,), chunksize=(12,)>\n",
      "    mcdate        (time) int32 dask.array<shape=(1140,), chunksize=(12,)>\n",
      "    mcsec         (time) int32 dask.array<shape=(1140,), chunksize=(12,)>\n",
      "    mdcur         (time) int32 dask.array<shape=(1140,), chunksize=(12,)>\n",
      "    mscur         (time) int32 dask.array<shape=(1140,), chunksize=(12,)>\n",
      "    nstep         (time) int32 dask.array<shape=(1140,), chunksize=(12,)>\n",
      "    time_bounds   (time, hist_interval) object dask.array<shape=(1140, 2), chunksize=(12, 2)>\n",
      "    time_written  (time) |S8 dask.array<shape=(1140,), chunksize=(12,)>\n",
      "    FSNO          (member_id, time, lat, lon) float32 dask.array<shape=(40, 1140, 192, 288), chunksize=(40, 12, 192, 288)>\n",
      "Attributes:\n",
      "    revision_id:                          $Id: histFileMod.F90 40539 2012-09-...\n",
      "    version:                              cesm1_1_1_alpha01g\n",
      "    PFT_physiological_constants_dataset:  pft-physiology.c110425.nc\n",
      "    source:                               Community Land Model CLM4.0\n",
      "    Surface_dataset:                      surfdata_0.9x1.25_simyr1850_c110921.nc\n",
      "    title:                                CLM History file information\n",
      "    history:                              2019-06-26 13:33:54.232414 xarray.o...\n",
      "    NCO:                                  4.3.4\n",
      "    nco_openmp_thread_number:             1\n",
      "    hostname:                             tcs\n",
      "    case_title:                           UNSET\n",
      "    Initial_conditions_dataset:           b.e11.B20TRC5CNBDRD.f09_g16.105.clm...\n",
      "    username:                             mudryk\n",
      "    Conventions:                          CF-1.0\n",
      "    comment:                              NOTE: None of the variables are wei...\n",
      "/glade/scratch/abanihi/lens-aws/cesmLE-RCP85-lnd-monthly-FSNO.zarr\n",
      "####################################################################################################\n",
      "Query= {'experiment': 'RCP85', 'component': 'lnd', 'stream': 'clm2.h0', 'variable': 'H2OSNO'}\n"
     ]
    },
    {
     "data": {
      "application/vnd.jupyter.widget-view+json": {
       "model_id": "1f99f5b5f8844032af380c0de4230914",
       "version_major": 2,
       "version_minor": 0
      },
      "text/plain": [
       "HBox(children=(IntProgress(value=0, description='dataset', max=1, style=ProgressStyle(description_width='initi…"
      ]
     },
     "metadata": {},
     "output_type": "display_data"
    },
    {
     "data": {
      "application/vnd.jupyter.widget-view+json": {
       "model_id": "bea2281f56b942ed9055d5c91316f20e",
       "version_major": 2,
       "version_minor": 0
      },
      "text/plain": [
       "HBox(children=(IntProgress(value=0, description='member', max=40, style=ProgressStyle(description_width='initi…"
      ]
     },
     "metadata": {},
     "output_type": "display_data"
    },
    {
     "name": "stdout",
     "output_type": "stream",
     "text": [
      "\n",
      "+++++++++++++++++++++++++++++++++++\n",
      "Variable name: H2OSNO\n",
      "Chunk shape: (40, 12, 192, 288)\n",
      "Dataset shape: (40, 1140, 192, 288)\n",
      "Chunk size: 106.17 MB\n",
      "Dataset size: 10.11 GB\n",
      "+++++++++++++++++++++++++++++++++++\n",
      "<xarray.Dataset>\n",
      "Dimensions:       (hist_interval: 2, lat: 192, levgrnd: 15, levlak: 10, lon: 288, member_id: 40, time: 1140)\n",
      "Coordinates:\n",
      "  * lat           (lat) float32 -90.0 -89.057594 -88.11518 ... 89.057594 90.0\n",
      "  * levgrnd       (levgrnd) float32 0.007100635 0.027925 ... 21.32647 35.17762\n",
      "  * levlak        (levlak) float32 0.05 0.6 2.1 4.6 ... 18.6 25.6 34.325 44.775\n",
      "  * lon           (lon) float32 0.0 1.25 2.5 3.75 ... 355.0 356.25 357.5 358.75\n",
      "  * time          (time) object 2006-02-01 00:00:00 ... 2101-01-01 00:00:00\n",
      "  * member_id     (member_id) int64 1 2 3 4 5 6 7 ... 34 35 101 102 103 104 105\n",
      "Dimensions without coordinates: hist_interval\n",
      "Data variables:\n",
      "    BSW           (levgrnd, lat, lon) float32 dask.array<shape=(15, 192, 288), chunksize=(15, 192, 288)>\n",
      "    DZSOI         (levgrnd, lat, lon) float32 dask.array<shape=(15, 192, 288), chunksize=(15, 192, 288)>\n",
      "    HKSAT         (levgrnd, lat, lon) float32 dask.array<shape=(15, 192, 288), chunksize=(15, 192, 288)>\n",
      "    SUCSAT        (levgrnd, lat, lon) float32 dask.array<shape=(15, 192, 288), chunksize=(15, 192, 288)>\n",
      "    WATSAT        (levgrnd, lat, lon) float32 dask.array<shape=(15, 192, 288), chunksize=(15, 192, 288)>\n",
      "    ZSOI          (levgrnd, lat, lon) float32 dask.array<shape=(15, 192, 288), chunksize=(15, 192, 288)>\n",
      "    area          (lat, lon) float32 dask.array<shape=(192, 288), chunksize=(192, 288)>\n",
      "    landfrac      (lat, lon) float32 dask.array<shape=(192, 288), chunksize=(192, 288)>\n",
      "    landmask      (lat, lon) float64 dask.array<shape=(192, 288), chunksize=(192, 288)>\n",
      "    pftmask       (lat, lon) float64 dask.array<shape=(192, 288), chunksize=(192, 288)>\n",
      "    topo          (lat, lon) float32 dask.array<shape=(192, 288), chunksize=(192, 288)>\n",
      "    date_written  (time) |S8 dask.array<shape=(1140,), chunksize=(12,)>\n",
      "    mcdate        (time) int32 dask.array<shape=(1140,), chunksize=(12,)>\n",
      "    mcsec         (time) int32 dask.array<shape=(1140,), chunksize=(12,)>\n",
      "    mdcur         (time) int32 dask.array<shape=(1140,), chunksize=(12,)>\n",
      "    mscur         (time) int32 dask.array<shape=(1140,), chunksize=(12,)>\n",
      "    nstep         (time) int32 dask.array<shape=(1140,), chunksize=(12,)>\n",
      "    time_bounds   (time, hist_interval) object dask.array<shape=(1140, 2), chunksize=(12, 2)>\n",
      "    time_written  (time) |S8 dask.array<shape=(1140,), chunksize=(12,)>\n",
      "    H2OSNO        (member_id, time, lat, lon) float32 dask.array<shape=(40, 1140, 192, 288), chunksize=(40, 12, 192, 288)>\n",
      "Attributes:\n",
      "    revision_id:                          $Id: histFileMod.F90 40539 2012-09-...\n",
      "    version:                              cesm1_1_1_alpha01g\n",
      "    PFT_physiological_constants_dataset:  pft-physiology.c110425.nc\n",
      "    source:                               Community Land Model CLM4.0\n",
      "    Surface_dataset:                      surfdata_0.9x1.25_simyr1850_c110921.nc\n",
      "    title:                                CLM History file information\n",
      "    history:                              2019-06-26 13:34:53.356326 xarray.o...\n",
      "    NCO:                                  4.3.4\n",
      "    nco_openmp_thread_number:             1\n",
      "    hostname:                             tcs\n",
      "    case_title:                           UNSET\n",
      "    Initial_conditions_dataset:           b.e11.B20TRC5CNBDRD.f09_g16.105.clm...\n",
      "    username:                             mudryk\n",
      "    Conventions:                          CF-1.0\n",
      "    comment:                              NOTE: None of the variables are wei...\n",
      "/glade/scratch/abanihi/lens-aws/cesmLE-RCP85-lnd-monthly-H2OSNO.zarr\n",
      "####################################################################################################\n",
      "Query= {'experiment': 'RCP85', 'component': 'lnd', 'stream': 'clm2.h0', 'variable': 'QRUNOFF'}\n"
     ]
    },
    {
     "data": {
      "application/vnd.jupyter.widget-view+json": {
       "model_id": "b382856254604230b1f0176664127a2a",
       "version_major": 2,
       "version_minor": 0
      },
      "text/plain": [
       "HBox(children=(IntProgress(value=0, description='dataset', max=1, style=ProgressStyle(description_width='initi…"
      ]
     },
     "metadata": {},
     "output_type": "display_data"
    },
    {
     "data": {
      "application/vnd.jupyter.widget-view+json": {
       "model_id": "f7b196e449cd41c89a30f7b5b702c4d9",
       "version_major": 2,
       "version_minor": 0
      },
      "text/plain": [
       "HBox(children=(IntProgress(value=0, description='member', max=40, style=ProgressStyle(description_width='initi…"
      ]
     },
     "metadata": {},
     "output_type": "display_data"
    },
    {
     "name": "stdout",
     "output_type": "stream",
     "text": [
      "\n",
      "+++++++++++++++++++++++++++++++++++\n",
      "Variable name: QRUNOFF\n",
      "Chunk shape: (40, 12, 192, 288)\n",
      "Dataset shape: (40, 1140, 192, 288)\n",
      "Chunk size: 106.17 MB\n",
      "Dataset size: 10.11 GB\n",
      "+++++++++++++++++++++++++++++++++++\n",
      "<xarray.Dataset>\n",
      "Dimensions:       (hist_interval: 2, lat: 192, levgrnd: 15, levlak: 10, lon: 288, member_id: 40, time: 1140)\n",
      "Coordinates:\n",
      "  * lat           (lat) float32 -90.0 -89.057594 -88.11518 ... 89.057594 90.0\n",
      "  * levgrnd       (levgrnd) float32 0.007100635 0.027925 ... 21.32647 35.17762\n",
      "  * levlak        (levlak) float32 0.05 0.6 2.1 4.6 ... 18.6 25.6 34.325 44.775\n",
      "  * lon           (lon) float32 0.0 1.25 2.5 3.75 ... 355.0 356.25 357.5 358.75\n",
      "  * time          (time) object 2006-02-01 00:00:00 ... 2101-01-01 00:00:00\n",
      "  * member_id     (member_id) int64 1 2 3 4 5 6 7 ... 34 35 101 102 103 104 105\n",
      "Dimensions without coordinates: hist_interval\n",
      "Data variables:\n",
      "    BSW           (levgrnd, lat, lon) float32 dask.array<shape=(15, 192, 288), chunksize=(15, 192, 288)>\n",
      "    DZSOI         (levgrnd, lat, lon) float32 dask.array<shape=(15, 192, 288), chunksize=(15, 192, 288)>\n",
      "    HKSAT         (levgrnd, lat, lon) float32 dask.array<shape=(15, 192, 288), chunksize=(15, 192, 288)>\n",
      "    SUCSAT        (levgrnd, lat, lon) float32 dask.array<shape=(15, 192, 288), chunksize=(15, 192, 288)>\n",
      "    WATSAT        (levgrnd, lat, lon) float32 dask.array<shape=(15, 192, 288), chunksize=(15, 192, 288)>\n",
      "    ZSOI          (levgrnd, lat, lon) float32 dask.array<shape=(15, 192, 288), chunksize=(15, 192, 288)>\n",
      "    area          (lat, lon) float32 dask.array<shape=(192, 288), chunksize=(192, 288)>\n",
      "    landfrac      (lat, lon) float32 dask.array<shape=(192, 288), chunksize=(192, 288)>\n",
      "    landmask      (lat, lon) float64 dask.array<shape=(192, 288), chunksize=(192, 288)>\n",
      "    pftmask       (lat, lon) float64 dask.array<shape=(192, 288), chunksize=(192, 288)>\n",
      "    topo          (lat, lon) float32 dask.array<shape=(192, 288), chunksize=(192, 288)>\n",
      "    date_written  (time) |S8 dask.array<shape=(1140,), chunksize=(12,)>\n",
      "    mcdate        (time) int32 dask.array<shape=(1140,), chunksize=(12,)>\n",
      "    mcsec         (time) int32 dask.array<shape=(1140,), chunksize=(12,)>\n",
      "    mdcur         (time) int32 dask.array<shape=(1140,), chunksize=(12,)>\n",
      "    mscur         (time) int32 dask.array<shape=(1140,), chunksize=(12,)>\n",
      "    nstep         (time) int32 dask.array<shape=(1140,), chunksize=(12,)>\n",
      "    time_bounds   (time, hist_interval) object dask.array<shape=(1140, 2), chunksize=(12, 2)>\n",
      "    time_written  (time) |S8 dask.array<shape=(1140,), chunksize=(12,)>\n",
      "    QRUNOFF       (member_id, time, lat, lon) float32 dask.array<shape=(40, 1140, 192, 288), chunksize=(40, 12, 192, 288)>\n",
      "Attributes:\n",
      "    revision_id:                          $Id: histFileMod.F90 40539 2012-09-...\n",
      "    version:                              cesm1_1_1_alpha01g\n",
      "    PFT_physiological_constants_dataset:  pft-physiology.c110425.nc\n",
      "    source:                               Community Land Model CLM4.0\n",
      "    Surface_dataset:                      surfdata_0.9x1.25_simyr1850_c110921.nc\n",
      "    title:                                CLM History file information\n",
      "    history:                              2019-06-26 13:35:16.564849 xarray.o...\n",
      "    NCO:                                  4.3.4\n",
      "    nco_openmp_thread_number:             1\n",
      "    hostname:                             tcs\n",
      "    case_title:                           UNSET\n",
      "    Initial_conditions_dataset:           b.e11.B20TRC5CNBDRD.f09_g16.105.clm...\n",
      "    username:                             mudryk\n",
      "    Conventions:                          CF-1.0\n",
      "    comment:                              NOTE: None of the variables are wei...\n",
      "/glade/scratch/abanihi/lens-aws/cesmLE-RCP85-lnd-monthly-QRUNOFF.zarr\n",
      "####################################################################################################\n",
      "Query= {'experiment': 'RCP85', 'component': 'lnd', 'stream': 'clm2.h0', 'variable': 'RAIN'}\n"
     ]
    },
    {
     "data": {
      "application/vnd.jupyter.widget-view+json": {
       "model_id": "67b0b1b34ce040c58e313ed718316c16",
       "version_major": 2,
       "version_minor": 0
      },
      "text/plain": [
       "HBox(children=(IntProgress(value=0, description='dataset', max=1, style=ProgressStyle(description_width='initi…"
      ]
     },
     "metadata": {},
     "output_type": "display_data"
    },
    {
     "data": {
      "application/vnd.jupyter.widget-view+json": {
       "model_id": "f4bd9f766870415a918bad29488b582c",
       "version_major": 2,
       "version_minor": 0
      },
      "text/plain": [
       "HBox(children=(IntProgress(value=0, description='member', max=40, style=ProgressStyle(description_width='initi…"
      ]
     },
     "metadata": {},
     "output_type": "display_data"
    },
    {
     "name": "stdout",
     "output_type": "stream",
     "text": [
      "\n",
      "+++++++++++++++++++++++++++++++++++\n",
      "Variable name: RAIN\n",
      "Chunk shape: (40, 12, 192, 288)\n",
      "Dataset shape: (40, 1140, 192, 288)\n",
      "Chunk size: 106.17 MB\n",
      "Dataset size: 10.11 GB\n",
      "+++++++++++++++++++++++++++++++++++\n",
      "<xarray.Dataset>\n",
      "Dimensions:       (hist_interval: 2, lat: 192, levgrnd: 15, levlak: 10, lon: 288, member_id: 40, time: 1140)\n",
      "Coordinates:\n",
      "  * lat           (lat) float32 -90.0 -89.057594 -88.11518 ... 89.057594 90.0\n",
      "  * levgrnd       (levgrnd) float32 0.007100635 0.027925 ... 21.32647 35.17762\n",
      "  * levlak        (levlak) float32 0.05 0.6 2.1 4.6 ... 18.6 25.6 34.325 44.775\n",
      "  * lon           (lon) float32 0.0 1.25 2.5 3.75 ... 355.0 356.25 357.5 358.75\n",
      "  * time          (time) object 2006-02-01 00:00:00 ... 2101-01-01 00:00:00\n",
      "  * member_id     (member_id) int64 1 2 3 4 5 6 7 ... 34 35 101 102 103 104 105\n",
      "Dimensions without coordinates: hist_interval\n",
      "Data variables:\n",
      "    BSW           (levgrnd, lat, lon) float32 dask.array<shape=(15, 192, 288), chunksize=(15, 192, 288)>\n",
      "    DZSOI         (levgrnd, lat, lon) float32 dask.array<shape=(15, 192, 288), chunksize=(15, 192, 288)>\n",
      "    HKSAT         (levgrnd, lat, lon) float32 dask.array<shape=(15, 192, 288), chunksize=(15, 192, 288)>\n",
      "    SUCSAT        (levgrnd, lat, lon) float32 dask.array<shape=(15, 192, 288), chunksize=(15, 192, 288)>\n",
      "    WATSAT        (levgrnd, lat, lon) float32 dask.array<shape=(15, 192, 288), chunksize=(15, 192, 288)>\n",
      "    ZSOI          (levgrnd, lat, lon) float32 dask.array<shape=(15, 192, 288), chunksize=(15, 192, 288)>\n",
      "    area          (lat, lon) float32 dask.array<shape=(192, 288), chunksize=(192, 288)>\n",
      "    landfrac      (lat, lon) float32 dask.array<shape=(192, 288), chunksize=(192, 288)>\n",
      "    landmask      (lat, lon) float64 dask.array<shape=(192, 288), chunksize=(192, 288)>\n",
      "    pftmask       (lat, lon) float64 dask.array<shape=(192, 288), chunksize=(192, 288)>\n",
      "    topo          (lat, lon) float32 dask.array<shape=(192, 288), chunksize=(192, 288)>\n",
      "    date_written  (time) |S8 dask.array<shape=(1140,), chunksize=(12,)>\n",
      "    mcdate        (time) int32 dask.array<shape=(1140,), chunksize=(12,)>\n",
      "    mcsec         (time) int32 dask.array<shape=(1140,), chunksize=(12,)>\n",
      "    mdcur         (time) int32 dask.array<shape=(1140,), chunksize=(12,)>\n",
      "    mscur         (time) int32 dask.array<shape=(1140,), chunksize=(12,)>\n",
      "    nstep         (time) int32 dask.array<shape=(1140,), chunksize=(12,)>\n",
      "    time_bounds   (time, hist_interval) object dask.array<shape=(1140, 2), chunksize=(12, 2)>\n",
      "    time_written  (time) |S8 dask.array<shape=(1140,), chunksize=(12,)>\n",
      "    RAIN          (member_id, time, lat, lon) float32 dask.array<shape=(40, 1140, 192, 288), chunksize=(40, 12, 192, 288)>\n",
      "Attributes:\n",
      "    revision_id:                          $Id: histFileMod.F90 40539 2012-09-...\n",
      "    version:                              cesm1_1_1_alpha01g\n",
      "    PFT_physiological_constants_dataset:  pft-physiology.c110425.nc\n",
      "    source:                               Community Land Model CLM4.0\n",
      "    Surface_dataset:                      surfdata_0.9x1.25_simyr1850_c110921.nc\n",
      "    title:                                CLM History file information\n",
      "    history:                              2019-06-26 13:35:39.024200 xarray.o...\n",
      "    NCO:                                  4.3.4\n",
      "    nco_openmp_thread_number:             1\n",
      "    hostname:                             tcs\n",
      "    case_title:                           UNSET\n",
      "    Initial_conditions_dataset:           b.e11.B20TRC5CNBDRD.f09_g16.105.clm...\n",
      "    username:                             mudryk\n",
      "    Conventions:                          CF-1.0\n",
      "    comment:                              NOTE: None of the variables are wei...\n",
      "/glade/scratch/abanihi/lens-aws/cesmLE-RCP85-lnd-monthly-RAIN.zarr\n",
      "####################################################################################################\n",
      "Query= {'experiment': 'RCP85', 'component': 'lnd', 'stream': 'clm2.h0', 'variable': 'SNOW'}\n"
     ]
    },
    {
     "data": {
      "application/vnd.jupyter.widget-view+json": {
       "model_id": "43f99dc162e4473b9c0643a38efdab6d",
       "version_major": 2,
       "version_minor": 0
      },
      "text/plain": [
       "HBox(children=(IntProgress(value=0, description='dataset', max=1, style=ProgressStyle(description_width='initi…"
      ]
     },
     "metadata": {},
     "output_type": "display_data"
    },
    {
     "data": {
      "application/vnd.jupyter.widget-view+json": {
       "model_id": "9d66a056cb0544e5a63e1d8d62f19c31",
       "version_major": 2,
       "version_minor": 0
      },
      "text/plain": [
       "HBox(children=(IntProgress(value=0, description='member', max=40, style=ProgressStyle(description_width='initi…"
      ]
     },
     "metadata": {},
     "output_type": "display_data"
    },
    {
     "name": "stdout",
     "output_type": "stream",
     "text": [
      "\n",
      "+++++++++++++++++++++++++++++++++++\n",
      "Variable name: SNOW\n",
      "Chunk shape: (40, 12, 192, 288)\n",
      "Dataset shape: (40, 1140, 192, 288)\n",
      "Chunk size: 106.17 MB\n",
      "Dataset size: 10.11 GB\n",
      "+++++++++++++++++++++++++++++++++++\n",
      "<xarray.Dataset>\n",
      "Dimensions:       (hist_interval: 2, lat: 192, levgrnd: 15, levlak: 10, lon: 288, member_id: 40, time: 1140)\n",
      "Coordinates:\n",
      "  * lat           (lat) float32 -90.0 -89.057594 -88.11518 ... 89.057594 90.0\n",
      "  * levgrnd       (levgrnd) float32 0.007100635 0.027925 ... 21.32647 35.17762\n",
      "  * levlak        (levlak) float32 0.05 0.6 2.1 4.6 ... 18.6 25.6 34.325 44.775\n",
      "  * lon           (lon) float32 0.0 1.25 2.5 3.75 ... 355.0 356.25 357.5 358.75\n",
      "  * time          (time) object 2006-02-01 00:00:00 ... 2101-01-01 00:00:00\n",
      "  * member_id     (member_id) int64 1 2 3 4 5 6 7 ... 34 35 101 102 103 104 105\n",
      "Dimensions without coordinates: hist_interval\n",
      "Data variables:\n",
      "    BSW           (levgrnd, lat, lon) float32 dask.array<shape=(15, 192, 288), chunksize=(15, 192, 288)>\n",
      "    DZSOI         (levgrnd, lat, lon) float32 dask.array<shape=(15, 192, 288), chunksize=(15, 192, 288)>\n",
      "    HKSAT         (levgrnd, lat, lon) float32 dask.array<shape=(15, 192, 288), chunksize=(15, 192, 288)>\n",
      "    SUCSAT        (levgrnd, lat, lon) float32 dask.array<shape=(15, 192, 288), chunksize=(15, 192, 288)>\n",
      "    WATSAT        (levgrnd, lat, lon) float32 dask.array<shape=(15, 192, 288), chunksize=(15, 192, 288)>\n",
      "    ZSOI          (levgrnd, lat, lon) float32 dask.array<shape=(15, 192, 288), chunksize=(15, 192, 288)>\n",
      "    area          (lat, lon) float32 dask.array<shape=(192, 288), chunksize=(192, 288)>\n",
      "    landfrac      (lat, lon) float32 dask.array<shape=(192, 288), chunksize=(192, 288)>\n",
      "    landmask      (lat, lon) float64 dask.array<shape=(192, 288), chunksize=(192, 288)>\n",
      "    pftmask       (lat, lon) float64 dask.array<shape=(192, 288), chunksize=(192, 288)>\n",
      "    topo          (lat, lon) float32 dask.array<shape=(192, 288), chunksize=(192, 288)>\n",
      "    date_written  (time) |S8 dask.array<shape=(1140,), chunksize=(12,)>\n",
      "    mcdate        (time) int32 dask.array<shape=(1140,), chunksize=(12,)>\n",
      "    mcsec         (time) int32 dask.array<shape=(1140,), chunksize=(12,)>\n",
      "    mdcur         (time) int32 dask.array<shape=(1140,), chunksize=(12,)>\n",
      "    mscur         (time) int32 dask.array<shape=(1140,), chunksize=(12,)>\n",
      "    nstep         (time) int32 dask.array<shape=(1140,), chunksize=(12,)>\n",
      "    time_bounds   (time, hist_interval) object dask.array<shape=(1140, 2), chunksize=(12, 2)>\n",
      "    time_written  (time) |S8 dask.array<shape=(1140,), chunksize=(12,)>\n",
      "    SNOW          (member_id, time, lat, lon) float32 dask.array<shape=(40, 1140, 192, 288), chunksize=(40, 12, 192, 288)>\n",
      "Attributes:\n",
      "    revision_id:                          $Id: histFileMod.F90 40539 2012-09-...\n",
      "    version:                              cesm1_1_1_alpha01g\n",
      "    PFT_physiological_constants_dataset:  pft-physiology.c110425.nc\n",
      "    source:                               Community Land Model CLM4.0\n",
      "    Surface_dataset:                      surfdata_0.9x1.25_simyr1850_c110921.nc\n",
      "    title:                                CLM History file information\n",
      "    history:                              2019-06-26 13:36:02.924700 xarray.o...\n",
      "    NCO:                                  4.3.4\n",
      "    nco_openmp_thread_number:             1\n",
      "    hostname:                             tcs\n",
      "    case_title:                           UNSET\n",
      "    Initial_conditions_dataset:           b.e11.B20TRC5CNBDRD.f09_g16.105.clm...\n",
      "    username:                             mudryk\n",
      "    Conventions:                          CF-1.0\n",
      "    comment:                              NOTE: None of the variables are wei...\n",
      "/glade/scratch/abanihi/lens-aws/cesmLE-RCP85-lnd-monthly-SNOW.zarr\n",
      "####################################################################################################\n",
      "Query= {'experiment': 'RCP85', 'component': 'lnd', 'stream': 'clm2.h0', 'variable': 'SOILWATER_10CM'}\n"
     ]
    },
    {
     "data": {
      "application/vnd.jupyter.widget-view+json": {
       "model_id": "3d2076e561204d8aa87aecfcce8e03b5",
       "version_major": 2,
       "version_minor": 0
      },
      "text/plain": [
       "HBox(children=(IntProgress(value=0, description='dataset', max=1, style=ProgressStyle(description_width='initi…"
      ]
     },
     "metadata": {},
     "output_type": "display_data"
    },
    {
     "data": {
      "application/vnd.jupyter.widget-view+json": {
       "model_id": "8d025d40b12c4313a698274e8342f238",
       "version_major": 2,
       "version_minor": 0
      },
      "text/plain": [
       "HBox(children=(IntProgress(value=0, description='member', max=40, style=ProgressStyle(description_width='initi…"
      ]
     },
     "metadata": {},
     "output_type": "display_data"
    },
    {
     "name": "stdout",
     "output_type": "stream",
     "text": [
      "\n",
      "+++++++++++++++++++++++++++++++++++\n",
      "Variable name: SOILWATER_10CM\n",
      "Chunk shape: (40, 12, 192, 288)\n",
      "Dataset shape: (40, 1140, 192, 288)\n",
      "Chunk size: 106.17 MB\n",
      "Dataset size: 10.11 GB\n",
      "+++++++++++++++++++++++++++++++++++\n",
      "<xarray.Dataset>\n",
      "Dimensions:         (hist_interval: 2, lat: 192, levgrnd: 15, levlak: 10, lon: 288, member_id: 40, time: 1140)\n",
      "Coordinates:\n",
      "  * lat             (lat) float32 -90.0 -89.057594 -88.11518 ... 89.057594 90.0\n",
      "  * levgrnd         (levgrnd) float32 0.007100635 0.027925 ... 21.32647 35.17762\n",
      "  * levlak          (levlak) float32 0.05 0.6 2.1 4.6 ... 25.6 34.325 44.775\n",
      "  * lon             (lon) float32 0.0 1.25 2.5 3.75 ... 356.25 357.5 358.75\n",
      "  * time            (time) object 2006-02-01 00:00:00 ... 2101-01-01 00:00:00\n",
      "  * member_id       (member_id) int64 1 2 3 4 5 6 7 ... 35 101 102 103 104 105\n",
      "Dimensions without coordinates: hist_interval\n",
      "Data variables:\n",
      "    BSW             (levgrnd, lat, lon) float32 dask.array<shape=(15, 192, 288), chunksize=(15, 192, 288)>\n",
      "    DZSOI           (levgrnd, lat, lon) float32 dask.array<shape=(15, 192, 288), chunksize=(15, 192, 288)>\n",
      "    HKSAT           (levgrnd, lat, lon) float32 dask.array<shape=(15, 192, 288), chunksize=(15, 192, 288)>\n",
      "    SUCSAT          (levgrnd, lat, lon) float32 dask.array<shape=(15, 192, 288), chunksize=(15, 192, 288)>\n",
      "    WATSAT          (levgrnd, lat, lon) float32 dask.array<shape=(15, 192, 288), chunksize=(15, 192, 288)>\n",
      "    ZSOI            (levgrnd, lat, lon) float32 dask.array<shape=(15, 192, 288), chunksize=(15, 192, 288)>\n",
      "    area            (lat, lon) float32 dask.array<shape=(192, 288), chunksize=(192, 288)>\n",
      "    landfrac        (lat, lon) float32 dask.array<shape=(192, 288), chunksize=(192, 288)>\n",
      "    landmask        (lat, lon) float64 dask.array<shape=(192, 288), chunksize=(192, 288)>\n",
      "    pftmask         (lat, lon) float64 dask.array<shape=(192, 288), chunksize=(192, 288)>\n",
      "    topo            (lat, lon) float32 dask.array<shape=(192, 288), chunksize=(192, 288)>\n",
      "    date_written    (time) |S8 dask.array<shape=(1140,), chunksize=(12,)>\n",
      "    mcdate          (time) int32 dask.array<shape=(1140,), chunksize=(12,)>\n",
      "    mcsec           (time) int32 dask.array<shape=(1140,), chunksize=(12,)>\n",
      "    mdcur           (time) int32 dask.array<shape=(1140,), chunksize=(12,)>\n",
      "    mscur           (time) int32 dask.array<shape=(1140,), chunksize=(12,)>\n",
      "    nstep           (time) int32 dask.array<shape=(1140,), chunksize=(12,)>\n",
      "    time_bounds     (time, hist_interval) object dask.array<shape=(1140, 2), chunksize=(12, 2)>\n",
      "    time_written    (time) |S8 dask.array<shape=(1140,), chunksize=(12,)>\n",
      "    SOILWATER_10CM  (member_id, time, lat, lon) float32 dask.array<shape=(40, 1140, 192, 288), chunksize=(40, 12, 192, 288)>\n",
      "Attributes:\n",
      "    revision_id:                          $Id: histFileMod.F90 40539 2012-09-...\n",
      "    version:                              cesm1_1_1_alpha01g\n",
      "    PFT_physiological_constants_dataset:  pft-physiology.c110425.nc\n",
      "    source:                               Community Land Model CLM4.0\n",
      "    Surface_dataset:                      surfdata_0.9x1.25_simyr1850_c110921.nc\n",
      "    title:                                CLM History file information\n",
      "    history:                              2019-06-26 13:36:27.015237 xarray.o...\n",
      "    NCO:                                  4.3.4\n",
      "    nco_openmp_thread_number:             1\n",
      "    hostname:                             tcs\n",
      "    case_title:                           UNSET\n",
      "    Initial_conditions_dataset:           b.e11.B20TRC5CNBDRD.f09_g16.105.clm...\n",
      "    username:                             mudryk\n",
      "    Conventions:                          CF-1.0\n",
      "    comment:                              NOTE: None of the variables are wei...\n",
      "/glade/scratch/abanihi/lens-aws/cesmLE-RCP85-lnd-monthly-SOILWATER_10CM.zarr\n",
      "####################################################################################################\n",
      "Query= {'experiment': 'RCP85', 'component': 'lnd', 'stream': 'clm2.h0', 'variable': 'SOILLIQ'}\n"
     ]
    },
    {
     "data": {
      "application/vnd.jupyter.widget-view+json": {
       "model_id": "9238234604fa4a4c9cc5011933b6c0c5",
       "version_major": 2,
       "version_minor": 0
      },
      "text/plain": [
       "HBox(children=(IntProgress(value=0, description='dataset', max=1, style=ProgressStyle(description_width='initi…"
      ]
     },
     "metadata": {},
     "output_type": "display_data"
    },
    {
     "data": {
      "application/vnd.jupyter.widget-view+json": {
       "model_id": "7dbfe5579dbd4e9cb36815ac94e39982",
       "version_major": 2,
       "version_minor": 0
      },
      "text/plain": [
       "HBox(children=(IntProgress(value=0, description='member', max=40, style=ProgressStyle(description_width='initi…"
      ]
     },
     "metadata": {},
     "output_type": "display_data"
    },
    {
     "name": "stdout",
     "output_type": "stream",
     "text": [
      "\n",
      "+++++++++++++++++++++++++++++++++++\n",
      "Variable name: SOILLIQ\n",
      "Chunk shape: (40, 12, 1, 192, 288)\n",
      "Dataset shape: (40, 1140, 15, 192, 288)\n",
      "Chunk size: 106.17 MB\n",
      "Dataset size: 151.31 GB\n",
      "+++++++++++++++++++++++++++++++++++\n",
      "<xarray.Dataset>\n",
      "Dimensions:       (hist_interval: 2, lat: 192, levgrnd: 15, levlak: 10, lon: 288, member_id: 40, time: 1140)\n",
      "Coordinates:\n",
      "  * lat           (lat) float32 -90.0 -89.057594 -88.11518 ... 89.057594 90.0\n",
      "  * levgrnd       (levgrnd) float32 0.007100635 0.027925 ... 21.32647 35.17762\n",
      "  * levlak        (levlak) float32 0.05 0.6 2.1 4.6 ... 18.6 25.6 34.325 44.775\n",
      "  * lon           (lon) float32 0.0 1.25 2.5 3.75 ... 355.0 356.25 357.5 358.75\n",
      "  * time          (time) object 2006-02-01 00:00:00 ... 2101-01-01 00:00:00\n",
      "  * member_id     (member_id) int64 1 2 3 4 5 6 7 ... 34 35 101 102 103 104 105\n",
      "Dimensions without coordinates: hist_interval\n",
      "Data variables:\n",
      "    BSW           (levgrnd, lat, lon) float32 dask.array<shape=(15, 192, 288), chunksize=(1, 192, 288)>\n",
      "    DZSOI         (levgrnd, lat, lon) float32 dask.array<shape=(15, 192, 288), chunksize=(1, 192, 288)>\n",
      "    HKSAT         (levgrnd, lat, lon) float32 dask.array<shape=(15, 192, 288), chunksize=(1, 192, 288)>\n",
      "    SUCSAT        (levgrnd, lat, lon) float32 dask.array<shape=(15, 192, 288), chunksize=(1, 192, 288)>\n",
      "    WATSAT        (levgrnd, lat, lon) float32 dask.array<shape=(15, 192, 288), chunksize=(1, 192, 288)>\n",
      "    ZSOI          (levgrnd, lat, lon) float32 dask.array<shape=(15, 192, 288), chunksize=(1, 192, 288)>\n",
      "    area          (lat, lon) float32 dask.array<shape=(192, 288), chunksize=(192, 288)>\n",
      "    landfrac      (lat, lon) float32 dask.array<shape=(192, 288), chunksize=(192, 288)>\n",
      "    landmask      (lat, lon) float64 dask.array<shape=(192, 288), chunksize=(192, 288)>\n",
      "    pftmask       (lat, lon) float64 dask.array<shape=(192, 288), chunksize=(192, 288)>\n",
      "    topo          (lat, lon) float32 dask.array<shape=(192, 288), chunksize=(192, 288)>\n",
      "    date_written  (time) |S8 dask.array<shape=(1140,), chunksize=(12,)>\n",
      "    mcdate        (time) int32 dask.array<shape=(1140,), chunksize=(12,)>\n",
      "    mcsec         (time) int32 dask.array<shape=(1140,), chunksize=(12,)>\n",
      "    mdcur         (time) int32 dask.array<shape=(1140,), chunksize=(12,)>\n",
      "    mscur         (time) int32 dask.array<shape=(1140,), chunksize=(12,)>\n",
      "    nstep         (time) int32 dask.array<shape=(1140,), chunksize=(12,)>\n",
      "    time_bounds   (time, hist_interval) object dask.array<shape=(1140, 2), chunksize=(12, 2)>\n",
      "    time_written  (time) |S8 dask.array<shape=(1140,), chunksize=(12,)>\n",
      "    SOILLIQ       (member_id, time, levgrnd, lat, lon) float32 dask.array<shape=(40, 1140, 15, 192, 288), chunksize=(40, 12, 1, 192, 288)>\n",
      "Attributes:\n",
      "    revision_id:                          $Id: histFileMod.F90 40539 2012-09-...\n",
      "    version:                              cesm1_1_1_alpha01g\n",
      "    PFT_physiological_constants_dataset:  pft-physiology.c110425.nc\n",
      "    source:                               Community Land Model CLM4.0\n",
      "    Surface_dataset:                      surfdata_0.9x1.25_simyr1850_c110921.nc\n",
      "    title:                                CLM History file information\n",
      "    history:                              2019-06-26 13:36:51.542543 xarray.o...\n",
      "    NCO:                                  4.3.4\n",
      "    nco_openmp_thread_number:             1\n",
      "    hostname:                             tcs\n",
      "    case_title:                           UNSET\n",
      "    Initial_conditions_dataset:           b.e11.B20TRC5CNBDRD.f09_g16.105.clm...\n",
      "    username:                             mudryk\n",
      "    Conventions:                          CF-1.0\n",
      "    comment:                              NOTE: None of the variables are wei...\n",
      "/glade/scratch/abanihi/lens-aws/cesmLE-RCP85-lnd-monthly-SOILLIQ.zarr\n"
     ]
    },
    {
     "name": "stderr",
     "output_type": "stream",
     "text": [
      "distributed.utils_perf - WARNING - full garbage collections took 18% CPU time recently (threshold: 10%)\n",
      "distributed.utils_perf - WARNING - full garbage collections took 19% CPU time recently (threshold: 10%)\n",
      "distributed.utils_perf - WARNING - full garbage collections took 16% CPU time recently (threshold: 10%)\n",
      "distributed.utils_perf - WARNING - full garbage collections took 14% CPU time recently (threshold: 10%)\n",
      "distributed.utils_perf - WARNING - full garbage collections took 12% CPU time recently (threshold: 10%)\n",
      "distributed.utils_perf - WARNING - full garbage collections took 11% CPU time recently (threshold: 10%)\n"
     ]
    }
   ],
   "source": [
    "process_data(experiment_list, component_list, specs)"
   ]
  },
  {
   "cell_type": "code",
   "execution_count": null,
   "metadata": {},
   "outputs": [],
   "source": []
  }
 ],
 "metadata": {
  "kernelspec": {
   "display_name": "Python 3",
   "language": "python",
   "name": "python3"
  },
  "language_info": {
   "codemirror_mode": {
    "name": "ipython",
    "version": 3
   },
   "file_extension": ".py",
   "mimetype": "text/x-python",
   "name": "python",
   "nbconvert_exporter": "python",
   "pygments_lexer": "ipython3",
   "version": "3.7.3"
  }
 },
 "nbformat": 4,
 "nbformat_minor": 2
}
