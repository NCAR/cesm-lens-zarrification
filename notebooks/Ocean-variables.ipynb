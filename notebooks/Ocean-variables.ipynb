{
 "cells": [
  {
   "cell_type": "markdown",
   "metadata": {},
   "source": [
    "Ref: https://github.com/NCAR/cesm-lens-aws/issues/34"
   ]
  },
  {
   "cell_type": "code",
   "execution_count": 14,
   "metadata": {},
   "outputs": [
    {
     "data": {
      "text/plain": [
       "<xarray.core.options.set_options at 0x2ace072049d0>"
      ]
     },
     "execution_count": 14,
     "metadata": {},
     "output_type": "execute_result"
    }
   ],
   "source": [
    "import xarray as xr\n",
    "import intake\n",
    "import intake_esm\n",
    "import zarr\n",
    "import dask\n",
    "from ncar_jobqueue import NCARCluster\n",
    "from distributed import Client\n",
    "from distributed.utils import format_bytes\n",
    "\n",
    "xr.set_options(display_style='html')\n",
    "#dask.config.set({'distributed.dashboard.link': '/proxy/{port}/status'})"
   ]
  },
  {
   "cell_type": "code",
   "execution_count": 2,
   "metadata": {},
   "outputs": [
    {
     "data": {
      "text/plain": [
       "{'link': 'https://jupyterhub.ucar.edu/dav/user/{USER}/proxy/{port}/status',\n",
       " 'export-tool': False}"
      ]
     },
     "execution_count": 2,
     "metadata": {},
     "output_type": "execute_result"
    }
   ],
   "source": [
    "dask.config.get('distributed.dashboard')"
   ]
  },
  {
   "cell_type": "code",
   "execution_count": 3,
   "metadata": {},
   "outputs": [],
   "source": [
    "# cluster = NCARCluster()\n",
    "# cluster.adapt(minimum_jobs=2)\n",
    "# client = Client(cluster)\n",
    "# cluster"
   ]
  },
  {
   "cell_type": "code",
   "execution_count": 4,
   "metadata": {},
   "outputs": [
    {
     "data": {
      "text/plain": [
       "glade-cesm1-le-ESM Collection with 191066 entries:\n",
       "\t> 7 experiment(s)\n",
       "\n",
       "\t> 108 case(s)\n",
       "\n",
       "\t> 6 component(s)\n",
       "\n",
       "\t> 15 stream(s)\n",
       "\n",
       "\t> 1052 variable(s)\n",
       "\n",
       "\t> 116 date_range(s)\n",
       "\n",
       "\t> 40 member_id(s)\n",
       "\n",
       "\t> 191066 path(s)\n",
       "\n",
       "\t> 6 ctrl_branch_year(s)\n",
       "\n",
       "\t> 4 ctrl_experiment(s)\n",
       "\n",
       "\t> 41 ctrl_member_id(s)"
      ]
     },
     "execution_count": 4,
     "metadata": {},
     "output_type": "execute_result"
    }
   ],
   "source": [
    "col = intake.open_esm_datastore(\"./GitRepos/intake-esm-datastore/catalogs/glade-cesm1-le.json\")\n",
    "col"
   ]
  },
  {
   "cell_type": "code",
   "execution_count": 5,
   "metadata": {},
   "outputs": [],
   "source": [
    "variables = [\n",
    "    \"THETA\",\n",
    "    \"UVEL\",\n",
    "    \"UVEL2\",\n",
    "    \"VVEL\",\n",
    "    \"VVEL2\",\n",
    "    \"WVEL\",\n",
    "    \"FW\",\n",
    "    \"HDIFB_SALT\",\n",
    "    \"HDIFB_TEMP\",\n",
    "    \"HDIFE_SALT\",\n",
    "    \"HDIFE_TEMP\",\n",
    "    \"HDIFN_SALT\",\n",
    "    \"HDIFN_TEMP\",\n",
    "    \"HMXL\",\n",
    "    \"HOR_DIFF\",\n",
    "    \"KAPPA_ISOP\",\n",
    "    \"KAPPA_THIC\",\n",
    "    \"KPP_SRC_SALT\",\n",
    "    \"KPP_SRC_TEMP\",\n",
    "    \"RESID_S\",\n",
    "    \"RESID_T\",\n",
    "    \"QFLUX\",\n",
    "    \"SHF\",\n",
    "    \"SHF_QSW\",\n",
    "    \"SFWF\",\n",
    "    \"SFWF_WRST\",\n",
    "    \"SSH\",\n",
    "    \"TAUX\",\n",
    "    \"TAUX2\",\n",
    "    \"TAUY\",\n",
    "    \"TAUY2\",\n",
    "    \"VNT_ISOP\",\n",
    "    \"VNT_SUBM\",\n",
    "    \"UES\",\n",
    "    \"UET\",\n",
    "    \"VNS\",\n",
    "    \"VNT\",\n",
    "    \"WTS\",\n",
    "    \"WTT\",\n",
    "]"
   ]
  },
  {
   "cell_type": "code",
   "execution_count": 6,
   "metadata": {},
   "outputs": [
    {
     "data": {
      "text/plain": [
       "{'stream': {'count': 4,\n",
       "  'values': ['pop.h.ecosys.nyear1',\n",
       "   'pop.h.ecosys.nday1',\n",
       "   'pop.h.nday1',\n",
       "   'pop.h']},\n",
       " 'experiment': {'count': 5,\n",
       "  'values': ['CTRL', '20C', '20C-OIC', 'RCP85', 'RCP45']}}"
      ]
     },
     "execution_count": 6,
     "metadata": {},
     "output_type": "execute_result"
    }
   ],
   "source": [
    "col.search(component='ocn').unique(columns=['stream', 'experiment'])"
   ]
  },
  {
   "cell_type": "code",
   "execution_count": 22,
   "metadata": {},
   "outputs": [
    {
     "data": {
      "text/plain": [
       "glade-cesm1-le-ESM Collection with 655 entries:\n",
       "\t> 3 experiment(s)\n",
       "\n",
       "\t> 81 case(s)\n",
       "\n",
       "\t> 1 component(s)\n",
       "\n",
       "\t> 1 stream(s)\n",
       "\n",
       "\t> 5 variable(s)\n",
       "\n",
       "\t> 23 date_range(s)\n",
       "\n",
       "\t> 40 member_id(s)\n",
       "\n",
       "\t> 655 path(s)\n",
       "\n",
       "\t> 4 ctrl_branch_year(s)\n",
       "\n",
       "\t> 3 ctrl_experiment(s)\n",
       "\n",
       "\t> 41 ctrl_member_id(s)"
      ]
     },
     "execution_count": 22,
     "metadata": {},
     "output_type": "execute_result"
    }
   ],
   "source": [
    "col_subset = col.search(component='ocn', variable=variables[:6], \n",
    "                        experiment=['20C', 'RCP85', 'CTRL'])\n",
    "col_subset"
   ]
  },
  {
   "cell_type": "code",
   "execution_count": 23,
   "metadata": {},
   "outputs": [
    {
     "data": {
      "text/plain": [
       "{'stream': {'count': 1, 'values': ['pop.h']},\n",
       " 'variable': {'count': 5,\n",
       "  'values': ['UVEL', 'UVEL2', 'VVEL', 'VVEL2', 'WVEL']}}"
      ]
     },
     "execution_count": 23,
     "metadata": {},
     "output_type": "execute_result"
    }
   ],
   "source": [
    "col_subset.unique(columns=['stream', 'variable'])"
   ]
  },
  {
   "cell_type": "code",
   "execution_count": 24,
   "metadata": {},
   "outputs": [
    {
     "name": "stdout",
     "output_type": "stream",
     "text": [
      "Progress: |███████████████████████████████████████████████████████████████████████████████| 100.0% \n",
      "\n",
      "--> The keys in the returned dictionary of datasets are constructed as follows:\n",
      "\t'component.experiment.stream.variable'\n",
      "             \n",
      "--> There are 15 group(s)\n"
     ]
    }
   ],
   "source": [
    "dsets = col_subset.to_dataset_dict(cdf_kwargs={'chunks': {'time': 12, 'z_t': 30}})\n",
    "\n",
    "datasets = {}\n",
    "for key, dset in dsets.items():\n",
    "    dset = dset.copy()\n",
    "    for v in dset.variables:\n",
    "        if v not in variables and v not in dset.coords:\n",
    "            dset[v] = dset[v].isel(time=0).drop('time')\n",
    "    datasets[key] = dset"
   ]
  },
  {
   "cell_type": "code",
   "execution_count": 34,
   "metadata": {},
   "outputs": [
    {
     "name": "stdout",
     "output_type": "stream",
     "text": [
      "key=ocn.CTRL.pop.h.VVEL2 size=637.38 GB\n",
      "key=ocn.CTRL.pop.h.WVEL size=637.38 GB\n",
      "key=ocn.CTRL.pop.h.UVEL2 size=637.38 GB\n",
      "key=ocn.CTRL.pop.h.UVEL size=637.38 GB\n",
      "key=ocn.CTRL.pop.h.VVEL size=637.38 GB\n",
      "key=ocn.20C.pop.h.UVEL2 size=2.21 TB\n",
      "key=ocn.20C.pop.h.WVEL size=2.21 TB\n",
      "key=ocn.20C.pop.h.VVEL size=2.21 TB\n",
      "key=ocn.20C.pop.h.UVEL size=2.21 TB\n",
      "key=ocn.20C.pop.h.VVEL2 size=2.21 TB\n",
      "key=ocn.RCP85.pop.h.VVEL size=1.34 TB\n",
      "key=ocn.RCP85.pop.h.UVEL2 size=1.34 TB\n",
      "key=ocn.RCP85.pop.h.WVEL size=1.34 TB\n",
      "key=ocn.RCP85.pop.h.VVEL2 size=1.34 TB\n",
      "key=ocn.RCP85.pop.h.UVEL size=1.34 TB\n",
      "Total size = 20.95 TB\n"
     ]
    }
   ],
   "source": [
    "total_size = 0\n",
    "for key, ds in datasets.items():\n",
    "    print(f'key={key} size={format_bytes(ds.nbytes)}')\n",
    "    total_size = total_size + ds.nbytes\n",
    "    \n",
    "print(f'Total size = {format_bytes(total_size)}')"
   ]
  },
  {
   "cell_type": "code",
   "execution_count": null,
   "metadata": {},
   "outputs": [],
   "source": []
  }
 ],
 "metadata": {
  "kernelspec": {
   "display_name": "Python [conda env:miniconda3-analysis]",
   "language": "python",
   "name": "conda-env-miniconda3-analysis-py"
  },
  "language_info": {
   "codemirror_mode": {
    "name": "ipython",
    "version": 3
   },
   "file_extension": ".py",
   "mimetype": "text/x-python",
   "name": "python",
   "nbconvert_exporter": "python",
   "pygments_lexer": "ipython3",
   "version": "3.7.6"
  },
  "widgets": {
   "application/vnd.jupyter.widget-state+json": {
    "state": {},
    "version_major": 2,
    "version_minor": 0
   }
  }
 },
 "nbformat": 4,
 "nbformat_minor": 4
}
