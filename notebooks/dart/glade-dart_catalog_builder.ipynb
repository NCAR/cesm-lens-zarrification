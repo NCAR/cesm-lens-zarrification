{
 "cells": [
  {
   "cell_type": "markdown",
   "id": "da556044-0fe1-4846-97ae-1d4f6b881d9e",
   "metadata": {},
   "source": [
    "# Build catalog for DART ds345.0 Conversion"
   ]
  },
  {
   "cell_type": "code",
   "execution_count": null,
   "id": "ffed2762-54be-4aa0-9e60-7e2ae7d8e500",
   "metadata": {},
   "outputs": [],
   "source": [
    "import pandas as pd\n",
    "import numpy as np"
   ]
  },
  {
   "cell_type": "markdown",
   "id": "2cced39b-3a89-4ae6-b6a5-391fe3b0f6c8",
   "metadata": {},
   "source": [
    "## Configuration Parameters"
   ]
  },
  {
   "cell_type": "code",
   "execution_count": null,
   "id": "b932a558-4bfc-4601-a4e5-3129d26fda2c",
   "metadata": {},
   "outputs": [],
   "source": [
    "input_zarr_folder = '/glade/scratch/bonnland/DART/ds345.0/atm_zarr'\n",
    "\n",
    "num_members = 80\n",
    "    \n",
    "#output_variables = ['T', 'PS', 'Q']\n",
    "output_variables = ['T', 'PS', 'Q', 'US', 'VS', 'CLDICE', 'CLDLIQ']\n"
   ]
  },
  {
   "cell_type": "markdown",
   "id": "f3518951-5a1d-4656-81e1-5a8793134b76",
   "metadata": {},
   "source": [
    "### Helper Function for getting catalog fields for an input store."
   ]
  },
  {
   "cell_type": "code",
   "execution_count": null,
   "id": "1d47adb7-d7eb-4110-a358-b9568c43c2a6",
   "metadata": {},
   "outputs": [],
   "source": [
    "# Determine catalog fields for a zarr store\n",
    "def get_store_attrs(member_id, variable_id):\n",
    "\n",
    "    store_path = f'{input_zarr_folder}/member_{member_id}.zarr'\n",
    "\n",
    "    attrs = {'variable': variable_id,\n",
    "             'member_id': member_id,\n",
    "             'path': store_path}\n",
    "    return attrs"
   ]
  },
  {
   "cell_type": "markdown",
   "id": "5421297f-cbe3-4329-aa7d-a80050c69baf",
   "metadata": {
    "tags": []
   },
   "source": [
    "## Create catalog"
   ]
  },
  {
   "cell_type": "code",
   "execution_count": null,
   "id": "c6c224e7-edf0-460c-9522-08b5a4f6b4e9",
   "metadata": {
    "tags": []
   },
   "outputs": [],
   "source": [
    "entries = []\n",
    "\n",
    "for variable in output_variables:\n",
    "    member_ids = np.arange(num_members) + 1\n",
    "    entries = entries + list(map(get_store_attrs, member_ids, [variable] * num_members))\n",
    "    \n",
    "len(entries)"
   ]
  },
  {
   "cell_type": "code",
   "execution_count": null,
   "id": "b98681e6-b465-4c1d-808b-17ebdb1ce864",
   "metadata": {},
   "outputs": [],
   "source": [
    "df = pd.DataFrame(entries)\n",
    "\n",
    "catalog_column_order = ['variable', 'member_id', 'path']\n",
    "\n",
    "df = df.reindex(columns=catalog_column_order)\n",
    "df.head()"
   ]
  },
  {
   "cell_type": "code",
   "execution_count": null,
   "id": "8da2b762-4b32-425f-b5aa-e3350923f8fb",
   "metadata": {
    "tags": []
   },
   "outputs": [],
   "source": [
    "df.to_csv(\"./dart-zarr-input.csv\", index=False)"
   ]
  },
  {
   "cell_type": "code",
   "execution_count": null,
   "id": "68d0a2ad-17c0-4fad-99c9-b3f2f6c0a6c4",
   "metadata": {},
   "outputs": [],
   "source": []
  },
  {
   "cell_type": "code",
   "execution_count": null,
   "id": "00093b90-f020-4226-8e75-762020f5f518",
   "metadata": {},
   "outputs": [],
   "source": []
  },
  {
   "cell_type": "code",
   "execution_count": null,
   "id": "03f2514c-458e-4a2c-914c-eca84563c137",
   "metadata": {},
   "outputs": [],
   "source": []
  },
  {
   "cell_type": "code",
   "execution_count": null,
   "id": "ed0400f1-2467-45fb-a008-22ee8bd47b9e",
   "metadata": {},
   "outputs": [],
   "source": []
  },
  {
   "cell_type": "code",
   "execution_count": null,
   "id": "233781c9-07c2-46a1-90ee-cd3e5219b483",
   "metadata": {},
   "outputs": [],
   "source": []
  },
  {
   "cell_type": "code",
   "execution_count": null,
   "id": "f48721e7-aeab-453b-845d-dcb1c8000365",
   "metadata": {},
   "outputs": [],
   "source": []
  }
 ],
 "metadata": {
  "kernelspec": {
   "display_name": "Python 3",
   "language": "python",
   "name": "python3"
  },
  "language_info": {
   "codemirror_mode": {
    "name": "ipython",
    "version": 3
   },
   "file_extension": ".py",
   "mimetype": "text/x-python",
   "name": "python",
   "nbconvert_exporter": "python",
   "pygments_lexer": "ipython3",
   "version": "3.8.10"
  }
 },
 "nbformat": 4,
 "nbformat_minor": 5
}
