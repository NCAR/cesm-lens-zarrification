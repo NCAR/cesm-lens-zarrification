{
 "cells": [
  {
   "cell_type": "code",
   "execution_count": 1,
   "metadata": {},
   "outputs": [],
   "source": [
    "import os\n",
    "import dask\n",
    "import xarray as xr\n",
    "from tqdm import tqdm_notebook as tqdm\n",
    "\n",
    "import xarray as xr\n",
    "import numpy as np\n",
    "from dask_jobqueue import PBSCluster\n",
    "USER = os.environ['USER']\n",
    "PROJECT = os.environ['PBS_ACCOUNT']"
   ]
  },
  {
   "cell_type": "code",
   "execution_count": 2,
   "metadata": {},
   "outputs": [],
   "source": [
    "cluster = PBSCluster(queue='economy', cores=36, processes=1, \n",
    "                     memory='80GB', project=PROJECT, walltime='03:30:00',\n",
    "                    local_directory=f'/glade/scratch/{USER}/dask-tmp')"
   ]
  },
  {
   "cell_type": "code",
   "execution_count": 3,
   "metadata": {},
   "outputs": [
    {
     "data": {
      "text/plain": [
       "<distributed.deploy.adaptive.Adaptive at 0x2aaade707dd8>"
      ]
     },
     "execution_count": 3,
     "metadata": {},
     "output_type": "execute_result"
    }
   ],
   "source": [
    "cluster.adapt(minimum=1, maximum=2)"
   ]
  },
  {
   "cell_type": "code",
   "execution_count": 4,
   "metadata": {},
   "outputs": [
    {
     "name": "stdout",
     "output_type": "stream",
     "text": [
      "\n",
      "chadmin1: \n",
      "                                                            Req'd  Req'd   Elap\n",
      "Job ID          Username Queue    Jobname    SessID NDS TSK Memory Time  S Time\n",
      "--------------- -------- -------- ---------- ------ --- --- ------ ----- - -----\n",
      "3200751.chadmin abanihi  economy  STDIN       31315   1   1    --  04:00 R 00:01\n",
      "3200977.chadmin abanihi  economy  dask-worke    --    1   1    --  03:30 Q   -- \n"
     ]
    }
   ],
   "source": [
    "!qstat -u $USER"
   ]
  },
  {
   "cell_type": "code",
   "execution_count": 5,
   "metadata": {},
   "outputs": [],
   "source": [
    "from dask.distributed import Client"
   ]
  },
  {
   "cell_type": "code",
   "execution_count": 6,
   "metadata": {},
   "outputs": [],
   "source": [
    "client = Client(cluster)"
   ]
  },
  {
   "cell_type": "code",
   "execution_count": 7,
   "metadata": {},
   "outputs": [
    {
     "data": {
      "text/plain": [
       "<dask.config.set at 0x2aaadeb242e8>"
      ]
     },
     "execution_count": 7,
     "metadata": {},
     "output_type": "execute_result"
    }
   ],
   "source": [
    "dask.config.set({'distributed.dashboard.link':'http://localhost:{port}/status'})"
   ]
  },
  {
   "cell_type": "code",
   "execution_count": 8,
   "metadata": {},
   "outputs": [
    {
     "data": {
      "text/html": [
       "<table style=\"border: 2px solid white;\">\n",
       "<tr>\n",
       "<td style=\"vertical-align: top; border: 0px solid white\">\n",
       "<h3>Client</h3>\n",
       "<ul>\n",
       "  <li><b>Scheduler: </b>tcp://10.148.12.67:49086\n",
       "  <li><b>Dashboard: </b><a href='http://localhost:8787/status' target='_blank'>http://localhost:8787/status</a>\n",
       "</ul>\n",
       "</td>\n",
       "<td style=\"vertical-align: top; border: 0px solid white\">\n",
       "<h3>Cluster</h3>\n",
       "<ul>\n",
       "  <li><b>Workers: </b>0</li>\n",
       "  <li><b>Cores: </b>0</li>\n",
       "  <li><b>Memory: </b>0 B</li>\n",
       "</ul>\n",
       "</td>\n",
       "</tr>\n",
       "</table>"
      ],
      "text/plain": [
       "<Client: scheduler='tcp://10.148.12.67:49086' processes=0 cores=0>"
      ]
     },
     "execution_count": 8,
     "metadata": {},
     "output_type": "execute_result"
    }
   ],
   "source": [
    "client"
   ]
  },
  {
   "cell_type": "code",
   "execution_count": 9,
   "metadata": {},
   "outputs": [],
   "source": [
    "from pathlib import Path\n",
    "from glob import glob"
   ]
  },
  {
   "cell_type": "code",
   "execution_count": 10,
   "metadata": {},
   "outputs": [],
   "source": [
    "root_dir = Path(\"/glade/p_old/cesmLE/CESM-CAM5-BGC-LE/atm/proc/tseries/monthly/TS\")"
   ]
  },
  {
   "cell_type": "code",
   "execution_count": 11,
   "metadata": {},
   "outputs": [
    {
     "name": "stdout",
     "output_type": "stream",
     "text": [
      "\u001b[0m\u001b[00mb.e11.B1850C5CN.f09_g16.005.cam.h0.TS.040001-049912.nc\u001b[0m\n",
      "\u001b[00mb.e11.B1850C5CN.f09_g16.005.cam.h0.TS.050001-059912.nc\u001b[0m\n",
      "\u001b[00mb.e11.B1850C5CN.f09_g16.005.cam.h0.TS.060001-069912.nc\u001b[0m\n",
      "\u001b[00mb.e11.B1850C5CN.f09_g16.005.cam.h0.TS.070001-079912.nc\u001b[0m\n",
      "\u001b[00mb.e11.B1850C5CN.f09_g16.005.cam.h0.TS.080001-089912.nc\u001b[0m\n",
      "\u001b[00mb.e11.B1850C5CN.f09_g16.005.cam.h0.TS.090001-099912.nc\u001b[0m\n",
      "\u001b[00mb.e11.B1850C5CN.f09_g16.005.cam.h0.TS.100001-109912.nc\u001b[0m\n",
      "\u001b[00mb.e11.B1850C5CN.f09_g16.005.cam.h0.TS.110001-119912.nc\u001b[0m\n",
      "\u001b[00mb.e11.B1850C5CN.f09_g16.005.cam.h0.TS.120001-129912.nc\u001b[0m\n",
      "\u001b[00mb.e11.B1850C5CN.f09_g16.005.cam.h0.TS.130001-139912.nc\u001b[0m\n",
      "\u001b[00mb.e11.B1850C5CN.f09_g16.005.cam.h0.TS.140001-149912.nc\u001b[0m\n",
      "\u001b[00mb.e11.B1850C5CN.f09_g16.005.cam.h0.TS.150001-159912.nc\u001b[0m\n",
      "\u001b[00mb.e11.B1850C5CN.f09_g16.005.cam.h0.TS.160001-169912.nc\u001b[0m\n",
      "\u001b[00mb.e11.B1850C5CN.f09_g16.005.cam.h0.TS.170001-179912.nc\u001b[0m\n",
      "\u001b[00mb.e11.B1850C5CN.f09_g16.005.cam.h0.TS.180001-189912.nc\u001b[0m\n",
      "\u001b[00mb.e11.B1850C5CN.f09_g16.005.cam.h0.TS.190001-199912.nc\u001b[0m\n",
      "\u001b[00mb.e11.B1850C5CN.f09_g16.005.cam.h0.TS.200001-209912.nc\u001b[0m\n",
      "\u001b[00mb.e11.B1850C5CN.f09_g16.005.cam.h0.TS.210001-220012.nc\u001b[0m\n",
      "\u001b[00mb.e11.B1850LENS_RAMP.2xcap.f09_g16.001.cam.h0.TS.000101-009912.nc\u001b[0m\n",
      "\u001b[00mb.e11.B1850LENS_RAMP.2xcap.f09_g16.001.cam.h0.TS.010001-019912.nc\u001b[0m\n",
      "\u001b[00mb.e11.B1850LENS_RAMP.2xcap.f09_g16.001.cam.h0.TS.020001-030512.nc\u001b[0m\n",
      "\u001b[00mb.e11.B20TRC5CNBDRD.f09_g16.001.cam.h0.TS.185001-200512.nc\u001b[0m\n",
      "\u001b[00mb.e11.B20TRC5CNBDRD.f09_g16.002.cam.h0.TS.192001-200512.nc\u001b[0m\n",
      "\u001b[00mb.e11.B20TRC5CNBDRD.f09_g16.003.cam.h0.TS.192001-200512.nc\u001b[0m\n",
      "\u001b[00mb.e11.B20TRC5CNBDRD.f09_g16.004.cam.h0.TS.192001-200512.nc\u001b[0m\n",
      "\u001b[00mb.e11.B20TRC5CNBDRD.f09_g16.005.cam.h0.TS.192001-200512.nc\u001b[0m\n",
      "\u001b[00mb.e11.B20TRC5CNBDRD.f09_g16.006.cam.h0.TS.192001-200512.nc\u001b[0m\n",
      "\u001b[00mb.e11.B20TRC5CNBDRD.f09_g16.007.cam.h0.TS.192001-200512.nc\u001b[0m\n",
      "\u001b[00mb.e11.B20TRC5CNBDRD.f09_g16.008.cam.h0.TS.192001-200512.nc\u001b[0m\n",
      "\u001b[00mb.e11.B20TRC5CNBDRD.f09_g16.009.cam.h0.TS.192001-200512.nc\u001b[0m\n",
      "\u001b[00mb.e11.B20TRC5CNBDRD.f09_g16.010.cam.h0.TS.192001-200512.nc\u001b[0m\n",
      "\u001b[00mb.e11.B20TRC5CNBDRD.f09_g16.011.cam.h0.TS.192001-200512.nc\u001b[0m\n",
      "\u001b[00mb.e11.B20TRC5CNBDRD.f09_g16.012.cam.h0.TS.192001-200512.nc\u001b[0m\n",
      "\u001b[00mb.e11.B20TRC5CNBDRD.f09_g16.013.cam.h0.TS.192001-200512.nc\u001b[0m\n",
      "\u001b[00mb.e11.B20TRC5CNBDRD.f09_g16.014.cam.h0.TS.192001-200512.nc\u001b[0m\n",
      "\u001b[00mb.e11.B20TRC5CNBDRD.f09_g16.015.cam.h0.TS.192001-200512.nc\u001b[0m\n",
      "\u001b[00mb.e11.B20TRC5CNBDRD.f09_g16.016.cam.h0.TS.192001-200512.nc\u001b[0m\n",
      "\u001b[00mb.e11.B20TRC5CNBDRD.f09_g16.017.cam.h0.TS.192001-200512.nc\u001b[0m\n",
      "\u001b[00mb.e11.B20TRC5CNBDRD.f09_g16.018.cam.h0.TS.192001-200512.nc\u001b[0m\n",
      "\u001b[00mb.e11.B20TRC5CNBDRD.f09_g16.019.cam.h0.TS.192001-200512.nc\u001b[0m\n",
      "\u001b[00mb.e11.B20TRC5CNBDRD.f09_g16.020.cam.h0.TS.192001-200512.nc\u001b[0m\n",
      "\u001b[00mb.e11.B20TRC5CNBDRD.f09_g16.021.cam.h0.TS.192001-200512.nc\u001b[0m\n",
      "\u001b[00mb.e11.B20TRC5CNBDRD.f09_g16.022.cam.h0.TS.192001-200512.nc\u001b[0m\n",
      "\u001b[00mb.e11.B20TRC5CNBDRD.f09_g16.023.cam.h0.TS.192001-200512.nc\u001b[0m\n",
      "\u001b[00mb.e11.B20TRC5CNBDRD.f09_g16.024.cam.h0.TS.192001-200512.nc\u001b[0m\n",
      "\u001b[00mb.e11.B20TRC5CNBDRD.f09_g16.025.cam.h0.TS.192001-200512.nc\u001b[0m\n",
      "\u001b[00mb.e11.B20TRC5CNBDRD.f09_g16.026.cam.h0.TS.192001-200512.nc\u001b[0m\n",
      "\u001b[00mb.e11.B20TRC5CNBDRD.f09_g16.027.cam.h0.TS.192001-200512.nc\u001b[0m\n",
      "\u001b[00mb.e11.B20TRC5CNBDRD.f09_g16.028.cam.h0.TS.192001-200512.nc\u001b[0m\n",
      "\u001b[00mb.e11.B20TRC5CNBDRD.f09_g16.029.cam.h0.TS.192001-200512.nc\u001b[0m\n",
      "\u001b[00mb.e11.B20TRC5CNBDRD.f09_g16.030.cam.h0.TS.192001-200512.nc\u001b[0m\n",
      "\u001b[00mb.e11.B20TRC5CNBDRD.f09_g16.031.cam.h0.TS.192001-200512.nc\u001b[0m\n",
      "\u001b[00mb.e11.B20TRC5CNBDRD.f09_g16.032.cam.h0.TS.192001-200512.nc\u001b[0m\n",
      "\u001b[00mb.e11.B20TRC5CNBDRD.f09_g16.033.cam.h0.TS.192001-200512.nc\u001b[0m\n",
      "\u001b[00mb.e11.B20TRC5CNBDRD.f09_g16.034.cam.h0.TS.192001-200512.nc\u001b[0m\n",
      "\u001b[00mb.e11.B20TRC5CNBDRD.f09_g16.035.cam.h0.TS.192001-200512.nc\u001b[0m\n",
      "\u001b[00mb.e11.B20TRC5CNBDRD.f09_g16.101.cam.h0.TS.192001-200512.nc\u001b[0m\n",
      "\u001b[00mb.e11.B20TRC5CNBDRD.f09_g16.102.cam.h0.TS.192001-200512.nc\u001b[0m\n",
      "\u001b[00mb.e11.B20TRC5CNBDRD.f09_g16.103.cam.h0.TS.192001-200512.nc\u001b[0m\n",
      "\u001b[00mb.e11.B20TRC5CNBDRD.f09_g16.104.cam.h0.TS.192001-200512.nc\u001b[0m\n",
      "\u001b[00mb.e11.B20TRC5CNBDRD.f09_g16.105.cam.h0.TS.192001-200512.nc\u001b[0m\n",
      "\u001b[00mb.e11.B20TRC5CNBDRD.f09_g16.106.cam.h0.TS.192001-200512.nc\u001b[0m\n",
      "\u001b[00mb.e11.B20TRC5CNBDRD.f09_g16.107.cam.h0.TS.192001-200512.nc\u001b[0m\n",
      "\u001b[00mb.e11.B20TRC5CNBDRD.f09_g16.OIC.001d.cam.h0.TS.185001-199912.nc\u001b[0m\n",
      "\u001b[00mb.e11.B20TRC5CNBDRD.f09_g16.OIC.002.cam.h0.TS.192001-199912.nc\u001b[0m\n",
      "\u001b[00mb.e11.B20TRC5CNBDRD.f09_g16.OIC.003.cam.h0.TS.192001-199912.nc\u001b[0m\n",
      "\u001b[00mb.e11.B20TRC5CNBDRD.f09_g16.OIC.004.cam.h0.TS.192001-199912.nc\u001b[0m\n",
      "\u001b[00mb.e11.B20TRC5CNBDRD.f09_g16.OIC.005.cam.h0.TS.192001-199912.nc\u001b[0m\n",
      "\u001b[00mb.e11.B20TRC5CNBDRD.f09_g16.OIC.006.cam.h0.TS.192001-199912.nc\u001b[0m\n",
      "\u001b[00mb.e11.B20TRC5CNBDRD.f09_g16.OIC.007.cam.h0.TS.192001-199912.nc\u001b[0m\n",
      "\u001b[00mb.e11.B20TRC5CNBDRD.f09_g16.OIC.008.cam.h0.TS.192001-199912.nc\u001b[0m\n",
      "\u001b[00mb.e11.B20TRC5CNBDRD.f09_g16.OIC.009.cam.h0.TS.192001-199912.nc\u001b[0m\n",
      "\u001b[00mb.e11.B20TRC5CNBDRD.f09_g16.OIC.010.cam.h0.TS.192001-199912.nc\u001b[0m\n",
      "\u001b[00mb.e11.BRCP85C5CNBDRD.f09_g16.001.cam.h0.TS.200601-208012.nc\u001b[0m\n",
      "\u001b[00mb.e11.BRCP85C5CNBDRD.f09_g16.001.cam.h0.TS.208101-210012.nc\u001b[0m\n",
      "\u001b[00mb.e11.BRCP85C5CNBDRD.f09_g16.002.cam.h0.TS.200601-208012.nc\u001b[0m\n",
      "\u001b[00mb.e11.BRCP85C5CNBDRD.f09_g16.002.cam.h0.TS.208101-210012.nc\u001b[0m\n",
      "\u001b[00mb.e11.BRCP85C5CNBDRD.f09_g16.003.cam.h0.TS.200601-208012.nc\u001b[0m\n",
      "\u001b[00mb.e11.BRCP85C5CNBDRD.f09_g16.003.cam.h0.TS.208101-210012.nc\u001b[0m\n",
      "\u001b[00mb.e11.BRCP85C5CNBDRD.f09_g16.004.cam.h0.TS.200601-208012.nc\u001b[0m\n",
      "\u001b[00mb.e11.BRCP85C5CNBDRD.f09_g16.004.cam.h0.TS.208101-210012.nc\u001b[0m\n",
      "\u001b[00mb.e11.BRCP85C5CNBDRD.f09_g16.005.cam.h0.TS.200601-208012.nc\u001b[0m\n",
      "\u001b[00mb.e11.BRCP85C5CNBDRD.f09_g16.005.cam.h0.TS.208101-210012.nc\u001b[0m\n",
      "\u001b[00mb.e11.BRCP85C5CNBDRD.f09_g16.006.cam.h0.TS.200601-208012.nc\u001b[0m\n",
      "\u001b[00mb.e11.BRCP85C5CNBDRD.f09_g16.006.cam.h0.TS.208101-210012.nc\u001b[0m\n",
      "\u001b[00mb.e11.BRCP85C5CNBDRD.f09_g16.007.cam.h0.TS.200601-208012.nc\u001b[0m\n",
      "\u001b[00mb.e11.BRCP85C5CNBDRD.f09_g16.007.cam.h0.TS.208101-210012.nc\u001b[0m\n",
      "\u001b[00mb.e11.BRCP85C5CNBDRD.f09_g16.008.cam.h0.TS.200601-208012.nc\u001b[0m\n",
      "\u001b[00mb.e11.BRCP85C5CNBDRD.f09_g16.008.cam.h0.TS.208101-210012.nc\u001b[0m\n",
      "\u001b[00mb.e11.BRCP85C5CNBDRD.f09_g16.009.cam.h0.TS.200601-208012.nc\u001b[0m\n",
      "\u001b[00mb.e11.BRCP85C5CNBDRD.f09_g16.009.cam.h0.TS.208101-210012.nc\u001b[0m\n",
      "\u001b[00mb.e11.BRCP85C5CNBDRD.f09_g16.010.cam.h0.TS.200601-208012.nc\u001b[0m\n",
      "\u001b[00mb.e11.BRCP85C5CNBDRD.f09_g16.010.cam.h0.TS.208101-210012.nc\u001b[0m\n",
      "\u001b[00mb.e11.BRCP85C5CNBDRD.f09_g16.011.cam.h0.TS.200601-208012.nc\u001b[0m\n",
      "\u001b[00mb.e11.BRCP85C5CNBDRD.f09_g16.011.cam.h0.TS.208101-210012.nc\u001b[0m\n",
      "\u001b[00mb.e11.BRCP85C5CNBDRD.f09_g16.012.cam.h0.TS.200601-208012.nc\u001b[0m\n",
      "\u001b[00mb.e11.BRCP85C5CNBDRD.f09_g16.012.cam.h0.TS.208101-210012.nc\u001b[0m\n",
      "\u001b[00mb.e11.BRCP85C5CNBDRD.f09_g16.013.cam.h0.TS.200601-208012.nc\u001b[0m\n",
      "\u001b[00mb.e11.BRCP85C5CNBDRD.f09_g16.013.cam.h0.TS.208101-210012.nc\u001b[0m\n",
      "\u001b[00mb.e11.BRCP85C5CNBDRD.f09_g16.014.cam.h0.TS.200601-208012.nc\u001b[0m\n",
      "\u001b[00mb.e11.BRCP85C5CNBDRD.f09_g16.014.cam.h0.TS.208101-210012.nc\u001b[0m\n",
      "\u001b[00mb.e11.BRCP85C5CNBDRD.f09_g16.015.cam.h0.TS.200601-208012.nc\u001b[0m\n",
      "\u001b[00mb.e11.BRCP85C5CNBDRD.f09_g16.015.cam.h0.TS.208101-210012.nc\u001b[0m\n",
      "\u001b[00mb.e11.BRCP85C5CNBDRD.f09_g16.016.cam.h0.TS.200601-208012.nc\u001b[0m\n",
      "\u001b[00mb.e11.BRCP85C5CNBDRD.f09_g16.016.cam.h0.TS.208101-210012.nc\u001b[0m\n",
      "\u001b[00mb.e11.BRCP85C5CNBDRD.f09_g16.017.cam.h0.TS.200601-208012.nc\u001b[0m\n",
      "\u001b[00mb.e11.BRCP85C5CNBDRD.f09_g16.017.cam.h0.TS.208101-210012.nc\u001b[0m\n",
      "\u001b[00mb.e11.BRCP85C5CNBDRD.f09_g16.018.cam.h0.TS.200601-208012.nc\u001b[0m\n",
      "\u001b[00mb.e11.BRCP85C5CNBDRD.f09_g16.018.cam.h0.TS.208101-210012.nc\u001b[0m\n",
      "\u001b[00mb.e11.BRCP85C5CNBDRD.f09_g16.019.cam.h0.TS.200601-208012.nc\u001b[0m\n",
      "\u001b[00mb.e11.BRCP85C5CNBDRD.f09_g16.019.cam.h0.TS.208101-210012.nc\u001b[0m\n",
      "\u001b[00mb.e11.BRCP85C5CNBDRD.f09_g16.020.cam.h0.TS.200601-208012.nc\u001b[0m\n",
      "\u001b[00mb.e11.BRCP85C5CNBDRD.f09_g16.020.cam.h0.TS.208101-210012.nc\u001b[0m\n",
      "\u001b[00mb.e11.BRCP85C5CNBDRD.f09_g16.021.cam.h0.TS.200601-208012.nc\u001b[0m\n",
      "\u001b[00mb.e11.BRCP85C5CNBDRD.f09_g16.021.cam.h0.TS.208101-210012.nc\u001b[0m\n",
      "\u001b[00mb.e11.BRCP85C5CNBDRD.f09_g16.022.cam.h0.TS.200601-208012.nc\u001b[0m\n",
      "\u001b[00mb.e11.BRCP85C5CNBDRD.f09_g16.022.cam.h0.TS.208101-210012.nc\u001b[0m\n",
      "\u001b[00mb.e11.BRCP85C5CNBDRD.f09_g16.023.cam.h0.TS.200601-208012.nc\u001b[0m\n",
      "\u001b[00mb.e11.BRCP85C5CNBDRD.f09_g16.023.cam.h0.TS.208101-210012.nc\u001b[0m\n",
      "\u001b[00mb.e11.BRCP85C5CNBDRD.f09_g16.024.cam.h0.TS.200601-208012.nc\u001b[0m\n",
      "\u001b[00mb.e11.BRCP85C5CNBDRD.f09_g16.024.cam.h0.TS.208101-210012.nc\u001b[0m\n",
      "\u001b[00mb.e11.BRCP85C5CNBDRD.f09_g16.025.cam.h0.TS.200601-208012.nc\u001b[0m\n",
      "\u001b[00mb.e11.BRCP85C5CNBDRD.f09_g16.025.cam.h0.TS.208101-210012.nc\u001b[0m\n",
      "\u001b[00mb.e11.BRCP85C5CNBDRD.f09_g16.026.cam.h0.TS.200601-208012.nc\u001b[0m\n",
      "\u001b[00mb.e11.BRCP85C5CNBDRD.f09_g16.026.cam.h0.TS.208101-210012.nc\u001b[0m\n",
      "\u001b[00mb.e11.BRCP85C5CNBDRD.f09_g16.027.cam.h0.TS.200601-208012.nc\u001b[0m\n",
      "\u001b[00mb.e11.BRCP85C5CNBDRD.f09_g16.027.cam.h0.TS.208101-210012.nc\u001b[0m\n",
      "\u001b[00mb.e11.BRCP85C5CNBDRD.f09_g16.028.cam.h0.TS.200601-208012.nc\u001b[0m\n",
      "\u001b[00mb.e11.BRCP85C5CNBDRD.f09_g16.028.cam.h0.TS.208101-210012.nc\u001b[0m\n",
      "\u001b[00mb.e11.BRCP85C5CNBDRD.f09_g16.029.cam.h0.TS.200601-208012.nc\u001b[0m\n",
      "\u001b[00mb.e11.BRCP85C5CNBDRD.f09_g16.029.cam.h0.TS.208101-210012.nc\u001b[0m\n",
      "\u001b[00mb.e11.BRCP85C5CNBDRD.f09_g16.030.cam.h0.TS.200601-208012.nc\u001b[0m\n",
      "\u001b[00mb.e11.BRCP85C5CNBDRD.f09_g16.030.cam.h0.TS.208101-210012.nc\u001b[0m\n",
      "\u001b[00mb.e11.BRCP85C5CNBDRD.f09_g16.031.cam.h0.TS.200601-208012.nc\u001b[0m\n",
      "\u001b[00mb.e11.BRCP85C5CNBDRD.f09_g16.031.cam.h0.TS.208101-210012.nc\u001b[0m\n",
      "\u001b[00mb.e11.BRCP85C5CNBDRD.f09_g16.032.cam.h0.TS.200601-208012.nc\u001b[0m\n",
      "\u001b[00mb.e11.BRCP85C5CNBDRD.f09_g16.032.cam.h0.TS.208101-210012.nc\u001b[0m\n",
      "\u001b[00mb.e11.BRCP85C5CNBDRD.f09_g16.033.cam.h0.TS.200601-208012.nc\u001b[0m\n",
      "\u001b[00mb.e11.BRCP85C5CNBDRD.f09_g16.033.cam.h0.TS.208101-210012.nc\u001b[0m\n",
      "\u001b[00mb.e11.BRCP85C5CNBDRD.f09_g16.034.cam.h0.TS.200601-210012.nc\u001b[0m\n",
      "\u001b[00mb.e11.BRCP85C5CNBDRD.f09_g16.035.cam.h0.TS.200601-210012.nc\u001b[0m\n",
      "\u001b[00mb.e11.BRCP85C5CNBDRD.f09_g16.101.cam.h0.TS.200601-210012.nc\u001b[0m\n",
      "\u001b[00mb.e11.BRCP85C5CNBDRD.f09_g16.102.cam.h0.TS.200601-210012.nc\u001b[0m\n",
      "\u001b[00mb.e11.BRCP85C5CNBDRD.f09_g16.103.cam.h0.TS.200601-210012.nc\u001b[0m\n",
      "\u001b[00mb.e11.BRCP85C5CNBDRD.f09_g16.104.cam.h0.TS.200601-210012.nc\u001b[0m\n",
      "\u001b[00mb.e11.BRCP85C5CNBDRD.f09_g16.105.cam.h0.TS.200601-210012.nc\u001b[0m\n",
      "\u001b[00me.e11.E1850C5CN.f09_g16.001.cam.h0.TS.010101-019912.nc\u001b[0m\n",
      "\u001b[00me.e11.E1850C5CN.f09_g16.001.cam.h0.TS.020001-029912.nc\u001b[0m\n",
      "\u001b[00me.e11.E1850C5CN.f09_g16.001.cam.h0.TS.030001-039912.nc\u001b[0m\n",
      "\u001b[00me.e11.E1850C5CN.f09_g16.001.cam.h0.TS.040001-049912.nc\u001b[0m\n",
      "\u001b[00me.e11.E1850C5CN.f09_g16.001.cam.h0.TS.050001-059912.nc\u001b[0m\n",
      "\u001b[00me.e11.E1850C5CN.f09_g16.001.cam.h0.TS.060001-069912.nc\u001b[0m\n",
      "\u001b[00me.e11.E1850C5CN.f09_g16.001.cam.h0.TS.070001-079912.nc\u001b[0m\n",
      "\u001b[00me.e11.E1850C5CN.f09_g16.001.cam.h0.TS.080001-089912.nc\u001b[0m\n",
      "\u001b[00me.e11.E1850C5CN.f09_g16.001.cam.h0.TS.090001-100112.nc\u001b[0m\n",
      "\u001b[00mf.e11.F1850C5CN.f09_f09.001.cam.h0.TS.000101-009912.nc\u001b[0m\n",
      "\u001b[00mf.e11.F1850C5CN.f09_f09.001.cam.h0.TS.010001-019912.nc\u001b[0m\n",
      "\u001b[00mf.e11.F1850C5CN.f09_f09.001.cam.h0.TS.020001-029912.nc\u001b[0m\n",
      "\u001b[00mf.e11.F1850C5CN.f09_f09.001.cam.h0.TS.030001-039912.nc\u001b[0m\n",
      "\u001b[00mf.e11.F1850C5CN.f09_f09.001.cam.h0.TS.040001-049912.nc\u001b[0m\n",
      "\u001b[00mf.e11.F1850C5CN.f09_f09.001.cam.h0.TS.050001-059912.nc\u001b[0m\n",
      "\u001b[00mf.e11.F1850C5CN.f09_f09.001.cam.h0.TS.060001-069912.nc\u001b[0m\n",
      "\u001b[00mf.e11.F1850C5CN.f09_f09.001.cam.h0.TS.070001-079912.nc\u001b[0m\n",
      "\u001b[00mf.e11.F1850C5CN.f09_f09.001.cam.h0.TS.080001-089912.nc\u001b[0m\n",
      "\u001b[00mf.e11.F1850C5CN.f09_f09.001.cam.h0.TS.090001-099912.nc\u001b[0m\n",
      "\u001b[00mf.e11.F1850C5CN.f09_f09.001.cam.h0.TS.100001-109912.nc\u001b[0m\n",
      "\u001b[00mf.e11.F1850C5CN.f09_f09.001.cam.h0.TS.110001-119912.nc\u001b[0m\n",
      "\u001b[00mf.e11.F1850C5CN.f09_f09.001.cam.h0.TS.120001-129912.nc\u001b[0m\n",
      "\u001b[00mf.e11.F1850C5CN.f09_f09.001.cam.h0.TS.130001-139912.nc\u001b[0m\n",
      "\u001b[00mf.e11.F1850C5CN.f09_f09.001.cam.h0.TS.140001-149912.nc\u001b[0m\n",
      "\u001b[00mf.e11.F1850C5CN.f09_f09.001.cam.h0.TS.150001-159912.nc\u001b[0m\n",
      "\u001b[00mf.e11.F1850C5CN.f09_f09.001.cam.h0.TS.160001-169912.nc\u001b[0m\n",
      "\u001b[00mf.e11.F1850C5CN.f09_f09.001.cam.h0.TS.170001-179912.nc\u001b[0m\n",
      "\u001b[00mf.e11.F1850C5CN.f09_f09.001.cam.h0.TS.180001-189912.nc\u001b[0m\n",
      "\u001b[00mf.e11.F1850C5CN.f09_f09.001.cam.h0.TS.190001-199912.nc\u001b[0m\n",
      "\u001b[00mf.e11.F1850C5CN.f09_f09.001.cam.h0.TS.200001-209912.nc\u001b[0m\n",
      "\u001b[00mf.e11.F1850C5CN.f09_f09.001.cam.h0.TS.210001-219912.nc\u001b[0m\n",
      "\u001b[00mf.e11.F1850C5CN.f09_f09.001.cam.h0.TS.220001-229912.nc\u001b[0m\n",
      "\u001b[00mf.e11.F1850C5CN.f09_f09.001.cam.h0.TS.230001-239912.nc\u001b[0m\n",
      "\u001b[00mf.e11.F1850C5CN.f09_f09.001.cam.h0.TS.240001-249912.nc\u001b[0m\n",
      "\u001b[00mf.e11.F1850C5CN.f09_f09.001.cam.h0.TS.250001-260012.nc\u001b[0m\n",
      "\u001b[00mf.e11.F1850C5CNTVSST.f09_f09.002.cam.h0.TS.040101-050012.nc\u001b[0m\n",
      "\u001b[00mf.e11.FAMIPC5CN.f09_f09.historical.toga.ens01.cam.h0.TS.188001-200512.nc\u001b[0m\n",
      "\u001b[00mf.e11.FAMIPC5CN.f09_f09.historical.toga.ens02.cam.h0.TS.188001-200512.nc\u001b[0m\n",
      "\u001b[00mf.e11.FAMIPC5CN.f09_f09.historical.toga.ens03.cam.h0.TS.188001-200512.nc\u001b[0m\n",
      "\u001b[00mf.e11.FAMIPC5CN.f09_f09.historical.toga.ens04.cam.h0.TS.188001-200512.nc\u001b[0m\n",
      "\u001b[00mf.e11.FAMIPC5CN.f09_f09.historical.toga.ens05.cam.h0.TS.188001-200512.nc\u001b[0m\n",
      "\u001b[00mf.e11.FAMIPC5CN.f09_f09.historical.toga.ens06.cam.h0.TS.188001-200512.nc\u001b[0m\n",
      "\u001b[00mf.e11.FAMIPC5CN.f09_f09.historical.toga.ens07.cam.h0.TS.188001-200512.nc\u001b[0m\n",
      "\u001b[00mf.e11.FAMIPC5CN.f09_f09.historical.toga.ens08.cam.h0.TS.188001-200512.nc\u001b[0m\n",
      "\u001b[00mf.e11.FAMIPC5CN.f09_f09.historical.toga.ens09.cam.h0.TS.188001-200512.nc\u001b[0m\n",
      "\u001b[00mf.e11.FAMIPC5CN.f09_f09.historical.toga.ens10.cam.h0.TS.188001-200512.nc\u001b[0m\n",
      "\u001b[00mf.e11.FAMIPC5CN.f09_f09.rcp85.toga.ens01.cam.h0.TS.200601-201412.nc\u001b[0m\n",
      "\u001b[00mf.e11.FAMIPC5CN.f09_f09.rcp85.toga.ens02.cam.h0.TS.200601-201412.nc\u001b[0m\n",
      "\u001b[00mf.e11.FAMIPC5CN.f09_f09.rcp85.toga.ens03.cam.h0.TS.200601-201412.nc\u001b[0m\n",
      "\u001b[00mf.e11.FAMIPC5CN.f09_f09.rcp85.toga.ens04.cam.h0.TS.200601-201412.nc\u001b[0m\n",
      "\u001b[00mf.e11.FAMIPC5CN.f09_f09.rcp85.toga.ens05.cam.h0.TS.200601-201412.nc\u001b[0m\n",
      "\u001b[00mf.e11.FAMIPC5CN.f09_f09.rcp85.toga.ens06.cam.h0.TS.200601-201412.nc\u001b[0m\n",
      "\u001b[00mf.e11.FAMIPC5CN.f09_f09.rcp85.toga.ens07.cam.h0.TS.200601-201412.nc\u001b[0m\n",
      "\u001b[00mf.e11.FAMIPC5CN.f09_f09.rcp85.toga.ens08.cam.h0.TS.200601-201412.nc\u001b[0m\n",
      "\u001b[00mf.e11.FAMIPC5CN.f09_f09.rcp85.toga.ens09.cam.h0.TS.200601-201412.nc\u001b[0m\n",
      "\u001b[00mf.e11.FAMIPC5CN.f09_f09.rcp85.toga.ens10.cam.h0.TS.200601-201412.nc\u001b[0m\n"
     ]
    }
   ],
   "source": [
    "ls {root_dir}"
   ]
  },
  {
   "cell_type": "markdown",
   "metadata": {},
   "source": [
    "## Case: `b.e11.B20TRC5CNBDRD`"
   ]
  },
  {
   "cell_type": "code",
   "execution_count": 12,
   "metadata": {},
   "outputs": [],
   "source": [
    "CASE = 'b.e11.B20TRC5CNBDRD.f09_g16'"
   ]
  },
  {
   "cell_type": "code",
   "execution_count": 25,
   "metadata": {},
   "outputs": [
    {
     "data": {
      "text/plain": [
       "[PosixPath('/glade/p_old/cesmLE/CESM-CAM5-BGC-LE/atm/proc/tseries/monthly/TS/b.e11.B20TRC5CNBDRD.f09_g16.001.cam.h0.TS.185001-200512.nc'),\n",
       " PosixPath('/glade/p_old/cesmLE/CESM-CAM5-BGC-LE/atm/proc/tseries/monthly/TS/b.e11.B20TRC5CNBDRD.f09_g16.002.cam.h0.TS.192001-200512.nc'),\n",
       " PosixPath('/glade/p_old/cesmLE/CESM-CAM5-BGC-LE/atm/proc/tseries/monthly/TS/b.e11.B20TRC5CNBDRD.f09_g16.003.cam.h0.TS.192001-200512.nc'),\n",
       " PosixPath('/glade/p_old/cesmLE/CESM-CAM5-BGC-LE/atm/proc/tseries/monthly/TS/b.e11.B20TRC5CNBDRD.f09_g16.004.cam.h0.TS.192001-200512.nc'),\n",
       " PosixPath('/glade/p_old/cesmLE/CESM-CAM5-BGC-LE/atm/proc/tseries/monthly/TS/b.e11.B20TRC5CNBDRD.f09_g16.005.cam.h0.TS.192001-200512.nc'),\n",
       " PosixPath('/glade/p_old/cesmLE/CESM-CAM5-BGC-LE/atm/proc/tseries/monthly/TS/b.e11.B20TRC5CNBDRD.f09_g16.006.cam.h0.TS.192001-200512.nc'),\n",
       " PosixPath('/glade/p_old/cesmLE/CESM-CAM5-BGC-LE/atm/proc/tseries/monthly/TS/b.e11.B20TRC5CNBDRD.f09_g16.007.cam.h0.TS.192001-200512.nc'),\n",
       " PosixPath('/glade/p_old/cesmLE/CESM-CAM5-BGC-LE/atm/proc/tseries/monthly/TS/b.e11.B20TRC5CNBDRD.f09_g16.008.cam.h0.TS.192001-200512.nc'),\n",
       " PosixPath('/glade/p_old/cesmLE/CESM-CAM5-BGC-LE/atm/proc/tseries/monthly/TS/b.e11.B20TRC5CNBDRD.f09_g16.009.cam.h0.TS.192001-200512.nc'),\n",
       " PosixPath('/glade/p_old/cesmLE/CESM-CAM5-BGC-LE/atm/proc/tseries/monthly/TS/b.e11.B20TRC5CNBDRD.f09_g16.010.cam.h0.TS.192001-200512.nc'),\n",
       " PosixPath('/glade/p_old/cesmLE/CESM-CAM5-BGC-LE/atm/proc/tseries/monthly/TS/b.e11.B20TRC5CNBDRD.f09_g16.011.cam.h0.TS.192001-200512.nc'),\n",
       " PosixPath('/glade/p_old/cesmLE/CESM-CAM5-BGC-LE/atm/proc/tseries/monthly/TS/b.e11.B20TRC5CNBDRD.f09_g16.012.cam.h0.TS.192001-200512.nc'),\n",
       " PosixPath('/glade/p_old/cesmLE/CESM-CAM5-BGC-LE/atm/proc/tseries/monthly/TS/b.e11.B20TRC5CNBDRD.f09_g16.013.cam.h0.TS.192001-200512.nc'),\n",
       " PosixPath('/glade/p_old/cesmLE/CESM-CAM5-BGC-LE/atm/proc/tseries/monthly/TS/b.e11.B20TRC5CNBDRD.f09_g16.014.cam.h0.TS.192001-200512.nc'),\n",
       " PosixPath('/glade/p_old/cesmLE/CESM-CAM5-BGC-LE/atm/proc/tseries/monthly/TS/b.e11.B20TRC5CNBDRD.f09_g16.015.cam.h0.TS.192001-200512.nc'),\n",
       " PosixPath('/glade/p_old/cesmLE/CESM-CAM5-BGC-LE/atm/proc/tseries/monthly/TS/b.e11.B20TRC5CNBDRD.f09_g16.016.cam.h0.TS.192001-200512.nc'),\n",
       " PosixPath('/glade/p_old/cesmLE/CESM-CAM5-BGC-LE/atm/proc/tseries/monthly/TS/b.e11.B20TRC5CNBDRD.f09_g16.017.cam.h0.TS.192001-200512.nc'),\n",
       " PosixPath('/glade/p_old/cesmLE/CESM-CAM5-BGC-LE/atm/proc/tseries/monthly/TS/b.e11.B20TRC5CNBDRD.f09_g16.018.cam.h0.TS.192001-200512.nc'),\n",
       " PosixPath('/glade/p_old/cesmLE/CESM-CAM5-BGC-LE/atm/proc/tseries/monthly/TS/b.e11.B20TRC5CNBDRD.f09_g16.019.cam.h0.TS.192001-200512.nc'),\n",
       " PosixPath('/glade/p_old/cesmLE/CESM-CAM5-BGC-LE/atm/proc/tseries/monthly/TS/b.e11.B20TRC5CNBDRD.f09_g16.020.cam.h0.TS.192001-200512.nc'),\n",
       " PosixPath('/glade/p_old/cesmLE/CESM-CAM5-BGC-LE/atm/proc/tseries/monthly/TS/b.e11.B20TRC5CNBDRD.f09_g16.021.cam.h0.TS.192001-200512.nc'),\n",
       " PosixPath('/glade/p_old/cesmLE/CESM-CAM5-BGC-LE/atm/proc/tseries/monthly/TS/b.e11.B20TRC5CNBDRD.f09_g16.022.cam.h0.TS.192001-200512.nc'),\n",
       " PosixPath('/glade/p_old/cesmLE/CESM-CAM5-BGC-LE/atm/proc/tseries/monthly/TS/b.e11.B20TRC5CNBDRD.f09_g16.023.cam.h0.TS.192001-200512.nc'),\n",
       " PosixPath('/glade/p_old/cesmLE/CESM-CAM5-BGC-LE/atm/proc/tseries/monthly/TS/b.e11.B20TRC5CNBDRD.f09_g16.024.cam.h0.TS.192001-200512.nc'),\n",
       " PosixPath('/glade/p_old/cesmLE/CESM-CAM5-BGC-LE/atm/proc/tseries/monthly/TS/b.e11.B20TRC5CNBDRD.f09_g16.025.cam.h0.TS.192001-200512.nc'),\n",
       " PosixPath('/glade/p_old/cesmLE/CESM-CAM5-BGC-LE/atm/proc/tseries/monthly/TS/b.e11.B20TRC5CNBDRD.f09_g16.026.cam.h0.TS.192001-200512.nc'),\n",
       " PosixPath('/glade/p_old/cesmLE/CESM-CAM5-BGC-LE/atm/proc/tseries/monthly/TS/b.e11.B20TRC5CNBDRD.f09_g16.027.cam.h0.TS.192001-200512.nc'),\n",
       " PosixPath('/glade/p_old/cesmLE/CESM-CAM5-BGC-LE/atm/proc/tseries/monthly/TS/b.e11.B20TRC5CNBDRD.f09_g16.028.cam.h0.TS.192001-200512.nc'),\n",
       " PosixPath('/glade/p_old/cesmLE/CESM-CAM5-BGC-LE/atm/proc/tseries/monthly/TS/b.e11.B20TRC5CNBDRD.f09_g16.029.cam.h0.TS.192001-200512.nc'),\n",
       " PosixPath('/glade/p_old/cesmLE/CESM-CAM5-BGC-LE/atm/proc/tseries/monthly/TS/b.e11.B20TRC5CNBDRD.f09_g16.030.cam.h0.TS.192001-200512.nc'),\n",
       " PosixPath('/glade/p_old/cesmLE/CESM-CAM5-BGC-LE/atm/proc/tseries/monthly/TS/b.e11.B20TRC5CNBDRD.f09_g16.031.cam.h0.TS.192001-200512.nc'),\n",
       " PosixPath('/glade/p_old/cesmLE/CESM-CAM5-BGC-LE/atm/proc/tseries/monthly/TS/b.e11.B20TRC5CNBDRD.f09_g16.032.cam.h0.TS.192001-200512.nc'),\n",
       " PosixPath('/glade/p_old/cesmLE/CESM-CAM5-BGC-LE/atm/proc/tseries/monthly/TS/b.e11.B20TRC5CNBDRD.f09_g16.033.cam.h0.TS.192001-200512.nc'),\n",
       " PosixPath('/glade/p_old/cesmLE/CESM-CAM5-BGC-LE/atm/proc/tseries/monthly/TS/b.e11.B20TRC5CNBDRD.f09_g16.034.cam.h0.TS.192001-200512.nc'),\n",
       " PosixPath('/glade/p_old/cesmLE/CESM-CAM5-BGC-LE/atm/proc/tseries/monthly/TS/b.e11.B20TRC5CNBDRD.f09_g16.035.cam.h0.TS.192001-200512.nc'),\n",
       " PosixPath('/glade/p_old/cesmLE/CESM-CAM5-BGC-LE/atm/proc/tseries/monthly/TS/b.e11.B20TRC5CNBDRD.f09_g16.101.cam.h0.TS.192001-200512.nc'),\n",
       " PosixPath('/glade/p_old/cesmLE/CESM-CAM5-BGC-LE/atm/proc/tseries/monthly/TS/b.e11.B20TRC5CNBDRD.f09_g16.102.cam.h0.TS.192001-200512.nc'),\n",
       " PosixPath('/glade/p_old/cesmLE/CESM-CAM5-BGC-LE/atm/proc/tseries/monthly/TS/b.e11.B20TRC5CNBDRD.f09_g16.103.cam.h0.TS.192001-200512.nc'),\n",
       " PosixPath('/glade/p_old/cesmLE/CESM-CAM5-BGC-LE/atm/proc/tseries/monthly/TS/b.e11.B20TRC5CNBDRD.f09_g16.104.cam.h0.TS.192001-200512.nc'),\n",
       " PosixPath('/glade/p_old/cesmLE/CESM-CAM5-BGC-LE/atm/proc/tseries/monthly/TS/b.e11.B20TRC5CNBDRD.f09_g16.105.cam.h0.TS.192001-200512.nc'),\n",
       " PosixPath('/glade/p_old/cesmLE/CESM-CAM5-BGC-LE/atm/proc/tseries/monthly/TS/b.e11.B20TRC5CNBDRD.f09_g16.106.cam.h0.TS.192001-200512.nc'),\n",
       " PosixPath('/glade/p_old/cesmLE/CESM-CAM5-BGC-LE/atm/proc/tseries/monthly/TS/b.e11.B20TRC5CNBDRD.f09_g16.107.cam.h0.TS.192001-200512.nc')]"
      ]
     },
     "execution_count": 25,
     "metadata": {},
     "output_type": "execute_result"
    }
   ],
   "source": [
    "list_1 = sorted(root_dir.glob(\"b.e11.B20TRC5CNBDRD.f09_g16.???.cam.h0.*\"))\n",
    "list_1"
   ]
  },
  {
   "cell_type": "code",
   "execution_count": 26,
   "metadata": {},
   "outputs": [
    {
     "data": {
      "text/plain": [
       "42"
      ]
     },
     "execution_count": 26,
     "metadata": {},
     "output_type": "execute_result"
    }
   ],
   "source": [
    "len(list_1)"
   ]
  },
  {
   "cell_type": "code",
   "execution_count": 27,
   "metadata": {},
   "outputs": [],
   "source": [
    "indices = 0, 33, 34 # indices of special runs to remove for the original list. These runs' output have additional ouput, and/or have special time ranges"
   ]
  },
  {
   "cell_type": "code",
   "execution_count": 28,
   "metadata": {},
   "outputs": [
    {
     "data": {
      "text/plain": [
       "[PosixPath('/glade/p_old/cesmLE/CESM-CAM5-BGC-LE/atm/proc/tseries/monthly/TS/b.e11.B20TRC5CNBDRD.f09_g16.002.cam.h0.TS.192001-200512.nc'),\n",
       " PosixPath('/glade/p_old/cesmLE/CESM-CAM5-BGC-LE/atm/proc/tseries/monthly/TS/b.e11.B20TRC5CNBDRD.f09_g16.003.cam.h0.TS.192001-200512.nc'),\n",
       " PosixPath('/glade/p_old/cesmLE/CESM-CAM5-BGC-LE/atm/proc/tseries/monthly/TS/b.e11.B20TRC5CNBDRD.f09_g16.004.cam.h0.TS.192001-200512.nc'),\n",
       " PosixPath('/glade/p_old/cesmLE/CESM-CAM5-BGC-LE/atm/proc/tseries/monthly/TS/b.e11.B20TRC5CNBDRD.f09_g16.005.cam.h0.TS.192001-200512.nc'),\n",
       " PosixPath('/glade/p_old/cesmLE/CESM-CAM5-BGC-LE/atm/proc/tseries/monthly/TS/b.e11.B20TRC5CNBDRD.f09_g16.006.cam.h0.TS.192001-200512.nc'),\n",
       " PosixPath('/glade/p_old/cesmLE/CESM-CAM5-BGC-LE/atm/proc/tseries/monthly/TS/b.e11.B20TRC5CNBDRD.f09_g16.007.cam.h0.TS.192001-200512.nc'),\n",
       " PosixPath('/glade/p_old/cesmLE/CESM-CAM5-BGC-LE/atm/proc/tseries/monthly/TS/b.e11.B20TRC5CNBDRD.f09_g16.008.cam.h0.TS.192001-200512.nc'),\n",
       " PosixPath('/glade/p_old/cesmLE/CESM-CAM5-BGC-LE/atm/proc/tseries/monthly/TS/b.e11.B20TRC5CNBDRD.f09_g16.009.cam.h0.TS.192001-200512.nc'),\n",
       " PosixPath('/glade/p_old/cesmLE/CESM-CAM5-BGC-LE/atm/proc/tseries/monthly/TS/b.e11.B20TRC5CNBDRD.f09_g16.010.cam.h0.TS.192001-200512.nc'),\n",
       " PosixPath('/glade/p_old/cesmLE/CESM-CAM5-BGC-LE/atm/proc/tseries/monthly/TS/b.e11.B20TRC5CNBDRD.f09_g16.011.cam.h0.TS.192001-200512.nc'),\n",
       " PosixPath('/glade/p_old/cesmLE/CESM-CAM5-BGC-LE/atm/proc/tseries/monthly/TS/b.e11.B20TRC5CNBDRD.f09_g16.012.cam.h0.TS.192001-200512.nc'),\n",
       " PosixPath('/glade/p_old/cesmLE/CESM-CAM5-BGC-LE/atm/proc/tseries/monthly/TS/b.e11.B20TRC5CNBDRD.f09_g16.013.cam.h0.TS.192001-200512.nc'),\n",
       " PosixPath('/glade/p_old/cesmLE/CESM-CAM5-BGC-LE/atm/proc/tseries/monthly/TS/b.e11.B20TRC5CNBDRD.f09_g16.014.cam.h0.TS.192001-200512.nc'),\n",
       " PosixPath('/glade/p_old/cesmLE/CESM-CAM5-BGC-LE/atm/proc/tseries/monthly/TS/b.e11.B20TRC5CNBDRD.f09_g16.015.cam.h0.TS.192001-200512.nc'),\n",
       " PosixPath('/glade/p_old/cesmLE/CESM-CAM5-BGC-LE/atm/proc/tseries/monthly/TS/b.e11.B20TRC5CNBDRD.f09_g16.016.cam.h0.TS.192001-200512.nc'),\n",
       " PosixPath('/glade/p_old/cesmLE/CESM-CAM5-BGC-LE/atm/proc/tseries/monthly/TS/b.e11.B20TRC5CNBDRD.f09_g16.017.cam.h0.TS.192001-200512.nc'),\n",
       " PosixPath('/glade/p_old/cesmLE/CESM-CAM5-BGC-LE/atm/proc/tseries/monthly/TS/b.e11.B20TRC5CNBDRD.f09_g16.018.cam.h0.TS.192001-200512.nc'),\n",
       " PosixPath('/glade/p_old/cesmLE/CESM-CAM5-BGC-LE/atm/proc/tseries/monthly/TS/b.e11.B20TRC5CNBDRD.f09_g16.019.cam.h0.TS.192001-200512.nc'),\n",
       " PosixPath('/glade/p_old/cesmLE/CESM-CAM5-BGC-LE/atm/proc/tseries/monthly/TS/b.e11.B20TRC5CNBDRD.f09_g16.020.cam.h0.TS.192001-200512.nc'),\n",
       " PosixPath('/glade/p_old/cesmLE/CESM-CAM5-BGC-LE/atm/proc/tseries/monthly/TS/b.e11.B20TRC5CNBDRD.f09_g16.021.cam.h0.TS.192001-200512.nc'),\n",
       " PosixPath('/glade/p_old/cesmLE/CESM-CAM5-BGC-LE/atm/proc/tseries/monthly/TS/b.e11.B20TRC5CNBDRD.f09_g16.022.cam.h0.TS.192001-200512.nc'),\n",
       " PosixPath('/glade/p_old/cesmLE/CESM-CAM5-BGC-LE/atm/proc/tseries/monthly/TS/b.e11.B20TRC5CNBDRD.f09_g16.023.cam.h0.TS.192001-200512.nc'),\n",
       " PosixPath('/glade/p_old/cesmLE/CESM-CAM5-BGC-LE/atm/proc/tseries/monthly/TS/b.e11.B20TRC5CNBDRD.f09_g16.024.cam.h0.TS.192001-200512.nc'),\n",
       " PosixPath('/glade/p_old/cesmLE/CESM-CAM5-BGC-LE/atm/proc/tseries/monthly/TS/b.e11.B20TRC5CNBDRD.f09_g16.025.cam.h0.TS.192001-200512.nc'),\n",
       " PosixPath('/glade/p_old/cesmLE/CESM-CAM5-BGC-LE/atm/proc/tseries/monthly/TS/b.e11.B20TRC5CNBDRD.f09_g16.026.cam.h0.TS.192001-200512.nc'),\n",
       " PosixPath('/glade/p_old/cesmLE/CESM-CAM5-BGC-LE/atm/proc/tseries/monthly/TS/b.e11.B20TRC5CNBDRD.f09_g16.027.cam.h0.TS.192001-200512.nc'),\n",
       " PosixPath('/glade/p_old/cesmLE/CESM-CAM5-BGC-LE/atm/proc/tseries/monthly/TS/b.e11.B20TRC5CNBDRD.f09_g16.028.cam.h0.TS.192001-200512.nc'),\n",
       " PosixPath('/glade/p_old/cesmLE/CESM-CAM5-BGC-LE/atm/proc/tseries/monthly/TS/b.e11.B20TRC5CNBDRD.f09_g16.029.cam.h0.TS.192001-200512.nc'),\n",
       " PosixPath('/glade/p_old/cesmLE/CESM-CAM5-BGC-LE/atm/proc/tseries/monthly/TS/b.e11.B20TRC5CNBDRD.f09_g16.030.cam.h0.TS.192001-200512.nc'),\n",
       " PosixPath('/glade/p_old/cesmLE/CESM-CAM5-BGC-LE/atm/proc/tseries/monthly/TS/b.e11.B20TRC5CNBDRD.f09_g16.031.cam.h0.TS.192001-200512.nc'),\n",
       " PosixPath('/glade/p_old/cesmLE/CESM-CAM5-BGC-LE/atm/proc/tseries/monthly/TS/b.e11.B20TRC5CNBDRD.f09_g16.032.cam.h0.TS.192001-200512.nc'),\n",
       " PosixPath('/glade/p_old/cesmLE/CESM-CAM5-BGC-LE/atm/proc/tseries/monthly/TS/b.e11.B20TRC5CNBDRD.f09_g16.033.cam.h0.TS.192001-200512.nc'),\n",
       " PosixPath('/glade/p_old/cesmLE/CESM-CAM5-BGC-LE/atm/proc/tseries/monthly/TS/b.e11.B20TRC5CNBDRD.f09_g16.101.cam.h0.TS.192001-200512.nc'),\n",
       " PosixPath('/glade/p_old/cesmLE/CESM-CAM5-BGC-LE/atm/proc/tseries/monthly/TS/b.e11.B20TRC5CNBDRD.f09_g16.102.cam.h0.TS.192001-200512.nc'),\n",
       " PosixPath('/glade/p_old/cesmLE/CESM-CAM5-BGC-LE/atm/proc/tseries/monthly/TS/b.e11.B20TRC5CNBDRD.f09_g16.103.cam.h0.TS.192001-200512.nc'),\n",
       " PosixPath('/glade/p_old/cesmLE/CESM-CAM5-BGC-LE/atm/proc/tseries/monthly/TS/b.e11.B20TRC5CNBDRD.f09_g16.104.cam.h0.TS.192001-200512.nc'),\n",
       " PosixPath('/glade/p_old/cesmLE/CESM-CAM5-BGC-LE/atm/proc/tseries/monthly/TS/b.e11.B20TRC5CNBDRD.f09_g16.105.cam.h0.TS.192001-200512.nc'),\n",
       " PosixPath('/glade/p_old/cesmLE/CESM-CAM5-BGC-LE/atm/proc/tseries/monthly/TS/b.e11.B20TRC5CNBDRD.f09_g16.106.cam.h0.TS.192001-200512.nc'),\n",
       " PosixPath('/glade/p_old/cesmLE/CESM-CAM5-BGC-LE/atm/proc/tseries/monthly/TS/b.e11.B20TRC5CNBDRD.f09_g16.107.cam.h0.TS.192001-200512.nc')]"
      ]
     },
     "execution_count": 28,
     "metadata": {},
     "output_type": "execute_result"
    }
   ],
   "source": [
    "updated_list = [item for index, item in enumerate(list_1) if index not in indices]\n",
    "updated_list"
   ]
  },
  {
   "cell_type": "markdown",
   "metadata": {},
   "source": [
    "**Step 2**\n",
    "\n",
    "Loop through the resulting list from step 1, and read those files into a list of datasets. Under the hood, xarray concatenates files for each ensemble in one dataset."
   ]
  },
  {
   "cell_type": "code",
   "execution_count": 29,
   "metadata": {},
   "outputs": [
    {
     "data": {
      "text/plain": [
       "<xarray.Dataset>\n",
       "Dimensions:       (ensemble: 39, ilev: 31, lat: 289, lev: 30, lon: 288, nbnd: 2, slat: 256, slon: 288, time: 1032)\n",
       "Coordinates:\n",
       "  * lat           (lat) float64 -90.0 -89.06 -88.12 -87.17 ... 88.12 89.06 90.0\n",
       "  * slat          (slat) float64 -89.53 -88.59 -87.64 ... 87.64 88.59 89.53\n",
       "  * ilev          (ilev) float64 2.255 5.032 10.16 18.56 ... 967.5 985.1 1e+03\n",
       "  * lev           (lev) float64 3.643 7.595 14.36 24.61 ... 957.5 976.3 992.6\n",
       "  * lon           (lon) float64 0.0 1.25 2.5 3.75 ... 355.0 356.2 357.5 358.8\n",
       "  * slon          (slon) float64 -0.625 0.625 1.875 3.125 ... 355.6 356.9 358.1\n",
       "  * time          (time) datetime64[ns] 1920-02-01 1920-03-01 ... 2006-01-01\n",
       "Dimensions without coordinates: ensemble, nbnd\n",
       "Data variables:\n",
       "    P0            (ensemble) float64 1e+05 1e+05 1e+05 ... 1e+05 1e+05 1e+05\n",
       "    TS            (ensemble, time, lat, lon) float32 dask.array<shape=(39, 1032, 289, 288), chunksize=(1, 1032, 289, 288)>\n",
       "    ch4vmr        (ensemble, time) float64 dask.array<shape=(39, 1032), chunksize=(1, 1032)>\n",
       "    co2vmr        (ensemble, time) float64 dask.array<shape=(39, 1032), chunksize=(1, 1032)>\n",
       "    date          (ensemble, time) int32 dask.array<shape=(39, 1032), chunksize=(1, 1032)>\n",
       "    date_written  (ensemble, time) |S8 dask.array<shape=(39, 1032), chunksize=(1, 1032)>\n",
       "    datesec       (ensemble, time) int32 dask.array<shape=(39, 1032), chunksize=(1, 1032)>\n",
       "    f11vmr        (ensemble, time) float64 dask.array<shape=(39, 1032), chunksize=(1, 1032)>\n",
       "    f12vmr        (ensemble, time) float64 dask.array<shape=(39, 1032), chunksize=(1, 1032)>\n",
       "    gw            (ensemble, lat) float64 dask.array<shape=(39, 289), chunksize=(1, 289)>\n",
       "    hyai          (ensemble, ilev) float64 dask.array<shape=(39, 31), chunksize=(1, 31)>\n",
       "    hyam          (ensemble, lev) float64 dask.array<shape=(39, 30), chunksize=(1, 30)>\n",
       "    hybi          (ensemble, ilev) float64 dask.array<shape=(39, 31), chunksize=(1, 31)>\n",
       "    hybm          (ensemble, lev) float64 dask.array<shape=(39, 30), chunksize=(1, 30)>\n",
       "    mdt           (ensemble) int32 1800 1800 1800 1800 ... 1800 1800 1800 1800\n",
       "    n2ovmr        (ensemble, time) float64 dask.array<shape=(39, 1032), chunksize=(1, 1032)>\n",
       "    nbdate        (ensemble) int32 19200101 19200101 ... 19200101 19200101\n",
       "    nbsec         (ensemble) int32 0 0 0 0 0 0 0 0 0 0 0 ... 0 0 0 0 0 0 0 0 0 0\n",
       "    ndbase        (ensemble) int32 0 0 0 0 0 0 0 0 0 0 0 ... 0 0 0 0 0 0 0 0 0 0\n",
       "    ndcur         (ensemble, time) int32 dask.array<shape=(39, 1032), chunksize=(1, 1032)>\n",
       "    nlon          (ensemble, lat) float64 dask.array<shape=(39, 289), chunksize=(1, 289)>\n",
       "    nsbase        (ensemble) int32 0 0 0 0 0 0 0 0 0 0 0 ... 0 0 0 0 0 0 0 0 0 0\n",
       "    nscur         (ensemble, time) int32 dask.array<shape=(39, 1032), chunksize=(1, 1032)>\n",
       "    nsteph        (ensemble, time) int32 dask.array<shape=(39, 1032), chunksize=(1, 1032)>\n",
       "    ntrk          (ensemble) int32 1 1 1 1 1 1 1 1 1 1 1 ... 1 1 1 1 1 1 1 1 1 1\n",
       "    ntrm          (ensemble) int32 1 1 1 1 1 1 1 1 1 1 1 ... 1 1 1 1 1 1 1 1 1 1\n",
       "    ntrn          (ensemble) int32 1 1 1 1 1 1 1 1 1 1 1 ... 1 1 1 1 1 1 1 1 1 1\n",
       "    sol_tsi       (ensemble, time) float64 dask.array<shape=(39, 1032), chunksize=(1, 1032)>\n",
       "    time_bnds     (ensemble, time, nbnd) float64 dask.array<shape=(39, 1032, 2), chunksize=(1, 1032, 2)>\n",
       "    time_written  (ensemble, time) |S8 dask.array<shape=(39, 1032), chunksize=(1, 1032)>\n",
       "    w_stag        (ensemble, slat) float64 dask.array<shape=(39, 256), chunksize=(1, 256)>\n",
       "    wnummax       (ensemble, lat) float64 dask.array<shape=(39, 289), chunksize=(1, 289)>\n",
       "Attributes:\n",
       "    Conventions:               CF-1.0\n",
       "    source:                    CAM\n",
       "    case:                      b.e11.B20TRC5CNBDRD.f09_g16.002\n",
       "    title:                     UNSET\n",
       "    logname:                   mai\n",
       "    host:                      ys1329\n",
       "    Version:                   $Name$\n",
       "    revision_Id:               $Id$\n",
       "    initial_file:              b.e11.B20TRC5CNBDRD.f09_g16.001.cam.i.1920-01-...\n",
       "    topography_file:           /glade/p/cesm/cseg//inputdata/atm/cam/topo/USG...\n",
       "    history:                   Tue Aug 13 11:27:07 2013: /glade/apps/opt/nco/...\n",
       "    NCO:                       4.3.4\n",
       "    nco_openmp_thread_number:  1"
      ]
     },
     "execution_count": 29,
     "metadata": {},
     "output_type": "execute_result"
    }
   ],
   "source": [
    "dset = xr.open_mfdataset(updated_list, concat_dim='ensemble')\n",
    "dset"
   ]
  },
  {
   "cell_type": "markdown",
   "metadata": {},
   "source": [
    "**Step 3**\n",
    "\n",
    "Concatenate list of datasets from step 2 into one xarray dataset. We concatenate these datasets along the `ensemble` dimension."
   ]
  },
  {
   "cell_type": "code",
   "execution_count": 30,
   "metadata": {},
   "outputs": [
    {
     "data": {
      "text/plain": [
       "<xarray.Dataset>\n",
       "Dimensions:       (ensemble: 39, ilev: 31, lat: 289, lev: 30, lon: 288, nbnd: 2, slat: 256, slon: 288, time: 1032)\n",
       "Coordinates:\n",
       "  * lat           (lat) float64 -90.0 -89.06 -88.12 -87.17 ... 88.12 89.06 90.0\n",
       "  * slat          (slat) float64 -89.53 -88.59 -87.64 ... 87.64 88.59 89.53\n",
       "  * ilev          (ilev) float64 2.255 5.032 10.16 18.56 ... 967.5 985.1 1e+03\n",
       "  * lev           (lev) float64 3.643 7.595 14.36 24.61 ... 957.5 976.3 992.6\n",
       "  * lon           (lon) float64 0.0 1.25 2.5 3.75 ... 355.0 356.2 357.5 358.8\n",
       "  * slon          (slon) float64 -0.625 0.625 1.875 3.125 ... 355.6 356.9 358.1\n",
       "  * time          (time) datetime64[ns] 1920-02-01 1920-03-01 ... 2006-01-01\n",
       "Dimensions without coordinates: ensemble, nbnd\n",
       "Data variables:\n",
       "    P0            (ensemble) float64 dask.array<shape=(39,), chunksize=(1,)>\n",
       "    TS            (ensemble, time, lat, lon) float32 dask.array<shape=(39, 1032, 289, 288), chunksize=(1, 20, 289, 288)>\n",
       "    ch4vmr        (ensemble, time) float64 dask.array<shape=(39, 1032), chunksize=(1, 20)>\n",
       "    co2vmr        (ensemble, time) float64 dask.array<shape=(39, 1032), chunksize=(1, 20)>\n",
       "    date          (ensemble, time) int32 dask.array<shape=(39, 1032), chunksize=(1, 20)>\n",
       "    date_written  (ensemble, time) |S8 dask.array<shape=(39, 1032), chunksize=(1, 20)>\n",
       "    datesec       (ensemble, time) int32 dask.array<shape=(39, 1032), chunksize=(1, 20)>\n",
       "    f11vmr        (ensemble, time) float64 dask.array<shape=(39, 1032), chunksize=(1, 20)>\n",
       "    f12vmr        (ensemble, time) float64 dask.array<shape=(39, 1032), chunksize=(1, 20)>\n",
       "    gw            (ensemble, lat) float64 dask.array<shape=(39, 289), chunksize=(1, 289)>\n",
       "    hyai          (ensemble, ilev) float64 dask.array<shape=(39, 31), chunksize=(1, 31)>\n",
       "    hyam          (ensemble, lev) float64 dask.array<shape=(39, 30), chunksize=(1, 30)>\n",
       "    hybi          (ensemble, ilev) float64 dask.array<shape=(39, 31), chunksize=(1, 31)>\n",
       "    hybm          (ensemble, lev) float64 dask.array<shape=(39, 30), chunksize=(1, 30)>\n",
       "    mdt           (ensemble) int32 dask.array<shape=(39,), chunksize=(1,)>\n",
       "    n2ovmr        (ensemble, time) float64 dask.array<shape=(39, 1032), chunksize=(1, 20)>\n",
       "    nbdate        (ensemble) int32 dask.array<shape=(39,), chunksize=(1,)>\n",
       "    nbsec         (ensemble) int32 dask.array<shape=(39,), chunksize=(1,)>\n",
       "    ndbase        (ensemble) int32 dask.array<shape=(39,), chunksize=(1,)>\n",
       "    ndcur         (ensemble, time) int32 dask.array<shape=(39, 1032), chunksize=(1, 20)>\n",
       "    nlon          (ensemble, lat) float64 dask.array<shape=(39, 289), chunksize=(1, 289)>\n",
       "    nsbase        (ensemble) int32 dask.array<shape=(39,), chunksize=(1,)>\n",
       "    nscur         (ensemble, time) int32 dask.array<shape=(39, 1032), chunksize=(1, 20)>\n",
       "    nsteph        (ensemble, time) int32 dask.array<shape=(39, 1032), chunksize=(1, 20)>\n",
       "    ntrk          (ensemble) int32 dask.array<shape=(39,), chunksize=(1,)>\n",
       "    ntrm          (ensemble) int32 dask.array<shape=(39,), chunksize=(1,)>\n",
       "    ntrn          (ensemble) int32 dask.array<shape=(39,), chunksize=(1,)>\n",
       "    sol_tsi       (ensemble, time) float64 dask.array<shape=(39, 1032), chunksize=(1, 20)>\n",
       "    time_bnds     (ensemble, time, nbnd) float64 dask.array<shape=(39, 1032, 2), chunksize=(1, 20, 2)>\n",
       "    time_written  (ensemble, time) |S8 dask.array<shape=(39, 1032), chunksize=(1, 20)>\n",
       "    w_stag        (ensemble, slat) float64 dask.array<shape=(39, 256), chunksize=(1, 256)>\n",
       "    wnummax       (ensemble, lat) float64 dask.array<shape=(39, 289), chunksize=(1, 289)>\n",
       "Attributes:\n",
       "    Conventions:               CF-1.0\n",
       "    source:                    CAM\n",
       "    case:                      b.e11.B20TRC5CNBDRD.f09_g16\n",
       "    title:                     UNSET\n",
       "    logname:                   mai\n",
       "    host:                      ys1329\n",
       "    Version:                   $Name$\n",
       "    revision_Id:               $Id$\n",
       "    initial_file:              b.e11.B20TRC5CNBDRD.f09_g16.001.cam.i.1920-01-...\n",
       "    topography_file:           /glade/p/cesm/cseg//inputdata/atm/cam/topo/USG...\n",
       "    history:                   Tue Aug 13 11:27:07 2013: /glade/apps/opt/nco/...\n",
       "    NCO:                       4.3.4\n",
       "    nco_openmp_thread_number:  1"
      ]
     },
     "execution_count": 30,
     "metadata": {},
     "output_type": "execute_result"
    }
   ],
   "source": [
    "dset = dset.chunk({'ensemble': 1, 'time': 20})\n",
    "dset.attrs['case'] = CASE\n",
    "dset"
   ]
  },
  {
   "cell_type": "code",
   "execution_count": 31,
   "metadata": {},
   "outputs": [],
   "source": [
    "output = f\"/glade/scratch/abanihi/data/AWS/lens/{CASE}.zarr\""
   ]
  },
  {
   "cell_type": "code",
   "execution_count": 32,
   "metadata": {},
   "outputs": [
    {
     "name": "stderr",
     "output_type": "stream",
     "text": [
      "/glade/work/abanihi/softwares/miniconda3/envs/pangeo/lib/python3.6/site-packages/xarray/backends/api.py:859: SerializationWarning: saving variable None with floating point data as an integer dtype without any _FillValue to use for NaNs\n",
      "  dataset.dump_to_store(store, sync=True, encoding=encoding, compute=compute)\n"
     ]
    },
    {
     "name": "stdout",
     "output_type": "stream",
     "text": [
      "CPU times: user 59.9 s, sys: 1.1 s, total: 1min\n",
      "Wall time: 2min 46s\n"
     ]
    },
    {
     "data": {
      "text/plain": [
       "<xarray.backends.zarr.ZarrStore at 0x2aaaf9e2efd0>"
      ]
     },
     "execution_count": 32,
     "metadata": {},
     "output_type": "execute_result"
    }
   ],
   "source": [
    "%time dset.to_zarr(output, mode='w')"
   ]
  },
  {
   "cell_type": "code",
   "execution_count": 33,
   "metadata": {},
   "outputs": [],
   "source": [
    "dset_zarr = xr.open_zarr(output)"
   ]
  },
  {
   "cell_type": "code",
   "execution_count": 34,
   "metadata": {},
   "outputs": [
    {
     "data": {
      "text/plain": [
       "<xarray.Dataset>\n",
       "Dimensions:       (ensemble: 39, ilev: 31, lat: 289, lev: 30, lon: 288, nbnd: 2, slat: 256, slon: 288, time: 1032)\n",
       "Coordinates:\n",
       "  * ilev          (ilev) float64 2.255 5.032 10.16 18.56 ... 967.5 985.1 1e+03\n",
       "  * lat           (lat) float64 -90.0 -89.06 -88.12 -87.17 ... 88.12 89.06 90.0\n",
       "  * lev           (lev) float64 3.643 7.595 14.36 24.61 ... 957.5 976.3 992.6\n",
       "  * lon           (lon) float64 0.0 1.25 2.5 3.75 ... 355.0 356.2 357.5 358.8\n",
       "  * slat          (slat) float64 -89.53 -88.59 -87.64 ... 87.64 88.59 89.53\n",
       "  * slon          (slon) float64 -0.625 0.625 1.875 3.125 ... 355.6 356.9 358.1\n",
       "  * time          (time) datetime64[ns] 1920-02-01 1920-03-01 ... 2006-01-01\n",
       "Dimensions without coordinates: ensemble, nbnd\n",
       "Data variables:\n",
       "    P0            (ensemble) float64 dask.array<shape=(39,), chunksize=(1,)>\n",
       "    TS            (ensemble, time, lat, lon) float32 dask.array<shape=(39, 1032, 289, 288), chunksize=(1, 20, 289, 288)>\n",
       "    ch4vmr        (ensemble, time) float64 dask.array<shape=(39, 1032), chunksize=(1, 20)>\n",
       "    co2vmr        (ensemble, time) float64 dask.array<shape=(39, 1032), chunksize=(1, 20)>\n",
       "    date          (ensemble, time) int32 dask.array<shape=(39, 1032), chunksize=(1, 20)>\n",
       "    date_written  (ensemble, time) |S8 dask.array<shape=(39, 1032), chunksize=(1, 20)>\n",
       "    datesec       (ensemble, time) int32 dask.array<shape=(39, 1032), chunksize=(1, 20)>\n",
       "    f11vmr        (ensemble, time) float64 dask.array<shape=(39, 1032), chunksize=(1, 20)>\n",
       "    f12vmr        (ensemble, time) float64 dask.array<shape=(39, 1032), chunksize=(1, 20)>\n",
       "    gw            (ensemble, lat) float64 dask.array<shape=(39, 289), chunksize=(1, 289)>\n",
       "    hyai          (ensemble, ilev) float64 dask.array<shape=(39, 31), chunksize=(1, 31)>\n",
       "    hyam          (ensemble, lev) float64 dask.array<shape=(39, 30), chunksize=(1, 30)>\n",
       "    hybi          (ensemble, ilev) float64 dask.array<shape=(39, 31), chunksize=(1, 31)>\n",
       "    hybm          (ensemble, lev) float64 dask.array<shape=(39, 30), chunksize=(1, 30)>\n",
       "    mdt           (ensemble) int32 dask.array<shape=(39,), chunksize=(1,)>\n",
       "    n2ovmr        (ensemble, time) float64 dask.array<shape=(39, 1032), chunksize=(1, 20)>\n",
       "    nbdate        (ensemble) int32 dask.array<shape=(39,), chunksize=(1,)>\n",
       "    nbsec         (ensemble) int32 dask.array<shape=(39,), chunksize=(1,)>\n",
       "    ndbase        (ensemble) int32 dask.array<shape=(39,), chunksize=(1,)>\n",
       "    ndcur         (ensemble, time) int32 dask.array<shape=(39, 1032), chunksize=(1, 20)>\n",
       "    nlon          (ensemble, lat) int32 dask.array<shape=(39, 289), chunksize=(1, 289)>\n",
       "    nsbase        (ensemble) int32 dask.array<shape=(39,), chunksize=(1,)>\n",
       "    nscur         (ensemble, time) int32 dask.array<shape=(39, 1032), chunksize=(1, 20)>\n",
       "    nsteph        (ensemble, time) int32 dask.array<shape=(39, 1032), chunksize=(1, 20)>\n",
       "    ntrk          (ensemble) int32 dask.array<shape=(39,), chunksize=(1,)>\n",
       "    ntrm          (ensemble) int32 dask.array<shape=(39,), chunksize=(1,)>\n",
       "    ntrn          (ensemble) int32 dask.array<shape=(39,), chunksize=(1,)>\n",
       "    sol_tsi       (ensemble, time) float64 dask.array<shape=(39, 1032), chunksize=(1, 20)>\n",
       "    time_bnds     (ensemble, time, nbnd) float64 dask.array<shape=(39, 1032, 2), chunksize=(1, 20, 2)>\n",
       "    time_written  (ensemble, time) |S8 dask.array<shape=(39, 1032), chunksize=(1, 20)>\n",
       "    w_stag        (ensemble, slat) float64 dask.array<shape=(39, 256), chunksize=(1, 256)>\n",
       "    wnummax       (ensemble, lat) int32 dask.array<shape=(39, 289), chunksize=(1, 289)>\n",
       "Attributes:\n",
       "    Conventions:               CF-1.0\n",
       "    NCO:                       4.3.4\n",
       "    Version:                   $Name$\n",
       "    case:                      b.e11.B20TRC5CNBDRD.f09_g16\n",
       "    history:                   Tue Aug 13 11:27:07 2013: /glade/apps/opt/nco/...\n",
       "    host:                      ys1329\n",
       "    initial_file:              b.e11.B20TRC5CNBDRD.f09_g16.001.cam.i.1920-01-...\n",
       "    logname:                   mai\n",
       "    nco_openmp_thread_number:  1\n",
       "    revision_Id:               $Id$\n",
       "    source:                    CAM\n",
       "    title:                     UNSET\n",
       "    topography_file:           /glade/p/cesm/cseg//inputdata/atm/cam/topo/USG..."
      ]
     },
     "execution_count": 34,
     "metadata": {},
     "output_type": "execute_result"
    }
   ],
   "source": [
    "dset_zarr"
   ]
  },
  {
   "cell_type": "code",
   "execution_count": 100,
   "metadata": {},
   "outputs": [
    {
     "name": "stdout",
     "output_type": "stream",
     "text": [
      "dataset size in GB 8.54\n",
      "\n"
     ]
    }
   ],
   "source": [
    "print('dataset size in GB {:0.2f}\\n'.format(dset_zarr.nbytes / 1e9))"
   ]
  },
  {
   "cell_type": "code",
   "execution_count": 35,
   "metadata": {},
   "outputs": [
    {
     "name": "stdout",
     "output_type": "stream",
     "text": [
      "5.1G\t/glade/scratch/abanihi/data/AWS/lens/b.e11.B20TRC5CNBDRD.f09_g16.zarr/\n"
     ]
    }
   ],
   "source": [
    "!du -s /glade/scratch/abanihi/data/AWS/lens/b.e11.B20TRC5CNBDRD.f09_g16.zarr/ -h"
   ]
  },
  {
   "cell_type": "code",
   "execution_count": null,
   "metadata": {},
   "outputs": [],
   "source": []
  }
 ],
 "metadata": {
  "kernelspec": {
   "display_name": "Python [conda env:pangeo]",
   "language": "python",
   "name": "conda-env-pangeo-py"
  },
  "language_info": {
   "codemirror_mode": {
    "name": "ipython",
    "version": 3
   },
   "file_extension": ".py",
   "mimetype": "text/x-python",
   "name": "python",
   "nbconvert_exporter": "python",
   "pygments_lexer": "ipython3",
   "version": "3.6.6"
  }
 },
 "nbformat": 4,
 "nbformat_minor": 2
}
