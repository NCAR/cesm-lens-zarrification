{
 "cells": [
  {
   "cell_type": "markdown",
   "metadata": {},
   "source": [
    "Ref: https://github.com/NCAR/cesm-lens-aws/issues/34"
   ]
  },
  {
   "cell_type": "code",
   "execution_count": 15,
   "metadata": {},
   "outputs": [
    {
     "name": "stdout",
     "output_type": "stream",
     "text": [
      "The autoreload extension is already loaded. To reload it, use:\n",
      "  %reload_ext autoreload\n"
     ]
    }
   ],
   "source": [
    "%load_ext autoreload\n",
    "%autoreload 2"
   ]
  },
  {
   "cell_type": "code",
   "execution_count": 16,
   "metadata": {},
   "outputs": [
    {
     "data": {
      "text/plain": [
       "{'link': '/proxy/{port}/status', 'export-tool': False}"
      ]
     },
     "execution_count": 16,
     "metadata": {},
     "output_type": "execute_result"
    }
   ],
   "source": [
    "import xarray as xr\n",
    "import intake\n",
    "from tqdm.auto import tqdm\n",
    "import dask\n",
    "from ncar_jobqueue import NCARCluster\n",
    "from distributed import Client\n",
    "from utils import _restore_non_dim_coords, preprocess, show_ds_info, print_ds_info, save_data, zarr_store\n",
    "xr.set_options(display_style='html')\n",
    "dask.config.set({'distributed.dashboard.link': '/proxy/{port}/status'})\n",
    "dask.config.get('distributed.dashboard')"
   ]
  },
  {
   "cell_type": "code",
   "execution_count": 3,
   "metadata": {},
   "outputs": [
    {
     "data": {
      "application/vnd.jupyter.widget-view+json": {
       "model_id": "12e0448715c74f8a90aae7120ea1e791",
       "version_major": 2,
       "version_minor": 0
      },
      "text/plain": [
       "VBox(children=(HTML(value='<h2>NCARCluster</h2>'), HBox(children=(HTML(value='\\n<div>\\n  <style scoped>\\n    .…"
      ]
     },
     "metadata": {},
     "output_type": "display_data"
    }
   ],
   "source": [
    "cluster = NCARCluster(cores=4, memory=\"60GB\")\n",
    "#cluster.adapt(minimum_jobs=2, maximum_jobs=80, wait_count=120)\n",
    "cluster.scale(80)\n",
    "client = Client(cluster)\n",
    "cluster"
   ]
  },
  {
   "cell_type": "code",
   "execution_count": 17,
   "metadata": {},
   "outputs": [
    {
     "data": {
      "text/plain": [
       "glade-cesm1-le-ESM Collection with 191066 entries:\n",
       "\t> 7 experiment(s)\n",
       "\n",
       "\t> 108 case(s)\n",
       "\n",
       "\t> 6 component(s)\n",
       "\n",
       "\t> 15 stream(s)\n",
       "\n",
       "\t> 1052 variable(s)\n",
       "\n",
       "\t> 116 date_range(s)\n",
       "\n",
       "\t> 40 member_id(s)\n",
       "\n",
       "\t> 191066 path(s)\n",
       "\n",
       "\t> 6 ctrl_branch_year(s)\n",
       "\n",
       "\t> 4 ctrl_experiment(s)\n",
       "\n",
       "\t> 41 ctrl_member_id(s)"
      ]
     },
     "execution_count": 17,
     "metadata": {},
     "output_type": "execute_result"
    }
   ],
   "source": [
    "col = intake.open_esm_datastore(\"../catalogs/glade-campaign-cesm1-le.json\")\n",
    "col"
   ]
  },
  {
   "cell_type": "code",
   "execution_count": 18,
   "metadata": {},
   "outputs": [],
   "source": [
    "chunksCTRL = {'chunks': {'time': 360, 'z_t': 1,  'z_w_top': 1,  'z_w_bot': 1}}\n",
    "chunksOther = {'chunks': {'member_id': 40, 'time': 12, 'z_t': 1,  'z_w_top': 1,  'z_w_bot': 1}}"
   ]
  },
  {
   "cell_type": "code",
   "execution_count": 19,
   "metadata": {},
   "outputs": [
    {
     "data": {
      "text/plain": [
       "glade-cesm1-le-ESM Collection with 320 entries:\n",
       "\t> 1 experiment(s)\n",
       "\n",
       "\t> 40 case(s)\n",
       "\n",
       "\t> 1 component(s)\n",
       "\n",
       "\t> 1 stream(s)\n",
       "\n",
       "\t> 8 variable(s)\n",
       "\n",
       "\t> 2 date_range(s)\n",
       "\n",
       "\t> 40 member_id(s)\n",
       "\n",
       "\t> 320 path(s)\n",
       "\n",
       "\t> 2 ctrl_branch_year(s)\n",
       "\n",
       "\t> 2 ctrl_experiment(s)\n",
       "\n",
       "\t> 1 ctrl_member_id(s)"
      ]
     },
     "execution_count": 19,
     "metadata": {},
     "output_type": "execute_result"
    }
   ],
   "source": [
    "variables = [\"TEMP\", \"UVEL\", \"VVEL\", \"WVEL\", \"VNS\", \"VNT\", \"SHF\", \"SFWF\"]\n",
    "col_subset = col.search(variable=variables, experiment='20C')\n",
    "col_subset"
   ]
  },
  {
   "cell_type": "code",
   "execution_count": 20,
   "metadata": {},
   "outputs": [
    {
     "name": "stdout",
     "output_type": "stream",
     "text": [
      "\n",
      "--> The keys in the returned dictionary of datasets are constructed as follows:\n",
      "\t'component.experiment.stream.variable'\n",
      "                \n",
      "--> There is/are 8 group(s)\n",
      "Variable name: SFWF\n",
      "Dataset dimensions: ('member_id', 'time', 'nlat', 'nlon')\n",
      "Chunk shape: (2, 240, 384, 320)\n",
      "Dataset shape: (40, 1872, 384, 320)\n",
      "Chunk size: 235.93 MB\n",
      "Dataset size: 36.83 GB\n",
      "\n",
      "\n",
      "Variable name: SHF\n",
      "Dataset dimensions: ('member_id', 'time', 'nlat', 'nlon')\n",
      "Chunk shape: (2, 240, 384, 320)\n",
      "Dataset shape: (40, 1872, 384, 320)\n",
      "Chunk size: 235.93 MB\n",
      "Dataset size: 36.83 GB\n",
      "\n",
      "\n",
      "Variable name: TEMP\n",
      "Dataset dimensions: ('member_id', 'time', 'z_t', 'nlat', 'nlon')\n",
      "Chunk shape: (2, 240, 1, 384, 320)\n",
      "Dataset shape: (40, 1872, 60, 384, 320)\n",
      "Chunk size: 235.93 MB\n",
      "Dataset size: 2.21 TB\n",
      "\n",
      "\n",
      "Variable name: UVEL\n",
      "Dataset dimensions: ('member_id', 'time', 'z_t', 'nlat', 'nlon')\n",
      "Chunk shape: (2, 240, 1, 384, 320)\n",
      "Dataset shape: (40, 1872, 60, 384, 320)\n",
      "Chunk size: 235.93 MB\n",
      "Dataset size: 2.21 TB\n",
      "\n",
      "\n",
      "Variable name: VNS\n",
      "Dataset dimensions: ('member_id', 'time', 'z_t', 'nlat', 'nlon')\n",
      "Chunk shape: (2, 240, 1, 384, 320)\n",
      "Dataset shape: (40, 1872, 60, 384, 320)\n",
      "Chunk size: 235.93 MB\n",
      "Dataset size: 2.21 TB\n",
      "\n",
      "\n",
      "Variable name: VNT\n",
      "Dataset dimensions: ('member_id', 'time', 'z_t', 'nlat', 'nlon')\n",
      "Chunk shape: (2, 240, 1, 384, 320)\n",
      "Dataset shape: (40, 1872, 60, 384, 320)\n",
      "Chunk size: 235.93 MB\n",
      "Dataset size: 2.21 TB\n",
      "\n",
      "\n",
      "Variable name: VVEL\n",
      "Dataset dimensions: ('member_id', 'time', 'z_t', 'nlat', 'nlon')\n",
      "Chunk shape: (2, 240, 1, 384, 320)\n",
      "Dataset shape: (40, 1872, 60, 384, 320)\n",
      "Chunk size: 235.93 MB\n",
      "Dataset size: 2.21 TB\n",
      "\n",
      "\n",
      "Variable name: WVEL\n",
      "Dataset dimensions: ('member_id', 'time', 'z_w_top', 'nlat', 'nlon')\n",
      "Chunk shape: (2, 240, 1, 384, 320)\n",
      "Dataset shape: (40, 1872, 60, 384, 320)\n",
      "Chunk size: 235.93 MB\n",
      "Dataset size: 2.21 TB\n",
      "\n",
      "\n"
     ]
    }
   ],
   "source": [
    "chunks = {'time': 240, 'z_t': 1,  'z_w_top': 1,  'z_w_bot': 1}\n",
    "chunksOut = {'member_id': 2, 'time': 240, 'z_t': 1,  'z_w_top': 1,  'z_w_bot': 1}\n",
    "datasets = col_subset.to_dataset_dict(cdf_kwargs={'chunks': chunks}, preprocess=preprocess)\n",
    "\n",
    "dsets = {}\n",
    "for key, ds in datasets.items():\n",
    "    _ds = ds.copy()\n",
    "    _ds = _restore_non_dim_coords(_ds)\n",
    "    _ds = _ds.chunk(chunksOut)\n",
    "    dsets[key] = _ds\n",
    "    variable = key.split('.')[-1]\n",
    "    print_ds_info(_ds, variable)\n",
    "    print('\\n')"
   ]
  },
  {
   "cell_type": "code",
   "execution_count": 21,
   "metadata": {},
   "outputs": [
    {
     "data": {
      "application/vnd.jupyter.widget-view+json": {
       "model_id": "d5ddfb57c6a24659a7bc4c5e470c9d39",
       "version_major": 2,
       "version_minor": 0
      },
      "text/plain": [
       "HBox(children=(FloatProgress(value=0.0, max=8.0), HTML(value='')))"
      ]
     },
     "metadata": {},
     "output_type": "display_data"
    },
    {
     "name": "stdout",
     "output_type": "stream",
     "text": [
      "/glade/scratch/abanihi/lens-aws/ocn/monthly/cesmLE-20C-SFWF.zarr\n",
      "/glade/scratch/abanihi/lens-aws/ocn/monthly/cesmLE-20C-SHF.zarr\n",
      "/glade/scratch/abanihi/lens-aws/ocn/monthly/cesmLE-20C-TEMP.zarr\n",
      "/glade/scratch/abanihi/lens-aws/ocn/monthly/cesmLE-20C-UVEL.zarr\n",
      "/glade/scratch/abanihi/lens-aws/ocn/monthly/cesmLE-20C-VNS.zarr\n",
      "/glade/scratch/abanihi/lens-aws/ocn/monthly/cesmLE-20C-VNT.zarr\n",
      "/glade/scratch/abanihi/lens-aws/ocn/monthly/cesmLE-20C-VVEL.zarr\n",
      "/glade/scratch/abanihi/lens-aws/ocn/monthly/cesmLE-20C-WVEL.zarr\n",
      "\n"
     ]
    }
   ],
   "source": [
    "dirout = \"/glade/scratch/abanihi/lens-aws\"\n",
    "for key, ds in tqdm(dsets.items()):\n",
    "    key = key.split('.')\n",
    "    exp, cmp, var, frequency = key[1], key[0], key[-1], 'monthly'\n",
    "    store = zarr_store(exp, cmp, frequency, var, write=True, dirout=dirout)\n",
    "    save_data(ds, store)"
   ]
  },
  {
   "cell_type": "code",
   "execution_count": 22,
   "metadata": {},
   "outputs": [
    {
     "name": "stdout",
     "output_type": "stream",
     "text": [
      "The watermark extension is already loaded. To reload it, use:\n",
      "  %reload_ext watermark\n",
      "intake 0.5.4\n",
      "dask   2.12.0\n",
      "xarray 0.15.0\n",
      "2020-03-21 \n",
      "\n",
      "compiler   : GCC 7.3.0\n",
      "system     : Linux\n",
      "release    : 3.10.0-693.21.1.el7.x86_64\n",
      "machine    : x86_64\n",
      "processor  : x86_64\n",
      "CPU cores  : 72\n",
      "interpreter: 64bit\n",
      "host name  : casper26\n",
      "Git hash   : 08a8f3d0c57a4cfe5a365419ce17be2ecefb30a7\n"
     ]
    }
   ],
   "source": [
    "%load_ext watermark\n",
    "%watermark -d -iv -m -g -h"
   ]
  },
  {
   "cell_type": "code",
   "execution_count": 23,
   "metadata": {},
   "outputs": [
    {
     "name": "stderr",
     "output_type": "stream",
     "text": [
      "distributed.client - ERROR - Failed to reconnect to scheduler after 10.00 seconds, closing client\n",
      "_GatheringFuture exception was never retrieved\n",
      "future: <_GatheringFuture finished exception=CancelledError()>\n",
      "concurrent.futures._base.CancelledError\n"
     ]
    }
   ],
   "source": [
    "cluster.close()"
   ]
  }
 ],
 "metadata": {
  "kernelspec": {
   "display_name": "Python [conda env:analysis]",
   "language": "python",
   "name": "conda-env-analysis-py"
  },
  "language_info": {
   "codemirror_mode": {
    "name": "ipython",
    "version": 3
   },
   "file_extension": ".py",
   "mimetype": "text/x-python",
   "name": "python",
   "nbconvert_exporter": "python",
   "pygments_lexer": "ipython3",
   "version": "3.7.6"
  },
  "widgets": {
   "application/vnd.jupyter.widget-state+json": {
    "state": {
     "04e09a2eaa0e4fcdaee93a08d9f9ba2a": {
      "model_module": "@jupyter-widgets/controls",
      "model_module_version": "1.5.0",
      "model_name": "DescriptionStyleModel",
      "state": {
       "description_width": ""
      }
     },
     "12e0448715c74f8a90aae7120ea1e791": {
      "model_module": "@jupyter-widgets/controls",
      "model_module_version": "1.5.0",
      "model_name": "VBoxModel",
      "state": {
       "children": [
        "IPY_MODEL_4c1dce1ea9a04845a59bcff85fdab232",
        "IPY_MODEL_a35c68953b22476eb49bfe61f52ca1b6",
        "IPY_MODEL_58b3a50fd5ec4c698fe66efb317fbd5d"
       ],
       "layout": "IPY_MODEL_6848e0fdadbe49368e72f8ff5084953a"
      }
     },
     "13ce99ea209f4763b0ed3bb36df60f6a": {
      "model_module": "@jupyter-widgets/controls",
      "model_module_version": "1.5.0",
      "model_name": "HBoxModel",
      "state": {
       "children": [
        "IPY_MODEL_5eee4b0401184315b660f663c730df1f",
        "IPY_MODEL_b3920c16292f4568a35c040d0a90d688"
       ],
       "layout": "IPY_MODEL_add9bab9eda14739ad38a8168a32e1c6"
      }
     },
     "1ad6a9c0de544d6d938773763a8c39f3": {
      "model_module": "@jupyter-widgets/base",
      "model_module_version": "1.2.0",
      "model_name": "LayoutModel",
      "state": {}
     },
     "1cf9f8f4058344d4b3606fb28680a938": {
      "model_module": "@jupyter-widgets/controls",
      "model_module_version": "1.5.0",
      "model_name": "HTMLModel",
      "state": {
       "layout": "IPY_MODEL_d6baa0c656b7407fb74b72c4f2882698",
       "style": "IPY_MODEL_ad7a884013db47a589905f6743af7c4a",
       "value": "\n<div>\n  <style scoped>\n    .dataframe tbody tr th:only-of-type {\n        vertical-align: middle;\n    }\n\n    .dataframe tbody tr th {\n        vertical-align: top;\n    }\n\n    .dataframe thead th {\n        text-align: right;\n    }\n  </style>\n  <table style=\"text-align: right;\">\n    <tr> <th>Workers</th> <td>79 / 80</td></tr>\n    <tr> <th>Cores</th> <td>316</td></tr>\n    <tr> <th>Memory</th> <td>4.74 TB</td></tr>\n  </table>\n</div>\n"
      }
     },
     "1e80c3eca0b24ee5ad2a17222b65c947": {
      "model_module": "@jupyter-widgets/base",
      "model_module_version": "1.2.0",
      "model_name": "LayoutModel",
      "state": {}
     },
     "21ba83dd5aea42e09de2e99ffd299e31": {
      "model_module": "@jupyter-widgets/base",
      "model_module_version": "1.2.0",
      "model_name": "LayoutModel",
      "state": {}
     },
     "2570198f4d9147cc829d0c8d6ba448c5": {
      "model_module": "@jupyter-widgets/base",
      "model_module_version": "1.2.0",
      "model_name": "LayoutModel",
      "state": {}
     },
     "2733fdd21f8c41c08db2557bdf82a654": {
      "model_module": "@jupyter-widgets/base",
      "model_module_version": "1.2.0",
      "model_name": "LayoutModel",
      "state": {}
     },
     "2b2cbdc386524a9596723532d491a4a0": {
      "model_module": "@jupyter-widgets/controls",
      "model_module_version": "1.5.0",
      "model_name": "ProgressStyleModel",
      "state": {
       "description_width": "initial"
      }
     },
     "2bce3b9ebda649eaa6327221f6723719": {
      "model_module": "@jupyter-widgets/controls",
      "model_module_version": "1.5.0",
      "model_name": "DescriptionStyleModel",
      "state": {
       "description_width": ""
      }
     },
     "2e68744a228f4445ba946e70e5a214c6": {
      "model_module": "@jupyter-widgets/base",
      "model_module_version": "1.2.0",
      "model_name": "LayoutModel",
      "state": {
       "width": "150px"
      }
     },
     "33924f49745f460aa16f24496f314060": {
      "model_module": "@jupyter-widgets/controls",
      "model_module_version": "1.5.0",
      "model_name": "ButtonModel",
      "state": {
       "description": "Scale",
       "layout": "IPY_MODEL_2e68744a228f4445ba946e70e5a214c6",
       "style": "IPY_MODEL_cb4552f109b34491afedde257417db67"
      }
     },
     "341e3aa9f70f4a0197858b09a6745bc3": {
      "model_module": "@jupyter-widgets/base",
      "model_module_version": "1.2.0",
      "model_name": "LayoutModel",
      "state": {}
     },
     "37bf75742f85402eab6eb84f178e5a18": {
      "model_module": "@jupyter-widgets/controls",
      "model_module_version": "1.5.0",
      "model_name": "IntTextModel",
      "state": {
       "description": "Maximum",
       "layout": "IPY_MODEL_2e68744a228f4445ba946e70e5a214c6",
       "step": 1,
       "style": "IPY_MODEL_2bce3b9ebda649eaa6327221f6723719"
      }
     },
     "3af44b9f3eb047fd9d16db0540323c37": {
      "model_module": "@jupyter-widgets/controls",
      "model_module_version": "1.5.0",
      "model_name": "ProgressStyleModel",
      "state": {
       "description_width": "initial"
      }
     },
     "3b63f751b04040bfa2814adbe82ad93b": {
      "model_module": "@jupyter-widgets/controls",
      "model_module_version": "1.5.0",
      "model_name": "FloatProgressModel",
      "state": {
       "bar_style": "success",
       "description": "100%",
       "layout": "IPY_MODEL_2733fdd21f8c41c08db2557bdf82a654",
       "max": 2,
       "style": "IPY_MODEL_2b2cbdc386524a9596723532d491a4a0",
       "value": 2
      }
     },
     "47b64107dbe14b23bb2e29bd33a5112a": {
      "model_module": "@jupyter-widgets/base",
      "model_module_version": "1.2.0",
      "model_name": "LayoutModel",
      "state": {}
     },
     "4c1dce1ea9a04845a59bcff85fdab232": {
      "model_module": "@jupyter-widgets/controls",
      "model_module_version": "1.5.0",
      "model_name": "HTMLModel",
      "state": {
       "layout": "IPY_MODEL_6488d94ef56e4e6f9e7c341015beafbe",
       "style": "IPY_MODEL_a36ca28718a54691977a2a55492ab724",
       "value": "<h2>NCARCluster</h2>"
      }
     },
     "58b3a50fd5ec4c698fe66efb317fbd5d": {
      "model_module": "@jupyter-widgets/controls",
      "model_module_version": "1.5.0",
      "model_name": "HTMLModel",
      "state": {
       "layout": "IPY_MODEL_1e80c3eca0b24ee5ad2a17222b65c947",
       "style": "IPY_MODEL_838cd6b47cab4bef9a67d8be59c8a129",
       "value": "<p><b>Dashboard: </b><a href=\"/proxy/8787/status\" target=\"_blank\">/proxy/8787/status</a></p>\n"
      }
     },
     "59ce07448b824e6f8f7fb81d44d93be4": {
      "model_module": "@jupyter-widgets/controls",
      "model_module_version": "1.5.0",
      "model_name": "HTMLModel",
      "state": {
       "layout": "IPY_MODEL_341e3aa9f70f4a0197858b09a6745bc3",
       "style": "IPY_MODEL_04e09a2eaa0e4fcdaee93a08d9f9ba2a",
       "value": " 2/2 [02:01&lt;00:00, 60.91s/it]"
      }
     },
     "59f47d5cfef348e28ab490b109ceca83": {
      "model_module": "@jupyter-widgets/controls",
      "model_module_version": "1.5.0",
      "model_name": "FloatProgressModel",
      "state": {
       "bar_style": "success",
       "description": "100%",
       "layout": "IPY_MODEL_8ffa9415e8aa4b20a8e3055d3de01ec7",
       "max": 8,
       "style": "IPY_MODEL_3af44b9f3eb047fd9d16db0540323c37",
       "value": 8
      }
     },
     "5e4d2bd1a0414060add25e680db8a64c": {
      "model_module": "@jupyter-widgets/controls",
      "model_module_version": "1.5.0",
      "model_name": "ButtonStyleModel",
      "state": {}
     },
     "5eee4b0401184315b660f663c730df1f": {
      "model_module": "@jupyter-widgets/controls",
      "model_module_version": "1.5.0",
      "model_name": "FloatProgressModel",
      "state": {
       "bar_style": "success",
       "description": "100%",
       "layout": "IPY_MODEL_7f4211d1c5dc436aacb6f5afb62406f4",
       "max": 2,
       "style": "IPY_MODEL_f0855e3cc3cd4839a931aabec64cfb57",
       "value": 2
      }
     },
     "62415e357c2b477d9f36987b72d19289": {
      "model_module": "@jupyter-widgets/controls",
      "model_module_version": "1.5.0",
      "model_name": "DescriptionStyleModel",
      "state": {
       "description_width": ""
      }
     },
     "6488d94ef56e4e6f9e7c341015beafbe": {
      "model_module": "@jupyter-widgets/base",
      "model_module_version": "1.2.0",
      "model_name": "LayoutModel",
      "state": {}
     },
     "671f4edbf53c4103b528eb59ff1b4ce8": {
      "model_module": "@jupyter-widgets/controls",
      "model_module_version": "1.5.0",
      "model_name": "VBoxModel",
      "state": {
       "layout": "IPY_MODEL_21ba83dd5aea42e09de2e99ffd299e31"
      }
     },
     "6848e0fdadbe49368e72f8ff5084953a": {
      "model_module": "@jupyter-widgets/base",
      "model_module_version": "1.2.0",
      "model_name": "LayoutModel",
      "state": {}
     },
     "68935a275fef42d79c9236ebd9d0e405": {
      "model_module": "@jupyter-widgets/controls",
      "model_module_version": "1.5.0",
      "model_name": "VBoxModel",
      "state": {
       "layout": "IPY_MODEL_c812a9bf5d7949b4b91892a9fb599c24"
      }
     },
     "78f3d37b4336410fa5d9af98fd69e3f9": {
      "model_module": "@jupyter-widgets/base",
      "model_module_version": "1.2.0",
      "model_name": "LayoutModel",
      "state": {}
     },
     "7e74cea46e8e4d2aaf81fcd308e9a96e": {
      "model_module": "@jupyter-widgets/controls",
      "model_module_version": "1.5.0",
      "model_name": "IntTextModel",
      "state": {
       "description": "Workers",
       "layout": "IPY_MODEL_2e68744a228f4445ba946e70e5a214c6",
       "step": 1,
       "style": "IPY_MODEL_e5ff378d4ec44a60ae5301bf9f5022b4"
      }
     },
     "7f4211d1c5dc436aacb6f5afb62406f4": {
      "model_module": "@jupyter-widgets/base",
      "model_module_version": "1.2.0",
      "model_name": "LayoutModel",
      "state": {}
     },
     "7fbb0c43c833490f9c4bc882333e2917": {
      "model_module": "@jupyter-widgets/base",
      "model_module_version": "1.2.0",
      "model_name": "LayoutModel",
      "state": {
       "min_width": "500px"
      }
     },
     "838cd6b47cab4bef9a67d8be59c8a129": {
      "model_module": "@jupyter-widgets/controls",
      "model_module_version": "1.5.0",
      "model_name": "DescriptionStyleModel",
      "state": {
       "description_width": ""
      }
     },
     "8862e389d6eb49ff8885ccac2e725226": {
      "model_module": "@jupyter-widgets/base",
      "model_module_version": "1.2.0",
      "model_name": "LayoutModel",
      "state": {}
     },
     "8ffa9415e8aa4b20a8e3055d3de01ec7": {
      "model_module": "@jupyter-widgets/base",
      "model_module_version": "1.2.0",
      "model_name": "LayoutModel",
      "state": {}
     },
     "a24fac2a59ae474bb93261375442f4c4": {
      "model_module": "@jupyter-widgets/controls",
      "model_module_version": "1.5.0",
      "model_name": "IntTextModel",
      "state": {
       "description": "Minimum",
       "layout": "IPY_MODEL_2e68744a228f4445ba946e70e5a214c6",
       "step": 1,
       "style": "IPY_MODEL_62415e357c2b477d9f36987b72d19289"
      }
     },
     "a35c68953b22476eb49bfe61f52ca1b6": {
      "model_module": "@jupyter-widgets/controls",
      "model_module_version": "1.5.0",
      "model_name": "HBoxModel",
      "state": {
       "children": [
        "IPY_MODEL_1cf9f8f4058344d4b3606fb28680a938",
        "IPY_MODEL_cda788cc395e4e24bdc990c4432dae51"
       ],
       "layout": "IPY_MODEL_2570198f4d9147cc829d0c8d6ba448c5"
      }
     },
     "a36ca28718a54691977a2a55492ab724": {
      "model_module": "@jupyter-widgets/controls",
      "model_module_version": "1.5.0",
      "model_name": "DescriptionStyleModel",
      "state": {
       "description_width": ""
      }
     },
     "a851474d53a045e98ec14412a165716e": {
      "model_module": "@jupyter-widgets/controls",
      "model_module_version": "1.5.0",
      "model_name": "ButtonModel",
      "state": {
       "description": "Adapt",
       "layout": "IPY_MODEL_2e68744a228f4445ba946e70e5a214c6",
       "style": "IPY_MODEL_5e4d2bd1a0414060add25e680db8a64c"
      }
     },
     "a9be9277870d44b1876d488d92161f50": {
      "model_module": "@jupyter-widgets/controls",
      "model_module_version": "1.5.0",
      "model_name": "HTMLModel",
      "state": {
       "layout": "IPY_MODEL_1ad6a9c0de544d6d938773763a8c39f3",
       "style": "IPY_MODEL_e611fe9d21ff4059942f1d345995ce20",
       "value": " 8/8 [4:38:45&lt;00:00, 2090.65s/it]"
      }
     },
     "abcf7c063f7f4e4dbedc21032596e2eb": {
      "model_module": "@jupyter-widgets/controls",
      "model_module_version": "1.5.0",
      "model_name": "HBoxModel",
      "state": {
       "children": [
        "IPY_MODEL_3b63f751b04040bfa2814adbe82ad93b",
        "IPY_MODEL_59ce07448b824e6f8f7fb81d44d93be4"
       ],
       "layout": "IPY_MODEL_ba44dfcfadd6479c914d549a91956c52"
      }
     },
     "ad7a884013db47a589905f6743af7c4a": {
      "model_module": "@jupyter-widgets/controls",
      "model_module_version": "1.5.0",
      "model_name": "DescriptionStyleModel",
      "state": {
       "description_width": ""
      }
     },
     "add9bab9eda14739ad38a8168a32e1c6": {
      "model_module": "@jupyter-widgets/base",
      "model_module_version": "1.2.0",
      "model_name": "LayoutModel",
      "state": {}
     },
     "b3920c16292f4568a35c040d0a90d688": {
      "model_module": "@jupyter-widgets/controls",
      "model_module_version": "1.5.0",
      "model_name": "HTMLModel",
      "state": {
       "layout": "IPY_MODEL_8862e389d6eb49ff8885ccac2e725226",
       "style": "IPY_MODEL_dfd399f811ec49188ceac146e1d992a1",
       "value": " 2/2 [02:25&lt;00:00, 72.70s/it]"
      }
     },
     "b87bf3a097e743339ac03e797064c2cd": {
      "model_module": "@jupyter-widgets/base",
      "model_module_version": "1.2.0",
      "model_name": "LayoutModel",
      "state": {}
     },
     "ba44dfcfadd6479c914d549a91956c52": {
      "model_module": "@jupyter-widgets/base",
      "model_module_version": "1.2.0",
      "model_name": "LayoutModel",
      "state": {}
     },
     "c812a9bf5d7949b4b91892a9fb599c24": {
      "model_module": "@jupyter-widgets/base",
      "model_module_version": "1.2.0",
      "model_name": "LayoutModel",
      "state": {}
     },
     "cb4552f109b34491afedde257417db67": {
      "model_module": "@jupyter-widgets/controls",
      "model_module_version": "1.5.0",
      "model_name": "ButtonStyleModel",
      "state": {}
     },
     "cda788cc395e4e24bdc990c4432dae51": {
      "model_module": "@jupyter-widgets/controls",
      "model_module_version": "1.5.0",
      "model_name": "AccordionModel",
      "state": {
       "_titles": {
        "0": "Manual Scaling",
        "1": "Adaptive Scaling"
       },
       "children": [
        "IPY_MODEL_f5bb01679c6c41a0b1a145f04c18396b",
        "IPY_MODEL_e028ca814de349a8b1f396ed461d9578"
       ],
       "layout": "IPY_MODEL_7fbb0c43c833490f9c4bc882333e2917",
       "selected_index": null
      }
     },
     "d5ddfb57c6a24659a7bc4c5e470c9d39": {
      "model_module": "@jupyter-widgets/controls",
      "model_module_version": "1.5.0",
      "model_name": "HBoxModel",
      "state": {
       "children": [
        "IPY_MODEL_59f47d5cfef348e28ab490b109ceca83",
        "IPY_MODEL_a9be9277870d44b1876d488d92161f50"
       ],
       "layout": "IPY_MODEL_b87bf3a097e743339ac03e797064c2cd"
      }
     },
     "d6baa0c656b7407fb74b72c4f2882698": {
      "model_module": "@jupyter-widgets/base",
      "model_module_version": "1.2.0",
      "model_name": "LayoutModel",
      "state": {
       "min_width": "150px"
      }
     },
     "dfd399f811ec49188ceac146e1d992a1": {
      "model_module": "@jupyter-widgets/controls",
      "model_module_version": "1.5.0",
      "model_name": "DescriptionStyleModel",
      "state": {
       "description_width": ""
      }
     },
     "e028ca814de349a8b1f396ed461d9578": {
      "model_module": "@jupyter-widgets/controls",
      "model_module_version": "1.5.0",
      "model_name": "HBoxModel",
      "state": {
       "children": [
        "IPY_MODEL_a24fac2a59ae474bb93261375442f4c4",
        "IPY_MODEL_37bf75742f85402eab6eb84f178e5a18",
        "IPY_MODEL_a851474d53a045e98ec14412a165716e"
       ],
       "layout": "IPY_MODEL_47b64107dbe14b23bb2e29bd33a5112a"
      }
     },
     "e273b9bd6da749b6ac43c837c8e9713f": {
      "model_module": "@jupyter-widgets/base",
      "model_module_version": "1.2.0",
      "model_name": "LayoutModel",
      "state": {}
     },
     "e5ff378d4ec44a60ae5301bf9f5022b4": {
      "model_module": "@jupyter-widgets/controls",
      "model_module_version": "1.5.0",
      "model_name": "DescriptionStyleModel",
      "state": {
       "description_width": ""
      }
     },
     "e611fe9d21ff4059942f1d345995ce20": {
      "model_module": "@jupyter-widgets/controls",
      "model_module_version": "1.5.0",
      "model_name": "DescriptionStyleModel",
      "state": {
       "description_width": ""
      }
     },
     "f0855e3cc3cd4839a931aabec64cfb57": {
      "model_module": "@jupyter-widgets/controls",
      "model_module_version": "1.5.0",
      "model_name": "ProgressStyleModel",
      "state": {
       "description_width": "initial"
      }
     },
     "f5bb01679c6c41a0b1a145f04c18396b": {
      "model_module": "@jupyter-widgets/controls",
      "model_module_version": "1.5.0",
      "model_name": "HBoxModel",
      "state": {
       "children": [
        "IPY_MODEL_7e74cea46e8e4d2aaf81fcd308e9a96e",
        "IPY_MODEL_33924f49745f460aa16f24496f314060"
       ],
       "layout": "IPY_MODEL_78f3d37b4336410fa5d9af98fd69e3f9"
      }
     },
     "f997df3e87d743d1b8f932dce9489f87": {
      "model_module": "@jupyter-widgets/controls",
      "model_module_version": "1.5.0",
      "model_name": "VBoxModel",
      "state": {
       "layout": "IPY_MODEL_e273b9bd6da749b6ac43c837c8e9713f"
      }
     }
    },
    "version_major": 2,
    "version_minor": 0
   }
  }
 },
 "nbformat": 4,
 "nbformat_minor": 4
}
