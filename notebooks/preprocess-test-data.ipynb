{
 "cells": [
  {
   "cell_type": "code",
   "execution_count": 1,
   "metadata": {},
   "outputs": [],
   "source": [
    "import os\n",
    "import dask\n",
    "import xarray as xr\n",
    "from tqdm import tqdm_notebook as tqdm\n",
    "\n",
    "import xarray as xr\n",
    "import numpy as np\n",
    "from pathlib import Path\n",
    "from glob import glob\n",
    "from dask_jobqueue import SLURMCluster\n",
    "from dask.distributed import Client"
   ]
  },
  {
   "cell_type": "code",
   "execution_count": 2,
   "metadata": {},
   "outputs": [
    {
     "data": {
      "text/plain": [
       "<dask.config.set at 0x2b8513639d30>"
      ]
     },
     "execution_count": 2,
     "metadata": {},
     "output_type": "execute_result"
    }
   ],
   "source": [
    "dask.config.set({'distributed.dashboard.link':'http://localhost:8777/proxy/{port}/status'})"
   ]
  },
  {
   "cell_type": "code",
   "execution_count": 3,
   "metadata": {},
   "outputs": [],
   "source": [
    "PROJECT = os.environ[\"DAV_PROJECT\"]\n",
    "USER = os.environ['USER']\n"
   ]
  },
  {
   "cell_type": "code",
   "execution_count": 4,
   "metadata": {},
   "outputs": [],
   "source": [
    "cluster = SLURMCluster(project=PROJECT, processes=6, cores=24, memory=\"40GB\",\n",
    "                           env_extra=['export LANG=\"en_US.utf8\"',\n",
    "                                      'export LANGUAGE=\"en_US.utf8\"',\n",
    "                                      'export LC_ALL=\"en_US.utf8\"',\n",
    "                                      'export LD_LIBRARY_PATH=\"\"',],)"
   ]
  },
  {
   "cell_type": "code",
   "execution_count": 5,
   "metadata": {},
   "outputs": [
    {
     "data": {
      "application/vnd.jupyter.widget-view+json": {
       "model_id": "731e342116e14fa1af0ef11c74f45b04",
       "version_major": 2,
       "version_minor": 0
      },
      "text/plain": [
       "VBox(children=(HTML(value='<h2>SLURMCluster</h2>'), HBox(children=(HTML(value='\\n<div>\\n  <style scoped>\\n    …"
      ]
     },
     "metadata": {},
     "output_type": "display_data"
    }
   ],
   "source": [
    "cluster"
   ]
  },
  {
   "cell_type": "code",
   "execution_count": 6,
   "metadata": {},
   "outputs": [
    {
     "name": "stdout",
     "output_type": "stream",
     "text": [
      "             JOBID PARTITION     NAME     USER ST       TIME  NODES NODELIST(REASON)\n",
      "           2151119       dav     srun  abanihi  R    1:30:19      1 casper24\n",
      "           2151445       dav dask-wor  abanihi  R       0:07      1 casper10\n",
      "           2151446       dav dask-wor  abanihi  R       0:07      1 casper11\n",
      "           2151447       dav dask-wor  abanihi  R       0:07      1 casper11\n"
     ]
    }
   ],
   "source": [
    "!squeue -u $USER"
   ]
  },
  {
   "cell_type": "code",
   "execution_count": 7,
   "metadata": {},
   "outputs": [],
   "source": [
    "client = Client(cluster)"
   ]
  },
  {
   "cell_type": "code",
   "execution_count": 8,
   "metadata": {},
   "outputs": [],
   "source": [
    "root_dir = Path(\"/glade/collections/cdg/data/cesmLE/CESM-CAM5-BGC-LE/atm/proc/tseries/monthly/TS\")"
   ]
  },
  {
   "cell_type": "markdown",
   "metadata": {},
   "source": [
    "## Case 1: `b.e11.BRCP85C5CNBDRD`\n",
    "\n",
    "For this case, there are two time ranges for each ensemble:\n",
    "- `2006-01 -> 2080-12`\n",
    "- `2080-01 -> 2100-12`"
   ]
  },
  {
   "cell_type": "code",
   "execution_count": 9,
   "metadata": {},
   "outputs": [],
   "source": [
    "CASE1 = 'b.e11.BRCP85C5CNBDRD.f09_g16'"
   ]
  },
  {
   "cell_type": "code",
   "execution_count": 10,
   "metadata": {},
   "outputs": [],
   "source": [
    "list_1 = sorted(root_dir.glob(\"b.e11.BRCP85C5CNBDRD.f09_g16.???.cam.h0.*.200601-208012*\"))\n",
    "list_2 = sorted(root_dir.glob(\"b.e11.BRCP85C5CNBDRD.f09_g16.???.cam.h0.*.208101-210012*\"))"
   ]
  },
  {
   "cell_type": "markdown",
   "metadata": {},
   "source": [
    "We are going to read these files in three steps:\n",
    "\n",
    "- Step 1: Map files in `list_1` and `list_2` for each ensemble in a list of tuples where each tuple contains files for each ensemble for the two time ranges.\n",
    "- Step 2: Loop through the resulting list from step 1, and read those files into a list of datasets. Under the hood, xarray concatenates files for each ensemble in one dataset.\n",
    "- Step 3: Concatenate list of datasets from step 2 into one xarray dataset. We concatenate these datasets along the `ensemble` dimension."
   ]
  },
  {
   "cell_type": "markdown",
   "metadata": {},
   "source": [
    "**Step 1**\n",
    "\n",
    "Map files in `list_1` and `list_2` for each ensemble in a list of tuples where each tuple contains files for each ensemble for the two time ranges."
   ]
  },
  {
   "cell_type": "code",
   "execution_count": 11,
   "metadata": {},
   "outputs": [
    {
     "data": {
      "text/plain": [
       "(PosixPath('/glade/collections/cdg/data/cesmLE/CESM-CAM5-BGC-LE/atm/proc/tseries/monthly/TS/b.e11.BRCP85C5CNBDRD.f09_g16.001.cam.h0.TS.200601-208012.nc'),\n",
       " PosixPath('/glade/collections/cdg/data/cesmLE/CESM-CAM5-BGC-LE/atm/proc/tseries/monthly/TS/b.e11.BRCP85C5CNBDRD.f09_g16.001.cam.h0.TS.208101-210012.nc'))"
      ]
     },
     "execution_count": 11,
     "metadata": {},
     "output_type": "execute_result"
    }
   ],
   "source": [
    "case_1 = list(zip(list_1, list_2))\n",
    "case_1[0]"
   ]
  },
  {
   "cell_type": "code",
   "execution_count": 12,
   "metadata": {},
   "outputs": [
    {
     "data": {
      "text/plain": [
       "33"
      ]
     },
     "execution_count": 12,
     "metadata": {},
     "output_type": "execute_result"
    }
   ],
   "source": [
    "len(case_1)"
   ]
  },
  {
   "cell_type": "markdown",
   "metadata": {},
   "source": [
    "**Step 2**\n",
    "\n",
    "Loop through the resulting list from step 1, and read those files into a list of datasets. Under the hood, xarray concatenates files for each ensemble in one dataset."
   ]
  },
  {
   "cell_type": "code",
   "execution_count": 13,
   "metadata": {},
   "outputs": [
    {
     "data": {
      "text/plain": [
       "[<xarray.Dataset>\n",
       " Dimensions:       (ilev: 31, lat: 192, lev: 30, lon: 288, nbnd: 2, slat: 191, slon: 288, time: 1140)\n",
       " Coordinates:\n",
       "   * ilev          (ilev) float64 2.255 5.032 10.16 18.56 ... 967.5 985.1 1e+03\n",
       "   * lat           (lat) float64 -90.0 -89.06 -88.12 -87.17 ... 88.12 89.06 90.0\n",
       "   * lev           (lev) float64 3.643 7.595 14.36 24.61 ... 957.5 976.3 992.6\n",
       "   * lon           (lon) float64 0.0 1.25 2.5 3.75 ... 355.0 356.2 357.5 358.8\n",
       "   * slat          (slat) float64 -89.53 -88.59 -87.64 ... 87.64 88.59 89.53\n",
       "   * slon          (slon) float64 -0.625 0.625 1.875 3.125 ... 355.6 356.9 358.1\n",
       "   * time          (time) object 2006-02-01 00:00:00 ... 2101-01-01 00:00:00\n",
       " Dimensions without coordinates: nbnd\n",
       " Data variables:\n",
       "     P0            (time) float64 1e+05 1e+05 1e+05 1e+05 ... 1e+05 1e+05 1e+05\n",
       "     TS            (time, lat, lon) float32 dask.array<shape=(1140, 192, 288), chunksize=(900, 192, 288)>\n",
       "     ch4vmr        (time) float64 dask.array<shape=(1140,), chunksize=(900,)>\n",
       "     co2vmr        (time) float64 dask.array<shape=(1140,), chunksize=(900,)>\n",
       "     date          (time) int32 dask.array<shape=(1140,), chunksize=(900,)>\n",
       "     date_written  (time) |S8 dask.array<shape=(1140,), chunksize=(900,)>\n",
       "     datesec       (time) int32 dask.array<shape=(1140,), chunksize=(900,)>\n",
       "     f11vmr        (time) float64 dask.array<shape=(1140,), chunksize=(900,)>\n",
       "     f12vmr        (time) float64 dask.array<shape=(1140,), chunksize=(900,)>\n",
       "     gw            (time, lat) float64 dask.array<shape=(1140, 192), chunksize=(900, 192)>\n",
       "     hyai          (time, ilev) float64 dask.array<shape=(1140, 31), chunksize=(900, 31)>\n",
       "     hyam          (time, lev) float64 dask.array<shape=(1140, 30), chunksize=(900, 30)>\n",
       "     hybi          (time, ilev) float64 dask.array<shape=(1140, 31), chunksize=(900, 31)>\n",
       "     hybm          (time, lev) float64 dask.array<shape=(1140, 30), chunksize=(900, 30)>\n",
       "     mdt           (time) int32 1800 1800 1800 1800 1800 ... 1800 1800 1800 1800\n",
       "     n2ovmr        (time) float64 dask.array<shape=(1140,), chunksize=(900,)>\n",
       "     nbdate        (time) int32 20060101 20060101 20060101 ... 20060101 20060101\n",
       "     nbsec         (time) int32 0 0 0 0 0 0 0 0 0 0 0 0 ... 0 0 0 0 0 0 0 0 0 0 0\n",
       "     ndbase        (time) int32 0 0 0 0 0 0 0 0 0 0 0 0 ... 0 0 0 0 0 0 0 0 0 0 0\n",
       "     ndcur         (time) int32 dask.array<shape=(1140,), chunksize=(900,)>\n",
       "     nlon          (time, lat) int32 dask.array<shape=(1140, 192), chunksize=(900, 192)>\n",
       "     nsbase        (time) int32 0 0 0 0 0 0 0 0 0 0 0 0 ... 0 0 0 0 0 0 0 0 0 0 0\n",
       "     nscur         (time) int32 dask.array<shape=(1140,), chunksize=(900,)>\n",
       "     nsteph        (time) int32 dask.array<shape=(1140,), chunksize=(900,)>\n",
       "     ntrk          (time) int32 1 1 1 1 1 1 1 1 1 1 1 1 ... 1 1 1 1 1 1 1 1 1 1 1\n",
       "     ntrm          (time) int32 1 1 1 1 1 1 1 1 1 1 1 1 ... 1 1 1 1 1 1 1 1 1 1 1\n",
       "     ntrn          (time) int32 1 1 1 1 1 1 1 1 1 1 1 1 ... 1 1 1 1 1 1 1 1 1 1 1\n",
       "     sol_tsi       (time) float64 dask.array<shape=(1140,), chunksize=(900,)>\n",
       "     time_bnds     (time, nbnd) object dask.array<shape=(1140, 2), chunksize=(900, 2)>\n",
       "     time_written  (time) |S8 dask.array<shape=(1140,), chunksize=(900,)>\n",
       "     w_stag        (time, slat) float64 dask.array<shape=(1140, 191), chunksize=(900, 191)>\n",
       "     wnummax       (time, lat) int32 dask.array<shape=(1140, 192), chunksize=(900, 192)>\n",
       " Attributes:\n",
       "     Conventions:               CF-1.0\n",
       "     source:                    CAM\n",
       "     case:                      b.e11.BRCP85C5CNBDRD.f09_g16.001\n",
       "     title:                     UNSET\n",
       "     logname:                   mai\n",
       "     host:                      ys5218\n",
       "     Version:                   $Name$\n",
       "     revision_Id:               $Id$\n",
       "     initial_file:              b.e11.B20TRC5CNBDRD.f09_g16.001.cam.i.2006-01-...\n",
       "     topography_file:           /glade/p/cesm/cseg//inputdata/atm/cam/topo/USG...\n",
       "     history:                   Tue Aug 13 15:52:54 2013: /glade/apps/opt/nco/...\n",
       "     NCO:                       4.3.4\n",
       "     nco_openmp_thread_number:  1, <xarray.Dataset>\n",
       " Dimensions:       (ilev: 31, lat: 192, lev: 30, lon: 288, nbnd: 2, slat: 191, slon: 288, time: 1140)\n",
       " Coordinates:\n",
       "   * ilev          (ilev) float64 2.255 5.032 10.16 18.56 ... 967.5 985.1 1e+03\n",
       "   * lat           (lat) float64 -90.0 -89.06 -88.12 -87.17 ... 88.12 89.06 90.0\n",
       "   * lev           (lev) float64 3.643 7.595 14.36 24.61 ... 957.5 976.3 992.6\n",
       "   * lon           (lon) float64 0.0 1.25 2.5 3.75 ... 355.0 356.2 357.5 358.8\n",
       "   * slat          (slat) float64 -89.53 -88.59 -87.64 ... 87.64 88.59 89.53\n",
       "   * slon          (slon) float64 -0.625 0.625 1.875 3.125 ... 355.6 356.9 358.1\n",
       "   * time          (time) object 2006-02-01 00:00:00 ... 2101-01-01 00:00:00\n",
       " Dimensions without coordinates: nbnd\n",
       " Data variables:\n",
       "     P0            (time) float64 1e+05 1e+05 1e+05 1e+05 ... 1e+05 1e+05 1e+05\n",
       "     TS            (time, lat, lon) float32 dask.array<shape=(1140, 192, 288), chunksize=(900, 192, 288)>\n",
       "     ch4vmr        (time) float64 dask.array<shape=(1140,), chunksize=(900,)>\n",
       "     co2vmr        (time) float64 dask.array<shape=(1140,), chunksize=(900,)>\n",
       "     date          (time) int32 dask.array<shape=(1140,), chunksize=(900,)>\n",
       "     date_written  (time) |S8 dask.array<shape=(1140,), chunksize=(900,)>\n",
       "     datesec       (time) int32 dask.array<shape=(1140,), chunksize=(900,)>\n",
       "     f11vmr        (time) float64 dask.array<shape=(1140,), chunksize=(900,)>\n",
       "     f12vmr        (time) float64 dask.array<shape=(1140,), chunksize=(900,)>\n",
       "     gw            (time, lat) float64 dask.array<shape=(1140, 192), chunksize=(900, 192)>\n",
       "     hyai          (time, ilev) float64 dask.array<shape=(1140, 31), chunksize=(900, 31)>\n",
       "     hyam          (time, lev) float64 dask.array<shape=(1140, 30), chunksize=(900, 30)>\n",
       "     hybi          (time, ilev) float64 dask.array<shape=(1140, 31), chunksize=(900, 31)>\n",
       "     hybm          (time, lev) float64 dask.array<shape=(1140, 30), chunksize=(900, 30)>\n",
       "     mdt           (time) int32 1800 1800 1800 1800 1800 ... 1800 1800 1800 1800\n",
       "     n2ovmr        (time) float64 dask.array<shape=(1140,), chunksize=(900,)>\n",
       "     nbdate        (time) int32 20060101 20060101 20060101 ... 20060101 20060101\n",
       "     nbsec         (time) int32 0 0 0 0 0 0 0 0 0 0 0 0 ... 0 0 0 0 0 0 0 0 0 0 0\n",
       "     ndbase        (time) int32 0 0 0 0 0 0 0 0 0 0 0 0 ... 0 0 0 0 0 0 0 0 0 0 0\n",
       "     ndcur         (time) int32 dask.array<shape=(1140,), chunksize=(900,)>\n",
       "     nlon          (time, lat) int32 dask.array<shape=(1140, 192), chunksize=(900, 192)>\n",
       "     nsbase        (time) int32 0 0 0 0 0 0 0 0 0 0 0 0 ... 0 0 0 0 0 0 0 0 0 0 0\n",
       "     nscur         (time) int32 dask.array<shape=(1140,), chunksize=(900,)>\n",
       "     nsteph        (time) int32 dask.array<shape=(1140,), chunksize=(900,)>\n",
       "     ntrk          (time) int32 1 1 1 1 1 1 1 1 1 1 1 1 ... 1 1 1 1 1 1 1 1 1 1 1\n",
       "     ntrm          (time) int32 1 1 1 1 1 1 1 1 1 1 1 1 ... 1 1 1 1 1 1 1 1 1 1 1\n",
       "     ntrn          (time) int32 1 1 1 1 1 1 1 1 1 1 1 1 ... 1 1 1 1 1 1 1 1 1 1 1\n",
       "     sol_tsi       (time) float64 dask.array<shape=(1140,), chunksize=(900,)>\n",
       "     time_bnds     (time, nbnd) object dask.array<shape=(1140, 2), chunksize=(900, 2)>\n",
       "     time_written  (time) |S8 dask.array<shape=(1140,), chunksize=(900,)>\n",
       "     w_stag        (time, slat) float64 dask.array<shape=(1140, 191), chunksize=(900, 191)>\n",
       "     wnummax       (time, lat) int32 dask.array<shape=(1140, 192), chunksize=(900, 192)>\n",
       " Attributes:\n",
       "     Conventions:               CF-1.0\n",
       "     source:                    CAM\n",
       "     case:                      b.e11.BRCP85C5CNBDRD.f09_g16.002\n",
       "     title:                     UNSET\n",
       "     logname:                   mai\n",
       "     host:                      ys1246\n",
       "     Version:                   $Name$\n",
       "     revision_Id:               $Id$\n",
       "     initial_file:              b.e11.B20TRC5CNBDRD.f09_g16.002.cam.i.2006-01-...\n",
       "     topography_file:           /glade/p/cesm/cseg//inputdata/atm/cam/topo/USG...\n",
       "     history:                   Fri Aug 30 21:17:07 2013: /glade/apps/opt/nco/...\n",
       "     NCO:                       4.3.4\n",
       "     nco_openmp_thread_number:  1]"
      ]
     },
     "execution_count": 13,
     "metadata": {},
     "output_type": "execute_result"
    }
   ],
   "source": [
    "ds_list = [xr.open_mfdataset(item) for item in case_1]\n",
    "ds_list[:2]"
   ]
  },
  {
   "cell_type": "markdown",
   "metadata": {},
   "source": [
    "**Step 3**\n",
    "\n",
    "Concatenate list of datasets from step 2 into one xarray dataset. We concatenate these datasets along the `ensemble` dimension."
   ]
  },
  {
   "cell_type": "code",
   "execution_count": 14,
   "metadata": {},
   "outputs": [
    {
     "data": {
      "text/plain": [
       "<xarray.Dataset>\n",
       "Dimensions:       (ensemble: 33, ilev: 31, lat: 192, lev: 30, lon: 288, nbnd: 2, slat: 191, slon: 288, time: 1140)\n",
       "Coordinates:\n",
       "  * ilev          (ilev) float64 2.255 5.032 10.16 18.56 ... 967.5 985.1 1e+03\n",
       "  * lat           (lat) float64 -90.0 -89.06 -88.12 -87.17 ... 88.12 89.06 90.0\n",
       "  * lev           (lev) float64 3.643 7.595 14.36 24.61 ... 957.5 976.3 992.6\n",
       "  * lon           (lon) float64 0.0 1.25 2.5 3.75 ... 355.0 356.2 357.5 358.8\n",
       "  * slat          (slat) float64 -89.53 -88.59 -87.64 ... 87.64 88.59 89.53\n",
       "  * slon          (slon) float64 -0.625 0.625 1.875 3.125 ... 355.6 356.9 358.1\n",
       "  * time          (time) object 2006-02-01 00:00:00 ... 2101-01-01 00:00:00\n",
       "Dimensions without coordinates: ensemble, nbnd\n",
       "Data variables:\n",
       "    P0            (ensemble, time) float64 1e+05 1e+05 1e+05 ... 1e+05 1e+05\n",
       "    TS            (ensemble, time, lat, lon) float32 dask.array<shape=(33, 1140, 192, 288), chunksize=(1, 900, 192, 288)>\n",
       "    ch4vmr        (ensemble, time) float64 dask.array<shape=(33, 1140), chunksize=(1, 900)>\n",
       "    co2vmr        (ensemble, time) float64 dask.array<shape=(33, 1140), chunksize=(1, 900)>\n",
       "    date          (ensemble, time) int32 dask.array<shape=(33, 1140), chunksize=(1, 900)>\n",
       "    date_written  (ensemble, time) |S8 dask.array<shape=(33, 1140), chunksize=(1, 900)>\n",
       "    datesec       (ensemble, time) int32 dask.array<shape=(33, 1140), chunksize=(1, 900)>\n",
       "    f11vmr        (ensemble, time) float64 dask.array<shape=(33, 1140), chunksize=(1, 900)>\n",
       "    f12vmr        (ensemble, time) float64 dask.array<shape=(33, 1140), chunksize=(1, 900)>\n",
       "    gw            (ensemble, time, lat) float64 dask.array<shape=(33, 1140, 192), chunksize=(1, 900, 192)>\n",
       "    hyai          (ensemble, time, ilev) float64 dask.array<shape=(33, 1140, 31), chunksize=(1, 900, 31)>\n",
       "    hyam          (ensemble, time, lev) float64 dask.array<shape=(33, 1140, 30), chunksize=(1, 900, 30)>\n",
       "    hybi          (ensemble, time, ilev) float64 dask.array<shape=(33, 1140, 31), chunksize=(1, 900, 31)>\n",
       "    hybm          (ensemble, time, lev) float64 dask.array<shape=(33, 1140, 30), chunksize=(1, 900, 30)>\n",
       "    mdt           (ensemble, time) int32 1800 1800 1800 1800 ... 1800 1800 1800\n",
       "    n2ovmr        (ensemble, time) float64 dask.array<shape=(33, 1140), chunksize=(1, 900)>\n",
       "    nbdate        (ensemble, time) int32 20060101 20060101 ... 20060101 20060101\n",
       "    nbsec         (ensemble, time) int32 0 0 0 0 0 0 0 0 0 ... 0 0 0 0 0 0 0 0 0\n",
       "    ndbase        (ensemble, time) int32 0 0 0 0 0 0 0 0 0 ... 0 0 0 0 0 0 0 0 0\n",
       "    ndcur         (ensemble, time) int32 dask.array<shape=(33, 1140), chunksize=(1, 900)>\n",
       "    nlon          (ensemble, time, lat) int32 dask.array<shape=(33, 1140, 192), chunksize=(1, 900, 192)>\n",
       "    nsbase        (ensemble, time) int32 0 0 0 0 0 0 0 0 0 ... 0 0 0 0 0 0 0 0 0\n",
       "    nscur         (ensemble, time) int32 dask.array<shape=(33, 1140), chunksize=(1, 900)>\n",
       "    nsteph        (ensemble, time) int32 dask.array<shape=(33, 1140), chunksize=(1, 900)>\n",
       "    ntrk          (ensemble, time) int32 1 1 1 1 1 1 1 1 1 ... 1 1 1 1 1 1 1 1 1\n",
       "    ntrm          (ensemble, time) int32 1 1 1 1 1 1 1 1 1 ... 1 1 1 1 1 1 1 1 1\n",
       "    ntrn          (ensemble, time) int32 1 1 1 1 1 1 1 1 1 ... 1 1 1 1 1 1 1 1 1\n",
       "    sol_tsi       (ensemble, time) float64 dask.array<shape=(33, 1140), chunksize=(1, 900)>\n",
       "    time_bnds     (ensemble, time, nbnd) object dask.array<shape=(33, 1140, 2), chunksize=(1, 900, 2)>\n",
       "    time_written  (ensemble, time) |S8 dask.array<shape=(33, 1140), chunksize=(1, 900)>\n",
       "    w_stag        (ensemble, time, slat) float64 dask.array<shape=(33, 1140, 191), chunksize=(1, 900, 191)>\n",
       "    wnummax       (ensemble, time, lat) int32 dask.array<shape=(33, 1140, 192), chunksize=(1, 900, 192)>\n",
       "Attributes:\n",
       "    Conventions:               CF-1.0\n",
       "    source:                    CAM\n",
       "    case:                      b.e11.BRCP85C5CNBDRD.f09_g16\n",
       "    title:                     UNSET\n",
       "    logname:                   mai\n",
       "    host:                      ys5218\n",
       "    Version:                   $Name$\n",
       "    revision_Id:               $Id$\n",
       "    initial_file:              b.e11.B20TRC5CNBDRD.f09_g16.001.cam.i.2006-01-...\n",
       "    topography_file:           /glade/p/cesm/cseg//inputdata/atm/cam/topo/USG...\n",
       "    history:                   Tue Aug 13 15:52:54 2013: /glade/apps/opt/nco/...\n",
       "    NCO:                       4.3.4\n",
       "    nco_openmp_thread_number:  1"
      ]
     },
     "execution_count": 14,
     "metadata": {},
     "output_type": "execute_result"
    }
   ],
   "source": [
    "dset_case1 = xr.concat(ds_list, dim='ensemble')\n",
    "dset_case1.attrs['case'] = CASE1\n",
    "dset_case1"
   ]
  },
  {
   "cell_type": "markdown",
   "metadata": {
    "toc-hr-collapsed": true
   },
   "source": [
    "## Case 2: `b.e11.B20TRC5CNBDRD`"
   ]
  },
  {
   "cell_type": "code",
   "execution_count": 15,
   "metadata": {},
   "outputs": [],
   "source": [
    "CASE2 = 'b.e11.B20TRC5CNBDRD.f09_g16'"
   ]
  },
  {
   "cell_type": "code",
   "execution_count": 16,
   "metadata": {},
   "outputs": [
    {
     "data": {
      "text/plain": [
       "[PosixPath('/glade/collections/cdg/data/cesmLE/CESM-CAM5-BGC-LE/atm/proc/tseries/monthly/TS/b.e11.B20TRC5CNBDRD.f09_g16.001.cam.h0.TS.185001-200512.nc'),\n",
       " PosixPath('/glade/collections/cdg/data/cesmLE/CESM-CAM5-BGC-LE/atm/proc/tseries/monthly/TS/b.e11.B20TRC5CNBDRD.f09_g16.002.cam.h0.TS.192001-200512.nc'),\n",
       " PosixPath('/glade/collections/cdg/data/cesmLE/CESM-CAM5-BGC-LE/atm/proc/tseries/monthly/TS/b.e11.B20TRC5CNBDRD.f09_g16.003.cam.h0.TS.192001-200512.nc'),\n",
       " PosixPath('/glade/collections/cdg/data/cesmLE/CESM-CAM5-BGC-LE/atm/proc/tseries/monthly/TS/b.e11.B20TRC5CNBDRD.f09_g16.004.cam.h0.TS.192001-200512.nc'),\n",
       " PosixPath('/glade/collections/cdg/data/cesmLE/CESM-CAM5-BGC-LE/atm/proc/tseries/monthly/TS/b.e11.B20TRC5CNBDRD.f09_g16.005.cam.h0.TS.192001-200512.nc'),\n",
       " PosixPath('/glade/collections/cdg/data/cesmLE/CESM-CAM5-BGC-LE/atm/proc/tseries/monthly/TS/b.e11.B20TRC5CNBDRD.f09_g16.006.cam.h0.TS.192001-200512.nc'),\n",
       " PosixPath('/glade/collections/cdg/data/cesmLE/CESM-CAM5-BGC-LE/atm/proc/tseries/monthly/TS/b.e11.B20TRC5CNBDRD.f09_g16.007.cam.h0.TS.192001-200512.nc'),\n",
       " PosixPath('/glade/collections/cdg/data/cesmLE/CESM-CAM5-BGC-LE/atm/proc/tseries/monthly/TS/b.e11.B20TRC5CNBDRD.f09_g16.008.cam.h0.TS.192001-200512.nc'),\n",
       " PosixPath('/glade/collections/cdg/data/cesmLE/CESM-CAM5-BGC-LE/atm/proc/tseries/monthly/TS/b.e11.B20TRC5CNBDRD.f09_g16.009.cam.h0.TS.192001-200512.nc'),\n",
       " PosixPath('/glade/collections/cdg/data/cesmLE/CESM-CAM5-BGC-LE/atm/proc/tseries/monthly/TS/b.e11.B20TRC5CNBDRD.f09_g16.010.cam.h0.TS.192001-200512.nc'),\n",
       " PosixPath('/glade/collections/cdg/data/cesmLE/CESM-CAM5-BGC-LE/atm/proc/tseries/monthly/TS/b.e11.B20TRC5CNBDRD.f09_g16.011.cam.h0.TS.192001-200512.nc'),\n",
       " PosixPath('/glade/collections/cdg/data/cesmLE/CESM-CAM5-BGC-LE/atm/proc/tseries/monthly/TS/b.e11.B20TRC5CNBDRD.f09_g16.012.cam.h0.TS.192001-200512.nc'),\n",
       " PosixPath('/glade/collections/cdg/data/cesmLE/CESM-CAM5-BGC-LE/atm/proc/tseries/monthly/TS/b.e11.B20TRC5CNBDRD.f09_g16.013.cam.h0.TS.192001-200512.nc'),\n",
       " PosixPath('/glade/collections/cdg/data/cesmLE/CESM-CAM5-BGC-LE/atm/proc/tseries/monthly/TS/b.e11.B20TRC5CNBDRD.f09_g16.014.cam.h0.TS.192001-200512.nc'),\n",
       " PosixPath('/glade/collections/cdg/data/cesmLE/CESM-CAM5-BGC-LE/atm/proc/tseries/monthly/TS/b.e11.B20TRC5CNBDRD.f09_g16.015.cam.h0.TS.192001-200512.nc'),\n",
       " PosixPath('/glade/collections/cdg/data/cesmLE/CESM-CAM5-BGC-LE/atm/proc/tseries/monthly/TS/b.e11.B20TRC5CNBDRD.f09_g16.016.cam.h0.TS.192001-200512.nc'),\n",
       " PosixPath('/glade/collections/cdg/data/cesmLE/CESM-CAM5-BGC-LE/atm/proc/tseries/monthly/TS/b.e11.B20TRC5CNBDRD.f09_g16.017.cam.h0.TS.192001-200512.nc'),\n",
       " PosixPath('/glade/collections/cdg/data/cesmLE/CESM-CAM5-BGC-LE/atm/proc/tseries/monthly/TS/b.e11.B20TRC5CNBDRD.f09_g16.018.cam.h0.TS.192001-200512.nc'),\n",
       " PosixPath('/glade/collections/cdg/data/cesmLE/CESM-CAM5-BGC-LE/atm/proc/tseries/monthly/TS/b.e11.B20TRC5CNBDRD.f09_g16.019.cam.h0.TS.192001-200512.nc'),\n",
       " PosixPath('/glade/collections/cdg/data/cesmLE/CESM-CAM5-BGC-LE/atm/proc/tseries/monthly/TS/b.e11.B20TRC5CNBDRD.f09_g16.020.cam.h0.TS.192001-200512.nc'),\n",
       " PosixPath('/glade/collections/cdg/data/cesmLE/CESM-CAM5-BGC-LE/atm/proc/tseries/monthly/TS/b.e11.B20TRC5CNBDRD.f09_g16.021.cam.h0.TS.192001-200512.nc'),\n",
       " PosixPath('/glade/collections/cdg/data/cesmLE/CESM-CAM5-BGC-LE/atm/proc/tseries/monthly/TS/b.e11.B20TRC5CNBDRD.f09_g16.022.cam.h0.TS.192001-200512.nc'),\n",
       " PosixPath('/glade/collections/cdg/data/cesmLE/CESM-CAM5-BGC-LE/atm/proc/tseries/monthly/TS/b.e11.B20TRC5CNBDRD.f09_g16.023.cam.h0.TS.192001-200512.nc'),\n",
       " PosixPath('/glade/collections/cdg/data/cesmLE/CESM-CAM5-BGC-LE/atm/proc/tseries/monthly/TS/b.e11.B20TRC5CNBDRD.f09_g16.024.cam.h0.TS.192001-200512.nc'),\n",
       " PosixPath('/glade/collections/cdg/data/cesmLE/CESM-CAM5-BGC-LE/atm/proc/tseries/monthly/TS/b.e11.B20TRC5CNBDRD.f09_g16.025.cam.h0.TS.192001-200512.nc'),\n",
       " PosixPath('/glade/collections/cdg/data/cesmLE/CESM-CAM5-BGC-LE/atm/proc/tseries/monthly/TS/b.e11.B20TRC5CNBDRD.f09_g16.026.cam.h0.TS.192001-200512.nc'),\n",
       " PosixPath('/glade/collections/cdg/data/cesmLE/CESM-CAM5-BGC-LE/atm/proc/tseries/monthly/TS/b.e11.B20TRC5CNBDRD.f09_g16.027.cam.h0.TS.192001-200512.nc'),\n",
       " PosixPath('/glade/collections/cdg/data/cesmLE/CESM-CAM5-BGC-LE/atm/proc/tseries/monthly/TS/b.e11.B20TRC5CNBDRD.f09_g16.028.cam.h0.TS.192001-200512.nc'),\n",
       " PosixPath('/glade/collections/cdg/data/cesmLE/CESM-CAM5-BGC-LE/atm/proc/tseries/monthly/TS/b.e11.B20TRC5CNBDRD.f09_g16.029.cam.h0.TS.192001-200512.nc'),\n",
       " PosixPath('/glade/collections/cdg/data/cesmLE/CESM-CAM5-BGC-LE/atm/proc/tseries/monthly/TS/b.e11.B20TRC5CNBDRD.f09_g16.030.cam.h0.TS.192001-200512.nc'),\n",
       " PosixPath('/glade/collections/cdg/data/cesmLE/CESM-CAM5-BGC-LE/atm/proc/tseries/monthly/TS/b.e11.B20TRC5CNBDRD.f09_g16.031.cam.h0.TS.192001-200512.nc'),\n",
       " PosixPath('/glade/collections/cdg/data/cesmLE/CESM-CAM5-BGC-LE/atm/proc/tseries/monthly/TS/b.e11.B20TRC5CNBDRD.f09_g16.032.cam.h0.TS.192001-200512.nc'),\n",
       " PosixPath('/glade/collections/cdg/data/cesmLE/CESM-CAM5-BGC-LE/atm/proc/tseries/monthly/TS/b.e11.B20TRC5CNBDRD.f09_g16.033.cam.h0.TS.192001-200512.nc'),\n",
       " PosixPath('/glade/collections/cdg/data/cesmLE/CESM-CAM5-BGC-LE/atm/proc/tseries/monthly/TS/b.e11.B20TRC5CNBDRD.f09_g16.034.cam.h0.TS.192001-200512.nc'),\n",
       " PosixPath('/glade/collections/cdg/data/cesmLE/CESM-CAM5-BGC-LE/atm/proc/tseries/monthly/TS/b.e11.B20TRC5CNBDRD.f09_g16.035.cam.h0.TS.192001-200512.nc'),\n",
       " PosixPath('/glade/collections/cdg/data/cesmLE/CESM-CAM5-BGC-LE/atm/proc/tseries/monthly/TS/b.e11.B20TRC5CNBDRD.f09_g16.101.cam.h0.TS.192001-200512.nc'),\n",
       " PosixPath('/glade/collections/cdg/data/cesmLE/CESM-CAM5-BGC-LE/atm/proc/tseries/monthly/TS/b.e11.B20TRC5CNBDRD.f09_g16.102.cam.h0.TS.192001-200512.nc'),\n",
       " PosixPath('/glade/collections/cdg/data/cesmLE/CESM-CAM5-BGC-LE/atm/proc/tseries/monthly/TS/b.e11.B20TRC5CNBDRD.f09_g16.103.cam.h0.TS.192001-200512.nc'),\n",
       " PosixPath('/glade/collections/cdg/data/cesmLE/CESM-CAM5-BGC-LE/atm/proc/tseries/monthly/TS/b.e11.B20TRC5CNBDRD.f09_g16.104.cam.h0.TS.192001-200512.nc'),\n",
       " PosixPath('/glade/collections/cdg/data/cesmLE/CESM-CAM5-BGC-LE/atm/proc/tseries/monthly/TS/b.e11.B20TRC5CNBDRD.f09_g16.105.cam.h0.TS.192001-200512.nc'),\n",
       " PosixPath('/glade/collections/cdg/data/cesmLE/CESM-CAM5-BGC-LE/atm/proc/tseries/monthly/TS/b.e11.B20TRC5CNBDRD.f09_g16.106.cam.h0.TS.192001-200512.nc'),\n",
       " PosixPath('/glade/collections/cdg/data/cesmLE/CESM-CAM5-BGC-LE/atm/proc/tseries/monthly/TS/b.e11.B20TRC5CNBDRD.f09_g16.107.cam.h0.TS.192001-200512.nc')]"
      ]
     },
     "execution_count": 16,
     "metadata": {},
     "output_type": "execute_result"
    }
   ],
   "source": [
    "list_1 = sorted(root_dir.glob(\"b.e11.B20TRC5CNBDRD.f09_g16.???.cam.h0.*\"))\n",
    "list_1"
   ]
  },
  {
   "cell_type": "code",
   "execution_count": 17,
   "metadata": {},
   "outputs": [
    {
     "data": {
      "text/plain": [
       "42"
      ]
     },
     "execution_count": 17,
     "metadata": {},
     "output_type": "execute_result"
    }
   ],
   "source": [
    "len(list_1)"
   ]
  },
  {
   "cell_type": "code",
   "execution_count": 18,
   "metadata": {},
   "outputs": [],
   "source": [
    "indices = 0, 33, 34 # indices of special runs to remove for the original list. These runs' output have additional ouput, and/or have special time ranges"
   ]
  },
  {
   "cell_type": "code",
   "execution_count": 19,
   "metadata": {},
   "outputs": [
    {
     "data": {
      "text/plain": [
       "[PosixPath('/glade/collections/cdg/data/cesmLE/CESM-CAM5-BGC-LE/atm/proc/tseries/monthly/TS/b.e11.B20TRC5CNBDRD.f09_g16.002.cam.h0.TS.192001-200512.nc'),\n",
       " PosixPath('/glade/collections/cdg/data/cesmLE/CESM-CAM5-BGC-LE/atm/proc/tseries/monthly/TS/b.e11.B20TRC5CNBDRD.f09_g16.003.cam.h0.TS.192001-200512.nc'),\n",
       " PosixPath('/glade/collections/cdg/data/cesmLE/CESM-CAM5-BGC-LE/atm/proc/tseries/monthly/TS/b.e11.B20TRC5CNBDRD.f09_g16.004.cam.h0.TS.192001-200512.nc'),\n",
       " PosixPath('/glade/collections/cdg/data/cesmLE/CESM-CAM5-BGC-LE/atm/proc/tseries/monthly/TS/b.e11.B20TRC5CNBDRD.f09_g16.005.cam.h0.TS.192001-200512.nc'),\n",
       " PosixPath('/glade/collections/cdg/data/cesmLE/CESM-CAM5-BGC-LE/atm/proc/tseries/monthly/TS/b.e11.B20TRC5CNBDRD.f09_g16.006.cam.h0.TS.192001-200512.nc'),\n",
       " PosixPath('/glade/collections/cdg/data/cesmLE/CESM-CAM5-BGC-LE/atm/proc/tseries/monthly/TS/b.e11.B20TRC5CNBDRD.f09_g16.007.cam.h0.TS.192001-200512.nc'),\n",
       " PosixPath('/glade/collections/cdg/data/cesmLE/CESM-CAM5-BGC-LE/atm/proc/tseries/monthly/TS/b.e11.B20TRC5CNBDRD.f09_g16.008.cam.h0.TS.192001-200512.nc'),\n",
       " PosixPath('/glade/collections/cdg/data/cesmLE/CESM-CAM5-BGC-LE/atm/proc/tseries/monthly/TS/b.e11.B20TRC5CNBDRD.f09_g16.009.cam.h0.TS.192001-200512.nc'),\n",
       " PosixPath('/glade/collections/cdg/data/cesmLE/CESM-CAM5-BGC-LE/atm/proc/tseries/monthly/TS/b.e11.B20TRC5CNBDRD.f09_g16.010.cam.h0.TS.192001-200512.nc'),\n",
       " PosixPath('/glade/collections/cdg/data/cesmLE/CESM-CAM5-BGC-LE/atm/proc/tseries/monthly/TS/b.e11.B20TRC5CNBDRD.f09_g16.011.cam.h0.TS.192001-200512.nc'),\n",
       " PosixPath('/glade/collections/cdg/data/cesmLE/CESM-CAM5-BGC-LE/atm/proc/tseries/monthly/TS/b.e11.B20TRC5CNBDRD.f09_g16.012.cam.h0.TS.192001-200512.nc'),\n",
       " PosixPath('/glade/collections/cdg/data/cesmLE/CESM-CAM5-BGC-LE/atm/proc/tseries/monthly/TS/b.e11.B20TRC5CNBDRD.f09_g16.013.cam.h0.TS.192001-200512.nc'),\n",
       " PosixPath('/glade/collections/cdg/data/cesmLE/CESM-CAM5-BGC-LE/atm/proc/tseries/monthly/TS/b.e11.B20TRC5CNBDRD.f09_g16.014.cam.h0.TS.192001-200512.nc'),\n",
       " PosixPath('/glade/collections/cdg/data/cesmLE/CESM-CAM5-BGC-LE/atm/proc/tseries/monthly/TS/b.e11.B20TRC5CNBDRD.f09_g16.015.cam.h0.TS.192001-200512.nc'),\n",
       " PosixPath('/glade/collections/cdg/data/cesmLE/CESM-CAM5-BGC-LE/atm/proc/tseries/monthly/TS/b.e11.B20TRC5CNBDRD.f09_g16.016.cam.h0.TS.192001-200512.nc'),\n",
       " PosixPath('/glade/collections/cdg/data/cesmLE/CESM-CAM5-BGC-LE/atm/proc/tseries/monthly/TS/b.e11.B20TRC5CNBDRD.f09_g16.017.cam.h0.TS.192001-200512.nc'),\n",
       " PosixPath('/glade/collections/cdg/data/cesmLE/CESM-CAM5-BGC-LE/atm/proc/tseries/monthly/TS/b.e11.B20TRC5CNBDRD.f09_g16.018.cam.h0.TS.192001-200512.nc'),\n",
       " PosixPath('/glade/collections/cdg/data/cesmLE/CESM-CAM5-BGC-LE/atm/proc/tseries/monthly/TS/b.e11.B20TRC5CNBDRD.f09_g16.019.cam.h0.TS.192001-200512.nc'),\n",
       " PosixPath('/glade/collections/cdg/data/cesmLE/CESM-CAM5-BGC-LE/atm/proc/tseries/monthly/TS/b.e11.B20TRC5CNBDRD.f09_g16.020.cam.h0.TS.192001-200512.nc'),\n",
       " PosixPath('/glade/collections/cdg/data/cesmLE/CESM-CAM5-BGC-LE/atm/proc/tseries/monthly/TS/b.e11.B20TRC5CNBDRD.f09_g16.021.cam.h0.TS.192001-200512.nc'),\n",
       " PosixPath('/glade/collections/cdg/data/cesmLE/CESM-CAM5-BGC-LE/atm/proc/tseries/monthly/TS/b.e11.B20TRC5CNBDRD.f09_g16.022.cam.h0.TS.192001-200512.nc'),\n",
       " PosixPath('/glade/collections/cdg/data/cesmLE/CESM-CAM5-BGC-LE/atm/proc/tseries/monthly/TS/b.e11.B20TRC5CNBDRD.f09_g16.023.cam.h0.TS.192001-200512.nc'),\n",
       " PosixPath('/glade/collections/cdg/data/cesmLE/CESM-CAM5-BGC-LE/atm/proc/tseries/monthly/TS/b.e11.B20TRC5CNBDRD.f09_g16.024.cam.h0.TS.192001-200512.nc'),\n",
       " PosixPath('/glade/collections/cdg/data/cesmLE/CESM-CAM5-BGC-LE/atm/proc/tseries/monthly/TS/b.e11.B20TRC5CNBDRD.f09_g16.025.cam.h0.TS.192001-200512.nc'),\n",
       " PosixPath('/glade/collections/cdg/data/cesmLE/CESM-CAM5-BGC-LE/atm/proc/tseries/monthly/TS/b.e11.B20TRC5CNBDRD.f09_g16.026.cam.h0.TS.192001-200512.nc'),\n",
       " PosixPath('/glade/collections/cdg/data/cesmLE/CESM-CAM5-BGC-LE/atm/proc/tseries/monthly/TS/b.e11.B20TRC5CNBDRD.f09_g16.027.cam.h0.TS.192001-200512.nc'),\n",
       " PosixPath('/glade/collections/cdg/data/cesmLE/CESM-CAM5-BGC-LE/atm/proc/tseries/monthly/TS/b.e11.B20TRC5CNBDRD.f09_g16.028.cam.h0.TS.192001-200512.nc'),\n",
       " PosixPath('/glade/collections/cdg/data/cesmLE/CESM-CAM5-BGC-LE/atm/proc/tseries/monthly/TS/b.e11.B20TRC5CNBDRD.f09_g16.029.cam.h0.TS.192001-200512.nc'),\n",
       " PosixPath('/glade/collections/cdg/data/cesmLE/CESM-CAM5-BGC-LE/atm/proc/tseries/monthly/TS/b.e11.B20TRC5CNBDRD.f09_g16.030.cam.h0.TS.192001-200512.nc'),\n",
       " PosixPath('/glade/collections/cdg/data/cesmLE/CESM-CAM5-BGC-LE/atm/proc/tseries/monthly/TS/b.e11.B20TRC5CNBDRD.f09_g16.031.cam.h0.TS.192001-200512.nc'),\n",
       " PosixPath('/glade/collections/cdg/data/cesmLE/CESM-CAM5-BGC-LE/atm/proc/tseries/monthly/TS/b.e11.B20TRC5CNBDRD.f09_g16.032.cam.h0.TS.192001-200512.nc'),\n",
       " PosixPath('/glade/collections/cdg/data/cesmLE/CESM-CAM5-BGC-LE/atm/proc/tseries/monthly/TS/b.e11.B20TRC5CNBDRD.f09_g16.033.cam.h0.TS.192001-200512.nc'),\n",
       " PosixPath('/glade/collections/cdg/data/cesmLE/CESM-CAM5-BGC-LE/atm/proc/tseries/monthly/TS/b.e11.B20TRC5CNBDRD.f09_g16.101.cam.h0.TS.192001-200512.nc'),\n",
       " PosixPath('/glade/collections/cdg/data/cesmLE/CESM-CAM5-BGC-LE/atm/proc/tseries/monthly/TS/b.e11.B20TRC5CNBDRD.f09_g16.102.cam.h0.TS.192001-200512.nc'),\n",
       " PosixPath('/glade/collections/cdg/data/cesmLE/CESM-CAM5-BGC-LE/atm/proc/tseries/monthly/TS/b.e11.B20TRC5CNBDRD.f09_g16.103.cam.h0.TS.192001-200512.nc'),\n",
       " PosixPath('/glade/collections/cdg/data/cesmLE/CESM-CAM5-BGC-LE/atm/proc/tseries/monthly/TS/b.e11.B20TRC5CNBDRD.f09_g16.104.cam.h0.TS.192001-200512.nc'),\n",
       " PosixPath('/glade/collections/cdg/data/cesmLE/CESM-CAM5-BGC-LE/atm/proc/tseries/monthly/TS/b.e11.B20TRC5CNBDRD.f09_g16.105.cam.h0.TS.192001-200512.nc'),\n",
       " PosixPath('/glade/collections/cdg/data/cesmLE/CESM-CAM5-BGC-LE/atm/proc/tseries/monthly/TS/b.e11.B20TRC5CNBDRD.f09_g16.106.cam.h0.TS.192001-200512.nc'),\n",
       " PosixPath('/glade/collections/cdg/data/cesmLE/CESM-CAM5-BGC-LE/atm/proc/tseries/monthly/TS/b.e11.B20TRC5CNBDRD.f09_g16.107.cam.h0.TS.192001-200512.nc')]"
      ]
     },
     "execution_count": 19,
     "metadata": {},
     "output_type": "execute_result"
    }
   ],
   "source": [
    "updated_list = [item for index, item in enumerate(list_1) if index not in indices]\n",
    "updated_list"
   ]
  },
  {
   "cell_type": "code",
   "execution_count": 20,
   "metadata": {},
   "outputs": [
    {
     "data": {
      "text/plain": [
       "<xarray.Dataset>\n",
       "Dimensions:       (ensemble: 39, ilev: 31, lat: 289, lev: 30, lon: 288, nbnd: 2, slat: 256, slon: 288, time: 1032)\n",
       "Coordinates:\n",
       "  * lat           (lat) float64 -90.0 -89.06 -88.12 -87.17 ... 88.12 89.06 90.0\n",
       "  * slat          (slat) float64 -89.53 -88.59 -87.64 ... 87.64 88.59 89.53\n",
       "  * ilev          (ilev) float64 2.255 5.032 10.16 18.56 ... 967.5 985.1 1e+03\n",
       "  * lev           (lev) float64 3.643 7.595 14.36 24.61 ... 957.5 976.3 992.6\n",
       "  * lon           (lon) float64 0.0 1.25 2.5 3.75 ... 355.0 356.2 357.5 358.8\n",
       "  * slon          (slon) float64 -0.625 0.625 1.875 3.125 ... 355.6 356.9 358.1\n",
       "  * time          (time) object 1920-02-01 00:00:00 ... 2006-01-01 00:00:00\n",
       "Dimensions without coordinates: ensemble, nbnd\n",
       "Data variables:\n",
       "    P0            (ensemble) float64 1e+05 1e+05 1e+05 ... 1e+05 1e+05 1e+05\n",
       "    TS            (ensemble, time, lat, lon) float32 dask.array<shape=(39, 1032, 289, 288), chunksize=(1, 1032, 289, 288)>\n",
       "    ch4vmr        (ensemble, time) float64 dask.array<shape=(39, 1032), chunksize=(1, 1032)>\n",
       "    co2vmr        (ensemble, time) float64 dask.array<shape=(39, 1032), chunksize=(1, 1032)>\n",
       "    date          (ensemble, time) int32 dask.array<shape=(39, 1032), chunksize=(1, 1032)>\n",
       "    date_written  (ensemble, time) |S8 dask.array<shape=(39, 1032), chunksize=(1, 1032)>\n",
       "    datesec       (ensemble, time) int32 dask.array<shape=(39, 1032), chunksize=(1, 1032)>\n",
       "    f11vmr        (ensemble, time) float64 dask.array<shape=(39, 1032), chunksize=(1, 1032)>\n",
       "    f12vmr        (ensemble, time) float64 dask.array<shape=(39, 1032), chunksize=(1, 1032)>\n",
       "    gw            (ensemble, lat) float64 dask.array<shape=(39, 289), chunksize=(1, 289)>\n",
       "    hyai          (ensemble, ilev) float64 dask.array<shape=(39, 31), chunksize=(1, 31)>\n",
       "    hyam          (ensemble, lev) float64 dask.array<shape=(39, 30), chunksize=(1, 30)>\n",
       "    hybi          (ensemble, ilev) float64 dask.array<shape=(39, 31), chunksize=(1, 31)>\n",
       "    hybm          (ensemble, lev) float64 dask.array<shape=(39, 30), chunksize=(1, 30)>\n",
       "    mdt           (ensemble) int32 1800 1800 1800 1800 ... 1800 1800 1800 1800\n",
       "    n2ovmr        (ensemble, time) float64 dask.array<shape=(39, 1032), chunksize=(1, 1032)>\n",
       "    nbdate        (ensemble) int32 19200101 19200101 ... 19200101 19200101\n",
       "    nbsec         (ensemble) int32 0 0 0 0 0 0 0 0 0 0 0 ... 0 0 0 0 0 0 0 0 0 0\n",
       "    ndbase        (ensemble) int32 0 0 0 0 0 0 0 0 0 0 0 ... 0 0 0 0 0 0 0 0 0 0\n",
       "    ndcur         (ensemble, time) int32 dask.array<shape=(39, 1032), chunksize=(1, 1032)>\n",
       "    nlon          (ensemble, lat) float64 dask.array<shape=(39, 289), chunksize=(1, 289)>\n",
       "    nsbase        (ensemble) int32 0 0 0 0 0 0 0 0 0 0 0 ... 0 0 0 0 0 0 0 0 0 0\n",
       "    nscur         (ensemble, time) int32 dask.array<shape=(39, 1032), chunksize=(1, 1032)>\n",
       "    nsteph        (ensemble, time) int32 dask.array<shape=(39, 1032), chunksize=(1, 1032)>\n",
       "    ntrk          (ensemble) int32 1 1 1 1 1 1 1 1 1 1 1 ... 1 1 1 1 1 1 1 1 1 1\n",
       "    ntrm          (ensemble) int32 1 1 1 1 1 1 1 1 1 1 1 ... 1 1 1 1 1 1 1 1 1 1\n",
       "    ntrn          (ensemble) int32 1 1 1 1 1 1 1 1 1 1 1 ... 1 1 1 1 1 1 1 1 1 1\n",
       "    sol_tsi       (ensemble, time) float64 dask.array<shape=(39, 1032), chunksize=(1, 1032)>\n",
       "    time_bnds     (ensemble, time, nbnd) object dask.array<shape=(39, 1032, 2), chunksize=(1, 1032, 2)>\n",
       "    time_written  (ensemble, time) |S8 dask.array<shape=(39, 1032), chunksize=(1, 1032)>\n",
       "    w_stag        (ensemble, slat) float64 dask.array<shape=(39, 256), chunksize=(1, 256)>\n",
       "    wnummax       (ensemble, lat) float64 dask.array<shape=(39, 289), chunksize=(1, 289)>\n",
       "Attributes:\n",
       "    Conventions:               CF-1.0\n",
       "    source:                    CAM\n",
       "    case:                      b.e11.B20TRC5CNBDRD.f09_g16.002\n",
       "    title:                     UNSET\n",
       "    logname:                   mai\n",
       "    host:                      ys1329\n",
       "    Version:                   $Name$\n",
       "    revision_Id:               $Id$\n",
       "    initial_file:              b.e11.B20TRC5CNBDRD.f09_g16.001.cam.i.1920-01-...\n",
       "    topography_file:           /glade/p/cesm/cseg//inputdata/atm/cam/topo/USG...\n",
       "    history:                   Tue Aug 13 11:27:07 2013: /glade/apps/opt/nco/...\n",
       "    NCO:                       4.3.4\n",
       "    nco_openmp_thread_number:  1"
      ]
     },
     "execution_count": 20,
     "metadata": {},
     "output_type": "execute_result"
    }
   ],
   "source": [
    "dset_case2 = xr.open_mfdataset(updated_list, concat_dim='ensemble')\n",
    "dset_case2"
   ]
  },
  {
   "cell_type": "code",
   "execution_count": 21,
   "metadata": {},
   "outputs": [],
   "source": [
    "dset_case2.attrs['case'] = CASE2"
   ]
  },
  {
   "cell_type": "markdown",
   "metadata": {},
   "source": [
    "## Persist the data"
   ]
  },
  {
   "cell_type": "code",
   "execution_count": 22,
   "metadata": {},
   "outputs": [],
   "source": [
    "def save_to_dist(ds, chunks, output_dir):\n",
    "    zarr_store = ''\n",
    "    for key, val in sorted(chunks.items()):\n",
    "        zarr_store += str(key)+str(val) + '-'\n",
    "        \n",
    "    zarr_store += '.zarr'\n",
    "    CASE = ds.attrs['case']\n",
    "    case_dir = f'{output_dir}/{CASE}'\n",
    "    os.makedirs(case_dir, exist_ok=True)\n",
    "    output = f'{case_dir}/{zarr_store}'\n",
    "    print(f\"Writing {output} with chunks = {chunks}\")\n",
    "    ds = ds.chunk(chunks)\n",
    "    ds.to_zarr(output, mode='w')"
   ]
  },
  {
   "cell_type": "code",
   "execution_count": 23,
   "metadata": {},
   "outputs": [],
   "source": [
    "chunks = [{\"ensemble\": 1, \"time\": 1032},\n",
    "          {\"ensemble\": 1, \"time\": 516},\n",
    "          {\"ensemble\": 1, \"time\": 258},\n",
    "          {\"ensemble\": 1, \"time\": 129},\n",
    "          {\"ensemble\": 1, \"time\": 64},\n",
    "          {\"ensemble\": 1, \"time\": 32}]\n",
    "output_dir = \"/glade/scratch/abanihi/data/AWS/lens\""
   ]
  },
  {
   "cell_type": "code",
   "execution_count": 24,
   "metadata": {},
   "outputs": [
    {
     "name": "stdout",
     "output_type": "stream",
     "text": [
      "Writing /glade/scratch/abanihi/data/AWS/lens/b.e11.BRCP85C5CNBDRD.f09_g16/ensemble1-time1032-.zarr with chunks = {'ensemble': 1, 'time': 1032}\n",
      "Writing /glade/scratch/abanihi/data/AWS/lens/b.e11.BRCP85C5CNBDRD.f09_g16/ensemble1-time516-.zarr with chunks = {'ensemble': 1, 'time': 516}\n",
      "Writing /glade/scratch/abanihi/data/AWS/lens/b.e11.BRCP85C5CNBDRD.f09_g16/ensemble1-time258-.zarr with chunks = {'ensemble': 1, 'time': 258}\n",
      "Writing /glade/scratch/abanihi/data/AWS/lens/b.e11.BRCP85C5CNBDRD.f09_g16/ensemble1-time129-.zarr with chunks = {'ensemble': 1, 'time': 129}\n",
      "Writing /glade/scratch/abanihi/data/AWS/lens/b.e11.BRCP85C5CNBDRD.f09_g16/ensemble1-time64-.zarr with chunks = {'ensemble': 1, 'time': 64}\n",
      "Writing /glade/scratch/abanihi/data/AWS/lens/b.e11.BRCP85C5CNBDRD.f09_g16/ensemble1-time32-.zarr with chunks = {'ensemble': 1, 'time': 32}\n"
     ]
    },
    {
     "name": "stderr",
     "output_type": "stream",
     "text": [
      "distributed.utils_perf - WARNING - full garbage collections took 12% CPU time recently (threshold: 10%)\n",
      "distributed.utils_perf - WARNING - full garbage collections took 13% CPU time recently (threshold: 10%)\n",
      "distributed.utils_perf - WARNING - full garbage collections took 13% CPU time recently (threshold: 10%)\n",
      "distributed.utils_perf - WARNING - full garbage collections took 13% CPU time recently (threshold: 10%)\n",
      "distributed.utils_perf - WARNING - full garbage collections took 13% CPU time recently (threshold: 10%)\n",
      "distributed.utils_perf - WARNING - full garbage collections took 13% CPU time recently (threshold: 10%)\n",
      "distributed.utils_perf - WARNING - full garbage collections took 13% CPU time recently (threshold: 10%)\n",
      "distributed.utils_perf - WARNING - full garbage collections took 13% CPU time recently (threshold: 10%)\n",
      "distributed.utils_perf - WARNING - full garbage collections took 15% CPU time recently (threshold: 10%)\n",
      "distributed.utils_perf - WARNING - full garbage collections took 17% CPU time recently (threshold: 10%)\n",
      "distributed.utils_perf - WARNING - full garbage collections took 16% CPU time recently (threshold: 10%)\n"
     ]
    }
   ],
   "source": [
    "for chunks_i in chunks:\n",
    "    save_to_dist(dset_case1, chunks_i, output_dir)"
   ]
  },
  {
   "cell_type": "code",
   "execution_count": 25,
   "metadata": {},
   "outputs": [
    {
     "name": "stdout",
     "output_type": "stream",
     "text": [
      "Writing /glade/scratch/abanihi/data/AWS/lens/b.e11.B20TRC5CNBDRD.f09_g16/ensemble1-time1032-.zarr with chunks = {'ensemble': 1, 'time': 1032}\n"
     ]
    },
    {
     "name": "stderr",
     "output_type": "stream",
     "text": [
      "/glade/work/abanihi/softwares/miniconda3/envs/pangeo/lib/python3.6/site-packages/xarray/backends/api.py:915: SerializationWarning: saving variable None with floating point data as an integer dtype without any _FillValue to use for NaNs\n",
      "  dump_to_store(dataset, zstore, writer, encoding=encoding)\n",
      "distributed.utils_perf - WARNING - full garbage collections took 16% CPU time recently (threshold: 10%)\n",
      "distributed.utils_perf - WARNING - full garbage collections took 16% CPU time recently (threshold: 10%)\n",
      "distributed.utils_perf - WARNING - full garbage collections took 14% CPU time recently (threshold: 10%)\n"
     ]
    },
    {
     "name": "stdout",
     "output_type": "stream",
     "text": [
      "Writing /glade/scratch/abanihi/data/AWS/lens/b.e11.B20TRC5CNBDRD.f09_g16/ensemble1-time516-.zarr with chunks = {'ensemble': 1, 'time': 516}\n"
     ]
    },
    {
     "name": "stderr",
     "output_type": "stream",
     "text": [
      "distributed.utils_perf - WARNING - full garbage collections took 14% CPU time recently (threshold: 10%)\n",
      "distributed.utils_perf - WARNING - full garbage collections took 15% CPU time recently (threshold: 10%)\n",
      "distributed.utils_perf - WARNING - full garbage collections took 15% CPU time recently (threshold: 10%)\n"
     ]
    },
    {
     "name": "stdout",
     "output_type": "stream",
     "text": [
      "Writing /glade/scratch/abanihi/data/AWS/lens/b.e11.B20TRC5CNBDRD.f09_g16/ensemble1-time258-.zarr with chunks = {'ensemble': 1, 'time': 258}\n"
     ]
    },
    {
     "name": "stderr",
     "output_type": "stream",
     "text": [
      "distributed.utils_perf - WARNING - full garbage collections took 15% CPU time recently (threshold: 10%)\n",
      "distributed.utils_perf - WARNING - full garbage collections took 15% CPU time recently (threshold: 10%)\n",
      "distributed.utils_perf - WARNING - full garbage collections took 16% CPU time recently (threshold: 10%)\n"
     ]
    },
    {
     "name": "stdout",
     "output_type": "stream",
     "text": [
      "Writing /glade/scratch/abanihi/data/AWS/lens/b.e11.B20TRC5CNBDRD.f09_g16/ensemble1-time129-.zarr with chunks = {'ensemble': 1, 'time': 129}\n"
     ]
    },
    {
     "name": "stderr",
     "output_type": "stream",
     "text": [
      "distributed.utils_perf - WARNING - full garbage collections took 16% CPU time recently (threshold: 10%)\n",
      "distributed.utils_perf - WARNING - full garbage collections took 16% CPU time recently (threshold: 10%)\n",
      "distributed.utils_perf - WARNING - full garbage collections took 16% CPU time recently (threshold: 10%)\n",
      "distributed.utils_perf - WARNING - full garbage collections took 17% CPU time recently (threshold: 10%)\n",
      "distributed.utils_perf - WARNING - full garbage collections took 17% CPU time recently (threshold: 10%)\n"
     ]
    },
    {
     "name": "stdout",
     "output_type": "stream",
     "text": [
      "Writing /glade/scratch/abanihi/data/AWS/lens/b.e11.B20TRC5CNBDRD.f09_g16/ensemble1-time64-.zarr with chunks = {'ensemble': 1, 'time': 64}\n"
     ]
    },
    {
     "name": "stderr",
     "output_type": "stream",
     "text": [
      "distributed.utils_perf - WARNING - full garbage collections took 17% CPU time recently (threshold: 10%)\n",
      "distributed.utils_perf - WARNING - full garbage collections took 16% CPU time recently (threshold: 10%)\n",
      "distributed.utils_perf - WARNING - full garbage collections took 16% CPU time recently (threshold: 10%)\n",
      "distributed.utils_perf - WARNING - full garbage collections took 16% CPU time recently (threshold: 10%)\n",
      "distributed.utils_perf - WARNING - full garbage collections took 16% CPU time recently (threshold: 10%)\n",
      "distributed.utils_perf - WARNING - full garbage collections took 16% CPU time recently (threshold: 10%)\n",
      "distributed.utils_perf - WARNING - full garbage collections took 16% CPU time recently (threshold: 10%)\n",
      "distributed.utils_perf - WARNING - full garbage collections took 18% CPU time recently (threshold: 10%)\n",
      "distributed.utils_perf - WARNING - full garbage collections took 17% CPU time recently (threshold: 10%)\n"
     ]
    },
    {
     "name": "stdout",
     "output_type": "stream",
     "text": [
      "Writing /glade/scratch/abanihi/data/AWS/lens/b.e11.B20TRC5CNBDRD.f09_g16/ensemble1-time32-.zarr with chunks = {'ensemble': 1, 'time': 32}\n"
     ]
    },
    {
     "name": "stderr",
     "output_type": "stream",
     "text": [
      "distributed.utils_perf - WARNING - full garbage collections took 17% CPU time recently (threshold: 10%)\n",
      "distributed.utils_perf - WARNING - full garbage collections took 16% CPU time recently (threshold: 10%)\n",
      "distributed.utils_perf - WARNING - full garbage collections took 16% CPU time recently (threshold: 10%)\n",
      "distributed.utils_perf - WARNING - full garbage collections took 16% CPU time recently (threshold: 10%)\n",
      "distributed.utils_perf - WARNING - full garbage collections took 16% CPU time recently (threshold: 10%)\n",
      "distributed.utils_perf - WARNING - full garbage collections took 16% CPU time recently (threshold: 10%)\n",
      "distributed.utils_perf - WARNING - full garbage collections took 16% CPU time recently (threshold: 10%)\n",
      "distributed.utils_perf - WARNING - full garbage collections took 16% CPU time recently (threshold: 10%)\n",
      "distributed.utils_perf - WARNING - full garbage collections took 16% CPU time recently (threshold: 10%)\n",
      "distributed.utils_perf - WARNING - full garbage collections took 16% CPU time recently (threshold: 10%)\n",
      "distributed.utils_perf - WARNING - full garbage collections took 16% CPU time recently (threshold: 10%)\n",
      "distributed.utils_perf - WARNING - full garbage collections took 16% CPU time recently (threshold: 10%)\n",
      "distributed.utils_perf - WARNING - full garbage collections took 17% CPU time recently (threshold: 10%)\n",
      "distributed.utils_perf - WARNING - full garbage collections took 16% CPU time recently (threshold: 10%)\n"
     ]
    }
   ],
   "source": [
    "for chunks_i in chunks:\n",
    "    save_to_dist(dset_case2, chunks_i, output_dir)"
   ]
  },
  {
   "cell_type": "code",
   "execution_count": 26,
   "metadata": {},
   "outputs": [
    {
     "name": "stdout",
     "output_type": "stream",
     "text": [
      "\u001b[0m\u001b[38;5;27mb.e11.B20TRC5CNBDRD.f09_g16\u001b[0m/  \u001b[38;5;27mb.e11.BRCP85C5CNBDRD.f09_g16\u001b[0m/\n"
     ]
    }
   ],
   "source": [
    "ls /glade/scratch/abanihi/data/AWS/lens/"
   ]
  },
  {
   "cell_type": "code",
   "execution_count": 27,
   "metadata": {},
   "outputs": [
    {
     "name": "stdout",
     "output_type": "stream",
     "text": [
      "xarray 0.11.3\n",
      "dask   1.1.1\n",
      "numpy  1.16.1\n",
      "last updated: Mon Feb 04 2019 13:59:59 \n",
      "\n",
      "compiler   : GCC 7.3.0\n",
      "system     : Linux\n",
      "release    : 3.10.0-693.21.1.el7.x86_64\n",
      "machine    : x86_64\n",
      "processor  : x86_64\n",
      "CPU cores  : 72\n",
      "interpreter: 64bit\n",
      "Git hash   : 7c5a9bc82aa1fe7cca674ce00df9e9d0477ffb28\n"
     ]
    }
   ],
   "source": [
    "%load_ext watermark\n",
    "%watermark -u -n -t -iv -g -m"
   ]
  }
 ],
 "metadata": {
  "kernelspec": {
   "display_name": "Python 3",
   "language": "python",
   "name": "python3"
  },
  "language_info": {
   "codemirror_mode": {
    "name": "ipython",
    "version": 3
   },
   "file_extension": ".py",
   "mimetype": "text/x-python",
   "name": "python",
   "nbconvert_exporter": "python",
   "pygments_lexer": "ipython3",
   "version": "3.6.7"
  }
 },
 "nbformat": 4,
 "nbformat_minor": 2
}
