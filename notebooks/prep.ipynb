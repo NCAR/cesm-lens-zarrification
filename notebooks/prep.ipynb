{
 "cells": [
  {
   "cell_type": "code",
   "execution_count": 1,
   "metadata": {},
   "outputs": [],
   "source": [
    "import warnings\n",
    "warnings.filterwarnings(\"ignore\")\n",
    "import intake"
   ]
  },
  {
   "cell_type": "code",
   "execution_count": 2,
   "metadata": {},
   "outputs": [
    {
     "name": "stdout",
     "output_type": "stream",
     "text": [
      "Getting file listing: CTRL:GLADE:posix:/glade/collections/cdg/data/cesmLE/CESM-CAM5-BGC-LE\n"
     ]
    },
    {
     "data": {
      "application/vnd.jupyter.widget-view+json": {
       "model_id": "ca0f15368dae451981ecc3ecefe3ae05",
       "version_major": 2,
       "version_minor": 0
      },
      "text/plain": [
       "HBox(children=(IntProgress(value=0, description='file listing', max=159351, style=ProgressStyle(description_wi…"
      ]
     },
     "metadata": {},
     "output_type": "display_data"
    },
    {
     "name": "stdout",
     "output_type": "stream",
     "text": [
      "Filename : f.e11.FAMIPC5CN.f09_f09.rcp85.toga.ens10.clm2.h0.THBOT.200601-201412.nc_temp_.nc does not conform to expected pattern\n",
      "Filename : f.e11.FAMIPC5CN.f09_f09.rcp85.toga.ens10.clm2.h0.ERRH2OSNO.200601-201412.nc_temp_.nc does not conform to expected pattern\n",
      "Filename : f.e11.FAMIPC5CN.f09_f09.rcp85.toga.ens10.clm2.h0.PSNSUN.200601-201412.nc_temp_.nc does not conform to expected pattern\n",
      "Filename : f.e11.FAMIPC5CN.f09_f09.rcp85.toga.ens10.clm2.h0.PRODUCT_CLOSS.200601-201412.nc_temp_.nc does not conform to expected pattern\n",
      "Filename : f.e11.FAMIPC5CN.f09_f09.rcp85.toga.ens10.clm2.h0.PSNSUN_TO_CPOOL.200601-201412.nc_temp_.nc does not conform to expected pattern\n",
      "\n",
      "Getting file listing: CTRL:HPSS:hsi:/CCSM/csm/CESM-CAM5-BGC-LE\n",
      "Getting file listing: 20C:GLADE:posix:/glade/collections/cdg/data/cesmLE/CESM-CAM5-BGC-LE\n"
     ]
    },
    {
     "data": {
      "application/vnd.jupyter.widget-view+json": {
       "model_id": "075476e7ac22408680c29cf4c76189e4",
       "version_major": 2,
       "version_minor": 0
      },
      "text/plain": [
       "HBox(children=(IntProgress(value=0, description='file listing', max=159351, style=ProgressStyle(description_wi…"
      ]
     },
     "metadata": {},
     "output_type": "display_data"
    },
    {
     "name": "stdout",
     "output_type": "stream",
     "text": [
      "Filename : f.e11.FAMIPC5CN.f09_f09.rcp85.toga.ens10.clm2.h0.THBOT.200601-201412.nc_temp_.nc does not conform to expected pattern\n",
      "Filename : f.e11.FAMIPC5CN.f09_f09.rcp85.toga.ens10.clm2.h0.ERRH2OSNO.200601-201412.nc_temp_.nc does not conform to expected pattern\n",
      "Filename : f.e11.FAMIPC5CN.f09_f09.rcp85.toga.ens10.clm2.h0.PSNSUN.200601-201412.nc_temp_.nc does not conform to expected pattern\n",
      "Filename : f.e11.FAMIPC5CN.f09_f09.rcp85.toga.ens10.clm2.h0.PRODUCT_CLOSS.200601-201412.nc_temp_.nc does not conform to expected pattern\n",
      "Filename : f.e11.FAMIPC5CN.f09_f09.rcp85.toga.ens10.clm2.h0.PSNSUN_TO_CPOOL.200601-201412.nc_temp_.nc does not conform to expected pattern\n",
      "\n",
      "Getting file listing: 20C:HPSS:hsi:/CCSM/csm/CESM-CAM5-BGC-LE\n",
      "Getting file listing: RCP85:GLADE:posix:/glade/collections/cdg/data/cesmLE/CESM-CAM5-BGC-LE\n"
     ]
    },
    {
     "data": {
      "application/vnd.jupyter.widget-view+json": {
       "model_id": "69d816facba74d85a3b3ed059c22b387",
       "version_major": 2,
       "version_minor": 0
      },
      "text/plain": [
       "HBox(children=(IntProgress(value=0, description='file listing', max=159351, style=ProgressStyle(description_wi…"
      ]
     },
     "metadata": {},
     "output_type": "display_data"
    },
    {
     "name": "stdout",
     "output_type": "stream",
     "text": [
      "Filename : f.e11.FAMIPC5CN.f09_f09.rcp85.toga.ens10.clm2.h0.THBOT.200601-201412.nc_temp_.nc does not conform to expected pattern\n",
      "Filename : f.e11.FAMIPC5CN.f09_f09.rcp85.toga.ens10.clm2.h0.ERRH2OSNO.200601-201412.nc_temp_.nc does not conform to expected pattern\n",
      "Filename : f.e11.FAMIPC5CN.f09_f09.rcp85.toga.ens10.clm2.h0.PSNSUN.200601-201412.nc_temp_.nc does not conform to expected pattern\n",
      "Filename : f.e11.FAMIPC5CN.f09_f09.rcp85.toga.ens10.clm2.h0.PRODUCT_CLOSS.200601-201412.nc_temp_.nc does not conform to expected pattern\n",
      "Filename : f.e11.FAMIPC5CN.f09_f09.rcp85.toga.ens10.clm2.h0.PSNSUN_TO_CPOOL.200601-201412.nc_temp_.nc does not conform to expected pattern\n",
      "\n",
      "Getting file listing: RCP85:HPSS:hsi:/CCSM/csm/CESM-CAM5-BGC-LE\n",
      "<class 'pandas.core.frame.DataFrame'>\n",
      "RangeIndex: 110702 entries, 0 to 110701\n",
      "Data columns (total 18 columns):\n",
      "resource            110702 non-null object\n",
      "resource_type       110702 non-null object\n",
      "direct_access       110702 non-null object\n",
      "experiment          110702 non-null object\n",
      "case                110702 non-null object\n",
      "component           110702 non-null object\n",
      "stream              110702 non-null object\n",
      "variable            110702 non-null object\n",
      "date_range          110702 non-null object\n",
      "member_id           110702 non-null object\n",
      "file_fullpath       110702 non-null object\n",
      "file_basename       110702 non-null object\n",
      "file_dirname        110702 non-null object\n",
      "ctrl_branch_year    95609 non-null object\n",
      "year_offset         15093 non-null object\n",
      "sequence_order      110702 non-null object\n",
      "has_ocean_bgc       110702 non-null object\n",
      "grid                13013 non-null object\n",
      "dtypes: object(18)\n",
      "memory usage: 15.2+ MB\n",
      "None\n",
      "Persisting CESM1-LE at : /glade/u/home/abanihi/.intake_esm/collections/cesm/CESM1-LE.cesm.csv\n"
     ]
    }
   ],
   "source": [
    "col = intake.open_esm_metadatastore(collection_input_definition=\"CESM1-LE\")"
   ]
  },
  {
   "cell_type": "code",
   "execution_count": 3,
   "metadata": {},
   "outputs": [
    {
     "data": {
      "text/html": [
       "<div>\n",
       "<style scoped>\n",
       "    .dataframe tbody tr th:only-of-type {\n",
       "        vertical-align: middle;\n",
       "    }\n",
       "\n",
       "    .dataframe tbody tr th {\n",
       "        vertical-align: top;\n",
       "    }\n",
       "\n",
       "    .dataframe thead th {\n",
       "        text-align: right;\n",
       "    }\n",
       "</style>\n",
       "<table border=\"1\" class=\"dataframe\">\n",
       "  <thead>\n",
       "    <tr style=\"text-align: right;\">\n",
       "      <th></th>\n",
       "      <th>resource</th>\n",
       "      <th>resource_type</th>\n",
       "      <th>direct_access</th>\n",
       "      <th>experiment</th>\n",
       "      <th>case</th>\n",
       "      <th>component</th>\n",
       "      <th>stream</th>\n",
       "      <th>variable</th>\n",
       "      <th>date_range</th>\n",
       "      <th>member_id</th>\n",
       "      <th>file_fullpath</th>\n",
       "      <th>file_basename</th>\n",
       "      <th>file_dirname</th>\n",
       "      <th>ctrl_branch_year</th>\n",
       "      <th>year_offset</th>\n",
       "      <th>sequence_order</th>\n",
       "      <th>has_ocean_bgc</th>\n",
       "      <th>grid</th>\n",
       "    </tr>\n",
       "  </thead>\n",
       "  <tbody>\n",
       "    <tr>\n",
       "      <th>0</th>\n",
       "      <td>CTRL:GLADE:posix:/glade/collections/cdg/data/c...</td>\n",
       "      <td>posix</td>\n",
       "      <td>True</td>\n",
       "      <td>CTRL</td>\n",
       "      <td>b.e11.B1850C5CN.f09_g16.005</td>\n",
       "      <td>atm</td>\n",
       "      <td>cam.h1</td>\n",
       "      <td>T200</td>\n",
       "      <td>18000101-18991231</td>\n",
       "      <td>0</td>\n",
       "      <td>/glade/collections/cdg/data/cesmLE/CESM-CAM5-B...</td>\n",
       "      <td>b.e11.B1850C5CN.f09_g16.005.cam.h1.T200.180001...</td>\n",
       "      <td>/glade/collections/cdg/data/cesmLE/CESM-CAM5-B...</td>\n",
       "      <td>NaN</td>\n",
       "      <td>1448.0</td>\n",
       "      <td>0</td>\n",
       "      <td>True</td>\n",
       "      <td>NaN</td>\n",
       "    </tr>\n",
       "    <tr>\n",
       "      <th>1</th>\n",
       "      <td>CTRL:GLADE:posix:/glade/collections/cdg/data/c...</td>\n",
       "      <td>posix</td>\n",
       "      <td>True</td>\n",
       "      <td>CTRL</td>\n",
       "      <td>b.e11.B1850C5CN.f09_g16.005</td>\n",
       "      <td>atm</td>\n",
       "      <td>cam.h1</td>\n",
       "      <td>T200</td>\n",
       "      <td>08000101-08991231</td>\n",
       "      <td>0</td>\n",
       "      <td>/glade/collections/cdg/data/cesmLE/CESM-CAM5-B...</td>\n",
       "      <td>b.e11.B1850C5CN.f09_g16.005.cam.h1.T200.080001...</td>\n",
       "      <td>/glade/collections/cdg/data/cesmLE/CESM-CAM5-B...</td>\n",
       "      <td>NaN</td>\n",
       "      <td>1448.0</td>\n",
       "      <td>0</td>\n",
       "      <td>True</td>\n",
       "      <td>NaN</td>\n",
       "    </tr>\n",
       "    <tr>\n",
       "      <th>2</th>\n",
       "      <td>CTRL:GLADE:posix:/glade/collections/cdg/data/c...</td>\n",
       "      <td>posix</td>\n",
       "      <td>True</td>\n",
       "      <td>CTRL</td>\n",
       "      <td>b.e11.B1850C5CN.f09_g16.005</td>\n",
       "      <td>atm</td>\n",
       "      <td>cam.h1</td>\n",
       "      <td>T200</td>\n",
       "      <td>04020101-04991231</td>\n",
       "      <td>0</td>\n",
       "      <td>/glade/collections/cdg/data/cesmLE/CESM-CAM5-B...</td>\n",
       "      <td>b.e11.B1850C5CN.f09_g16.005.cam.h1.T200.040201...</td>\n",
       "      <td>/glade/collections/cdg/data/cesmLE/CESM-CAM5-B...</td>\n",
       "      <td>NaN</td>\n",
       "      <td>1448.0</td>\n",
       "      <td>0</td>\n",
       "      <td>True</td>\n",
       "      <td>NaN</td>\n",
       "    </tr>\n",
       "    <tr>\n",
       "      <th>3</th>\n",
       "      <td>CTRL:GLADE:posix:/glade/collections/cdg/data/c...</td>\n",
       "      <td>posix</td>\n",
       "      <td>True</td>\n",
       "      <td>CTRL</td>\n",
       "      <td>b.e11.B1850C5CN.f09_g16.005</td>\n",
       "      <td>atm</td>\n",
       "      <td>cam.h1</td>\n",
       "      <td>T200</td>\n",
       "      <td>10000101-10991231</td>\n",
       "      <td>0</td>\n",
       "      <td>/glade/collections/cdg/data/cesmLE/CESM-CAM5-B...</td>\n",
       "      <td>b.e11.B1850C5CN.f09_g16.005.cam.h1.T200.100001...</td>\n",
       "      <td>/glade/collections/cdg/data/cesmLE/CESM-CAM5-B...</td>\n",
       "      <td>NaN</td>\n",
       "      <td>1448.0</td>\n",
       "      <td>0</td>\n",
       "      <td>True</td>\n",
       "      <td>NaN</td>\n",
       "    </tr>\n",
       "    <tr>\n",
       "      <th>4</th>\n",
       "      <td>CTRL:GLADE:posix:/glade/collections/cdg/data/c...</td>\n",
       "      <td>posix</td>\n",
       "      <td>True</td>\n",
       "      <td>CTRL</td>\n",
       "      <td>b.e11.B1850C5CN.f09_g16.005</td>\n",
       "      <td>atm</td>\n",
       "      <td>cam.h1</td>\n",
       "      <td>T200</td>\n",
       "      <td>11000101-11991231</td>\n",
       "      <td>0</td>\n",
       "      <td>/glade/collections/cdg/data/cesmLE/CESM-CAM5-B...</td>\n",
       "      <td>b.e11.B1850C5CN.f09_g16.005.cam.h1.T200.110001...</td>\n",
       "      <td>/glade/collections/cdg/data/cesmLE/CESM-CAM5-B...</td>\n",
       "      <td>NaN</td>\n",
       "      <td>1448.0</td>\n",
       "      <td>0</td>\n",
       "      <td>True</td>\n",
       "      <td>NaN</td>\n",
       "    </tr>\n",
       "  </tbody>\n",
       "</table>\n",
       "</div>"
      ],
      "text/plain": [
       "                                            resource resource_type  \\\n",
       "0  CTRL:GLADE:posix:/glade/collections/cdg/data/c...         posix   \n",
       "1  CTRL:GLADE:posix:/glade/collections/cdg/data/c...         posix   \n",
       "2  CTRL:GLADE:posix:/glade/collections/cdg/data/c...         posix   \n",
       "3  CTRL:GLADE:posix:/glade/collections/cdg/data/c...         posix   \n",
       "4  CTRL:GLADE:posix:/glade/collections/cdg/data/c...         posix   \n",
       "\n",
       "   direct_access experiment                         case component  stream  \\\n",
       "0           True       CTRL  b.e11.B1850C5CN.f09_g16.005       atm  cam.h1   \n",
       "1           True       CTRL  b.e11.B1850C5CN.f09_g16.005       atm  cam.h1   \n",
       "2           True       CTRL  b.e11.B1850C5CN.f09_g16.005       atm  cam.h1   \n",
       "3           True       CTRL  b.e11.B1850C5CN.f09_g16.005       atm  cam.h1   \n",
       "4           True       CTRL  b.e11.B1850C5CN.f09_g16.005       atm  cam.h1   \n",
       "\n",
       "  variable         date_range  member_id  \\\n",
       "0     T200  18000101-18991231          0   \n",
       "1     T200  08000101-08991231          0   \n",
       "2     T200  04020101-04991231          0   \n",
       "3     T200  10000101-10991231          0   \n",
       "4     T200  11000101-11991231          0   \n",
       "\n",
       "                                       file_fullpath  \\\n",
       "0  /glade/collections/cdg/data/cesmLE/CESM-CAM5-B...   \n",
       "1  /glade/collections/cdg/data/cesmLE/CESM-CAM5-B...   \n",
       "2  /glade/collections/cdg/data/cesmLE/CESM-CAM5-B...   \n",
       "3  /glade/collections/cdg/data/cesmLE/CESM-CAM5-B...   \n",
       "4  /glade/collections/cdg/data/cesmLE/CESM-CAM5-B...   \n",
       "\n",
       "                                       file_basename  \\\n",
       "0  b.e11.B1850C5CN.f09_g16.005.cam.h1.T200.180001...   \n",
       "1  b.e11.B1850C5CN.f09_g16.005.cam.h1.T200.080001...   \n",
       "2  b.e11.B1850C5CN.f09_g16.005.cam.h1.T200.040201...   \n",
       "3  b.e11.B1850C5CN.f09_g16.005.cam.h1.T200.100001...   \n",
       "4  b.e11.B1850C5CN.f09_g16.005.cam.h1.T200.110001...   \n",
       "\n",
       "                                        file_dirname  ctrl_branch_year  \\\n",
       "0  /glade/collections/cdg/data/cesmLE/CESM-CAM5-B...               NaN   \n",
       "1  /glade/collections/cdg/data/cesmLE/CESM-CAM5-B...               NaN   \n",
       "2  /glade/collections/cdg/data/cesmLE/CESM-CAM5-B...               NaN   \n",
       "3  /glade/collections/cdg/data/cesmLE/CESM-CAM5-B...               NaN   \n",
       "4  /glade/collections/cdg/data/cesmLE/CESM-CAM5-B...               NaN   \n",
       "\n",
       "   year_offset  sequence_order  has_ocean_bgc grid  \n",
       "0       1448.0               0           True  NaN  \n",
       "1       1448.0               0           True  NaN  \n",
       "2       1448.0               0           True  NaN  \n",
       "3       1448.0               0           True  NaN  \n",
       "4       1448.0               0           True  NaN  "
      ]
     },
     "execution_count": 3,
     "metadata": {},
     "output_type": "execute_result"
    }
   ],
   "source": [
    "col.df.head()"
   ]
  },
  {
   "cell_type": "code",
   "execution_count": 4,
   "metadata": {},
   "outputs": [
    {
     "data": {
      "text/plain": [
       "array(['posix'], dtype=object)"
      ]
     },
     "execution_count": 4,
     "metadata": {},
     "output_type": "execute_result"
    }
   ],
   "source": [
    "col.df.resource_type.unique()"
   ]
  },
  {
   "cell_type": "code",
   "execution_count": 13,
   "metadata": {},
   "outputs": [],
   "source": [
    "variables = col.df.variable.unique()"
   ]
  },
  {
   "cell_type": "markdown",
   "metadata": {},
   "source": [
    "## List of variables to include in AWS"
   ]
  },
  {
   "cell_type": "code",
   "execution_count": 6,
   "metadata": {},
   "outputs": [],
   "source": [
    "atmos_mon_3d = [\"T\", \"U\", \"V\", \"Q\", \"Z3\"]\n"
   ]
  },
  {
   "cell_type": "markdown",
   "metadata": {},
   "source": [
    "### Atmosphere, monthly, 3D"
   ]
  },
  {
   "cell_type": "code",
   "execution_count": 11,
   "metadata": {},
   "outputs": [
    {
     "data": {
      "text/plain": [
       "array(['Q', 'T', 'U', 'V', 'Z3'], dtype=object)"
      ]
     },
     "execution_count": 11,
     "metadata": {},
     "output_type": "execute_result"
    }
   ],
   "source": [
    "cat1 = col.search(variable=atmos_mon_3d, component=\"atm\")\n",
    "cat1.query_results.variable.unique()"
   ]
  },
  {
   "cell_type": "code",
   "execution_count": 12,
   "metadata": {},
   "outputs": [
    {
     "data": {
      "text/html": [
       "<div>\n",
       "<style scoped>\n",
       "    .dataframe tbody tr th:only-of-type {\n",
       "        vertical-align: middle;\n",
       "    }\n",
       "\n",
       "    .dataframe tbody tr th {\n",
       "        vertical-align: top;\n",
       "    }\n",
       "\n",
       "    .dataframe thead th {\n",
       "        text-align: right;\n",
       "    }\n",
       "</style>\n",
       "<table border=\"1\" class=\"dataframe\">\n",
       "  <thead>\n",
       "    <tr style=\"text-align: right;\">\n",
       "      <th></th>\n",
       "      <th>resource</th>\n",
       "      <th>resource_type</th>\n",
       "      <th>direct_access</th>\n",
       "      <th>experiment</th>\n",
       "      <th>case</th>\n",
       "      <th>component</th>\n",
       "      <th>stream</th>\n",
       "      <th>variable</th>\n",
       "      <th>date_range</th>\n",
       "      <th>member_id</th>\n",
       "      <th>file_fullpath</th>\n",
       "      <th>file_basename</th>\n",
       "      <th>file_dirname</th>\n",
       "      <th>ctrl_branch_year</th>\n",
       "      <th>year_offset</th>\n",
       "      <th>sequence_order</th>\n",
       "      <th>has_ocean_bgc</th>\n",
       "      <th>grid</th>\n",
       "    </tr>\n",
       "  </thead>\n",
       "  <tbody>\n",
       "    <tr>\n",
       "      <th>1077</th>\n",
       "      <td>CTRL:GLADE:posix:/glade/collections/cdg/data/c...</td>\n",
       "      <td>posix</td>\n",
       "      <td>True</td>\n",
       "      <td>CTRL</td>\n",
       "      <td>b.e11.B1850C5CN.f09_g16.005</td>\n",
       "      <td>atm</td>\n",
       "      <td>cam.h0</td>\n",
       "      <td>Q</td>\n",
       "      <td>040001-049912</td>\n",
       "      <td>0</td>\n",
       "      <td>/glade/collections/cdg/data/cesmLE/CESM-CAM5-B...</td>\n",
       "      <td>b.e11.B1850C5CN.f09_g16.005.cam.h0.Q.040001-04...</td>\n",
       "      <td>/glade/collections/cdg/data/cesmLE/CESM-CAM5-B...</td>\n",
       "      <td>NaN</td>\n",
       "      <td>1448.0</td>\n",
       "      <td>0</td>\n",
       "      <td>True</td>\n",
       "      <td>NaN</td>\n",
       "    </tr>\n",
       "    <tr>\n",
       "      <th>1073</th>\n",
       "      <td>CTRL:GLADE:posix:/glade/collections/cdg/data/c...</td>\n",
       "      <td>posix</td>\n",
       "      <td>True</td>\n",
       "      <td>CTRL</td>\n",
       "      <td>b.e11.B1850C5CN.f09_g16.005</td>\n",
       "      <td>atm</td>\n",
       "      <td>cam.h0</td>\n",
       "      <td>Q</td>\n",
       "      <td>050001-059912</td>\n",
       "      <td>0</td>\n",
       "      <td>/glade/collections/cdg/data/cesmLE/CESM-CAM5-B...</td>\n",
       "      <td>b.e11.B1850C5CN.f09_g16.005.cam.h0.Q.050001-05...</td>\n",
       "      <td>/glade/collections/cdg/data/cesmLE/CESM-CAM5-B...</td>\n",
       "      <td>NaN</td>\n",
       "      <td>1448.0</td>\n",
       "      <td>0</td>\n",
       "      <td>True</td>\n",
       "      <td>NaN</td>\n",
       "    </tr>\n",
       "    <tr>\n",
       "      <th>1072</th>\n",
       "      <td>CTRL:GLADE:posix:/glade/collections/cdg/data/c...</td>\n",
       "      <td>posix</td>\n",
       "      <td>True</td>\n",
       "      <td>CTRL</td>\n",
       "      <td>b.e11.B1850C5CN.f09_g16.005</td>\n",
       "      <td>atm</td>\n",
       "      <td>cam.h0</td>\n",
       "      <td>Q</td>\n",
       "      <td>060001-069912</td>\n",
       "      <td>0</td>\n",
       "      <td>/glade/collections/cdg/data/cesmLE/CESM-CAM5-B...</td>\n",
       "      <td>b.e11.B1850C5CN.f09_g16.005.cam.h0.Q.060001-06...</td>\n",
       "      <td>/glade/collections/cdg/data/cesmLE/CESM-CAM5-B...</td>\n",
       "      <td>NaN</td>\n",
       "      <td>1448.0</td>\n",
       "      <td>0</td>\n",
       "      <td>True</td>\n",
       "      <td>NaN</td>\n",
       "    </tr>\n",
       "    <tr>\n",
       "      <th>1068</th>\n",
       "      <td>CTRL:GLADE:posix:/glade/collections/cdg/data/c...</td>\n",
       "      <td>posix</td>\n",
       "      <td>True</td>\n",
       "      <td>CTRL</td>\n",
       "      <td>b.e11.B1850C5CN.f09_g16.005</td>\n",
       "      <td>atm</td>\n",
       "      <td>cam.h0</td>\n",
       "      <td>Q</td>\n",
       "      <td>070001-079912</td>\n",
       "      <td>0</td>\n",
       "      <td>/glade/collections/cdg/data/cesmLE/CESM-CAM5-B...</td>\n",
       "      <td>b.e11.B1850C5CN.f09_g16.005.cam.h0.Q.070001-07...</td>\n",
       "      <td>/glade/collections/cdg/data/cesmLE/CESM-CAM5-B...</td>\n",
       "      <td>NaN</td>\n",
       "      <td>1448.0</td>\n",
       "      <td>0</td>\n",
       "      <td>True</td>\n",
       "      <td>NaN</td>\n",
       "    </tr>\n",
       "    <tr>\n",
       "      <th>1078</th>\n",
       "      <td>CTRL:GLADE:posix:/glade/collections/cdg/data/c...</td>\n",
       "      <td>posix</td>\n",
       "      <td>True</td>\n",
       "      <td>CTRL</td>\n",
       "      <td>b.e11.B1850C5CN.f09_g16.005</td>\n",
       "      <td>atm</td>\n",
       "      <td>cam.h0</td>\n",
       "      <td>Q</td>\n",
       "      <td>080001-089912</td>\n",
       "      <td>0</td>\n",
       "      <td>/glade/collections/cdg/data/cesmLE/CESM-CAM5-B...</td>\n",
       "      <td>b.e11.B1850C5CN.f09_g16.005.cam.h0.Q.080001-08...</td>\n",
       "      <td>/glade/collections/cdg/data/cesmLE/CESM-CAM5-B...</td>\n",
       "      <td>NaN</td>\n",
       "      <td>1448.0</td>\n",
       "      <td>0</td>\n",
       "      <td>True</td>\n",
       "      <td>NaN</td>\n",
       "    </tr>\n",
       "  </tbody>\n",
       "</table>\n",
       "</div>"
      ],
      "text/plain": [
       "                                               resource resource_type  \\\n",
       "1077  CTRL:GLADE:posix:/glade/collections/cdg/data/c...         posix   \n",
       "1073  CTRL:GLADE:posix:/glade/collections/cdg/data/c...         posix   \n",
       "1072  CTRL:GLADE:posix:/glade/collections/cdg/data/c...         posix   \n",
       "1068  CTRL:GLADE:posix:/glade/collections/cdg/data/c...         posix   \n",
       "1078  CTRL:GLADE:posix:/glade/collections/cdg/data/c...         posix   \n",
       "\n",
       "      direct_access experiment                         case component  stream  \\\n",
       "1077           True       CTRL  b.e11.B1850C5CN.f09_g16.005       atm  cam.h0   \n",
       "1073           True       CTRL  b.e11.B1850C5CN.f09_g16.005       atm  cam.h0   \n",
       "1072           True       CTRL  b.e11.B1850C5CN.f09_g16.005       atm  cam.h0   \n",
       "1068           True       CTRL  b.e11.B1850C5CN.f09_g16.005       atm  cam.h0   \n",
       "1078           True       CTRL  b.e11.B1850C5CN.f09_g16.005       atm  cam.h0   \n",
       "\n",
       "     variable     date_range  member_id  \\\n",
       "1077        Q  040001-049912          0   \n",
       "1073        Q  050001-059912          0   \n",
       "1072        Q  060001-069912          0   \n",
       "1068        Q  070001-079912          0   \n",
       "1078        Q  080001-089912          0   \n",
       "\n",
       "                                          file_fullpath  \\\n",
       "1077  /glade/collections/cdg/data/cesmLE/CESM-CAM5-B...   \n",
       "1073  /glade/collections/cdg/data/cesmLE/CESM-CAM5-B...   \n",
       "1072  /glade/collections/cdg/data/cesmLE/CESM-CAM5-B...   \n",
       "1068  /glade/collections/cdg/data/cesmLE/CESM-CAM5-B...   \n",
       "1078  /glade/collections/cdg/data/cesmLE/CESM-CAM5-B...   \n",
       "\n",
       "                                          file_basename  \\\n",
       "1077  b.e11.B1850C5CN.f09_g16.005.cam.h0.Q.040001-04...   \n",
       "1073  b.e11.B1850C5CN.f09_g16.005.cam.h0.Q.050001-05...   \n",
       "1072  b.e11.B1850C5CN.f09_g16.005.cam.h0.Q.060001-06...   \n",
       "1068  b.e11.B1850C5CN.f09_g16.005.cam.h0.Q.070001-07...   \n",
       "1078  b.e11.B1850C5CN.f09_g16.005.cam.h0.Q.080001-08...   \n",
       "\n",
       "                                           file_dirname  ctrl_branch_year  \\\n",
       "1077  /glade/collections/cdg/data/cesmLE/CESM-CAM5-B...               NaN   \n",
       "1073  /glade/collections/cdg/data/cesmLE/CESM-CAM5-B...               NaN   \n",
       "1072  /glade/collections/cdg/data/cesmLE/CESM-CAM5-B...               NaN   \n",
       "1068  /glade/collections/cdg/data/cesmLE/CESM-CAM5-B...               NaN   \n",
       "1078  /glade/collections/cdg/data/cesmLE/CESM-CAM5-B...               NaN   \n",
       "\n",
       "      year_offset  sequence_order  has_ocean_bgc grid  \n",
       "1077       1448.0               0           True  NaN  \n",
       "1073       1448.0               0           True  NaN  \n",
       "1072       1448.0               0           True  NaN  \n",
       "1068       1448.0               0           True  NaN  \n",
       "1078       1448.0               0           True  NaN  "
      ]
     },
     "execution_count": 12,
     "metadata": {},
     "output_type": "execute_result"
    }
   ],
   "source": [
    "cat1.query_results.head()"
   ]
  },
  {
   "cell_type": "code",
   "execution_count": 20,
   "metadata": {},
   "outputs": [
    {
     "data": {
      "text/plain": [
       "array(['040001-049912', '050001-059912', '060001-069912', '070001-079912',\n",
       "       '080001-089912', '090001-099912', '100001-109912', '110001-119912',\n",
       "       '120001-129912', '130001-139912', '140001-149912', '150001-159912',\n",
       "       '160001-169912', '170001-179912', '180001-189912', '190001-199912',\n",
       "       '200001-209912', '210001-220012', '185001-200512', '192001-200512',\n",
       "       '200601-208012', '208101-210012', '200601-210012'], dtype=object)"
      ]
     },
     "execution_count": 20,
     "metadata": {},
     "output_type": "execute_result"
    }
   ],
   "source": [
    "cat1.query_results.date_range.unique()"
   ]
  },
  {
   "cell_type": "code",
   "execution_count": 15,
   "metadata": {},
   "outputs": [
    {
     "name": "stdout",
     "output_type": "stream",
     "text": [
      "<class 'pandas.core.frame.DataFrame'>\n",
      "Int64Index: 655 entries, 1077 to 49287\n",
      "Data columns (total 18 columns):\n",
      "resource            655 non-null object\n",
      "resource_type       655 non-null object\n",
      "direct_access       655 non-null bool\n",
      "experiment          655 non-null object\n",
      "case                655 non-null object\n",
      "component           655 non-null object\n",
      "stream              655 non-null object\n",
      "variable            655 non-null object\n",
      "date_range          655 non-null object\n",
      "member_id           655 non-null int64\n",
      "file_fullpath       655 non-null object\n",
      "file_basename       655 non-null object\n",
      "file_dirname        655 non-null object\n",
      "ctrl_branch_year    565 non-null float64\n",
      "year_offset         90 non-null float64\n",
      "sequence_order      655 non-null int64\n",
      "has_ocean_bgc       655 non-null bool\n",
      "grid                0 non-null object\n",
      "dtypes: bool(2), float64(2), int64(2), object(12)\n",
      "memory usage: 88.3+ KB\n"
     ]
    }
   ],
   "source": [
    "cat1.query_results.info()"
   ]
  },
  {
   "cell_type": "markdown",
   "metadata": {},
   "source": [
    "**NOTE:**\n",
    "    \n",
    "- There are **655** files. The spreadsheet mentions existance of **1010** files. "
   ]
  },
  {
   "cell_type": "markdown",
   "metadata": {},
   "source": [
    "### Atmosphere, Monthly, Surface"
   ]
  },
  {
   "cell_type": "code",
   "execution_count": 16,
   "metadata": {},
   "outputs": [],
   "source": [
    "atmos_mon_surface = [\"FLNS\", \"FLNSC\", \"FLUT\", \"FSNS\", \"FSNSC\", \"FSNTOA\", \"ICEFRAC\", \n",
    "                     \"LHFLX\", \"PRECC\", \"PRECL\", \"PRECSC\", \"PRECSL\", \"PSL\", \"SHFLX\", \n",
    "                     \"TMQ\", \"TREFHT\", \"TREFHTMN\", \"TREFHTMX\", \"TS\"]"
   ]
  },
  {
   "cell_type": "code",
   "execution_count": 18,
   "metadata": {},
   "outputs": [
    {
     "data": {
      "text/plain": [
       "(array(['FLNS', 'FLNSC', 'FLUT', 'FSNS', 'FSNSC', 'FSNTOA', 'ICEFRAC',\n",
       "        'LHFLX', 'PRECL', 'PRECSC', 'PRECSL', 'PSL', 'SHFLX', 'TMQ',\n",
       "        'TREFHT', 'TREFHTMN', 'TREFHTMX', 'TS', 'PRECC'], dtype=object), 19)"
      ]
     },
     "execution_count": 18,
     "metadata": {},
     "output_type": "execute_result"
    }
   ],
   "source": [
    "cat2 = col.search(variable=atmos_mon_surface, component=\"atm\")\n",
    "cat2.query_results.variable.unique(), cat2.query_results.variable.nunique()"
   ]
  },
  {
   "cell_type": "code",
   "execution_count": 19,
   "metadata": {},
   "outputs": [
    {
     "name": "stdout",
     "output_type": "stream",
     "text": [
      "<class 'pandas.core.frame.DataFrame'>\n",
      "Int64Index: 4848 entries, 224 to 49409\n",
      "Data columns (total 18 columns):\n",
      "resource            4848 non-null object\n",
      "resource_type       4848 non-null object\n",
      "direct_access       4848 non-null bool\n",
      "experiment          4848 non-null object\n",
      "case                4848 non-null object\n",
      "component           4848 non-null object\n",
      "stream              4848 non-null object\n",
      "variable            4848 non-null object\n",
      "date_range          4848 non-null object\n",
      "member_id           4848 non-null int64\n",
      "file_fullpath       4848 non-null object\n",
      "file_basename       4848 non-null object\n",
      "file_dirname        4848 non-null object\n",
      "ctrl_branch_year    4182 non-null float64\n",
      "year_offset         666 non-null float64\n",
      "sequence_order      4848 non-null int64\n",
      "has_ocean_bgc       4848 non-null bool\n",
      "grid                0 non-null object\n",
      "dtypes: bool(2), float64(2), int64(2), object(12)\n",
      "memory usage: 653.3+ KB\n"
     ]
    }
   ],
   "source": [
    "cat2.query_results.info()"
   ]
  },
  {
   "cell_type": "code",
   "execution_count": 21,
   "metadata": {},
   "outputs": [
    {
     "data": {
      "text/plain": [
       "array(['04020101-04991231', '05000101-05991231', '06000101-06991231',\n",
       "       '07000101-07991231', '08000101-08991231', '09000101-09991231',\n",
       "       '10000101-10991231', '11000101-11991231', '12000101-12991231',\n",
       "       '13000101-13991231', '14000101-14991231', '15000101-15991231',\n",
       "       '16000101-16991231', '17000101-17991231', '18000101-18991231',\n",
       "       '19000101-19991231', '20000101-20991231', '21000101-22001231',\n",
       "       '18500101-20051231', '19200101-20051231', '040001-049912',\n",
       "       '050001-059912', '060001-069912', '070001-079912', '080001-089912',\n",
       "       '090001-099912', '100001-109912', '110001-119912', '120001-129912',\n",
       "       '130001-139912', '140001-149912', '150001-159912', '160001-169912',\n",
       "       '170001-179912', '180001-189912', '190001-199912', '200001-209912',\n",
       "       '210001-220012', '185001-200512', '192001-200512',\n",
       "       '20060101-20801231', '20810101-21001231', '20060101-21001231',\n",
       "       '200601-208012', '208101-210012', '200601-210012'], dtype=object)"
      ]
     },
     "execution_count": 21,
     "metadata": {},
     "output_type": "execute_result"
    }
   ],
   "source": [
    "cat2.query_results.date_range.unique()"
   ]
  },
  {
   "cell_type": "code",
   "execution_count": null,
   "metadata": {},
   "outputs": [],
   "source": []
  }
 ],
 "metadata": {
  "kernelspec": {
   "display_name": "Python 3",
   "language": "python",
   "name": "python3"
  },
  "language_info": {
   "codemirror_mode": {
    "name": "ipython",
    "version": 3
   },
   "file_extension": ".py",
   "mimetype": "text/x-python",
   "name": "python",
   "nbconvert_exporter": "python",
   "pygments_lexer": "ipython3",
   "version": "3.7.3"
  }
 },
 "nbformat": 4,
 "nbformat_minor": 2
}
