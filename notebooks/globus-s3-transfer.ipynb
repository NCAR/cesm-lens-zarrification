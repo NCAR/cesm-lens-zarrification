{
 "cells": [
  {
   "cell_type": "code",
   "execution_count": 1,
   "metadata": {},
   "outputs": [
    {
     "name": "stdout",
     "output_type": "stream",
     "text": [
      "For information on which identities are in session see\n",
      "  globus session show\n",
      "\n",
      "abanihi@globusid.org\n"
     ]
    }
   ],
   "source": [
    "globus whoami"
   ]
  },
  {
   "cell_type": "code",
   "execution_count": 2,
   "metadata": {},
   "outputs": [
    {
     "name": "stdout",
     "output_type": "stream",
     "text": [
      "ID                                   | Owner             | Display Name   \n",
      "------------------------------------ | ----------------- | ---------------\n",
      "3a1f3e98-1a93-11e9-9f9f-0a06afd4a22e | ncar@globusid.org | NCAR S3 Testing\n"
     ]
    }
   ],
   "source": [
    "globus endpoint search \"NCAR S3 Testing\""
   ]
  },
  {
   "cell_type": "code",
   "execution_count": 3,
   "metadata": {},
   "outputs": [],
   "source": [
    "EPS3=$(globus endpoint search \"NCAR S3 Testing\" \\\n",
    "       --filter-owner-id ncar@globusid.org \\\n",
    "       --jq \"DATA[0].id\" --format UNIX)"
   ]
  },
  {
   "cell_type": "code",
   "execution_count": 4,
   "metadata": {},
   "outputs": [
    {
     "name": "stdout",
     "output_type": "stream",
     "text": [
      "3a1f3e98-1a93-11e9-9f9f-0a06afd4a22e\n"
     ]
    }
   ],
   "source": [
    "echo $EPS3"
   ]
  },
  {
   "cell_type": "code",
   "execution_count": 5,
   "metadata": {},
   "outputs": [
    {
     "name": "stdout",
     "output_type": "stream",
     "text": [
      "Display Name:              NCAR S3 Testing\n",
      "ID:                        3a1f3e98-1a93-11e9-9f9f-0a06afd4a22e\n",
      "Owner:                     ncar@globusid.org\n",
      "Activated:                 True\n",
      "Shareable:                 True\n",
      "Department:                \n",
      "Keywords:                  \n",
      "Endpoint Info Link:        None\n",
      "Contact E-mail:            None\n",
      "Organization:              \n",
      "Department:                \n",
      "Other Contact Info:        \n",
      "Visibility:                True\n",
      "Default Directory:         /~/\n",
      "Force Encryption:          False\n",
      "Managed Endpoint:          True\n",
      "Subscription ID:           8fd6296d-74cc-11e4-a56d-12313922b1c7\n",
      "Legacy Name:               ncar#3a1f3e98-1a93-11e9-9f9f-0a06afd4a22e\n",
      "Local User Info Available: True\n"
     ]
    }
   ],
   "source": [
    "globus endpoint show $EPS3"
   ]
  },
  {
   "cell_type": "markdown",
   "metadata": {},
   "source": [
    "```bash\n",
    "bash-4.2$ echo $EPS3\n",
    "\n",
    "bash-4.2$ EPS3=$(globus endpoint search \"NCAR S3 Testing\" \\\n",
    ">        --filter-owner-id ncar@globusid.org \\\n",
    ">        --jq \"DATA[0].id\" --format UNIX)\n",
    "bash-4.2$ echo $EPS3\n",
    "3a1f3e98-1a93-11e9-9f9f-0a06afd4a22e\n",
    "bash-4.2$ globus endpoint show $EPS3\n",
    "Display Name:              NCAR S3 Testing\n",
    "ID:                        3a1f3e98-1a93-11e9-9f9f-0a06afd4a22e\n",
    "Owner:                     ncar@globusid.org\n",
    "Activated:                 True\n",
    "Shareable:                 True\n",
    "Department:\n",
    "Keywords:\n",
    "Endpoint Info Link:        None\n",
    "Contact E-mail:            None\n",
    "Organization:\n",
    "Department:\n",
    "Other Contact Info:\n",
    "Visibility:                True\n",
    "Default Directory:         /~/\n",
    "Force Encryption:          False\n",
    "Managed Endpoint:          True\n",
    "Subscription ID:           8fd6296d-74cc-11e4-a56d-12313922b1c7\n",
    "Legacy Name:               ncar#3a1f3e98-1a93-11e9-9f9f-0a06afd4a22e\n",
    "Local User Info Available: True\n",
    "bash-4.2$ globus endpoint activate --myproxy $EPS3\n",
    "Endpoint is already activated. Activation expires at 2019-02-05 16:48:57+00:00\n",
    "```"
   ]
  },
  {
   "cell_type": "code",
   "execution_count": 6,
   "metadata": {},
   "outputs": [
    {
     "name": "stdout",
     "output_type": "stream",
     "text": [
      "3a1f3e98-1a93-11e9-9f9f-0a06afd4a22e is activated\n"
     ]
    }
   ],
   "source": [
    "# Return whether endpoint is activated\n",
    "globus endpoint is-activated $EPS3"
   ]
  },
  {
   "cell_type": "code",
   "execution_count": 7,
   "metadata": {},
   "outputs": [
    {
     "name": "stdout",
     "output_type": "stream",
     "text": [
      "pangeo-cluster/\n",
      "zarr-test-bucket/\n"
     ]
    }
   ],
   "source": [
    "globus ls $EPS3"
   ]
  },
  {
   "cell_type": "code",
   "execution_count": 8,
   "metadata": {},
   "outputs": [
    {
     "name": "stdout",
     "output_type": "stream",
     "text": [
      "Permissions | User | Group | Size | Last Modified             | File Type | Filename\n",
      "----------- | ---- | ----- | ---- | ------------------------- | --------- | --------\n",
      "0700        | root | root  |    0 | 1969-12-31 23:59:59+00:00 | dir       | test-1/ \n"
     ]
    }
   ],
   "source": [
    "TEST_BUCKET=zarr-test-bucket\n",
    "globus ls -l $EPS3:${TEST_BUCKET}"
   ]
  },
  {
   "cell_type": "code",
   "execution_count": 18,
   "metadata": {},
   "outputs": [
    {
     "name": "stdout",
     "output_type": "stream",
     "text": [
      "total 4.0K\n",
      "drwxr-xr-x 8 abanihi ncar 4.0K Feb  5 12:20 \u001b[0m\u001b[38;5;27mB20TRC5CNBDRD\u001b[0m\n",
      "drwxr-xr-x 9 abanihi ncar 4.0K Feb  4 13:59 \u001b[38;5;27mb.e11.B20TRC5CNBDRD.f09_g16\u001b[0m\n",
      "drwxr-xr-x 9 abanihi ncar 4.0K Feb  4 13:56 \u001b[38;5;27mb.e11.BRCP85C5CNBDRD.f09_g16\u001b[0m\n",
      "drwxr-xr-x 8 abanihi ncar 4.0K Feb  5 12:18 \u001b[38;5;27mBRCP85C5CNBDRD\u001b[0m\n"
     ]
    }
   ],
   "source": [
    "ls -lh /glade/scratch/abanihi/data/AWS/lens/"
   ]
  },
  {
   "cell_type": "code",
   "execution_count": 15,
   "metadata": {},
   "outputs": [],
   "source": [
    "SCR_DIR=/glade/scratch/abanihi/data/AWS/lens/B20TRC5CNBDRD/"
   ]
  },
  {
   "cell_type": "code",
   "execution_count": 19,
   "metadata": {},
   "outputs": [
    {
     "name": "stdout",
     "output_type": "stream",
     "text": [
      "The directory was created successfully\n",
      "The directory was created successfully\n"
     ]
    }
   ],
   "source": [
    "globus mkdir $EPS3:zarr-test-bucket/B20TRC5CNBDRD\n",
    "globus mkdir $EPS3:zarr-test-bucket/BRCP85C5CNBDRD"
   ]
  },
  {
   "cell_type": "code",
   "execution_count": 12,
   "metadata": {},
   "outputs": [
    {
     "name": "stdout",
     "output_type": "stream",
     "text": [
      "Permissions | User | Group | Size | Last Modified             | File Type | Filename      \n",
      "----------- | ---- | ----- | ---- | ------------------------- | --------- | --------------\n",
      "0700        | root | root  |    0 | 1969-12-31 23:59:59+00:00 | dir       | B20TRC5CNBDRD/\n",
      "0700        | root | root  |    0 | 1969-12-31 23:59:59+00:00 | dir       | test-1/       \n"
     ]
    }
   ],
   "source": [
    "globus ls -l $EPS3:${TEST_BUCKET}"
   ]
  },
  {
   "cell_type": "code",
   "execution_count": 13,
   "metadata": {},
   "outputs": [
    {
     "name": "stdout",
     "output_type": "stream",
     "text": [
      "Usage: globus transfer [OPTIONS] SOURCE_ENDPOINT_ID[:SOURCE_PATH]\n",
      "                       DEST_ENDPOINT_ID[:DEST_PATH]\n",
      "\n",
      "  Copy a file or directory from one endpoint to another as an asynchronous\n",
      "  task.\n",
      "\n",
      "  Batched Input\n",
      "  ===\n",
      "\n",
      "  If you use `SOURCE_PATH` and `DEST_PATH` without the `--batch` flag, you\n",
      "  will submit a single-file or single-directory transfer task. This has\n",
      "  behavior similar to `cp` and `cp -r`, across endpoints of course.\n",
      "\n",
      "  Using `--batch`, `globus transfer` can submit a task which transfers\n",
      "  multiple files or directories. Paths to transfer are taken from stdin.\n",
      "  Lines are split on spaces, respecting quotes, and every line is treated as\n",
      "  a file or directory to transfer.\n",
      "\n",
      "  Lines are of the form\n",
      "  [--recursive] SOURCE_PATH DEST_PATH\n",
      "\n",
      "  Skips empty lines and allows comments beginning with \"#\".\n",
      "\n",
      "  If you use `--batch` and a commandline SOURCE_PATH and/or DEST_PATH, these\n",
      "  paths will be used as dir prefixes to any paths on stdin.\n",
      "\n",
      "  Sync Levels\n",
      "  ===\n",
      "\n",
      "  Sync Levels are ways to decide whether or not files are copied, with the\n",
      "  following definitions:\n",
      "\n",
      "  EXISTS: Determine whether or not to transfer based on file existence. If\n",
      "  the destination file is absent, do the transfer.\n",
      "\n",
      "  SIZE: Determine whether or not to transfer based on the size of the file.\n",
      "  If destination file size does not match the source, do the transfer.\n",
      "\n",
      "  MTIME: Determine whether or not to transfer based on modification times.\n",
      "  If source has a newer modififed time than the destination, do the\n",
      "  transfer.\n",
      "\n",
      "  CHECKSUM: Determine whether or not to transfer based on checksums of file\n",
      "  contents. If source and destination contents differ, as determined by a\n",
      "  checksum of their contents, do the transfer.\n",
      "\n",
      "  If a transfer fails, CHECKSUM must be used to restart the transfer. All\n",
      "  other levels can lead to data corruption.\n",
      "\n",
      "Options:\n",
      "  --map-http-status TEXT          Map HTTP statuses to any of these exit\n",
      "                                  codes: 0,1,50-99. e.g. \"404=50,403=51\"\n",
      "  --jmespath, --jq TEXT           A JMESPath expression to apply to json\n",
      "                                  output. Takes precedence over any specified\n",
      "                                  '--format' and forces the format to be json\n",
      "                                  processed by this expression\n",
      "  -F, --format [unix|json|text]   Output format for stdout. Defaults to text\n",
      "  -h, --help                      Show this message and exit.\n",
      "  -v, --verbose                   Control level of output\n",
      "  --skip-activation-check         Submit the task even if the endpoint(s)\n",
      "                                  aren't currently activated.\n",
      "  --deadline ISO_TIME             Set a deadline for this to be canceled if\n",
      "                                  not completed by.\n",
      "  --label TEXT                    Set a label for this task.\n",
      "  --submission-id TEXT            Task submission ID, as generated by `globus\n",
      "                                  task generate-submission-id`. Used for safe\n",
      "                                  resubmission in the presence of network\n",
      "                                  failures.\n",
      "  --notify TEXT                   Comma separated list of task events which\n",
      "                                  notify by email. 'on' and 'off' may be used\n",
      "                                  to enable or disable notifications for all\n",
      "                                  event types. Otherwise, use 'succeeded',\n",
      "                                  'failed', or 'inactive'\n",
      "  --dry-run                       Don't actually submit the task, print\n",
      "                                  submission data instead\n",
      "  -r, --recursive                 SOURCE_PATH and DEST_PATH are both\n",
      "                                  directories, do a recursive dir transfer\n",
      "  -s, --sync-level [exists|size|mtime|checksum]\n",
      "                                  How will the Transfer task determine whether\n",
      "                                  or not to actually transfer a file over the\n",
      "                                  network?\n",
      "  --preserve-mtime                Preserve file and directory modification\n",
      "                                  times.\n",
      "  --verify-checksum / --no-verify-checksum\n",
      "                                  Verify checksum after transfer.  [default:\n",
      "                                  True]\n",
      "  --encrypt                       Encrypt data sent through the network.\n",
      "  --delete                        Delete extraneous files in the destination\n",
      "                                  directory. Only applies to recursive\n",
      "                                  directory transfers.\n",
      "  --batch                         Accept a batch of source/dest path pairs on\n",
      "                                  stdin (i.e. run in batchmode). Uses\n",
      "                                  SOURCE_ENDPOINT_ID and DEST_ENDPOINT_ID as\n",
      "                                  passed on the commandline. Commandline paths\n",
      "                                  are still allowed and are used as prefixes\n",
      "                                  to the batchmode inputs.\n"
     ]
    }
   ],
   "source": [
    "globus transfer --help"
   ]
  },
  {
   "cell_type": "code",
   "execution_count": 17,
   "metadata": {},
   "outputs": [
    {
     "name": "stdout",
     "output_type": "stream",
     "text": [
      "Usage: globus transfer [OPTIONS] SOURCE_ENDPOINT_ID[:SOURCE_PATH]\n",
      "                       DEST_ENDPOINT_ID[:DEST_PATH]\n",
      "\n",
      "Error: Invalid value for \"source\": /glade/scratch/abanihi/data/AWS/lens/B20TRC5CNBDRD/ is not a valid UUID value\n"
     ]
    },
    {
     "ename": "",
     "evalue": "2",
     "execution_count": 17,
     "output_type": "error",
     "traceback": []
    }
   ],
   "source": [
    "globus transfer --recursive $SCR_DIR $EPS3:zarr-test-bucket/B20TRC5CNBDRD"
   ]
  },
  {
   "cell_type": "markdown",
   "metadata": {},
   "source": [
    "# Preleminary results with Globus Web Interface"
   ]
  },
  {
   "cell_type": "markdown",
   "metadata": {},
   "source": [
    "\n",
    "<div class=\"row\"> \n",
    "  <div class=\"column\">\n",
    "    <img src=\"https://i.imgur.com/PJX9VpY.png\">\n",
    "    <img src=\"https://i.imgur.com/W30OTuH.png\">\n",
    "    <img src=\"https://i.imgur.com/rvpe2rb.png\">\n",
    "    <img src=\"https://i.imgur.com/Ii4tvHl.png\">\n",
    "  </div>"
   ]
  }
 ],
 "metadata": {
  "kernelspec": {
   "display_name": "Bash",
   "language": "bash",
   "name": "bash"
  },
  "language_info": {
   "codemirror_mode": "shell",
   "file_extension": ".sh",
   "mimetype": "text/x-sh",
   "name": "bash"
  }
 },
 "nbformat": 4,
 "nbformat_minor": 2
}
