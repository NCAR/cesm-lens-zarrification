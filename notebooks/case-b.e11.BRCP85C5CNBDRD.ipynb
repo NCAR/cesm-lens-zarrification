{
 "cells": [
  {
   "cell_type": "code",
   "execution_count": 1,
   "metadata": {},
   "outputs": [
    {
     "name": "stderr",
     "output_type": "stream",
     "text": [
      "/glade/work/abanihi/softwares/miniconda3/envs/pangeo/lib/python3.6/importlib/_bootstrap.py:219: RuntimeWarning: numpy.dtype size changed, may indicate binary incompatibility. Expected 96, got 88\n",
      "  return f(*args, **kwds)\n"
     ]
    }
   ],
   "source": [
    "import os\n",
    "import dask\n",
    "import xarray as xr\n",
    "from tqdm import tqdm_notebook as tqdm\n",
    "\n",
    "import xarray as xr\n",
    "import numpy as np\n",
    "from dask_jobqueue import PBSCluster\n",
    "USER = os.environ['USER']\n",
    "PROJECT = os.environ['PBS_ACCOUNT']"
   ]
  },
  {
   "cell_type": "code",
   "execution_count": 2,
   "metadata": {},
   "outputs": [],
   "source": [
    "cluster = PBSCluster(queue='economy', cores=36, processes=1, \n",
    "                     memory='80GB', project=PROJECT, walltime='03:00:00',\n",
    "                    local_directory=f'/glade/scratch/{USER}/dask-tmp')"
   ]
  },
  {
   "cell_type": "code",
   "execution_count": 3,
   "metadata": {},
   "outputs": [
    {
     "data": {
      "text/plain": [
       "<distributed.deploy.adaptive.Adaptive at 0x2aaade9d1be0>"
      ]
     },
     "execution_count": 3,
     "metadata": {},
     "output_type": "execute_result"
    }
   ],
   "source": [
    "cluster.adapt(minimum=1, maximum=2)"
   ]
  },
  {
   "cell_type": "code",
   "execution_count": 4,
   "metadata": {},
   "outputs": [
    {
     "name": "stdout",
     "output_type": "stream",
     "text": [
      "\n",
      "chadmin1: \n",
      "                                                            Req'd  Req'd   Elap\n",
      "Job ID          Username Queue    Jobname    SessID NDS TSK Memory Time  S Time\n",
      "--------------- -------- -------- ---------- ------ --- --- ------ ----- - -----\n",
      "3157478.chadmin abanihi  economy  STDIN       46216   1   1    --  04:00 R 00:16\n",
      "3157628.chadmin abanihi  economy  dask-worke    --    1   1    --  03:00 Q   -- \n"
     ]
    }
   ],
   "source": [
    "!qstat -u $USER"
   ]
  },
  {
   "cell_type": "code",
   "execution_count": 5,
   "metadata": {},
   "outputs": [],
   "source": [
    "from dask.distributed import Client"
   ]
  },
  {
   "cell_type": "code",
   "execution_count": 6,
   "metadata": {},
   "outputs": [],
   "source": [
    "client = Client(cluster)"
   ]
  },
  {
   "cell_type": "code",
   "execution_count": 7,
   "metadata": {},
   "outputs": [
    {
     "data": {
      "text/plain": [
       "<dask.config.set at 0x2aaadf2a5940>"
      ]
     },
     "execution_count": 7,
     "metadata": {},
     "output_type": "execute_result"
    }
   ],
   "source": [
    "dask.config.set({'distributed.dashboard.link':'http://localhost:{port}/status'})"
   ]
  },
  {
   "cell_type": "code",
   "execution_count": 8,
   "metadata": {},
   "outputs": [
    {
     "data": {
      "text/html": [
       "<table style=\"border: 2px solid white;\">\n",
       "<tr>\n",
       "<td style=\"vertical-align: top; border: 0px solid white\">\n",
       "<h3>Client</h3>\n",
       "<ul>\n",
       "  <li><b>Scheduler: </b>tcp://10.148.5.112:42012\n",
       "  <li><b>Dashboard: </b><a href='http://localhost:8787/status' target='_blank'>http://localhost:8787/status</a>\n",
       "</ul>\n",
       "</td>\n",
       "<td style=\"vertical-align: top; border: 0px solid white\">\n",
       "<h3>Cluster</h3>\n",
       "<ul>\n",
       "  <li><b>Workers: </b>1</li>\n",
       "  <li><b>Cores: </b>36</li>\n",
       "  <li><b>Memory: </b>80.00 GB</li>\n",
       "</ul>\n",
       "</td>\n",
       "</tr>\n",
       "</table>"
      ],
      "text/plain": [
       "<Client: scheduler='tcp://10.148.5.112:42012' processes=1 cores=36>"
      ]
     },
     "execution_count": 8,
     "metadata": {},
     "output_type": "execute_result"
    }
   ],
   "source": [
    "client"
   ]
  },
  {
   "cell_type": "code",
   "execution_count": 10,
   "metadata": {},
   "outputs": [],
   "source": [
    "from pathlib import Path\n",
    "from glob import glob"
   ]
  },
  {
   "cell_type": "code",
   "execution_count": 26,
   "metadata": {},
   "outputs": [],
   "source": [
    "root_dir = Path(\"/glade/p_old/cesmLE/CESM-CAM5-BGC-LE/atm/proc/tseries/monthly/TS\")"
   ]
  },
  {
   "cell_type": "code",
   "execution_count": 27,
   "metadata": {},
   "outputs": [
    {
     "name": "stdout",
     "output_type": "stream",
     "text": [
      "\u001b[0m\u001b[00mb.e11.B1850C5CN.f09_g16.005.cam.h0.TS.040001-049912.nc\u001b[0m\n",
      "\u001b[00mb.e11.B1850C5CN.f09_g16.005.cam.h0.TS.050001-059912.nc\u001b[0m\n",
      "\u001b[00mb.e11.B1850C5CN.f09_g16.005.cam.h0.TS.060001-069912.nc\u001b[0m\n",
      "\u001b[00mb.e11.B1850C5CN.f09_g16.005.cam.h0.TS.070001-079912.nc\u001b[0m\n",
      "\u001b[00mb.e11.B1850C5CN.f09_g16.005.cam.h0.TS.080001-089912.nc\u001b[0m\n",
      "\u001b[00mb.e11.B1850C5CN.f09_g16.005.cam.h0.TS.090001-099912.nc\u001b[0m\n",
      "\u001b[00mb.e11.B1850C5CN.f09_g16.005.cam.h0.TS.100001-109912.nc\u001b[0m\n",
      "\u001b[00mb.e11.B1850C5CN.f09_g16.005.cam.h0.TS.110001-119912.nc\u001b[0m\n",
      "\u001b[00mb.e11.B1850C5CN.f09_g16.005.cam.h0.TS.120001-129912.nc\u001b[0m\n",
      "\u001b[00mb.e11.B1850C5CN.f09_g16.005.cam.h0.TS.130001-139912.nc\u001b[0m\n",
      "\u001b[00mb.e11.B1850C5CN.f09_g16.005.cam.h0.TS.140001-149912.nc\u001b[0m\n",
      "\u001b[00mb.e11.B1850C5CN.f09_g16.005.cam.h0.TS.150001-159912.nc\u001b[0m\n",
      "\u001b[00mb.e11.B1850C5CN.f09_g16.005.cam.h0.TS.160001-169912.nc\u001b[0m\n",
      "\u001b[00mb.e11.B1850C5CN.f09_g16.005.cam.h0.TS.170001-179912.nc\u001b[0m\n",
      "\u001b[00mb.e11.B1850C5CN.f09_g16.005.cam.h0.TS.180001-189912.nc\u001b[0m\n",
      "\u001b[00mb.e11.B1850C5CN.f09_g16.005.cam.h0.TS.190001-199912.nc\u001b[0m\n",
      "\u001b[00mb.e11.B1850C5CN.f09_g16.005.cam.h0.TS.200001-209912.nc\u001b[0m\n",
      "\u001b[00mb.e11.B1850C5CN.f09_g16.005.cam.h0.TS.210001-220012.nc\u001b[0m\n",
      "\u001b[00mb.e11.B1850LENS_RAMP.2xcap.f09_g16.001.cam.h0.TS.000101-009912.nc\u001b[0m\n",
      "\u001b[00mb.e11.B1850LENS_RAMP.2xcap.f09_g16.001.cam.h0.TS.010001-019912.nc\u001b[0m\n",
      "\u001b[00mb.e11.B1850LENS_RAMP.2xcap.f09_g16.001.cam.h0.TS.020001-030512.nc\u001b[0m\n",
      "\u001b[00mb.e11.B20TRC5CNBDRD.f09_g16.001.cam.h0.TS.185001-200512.nc\u001b[0m\n",
      "\u001b[00mb.e11.B20TRC5CNBDRD.f09_g16.002.cam.h0.TS.192001-200512.nc\u001b[0m\n",
      "\u001b[00mb.e11.B20TRC5CNBDRD.f09_g16.003.cam.h0.TS.192001-200512.nc\u001b[0m\n",
      "\u001b[00mb.e11.B20TRC5CNBDRD.f09_g16.004.cam.h0.TS.192001-200512.nc\u001b[0m\n",
      "\u001b[00mb.e11.B20TRC5CNBDRD.f09_g16.005.cam.h0.TS.192001-200512.nc\u001b[0m\n",
      "\u001b[00mb.e11.B20TRC5CNBDRD.f09_g16.006.cam.h0.TS.192001-200512.nc\u001b[0m\n",
      "\u001b[00mb.e11.B20TRC5CNBDRD.f09_g16.007.cam.h0.TS.192001-200512.nc\u001b[0m\n",
      "\u001b[00mb.e11.B20TRC5CNBDRD.f09_g16.008.cam.h0.TS.192001-200512.nc\u001b[0m\n",
      "\u001b[00mb.e11.B20TRC5CNBDRD.f09_g16.009.cam.h0.TS.192001-200512.nc\u001b[0m\n",
      "\u001b[00mb.e11.B20TRC5CNBDRD.f09_g16.010.cam.h0.TS.192001-200512.nc\u001b[0m\n",
      "\u001b[00mb.e11.B20TRC5CNBDRD.f09_g16.011.cam.h0.TS.192001-200512.nc\u001b[0m\n",
      "\u001b[00mb.e11.B20TRC5CNBDRD.f09_g16.012.cam.h0.TS.192001-200512.nc\u001b[0m\n",
      "\u001b[00mb.e11.B20TRC5CNBDRD.f09_g16.013.cam.h0.TS.192001-200512.nc\u001b[0m\n",
      "\u001b[00mb.e11.B20TRC5CNBDRD.f09_g16.014.cam.h0.TS.192001-200512.nc\u001b[0m\n",
      "\u001b[00mb.e11.B20TRC5CNBDRD.f09_g16.015.cam.h0.TS.192001-200512.nc\u001b[0m\n",
      "\u001b[00mb.e11.B20TRC5CNBDRD.f09_g16.016.cam.h0.TS.192001-200512.nc\u001b[0m\n",
      "\u001b[00mb.e11.B20TRC5CNBDRD.f09_g16.017.cam.h0.TS.192001-200512.nc\u001b[0m\n",
      "\u001b[00mb.e11.B20TRC5CNBDRD.f09_g16.018.cam.h0.TS.192001-200512.nc\u001b[0m\n",
      "\u001b[00mb.e11.B20TRC5CNBDRD.f09_g16.019.cam.h0.TS.192001-200512.nc\u001b[0m\n",
      "\u001b[00mb.e11.B20TRC5CNBDRD.f09_g16.020.cam.h0.TS.192001-200512.nc\u001b[0m\n",
      "\u001b[00mb.e11.B20TRC5CNBDRD.f09_g16.021.cam.h0.TS.192001-200512.nc\u001b[0m\n",
      "\u001b[00mb.e11.B20TRC5CNBDRD.f09_g16.022.cam.h0.TS.192001-200512.nc\u001b[0m\n",
      "\u001b[00mb.e11.B20TRC5CNBDRD.f09_g16.023.cam.h0.TS.192001-200512.nc\u001b[0m\n",
      "\u001b[00mb.e11.B20TRC5CNBDRD.f09_g16.024.cam.h0.TS.192001-200512.nc\u001b[0m\n",
      "\u001b[00mb.e11.B20TRC5CNBDRD.f09_g16.025.cam.h0.TS.192001-200512.nc\u001b[0m\n",
      "\u001b[00mb.e11.B20TRC5CNBDRD.f09_g16.026.cam.h0.TS.192001-200512.nc\u001b[0m\n",
      "\u001b[00mb.e11.B20TRC5CNBDRD.f09_g16.027.cam.h0.TS.192001-200512.nc\u001b[0m\n",
      "\u001b[00mb.e11.B20TRC5CNBDRD.f09_g16.028.cam.h0.TS.192001-200512.nc\u001b[0m\n",
      "\u001b[00mb.e11.B20TRC5CNBDRD.f09_g16.029.cam.h0.TS.192001-200512.nc\u001b[0m\n",
      "\u001b[00mb.e11.B20TRC5CNBDRD.f09_g16.030.cam.h0.TS.192001-200512.nc\u001b[0m\n",
      "\u001b[00mb.e11.B20TRC5CNBDRD.f09_g16.031.cam.h0.TS.192001-200512.nc\u001b[0m\n",
      "\u001b[00mb.e11.B20TRC5CNBDRD.f09_g16.032.cam.h0.TS.192001-200512.nc\u001b[0m\n",
      "\u001b[00mb.e11.B20TRC5CNBDRD.f09_g16.033.cam.h0.TS.192001-200512.nc\u001b[0m\n",
      "\u001b[00mb.e11.B20TRC5CNBDRD.f09_g16.034.cam.h0.TS.192001-200512.nc\u001b[0m\n",
      "\u001b[00mb.e11.B20TRC5CNBDRD.f09_g16.035.cam.h0.TS.192001-200512.nc\u001b[0m\n",
      "\u001b[00mb.e11.B20TRC5CNBDRD.f09_g16.101.cam.h0.TS.192001-200512.nc\u001b[0m\n",
      "\u001b[00mb.e11.B20TRC5CNBDRD.f09_g16.102.cam.h0.TS.192001-200512.nc\u001b[0m\n",
      "\u001b[00mb.e11.B20TRC5CNBDRD.f09_g16.103.cam.h0.TS.192001-200512.nc\u001b[0m\n",
      "\u001b[00mb.e11.B20TRC5CNBDRD.f09_g16.104.cam.h0.TS.192001-200512.nc\u001b[0m\n",
      "\u001b[00mb.e11.B20TRC5CNBDRD.f09_g16.105.cam.h0.TS.192001-200512.nc\u001b[0m\n",
      "\u001b[00mb.e11.B20TRC5CNBDRD.f09_g16.106.cam.h0.TS.192001-200512.nc\u001b[0m\n",
      "\u001b[00mb.e11.B20TRC5CNBDRD.f09_g16.107.cam.h0.TS.192001-200512.nc\u001b[0m\n",
      "\u001b[00mb.e11.B20TRC5CNBDRD.f09_g16.OIC.001d.cam.h0.TS.185001-199912.nc\u001b[0m\n",
      "\u001b[00mb.e11.B20TRC5CNBDRD.f09_g16.OIC.002.cam.h0.TS.192001-199912.nc\u001b[0m\n",
      "\u001b[00mb.e11.B20TRC5CNBDRD.f09_g16.OIC.003.cam.h0.TS.192001-199912.nc\u001b[0m\n",
      "\u001b[00mb.e11.B20TRC5CNBDRD.f09_g16.OIC.004.cam.h0.TS.192001-199912.nc\u001b[0m\n",
      "\u001b[00mb.e11.B20TRC5CNBDRD.f09_g16.OIC.005.cam.h0.TS.192001-199912.nc\u001b[0m\n",
      "\u001b[00mb.e11.B20TRC5CNBDRD.f09_g16.OIC.006.cam.h0.TS.192001-199912.nc\u001b[0m\n",
      "\u001b[00mb.e11.B20TRC5CNBDRD.f09_g16.OIC.007.cam.h0.TS.192001-199912.nc\u001b[0m\n",
      "\u001b[00mb.e11.B20TRC5CNBDRD.f09_g16.OIC.008.cam.h0.TS.192001-199912.nc\u001b[0m\n",
      "\u001b[00mb.e11.B20TRC5CNBDRD.f09_g16.OIC.009.cam.h0.TS.192001-199912.nc\u001b[0m\n",
      "\u001b[00mb.e11.B20TRC5CNBDRD.f09_g16.OIC.010.cam.h0.TS.192001-199912.nc\u001b[0m\n",
      "\u001b[00mb.e11.BRCP85C5CNBDRD.f09_g16.001.cam.h0.TS.200601-208012.nc\u001b[0m\n",
      "\u001b[00mb.e11.BRCP85C5CNBDRD.f09_g16.001.cam.h0.TS.208101-210012.nc\u001b[0m\n",
      "\u001b[00mb.e11.BRCP85C5CNBDRD.f09_g16.002.cam.h0.TS.200601-208012.nc\u001b[0m\n",
      "\u001b[00mb.e11.BRCP85C5CNBDRD.f09_g16.002.cam.h0.TS.208101-210012.nc\u001b[0m\n",
      "\u001b[00mb.e11.BRCP85C5CNBDRD.f09_g16.003.cam.h0.TS.200601-208012.nc\u001b[0m\n",
      "\u001b[00mb.e11.BRCP85C5CNBDRD.f09_g16.003.cam.h0.TS.208101-210012.nc\u001b[0m\n",
      "\u001b[00mb.e11.BRCP85C5CNBDRD.f09_g16.004.cam.h0.TS.200601-208012.nc\u001b[0m\n",
      "\u001b[00mb.e11.BRCP85C5CNBDRD.f09_g16.004.cam.h0.TS.208101-210012.nc\u001b[0m\n",
      "\u001b[00mb.e11.BRCP85C5CNBDRD.f09_g16.005.cam.h0.TS.200601-208012.nc\u001b[0m\n",
      "\u001b[00mb.e11.BRCP85C5CNBDRD.f09_g16.005.cam.h0.TS.208101-210012.nc\u001b[0m\n",
      "\u001b[00mb.e11.BRCP85C5CNBDRD.f09_g16.006.cam.h0.TS.200601-208012.nc\u001b[0m\n",
      "\u001b[00mb.e11.BRCP85C5CNBDRD.f09_g16.006.cam.h0.TS.208101-210012.nc\u001b[0m\n",
      "\u001b[00mb.e11.BRCP85C5CNBDRD.f09_g16.007.cam.h0.TS.200601-208012.nc\u001b[0m\n",
      "\u001b[00mb.e11.BRCP85C5CNBDRD.f09_g16.007.cam.h0.TS.208101-210012.nc\u001b[0m\n",
      "\u001b[00mb.e11.BRCP85C5CNBDRD.f09_g16.008.cam.h0.TS.200601-208012.nc\u001b[0m\n",
      "\u001b[00mb.e11.BRCP85C5CNBDRD.f09_g16.008.cam.h0.TS.208101-210012.nc\u001b[0m\n",
      "\u001b[00mb.e11.BRCP85C5CNBDRD.f09_g16.009.cam.h0.TS.200601-208012.nc\u001b[0m\n",
      "\u001b[00mb.e11.BRCP85C5CNBDRD.f09_g16.009.cam.h0.TS.208101-210012.nc\u001b[0m\n",
      "\u001b[00mb.e11.BRCP85C5CNBDRD.f09_g16.010.cam.h0.TS.200601-208012.nc\u001b[0m\n",
      "\u001b[00mb.e11.BRCP85C5CNBDRD.f09_g16.010.cam.h0.TS.208101-210012.nc\u001b[0m\n",
      "\u001b[00mb.e11.BRCP85C5CNBDRD.f09_g16.011.cam.h0.TS.200601-208012.nc\u001b[0m\n",
      "\u001b[00mb.e11.BRCP85C5CNBDRD.f09_g16.011.cam.h0.TS.208101-210012.nc\u001b[0m\n",
      "\u001b[00mb.e11.BRCP85C5CNBDRD.f09_g16.012.cam.h0.TS.200601-208012.nc\u001b[0m\n",
      "\u001b[00mb.e11.BRCP85C5CNBDRD.f09_g16.012.cam.h0.TS.208101-210012.nc\u001b[0m\n",
      "\u001b[00mb.e11.BRCP85C5CNBDRD.f09_g16.013.cam.h0.TS.200601-208012.nc\u001b[0m\n",
      "\u001b[00mb.e11.BRCP85C5CNBDRD.f09_g16.013.cam.h0.TS.208101-210012.nc\u001b[0m\n",
      "\u001b[00mb.e11.BRCP85C5CNBDRD.f09_g16.014.cam.h0.TS.200601-208012.nc\u001b[0m\n",
      "\u001b[00mb.e11.BRCP85C5CNBDRD.f09_g16.014.cam.h0.TS.208101-210012.nc\u001b[0m\n",
      "\u001b[00mb.e11.BRCP85C5CNBDRD.f09_g16.015.cam.h0.TS.200601-208012.nc\u001b[0m\n",
      "\u001b[00mb.e11.BRCP85C5CNBDRD.f09_g16.015.cam.h0.TS.208101-210012.nc\u001b[0m\n",
      "\u001b[00mb.e11.BRCP85C5CNBDRD.f09_g16.016.cam.h0.TS.200601-208012.nc\u001b[0m\n",
      "\u001b[00mb.e11.BRCP85C5CNBDRD.f09_g16.016.cam.h0.TS.208101-210012.nc\u001b[0m\n",
      "\u001b[00mb.e11.BRCP85C5CNBDRD.f09_g16.017.cam.h0.TS.200601-208012.nc\u001b[0m\n",
      "\u001b[00mb.e11.BRCP85C5CNBDRD.f09_g16.017.cam.h0.TS.208101-210012.nc\u001b[0m\n",
      "\u001b[00mb.e11.BRCP85C5CNBDRD.f09_g16.018.cam.h0.TS.200601-208012.nc\u001b[0m\n",
      "\u001b[00mb.e11.BRCP85C5CNBDRD.f09_g16.018.cam.h0.TS.208101-210012.nc\u001b[0m\n",
      "\u001b[00mb.e11.BRCP85C5CNBDRD.f09_g16.019.cam.h0.TS.200601-208012.nc\u001b[0m\n",
      "\u001b[00mb.e11.BRCP85C5CNBDRD.f09_g16.019.cam.h0.TS.208101-210012.nc\u001b[0m\n",
      "\u001b[00mb.e11.BRCP85C5CNBDRD.f09_g16.020.cam.h0.TS.200601-208012.nc\u001b[0m\n",
      "\u001b[00mb.e11.BRCP85C5CNBDRD.f09_g16.020.cam.h0.TS.208101-210012.nc\u001b[0m\n",
      "\u001b[00mb.e11.BRCP85C5CNBDRD.f09_g16.021.cam.h0.TS.200601-208012.nc\u001b[0m\n",
      "\u001b[00mb.e11.BRCP85C5CNBDRD.f09_g16.021.cam.h0.TS.208101-210012.nc\u001b[0m\n",
      "\u001b[00mb.e11.BRCP85C5CNBDRD.f09_g16.022.cam.h0.TS.200601-208012.nc\u001b[0m\n",
      "\u001b[00mb.e11.BRCP85C5CNBDRD.f09_g16.022.cam.h0.TS.208101-210012.nc\u001b[0m\n",
      "\u001b[00mb.e11.BRCP85C5CNBDRD.f09_g16.023.cam.h0.TS.200601-208012.nc\u001b[0m\n",
      "\u001b[00mb.e11.BRCP85C5CNBDRD.f09_g16.023.cam.h0.TS.208101-210012.nc\u001b[0m\n",
      "\u001b[00mb.e11.BRCP85C5CNBDRD.f09_g16.024.cam.h0.TS.200601-208012.nc\u001b[0m\n",
      "\u001b[00mb.e11.BRCP85C5CNBDRD.f09_g16.024.cam.h0.TS.208101-210012.nc\u001b[0m\n",
      "\u001b[00mb.e11.BRCP85C5CNBDRD.f09_g16.025.cam.h0.TS.200601-208012.nc\u001b[0m\n",
      "\u001b[00mb.e11.BRCP85C5CNBDRD.f09_g16.025.cam.h0.TS.208101-210012.nc\u001b[0m\n",
      "\u001b[00mb.e11.BRCP85C5CNBDRD.f09_g16.026.cam.h0.TS.200601-208012.nc\u001b[0m\n",
      "\u001b[00mb.e11.BRCP85C5CNBDRD.f09_g16.026.cam.h0.TS.208101-210012.nc\u001b[0m\n",
      "\u001b[00mb.e11.BRCP85C5CNBDRD.f09_g16.027.cam.h0.TS.200601-208012.nc\u001b[0m\n",
      "\u001b[00mb.e11.BRCP85C5CNBDRD.f09_g16.027.cam.h0.TS.208101-210012.nc\u001b[0m\n",
      "\u001b[00mb.e11.BRCP85C5CNBDRD.f09_g16.028.cam.h0.TS.200601-208012.nc\u001b[0m\n",
      "\u001b[00mb.e11.BRCP85C5CNBDRD.f09_g16.028.cam.h0.TS.208101-210012.nc\u001b[0m\n",
      "\u001b[00mb.e11.BRCP85C5CNBDRD.f09_g16.029.cam.h0.TS.200601-208012.nc\u001b[0m\n",
      "\u001b[00mb.e11.BRCP85C5CNBDRD.f09_g16.029.cam.h0.TS.208101-210012.nc\u001b[0m\n",
      "\u001b[00mb.e11.BRCP85C5CNBDRD.f09_g16.030.cam.h0.TS.200601-208012.nc\u001b[0m\n",
      "\u001b[00mb.e11.BRCP85C5CNBDRD.f09_g16.030.cam.h0.TS.208101-210012.nc\u001b[0m\n",
      "\u001b[00mb.e11.BRCP85C5CNBDRD.f09_g16.031.cam.h0.TS.200601-208012.nc\u001b[0m\n",
      "\u001b[00mb.e11.BRCP85C5CNBDRD.f09_g16.031.cam.h0.TS.208101-210012.nc\u001b[0m\n",
      "\u001b[00mb.e11.BRCP85C5CNBDRD.f09_g16.032.cam.h0.TS.200601-208012.nc\u001b[0m\n",
      "\u001b[00mb.e11.BRCP85C5CNBDRD.f09_g16.032.cam.h0.TS.208101-210012.nc\u001b[0m\n",
      "\u001b[00mb.e11.BRCP85C5CNBDRD.f09_g16.033.cam.h0.TS.200601-208012.nc\u001b[0m\n",
      "\u001b[00mb.e11.BRCP85C5CNBDRD.f09_g16.033.cam.h0.TS.208101-210012.nc\u001b[0m\n",
      "\u001b[00mb.e11.BRCP85C5CNBDRD.f09_g16.034.cam.h0.TS.200601-210012.nc\u001b[0m\n",
      "\u001b[00mb.e11.BRCP85C5CNBDRD.f09_g16.035.cam.h0.TS.200601-210012.nc\u001b[0m\n",
      "\u001b[00mb.e11.BRCP85C5CNBDRD.f09_g16.101.cam.h0.TS.200601-210012.nc\u001b[0m\n",
      "\u001b[00mb.e11.BRCP85C5CNBDRD.f09_g16.102.cam.h0.TS.200601-210012.nc\u001b[0m\n",
      "\u001b[00mb.e11.BRCP85C5CNBDRD.f09_g16.103.cam.h0.TS.200601-210012.nc\u001b[0m\n",
      "\u001b[00mb.e11.BRCP85C5CNBDRD.f09_g16.104.cam.h0.TS.200601-210012.nc\u001b[0m\n",
      "\u001b[00mb.e11.BRCP85C5CNBDRD.f09_g16.105.cam.h0.TS.200601-210012.nc\u001b[0m\n",
      "\u001b[00me.e11.E1850C5CN.f09_g16.001.cam.h0.TS.010101-019912.nc\u001b[0m\n",
      "\u001b[00me.e11.E1850C5CN.f09_g16.001.cam.h0.TS.020001-029912.nc\u001b[0m\n",
      "\u001b[00me.e11.E1850C5CN.f09_g16.001.cam.h0.TS.030001-039912.nc\u001b[0m\n",
      "\u001b[00me.e11.E1850C5CN.f09_g16.001.cam.h0.TS.040001-049912.nc\u001b[0m\n",
      "\u001b[00me.e11.E1850C5CN.f09_g16.001.cam.h0.TS.050001-059912.nc\u001b[0m\n",
      "\u001b[00me.e11.E1850C5CN.f09_g16.001.cam.h0.TS.060001-069912.nc\u001b[0m\n",
      "\u001b[00me.e11.E1850C5CN.f09_g16.001.cam.h0.TS.070001-079912.nc\u001b[0m\n",
      "\u001b[00me.e11.E1850C5CN.f09_g16.001.cam.h0.TS.080001-089912.nc\u001b[0m\n",
      "\u001b[00me.e11.E1850C5CN.f09_g16.001.cam.h0.TS.090001-100112.nc\u001b[0m\n",
      "\u001b[00mf.e11.F1850C5CN.f09_f09.001.cam.h0.TS.000101-009912.nc\u001b[0m\n",
      "\u001b[00mf.e11.F1850C5CN.f09_f09.001.cam.h0.TS.010001-019912.nc\u001b[0m\n",
      "\u001b[00mf.e11.F1850C5CN.f09_f09.001.cam.h0.TS.020001-029912.nc\u001b[0m\n",
      "\u001b[00mf.e11.F1850C5CN.f09_f09.001.cam.h0.TS.030001-039912.nc\u001b[0m\n",
      "\u001b[00mf.e11.F1850C5CN.f09_f09.001.cam.h0.TS.040001-049912.nc\u001b[0m\n",
      "\u001b[00mf.e11.F1850C5CN.f09_f09.001.cam.h0.TS.050001-059912.nc\u001b[0m\n",
      "\u001b[00mf.e11.F1850C5CN.f09_f09.001.cam.h0.TS.060001-069912.nc\u001b[0m\n",
      "\u001b[00mf.e11.F1850C5CN.f09_f09.001.cam.h0.TS.070001-079912.nc\u001b[0m\n",
      "\u001b[00mf.e11.F1850C5CN.f09_f09.001.cam.h0.TS.080001-089912.nc\u001b[0m\n",
      "\u001b[00mf.e11.F1850C5CN.f09_f09.001.cam.h0.TS.090001-099912.nc\u001b[0m\n",
      "\u001b[00mf.e11.F1850C5CN.f09_f09.001.cam.h0.TS.100001-109912.nc\u001b[0m\n",
      "\u001b[00mf.e11.F1850C5CN.f09_f09.001.cam.h0.TS.110001-119912.nc\u001b[0m\n",
      "\u001b[00mf.e11.F1850C5CN.f09_f09.001.cam.h0.TS.120001-129912.nc\u001b[0m\n",
      "\u001b[00mf.e11.F1850C5CN.f09_f09.001.cam.h0.TS.130001-139912.nc\u001b[0m\n",
      "\u001b[00mf.e11.F1850C5CN.f09_f09.001.cam.h0.TS.140001-149912.nc\u001b[0m\n",
      "\u001b[00mf.e11.F1850C5CN.f09_f09.001.cam.h0.TS.150001-159912.nc\u001b[0m\n",
      "\u001b[00mf.e11.F1850C5CN.f09_f09.001.cam.h0.TS.160001-169912.nc\u001b[0m\n",
      "\u001b[00mf.e11.F1850C5CN.f09_f09.001.cam.h0.TS.170001-179912.nc\u001b[0m\n",
      "\u001b[00mf.e11.F1850C5CN.f09_f09.001.cam.h0.TS.180001-189912.nc\u001b[0m\n",
      "\u001b[00mf.e11.F1850C5CN.f09_f09.001.cam.h0.TS.190001-199912.nc\u001b[0m\n",
      "\u001b[00mf.e11.F1850C5CN.f09_f09.001.cam.h0.TS.200001-209912.nc\u001b[0m\n",
      "\u001b[00mf.e11.F1850C5CN.f09_f09.001.cam.h0.TS.210001-219912.nc\u001b[0m\n",
      "\u001b[00mf.e11.F1850C5CN.f09_f09.001.cam.h0.TS.220001-229912.nc\u001b[0m\n",
      "\u001b[00mf.e11.F1850C5CN.f09_f09.001.cam.h0.TS.230001-239912.nc\u001b[0m\n",
      "\u001b[00mf.e11.F1850C5CN.f09_f09.001.cam.h0.TS.240001-249912.nc\u001b[0m\n",
      "\u001b[00mf.e11.F1850C5CN.f09_f09.001.cam.h0.TS.250001-260012.nc\u001b[0m\n",
      "\u001b[00mf.e11.F1850C5CNTVSST.f09_f09.002.cam.h0.TS.040101-050012.nc\u001b[0m\n",
      "\u001b[00mf.e11.FAMIPC5CN.f09_f09.historical.toga.ens01.cam.h0.TS.188001-200512.nc\u001b[0m\n",
      "\u001b[00mf.e11.FAMIPC5CN.f09_f09.historical.toga.ens02.cam.h0.TS.188001-200512.nc\u001b[0m\n",
      "\u001b[00mf.e11.FAMIPC5CN.f09_f09.historical.toga.ens03.cam.h0.TS.188001-200512.nc\u001b[0m\n",
      "\u001b[00mf.e11.FAMIPC5CN.f09_f09.historical.toga.ens04.cam.h0.TS.188001-200512.nc\u001b[0m\n",
      "\u001b[00mf.e11.FAMIPC5CN.f09_f09.historical.toga.ens05.cam.h0.TS.188001-200512.nc\u001b[0m\n",
      "\u001b[00mf.e11.FAMIPC5CN.f09_f09.historical.toga.ens06.cam.h0.TS.188001-200512.nc\u001b[0m\n",
      "\u001b[00mf.e11.FAMIPC5CN.f09_f09.historical.toga.ens07.cam.h0.TS.188001-200512.nc\u001b[0m\n",
      "\u001b[00mf.e11.FAMIPC5CN.f09_f09.historical.toga.ens08.cam.h0.TS.188001-200512.nc\u001b[0m\n",
      "\u001b[00mf.e11.FAMIPC5CN.f09_f09.historical.toga.ens09.cam.h0.TS.188001-200512.nc\u001b[0m\n",
      "\u001b[00mf.e11.FAMIPC5CN.f09_f09.historical.toga.ens10.cam.h0.TS.188001-200512.nc\u001b[0m\n",
      "\u001b[00mf.e11.FAMIPC5CN.f09_f09.rcp85.toga.ens01.cam.h0.TS.200601-201412.nc\u001b[0m\n",
      "\u001b[00mf.e11.FAMIPC5CN.f09_f09.rcp85.toga.ens02.cam.h0.TS.200601-201412.nc\u001b[0m\n",
      "\u001b[00mf.e11.FAMIPC5CN.f09_f09.rcp85.toga.ens03.cam.h0.TS.200601-201412.nc\u001b[0m\n",
      "\u001b[00mf.e11.FAMIPC5CN.f09_f09.rcp85.toga.ens04.cam.h0.TS.200601-201412.nc\u001b[0m\n",
      "\u001b[00mf.e11.FAMIPC5CN.f09_f09.rcp85.toga.ens05.cam.h0.TS.200601-201412.nc\u001b[0m\n",
      "\u001b[00mf.e11.FAMIPC5CN.f09_f09.rcp85.toga.ens06.cam.h0.TS.200601-201412.nc\u001b[0m\n",
      "\u001b[00mf.e11.FAMIPC5CN.f09_f09.rcp85.toga.ens07.cam.h0.TS.200601-201412.nc\u001b[0m\n",
      "\u001b[00mf.e11.FAMIPC5CN.f09_f09.rcp85.toga.ens08.cam.h0.TS.200601-201412.nc\u001b[0m\n",
      "\u001b[00mf.e11.FAMIPC5CN.f09_f09.rcp85.toga.ens09.cam.h0.TS.200601-201412.nc\u001b[0m\n",
      "\u001b[00mf.e11.FAMIPC5CN.f09_f09.rcp85.toga.ens10.cam.h0.TS.200601-201412.nc\u001b[0m\n"
     ]
    }
   ],
   "source": [
    "ls {root_dir}"
   ]
  },
  {
   "cell_type": "markdown",
   "metadata": {},
   "source": [
    "## Case 1: `b.e11.BRCP85C5CNBDRD`\n",
    "\n",
    "For this case, there are two time ranges for each ensemble:\n",
    "- `2006-01 -> 2080-12`\n",
    "- `2080-01 -> 2100-12`"
   ]
  },
  {
   "cell_type": "code",
   "execution_count": 90,
   "metadata": {},
   "outputs": [],
   "source": [
    "CASE = 'b.e11.BRCP85C5CNBDRD.f09_g16'"
   ]
  },
  {
   "cell_type": "code",
   "execution_count": 91,
   "metadata": {},
   "outputs": [],
   "source": [
    "list_1 = sorted(root_dir.glob(\"b.e11.BRCP85C5CNBDRD.f09_g16.???.cam.h0.*.200601-208012*\"))\n",
    "list_2 = sorted(root_dir.glob(\"b.e11.BRCP85C5CNBDRD.f09_g16.???.cam.h0.*.208101-210012*\"))"
   ]
  },
  {
   "cell_type": "markdown",
   "metadata": {},
   "source": [
    "We are going to read these files in three steps:\n",
    "\n",
    "- Step 1: Map files in `list_1` and `list_2` for each ensemble in a list of tuples where each tuple contains files for each ensemble for the two time ranges.\n",
    "- Step 2: Loop through the resulting list from step 1, and read those files into a list of datasets. Under the hood, xarray concatenates files for each ensemble in one dataset.\n",
    "- Step 3: Concatenate list of datasets from step 2 into one xarray dataset. We concatenate these datasets along the `ensemble` dimension."
   ]
  },
  {
   "cell_type": "markdown",
   "metadata": {},
   "source": [
    "**Step 1**\n",
    "\n",
    "Map files in `list_1` and `list_2` for each ensemble in a list of tuples where each tuple contains files for each ensemble for the two time ranges."
   ]
  },
  {
   "cell_type": "code",
   "execution_count": 92,
   "metadata": {},
   "outputs": [
    {
     "data": {
      "text/plain": [
       "(PosixPath('/glade/p_old/cesmLE/CESM-CAM5-BGC-LE/atm/proc/tseries/monthly/TS/b.e11.BRCP85C5CNBDRD.f09_g16.001.cam.h0.TS.200601-208012.nc'),\n",
       " PosixPath('/glade/p_old/cesmLE/CESM-CAM5-BGC-LE/atm/proc/tseries/monthly/TS/b.e11.BRCP85C5CNBDRD.f09_g16.001.cam.h0.TS.208101-210012.nc'))"
      ]
     },
     "execution_count": 92,
     "metadata": {},
     "output_type": "execute_result"
    }
   ],
   "source": [
    "case_1 = list(zip(list_1, list_2))\n",
    "case_1[0]"
   ]
  },
  {
   "cell_type": "code",
   "execution_count": 93,
   "metadata": {},
   "outputs": [
    {
     "data": {
      "text/plain": [
       "33"
      ]
     },
     "execution_count": 93,
     "metadata": {},
     "output_type": "execute_result"
    }
   ],
   "source": [
    "len(case_1)"
   ]
  },
  {
   "cell_type": "markdown",
   "metadata": {},
   "source": [
    "**Step 2**\n",
    "\n",
    "Loop through the resulting list from step 1, and read those files into a list of datasets. Under the hood, xarray concatenates files for each ensemble in one dataset."
   ]
  },
  {
   "cell_type": "code",
   "execution_count": 94,
   "metadata": {},
   "outputs": [
    {
     "data": {
      "text/plain": [
       "[<xarray.Dataset>\n",
       " Dimensions:       (ilev: 31, lat: 192, lev: 30, lon: 288, nbnd: 2, slat: 191, slon: 288, time: 1140)\n",
       " Coordinates:\n",
       "   * ilev          (ilev) float64 2.255 5.032 10.16 18.56 ... 967.5 985.1 1e+03\n",
       "   * lat           (lat) float64 -90.0 -89.06 -88.12 -87.17 ... 88.12 89.06 90.0\n",
       "   * lev           (lev) float64 3.643 7.595 14.36 24.61 ... 957.5 976.3 992.6\n",
       "   * lon           (lon) float64 0.0 1.25 2.5 3.75 ... 355.0 356.2 357.5 358.8\n",
       "   * slat          (slat) float64 -89.53 -88.59 -87.64 ... 87.64 88.59 89.53\n",
       "   * slon          (slon) float64 -0.625 0.625 1.875 3.125 ... 355.6 356.9 358.1\n",
       "   * time          (time) datetime64[ns] 2006-02-01 2006-03-01 ... 2101-01-01\n",
       " Dimensions without coordinates: nbnd\n",
       " Data variables:\n",
       "     P0            (time) float64 1e+05 1e+05 1e+05 1e+05 ... 1e+05 1e+05 1e+05\n",
       "     TS            (time, lat, lon) float32 dask.array<shape=(1140, 192, 288), chunksize=(900, 192, 288)>\n",
       "     ch4vmr        (time) float64 dask.array<shape=(1140,), chunksize=(900,)>\n",
       "     co2vmr        (time) float64 dask.array<shape=(1140,), chunksize=(900,)>\n",
       "     date          (time) int32 dask.array<shape=(1140,), chunksize=(900,)>\n",
       "     date_written  (time) |S8 dask.array<shape=(1140,), chunksize=(900,)>\n",
       "     datesec       (time) int32 dask.array<shape=(1140,), chunksize=(900,)>\n",
       "     f11vmr        (time) float64 dask.array<shape=(1140,), chunksize=(900,)>\n",
       "     f12vmr        (time) float64 dask.array<shape=(1140,), chunksize=(900,)>\n",
       "     gw            (time, lat) float64 dask.array<shape=(1140, 192), chunksize=(900, 192)>\n",
       "     hyai          (time, ilev) float64 dask.array<shape=(1140, 31), chunksize=(900, 31)>\n",
       "     hyam          (time, lev) float64 dask.array<shape=(1140, 30), chunksize=(900, 30)>\n",
       "     hybi          (time, ilev) float64 dask.array<shape=(1140, 31), chunksize=(900, 31)>\n",
       "     hybm          (time, lev) float64 dask.array<shape=(1140, 30), chunksize=(900, 30)>\n",
       "     mdt           (time) int32 1800 1800 1800 1800 1800 ... 1800 1800 1800 1800\n",
       "     n2ovmr        (time) float64 dask.array<shape=(1140,), chunksize=(900,)>\n",
       "     nbdate        (time) int32 20060101 20060101 20060101 ... 20060101 20060101\n",
       "     nbsec         (time) int32 0 0 0 0 0 0 0 0 0 0 0 0 ... 0 0 0 0 0 0 0 0 0 0 0\n",
       "     ndbase        (time) int32 0 0 0 0 0 0 0 0 0 0 0 0 ... 0 0 0 0 0 0 0 0 0 0 0\n",
       "     ndcur         (time) int32 dask.array<shape=(1140,), chunksize=(900,)>\n",
       "     nlon          (time, lat) int32 dask.array<shape=(1140, 192), chunksize=(900, 192)>\n",
       "     nsbase        (time) int32 0 0 0 0 0 0 0 0 0 0 0 0 ... 0 0 0 0 0 0 0 0 0 0 0\n",
       "     nscur         (time) int32 dask.array<shape=(1140,), chunksize=(900,)>\n",
       "     nsteph        (time) int32 dask.array<shape=(1140,), chunksize=(900,)>\n",
       "     ntrk          (time) int32 1 1 1 1 1 1 1 1 1 1 1 1 ... 1 1 1 1 1 1 1 1 1 1 1\n",
       "     ntrm          (time) int32 1 1 1 1 1 1 1 1 1 1 1 1 ... 1 1 1 1 1 1 1 1 1 1 1\n",
       "     ntrn          (time) int32 1 1 1 1 1 1 1 1 1 1 1 1 ... 1 1 1 1 1 1 1 1 1 1 1\n",
       "     sol_tsi       (time) float64 dask.array<shape=(1140,), chunksize=(900,)>\n",
       "     time_bnds     (time, nbnd) float64 dask.array<shape=(1140, 2), chunksize=(900, 2)>\n",
       "     time_written  (time) |S8 dask.array<shape=(1140,), chunksize=(900,)>\n",
       "     w_stag        (time, slat) float64 dask.array<shape=(1140, 191), chunksize=(900, 191)>\n",
       "     wnummax       (time, lat) int32 dask.array<shape=(1140, 192), chunksize=(900, 192)>\n",
       " Attributes:\n",
       "     Conventions:               CF-1.0\n",
       "     source:                    CAM\n",
       "     case:                      b.e11.BRCP85C5CNBDRD.f09_g16.001\n",
       "     title:                     UNSET\n",
       "     logname:                   mai\n",
       "     host:                      ys5218\n",
       "     Version:                   $Name$\n",
       "     revision_Id:               $Id$\n",
       "     initial_file:              b.e11.B20TRC5CNBDRD.f09_g16.001.cam.i.2006-01-...\n",
       "     topography_file:           /glade/p/cesm/cseg//inputdata/atm/cam/topo/USG...\n",
       "     history:                   Tue Aug 13 15:52:54 2013: /glade/apps/opt/nco/...\n",
       "     NCO:                       4.3.4\n",
       "     nco_openmp_thread_number:  1, <xarray.Dataset>\n",
       " Dimensions:       (ilev: 31, lat: 192, lev: 30, lon: 288, nbnd: 2, slat: 191, slon: 288, time: 1140)\n",
       " Coordinates:\n",
       "   * ilev          (ilev) float64 2.255 5.032 10.16 18.56 ... 967.5 985.1 1e+03\n",
       "   * lat           (lat) float64 -90.0 -89.06 -88.12 -87.17 ... 88.12 89.06 90.0\n",
       "   * lev           (lev) float64 3.643 7.595 14.36 24.61 ... 957.5 976.3 992.6\n",
       "   * lon           (lon) float64 0.0 1.25 2.5 3.75 ... 355.0 356.2 357.5 358.8\n",
       "   * slat          (slat) float64 -89.53 -88.59 -87.64 ... 87.64 88.59 89.53\n",
       "   * slon          (slon) float64 -0.625 0.625 1.875 3.125 ... 355.6 356.9 358.1\n",
       "   * time          (time) datetime64[ns] 2006-02-01 2006-03-01 ... 2101-01-01\n",
       " Dimensions without coordinates: nbnd\n",
       " Data variables:\n",
       "     P0            (time) float64 1e+05 1e+05 1e+05 1e+05 ... 1e+05 1e+05 1e+05\n",
       "     TS            (time, lat, lon) float32 dask.array<shape=(1140, 192, 288), chunksize=(900, 192, 288)>\n",
       "     ch4vmr        (time) float64 dask.array<shape=(1140,), chunksize=(900,)>\n",
       "     co2vmr        (time) float64 dask.array<shape=(1140,), chunksize=(900,)>\n",
       "     date          (time) int32 dask.array<shape=(1140,), chunksize=(900,)>\n",
       "     date_written  (time) |S8 dask.array<shape=(1140,), chunksize=(900,)>\n",
       "     datesec       (time) int32 dask.array<shape=(1140,), chunksize=(900,)>\n",
       "     f11vmr        (time) float64 dask.array<shape=(1140,), chunksize=(900,)>\n",
       "     f12vmr        (time) float64 dask.array<shape=(1140,), chunksize=(900,)>\n",
       "     gw            (time, lat) float64 dask.array<shape=(1140, 192), chunksize=(900, 192)>\n",
       "     hyai          (time, ilev) float64 dask.array<shape=(1140, 31), chunksize=(900, 31)>\n",
       "     hyam          (time, lev) float64 dask.array<shape=(1140, 30), chunksize=(900, 30)>\n",
       "     hybi          (time, ilev) float64 dask.array<shape=(1140, 31), chunksize=(900, 31)>\n",
       "     hybm          (time, lev) float64 dask.array<shape=(1140, 30), chunksize=(900, 30)>\n",
       "     mdt           (time) int32 1800 1800 1800 1800 1800 ... 1800 1800 1800 1800\n",
       "     n2ovmr        (time) float64 dask.array<shape=(1140,), chunksize=(900,)>\n",
       "     nbdate        (time) int32 20060101 20060101 20060101 ... 20060101 20060101\n",
       "     nbsec         (time) int32 0 0 0 0 0 0 0 0 0 0 0 0 ... 0 0 0 0 0 0 0 0 0 0 0\n",
       "     ndbase        (time) int32 0 0 0 0 0 0 0 0 0 0 0 0 ... 0 0 0 0 0 0 0 0 0 0 0\n",
       "     ndcur         (time) int32 dask.array<shape=(1140,), chunksize=(900,)>\n",
       "     nlon          (time, lat) int32 dask.array<shape=(1140, 192), chunksize=(900, 192)>\n",
       "     nsbase        (time) int32 0 0 0 0 0 0 0 0 0 0 0 0 ... 0 0 0 0 0 0 0 0 0 0 0\n",
       "     nscur         (time) int32 dask.array<shape=(1140,), chunksize=(900,)>\n",
       "     nsteph        (time) int32 dask.array<shape=(1140,), chunksize=(900,)>\n",
       "     ntrk          (time) int32 1 1 1 1 1 1 1 1 1 1 1 1 ... 1 1 1 1 1 1 1 1 1 1 1\n",
       "     ntrm          (time) int32 1 1 1 1 1 1 1 1 1 1 1 1 ... 1 1 1 1 1 1 1 1 1 1 1\n",
       "     ntrn          (time) int32 1 1 1 1 1 1 1 1 1 1 1 1 ... 1 1 1 1 1 1 1 1 1 1 1\n",
       "     sol_tsi       (time) float64 dask.array<shape=(1140,), chunksize=(900,)>\n",
       "     time_bnds     (time, nbnd) float64 dask.array<shape=(1140, 2), chunksize=(900, 2)>\n",
       "     time_written  (time) |S8 dask.array<shape=(1140,), chunksize=(900,)>\n",
       "     w_stag        (time, slat) float64 dask.array<shape=(1140, 191), chunksize=(900, 191)>\n",
       "     wnummax       (time, lat) int32 dask.array<shape=(1140, 192), chunksize=(900, 192)>\n",
       " Attributes:\n",
       "     Conventions:               CF-1.0\n",
       "     source:                    CAM\n",
       "     case:                      b.e11.BRCP85C5CNBDRD.f09_g16.002\n",
       "     title:                     UNSET\n",
       "     logname:                   mai\n",
       "     host:                      ys1246\n",
       "     Version:                   $Name$\n",
       "     revision_Id:               $Id$\n",
       "     initial_file:              b.e11.B20TRC5CNBDRD.f09_g16.002.cam.i.2006-01-...\n",
       "     topography_file:           /glade/p/cesm/cseg//inputdata/atm/cam/topo/USG...\n",
       "     history:                   Fri Aug 30 21:17:07 2013: /glade/apps/opt/nco/...\n",
       "     NCO:                       4.3.4\n",
       "     nco_openmp_thread_number:  1]"
      ]
     },
     "execution_count": 94,
     "metadata": {},
     "output_type": "execute_result"
    }
   ],
   "source": [
    "ds_list = [xr.open_mfdataset(item) for item in case_1]\n",
    "ds_list[:2]"
   ]
  },
  {
   "cell_type": "markdown",
   "metadata": {},
   "source": [
    "**Step 3**\n",
    "\n",
    "Concatenate list of datasets from step 2 into one xarray dataset. We concatenate these datasets along the `ensemble` dimension."
   ]
  },
  {
   "cell_type": "code",
   "execution_count": 96,
   "metadata": {},
   "outputs": [
    {
     "data": {
      "text/plain": [
       "<xarray.Dataset>\n",
       "Dimensions:       (ensemble: 33, ilev: 31, lat: 192, lev: 30, lon: 288, nbnd: 2, slat: 191, slon: 288, time: 1140)\n",
       "Coordinates:\n",
       "  * ilev          (ilev) float64 2.255 5.032 10.16 18.56 ... 967.5 985.1 1e+03\n",
       "  * lat           (lat) float64 -90.0 -89.06 -88.12 -87.17 ... 88.12 89.06 90.0\n",
       "  * lev           (lev) float64 3.643 7.595 14.36 24.61 ... 957.5 976.3 992.6\n",
       "  * lon           (lon) float64 0.0 1.25 2.5 3.75 ... 355.0 356.2 357.5 358.8\n",
       "  * slat          (slat) float64 -89.53 -88.59 -87.64 ... 87.64 88.59 89.53\n",
       "  * slon          (slon) float64 -0.625 0.625 1.875 3.125 ... 355.6 356.9 358.1\n",
       "  * time          (time) datetime64[ns] 2006-02-01 2006-03-01 ... 2101-01-01\n",
       "Dimensions without coordinates: ensemble, nbnd\n",
       "Data variables:\n",
       "    P0            (ensemble, time) float64 dask.array<shape=(33, 1140), chunksize=(1, 20)>\n",
       "    TS            (ensemble, time, lat, lon) float32 dask.array<shape=(33, 1140, 192, 288), chunksize=(1, 20, 192, 288)>\n",
       "    ch4vmr        (ensemble, time) float64 dask.array<shape=(33, 1140), chunksize=(1, 20)>\n",
       "    co2vmr        (ensemble, time) float64 dask.array<shape=(33, 1140), chunksize=(1, 20)>\n",
       "    date          (ensemble, time) int32 dask.array<shape=(33, 1140), chunksize=(1, 20)>\n",
       "    date_written  (ensemble, time) |S8 dask.array<shape=(33, 1140), chunksize=(1, 20)>\n",
       "    datesec       (ensemble, time) int32 dask.array<shape=(33, 1140), chunksize=(1, 20)>\n",
       "    f11vmr        (ensemble, time) float64 dask.array<shape=(33, 1140), chunksize=(1, 20)>\n",
       "    f12vmr        (ensemble, time) float64 dask.array<shape=(33, 1140), chunksize=(1, 20)>\n",
       "    gw            (ensemble, time, lat) float64 dask.array<shape=(33, 1140, 192), chunksize=(1, 20, 192)>\n",
       "    hyai          (ensemble, time, ilev) float64 dask.array<shape=(33, 1140, 31), chunksize=(1, 20, 31)>\n",
       "    hyam          (ensemble, time, lev) float64 dask.array<shape=(33, 1140, 30), chunksize=(1, 20, 30)>\n",
       "    hybi          (ensemble, time, ilev) float64 dask.array<shape=(33, 1140, 31), chunksize=(1, 20, 31)>\n",
       "    hybm          (ensemble, time, lev) float64 dask.array<shape=(33, 1140, 30), chunksize=(1, 20, 30)>\n",
       "    mdt           (ensemble, time) int32 dask.array<shape=(33, 1140), chunksize=(1, 20)>\n",
       "    n2ovmr        (ensemble, time) float64 dask.array<shape=(33, 1140), chunksize=(1, 20)>\n",
       "    nbdate        (ensemble, time) int32 dask.array<shape=(33, 1140), chunksize=(1, 20)>\n",
       "    nbsec         (ensemble, time) int32 dask.array<shape=(33, 1140), chunksize=(1, 20)>\n",
       "    ndbase        (ensemble, time) int32 dask.array<shape=(33, 1140), chunksize=(1, 20)>\n",
       "    ndcur         (ensemble, time) int32 dask.array<shape=(33, 1140), chunksize=(1, 20)>\n",
       "    nlon          (ensemble, time, lat) int32 dask.array<shape=(33, 1140, 192), chunksize=(1, 20, 192)>\n",
       "    nsbase        (ensemble, time) int32 dask.array<shape=(33, 1140), chunksize=(1, 20)>\n",
       "    nscur         (ensemble, time) int32 dask.array<shape=(33, 1140), chunksize=(1, 20)>\n",
       "    nsteph        (ensemble, time) int32 dask.array<shape=(33, 1140), chunksize=(1, 20)>\n",
       "    ntrk          (ensemble, time) int32 dask.array<shape=(33, 1140), chunksize=(1, 20)>\n",
       "    ntrm          (ensemble, time) int32 dask.array<shape=(33, 1140), chunksize=(1, 20)>\n",
       "    ntrn          (ensemble, time) int32 dask.array<shape=(33, 1140), chunksize=(1, 20)>\n",
       "    sol_tsi       (ensemble, time) float64 dask.array<shape=(33, 1140), chunksize=(1, 20)>\n",
       "    time_bnds     (ensemble, time, nbnd) float64 dask.array<shape=(33, 1140, 2), chunksize=(1, 20, 2)>\n",
       "    time_written  (ensemble, time) |S8 dask.array<shape=(33, 1140), chunksize=(1, 20)>\n",
       "    w_stag        (ensemble, time, slat) float64 dask.array<shape=(33, 1140, 191), chunksize=(1, 20, 191)>\n",
       "    wnummax       (ensemble, time, lat) int32 dask.array<shape=(33, 1140, 192), chunksize=(1, 20, 192)>\n",
       "Attributes:\n",
       "    Conventions:               CF-1.0\n",
       "    source:                    CAM\n",
       "    case:                      b.e11.BRCP85C5CNBDRD.f09_g16\n",
       "    title:                     UNSET\n",
       "    logname:                   mai\n",
       "    host:                      ys5218\n",
       "    Version:                   $Name$\n",
       "    revision_Id:               $Id$\n",
       "    initial_file:              b.e11.B20TRC5CNBDRD.f09_g16.001.cam.i.2006-01-...\n",
       "    topography_file:           /glade/p/cesm/cseg//inputdata/atm/cam/topo/USG...\n",
       "    history:                   Tue Aug 13 15:52:54 2013: /glade/apps/opt/nco/...\n",
       "    NCO:                       4.3.4\n",
       "    nco_openmp_thread_number:  1"
      ]
     },
     "execution_count": 96,
     "metadata": {},
     "output_type": "execute_result"
    }
   ],
   "source": [
    "dset = xr.concat(ds_list, dim='ensemble').chunk({'ensemble': 1, 'time': 20})\n",
    "dset.attrs['case'] = CASE\n",
    "dset"
   ]
  },
  {
   "cell_type": "code",
   "execution_count": 97,
   "metadata": {},
   "outputs": [],
   "source": [
    "output = f\"/glade/scratch/abanihi/data/AWS/lens/{CASE}.zarr\""
   ]
  },
  {
   "cell_type": "code",
   "execution_count": 98,
   "metadata": {},
   "outputs": [
    {
     "name": "stdout",
     "output_type": "stream",
     "text": [
      "CPU times: user 2min 30s, sys: 3.42 s, total: 2min 34s\n",
      "Wall time: 3min 55s\n"
     ]
    },
    {
     "data": {
      "text/plain": [
       "<xarray.backends.zarr.ZarrStore at 0x2aab04a75e80>"
      ]
     },
     "execution_count": 98,
     "metadata": {},
     "output_type": "execute_result"
    }
   ],
   "source": [
    "%time dset.to_zarr(output, mode='w')"
   ]
  },
  {
   "cell_type": "code",
   "execution_count": 99,
   "metadata": {},
   "outputs": [],
   "source": [
    "dset_zarr = xr.open_zarr(output)"
   ]
  },
  {
   "cell_type": "code",
   "execution_count": 110,
   "metadata": {},
   "outputs": [
    {
     "data": {
      "text/plain": [
       "<xarray.Dataset>\n",
       "Dimensions:       (ensemble: 33, ilev: 31, lat: 192, lev: 30, lon: 288, nbnd: 2, slat: 191, slon: 288, time: 1140)\n",
       "Coordinates:\n",
       "  * ilev          (ilev) float64 2.255 5.032 10.16 18.56 ... 967.5 985.1 1e+03\n",
       "  * lat           (lat) float64 -90.0 -89.06 -88.12 -87.17 ... 88.12 89.06 90.0\n",
       "  * lev           (lev) float64 3.643 7.595 14.36 24.61 ... 957.5 976.3 992.6\n",
       "  * lon           (lon) float64 0.0 1.25 2.5 3.75 ... 355.0 356.2 357.5 358.8\n",
       "  * slat          (slat) float64 -89.53 -88.59 -87.64 ... 87.64 88.59 89.53\n",
       "  * slon          (slon) float64 -0.625 0.625 1.875 3.125 ... 355.6 356.9 358.1\n",
       "  * time          (time) datetime64[ns] 2006-02-01 2006-03-01 ... 2101-01-01\n",
       "Dimensions without coordinates: ensemble, nbnd\n",
       "Data variables:\n",
       "    P0            (ensemble, time) float64 dask.array<shape=(33, 1140), chunksize=(1, 20)>\n",
       "    TS            (ensemble, time, lat, lon) float32 dask.array<shape=(33, 1140, 192, 288), chunksize=(1, 20, 192, 288)>\n",
       "    ch4vmr        (ensemble, time) float64 dask.array<shape=(33, 1140), chunksize=(1, 20)>\n",
       "    co2vmr        (ensemble, time) float64 dask.array<shape=(33, 1140), chunksize=(1, 20)>\n",
       "    date          (ensemble, time) int32 dask.array<shape=(33, 1140), chunksize=(1, 20)>\n",
       "    date_written  (ensemble, time) |S8 dask.array<shape=(33, 1140), chunksize=(1, 20)>\n",
       "    datesec       (ensemble, time) int32 dask.array<shape=(33, 1140), chunksize=(1, 20)>\n",
       "    f11vmr        (ensemble, time) float64 dask.array<shape=(33, 1140), chunksize=(1, 20)>\n",
       "    f12vmr        (ensemble, time) float64 dask.array<shape=(33, 1140), chunksize=(1, 20)>\n",
       "    gw            (ensemble, time, lat) float64 dask.array<shape=(33, 1140, 192), chunksize=(1, 20, 192)>\n",
       "    hyai          (ensemble, time, ilev) float64 dask.array<shape=(33, 1140, 31), chunksize=(1, 20, 31)>\n",
       "    hyam          (ensemble, time, lev) float64 dask.array<shape=(33, 1140, 30), chunksize=(1, 20, 30)>\n",
       "    hybi          (ensemble, time, ilev) float64 dask.array<shape=(33, 1140, 31), chunksize=(1, 20, 31)>\n",
       "    hybm          (ensemble, time, lev) float64 dask.array<shape=(33, 1140, 30), chunksize=(1, 20, 30)>\n",
       "    mdt           (ensemble, time) int32 dask.array<shape=(33, 1140), chunksize=(1, 20)>\n",
       "    n2ovmr        (ensemble, time) float64 dask.array<shape=(33, 1140), chunksize=(1, 20)>\n",
       "    nbdate        (ensemble, time) int32 dask.array<shape=(33, 1140), chunksize=(1, 20)>\n",
       "    nbsec         (ensemble, time) int32 dask.array<shape=(33, 1140), chunksize=(1, 20)>\n",
       "    ndbase        (ensemble, time) int32 dask.array<shape=(33, 1140), chunksize=(1, 20)>\n",
       "    ndcur         (ensemble, time) int32 dask.array<shape=(33, 1140), chunksize=(1, 20)>\n",
       "    nlon          (ensemble, time, lat) int32 dask.array<shape=(33, 1140, 192), chunksize=(1, 20, 192)>\n",
       "    nsbase        (ensemble, time) int32 dask.array<shape=(33, 1140), chunksize=(1, 20)>\n",
       "    nscur         (ensemble, time) int32 dask.array<shape=(33, 1140), chunksize=(1, 20)>\n",
       "    nsteph        (ensemble, time) int32 dask.array<shape=(33, 1140), chunksize=(1, 20)>\n",
       "    ntrk          (ensemble, time) int32 dask.array<shape=(33, 1140), chunksize=(1, 20)>\n",
       "    ntrm          (ensemble, time) int32 dask.array<shape=(33, 1140), chunksize=(1, 20)>\n",
       "    ntrn          (ensemble, time) int32 dask.array<shape=(33, 1140), chunksize=(1, 20)>\n",
       "    sol_tsi       (ensemble, time) float64 dask.array<shape=(33, 1140), chunksize=(1, 20)>\n",
       "    time_bnds     (ensemble, time, nbnd) float64 dask.array<shape=(33, 1140, 2), chunksize=(1, 20, 2)>\n",
       "    time_written  (ensemble, time) |S8 dask.array<shape=(33, 1140), chunksize=(1, 20)>\n",
       "    w_stag        (ensemble, time, slat) float64 dask.array<shape=(33, 1140, 191), chunksize=(1, 20, 191)>\n",
       "    wnummax       (ensemble, time, lat) int32 dask.array<shape=(33, 1140, 192), chunksize=(1, 20, 192)>\n",
       "Attributes:\n",
       "    Conventions:               CF-1.0\n",
       "    NCO:                       4.3.4\n",
       "    Version:                   $Name$\n",
       "    case:                      b.e11.BRCP85C5CNBDRD.f09_g16\n",
       "    history:                   Tue Aug 13 15:52:54 2013: /glade/apps/opt/nco/...\n",
       "    host:                      ys5218\n",
       "    initial_file:              b.e11.B20TRC5CNBDRD.f09_g16.001.cam.i.2006-01-...\n",
       "    logname:                   mai\n",
       "    nco_openmp_thread_number:  1\n",
       "    revision_Id:               $Id$\n",
       "    source:                    CAM\n",
       "    title:                     UNSET\n",
       "    topography_file:           /glade/p/cesm/cseg//inputdata/atm/cam/topo/USG..."
      ]
     },
     "execution_count": 110,
     "metadata": {},
     "output_type": "execute_result"
    }
   ],
   "source": [
    "dset_zarr"
   ]
  },
  {
   "cell_type": "code",
   "execution_count": 100,
   "metadata": {},
   "outputs": [
    {
     "name": "stdout",
     "output_type": "stream",
     "text": [
      "dataset size in GB 8.54\n",
      "\n"
     ]
    }
   ],
   "source": [
    "print('dataset size in GB {:0.2f}\\n'.format(dset_zarr.nbytes / 1e9))"
   ]
  },
  {
   "cell_type": "code",
   "execution_count": 101,
   "metadata": {},
   "outputs": [
    {
     "name": "stdout",
     "output_type": "stream",
     "text": [
      "4.7G\t/glade/scratch/abanihi/data/AWS/lens/b.e11.BRCP85C5CNBDRD.f09_g16.zarr/\n"
     ]
    }
   ],
   "source": [
    "!du -s /glade/scratch/abanihi/data/AWS/lens/b.e11.BRCP85C5CNBDRD.f09_g16.zarr/ -h"
   ]
  },
  {
   "cell_type": "code",
   "execution_count": 109,
   "metadata": {},
   "outputs": [
    {
     "name": "stdout",
     "output_type": "stream",
     "text": [
      "5.7G\n"
     ]
    }
   ],
   "source": [
    "!du  -ach /glade/p_old/cesmLE/CESM-CAM5-BGC-LE/atm/proc/tseries/monthly/TS/b.e11.BRCP85C5CNBDRD.f09_g16.???.cam.h0.* -h | tail -1 | cut -f 1"
   ]
  },
  {
   "cell_type": "code",
   "execution_count": null,
   "metadata": {},
   "outputs": [],
   "source": []
  }
 ],
 "metadata": {
  "kernelspec": {
   "display_name": "Python [conda env:pangeo]",
   "language": "python",
   "name": "conda-env-pangeo-py"
  },
  "language_info": {
   "codemirror_mode": {
    "name": "ipython",
    "version": 3
   },
   "file_extension": ".py",
   "mimetype": "text/x-python",
   "name": "python",
   "nbconvert_exporter": "python",
   "pygments_lexer": "ipython3",
   "version": "3.6.6"
  }
 },
 "nbformat": 4,
 "nbformat_minor": 2
}
