{
 "cells": [
  {
   "cell_type": "markdown",
   "metadata": {},
   "source": [
    "### Subset CORDEX files\n",
    "\n",
    "In order to better debug the zarrify process, this notebook loads a set of NA-CORDEX files that would eventually be merged into a Zarr store, subsets the files spatially to reduce their size, and saves them as NetCDF for eventual testing, processing, and conversion to Zarr."
   ]
  },
  {
   "cell_type": "code",
   "execution_count": null,
   "metadata": {},
   "outputs": [],
   "source": [
    "import xarray as xr\n",
    "import intake\n",
    "from tqdm.auto import tqdm\n",
    "import shutil \n",
    "import os"
   ]
  },
  {
   "cell_type": "code",
   "execution_count": null,
   "metadata": {},
   "outputs": [],
   "source": [
    "# It's safer to use a underscore separator, because NA-CORDEX grids have dashes.\n",
    "field_separator = '_'\n",
    "col = intake.open_esm_datastore(\"../../catalogs/glade-na-cordex.json\", sep=field_separator,)\n",
    "col"
   ]
  },
  {
   "cell_type": "code",
   "execution_count": null,
   "metadata": {},
   "outputs": [],
   "source": [
    "# Use the following query to gather all data for one variable.\n",
    "subset = col.search(variable='tasmax', scenario=['rcp85'], grid='NAM-22i', frequency='day')\n",
    "subset.df"
   ]
  },
  {
   "cell_type": "code",
   "execution_count": null,
   "metadata": {},
   "outputs": [],
   "source": [
    "# Show file contents for the first file, for visual verification.\n",
    "first_file = subset.df['path'][0]\n",
    "ds = xr.open_dataset(first_file)\n",
    "filename = os.path.basename(first_file)\n",
    "print(filename)\n",
    "print(ds)"
   ]
  },
  {
   "cell_type": "code",
   "execution_count": null,
   "metadata": {},
   "outputs": [],
   "source": [
    "# Show what happens when spatial subsetting is applied to this file. \n",
    "ds_subset = ds.isel(lat=[0,1], lon=[0,1])\n",
    "print(ds_subset)"
   ]
  },
  {
   "cell_type": "code",
   "execution_count": null,
   "metadata": {},
   "outputs": [],
   "source": [
    "# Iterate over all files and save the subsets.\n",
    "save_directory = '/glade/scratch/bonnland/na-cordex-subsets'\n",
    "\n",
    "files = subset.df['path']\n",
    "for file in files:\n",
    "    ds = xr.open_dataset(file)\n",
    "    ds_subset = ds.isel(lat=[0,1], lon=[0,1])\n",
    "    savefile = os.path.basename(file)\n",
    "    save_path = f'{save_directory}/subset_{savefile}'\n",
    "    ds_subset.to_netcdf(save_path)"
   ]
  },
  {
   "cell_type": "code",
   "execution_count": null,
   "metadata": {},
   "outputs": [],
   "source": []
  }
 ],
 "metadata": {
  "kernelspec": {
   "display_name": "Python [conda env:lens-conversion]",
   "language": "python",
   "name": "conda-env-lens-conversion-py"
  },
  "language_info": {
   "codemirror_mode": {
    "name": "ipython",
    "version": 3
   },
   "file_extension": ".py",
   "mimetype": "text/x-python",
   "name": "python",
   "nbconvert_exporter": "python",
   "pygments_lexer": "ipython3",
   "version": "3.8.2"
  }
 },
 "nbformat": 4,
 "nbformat_minor": 4
}
