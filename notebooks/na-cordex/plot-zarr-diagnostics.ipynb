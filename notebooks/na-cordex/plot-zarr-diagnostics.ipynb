{
 "cells": [
  {
   "cell_type": "markdown",
   "metadata": {},
   "source": [
    "## Make Diagnostic Plots for NA-CORDEX Zarr Stores"
   ]
  },
  {
   "cell_type": "code",
   "execution_count": null,
   "metadata": {},
   "outputs": [],
   "source": [
    "import xarray as xr\n",
    "\n",
    "#import shutil \n",
    "#import os\n",
    "#from functools import reduce\n",
    "import pprint\n",
    "import json\n",
    "#from operator import mul\n",
    "#import random\n",
    "\n",
    "#import numpy as np\n",
    "#import pandas as pd\n"
   ]
  },
  {
   "cell_type": "markdown",
   "metadata": {},
   "source": [
    "### Use Dask to Speed up Computations"
   ]
  },
  {
   "cell_type": "code",
   "execution_count": null,
   "metadata": {},
   "outputs": [],
   "source": [
    "import dask\n",
    "from ncar_jobqueue import NCARCluster\n",
    "\n",
    "# Processes is processes PER CORE.\n",
    "# This one works fine.\n",
    "#cluster = NCARCluster(cores=15, processes=1, memory='100GB', project='STDD0003')\n",
    "# This one also works, but occasionally hangs near the end.\n",
    "#cluster = NCARCluster(cores=10, processes=1, memory='50GB', project='STDD0003')\n",
    "\n",
    "num_jobs=30\n",
    "cluster = NCARCluster(cores=num_jobs, processes=1, memory='10GB', project='STDD0003')\n",
    "cluster.scale(jobs=num_jobs)\n",
    "\n",
    "from distributed import Client\n",
    "from distributed.utils import format_bytes\n",
    "client = Client(cluster)\n",
    "cluster"
   ]
  },
  {
   "cell_type": "markdown",
   "metadata": {},
   "source": [
    "### Run first over a single Zarr Store."
   ]
  },
  {
   "cell_type": "code",
   "execution_count": null,
   "metadata": {},
   "outputs": [],
   "source": [
    "# For now, make the Zarr output directory a global variable.\n",
    "dirout = '/glade/scratch/bonnland/na-cordex/zarr'\n",
    "\n",
    "from pathlib import Path\n",
    "p = Path(dirout)\n",
    "#stores = list(p.rglob(\"*.zarr\"))\n",
    "stores = list(p.rglob(\"tasmax*.zarr\"))\n",
    "for store in stores:\n",
    "    print(f'Opening {store}...')\n",
    "    try:\n",
    "        ds = xr.open_zarr(store.as_posix(), consolidated=True)\n",
    "        print('\\n')\n",
    "    except Exception as e:\n",
    "        print(e)\n",
    "    break\n",
    "ds"
   ]
  },
  {
   "cell_type": "markdown",
   "metadata": {},
   "source": [
    "### Gather Variable Names from the Zarr Store"
   ]
  },
  {
   "cell_type": "code",
   "execution_count": null,
   "metadata": {},
   "outputs": [],
   "source": [
    "data_vars = [vname for vname in ds.data_vars]\n",
    "\n",
    "member_names = ds.coords['member_id'].values\n",
    "\n",
    "numEnsembleMembers = member_names.size"
   ]
  },
  {
   "cell_type": "code",
   "execution_count": null,
   "metadata": {},
   "outputs": [],
   "source": []
  },
  {
   "cell_type": "code",
   "execution_count": null,
   "metadata": {},
   "outputs": [],
   "source": []
  },
  {
   "cell_type": "markdown",
   "metadata": {},
   "source": [
    "## Create Time Series Plots from Zarr Store"
   ]
  },
  {
   "cell_type": "code",
   "execution_count": null,
   "metadata": {},
   "outputs": [],
   "source": [
    "import matplotlib.pyplot as plt\n",
    "\n",
    "# Generate plot. \n",
    "#\n",
    "# With 30 workers, expect 1 minute walltime for computation and 1-2 minutes for plot rendering.\n",
    "#\n",
    "numPlotRows = numEnsembleMembers\n",
    "numPlotCols = 4\n",
    "\n",
    "figWidth = 200 #100 \n",
    "figHeight = 80\n",
    "\n",
    "linestyle = 'k.'\n",
    "linewidth = 0.5\n",
    "markersize = 0.5\n",
    "\n",
    "for var in data_vars:\n",
    "\n",
    "    fig, axs = plt.subplots(numPlotRows, numPlotCols, figsize=(figWidth,figHeight), sharey='col')\n",
    "\n",
    "    for index in range(numEnsembleMembers):\n",
    "        mem_id = member_names[index]\n",
    "        data_slice = ds[var].sel(member_id=mem_id)\n",
    "\n",
    "        data_agg = data_slice.min(dim=['lat', 'lon'])\n",
    "        axs[index, 0].plot(ds.time, data_agg, linewidth=linewidth)\n",
    "        axs[index, 0].plot(ds.time, data_agg, linestyle, markersize=markersize)\n",
    "        axs[index, 0].set_ylabel(mem_id, fontsize=15)\n",
    "\n",
    "        data_agg = data_slice.max(dim=['lat', 'lon'])\n",
    "        axs[index, 1].plot(ds.time, data_agg, linewidth=linewidth)\n",
    "        axs[index, 1].plot(ds.time, data_agg, linestyle, markersize=markersize)\n",
    "        axs[index, 1].set_ylabel(mem_id, fontsize=15)\n",
    "\n",
    "        data_agg = data_slice.mean(dim=['lat', 'lon'])\n",
    "        axs[index, 2].plot(ds.time, data_agg, linewidth=linewidth)\n",
    "        axs[index, 2].plot(ds.time, data_agg, linestyle, markersize=markersize)\n",
    "        axs[index, 2].set_ylabel(mem_id, fontsize=15)\n",
    "\n",
    "        data_agg = data_slice.std(dim=['lat', 'lon'])\n",
    "        axs[index, 3].plot(ds.time, data_agg, linewidth=linewidth)\n",
    "        axs[index, 3].plot(ds.time, data_agg, linestyle, markersize=markersize)\n",
    "        axs[index, 3].set_ylabel(mem_id, fontsize=15)\n",
    "       \n",
    "    \n",
    "    axs[0, 0].set_title(f'min({var})', fontsize=40)\n",
    "    axs[0, 1].set_title(f'max({var})', fontsize=40)\n",
    "    axs[0, 2].set_title(f'mean({var})', fontsize=40)\n",
    "    axs[0, 3].set_title(f'std({var})', fontsize=40)\n",
    "    \n",
    "\n",
    "    plt.suptitle(store, fontsize=50)\n",
    "    plt.tight_layout(pad=20.2, w_pad=5.5, h_pad=5.5)\n",
    "    plt.savefig(f'{var}_ts.pdf')\n",
    "\n"
   ]
  },
  {
   "cell_type": "markdown",
   "metadata": {},
   "source": [
    "### Create Spatial Plots from Zarr Store"
   ]
  },
  {
   "cell_type": "code",
   "execution_count": null,
   "metadata": {},
   "outputs": [],
   "source": [
    "import matplotlib.pyplot as plt\n",
    "\n",
    "# Generate plot. \n",
    "#\n",
    "# With 30 workers, expect 1 minute walltime for computation and 1-2 minutes for plot rendering.\n",
    "#\n",
    "\n",
    "numPlotRows = numEnsembleMembers\n",
    "numPlotCols = 4\n",
    "\n",
    "figWidth = 17 \n",
    "figHeight = 35\n",
    "\n",
    "\n",
    "for var in data_vars:\n",
    "\n",
    "    fig, axs = plt.subplots(numPlotRows, numPlotCols, figsize=(figWidth,figHeight), constrained_layout=True)\n",
    "\n",
    "    for index in range(numEnsembleMembers):\n",
    "        mem_id = member_names[index]\n",
    "        data_slice = ds[var].sel(member_id=mem_id)\n",
    "\n",
    "        data_agg = data_slice.min(dim='time')\n",
    "        pcm0 = axs[index, 0].imshow(data_agg, origin='lower')\n",
    "        axs[index, 0].set_ylabel(mem_id, fontsize=8)\n",
    "\n",
    "        data_agg = data_slice.max(dim='time')\n",
    "        pcm1 = axs[index, 1].imshow(data_agg, origin='lower')\n",
    "        axs[index, 1].set_ylabel(mem_id, fontsize=8)\n",
    "\n",
    "        data_agg = data_slice.mean(dim='time')\n",
    "        pcm2 = axs[index, 2].imshow(data_agg, origin='lower')\n",
    "        axs[index, 2].set_ylabel(mem_id, fontsize=8)\n",
    "\n",
    "        data_agg = data_slice.std(dim='time')\n",
    "        pcm3 = axs[index, 3].imshow(data_agg, origin='lower')\n",
    "        axs[index, 3].set_ylabel(mem_id, fontsize=8)\n",
    "       \n",
    "    \n",
    "    axs[0, 0].set_title(f'min({var})', fontsize=15)\n",
    "    axs[0, 1].set_title(f'max({var})', fontsize=15)\n",
    "    axs[0, 2].set_title(f'mean({var})', fontsize=15)\n",
    "    axs[0, 3].set_title(f'std({var})', fontsize=15)\n",
    "    \n",
    "    plt.colorbar(pcm0, ax = axs[:, 0], location='bottom', shrink=0.7)\n",
    "    plt.colorbar(pcm1, ax = axs[:, 1], location='bottom', shrink=0.7)\n",
    "    plt.colorbar(pcm2, ax = axs[:, 2], location='bottom', shrink=0.7)\n",
    "    plt.colorbar(pcm3, ax = axs[:, 3], location='bottom', shrink=0.7)\n",
    "\n",
    "    plt.suptitle(store, fontsize=20)\n",
    "    plt.savefig(f'{var}_maps.pdf')\n"
   ]
  },
  {
   "cell_type": "code",
   "execution_count": null,
   "metadata": {},
   "outputs": [],
   "source": []
  },
  {
   "cell_type": "code",
   "execution_count": null,
   "metadata": {},
   "outputs": [],
   "source": []
  },
  {
   "cell_type": "code",
   "execution_count": null,
   "metadata": {},
   "outputs": [],
   "source": []
  },
  {
   "cell_type": "markdown",
   "metadata": {},
   "source": [
    "### Release the workers."
   ]
  },
  {
   "cell_type": "code",
   "execution_count": null,
   "metadata": {},
   "outputs": [],
   "source": [
    "cluster.close()"
   ]
  },
  {
   "cell_type": "code",
   "execution_count": null,
   "metadata": {},
   "outputs": [],
   "source": []
  },
  {
   "cell_type": "code",
   "execution_count": null,
   "metadata": {},
   "outputs": [],
   "source": []
  },
  {
   "cell_type": "code",
   "execution_count": null,
   "metadata": {},
   "outputs": [],
   "source": []
  }
 ],
 "metadata": {
  "kernelspec": {
   "display_name": "Python 3",
   "language": "python",
   "name": "python3"
  },
  "language_info": {
   "codemirror_mode": {
    "name": "ipython",
    "version": 3
   },
   "file_extension": ".py",
   "mimetype": "text/x-python",
   "name": "python",
   "nbconvert_exporter": "python",
   "pygments_lexer": "ipython3",
   "version": "3.8.3"
  }
 },
 "nbformat": 4,
 "nbformat_minor": 4
}
