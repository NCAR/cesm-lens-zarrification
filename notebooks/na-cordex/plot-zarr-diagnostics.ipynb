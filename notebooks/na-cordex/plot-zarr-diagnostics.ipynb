{
 "cells": [
  {
   "cell_type": "markdown",
   "metadata": {},
   "source": [
    "## Make Diagnostic Plots for NA-CORDEX Zarr Stores"
   ]
  },
  {
   "cell_type": "code",
   "execution_count": null,
   "metadata": {},
   "outputs": [],
   "source": [
    "import xarray as xr\n",
    "\n",
    "import shutil \n",
    "import os\n",
    "from functools import reduce\n",
    "import pprint\n",
    "import json\n",
    "from operator import mul\n",
    "import random\n",
    "\n",
    "import numpy as np\n",
    "import pandas as pd\n"
   ]
  },
  {
   "cell_type": "markdown",
   "metadata": {},
   "source": [
    "### Use Dask to Speed up Computations"
   ]
  },
  {
   "cell_type": "code",
   "execution_count": null,
   "metadata": {},
   "outputs": [],
   "source": [
    "import dask\n",
    "from ncar_jobqueue import NCARCluster\n",
    "\n",
    "# Processes is processes PER CORE.\n",
    "# This one works fine.\n",
    "#cluster = NCARCluster(cores=15, processes=1, memory='100GB', project='STDD0003')\n",
    "# This one also works, but occasionally hangs near the end.\n",
    "#cluster = NCARCluster(cores=10, processes=1, memory='50GB', project='STDD0003')\n",
    "\n",
    "cluster = NCARCluster(cores=20, processes=1, memory='20GB', project='STDD0003')\n",
    "cluster.scale(jobs=20)\n",
    "\n",
    "from distributed import Client\n",
    "from distributed.utils import format_bytes\n",
    "client = Client(cluster)\n",
    "cluster"
   ]
  },
  {
   "cell_type": "markdown",
   "metadata": {},
   "source": [
    "### Run first over a single Zarr Store."
   ]
  },
  {
   "cell_type": "code",
   "execution_count": null,
   "metadata": {},
   "outputs": [],
   "source": [
    "# For now, make the Zarr output directory a global variable.\n",
    "dirout = '/glade/scratch/bonnland/na-cordex/zarr'\n",
    "\n",
    "from pathlib import Path\n",
    "p = Path(dirout)\n",
    "#stores = list(p.rglob(\"*.zarr\"))\n",
    "stores = list(p.rglob(\"tasmax*.zarr\"))\n",
    "for store in stores:\n",
    "    print(f'Opening {store}...')\n",
    "    try:\n",
    "        ds = xr.open_zarr(store.as_posix(), consolidated=True)\n",
    "        print('\\n')\n",
    "    except Exception as e:\n",
    "        print(e)\n",
    "    break\n",
    "ds"
   ]
  },
  {
   "cell_type": "code",
   "execution_count": null,
   "metadata": {},
   "outputs": [],
   "source": [
    "print(ds['member_id'].shape[0])"
   ]
  },
  {
   "cell_type": "code",
   "execution_count": null,
   "metadata": {},
   "outputs": [],
   "source": []
  },
  {
   "cell_type": "code",
   "execution_count": null,
   "metadata": {},
   "outputs": [],
   "source": [
    "numEnsembleMembers = ds['member_id'].shape[0]\n",
    "\n",
    "data_vars = [vname for vname in ds.data_vars]\n",
    "\n",
    "member_names = ds.coords['member_id'].values\n",
    "member_names"
   ]
  },
  {
   "cell_type": "code",
   "execution_count": null,
   "metadata": {},
   "outputs": [],
   "source": [
    "ds"
   ]
  },
  {
   "cell_type": "code",
   "execution_count": null,
   "metadata": {},
   "outputs": [],
   "source": [
    "import matplotlib.pyplot as plt\n",
    "\n",
    "# Generate plot (may take a while as many individual maps are generated)\n",
    "numPlotRows = numEnsembleMembers\n",
    "numPlotCols = 4\n",
    "\n",
    "sizeFactor = 3 #2 #4\n",
    "figWidth = 20 * sizeFactor\n",
    "figHeight = 30 * sizeFactor\n",
    "\n",
    "linestyle = 'k.'\n",
    "linewidth = 1 #0.5\n",
    "markersize = 1\n",
    "\n",
    "for var in data_vars:\n",
    "\n",
    "    fig, axs = plt.subplots(numPlotRows, numPlotCols, figsize=(figWidth,figHeight))\n",
    "\n",
    "    for index in range(numEnsembleMembers):\n",
    "        mem_id = member_names[index]\n",
    "        data_slice = ds[var].sel(member_id=mem_id)\n",
    "\n",
    "        data_agg = data_slice.min(dim=['lat', 'lon'])\n",
    "        axs[index, 0].plot(ds.time, data_agg, linewidth=linewidth)\n",
    "        #axs[index, 0].plot(ds.time, data_agg, linestyle, markersize=markersize)\n",
    "        axs[index, 0].set_title(f'min({var}), {mem_id}')\n",
    "\n",
    "        data_agg = data_slice.max(dim=['lat', 'lon'])\n",
    "        axs[index, 1].plot(ds.time, data_agg, linewidth=linewidth)\n",
    "        #axs[index, 1].plot(ds.time, data_agg, linestyle, markersize=markersize)\n",
    "        axs[index, 1].set_title(f'max({var}), {mem_id}')\n",
    "\n",
    "        data_agg = data_slice.mean(dim=['lat', 'lon'])\n",
    "        axs[index, 2].plot(ds.time, data_agg, linewidth=linewidth)\n",
    "        #axs[index, 2].plot(ds.time, data_agg, linestyle, markersize=markersize)\n",
    "        axs[index, 2].set_title(f'mean({var}), {mem_id}')\n",
    "\n",
    "        data_agg = data_slice.std(dim=['lat', 'lon'])\n",
    "        axs[index, 3].plot(ds.time, data_agg, linewidth=linewidth)\n",
    "        #axs[index, 3].plot(ds.time, data_agg, linestyle, markersize=markersize)\n",
    "        axs[index, 3].set_title(f'std({var}), {mem_id}')\n",
    "       \n",
    "    plt.suptitle(store, fontsize=50)\n",
    "    plt.savefig(f'{var}_ts.pdf')\n",
    "\n"
   ]
  },
  {
   "cell_type": "code",
   "execution_count": 68,
   "metadata": {},
   "outputs": [],
   "source": [
    "cluster.close()"
   ]
  },
  {
   "cell_type": "code",
   "execution_count": null,
   "metadata": {},
   "outputs": [],
   "source": []
  }
 ],
 "metadata": {
  "kernelspec": {
   "display_name": "Python 3",
   "language": "python",
   "name": "python3"
  },
  "language_info": {
   "codemirror_mode": {
    "name": "ipython",
    "version": 3
   },
   "file_extension": ".py",
   "mimetype": "text/x-python",
   "name": "python",
   "nbconvert_exporter": "python",
   "pygments_lexer": "ipython3",
   "version": "3.8.3"
  }
 },
 "nbformat": 4,
 "nbformat_minor": 4
}
