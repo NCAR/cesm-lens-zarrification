{
 "cells": [
  {
   "cell_type": "markdown",
   "metadata": {},
   "source": [
    "# Update Metadata in One or More Zarr Stores"
   ]
  },
  {
   "cell_type": "code",
   "execution_count": null,
   "metadata": {},
   "outputs": [],
   "source": [
    "import xarray as xr\n",
    "import numpy as np\n",
    "\n",
    "from pathlib import Path\n",
    "import os\n",
    "\n",
    "import pprint\n",
    "import json"
   ]
  },
  {
   "cell_type": "markdown",
   "metadata": {},
   "source": [
    "## Run These Cells for Dask Processing"
   ]
  },
  {
   "cell_type": "code",
   "execution_count": null,
   "metadata": {},
   "outputs": [],
   "source": [
    "import dask\n",
    "from ncar_jobqueue import NCARCluster\n",
    "\n",
    "# Processes is processes PER CORE.\n",
    "# This one works fine.\n",
    "#cluster = NCARCluster(cores=15, processes=1, memory='100GB', project='STDD0003')\n",
    "# This one also works, but occasionally hangs near the end.\n",
    "#cluster = NCARCluster(cores=10, processes=1, memory='50GB', project='STDD0003')\n",
    "\n",
    "num_jobs = 10\n",
    "walltime = \"2:00:00\"\n",
    "cluster = NCARCluster(cores=num_jobs, processes=1, memory='10GB', project='STDD0003', walltime=walltime)\n",
    "cluster.scale(jobs=num_jobs)\n",
    "\n",
    "from distributed import Client\n",
    "from distributed.utils import format_bytes\n",
    "client = Client(cluster)\n",
    "cluster"
   ]
  },
  {
   "cell_type": "code",
   "execution_count": null,
   "metadata": {},
   "outputs": [],
   "source": []
  },
  {
   "cell_type": "code",
   "execution_count": null,
   "metadata": {},
   "outputs": [],
   "source": [
    "# Evaluate this when done with running the notebook, to not waste extra core hours.\n",
    "cluster.close()"
   ]
  },
  {
   "cell_type": "markdown",
   "metadata": {},
   "source": [
    "## Metadata Processing Functions"
   ]
  },
  {
   "cell_type": "code",
   "execution_count": null,
   "metadata": {},
   "outputs": [],
   "source": [
    "def update_zarr_version(metadata_dict):\n",
    "    '''This is where the Zarr version string is set.'''\n",
    "    \n",
    "    # December 2020:  version 0.1\n",
    "    metadata_dict['zarr-version'] = \"0.1\"\n",
    "    \n",
    "    return metadata_dict"
   ]
  },
  {
   "cell_type": "code",
   "execution_count": null,
   "metadata": {},
   "outputs": [],
   "source": [
    "def update_global_metadata(metadata_dict):\n",
    "    '''Call relevant metadata update functions here.'''\n",
    "    \n",
    "    metadata_dict = update_zarr_version(metadata_dict)\n",
    "    \n",
    "    return metadata_dict"
   ]
  },
  {
   "cell_type": "markdown",
   "metadata": {},
   "source": [
    "### Input/Output Functions"
   ]
  },
  {
   "cell_type": "code",
   "execution_count": null,
   "metadata": {},
   "outputs": [],
   "source": [
    "def save_data(ds, store_path):\n",
    "    try:\n",
    "        ds.to_zarr(store_path, consolidated=True)\n",
    "        del ds\n",
    "    except Exception as e:\n",
    "        print(f\"Failed to write {store_path}: {e}\")"
   ]
  },
  {
   "cell_type": "code",
   "execution_count": null,
   "metadata": {},
   "outputs": [],
   "source": [
    "def zarr_check(store_path):\n",
    "    '''Make sure the zarr stores were properly written'''\n",
    "\n",
    "    p = Path(store_path)\n",
    "    stores = list(p.rglob(\"*.zarr\"))\n",
    "    #stores = list(p.rglob(\"tasmax.hist-rcp85.day.NAM-22i*.zarr\"))\n",
    "    for store in stores:\n",
    "        try:\n",
    "            ds = xr.open_zarr(store.as_posix(), consolidated=True)\n",
    "            print('\\n')\n",
    "            print(store)\n",
    "            print(ds)\n",
    "            #pprint.pprint(ds.attrs, width=150, compact=True)        \n",
    "        except Exception as e:\n",
    "            #print(e)\n",
    "            print(store)"
   ]
  },
  {
   "cell_type": "markdown",
   "metadata": {},
   "source": [
    "## Batch Process Zarr Stores"
   ]
  },
  {
   "cell_type": "code",
   "execution_count": null,
   "metadata": {},
   "outputs": [],
   "source": [
    "input_directory = '/glade/scratch/bonnland/na-cordex/zarr/'\n",
    "output_directory = '/glade/scratch/bonnland/na-cordex/zarr-scratch/'\n",
    "\n",
    "\n",
    "p = Path(input_directory)\n",
    "#input_stores = list(p.glob(f'*.zarr'))\n",
    "input_stores = list(p.glob(f'prec*.zarr'))\n",
    "\n",
    "WRITE_OUTPUT = True\n",
    "\n",
    "for store in input_stores:\n",
    "    store_path = store.as_posix()\n",
    "\n",
    "    # Determine the output store name and location.\n",
    "    output_store_name = store_path.split('/')[-1]\n",
    "    output_path = output_directory + output_store_name\n",
    "\n",
    "    print(f\"\\n\\nProcessing store {output_path}\")\n",
    "    if WRITE_OUTPUT:\n",
    "        # Produce output store if it does not exist yet\n",
    "        if os.path.exists(output_path):\n",
    "            # Store exists; skip to the next case.\n",
    "            continue\n",
    "\n",
    "    ds = xr.open_zarr(store_path, consolidated=True)\n",
    "    \n",
    "    ds.attrs = update_global_metadata(ds.attrs)\n",
    "    \n",
    "    #pprint.pprint(ds_out.attrs, width=100, compact=True)\n",
    "    \n",
    "    # Write the store.\n",
    "    print(f'\\n\\n  Writing store: {output_path}...')\n",
    "    save_data(ds, output_path)\n",
    "    "
   ]
  },
  {
   "cell_type": "code",
   "execution_count": null,
   "metadata": {},
   "outputs": [],
   "source": [
    "zarr_check(output_directory)"
   ]
  },
  {
   "cell_type": "code",
   "execution_count": null,
   "metadata": {},
   "outputs": [],
   "source": [
    "output_path"
   ]
  },
  {
   "cell_type": "markdown",
   "metadata": {},
   "source": [
    "### Scratch Area for Code Development and Testing"
   ]
  },
  {
   "cell_type": "code",
   "execution_count": null,
   "metadata": {},
   "outputs": [],
   "source": []
  },
  {
   "cell_type": "code",
   "execution_count": null,
   "metadata": {},
   "outputs": [],
   "source": [
    "ds = xr.open_dataset('/glade/collections/cdg/data/cordex/data/raw/NAM-22i/ann/CRCM5-UQAM/MPI-ESM-MR/hist/tasmin/tasmin.hist.MPI-ESM-MR.CRCM5-UQAM.ann.NAM-22i.raw.nc')\n",
    "ds"
   ]
  },
  {
   "cell_type": "code",
   "execution_count": null,
   "metadata": {},
   "outputs": [],
   "source": [
    "zarr_path = '/glade/scratch/bonnland/na-cordex/zarr/prec.eval.day.NAM-44i.raw.zarr'\n",
    "ds = xr.open_zarr(zarr_path, consolidated=True)\n",
    "ds"
   ]
  },
  {
   "cell_type": "code",
   "execution_count": null,
   "metadata": {},
   "outputs": [],
   "source": [
    "ds.attrs['zarr-version'] = \"0.1\"\n",
    "ds"
   ]
  },
  {
   "cell_type": "code",
   "execution_count": null,
   "metadata": {},
   "outputs": [],
   "source": [
    "type(ds.attrs['zarr-version'])"
   ]
  },
  {
   "cell_type": "code",
   "execution_count": null,
   "metadata": {},
   "outputs": [],
   "source": [
    "output_dir = '/glade/scratch/bonnland/na-cordex/zarr-scratch/'\n",
    "store_name = zarr_path.split('/')[-1]\n",
    "output_path = output_dir + store_name\n",
    "save_data(ds, output_path)"
   ]
  },
  {
   "cell_type": "code",
   "execution_count": null,
   "metadata": {},
   "outputs": [],
   "source": [
    "# Check to see if Zarr Stores were saved properly.\n",
    "zarr_check(output_dir)"
   ]
  },
  {
   "cell_type": "code",
   "execution_count": null,
   "metadata": {},
   "outputs": [],
   "source": []
  }
 ],
 "metadata": {
  "kernelspec": {
   "display_name": "Python 3",
   "language": "python",
   "name": "python3"
  },
  "language_info": {
   "codemirror_mode": {
    "name": "ipython",
    "version": 3
   },
   "file_extension": ".py",
   "mimetype": "text/x-python",
   "name": "python",
   "nbconvert_exporter": "python",
   "pygments_lexer": "ipython3",
   "version": "3.8.3"
  }
 },
 "nbformat": 4,
 "nbformat_minor": 4
}
