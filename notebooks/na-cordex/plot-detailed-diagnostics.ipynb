{
 "cells": [
  {
   "cell_type": "markdown",
   "metadata": {},
   "source": [
    "## Make Detailed, Individual Diagnostic Plots for NA-CORDEX Zarr Stores"
   ]
  },
  {
   "cell_type": "code",
   "execution_count": null,
   "metadata": {},
   "outputs": [],
   "source": [
    "import xarray as xr\n",
    "import numpy as np\n",
    "\n",
    "from matplotlib.backends.backend_pdf import PdfPages\n",
    "import matplotlib.pyplot as plt\n",
    "from pathlib import Path\n",
    "import os\n",
    "\n",
    "import pprint\n",
    "import json"
   ]
  },
  {
   "cell_type": "markdown",
   "metadata": {},
   "source": [
    "### Use Dask to Speed up Computations"
   ]
  },
  {
   "cell_type": "code",
   "execution_count": null,
   "metadata": {},
   "outputs": [],
   "source": [
    "import dask\n",
    "from ncar_jobqueue import NCARCluster\n",
    "\n",
    "# Processes is processes PER CORE.\n",
    "# This one works fine.\n",
    "#cluster = NCARCluster(cores=15, processes=1, memory='100GB', project='STDD0003')\n",
    "# This one also works, but occasionally hangs near the end.\n",
    "#cluster = NCARCluster(cores=10, processes=1, memory='50GB', project='STDD0003')\n",
    "\n",
    "num_jobs = 20  #10  #25\n",
    "walltime = \"2:00:00\"\n",
    "cluster = NCARCluster(cores=num_jobs, processes=1, memory='30GB', project='STDD0003', walltime=walltime)\n",
    "cluster.scale(jobs=num_jobs)\n",
    "\n",
    "from distributed import Client\n",
    "from distributed.utils import format_bytes\n",
    "client = Client(cluster)\n",
    "cluster"
   ]
  },
  {
   "cell_type": "markdown",
   "metadata": {},
   "source": [
    "## Plot Helper Functions"
   ]
  },
  {
   "cell_type": "markdown",
   "metadata": {},
   "source": [
    "#### Extract XArray metadata"
   ]
  },
  {
   "cell_type": "code",
   "execution_count": null,
   "metadata": {},
   "outputs": [],
   "source": [
    "def get_metadata_value(ds, field_name, member_id):\n",
    "    '''Extract metadata from an XArray dataset, whether it is in dictionary or string form.'''\n",
    "\n",
    "    try: \n",
    "        metadata = json.loads(ds.attrs[field_name])\n",
    "    except Exception as e:\n",
    "        metadata = ds.attrs[field_name]\n",
    "\n",
    "    if isinstance(metadata, dict):\n",
    "        # Check for deeper dictionary structure\n",
    "        if 'hist' in metadata.keys():\n",
    "            value = metadata['hist'][member_id]\n",
    "        else:\n",
    "            value = metadata[member_id]\n",
    "    else:\n",
    "        value = metadata\n",
    "        \n",
    "    return value"
   ]
  },
  {
   "cell_type": "markdown",
   "metadata": {},
   "source": [
    "#### Save subplot to PNG"
   ]
  },
  {
   "cell_type": "code",
   "execution_count": null,
   "metadata": {},
   "outputs": [],
   "source": [
    "def save_as_png(fig, plotdir, store_name, member_id, plot_type, dpi=400):\n",
    "    '''Save current figure as PNG and clear the plot.'''\n",
    "    \n",
    "    filename = f\"{plotdir}/{member_id.replace('.', '+')}.{store_name.replace('zarr', plot_type)}.png\"\n",
    "    fig.savefig(filename, dpi=dpi)\n",
    "    fig.clf()"
   ]
  },
  {
   "cell_type": "markdown",
   "metadata": {},
   "source": [
    "#### Create Single Map Plot"
   ]
  },
  {
   "cell_type": "code",
   "execution_count": null,
   "metadata": {},
   "outputs": [],
   "source": [
    "def plotMap(map_slice, lat_lon_values, date_object=None, member_id=None, ds=None, titleText=None):\n",
    "    '''Create a map plot on the given figure'''\n",
    "\n",
    "    colorbar_shrink = 0.6\n",
    "    colorbar_pad = 0.1\n",
    "\n",
    "    plt.imshow(map_slice, origin='lower')\n",
    "\n",
    "    titleString = ''\n",
    "\n",
    "    if ds:\n",
    "        titleString = get_metadata_value(ds, 'title', member_id)\n",
    "        data_var = list(ds.data_vars)[0]\n",
    "        units = ds.data_vars[data_var].attrs['units']\n",
    "        \n",
    "    if date_object:\n",
    "        titleString = titleString + f'\\nDate: {date_object.values.astype(str)[:10]},  Units: {units}'\n",
    "        \n",
    "    elif member_id:\n",
    "        startYear = ds.time.values[0].astype('datetime64[Y]')\n",
    "        endYear = ds.time.values[-1].astype('datetime64[Y]')\n",
    "        titleString = titleString + f'\\n{titleText} Over Period {startYear}-{endYear},  Units: {units}'\n",
    "     \n",
    "    plt.title(titleString, fontsize=14)\n",
    "\n",
    "    plt.ylabel('Latitude')\n",
    "    plt.xlabel('Longitude')\n",
    "    plt.xticks(lat_lon_values['lonIndexes'], lat_lon_values['lonLabels'])\n",
    "    plt.yticks(lat_lon_values['latIndexes'], lat_lon_values['latLabels'])\n",
    "\n",
    "    plt.colorbar(orientation='horizontal', shrink=colorbar_shrink, pad=colorbar_pad)    "
   ]
  },
  {
   "cell_type": "markdown",
   "metadata": {},
   "source": [
    "#### Return Lat/Lon Tick Mark Locations and Labels"
   ]
  },
  {
   "cell_type": "code",
   "execution_count": null,
   "metadata": {},
   "outputs": [],
   "source": [
    "def getLatLonValues(ds, latStart, latSpacing, lonStart, lonSpacing):\n",
    "    ''' Return the lat/lon coordinates from a dataset with a given start and spacing.\n",
    "        Start and spacing values are given as *percentages*, to allow for variable grid resolutions.'''\n",
    "    lat_lon_values = {}\n",
    "    \n",
    "    latLength = ds.lat.size\n",
    "    startIndex = np.round(latStart * latLength).astype(int)\n",
    "    spacing = np.round(latSpacing * latLength).astype(int)\n",
    "    lat_lon_values['latIndexes'] = np.arange(startIndex, latLength, spacing)    \n",
    "    latValues = ds.lat.values[startIndex:latLength:spacing]\n",
    "    lat_lon_values['latLabels'] = [\"%.0f\" % number for number in latValues]\n",
    "\n",
    "    lonLength = ds.lon.size\n",
    "    startIndex = np.round(lonStart * lonLength).astype(int)\n",
    "    spacing = np.round(lonSpacing * lonLength).astype(int)\n",
    "    lat_lon_values['lonIndexes'] = np.arange(startIndex, lonLength, spacing)\n",
    "    lonValues = ds.lon.values[startIndex:lonLength:spacing]\n",
    "    lat_lon_values['lonLabels'] = [\"%.0f\" % number for number in lonValues]\n",
    "    \n",
    "    return lat_lon_values"
   ]
  },
  {
   "cell_type": "markdown",
   "metadata": {},
   "source": [
    "## Main Plot Functions"
   ]
  },
  {
   "cell_type": "markdown",
   "metadata": {},
   "source": [
    "### Create Time Series Plots over Multiple Pages\n",
    "These also mark the locations of missing values."
   ]
  },
  {
   "cell_type": "code",
   "execution_count": null,
   "metadata": {},
   "outputs": [],
   "source": [
    "def plot_timeseries(ds, data_var, store_name, plotdir):\n",
    "    # Generate plot. \n",
    "    #\n",
    "    # With 30 workers, expect 1 minute walltime for computation and 1-2 minutes for plot rendering.\n",
    "    #\n",
    "    member_names = ds.coords['member_id'].values\n",
    "    numEnsembleMembers = member_names.size\n",
    "\n",
    "    # Make figure width a function of the time span length.\n",
    "    startYear = ds.time.values[0].astype('datetime64[Y]')\n",
    "    endYear = ds.time.values[-1].astype('datetime64[Y]')\n",
    "    scaleFactor = 0.75\n",
    "\n",
    "    figWidth = int(scaleFactor * (endYear - startYear))\n",
    "    figHeight = 6\n",
    "\n",
    "    linewidth = 0.5  \n",
    "    dpi = 100 #700\n",
    "        \n",
    "    fig = plt.figure(figsize=(figWidth, figHeight), constrained_layout=True)\n",
    "    \n",
    "    for mem_id in member_names:\n",
    "        data_slice = ds[data_var].sel(member_id=mem_id)\n",
    "        unit_string = ds[data_var].attrs['units']\n",
    "            \n",
    "        min_vals = data_slice.min(dim = ['lat', 'lon'])\n",
    "        max_vals = data_slice.max(dim = ['lat', 'lon'])\n",
    "        mean_vals = data_slice.mean(dim = ['lat', 'lon'])\n",
    "        std_vals = data_slice.std(dim = ['lat', 'lon'])\n",
    "\n",
    "        nan_indexes = np.isnan(min_vals)\n",
    "        nan_times = ds.time[nan_indexes]\n",
    "\n",
    "        plt.clf()\n",
    "        plt.plot(ds.time, max_vals, linewidth=linewidth, label='max', color='red')\n",
    "        plt.plot(ds.time, mean_vals, linewidth=linewidth, label='mean', color='black')\n",
    "        plt.plot(ds.time, min_vals, linewidth=linewidth, label='min', color='blue')\n",
    "        plt.fill_between(ds.time, (mean_vals - std_vals), (mean_vals + std_vals), color='grey', \n",
    "                         linewidth=0, label='std', alpha=0.5)\n",
    "            \n",
    "        ymin, ymax = plt.ylim()\n",
    "        rug_y = ymin + 0.01*(ymax-ymin)\n",
    "        plt.plot(nan_times, [rug_y]*len(nan_times), '|', color='m', label='missing')\n",
    "        titleString = get_metadata_value(ds, 'title', mem_id)\n",
    "        # Remove reference to \"Hist\" in the title\n",
    "        titleString = titleString.replace(' Hist ', ' ')\n",
    "        plt.title(titleString, fontsize=20)\n",
    "        \n",
    "        # Place the legend outside the plot, near upper right corner.\n",
    "        plt.legend(bbox_to_anchor=(1.002, 1), loc=\"upper left\")\n",
    "        plt.ylabel(unit_string)\n",
    "        plt.xlabel('Year')\n",
    "        \n",
    "        # Reduce x axis margins.\n",
    "        xm, ym = plt.margins()\n",
    "        plt.margins(0.005, ym)\n",
    "\n",
    "        save_as_png(fig, plotdir, store_name, mem_id, 'ts', dpi)\n"
   ]
  },
  {
   "cell_type": "markdown",
   "metadata": {},
   "source": [
    "#### Create Statistical Map Plots Over Multiple Pages"
   ]
  },
  {
   "cell_type": "code",
   "execution_count": null,
   "metadata": {},
   "outputs": [],
   "source": [
    "def plot_stat_maps(ds, data_var, store_name, plotdir):\n",
    "    # Generate plot. \n",
    "    #\n",
    "    # With 30 workers, expect 1 minute walltime for computation and 1-2 minutes for plot rendering.\n",
    "    #\n",
    "    member_names = ds.coords['member_id'].values\n",
    "    numEnsembleMembers = member_names.size\n",
    "\n",
    "    lat_lon_values = getLatLonValues(ds, 0.05, 0.31, 0.1, 0.2)\n",
    "\n",
    "    figWidth = 12 #15 #18 \n",
    "    figHeight = 8 #10 #12\n",
    "    dpi = 200\n",
    "\n",
    "    fig = plt.figure(figsize=(figWidth, figHeight))\n",
    "    \n",
    "    for mem_id in member_names:\n",
    "        data_slice = ds[data_var].sel(member_id=mem_id)\n",
    "\n",
    "        data_agg = data_slice.min(dim='time')\n",
    "        plotMap(data_agg, lat_lon_values, member_id=mem_id, ds=ds, titleText='Minimum')\n",
    "        save_as_png(fig, plotdir, store_name, mem_id, 'map-min', dpi)\n",
    "\n",
    "        data_agg = data_slice.max(dim='time')\n",
    "        plotMap(data_agg, lat_lon_values, member_id=mem_id, ds=ds, titleText='Maximum')\n",
    "        save_as_png(fig, plotdir, store_name, mem_id, 'map-max')\n",
    "\n",
    "        data_agg = data_slice.mean(dim='time')\n",
    "        plotMap(data_agg, lat_lon_values, member_id=mem_id, ds=ds, titleText='Mean')\n",
    "        save_as_png(fig, plotdir, store_name, mem_id, 'map-mean')\n",
    "\n",
    "        data_agg = data_slice.std(dim='time')\n",
    "        plotMap(data_agg, lat_lon_values, member_id=mem_id, ds=ds, titleText='Standard Deviation')\n",
    "        save_as_png(fig, plotdir, store_name, mem_id, 'map-std')\n"
   ]
  },
  {
   "cell_type": "markdown",
   "metadata": {},
   "source": [
    "#### Function Producing Maps of First, Middle, Last Timesteps"
   ]
  },
  {
   "cell_type": "code",
   "execution_count": null,
   "metadata": {},
   "outputs": [],
   "source": [
    "def getValidDateIndexes(member_slice):\n",
    "    '''Search for the first and last dates with finite values.'''\n",
    "    min_values = member_slice.min(dim = ['lat', 'lon'])\n",
    "    is_finite = np.isfinite(min_values)\n",
    "    finite_indexes = np.where(is_finite)\n",
    "    start_index = finite_indexes[0][0]\n",
    "    end_index = finite_indexes[0][-1]\n",
    "    #print(f'start ={start_index}, end={end_index}')\n",
    "    return start_index, end_index\n",
    "\n",
    "\n",
    "def plot_first_mid_last(ds, data_var, store_name, plotdir):\n",
    "    ''' Generate plots of first, middle and final time steps. '''\n",
    "    member_names = ds.coords['member_id'].values\n",
    "    numEnsembleMembers = member_names.size\n",
    "    \n",
    "    lat_lon_values = getLatLonValues(ds, 0.05, 0.31, 0.1, 0.2)\n",
    "\n",
    "    figWidth = 12 #8 #18 \n",
    "    figHeight = 8 #5 #12\n",
    "    dpi = 400\n",
    "\n",
    "    fig = plt.figure(figsize=(figWidth, figHeight))\n",
    "    \n",
    "    for mem_id in member_names:\n",
    "\n",
    "        data_slice = ds[data_var].sel(member_id=mem_id)\n",
    "            \n",
    "        start_index, end_index = getValidDateIndexes(data_slice)\n",
    "        midDateIndex = np.floor(len(ds.time) / 2).astype(int)\n",
    "\n",
    "        startDate = ds.time[start_index]\n",
    "        first_step = data_slice.sel(time=startDate) \n",
    "        plotMap(first_step, lat_lon_values, startDate, mem_id, ds=ds)\n",
    "        save_as_png(fig, plotdir, store_name, mem_id, 'first', dpi)\n",
    "\n",
    "        midDate = ds.time[midDateIndex]\n",
    "        mid_step = data_slice.sel(time=midDate)   \n",
    "        plotMap(mid_step, lat_lon_values, midDate, mem_id, ds=ds)\n",
    "        save_as_png(fig, plotdir, store_name, mem_id, 'middle', dpi)\n",
    "\n",
    "        endDate = ds.time[end_index]\n",
    "        last_step = data_slice.sel(time=endDate)            \n",
    "        plotMap(last_step, lat_lon_values, endDate, mem_id, ds=ds)\n",
    "        save_as_png(fig, plotdir, store_name, mem_id, 'last', dpi)\n"
   ]
  },
  {
   "cell_type": "markdown",
   "metadata": {},
   "source": [
    "### Loop over Zarr Stores in Directory and Make Plots."
   ]
  },
  {
   "cell_type": "code",
   "execution_count": null,
   "metadata": {},
   "outputs": [],
   "source": [
    "# For now, make the Zarr output directory a global variable.\n",
    "#dirout = '/glade/scratch/bonnland/na-cordex/zarr-demo'\n",
    "zarr_directory = '/glade/scratch/bonnland/na-cordex/zarr-publish/'\n",
    "plot_directory = '/glade/scratch/bonnland/na-cordex/zarr-plots-test/'\n",
    "\n",
    "p = Path(zarr_directory)\n",
    "stores = list(p.rglob(\"*.zarr\"))\n",
    "#stores = list(p.rglob(\"uas.rcp85.*.zarr\"))\n",
    "for store in stores:\n",
    "    print(f'Opening {store}...')\n",
    "    try:\n",
    "        ds = xr.open_zarr(store.as_posix(), consolidated=True)\n",
    "        print('\\n')\n",
    "    except Exception as e:\n",
    "        print(e)\n",
    "        continue\n",
    "    data_vars = [vname for vname in ds.data_vars]\n",
    "    data_var = data_vars[0]\n",
    "    store_name = store.as_posix().split('/')[-1]\n",
    "    \n",
    "    # Only produce plots that haven't been created already.  \n",
    "    plotdir = plot_directory + store_name\n",
    "    if not os.path.exists(plotdir):\n",
    "        os.makedirs(plotdir)\n",
    "    else:\n",
    "        # Plots exist; skip to the next case.\n",
    "        continue\n",
    "    \n",
    "    plot_stat_maps(ds, data_var, store_name, plotdir)\n",
    "    plot_first_mid_last(ds, data_var, store_name, plotdir)\n",
    "    plot_timeseries(ds, data_var, store_name, plotdir)\n",
    "    "
   ]
  },
  {
   "cell_type": "code",
   "execution_count": null,
   "metadata": {},
   "outputs": [],
   "source": []
  },
  {
   "cell_type": "code",
   "execution_count": null,
   "metadata": {},
   "outputs": [],
   "source": []
  },
  {
   "cell_type": "code",
   "execution_count": null,
   "metadata": {},
   "outputs": [],
   "source": []
  },
  {
   "cell_type": "markdown",
   "metadata": {},
   "source": [
    "### Release the workers."
   ]
  },
  {
   "cell_type": "code",
   "execution_count": null,
   "metadata": {},
   "outputs": [],
   "source": [
    "!date"
   ]
  },
  {
   "cell_type": "code",
   "execution_count": null,
   "metadata": {},
   "outputs": [],
   "source": [
    "cluster.close()"
   ]
  },
  {
   "cell_type": "code",
   "execution_count": null,
   "metadata": {},
   "outputs": [],
   "source": []
  },
  {
   "cell_type": "code",
   "execution_count": null,
   "metadata": {},
   "outputs": [],
   "source": []
  }
 ],
 "metadata": {
  "kernelspec": {
   "display_name": "Python 3",
   "language": "python",
   "name": "python3"
  },
  "language_info": {
   "codemirror_mode": {
    "name": "ipython",
    "version": 3
   },
   "file_extension": ".py",
   "mimetype": "text/x-python",
   "name": "python",
   "nbconvert_exporter": "python",
   "pygments_lexer": "ipython3",
   "version": "3.8.6"
  }
 },
 "nbformat": 4,
 "nbformat_minor": 4
}
